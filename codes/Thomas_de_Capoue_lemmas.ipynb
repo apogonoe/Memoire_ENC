{
 "cells": [
  {
   "cell_type": "code",
   "execution_count": 11,
   "id": "65daf013",
   "metadata": {},
   "outputs": [],
   "source": [
    "import pandas as pd\n",
    "import os\n",
    "import re\n",
    "import string"
   ]
  },
  {
   "cell_type": "code",
   "execution_count": 2,
   "id": "de6633bc",
   "metadata": {},
   "outputs": [],
   "source": [
    "punctuations = string.punctuation"
   ]
  },
  {
   "cell_type": "code",
   "execution_count": 37,
   "id": "420b997a",
   "metadata": {},
   "outputs": [],
   "source": [
    "path = '/home/noe/Documents/2022-2023/ENC/Mémoire/Dataframes/Thomas_de_capoue.xlsx'"
   ]
  },
  {
   "cell_type": "code",
   "execution_count": 38,
   "id": "cf4236a8",
   "metadata": {},
   "outputs": [
    {
     "data": {
      "text/plain": [
       "0        0\n",
       "1        1\n",
       "2        2\n",
       "3        3\n",
       "4        4\n",
       "      ... \n",
       "619    619\n",
       "620    620\n",
       "621    621\n",
       "622    622\n",
       "623    623\n",
       "Name: Unnamed: 0, Length: 624, dtype: int64"
      ]
     },
     "execution_count": 38,
     "metadata": {},
     "output_type": "execute_result"
    }
   ],
   "source": [
    "df = pd.read_excel(path)\n",
    "df.pop('Unnamed: 0')"
   ]
  },
  {
   "cell_type": "code",
   "execution_count": 5,
   "id": "48deec90",
   "metadata": {},
   "outputs": [],
   "source": [
    "def clean_text(string):\n",
    "    first = re.sub(\"\\n\",\"\",string)\n",
    "    new_string = re.sub(\"[0-9]. \",'',first)\n",
    "    new_string_2 = re.sub('- ','',new_string)\n",
    "    final = re.sub(' . ',' ', new_string_2)\n",
    "    final2 = re.sub('-, ','',final)\n",
    "    final3 = re.sub('[0-9]','',final2)\n",
    "    return final3\n",
    "def clean_column(text):\n",
    "    text = text.strip()\n",
    "    text = re.sub(r\"\\s+\", \" \", text)\n",
    "    return text\n",
    "def remove_punctuation(list_of_strings):\n",
    "    translator = str.maketrans('', '', punctuations)\n",
    "    new_list = []\n",
    "    for string in list_of_strings:\n",
    "        new_string = string.translate(translator)\n",
    "        new_list.append(new_string)\n",
    "    return new_list"
   ]
  },
  {
   "cell_type": "code",
   "execution_count": 6,
   "id": "4fd7e406",
   "metadata": {},
   "outputs": [],
   "source": [
    "df['Text'] = df['Text'].apply(clean_text).apply(clean_column)"
   ]
  },
  {
   "cell_type": "code",
   "execution_count": 7,
   "id": "0fa40b35",
   "metadata": {},
   "outputs": [
    {
     "name": "stderr",
     "output_type": "stream",
     "text": [
      "/home/noe/python/miniconda/envs/coursnlp/lib/python3.7/site-packages/ipykernel_launcher.py:1: FutureWarning: The default value of regex will change from True to False in a future version. In addition, single character regular expressions will *not* be treated as literal strings when regex=True.\n",
      "  \"\"\"Entry point for launching an IPython kernel.\n",
      "/home/noe/python/miniconda/envs/coursnlp/lib/python3.7/site-packages/ipykernel_launcher.py:3: FutureWarning: The default value of regex will change from True to False in a future version. In addition, single character regular expressions will *not* be treated as literal strings when regex=True.\n",
      "  This is separate from the ipykernel package so we can avoid doing imports until\n"
     ]
    }
   ],
   "source": [
    "df['Text'] = df['Text'].str.replace('.', '')\n",
    "df['Text'] = df['Text'].str.replace(';', '')\n",
    "df['Text'] = df['Text'].str.replace('?', '')\n",
    "df['Text'] = df['Text'].str.replace(',', '')"
   ]
  },
  {
   "cell_type": "code",
   "execution_count": 27,
   "id": "88a20ce6",
   "metadata": {},
   "outputs": [
    {
     "data": {
      "text/plain": [
       "0      Miranda tuis sensibus nostra venit epistola ut...\n",
       "1      Non Noémi id est pulchra sed Mara hoc est amar...\n",
       "2      Prudenter precidenda sunt mala ut salubriter b...\n",
       "3      Morditiva lenitivis admiscet interdum industri...\n",
       "4      Mercennarium habet sub umbra pastoris ecclesia...\n",
       "                             ...                        \n",
       "619    Sanctissimo in Christo patri et domino  summo ...\n",
       "620    Monasterio nostro vacante cum nos omnes ad quo...\n",
       "621    Super electione et postulatione in  ecclesia c...\n",
       "622    Cum nunquam melius ecclesiarum consulatur prof...\n",
       "623    Sperantes ut sedes apostolica que digna dignis...\n",
       "Name: Text, Length: 624, dtype: object"
      ]
     },
     "execution_count": 27,
     "metadata": {},
     "output_type": "execute_result"
    }
   ],
   "source": [
    "df['Text']"
   ]
  },
  {
   "cell_type": "code",
   "execution_count": 32,
   "id": "7e6deb82",
   "metadata": {},
   "outputs": [],
   "source": [
    "path2 = '/home/noe/Documents/2022-2023/ENC/Mémoire/Thomas_de_Capoue/lemma/'\n",
    "os.chdir(path2)"
   ]
  },
  {
   "cell_type": "code",
   "execution_count": 8,
   "id": "d550acb0",
   "metadata": {},
   "outputs": [
    {
     "name": "stderr",
     "output_type": "stream",
     "text": [
      "fatal: HEAD n'est pas un nom d'objet valide\n"
     ]
    },
    {
     "ename": "KeyError",
     "evalue": "624",
     "output_type": "error",
     "traceback": [
      "\u001b[0;31m---------------------------------------------------------------------------\u001b[0m",
      "\u001b[0;31mValueError\u001b[0m                                Traceback (most recent call last)",
      "\u001b[0;32m~/python/miniconda/envs/coursnlp/lib/python3.7/site-packages/pandas/core/indexes/range.py\u001b[0m in \u001b[0;36mget_loc\u001b[0;34m(self, key, method, tolerance)\u001b[0m\n\u001b[1;32m    384\u001b[0m                 \u001b[0;32mtry\u001b[0m\u001b[0;34m:\u001b[0m\u001b[0;34m\u001b[0m\u001b[0;34m\u001b[0m\u001b[0m\n\u001b[0;32m--> 385\u001b[0;31m                     \u001b[0;32mreturn\u001b[0m \u001b[0mself\u001b[0m\u001b[0;34m.\u001b[0m\u001b[0m_range\u001b[0m\u001b[0;34m.\u001b[0m\u001b[0mindex\u001b[0m\u001b[0;34m(\u001b[0m\u001b[0mnew_key\u001b[0m\u001b[0;34m)\u001b[0m\u001b[0;34m\u001b[0m\u001b[0;34m\u001b[0m\u001b[0m\n\u001b[0m\u001b[1;32m    386\u001b[0m                 \u001b[0;32mexcept\u001b[0m \u001b[0mValueError\u001b[0m \u001b[0;32mas\u001b[0m \u001b[0merr\u001b[0m\u001b[0;34m:\u001b[0m\u001b[0;34m\u001b[0m\u001b[0;34m\u001b[0m\u001b[0m\n",
      "\u001b[0;31mValueError\u001b[0m: 624 is not in range",
      "\nThe above exception was the direct cause of the following exception:\n",
      "\u001b[0;31mKeyError\u001b[0m                                  Traceback (most recent call last)",
      "\u001b[0;32m/tmp/ipykernel_19727/2738171172.py\u001b[0m in \u001b[0;36m<module>\u001b[0;34m\u001b[0m\n\u001b[1;32m     20\u001b[0m     \u001b[0mliste_lemmes\u001b[0m \u001b[0;34m=\u001b[0m \u001b[0;34m[\u001b[0m\u001b[0;34m]\u001b[0m\u001b[0;34m\u001b[0m\u001b[0;34m\u001b[0m\u001b[0m\n\u001b[1;32m     21\u001b[0m \u001b[0;34m\u001b[0m\u001b[0m\n\u001b[0;32m---> 22\u001b[0;31m     \u001b[0msentences\u001b[0m\u001b[0;34m:\u001b[0m \u001b[0mList\u001b[0m\u001b[0;34m[\u001b[0m\u001b[0mstr\u001b[0m\u001b[0;34m]\u001b[0m \u001b[0;34m=\u001b[0m \u001b[0;34m[\u001b[0m\u001b[0mdf\u001b[0m\u001b[0;34m[\u001b[0m\u001b[0;34m'Text'\u001b[0m\u001b[0;34m]\u001b[0m\u001b[0;34m[\u001b[0m\u001b[0mi\u001b[0m\u001b[0;34m]\u001b[0m\u001b[0;34m]\u001b[0m\u001b[0;34m\u001b[0m\u001b[0;34m\u001b[0m\u001b[0m\n\u001b[0m\u001b[1;32m     23\u001b[0m     \u001b[0;31m# Get the main object from the model (: data iterator + postprocesor\u001b[0m\u001b[0;34m\u001b[0m\u001b[0;34m\u001b[0m\u001b[0;34m\u001b[0m\u001b[0m\n\u001b[1;32m     24\u001b[0m     \u001b[0;32mfrom\u001b[0m \u001b[0mpie_extended\u001b[0m\u001b[0;34m.\u001b[0m\u001b[0mmodels\u001b[0m\u001b[0;34m.\u001b[0m\u001b[0mlasla\u001b[0m\u001b[0;34m.\u001b[0m\u001b[0mimports\u001b[0m \u001b[0;32mimport\u001b[0m \u001b[0mget_iterator_and_processor\u001b[0m\u001b[0;34m\u001b[0m\u001b[0;34m\u001b[0m\u001b[0m\n",
      "\u001b[0;32m~/python/miniconda/envs/coursnlp/lib/python3.7/site-packages/pandas/core/series.py\u001b[0m in \u001b[0;36m__getitem__\u001b[0;34m(self, key)\u001b[0m\n\u001b[1;32m    940\u001b[0m \u001b[0;34m\u001b[0m\u001b[0m\n\u001b[1;32m    941\u001b[0m         \u001b[0;32melif\u001b[0m \u001b[0mkey_is_scalar\u001b[0m\u001b[0;34m:\u001b[0m\u001b[0;34m\u001b[0m\u001b[0;34m\u001b[0m\u001b[0m\n\u001b[0;32m--> 942\u001b[0;31m             \u001b[0;32mreturn\u001b[0m \u001b[0mself\u001b[0m\u001b[0;34m.\u001b[0m\u001b[0m_get_value\u001b[0m\u001b[0;34m(\u001b[0m\u001b[0mkey\u001b[0m\u001b[0;34m)\u001b[0m\u001b[0;34m\u001b[0m\u001b[0;34m\u001b[0m\u001b[0m\n\u001b[0m\u001b[1;32m    943\u001b[0m \u001b[0;34m\u001b[0m\u001b[0m\n\u001b[1;32m    944\u001b[0m         \u001b[0;32mif\u001b[0m \u001b[0mis_hashable\u001b[0m\u001b[0;34m(\u001b[0m\u001b[0mkey\u001b[0m\u001b[0;34m)\u001b[0m\u001b[0;34m:\u001b[0m\u001b[0;34m\u001b[0m\u001b[0;34m\u001b[0m\u001b[0m\n",
      "\u001b[0;32m~/python/miniconda/envs/coursnlp/lib/python3.7/site-packages/pandas/core/series.py\u001b[0m in \u001b[0;36m_get_value\u001b[0;34m(self, label, takeable)\u001b[0m\n\u001b[1;32m   1049\u001b[0m \u001b[0;34m\u001b[0m\u001b[0m\n\u001b[1;32m   1050\u001b[0m         \u001b[0;31m# Similar to Index.get_value, but we do not fall back to positional\u001b[0m\u001b[0;34m\u001b[0m\u001b[0;34m\u001b[0m\u001b[0;34m\u001b[0m\u001b[0m\n\u001b[0;32m-> 1051\u001b[0;31m         \u001b[0mloc\u001b[0m \u001b[0;34m=\u001b[0m \u001b[0mself\u001b[0m\u001b[0;34m.\u001b[0m\u001b[0mindex\u001b[0m\u001b[0;34m.\u001b[0m\u001b[0mget_loc\u001b[0m\u001b[0;34m(\u001b[0m\u001b[0mlabel\u001b[0m\u001b[0;34m)\u001b[0m\u001b[0;34m\u001b[0m\u001b[0;34m\u001b[0m\u001b[0m\n\u001b[0m\u001b[1;32m   1052\u001b[0m         \u001b[0;32mreturn\u001b[0m \u001b[0mself\u001b[0m\u001b[0;34m.\u001b[0m\u001b[0mindex\u001b[0m\u001b[0;34m.\u001b[0m\u001b[0m_get_values_for_loc\u001b[0m\u001b[0;34m(\u001b[0m\u001b[0mself\u001b[0m\u001b[0;34m,\u001b[0m \u001b[0mloc\u001b[0m\u001b[0;34m,\u001b[0m \u001b[0mlabel\u001b[0m\u001b[0;34m)\u001b[0m\u001b[0;34m\u001b[0m\u001b[0;34m\u001b[0m\u001b[0m\n\u001b[1;32m   1053\u001b[0m \u001b[0;34m\u001b[0m\u001b[0m\n",
      "\u001b[0;32m~/python/miniconda/envs/coursnlp/lib/python3.7/site-packages/pandas/core/indexes/range.py\u001b[0m in \u001b[0;36mget_loc\u001b[0;34m(self, key, method, tolerance)\u001b[0m\n\u001b[1;32m    385\u001b[0m                     \u001b[0;32mreturn\u001b[0m \u001b[0mself\u001b[0m\u001b[0;34m.\u001b[0m\u001b[0m_range\u001b[0m\u001b[0;34m.\u001b[0m\u001b[0mindex\u001b[0m\u001b[0;34m(\u001b[0m\u001b[0mnew_key\u001b[0m\u001b[0;34m)\u001b[0m\u001b[0;34m\u001b[0m\u001b[0;34m\u001b[0m\u001b[0m\n\u001b[1;32m    386\u001b[0m                 \u001b[0;32mexcept\u001b[0m \u001b[0mValueError\u001b[0m \u001b[0;32mas\u001b[0m \u001b[0merr\u001b[0m\u001b[0;34m:\u001b[0m\u001b[0;34m\u001b[0m\u001b[0;34m\u001b[0m\u001b[0m\n\u001b[0;32m--> 387\u001b[0;31m                     \u001b[0;32mraise\u001b[0m \u001b[0mKeyError\u001b[0m\u001b[0;34m(\u001b[0m\u001b[0mkey\u001b[0m\u001b[0;34m)\u001b[0m \u001b[0;32mfrom\u001b[0m \u001b[0merr\u001b[0m\u001b[0;34m\u001b[0m\u001b[0;34m\u001b[0m\u001b[0m\n\u001b[0m\u001b[1;32m    388\u001b[0m             \u001b[0;32mraise\u001b[0m \u001b[0mKeyError\u001b[0m\u001b[0;34m(\u001b[0m\u001b[0mkey\u001b[0m\u001b[0;34m)\u001b[0m\u001b[0;34m\u001b[0m\u001b[0;34m\u001b[0m\u001b[0m\n\u001b[1;32m    389\u001b[0m         \u001b[0;32mreturn\u001b[0m \u001b[0msuper\u001b[0m\u001b[0;34m(\u001b[0m\u001b[0;34m)\u001b[0m\u001b[0;34m.\u001b[0m\u001b[0mget_loc\u001b[0m\u001b[0;34m(\u001b[0m\u001b[0mkey\u001b[0m\u001b[0;34m,\u001b[0m \u001b[0mmethod\u001b[0m\u001b[0;34m=\u001b[0m\u001b[0mmethod\u001b[0m\u001b[0;34m,\u001b[0m \u001b[0mtolerance\u001b[0m\u001b[0;34m=\u001b[0m\u001b[0mtolerance\u001b[0m\u001b[0;34m)\u001b[0m\u001b[0;34m\u001b[0m\u001b[0;34m\u001b[0m\u001b[0m\n",
      "\u001b[0;31mKeyError\u001b[0m: 624"
     ]
    }
   ],
   "source": [
    "from typing import List\n",
    "from pie_extended.cli.utils import get_tagger, get_model, download\n",
    "\n",
    "# In case you need to download\n",
    "do_download = False\n",
    "if do_download:\n",
    "    for dl in download(\"lasla\"):\n",
    "        x = 1\n",
    "\n",
    "# model_path allows you to override the model loaded by another .tar\n",
    "model_name = \"lasla\"\n",
    "tagger = get_tagger(model_name, batch_size=256, device=\"cpu\", model_path=None)\n",
    "\n",
    "\n",
    "\n",
    "i = 1\n",
    "\n",
    "while i <= 624:\n",
    "\n",
    "    liste_lemmes = []\n",
    "\n",
    "    sentences: List[str] = [df['Text'][i]]\n",
    "    # Get the main object from the model (: data iterator + postprocesor\n",
    "    from pie_extended.models.lasla.imports import get_iterator_and_processor\n",
    "    for sentence_group in sentences:\n",
    "        iterator, processor = get_iterator_and_processor()\n",
    "        lemma = tagger.tag_str(sentence_group, iterator=iterator, processor=processor) \n",
    "\n",
    "    for elm in lemma:\n",
    "        if elm['pos'] == 'ADJqua' or elm['pos'] == 'VER' or elm['pos'] == 'NOMcom' or elm['pos'] == 'NOMpro' or elm['pos'] == 'ADJcar' or elm['pos'] == 'ADJord' or elm['pos'] == 'ADJmul' or elm['pos'] == 'ADJdis':\n",
    "            liste_lemmes.append(elm['lemma'])\n",
    "    texte = ' '.join(liste_lemmes)\n",
    "\n",
    "    with open(f'texte_{i+1}.txt','w') as file:\n",
    "        file.write(texte)\n",
    "    \n",
    "    i+=1\n",
    "    "
   ]
  },
  {
   "cell_type": "code",
   "execution_count": 14,
   "id": "f42c4359",
   "metadata": {
    "scrolled": true
   },
   "outputs": [],
   "source": [
    "df_1 = pd.read_csv('texte_1.csv',sep='\\t')"
   ]
  },
  {
   "cell_type": "code",
   "execution_count": 15,
   "id": "6c4231ad",
   "metadata": {},
   "outputs": [
    {
     "data": {
      "text/html": [
       "<div>\n",
       "<style scoped>\n",
       "    .dataframe tbody tr th:only-of-type {\n",
       "        vertical-align: middle;\n",
       "    }\n",
       "\n",
       "    .dataframe tbody tr th {\n",
       "        vertical-align: top;\n",
       "    }\n",
       "\n",
       "    .dataframe thead th {\n",
       "        text-align: right;\n",
       "    }\n",
       "</style>\n",
       "<table border=\"1\" class=\"dataframe\">\n",
       "  <thead>\n",
       "    <tr style=\"text-align: right;\">\n",
       "      <th></th>\n",
       "      <th>token</th>\n",
       "      <th>lemma</th>\n",
       "      <th>pos</th>\n",
       "      <th>morph</th>\n",
       "      <th>Dis</th>\n",
       "      <th>treated</th>\n",
       "    </tr>\n",
       "  </thead>\n",
       "  <tbody>\n",
       "    <tr>\n",
       "      <th>0</th>\n",
       "      <td>Miranda</td>\n",
       "      <td>miror</td>\n",
       "      <td>VER</td>\n",
       "      <td>Case=Nom|Numb=Sing|Gend=Fem|Deg=Pos</td>\n",
       "      <td>_</td>\n",
       "      <td>Miranda</td>\n",
       "    </tr>\n",
       "    <tr>\n",
       "      <th>1</th>\n",
       "      <td>tuis</td>\n",
       "      <td>tuus</td>\n",
       "      <td>PROpos</td>\n",
       "      <td>Case=Abl|Numb=Plur|Gend=Com</td>\n",
       "      <td>_</td>\n",
       "      <td>tuis</td>\n",
       "    </tr>\n",
       "    <tr>\n",
       "      <th>2</th>\n",
       "      <td>sensibus</td>\n",
       "      <td>sensus</td>\n",
       "      <td>NOMcom</td>\n",
       "      <td>Case=Dat|Numb=Plur</td>\n",
       "      <td>_</td>\n",
       "      <td>sensibus</td>\n",
       "    </tr>\n",
       "    <tr>\n",
       "      <th>3</th>\n",
       "      <td>nostra</td>\n",
       "      <td>noster</td>\n",
       "      <td>PROpos</td>\n",
       "      <td>Case=Nom|Numb=Sing|Gend=Fem</td>\n",
       "      <td>_</td>\n",
       "      <td>nostra</td>\n",
       "    </tr>\n",
       "    <tr>\n",
       "      <th>4</th>\n",
       "      <td>venit</td>\n",
       "      <td>uenio</td>\n",
       "      <td>VER</td>\n",
       "      <td>Numb=Sing|Mood=Ind|Tense=Perf|Voice=Act|Person=3</td>\n",
       "      <td>_</td>\n",
       "      <td>uenit</td>\n",
       "    </tr>\n",
       "    <tr>\n",
       "      <th>...</th>\n",
       "      <td>...</td>\n",
       "      <td>...</td>\n",
       "      <td>...</td>\n",
       "      <td>...</td>\n",
       "      <td>...</td>\n",
       "      <td>...</td>\n",
       "    </tr>\n",
       "    <tr>\n",
       "      <th>3014</th>\n",
       "      <td>sollicitudine</td>\n",
       "      <td>sollicitudo</td>\n",
       "      <td>NOMcom</td>\n",
       "      <td>Case=Abl|Numb=Sing</td>\n",
       "      <td>_</td>\n",
       "      <td>sollicitudine</td>\n",
       "    </tr>\n",
       "    <tr>\n",
       "      <th>3015</th>\n",
       "      <td>promovit</td>\n",
       "      <td>promoueo</td>\n",
       "      <td>VER</td>\n",
       "      <td>Numb=Sing|Mood=Ind|Tense=Perf|Voice=Act|Person=3</td>\n",
       "      <td>_</td>\n",
       "      <td>promouit</td>\n",
       "    </tr>\n",
       "    <tr>\n",
       "      <th>3016</th>\n",
       "      <td>adultum</td>\n",
       "      <td>adultus</td>\n",
       "      <td>ADJqua</td>\n",
       "      <td>Case=Acc|Numb=Sing</td>\n",
       "      <td>_</td>\n",
       "      <td>adultum</td>\n",
       "    </tr>\n",
       "    <tr>\n",
       "      <th>3017</th>\n",
       "      <td>Datum</td>\n",
       "      <td>do</td>\n",
       "      <td>VER</td>\n",
       "      <td>Case=Acc|Numb=Sing|Mood=Par|Tense=Perf|Voice=Pass</td>\n",
       "      <td>_</td>\n",
       "      <td>Datum</td>\n",
       "    </tr>\n",
       "    <tr>\n",
       "      <th>3018</th>\n",
       "      <td>Laterani</td>\n",
       "      <td>Lateranus</td>\n",
       "      <td>NOMpro</td>\n",
       "      <td>Case=Gen|Numb=Sing</td>\n",
       "      <td>_</td>\n",
       "      <td>Laterani</td>\n",
       "    </tr>\n",
       "  </tbody>\n",
       "</table>\n",
       "<p>3019 rows × 6 columns</p>\n",
       "</div>"
      ],
      "text/plain": [
       "              token        lemma     pos  \\\n",
       "0           Miranda        miror     VER   \n",
       "1              tuis         tuus  PROpos   \n",
       "2          sensibus       sensus  NOMcom   \n",
       "3            nostra       noster  PROpos   \n",
       "4             venit        uenio     VER   \n",
       "...             ...          ...     ...   \n",
       "3014  sollicitudine  sollicitudo  NOMcom   \n",
       "3015       promovit     promoueo     VER   \n",
       "3016        adultum      adultus  ADJqua   \n",
       "3017          Datum           do     VER   \n",
       "3018       Laterani    Lateranus  NOMpro   \n",
       "\n",
       "                                                  morph Dis        treated  \n",
       "0                   Case=Nom|Numb=Sing|Gend=Fem|Deg=Pos   _        Miranda  \n",
       "1                           Case=Abl|Numb=Plur|Gend=Com   _           tuis  \n",
       "2                                    Case=Dat|Numb=Plur   _       sensibus  \n",
       "3                           Case=Nom|Numb=Sing|Gend=Fem   _         nostra  \n",
       "4      Numb=Sing|Mood=Ind|Tense=Perf|Voice=Act|Person=3   _          uenit  \n",
       "...                                                 ...  ..            ...  \n",
       "3014                                 Case=Abl|Numb=Sing   _  sollicitudine  \n",
       "3015   Numb=Sing|Mood=Ind|Tense=Perf|Voice=Act|Person=3   _       promouit  \n",
       "3016                                 Case=Acc|Numb=Sing   _        adultum  \n",
       "3017  Case=Acc|Numb=Sing|Mood=Par|Tense=Perf|Voice=Pass   _          Datum  \n",
       "3018                                 Case=Gen|Numb=Sing   _       Laterani  \n",
       "\n",
       "[3019 rows x 6 columns]"
      ]
     },
     "execution_count": 15,
     "metadata": {},
     "output_type": "execute_result"
    }
   ],
   "source": [
    "df_1"
   ]
  },
  {
   "cell_type": "code",
   "execution_count": 22,
   "id": "69ec3430",
   "metadata": {},
   "outputs": [
    {
     "ename": "ValueError",
     "evalue": "The truth value of a Series is ambiguous. Use a.empty, a.bool(), a.item(), a.any() or a.all().",
     "output_type": "error",
     "traceback": [
      "\u001b[0;31m---------------------------------------------------------------------------\u001b[0m",
      "\u001b[0;31mValueError\u001b[0m                                Traceback (most recent call last)",
      "\u001b[0;32m/tmp/ipykernel_19727/2909719126.py\u001b[0m in \u001b[0;36m<module>\u001b[0;34m\u001b[0m\n\u001b[0;32m----> 1\u001b[0;31m \u001b[0mdf_1\u001b[0m\u001b[0;34m[\u001b[0m\u001b[0mdf_1\u001b[0m\u001b[0;34m[\u001b[0m\u001b[0;34m'pos'\u001b[0m\u001b[0;34m]\u001b[0m \u001b[0;34m==\u001b[0m \u001b[0;34m'ADJqua'\u001b[0m \u001b[0;32mor\u001b[0m \u001b[0;34m'VER'\u001b[0m\u001b[0;34m]\u001b[0m\u001b[0;34m\u001b[0m\u001b[0;34m\u001b[0m\u001b[0m\n\u001b[0m",
      "\u001b[0;32m~/python/miniconda/envs/coursnlp/lib/python3.7/site-packages/pandas/core/generic.py\u001b[0m in \u001b[0;36m__nonzero__\u001b[0;34m(self)\u001b[0m\n\u001b[1;32m   1536\u001b[0m     \u001b[0;32mdef\u001b[0m \u001b[0m__nonzero__\u001b[0m\u001b[0;34m(\u001b[0m\u001b[0mself\u001b[0m\u001b[0;34m)\u001b[0m\u001b[0;34m:\u001b[0m\u001b[0;34m\u001b[0m\u001b[0;34m\u001b[0m\u001b[0m\n\u001b[1;32m   1537\u001b[0m         raise ValueError(\n\u001b[0;32m-> 1538\u001b[0;31m             \u001b[0;34mf\"The truth value of a {type(self).__name__} is ambiguous. \"\u001b[0m\u001b[0;34m\u001b[0m\u001b[0;34m\u001b[0m\u001b[0m\n\u001b[0m\u001b[1;32m   1539\u001b[0m             \u001b[0;34m\"Use a.empty, a.bool(), a.item(), a.any() or a.all().\"\u001b[0m\u001b[0;34m\u001b[0m\u001b[0;34m\u001b[0m\u001b[0m\n\u001b[1;32m   1540\u001b[0m         )\n",
      "\u001b[0;31mValueError\u001b[0m: The truth value of a Series is ambiguous. Use a.empty, a.bool(), a.item(), a.any() or a.all()."
     ]
    }
   ],
   "source": [
    "df_1[df_1['pos'] == 'ADJqua']"
   ]
  },
  {
   "cell_type": "code",
   "execution_count": 26,
   "id": "02dccd00",
   "metadata": {},
   "outputs": [],
   "source": [
    "texte_1 = df_1.loc[(df_1['pos'] == 'ADJqua') | (df_1['pos'] == 'VER') | (df_1['pos'] == 'NOMcom')|(df_1['pos'] == 'ADJcar')|(df_1['pos'] == 'NOMpro')\n",
    "      |(df_1['pos'] == 'ADJord')|(df_1['pos'] == 'ADJmul')|(df_1['pos'] == 'ADJdis')]['lemma'].tolist()"
   ]
  },
  {
   "cell_type": "code",
   "execution_count": 30,
   "id": "22a578fb",
   "metadata": {},
   "outputs": [],
   "source": [
    "x = ' '.join(texte_1)"
   ]
  },
  {
   "cell_type": "code",
   "execution_count": 31,
   "id": "dcaf9165",
   "metadata": {},
   "outputs": [],
   "source": [
    "with open('texte_1','w') as file:\n",
    "    file.write(x)"
   ]
  },
  {
   "cell_type": "code",
   "execution_count": 34,
   "id": "796b4a2a",
   "metadata": {},
   "outputs": [],
   "source": [
    "i = 0\n",
    "lemmas = []\n",
    "\n",
    "while i < 624:\n",
    "    with open(f'texte_{i+1}.txt','r') as file:\n",
    "        data = file.readlines()\n",
    "    lemmas.extend(data)\n",
    "    i+=1"
   ]
  },
  {
   "cell_type": "code",
   "execution_count": 36,
   "id": "0f20b41f",
   "metadata": {},
   "outputs": [
    {
     "data": {
      "text/plain": [
       "624"
      ]
     },
     "execution_count": 36,
     "metadata": {},
     "output_type": "execute_result"
    }
   ],
   "source": [
    "len(lemmas)"
   ]
  },
  {
   "cell_type": "code",
   "execution_count": 40,
   "id": "749379c2",
   "metadata": {},
   "outputs": [],
   "source": [
    "df['lemma'] = lemmas"
   ]
  },
  {
   "cell_type": "code",
   "execution_count": 42,
   "id": "8c877b7b",
   "metadata": {},
   "outputs": [],
   "source": [
    "df.to_excel('Thomas_de_Capoue_lemmas.xlsx')"
   ]
  },
  {
   "cell_type": "code",
   "execution_count": 43,
   "id": "925fd624",
   "metadata": {},
   "outputs": [
    {
     "data": {
      "text/html": [
       "<div>\n",
       "<style scoped>\n",
       "    .dataframe tbody tr th:only-of-type {\n",
       "        vertical-align: middle;\n",
       "    }\n",
       "\n",
       "    .dataframe tbody tr th {\n",
       "        vertical-align: top;\n",
       "    }\n",
       "\n",
       "    .dataframe thead th {\n",
       "        text-align: right;\n",
       "    }\n",
       "</style>\n",
       "<table border=\"1\" class=\"dataframe\">\n",
       "  <thead>\n",
       "    <tr style=\"text-align: right;\">\n",
       "      <th></th>\n",
       "      <th>ID</th>\n",
       "      <th>Numéro</th>\n",
       "      <th>Text</th>\n",
       "      <th>lemma</th>\n",
       "    </tr>\n",
       "  </thead>\n",
       "  <tbody>\n",
       "    <tr>\n",
       "      <th>0</th>\n",
       "      <td>Livre_1</td>\n",
       "      <td>1</td>\n",
       "      <td>Miranda tuis sensibus nostra venit epistola, u...</td>\n",
       "      <td>miror sensus uenio epistola scribo mirabilis p...</td>\n",
       "    </tr>\n",
       "    <tr>\n",
       "      <th>1</th>\n",
       "      <td>Livre_1</td>\n",
       "      <td>2</td>\n",
       "      <td>Non Noémi, id est pulchra, sed Mara, hoc est a...</td>\n",
       "      <td>Noemus sum1 pulcher mare sum1 amarus dico2 pos...</td>\n",
       "    </tr>\n",
       "    <tr>\n",
       "      <th>2</th>\n",
       "      <td>Livre_1</td>\n",
       "      <td>3</td>\n",
       "      <td>Prudenter precidenda sunt mala, ut salubriter ...</td>\n",
       "      <td>precido sum1 malum1 bonum succedo1 offendiculu...</td>\n",
       "    </tr>\n",
       "    <tr>\n",
       "      <th>3</th>\n",
       "      <td>Livre_1</td>\n",
       "      <td>4</td>\n",
       "      <td>Morditiva lenitivis admiscet interdum industri...</td>\n",
       "      <td>morditiuus lenitiuus admisceo industria correc...</td>\n",
       "    </tr>\n",
       "    <tr>\n",
       "      <th>4</th>\n",
       "      <td>Livre_1</td>\n",
       "      <td>5</td>\n",
       "      <td>Mercennarium habet sub umbra pastoris ecclesia...</td>\n",
       "      <td>mercenarius1 habeo umbra pastor ecclesia Theat...</td>\n",
       "    </tr>\n",
       "    <tr>\n",
       "      <th>...</th>\n",
       "      <td>...</td>\n",
       "      <td>...</td>\n",
       "      <td>...</td>\n",
       "      <td>...</td>\n",
       "    </tr>\n",
       "    <tr>\n",
       "      <th>619</th>\n",
       "      <td>Livre_10</td>\n",
       "      <td>17</td>\n",
       "      <td>Sanctissimo in Christo patri et domino .., sum...</td>\n",
       "      <td>sanctus Christus pater dominus superus pontife...</td>\n",
       "    </tr>\n",
       "    <tr>\n",
       "      <th>620</th>\n",
       "      <td>Livre_10</td>\n",
       "      <td>18</td>\n",
       "      <td>Monasterio nostro vacante cum nos omnes, ad qu...</td>\n",
       "      <td>monasterium uaco electio pertineo forma scruti...</td>\n",
       "    </tr>\n",
       "    <tr>\n",
       "      <th>621</th>\n",
       "      <td>Livre_10</td>\n",
       "      <td>19</td>\n",
       "      <td>Super electione et postulatione in .. ecclesia...</td>\n",
       "      <td>electio postulatio ecclesia celebro aperio res...</td>\n",
       "    </tr>\n",
       "    <tr>\n",
       "      <th>622</th>\n",
       "      <td>Livre_10</td>\n",
       "      <td>20</td>\n",
       "      <td>Cum nunquam melius ecclesiarum consulatur prof...</td>\n",
       "      <td>ecclesia consulo profectus indempnitas occurro...</td>\n",
       "    </tr>\n",
       "    <tr>\n",
       "      <th>623</th>\n",
       "      <td>Livre_10</td>\n",
       "      <td>21</td>\n",
       "      <td>Sperantes, ut sedes apostolica, que digna dign...</td>\n",
       "      <td>spero sedes apostolicus dignus dignus retribuo...</td>\n",
       "    </tr>\n",
       "  </tbody>\n",
       "</table>\n",
       "<p>624 rows × 4 columns</p>\n",
       "</div>"
      ],
      "text/plain": [
       "           ID  Numéro                                               Text  \\\n",
       "0     Livre_1       1  Miranda tuis sensibus nostra venit epistola, u...   \n",
       "1     Livre_1       2  Non Noémi, id est pulchra, sed Mara, hoc est a...   \n",
       "2     Livre_1       3  Prudenter precidenda sunt mala, ut salubriter ...   \n",
       "3     Livre_1       4  Morditiva lenitivis admiscet interdum industri...   \n",
       "4     Livre_1       5  Mercennarium habet sub umbra pastoris ecclesia...   \n",
       "..        ...     ...                                                ...   \n",
       "619  Livre_10      17  Sanctissimo in Christo patri et domino .., sum...   \n",
       "620  Livre_10      18  Monasterio nostro vacante cum nos omnes, ad qu...   \n",
       "621  Livre_10      19  Super electione et postulatione in .. ecclesia...   \n",
       "622  Livre_10      20  Cum nunquam melius ecclesiarum consulatur prof...   \n",
       "623  Livre_10      21  Sperantes, ut sedes apostolica, que digna dign...   \n",
       "\n",
       "                                                 lemma  \n",
       "0    miror sensus uenio epistola scribo mirabilis p...  \n",
       "1    Noemus sum1 pulcher mare sum1 amarus dico2 pos...  \n",
       "2    precido sum1 malum1 bonum succedo1 offendiculu...  \n",
       "3    morditiuus lenitiuus admisceo industria correc...  \n",
       "4    mercenarius1 habeo umbra pastor ecclesia Theat...  \n",
       "..                                                 ...  \n",
       "619  sanctus Christus pater dominus superus pontife...  \n",
       "620  monasterium uaco electio pertineo forma scruti...  \n",
       "621  electio postulatio ecclesia celebro aperio res...  \n",
       "622  ecclesia consulo profectus indempnitas occurro...  \n",
       "623  spero sedes apostolicus dignus dignus retribuo...  \n",
       "\n",
       "[624 rows x 4 columns]"
      ]
     },
     "execution_count": 43,
     "metadata": {},
     "output_type": "execute_result"
    }
   ],
   "source": [
    "df"
   ]
  },
  {
   "cell_type": "code",
   "execution_count": null,
   "id": "e6d58c11",
   "metadata": {},
   "outputs": [],
   "source": []
  }
 ],
 "metadata": {
  "kernelspec": {
   "display_name": "Python 3 (ipykernel)",
   "language": "python",
   "name": "python3"
  },
  "language_info": {
   "codemirror_mode": {
    "name": "ipython",
    "version": 3
   },
   "file_extension": ".py",
   "mimetype": "text/x-python",
   "name": "python",
   "nbconvert_exporter": "python",
   "pygments_lexer": "ipython3",
   "version": "3.9.7"
  }
 },
 "nbformat": 4,
 "nbformat_minor": 5
}

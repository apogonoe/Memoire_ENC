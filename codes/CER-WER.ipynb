{
 "cells": [
  {
   "cell_type": "code",
   "execution_count": 30,
   "id": "22476cf1",
   "metadata": {},
   "outputs": [],
   "source": [
    "import numpy as np\n",
    "import pandas as pd\n",
    "import matplotlib.pyplot as plt\n",
    "%matplotlib inline\n",
    "import fastwer\n",
    "import os"
   ]
  },
  {
   "cell_type": "code",
   "execution_count": 10,
   "id": "5affa86a",
   "metadata": {},
   "outputs": [],
   "source": [
    "path = '/home/noe/Documents/2022-2023/ENC/Mémoire/Livres_OCR_par_chartes/Livre_1/Texte_fin/'\n",
    "os.chdir(path)"
   ]
  },
  {
   "cell_type": "code",
   "execution_count": 19,
   "id": "2a8ebb1d",
   "metadata": {},
   "outputs": [],
   "source": [
    "path = '/home/noe/Documents/2022-2023/ENC/Mémoire/WER_CER/Texte_corrigé/'\n",
    "os.chdir(path)"
   ]
  },
  {
   "cell_type": "code",
   "execution_count": 26,
   "id": "2f72e77f",
   "metadata": {},
   "outputs": [],
   "source": [
    "with open('1_8.txt','r') as file:\n",
    "    data = file.readlines()\n",
    "prediction = []\n",
    "for i in data:\n",
    "    prediction.append(i)\n",
    "prediction = ', '.join(prediction)"
   ]
  },
  {
   "cell_type": "code",
   "execution_count": 18,
   "id": "f5e9fb3f",
   "metadata": {},
   "outputs": [
    {
     "data": {
      "text/plain": [
       "True"
      ]
     },
     "execution_count": 18,
     "metadata": {},
     "output_type": "execute_result"
    }
   ],
   "source": [
    "with open('1_8.txt','r') as file:\n",
    "    data = file.readlines()\n",
    "new = []\n",
    "for i in data:\n",
    "    new.append(i)\n",
    "\n",
    "new = ', '.join(new)"
   ]
  },
  {
   "cell_type": "code",
   "execution_count": 25,
   "id": "5a3df82e",
   "metadata": {},
   "outputs": [],
   "source": [
    "new = ', '.join(new)"
   ]
  },
  {
   "cell_type": "code",
   "execution_count": 7,
   "id": "3bfcb6ca",
   "metadata": {},
   "outputs": [
    {
     "data": {
      "text/plain": [
       "16.6667"
      ]
     },
     "execution_count": 7,
     "metadata": {},
     "output_type": "execute_result"
    }
   ],
   "source": [
    "ref = 'my name is kenneth'\n",
    "output = 'myy nime iz kenneth'\n",
    "fastwer.score_sent(output, ref, char_level=True)"
   ]
  },
  {
   "cell_type": "code",
   "execution_count": 31,
   "id": "8d7a0123",
   "metadata": {},
   "outputs": [
    {
     "data": {
      "text/plain": [
       "0.2585"
      ]
     },
     "execution_count": 31,
     "metadata": {},
     "output_type": "execute_result"
    }
   ],
   "source": [
    "fastwer.score_sent(new,prediction,char_level=True)"
   ]
  }
 ],
 "metadata": {
  "kernelspec": {
   "display_name": "Python 3 (ipykernel)",
   "language": "python",
   "name": "python3"
  },
  "language_info": {
   "codemirror_mode": {
    "name": "ipython",
    "version": 3
   },
   "file_extension": ".py",
   "mimetype": "text/x-python",
   "name": "python",
   "nbconvert_exporter": "python",
   "pygments_lexer": "ipython3",
   "version": "3.8.16"
  }
 },
 "nbformat": 4,
 "nbformat_minor": 5
}

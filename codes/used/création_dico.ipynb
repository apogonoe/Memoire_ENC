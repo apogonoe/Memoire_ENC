{
 "cells": [
  {
   "cell_type": "code",
   "execution_count": 2,
   "id": "ab07dc91",
   "metadata": {},
   "outputs": [],
   "source": [
    "import numpy as np\n",
    "import pandas as pd\n",
    "import os\n",
    "import re\n",
    "from tqdm import tqdm\n",
    "import ast\n",
    "import scipy.cluster.hierarchy as shc\n",
    "from scipy.spatial.distance import pdist, squareform\n",
    "import matplotlib.pyplot as plt\n",
    "%matplotlib inline\n",
    "import seaborn as sns\n",
    "import numpy as np\n",
    "import string\n",
    "from IPython.display import Markdown\n",
    "import textdistance\n",
    "from fonctions import *\n",
    "from sklearn.feature_extraction.text import TfidfVectorizer\n",
    "from sklearn.metrics.pairwise import cosine_similarity\n",
    "from nltk.util import skipgrams\n",
    "from nltk.tokenize import word_tokenize\n",
    "tqdm.pandas()"
   ]
  },
  {
   "cell_type": "code",
   "execution_count": null,
   "id": "49053a74",
   "metadata": {},
   "outputs": [],
   "source": [
    "file = '/home/noe/Documents/2022-2023/ENC/Mémoire/Dataframes/PDV_grams.xlsx'\n",
    "viard = '/home/noe/Documents/2022-2023/ENC/Mémoire/Dataframes/Viard_grams.xlsx'\n",
    "\n",
    "def delete_items_with_prefix(dictionnaire, prefix):\n",
    "    keys_to_delete = [key for key in dictionnaire if key.startswith(prefix)]\n",
    "    for key in keys_to_delete:\n",
    "        del dictionnaire[key]\n",
    "\n",
    "\n",
    "def is_single_word(s):\n",
    "    return isinstance(s, str) and len(s.split()) == 1\n",
    "\n",
    "def keys_with_single_word_value(dictionary):\n",
    "    single_word_keys = []\n",
    "    for key, value in dictionary.items():\n",
    "        if is_single_word(value):\n",
    "            single_word_keys.append(key)\n",
    "    return single_word_keys\n",
    "def join(liste):\n",
    "    return ' '.join(liste)\n",
    "\n",
    "df_pdv = pd.read_excel(file)\n",
    "df_viard = pd.read_excel(viard)\n",
    "\n",
    "df = pd.DataFrame({'texts':df_pdv['textes'],'clean_PDV': df_pdv['textes'].apply(clean_text)})\n",
    "df['compare'] = df['clean_PDV'].apply(join)\n",
    "\n",
    "df2 = pd.DataFrame({'viard_texts':df_viard['text'],'clean_viard':df_viard['text'].apply(clean_text)})\n",
    "\n",
    "column_without_brackets = [[string.replace('[', '').replace(']', '').lstrip().rstrip() for string in sublist] for sublist in df2['clean_viard']]\n",
    "\n",
    "df2['clean'] = column_without_brackets\n",
    "df2['compare'] = df2['clean'].apply(join)\n",
    "viard = {}\n",
    "for i in range(len(df2['compare'].tolist())):\n",
    "    viard[f'viard_{i+1}'] = df2['compare'].tolist()[i]\n",
    "dico_un = {}\n",
    "\n",
    "for i in range(len(df['compare'].tolist())):\n",
    "    dico_un[f'pdv_{i+1}'] = df['compare'].tolist()[i]\n",
    "\n",
    "pierre_de_la_vigne = list(dico_un.values())*len(viard)\n",
    "cles_de_la_vigne = list(dico_un.keys())*len(viard)\n",
    "\n",
    "jean_viard = copies(list(viard.values()),list(dico_un.values()))\n",
    "cles_jean = copies(list(viard.keys()),list(dico_un.values()))\n",
    "\n",
    "tqdm.pandas()\n",
    "zoe = pd.DataFrame({'viard':jean_viard,'pdv':pierre_de_la_vigne})\n",
    "viard_lemmes = list(viard.values())\n",
    "viard_keys = list(viard.keys())\n",
    "pdv_keys = list(dico_un.keys())\n",
    "trois = copies(viard_keys,list(dico_un.values()))\n",
    "quatre = pdv_keys*len(viard_keys)\n",
    "\n",
    "zoe['indice_viard'] = trois\n",
    "zoe['indice_pdv'] = quatre\n",
    "zoe = zoe[['indice_viard','viard','indice_pdv','pdv']]\n"
   ]
  },
  {
   "cell_type": "code",
   "execution_count": null,
   "id": "c3d56af2",
   "metadata": {},
   "outputs": [],
   "source": [
    "x = viard_lemmes\n",
    "\n",
    "from typing import List\n",
    "from pie_extended.cli.utils import get_tagger, get_model, download\n",
    "\n",
    "# In case you need to download\n",
    "do_download = False\n",
    "if do_download:\n",
    "    for dl in download(\"lasla\"):\n",
    "        x = 1\n",
    "\n",
    "# model_path allows you to override the model loaded by another .tar\n",
    "model_name = \"lasla\"\n",
    "tagger = get_tagger(model_name, batch_size=256, device=\"cpu\", model_path=None)\n",
    "\n",
    "\n",
    "lemmas = []\n",
    "for i in tqdm(range(len(x))):\n",
    "    sentences: List[str] = [x[i]]\n",
    "    # Get the main object from the model (: data iterator + postprocesor\n",
    "    from pie_extended.models.lasla.imports import get_iterator_and_processor\n",
    "    for sentence_group in sentences:\n",
    "        iterator, processor = get_iterator_and_processor()\n",
    "        dic = tagger.tag_str(sentence_group, iterator=iterator, processor=processor)\n",
    "        lemmas.append(dic)"
   ]
  },
  {
   "cell_type": "code",
   "execution_count": null,
   "id": "326e6de4",
   "metadata": {},
   "outputs": [],
   "source": [
    "x = df['compare'].tolist()\n",
    "\n",
    "from typing import List\n",
    "from pie_extended.cli.utils import get_tagger, get_model, download\n",
    "\n",
    "# In case you need to download\n",
    "do_download = False\n",
    "if do_download:\n",
    "    for dl in download(\"lasla\"):\n",
    "        x = 1\n",
    "\n",
    "# model_path allows you to override the model loaded by another .tar\n",
    "model_name = \"lasla\"\n",
    "tagger = get_tagger(model_name, batch_size=256, device=\"cpu\", model_path=None)\n",
    "\n",
    "\n",
    "lemmes_pdv = []\n",
    "for i in tqdm(range(len(x))):\n",
    "    sentences: List[str] = [x[i]]\n",
    "    # Get the main object from the model (: data iterator + postprocesor\n",
    "    from pie_extended.models.lasla.imports import get_iterator_and_processor\n",
    "    for sentence_group in sentences:\n",
    "        iterator, processor = get_iterator_and_processor()\n",
    "        dic = tagger.tag_str(sentence_group, iterator=iterator, processor=processor)\n",
    "        lemmes_pdv.append(dic)"
   ]
  },
  {
   "cell_type": "code",
   "execution_count": null,
   "id": "37806202",
   "metadata": {},
   "outputs": [],
   "source": [
    "#création du dictionnaire de pos\n",
    "\n",
    "dic1 = [item for sublist in lemmes_pdv for item in sublist]\n",
    "dic2 = [item for sublist in lemmas for item in sublist]\n",
    "\n",
    "dic1.extend(dic2)\n",
    "\n",
    "mots = []\n",
    "part_of_speech = []\n",
    "lemmes = []\n",
    "form = []\n",
    "\n",
    "for dic in dic1:\n",
    "    mots.append(dic.get('form'))\n",
    "    part_of_speech.append(dic.get('pos'))\n",
    "    lemmes.append(dic.get('lemma'))\n",
    "    form.append(dic.get('form'))\n"
   ]
  },
  {
   "cell_type": "code",
   "execution_count": null,
   "id": "a1f1937f",
   "metadata": {},
   "outputs": [],
   "source": [
    "dico = pd.DataFrame({'forme':mots,'lemmes':lemmes,'pos':part_of_speech})"
   ]
  },
  {
   "cell_type": "code",
   "execution_count": null,
   "id": "adc5e09b",
   "metadata": {},
   "outputs": [],
   "source": [
    "unique = dico['forme'].drop_duplicates().to_frame()"
   ]
  },
  {
   "cell_type": "code",
   "execution_count": null,
   "id": "8bafe434",
   "metadata": {},
   "outputs": [],
   "source": [
    "unique = unique.reset_index()"
   ]
  },
  {
   "cell_type": "code",
   "execution_count": null,
   "id": "a8ab2003",
   "metadata": {},
   "outputs": [],
   "source": [
    "indices = unique['index'].tolist()"
   ]
  },
  {
   "cell_type": "code",
   "execution_count": null,
   "id": "34ae7f6b",
   "metadata": {},
   "outputs": [],
   "source": [
    "dico.to_excel('dico.xlsx')"
   ]
  },
  {
   "cell_type": "code",
   "execution_count": null,
   "id": "454b6bb2",
   "metadata": {},
   "outputs": [],
   "source": []
  },
  {
   "cell_type": "code",
   "execution_count": null,
   "id": "8e6b4c68",
   "metadata": {},
   "outputs": [],
   "source": []
  },
  {
   "cell_type": "code",
   "execution_count": null,
   "id": "59d08272",
   "metadata": {},
   "outputs": [],
   "source": []
  }
 ],
 "metadata": {
  "kernelspec": {
   "display_name": "Python 3 (ipykernel)",
   "language": "python",
   "name": "python3"
  },
  "language_info": {
   "codemirror_mode": {
    "name": "ipython",
    "version": 3
   },
   "file_extension": ".py",
   "mimetype": "text/x-python",
   "name": "python",
   "nbconvert_exporter": "python",
   "pygments_lexer": "ipython3",
   "version": "3.9.7"
  }
 },
 "nbformat": 4,
 "nbformat_minor": 5
}

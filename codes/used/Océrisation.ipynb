{
 "cells": [
  {
   "cell_type": "code",
   "execution_count": 1,
   "id": "899067ee",
   "metadata": {},
   "outputs": [],
   "source": [
    "import cv2\n",
    "from PIL import Image\n",
    "import os\n",
    "import re"
   ]
  },
  {
   "cell_type": "code",
   "execution_count": 2,
   "id": "74299acc",
   "metadata": {},
   "outputs": [],
   "source": [
    "import pytesseract"
   ]
  },
  {
   "cell_type": "code",
   "execution_count": 160,
   "id": "eaaffde6",
   "metadata": {},
   "outputs": [],
   "source": [
    "img_file = \"/home/noe/Documents/2022-2023/ENC/Mémoire/photos_PDV/PDV_1/PdV-OCR1/PdV-OCR1-001.png\""
   ]
  },
  {
   "cell_type": "code",
   "execution_count": 161,
   "id": "3302e73a",
   "metadata": {},
   "outputs": [],
   "source": [
    "img = Image.open(img_file)"
   ]
  },
  {
   "cell_type": "code",
   "execution_count": 162,
   "id": "578d555b",
   "metadata": {},
   "outputs": [],
   "source": [
    "ocr_result = pytesseract.image_to_string(img)"
   ]
  },
  {
   "cell_type": "code",
   "execution_count": 164,
   "id": "a22e273e",
   "metadata": {},
   "outputs": [],
   "source": [
    "    with open(image + \".txt\", \"w\") as file:\n",
    "        file.write(ocr_result)"
   ]
  },
  {
   "cell_type": "code",
   "execution_count": 20,
   "id": "2abb3793",
   "metadata": {},
   "outputs": [],
   "source": [
    "with open(\"monfichier.txt\", \"w\") as file:\n",
    "    file.write(ocr_result)"
   ]
  },
  {
   "cell_type": "code",
   "execution_count": 131,
   "id": "7c3d7f57",
   "metadata": {},
   "outputs": [],
   "source": [
    "path = '/home/noe/Documents/2022-2023/ENC/Mémoire/photos_PDV/PDV_1/PdV-OCR3/'"
   ]
  },
  {
   "cell_type": "code",
   "execution_count": 6,
   "id": "29350617",
   "metadata": {},
   "outputs": [],
   "source": [
    "from os import listdir\n",
    "from os.path import isfile, join\n",
    "fichiers = [f for f in listdir(path) if isfile(join(path, f))]\n",
    "fichiers = sorted(fichiers)"
   ]
  },
  {
   "cell_type": "code",
   "execution_count": 112,
   "id": "6063536d",
   "metadata": {},
   "outputs": [],
   "source": [
    "for image in fichiers:\n",
    "    path = '/home/noe/Documents/2022-2023/ENC/Mémoire/photos_PDV/PDV_1/PdV-OCR8/'\n",
    "    path_2 = path + image\n",
    "    img = Image.open(path_2)\n",
    "    ocr_result = pytesseract.image_to_string(img)\n",
    "    image = image[:-4]\n",
    "    with open(image + \".txt\", \"w\") as file:\n",
    "        file.write(ocr_result)"
   ]
  },
  {
   "cell_type": "code",
   "execution_count": 157,
   "id": "75de8920",
   "metadata": {},
   "outputs": [],
   "source": [
    "with open('/home/noe/Documents/2022-2023/ENC/Mémoire/fichiers_txt/OCR_1/PdV-OCR1-003.txt') as f:\n",
    "    lines = f.readlines()"
   ]
  },
  {
   "cell_type": "code",
   "execution_count": 79,
   "id": "64a098c4",
   "metadata": {},
   "outputs": [],
   "source": [
    "x = ''.join(lines)"
   ]
  },
  {
   "cell_type": "code",
   "execution_count": 89,
   "id": "d5322187",
   "metadata": {},
   "outputs": [
    {
     "data": {
      "text/plain": [
       "[it:0.8571404404471591, ca:0.14285866972348876]"
      ]
     },
     "execution_count": 89,
     "metadata": {},
     "output_type": "execute_result"
    }
   ],
   "source": [
    "detect_langs(str(lines))"
   ]
  },
  {
   "cell_type": "code",
   "execution_count": 316,
   "id": "364852ab",
   "metadata": {},
   "outputs": [],
   "source": [
    "from langdetect import detect_langs\n",
    "import glob\n",
    "import os"
   ]
  },
  {
   "cell_type": "code",
   "execution_count": 312,
   "id": "a1cb176f",
   "metadata": {},
   "outputs": [],
   "source": [
    "liste_numéros = ['1.1','1.2','1.3','1.4','1.5','1.6','1.7','1.8','1.9','1.10','1.11','1.12','1.13','1.14','1.15',\n",
    "                '1.16','1.17','1.18','1.19','1.20','1.21','1.22','1.23','1.24','1.25','1.26','1.27','1.28','1.29',\n",
    "                '1.30','1.31','1.32','1.33']\n",
    "path = '/home/noe/Documents/2022-2023/ENC/Mémoire/fichiers_txt/OCR_1/'"
   ]
  },
  {
   "cell_type": "code",
   "execution_count": 317,
   "id": "8d843f3b",
   "metadata": {},
   "outputs": [
    {
     "ename": "NameError",
     "evalue": "name 'listdir' is not defined",
     "output_type": "error",
     "traceback": [
      "\u001b[0;31m---------------------------------------------------------------------------\u001b[0m",
      "\u001b[0;31mNameError\u001b[0m                                 Traceback (most recent call last)",
      "Input \u001b[0;32mIn [317]\u001b[0m, in \u001b[0;36m<module>\u001b[0;34m\u001b[0m\n\u001b[0;32m----> 1\u001b[0m fichiers \u001b[38;5;241m=\u001b[39m [f \u001b[38;5;28;01mfor\u001b[39;00m f \u001b[38;5;129;01min\u001b[39;00m \u001b[43mlistdir\u001b[49m(path) \u001b[38;5;28;01mif\u001b[39;00m isfile(join(path, f))]\n\u001b[1;32m      2\u001b[0m fichiers \u001b[38;5;241m=\u001b[39m \u001b[38;5;28msorted\u001b[39m(fichiers)\n",
      "\u001b[0;31mNameError\u001b[0m: name 'listdir' is not defined"
     ]
    }
   ],
   "source": [
    "fichiers = [f for f in listdir(path) if isfile(join(path, f))]\n",
    "fichiers = sorted(fichiers)"
   ]
  },
  {
   "cell_type": "code",
   "execution_count": 3,
   "id": "696accd9",
   "metadata": {},
   "outputs": [
    {
     "ename": "NameError",
     "evalue": "name 'fichiers' is not defined",
     "output_type": "error",
     "traceback": [
      "\u001b[0;31m---------------------------------------------------------------------------\u001b[0m",
      "\u001b[0;31mNameError\u001b[0m                                 Traceback (most recent call last)",
      "Input \u001b[0;32mIn [3]\u001b[0m, in \u001b[0;36m<module>\u001b[0;34m\u001b[0m\n\u001b[0;32m----> 1\u001b[0m \u001b[38;5;28;01mfor\u001b[39;00m texte \u001b[38;5;129;01min\u001b[39;00m \u001b[43mfichiers\u001b[49m:\n\u001b[1;32m      2\u001b[0m     \u001b[38;5;28;01mwith\u001b[39;00m \u001b[38;5;28mopen\u001b[39m(path \u001b[38;5;241m+\u001b[39m texte) \u001b[38;5;28;01mas\u001b[39;00m f:\n\u001b[1;32m      3\u001b[0m         lines \u001b[38;5;241m=\u001b[39m f\u001b[38;5;241m.\u001b[39mreadlines()\n",
      "\u001b[0;31mNameError\u001b[0m: name 'fichiers' is not defined"
     ]
    }
   ],
   "source": [
    "for texte in fichiers:\n",
    "    with open(path + texte) as f:\n",
    "        lines = f.readlines()\n",
    "        indice = 0\n",
    "        while liste_numéros[indice] != liste_numéros[indice + 1]:\n",
    "            with open(liste_numéros[indice] + \".txt\", \"w\") as file:\n",
    "                file.write(str(lines))"
   ]
  },
  {
   "cell_type": "code",
   "execution_count": 13,
   "id": "e7f865dd",
   "metadata": {},
   "outputs": [],
   "source": [
    "with open('/home/noe/Documents/2022-2023/ENC/Mémoire/fichiers_txt/OCR_1/PdV-OCR1-001.txt') as f:\n",
    "    lines = f.readlines()"
   ]
  },
  {
   "cell_type": "code",
   "execution_count": 320,
   "id": "fd4ee3e6",
   "metadata": {},
   "outputs": [],
   "source": [
    "path = '/home/noe/Documents/2022-2023/ENC/Mémoire/Brut/fichiers_txt/Compilation/'"
   ]
  },
  {
   "cell_type": "code",
   "execution_count": 322,
   "id": "a82a32d0",
   "metadata": {},
   "outputs": [
    {
     "data": {
      "text/plain": [
       "['OCR_1.txt',\n",
       " 'OCR_2.txt',\n",
       " 'OCR_3.txt',\n",
       " 'OCR_4.txt',\n",
       " 'OCR_5.txt',\n",
       " 'OCR_6.txt',\n",
       " 'OCR_7.txt',\n",
       " 'OCR_8.txt']"
      ]
     },
     "execution_count": 322,
     "metadata": {},
     "output_type": "execute_result"
    }
   ],
   "source": [
    "from os import listdir\n",
    "from os.path import isfile, join\n",
    "fichiers = [f for f in listdir(path) if isfile(join(path, f))]\n",
    "fichiers = sorted(fichiers)\n",
    "fichiers"
   ]
  },
  {
   "cell_type": "code",
   "execution_count": 324,
   "id": "37eaeb46",
   "metadata": {},
   "outputs": [],
   "source": [
    "path = '/home/noe/Documents/2022-2023/ENC/Mémoire/'"
   ]
  },
  {
   "cell_type": "code",
   "execution_count": 325,
   "id": "193120d4",
   "metadata": {},
   "outputs": [],
   "source": [
    "os.chdir(path)"
   ]
  },
  {
   "cell_type": "code",
   "execution_count": 323,
   "id": "142631e2",
   "metadata": {},
   "outputs": [],
   "source": [
    "with open('OCR_completed.txt','w') as outfile:\n",
    "    for names in fichiers:\n",
    "        with open(path + names) as infile:\n",
    "            outfile.write(infile.read())\n",
    "        outfile.write('\\n')"
   ]
  },
  {
   "cell_type": "code",
   "execution_count": 326,
   "id": "13b00fe3",
   "metadata": {},
   "outputs": [],
   "source": [
    "liste_numéros = ['1.2\\n','1.3\\n','1.4\\n','1.5\\n','1.6\\n','1.7\\n','1.8\\n','1.9\\n','1.10\\n','1.11\\n','1.12\\n','1.13\\n','1.14\\n','1.15\\n',\n",
    "                '1.16\\n','1.17\\n','1.18\\n','1.19\\n','1.20\\n','1.21\\n','1.22\\n','1.23\\n','1.24\\n','1.25\\n','1.26\\n','1.27\\n','1.28\\n','1.29\\n',\n",
    "                '1.30\\n','1.31\\n','1.32\\n','1.33\\n']\n",
    "livre_2 = ['2.1\\n','2.2\\n','2.3\\n','2.4\\n','2.5\\n','2.6\\n','2.7\\n','2.8\\n','2.9\\n','2.10\\n','2.11\\n','2.12\\n','2.13\\n','2.14\\n','2.15\\n',\n",
    "            '2.16\\n','2.17\\n','2.18\\n','2.19\\n','2.20\\n','2.21\\n','2.22\\n','2.23\\n','2.24\\n','2.25\\n','2.26\\n','2.27\\n','2.28\\n','2.29\\n',\n",
    "            '2.30\\n','2.31\\n','2.32\\n','2.33\\n','2.34\\n','2.35\\n','2.36\\n','2.37\\n','2.38\\n','2.39\\n','2.40\\n','2.41\\n','2.42\\n','2.43\\n',\n",
    "           '2.44\\n','2.45\\n','2.46\\n','2.47\\n','2.48\\n','2.49\\n','2.50\\n','2.51\\n','2.52\\n','2.53\\n','2.54\\n',\n",
    "          '2.55\\n','2.56\\n','2.57\\n','2.58\\n','2.59\\n']\n"
   ]
  },
  {
   "cell_type": "code",
   "execution_count": 25,
   "id": "94972abb",
   "metadata": {},
   "outputs": [],
   "source": [
    "livre_3 = ['3.1\\n','3.2\\n','2.3\\n','3.4\\n','3.5\\n','3.6\\n','3.7\\n','3.8\\n','3.9\\n','3.10\\n','3.11\\n','3.12\\n','3.13\\n','3.14\\n','3.15\\n',\n",
    "            '3.16\\n','3.17\\n','3.18\\n','3.19\\n','3.20\\n','3.21\\n','3.22\\n','3.23\\n','3.24\\n','3.25\\n','3.26\\n','3.27\\n','3.28\\n','3.29\\n',\n",
    "            '3.30\\n','3.31\\n','3.32\\n','3.33\\n','3.34\\n','3.35\\n','3.36\\n','3.37\\n','3.38\\n','3.39\\n','3.40\\n','3.41\\n','3.42\\n','3.43\\n',\n",
    "           '3.44\\n','3.45\\n','3.46\\n','3.47\\n','3.48\\n','3.49\\n','3.50\\n','3.51\\n','3.52\\n','3.53\\n','3.54\\n',\n",
    "          '3.55\\n','3.56\\n','3.57\\n','3.58\\n','3.59\\n','3.60\\n','3.61\\n','3.62\\n','3.63\\n','3.64\\n',\n",
    "          '3.65\\n','3.66\\n','3.67\\n','3.68\\n','3.69\\n','3.70\\n','3.71\\n','3.72\\n','3.73\\n','3.74\\n',\n",
    "          '3.75\\n','3.76\\n','3.77\\n','3.78\\n','3.79\\n','3.80\\n','3.81\\n','3.82\\n','3.83\\n','3.84\\n',\n",
    "          '3.85\\n','3.86\\n','3.87\\n']"
   ]
  },
  {
   "cell_type": "code",
   "execution_count": 53,
   "id": "f65b0e87",
   "metadata": {},
   "outputs": [],
   "source": [
    "livre_4 = ['4.1\\n','4.2\\n','4.3\\n','4.4\\n','4.5\\n','4.6\\n','4.7\\n','4.8\\n','4.9\\n','4.10\\n','4.11\\n','4.12\\n','4.13\\n','4.14\\n','4.15\\n',\n",
    "            '4.16\\n']"
   ]
  },
  {
   "cell_type": "code",
   "execution_count": 70,
   "id": "b5b4abff",
   "metadata": {},
   "outputs": [],
   "source": [
    "words = [w.replace('5.1', '3.1') for w in livre_3]"
   ]
  },
  {
   "cell_type": "code",
   "execution_count": 219,
   "id": "4d4b2992",
   "metadata": {},
   "outputs": [],
   "source": [
    "livre = ['3.1\\n','3.2\\n','2.3\\n','3.4\\n','3.5\\n','3.6\\n','3.7\\n','3.8\\n','3.9\\n','3.10\\n','3.11\\n','3.12\\n','3.13\\n','3.14\\n','3.15\\n',\n",
    "            '3.16\\n','3.17\\n','3.18\\n','3.19\\n','3.20\\n','3.21\\n','3.22\\n','3.23\\n','3.24\\n','3.25\\n','3.26\\n','3.27\\n','3.28\\n','3.29\\n',\n",
    "            '3.30\\n','3.31\\n','3.32\\n','3.33\\n','3.34\\n','3.35\\n','3.36\\n']"
   ]
  },
  {
   "cell_type": "code",
   "execution_count": 220,
   "id": "b41e5ef6",
   "metadata": {},
   "outputs": [],
   "source": [
    "livre_6.extend([w.replace('3.', '6.') for w in livre])"
   ]
  },
  {
   "cell_type": "code",
   "execution_count": 205,
   "id": "dab0c533",
   "metadata": {},
   "outputs": [],
   "source": [
    "livre5.append('5.137\\n')"
   ]
  },
  {
   "cell_type": "code",
   "execution_count": 208,
   "id": "2baf178e",
   "metadata": {},
   "outputs": [],
   "source": [
    "livre5[2] = '5.3\\n'"
   ]
  },
  {
   "cell_type": "code",
   "execution_count": 147,
   "id": "1d8cf5bb",
   "metadata": {},
   "outputs": [],
   "source": [
    "livre5.append('5.137\\n')"
   ]
  },
  {
   "cell_type": "code",
   "execution_count": 225,
   "id": "5e63dc03",
   "metadata": {},
   "outputs": [],
   "source": [
    "livre_6 = livre_6[:-3]"
   ]
  },
  {
   "cell_type": "code",
   "execution_count": 226,
   "id": "a9e1f462",
   "metadata": {},
   "outputs": [
    {
     "data": {
      "text/plain": [
       "['6.1\\n',\n",
       " '6.2\\n',\n",
       " '2.3\\n',\n",
       " '6.4\\n',\n",
       " '6.5\\n',\n",
       " '6.6\\n',\n",
       " '6.7\\n',\n",
       " '6.8\\n',\n",
       " '6.9\\n',\n",
       " '6.10\\n',\n",
       " '6.11\\n',\n",
       " '6.12\\n',\n",
       " '6.13\\n',\n",
       " '6.14\\n',\n",
       " '6.15\\n',\n",
       " '6.16\\n',\n",
       " '6.17\\n',\n",
       " '6.18\\n',\n",
       " '6.19\\n',\n",
       " '6.20\\n',\n",
       " '6.21\\n',\n",
       " '6.22\\n',\n",
       " '6.23\\n',\n",
       " '6.24\\n',\n",
       " '6.25\\n',\n",
       " '6.26\\n',\n",
       " '6.27\\n',\n",
       " '6.28\\n',\n",
       " '6.29\\n',\n",
       " '6.30\\n',\n",
       " '6.31\\n',\n",
       " '6.32\\n',\n",
       " '6.33\\n']"
      ]
     },
     "execution_count": 226,
     "metadata": {},
     "output_type": "execute_result"
    }
   ],
   "source": [
    "livre_6"
   ]
  },
  {
   "cell_type": "code",
   "execution_count": 211,
   "id": "7d54792d",
   "metadata": {},
   "outputs": [],
   "source": [
    "texte = []"
   ]
  },
  {
   "cell_type": "code",
   "execution_count": 327,
   "id": "a99f322f",
   "metadata": {},
   "outputs": [
    {
     "ename": "NameError",
     "evalue": "name 'lines' is not defined",
     "output_type": "error",
     "traceback": [
      "\u001b[0;31m---------------------------------------------------------------------------\u001b[0m",
      "\u001b[0;31mNameError\u001b[0m                                 Traceback (most recent call last)",
      "Input \u001b[0;32mIn [327]\u001b[0m, in \u001b[0;36m<module>\u001b[0;34m\u001b[0m\n\u001b[0;32m----> 1\u001b[0m index \u001b[38;5;241m=\u001b[39m \u001b[43mlines\u001b[49m\u001b[38;5;241m.\u001b[39mindex(\u001b[38;5;124m'\u001b[39m\u001b[38;5;124m1.1\u001b[39m\u001b[38;5;130;01m\\n\u001b[39;00m\u001b[38;5;124m'\u001b[39m)\n\u001b[1;32m      2\u001b[0m index\n",
      "\u001b[0;31mNameError\u001b[0m: name 'lines' is not defined"
     ]
    }
   ],
   "source": [
    "index = lines.index('1.1\\n')\n",
    "index"
   ]
  },
  {
   "cell_type": "code",
   "execution_count": 7,
   "id": "cdef3f18",
   "metadata": {},
   "outputs": [],
   "source": [
    "x = 0\n",
    "while x < index:\n",
    "    texte_1.append(lines[x])\n",
    "    x = x + 1 "
   ]
  },
  {
   "cell_type": "code",
   "execution_count": 15,
   "id": "d892c791",
   "metadata": {},
   "outputs": [],
   "source": [
    "with open('charte_1','w') as outfile:\n",
    "    for item in texte_1:\n",
    "        outfile.write(item)"
   ]
  },
  {
   "cell_type": "code",
   "execution_count": 52,
   "id": "e658d7a0",
   "metadata": {},
   "outputs": [],
   "source": [
    "for i in liste_numéros:\n",
    "    \n",
    "    texte = []\n",
    "    index = lines.index(i)\n",
    "\n",
    "    x = 0\n",
    "\n",
    "    while x < index:\n",
    "\n",
    "        texte.append(lines[x])\n",
    "        x = x + 1\n",
    "    x = index\n",
    "    with open(f\"{i}.txt\",'w') as outfile:\n",
    "        for item in texte:\n",
    "            outfile.write(item)"
   ]
  },
  {
   "cell_type": "code",
   "execution_count": 229,
   "id": "cfb45aab",
   "metadata": {},
   "outputs": [],
   "source": [
    "with open('/home/noe/Documents/2022-2023/ENC/Mémoire/OCR_completed.txt') as f:\n",
    "    lines = f.readlines()"
   ]
  },
  {
   "cell_type": "code",
   "execution_count": 230,
   "id": "8b38d0d5",
   "metadata": {
    "scrolled": true
   },
   "outputs": [
    {
     "name": "stdout",
     "output_type": "stream",
     "text": [
      "39811\n",
      "6.1\n",
      "\n",
      "39983\n",
      "6.2\n",
      "\n",
      "39983\n",
      "2.3\n",
      "\n",
      "40182\n",
      "6.4\n",
      "\n",
      "40263\n",
      "6.5\n",
      "\n",
      "40357\n",
      "6.6\n",
      "\n",
      "40482\n",
      "6.7\n",
      "\n",
      "40556\n",
      "6.8\n",
      "\n",
      "40651\n",
      "6.9\n",
      "\n",
      "41030\n",
      "6.10\n",
      "\n",
      "41083\n",
      "6.11\n",
      "\n",
      "41180\n",
      "6.12\n",
      "\n",
      "41250\n",
      "6.13\n",
      "\n",
      "41324\n",
      "6.14\n",
      "\n",
      "41422\n",
      "6.15\n",
      "\n",
      "41460\n",
      "6.16\n",
      "\n",
      "41539\n",
      "6.17\n",
      "\n",
      "41584\n",
      "6.18\n",
      "\n",
      "41658\n",
      "6.19\n",
      "\n",
      "41721\n",
      "6.20\n",
      "\n",
      "41788\n",
      "6.21\n",
      "\n",
      "41848\n",
      "6.22\n",
      "\n",
      "41909\n",
      "6.23\n",
      "\n",
      "41965\n",
      "6.24\n",
      "\n",
      "42023\n",
      "6.25\n",
      "\n",
      "42098\n",
      "6.26\n",
      "\n",
      "42332\n",
      "6.27\n",
      "\n",
      "42361\n",
      "6.28\n",
      "\n",
      "42390\n",
      "6.29\n",
      "\n",
      "42450\n",
      "6.30\n",
      "\n",
      "42600\n",
      "6.31\n",
      "\n",
      "42643\n",
      "6.32\n",
      "\n",
      "42708\n",
      "6.33\n",
      "\n"
     ]
    }
   ],
   "source": [
    "x = 0\n",
    "\n",
    "for i in livre_6:\n",
    "    \n",
    "    texte = []\n",
    "    index = lines.index(i)\n",
    "\n",
    "    while x < index:\n",
    "\n",
    "        texte.append(lines[x])\n",
    "        x = x + 1\n",
    "        \n",
    "    print(x)\n",
    "    print(lines[index])\n",
    "    with open(f\"{i}.txt\",'w') as outfile:\n",
    "        for item in texte:\n",
    "            outfile.write(item)"
   ]
  },
  {
   "cell_type": "code",
   "execution_count": 301,
   "id": "6215dfe5",
   "metadata": {},
   "outputs": [],
   "source": [
    "path = '/home/noe/Documents/2022-2023/ENC/Mémoire/Livres_OCR_par_chartes/Livre_1/'"
   ]
  },
  {
   "cell_type": "code",
   "execution_count": 302,
   "id": "3db7d798",
   "metadata": {},
   "outputs": [],
   "source": [
    "os.chdir(path)"
   ]
  },
  {
   "cell_type": "code",
   "execution_count": 298,
   "id": "c1c28d5b",
   "metadata": {},
   "outputs": [],
   "source": [
    "def find_index(lst, substring):\n",
    "    for i, s in enumerate(lst):\n",
    "        if substring in s:\n",
    "            return i\n",
    "def find_empty_element(lst, start_index):\n",
    "    for i in range(start_index, len(lst)):\n",
    "        if lst[i] == ' ':\n",
    "            return i\n",
    "    return -1\n"
   ]
  },
  {
   "cell_type": "code",
   "execution_count": 329,
   "id": "a8f9ea59",
   "metadata": {
    "scrolled": false
   },
   "outputs": [
    {
     "ename": "FileNotFoundError",
     "evalue": "[Errno 2] No such file or directory: '1.9\\n.txt'",
     "output_type": "error",
     "traceback": [
      "\u001b[0;31m---------------------------------------------------------------------------\u001b[0m",
      "\u001b[0;31mFileNotFoundError\u001b[0m                         Traceback (most recent call last)",
      "Input \u001b[0;32mIn [329]\u001b[0m, in \u001b[0;36m<module>\u001b[0;34m\u001b[0m\n\u001b[1;32m      1\u001b[0m \u001b[38;5;28;01mimport\u001b[39;00m \u001b[38;5;21;01mre\u001b[39;00m\n\u001b[0;32m----> 2\u001b[0m \u001b[38;5;28;01mwith\u001b[39;00m \u001b[38;5;28;43mopen\u001b[39;49m\u001b[43m(\u001b[49m\u001b[38;5;124;43m'\u001b[39;49m\u001b[38;5;124;43m1.9\u001b[39;49m\u001b[38;5;130;43;01m\\n\u001b[39;49;00m\u001b[38;5;124;43m.txt\u001b[39;49m\u001b[38;5;124;43m'\u001b[39;49m\u001b[43m,\u001b[49m\u001b[38;5;124;43m'\u001b[39;49m\u001b[38;5;124;43mr\u001b[39;49m\u001b[38;5;124;43m'\u001b[39;49m\u001b[43m)\u001b[49m \u001b[38;5;28;01mas\u001b[39;00m file:\n\u001b[1;32m      3\u001b[0m     data \u001b[38;5;241m=\u001b[39m file\u001b[38;5;241m.\u001b[39mreadlines()\n\u001b[1;32m      4\u001b[0m indices \u001b[38;5;241m=\u001b[39m []\n",
      "\u001b[0;31mFileNotFoundError\u001b[0m: [Errno 2] No such file or directory: '1.9\\n.txt'"
     ]
    }
   ],
   "source": [
    "import re\n",
    "with open('1.9\\n.txt','r') as file:\n",
    "    data = file.readlines()\n",
    "indices = []\n",
    "fin = []\n",
    "for i in data:\n",
    "    if re.match(r'^1.\\ [A-Z]', i):\n",
    "        indices.append(data.index(i))\n",
    "i = indices[0]\n",
    "while i < indices[1]:\n",
    "    fin.append(data[i])\n",
    "    i += 1\n",
    "string = \" \".join(fin)\n",
    "test = string.split('\\n')"
   ]
  },
  {
   "cell_type": "code",
   "execution_count": 287,
   "id": "3b8caeef",
   "metadata": {},
   "outputs": [],
   "source": [
    "def Rubrica(liste):\n",
    "    vide = []\n",
    "    for i in liste:\n",
    "        if i.startswith(' Rubrica'):\n",
    "            vide.append(liste.index(i))\n",
    "            num_ind = vide[0]\n",
    "            liste = liste[:num_ind]\n",
    "    return liste "
   ]
  },
  {
   "cell_type": "code",
   "execution_count": 293,
   "id": "40a4b379",
   "metadata": {
    "scrolled": false
   },
   "outputs": [],
   "source": [
    "x = Rubrica(test)"
   ]
  },
  {
   "cell_type": "code",
   "execution_count": 304,
   "id": "09ee1c5b",
   "metadata": {},
   "outputs": [
    {
     "data": {
      "text/plain": [
       "['1. Adauctae nobis continue felicitatis auspicia, quibus dextera Domini',\n",
       " ' prosequitur gressus nostros, desiderium uestrum uolumus non latere.',\n",
       " ' ',\n",
       " ' 2. Cum enim in obsidione Fauentiae preterita hieme fixa fuerint uictricia',\n",
       " ' nostra castra, et insultus noster propter asperitatem temporis non pateret,',\n",
       " ' sed machinis et instrumentis bellicis intus et exterius quassaretur et muris',\n",
       " ' ex continuo machinarum ictu collapsis ac per subterraneas uias, quas nostri',\n",
       " ' fecerant, attingentes menia ciuitatis et intima penetrantes, uerni temporis',\n",
       " ' adueniente temperie, cum non confiderent ulterius se tueri, misericordiam',\n",
       " ' nostram tandem humiliter implorarunt, et die ... cum omni deuotione se',\n",
       " ' ad mandata nostra conuertens, quamquam suis diffisa meritis, de nostra',\n",
       " ' tamen, quae suis preponderabat excessibus, pietate confisa dictioni nostrae',\n",
       " ' colla subiecit, et corporali fidelitatis debitae prestito iuramento et omnibus',\n",
       " ' aliis illicitis iuramentis, quae fecerat, penitus abiuratis.',\n",
       " ' ',\n",
       " ' 3. Nos igitur, qui de nostrorum subiectorum conuersione gaudemus, glo-',\n",
       " ' riosum uindictae genus pensantes ignoscere subditis et suorum excessuum',\n",
       " ' iudicium moderari, ciuitatem eamdem et ciues eius in gratia nostra clementer',\n",
       " ' accepimus et eos absoluimus ac offensas remisimus, quas patrarant, cap-',\n",
       " ' tiuis eorum liberaliter liberatis; et tandem eis de gratia nostra confidentiam',\n",
       " ' ',\n",
       " ' 114',\n",
       " ' ',\n",
       " ' ',\n",
       " ' dedimus, ut uicti nostramque misericordiam consecuti uictoriae nostrae',\n",
       " ' dono gaudeant, et nichil dulcius nichilque suauius iugo Imperii sentiant',\n",
       " ' experiri. 4. Cumque post uictam et obtentam Fauentiam, ad depopulationem',\n",
       " ' uicinae Bononiae nostrum preparemus propositum instantius et conatus,',\n",
       " ' et exercitu nostro potenti ex diuersis mundi partibus restaurato accingere-',\n",
       " ' mur feliciter, auribus nostris noua expectata desiderabiliter occurrerunt:',\n",
       " ' 5. quod cum episcopus Penestrinus, nostri honoris et nominis obtractator,',\n",
       " ' qui rapacem lupum sub ouina pelle tegebat, et quod posset effugere manus',\n",
       " ' nostras, exprotracta, uelut suarum in nos conscius offensarum, frequenter',\n",
       " ' species hominum ex alterna uarietate commerciorum contraxit, et O. Sancti',\n",
       " ' Nicolai in Carcere Tulliano, diaconus cardinalis, 6. qui diu legati fuerant,',\n",
       " ' necnon et plures alii pro celebrando Romano Concilio contra nos ex diuersis',\n",
       " ' mundi prouinciis congregati Ianuam reuertentes, et conspiratione facta cum',\n",
       " ' Ianuensibus nostris rebellibus et armata ibidem copia galearum, cum quibus',\n",
       " ' duci Romam et Ianuam reduci conuenerant, sub infaustis eorum auspiciis',\n",
       " ' uiam nauigationis assumerent, galeas nostras et Pisanorum, quas ad eorum',\n",
       " ' impediendum transitum sollicitudo nostra diu preuiderat et pararat in locis',\n",
       " ' et portubus, per quae oportebat eos necessario pertransire, obuias habue-',\n",
       " ' runt. 7. Ita quod homines Regni nostri cum uictorioso exercitu nostro et',\n",
       " ' fidelibus Pisanis nostrorum infidelium Ianuensium galeas potenter aggressi,',\n",
       " ' tribus eorum galeis in mari submersis et personis amissis, uiginti duas ga-',\n",
       " ' leas triumphaliter habuerunt, quarum sedecim obtentae sunt specialiter ab',\n",
       " ' hominibus Regni nostri; 8. reliquis sex ad manus deuenientibus Pisanorum,',\n",
       " ' in quibus capti sunt duo legati predicti et cum eis G. de Romaniola, tertius',\n",
       " ' similiter legatus, ut cum eisdem legatis insimul ligaretur. 9. Capti quoque',\n",
       " ' sunt quamplures archiepiscopi, episcopi, abbates, priores, presbyteri, procu-',\n",
       " ' ratores et diuersorum nuntii prelatorum, ambassiatores ciuitatum rebellium',\n",
       " ' Lombardorum, qui contra nos ad ipsum Concilium mittebantur, et quattuor',\n",
       " ' milia Ianuensium electorum, qui pro comitatu eorum et ducatu deputati',\n",
       " ' fuerant prelatorum: quos omnes carcer noster includit.',\n",
       " ' ',\n",
       " ' 10. Quibus nouis ad nostram audientiam grata relatione perlatis, quia',\n",
       " ' negotii qualitas expetebat et rei succedentis euentus maiora nobis felicita-',\n",
       " ' tis auspicia suadebat, consilium eundi Bononiam reuocantes, propensiori',\n",
       " ' consilio uersus Romam uictricia castra nostra conuertimus, ubi sub uexillis',\n",
       " ' potentiae nostrae nos acclamat fortuna felicior, per quam reliquiae, si quae',\n",
       " ' sunt nostrorum rebellium, consternentur et capitis humiliata superbia col-',\n",
       " ' lapsa in suo corpore seditionis membra tabescant. 11. Adiecit etiam manus',\n",
       " ' Domini uotis nostris augmenta successuum et continuauit e celo uictoriam',\n",
       " ' nostrorum titulis triumphorum.',\n",
       " ' ',\n",
       " ' 12. Nam cum de certa die illi Papienses nostri fideles, una cum uicariis',\n",
       " ' illarum partium et aliis fidelibus nostris, ad coartandum per terram Ianuam,',\n",
       " ' quae in mari prostrata fuerat, magnifice processissent, Mediolanenseses,',\n",
       " ' hostes Imperii, suo motu precipites, sperantes maiora perferre Papiensibus',\n",
       " ' ',\n",
       " ' 115',\n",
       " ' ',\n",
       " ' propter absentiam suorum militum nocumenta, per Commune, cum G.',\n",
       " ' de Monte Longo, quem papa prefecerat eis capitaneum et legatum, cum',\n",
       " ' buccinis et tubis sub infaustis eorum uexillis clauium exiuerunt. 13. Et cum',\n",
       " ' Papiensium finibus uicinassent, Papienses fideles nostri cum militibus eo-',\n",
       " ' rum, qui die illo in sero ab exercitu ex inopinato redierant, Domino faciente,',\n",
       " ' pro Mediolanensium superbia conterenda, ipsorum aduentu cognito, eis',\n",
       " ' audacter et uiriliter concurrerunt, et sub felici nostro nomine militantes',\n",
       " ' ipsos potenter aggressi triumphaliter deuicerunt, capientes tubas, buccinas',\n",
       " ' et uexilla clauium ac uexillum Communis, cum Carrucium non haberent.',\n",
       " ' ',\n",
       " ' 14. Quingentos quoque de electis Mediolanensium uinctos Papiensis',\n",
       " ' catena duxit, preter occisos, quorum numerus uix poterat estimari. Socii',\n",
       " ' uero legati capti fuerunt, sed de legato ipso, si euadere potuit uel in bello',\n",
       " ' occiderit, quia in emissione presentium non poterat haberi certitudo, quid',\n",
       " ' de persona sua cesserit, ignoramus. 15. Sed istud inter dubia nondum certi',\n",
       " ' credere uolumus, in eo qui nostrum in suo iure firmat Imperium confidentes,',\n",
       " ' quod, tribus in fugitiuo equore captis legatis pariter et ligatis, iustus Dominus',\n",
       " ' quartum in terra legatum non permiserit euasisse.',\n",
       " ' ',\n",
       " ' 16. Quae omnia uobis significamus ad gaudium, ut sicut estis nostrorum',\n",
       " ' successuum auidi, sic sitis participes triumphorum.']"
      ]
     },
     "execution_count": 304,
     "metadata": {},
     "output_type": "execute_result"
    }
   ],
   "source": [
    "Number(test)"
   ]
  },
  {
   "cell_type": "code",
   "execution_count": 328,
   "id": "6b76dbcb",
   "metadata": {},
   "outputs": [],
   "source": [
    "def Number(liste):\n",
    "    haha = []\n",
    "    for i in liste:\n",
    "        if re.findall('[0-9]{1,2}\\.',i) :\n",
    "            haha.append(re.findall('[0-9]{1,2}\\.',i))\n",
    "    flat_list = [item for sublist in haha for item in sublist]\n",
    "    for i in range(len(flat_list)):\n",
    "        flat_list[i] = int(flat_list[i][:-1])\n",
    "    #flat_list\n",
    "    texte = []\n",
    "    x = 0\n",
    "    while flat_list[x] < flat_list[x+1]:\n",
    "        texte.append(flat_list[x])\n",
    "        x+=1\n",
    "    final = str(texte[-1] +1)+'. '\n",
    "    #final\n",
    "    value_1 = find_index(test,final)\n",
    "    #value_1\n",
    "    final_index_value = find_empty_element(test,value_1)\n",
    "    #final_index_value\n",
    "    result = test[:final_index_value]\n",
    "    return result"
   ]
  },
  {
   "cell_type": "code",
   "execution_count": 255,
   "id": "8792f089",
   "metadata": {},
   "outputs": [],
   "source": [
    "flat_list = [item for sublist in liste for item in sublist]\n",
    "for i in range(len(flat_list)):\n",
    "    flat_list[i] = int(flat_list[i][:-1])\n",
    "#flat_list"
   ]
  },
  {
   "cell_type": "code",
   "execution_count": 247,
   "id": "61854704",
   "metadata": {},
   "outputs": [
    {
     "data": {
      "text/plain": [
       "'11. '"
      ]
     },
     "execution_count": 247,
     "metadata": {},
     "output_type": "execute_result"
    }
   ],
   "source": [
    "texte = []\n",
    "x = 0\n",
    "while flat_list[x] < flat_list[x+1]:\n",
    "    texte.append(flat_list[x])\n",
    "    x+=1\n",
    "final = str(texte[-1] +1)+'. '\n",
    "final\n"
   ]
  },
  {
   "cell_type": "code",
   "execution_count": 162,
   "id": "d09a5664",
   "metadata": {},
   "outputs": [],
   "source": [
    "def find_index(lst, substring):\n",
    "    for i, s in enumerate(lst):\n",
    "        if substring in s:\n",
    "            return i"
   ]
  },
  {
   "cell_type": "code",
   "execution_count": 248,
   "id": "d340e4e3",
   "metadata": {},
   "outputs": [
    {
     "data": {
      "text/plain": [
       "57"
      ]
     },
     "execution_count": 248,
     "metadata": {},
     "output_type": "execute_result"
    }
   ],
   "source": [
    "value_1 = find_index(test,final)\n",
    "value_1"
   ]
  },
  {
   "cell_type": "code",
   "execution_count": 165,
   "id": "2d3749e8",
   "metadata": {},
   "outputs": [],
   "source": [
    "def find_empty_element(lst, start_index):\n",
    "    for i in range(start_index, len(lst)):\n",
    "        if lst[i] == ' ':\n",
    "            return i\n",
    "    return -1\n"
   ]
  },
  {
   "cell_type": "code",
   "execution_count": 249,
   "id": "2f88f42e",
   "metadata": {},
   "outputs": [
    {
     "data": {
      "text/plain": [
       "60"
      ]
     },
     "execution_count": 249,
     "metadata": {},
     "output_type": "execute_result"
    }
   ],
   "source": [
    "final_index_value = find_empty_element(test,value_1)\n",
    "final_index_value"
   ]
  },
  {
   "cell_type": "code",
   "execution_count": 254,
   "id": "8a2138ba",
   "metadata": {},
   "outputs": [
    {
     "data": {
      "text/plain": [
       "['1. Ad uos est hoc uerbum, filii Effrem male tendentes arcum et peius',\n",
       " ' emittentes sagittas, turpiter in die belli conuersi retrorsum. Ad uos est hoc',\n",
       " ' uerbum, filii Belial, dispersionis oues. Ad uos est hoc uerbum, animalia capita',\n",
       " ' non habentia, magni iudicis assessores. Ad uos est hoc uerbum, cardinales',\n",
       " ' obliquati, quibus male uoluitur orbis. Ad uos est hoc uerbum, pro quibus',\n",
       " ' totus mundus prorumpens in uerba obloquitur. 2. Nec ego possum loqui,',\n",
       " ' quin obloquar, qui de mundo sum, licet immundus, propter quod oportet',\n",
       " ' me sentire cum mundo, tamquam pars suo toti nec dissona, nec aduersa. 3.',\n",
       " ' Scribentis itaque attendite de dura et inepta materia, rudem epistolam exordii',\n",
       " ' dignitate priuatam. Lingua mea, uelocitate compulsa, prius prorupit in uerba',\n",
       " ' quam concipiens ei spiritus delegasset, et sic superioris non expectato imperio',\n",
       " ' minus plene concepta edere festinauit. Habet enim hoc animus conturbatus,',\n",
       " ' quod plerumque sermonem incontinuum parit, aliquando et abortiuum. 4.',\n",
       " ' Communis namque animorum existit conceptio et sermo uulgaris, quod non',\n",
       " ' mediator Dei et hominum Iesus Christus, de summo celo qui uenit ponere',\n",
       " ' pacem in finibus terrae, Apostolorum magister et dominus, sed diuisus in',\n",
       " ' se Sathanas, princeps Aquilonarius, sit in medio uestrum, tamquam quibus',\n",
       " ' ministrat, ille persuasor discordiae, spiritus tenebrosus, qui posuit linguas',\n",
       " ' uestras in diuisiones et in pluralitatis articulos uestram disgregare compulit',\n",
       " ' unitatem, dum nec uobis, nec mundo consulitis, qui tot periculis propulsa-',\n",
       " ' tur, et Petri nauicula, quae per maris altitudinem uentorum flatibus rapitur,',\n",
       " ' remis et remige destituta, non est aliquatenus uobis curae: quae quamuis in',\n",
       " ' se submersionem non timeat, in suis tamen multa et uaria patitur naufragia',\n",
       " ' tempestatum. 5. Sane si diligenter attenditis qualiter nationes et gentes, quas',\n",
       " ' iudicare soletis, contra uos derisorie mouent capita sua, in se unusquisque',\n",
       " ' palleret, et ad tam publicum et detestabile opprobrium propulsandum non',\n",
       " ' ',\n",
       " ' 145',\n",
       " ' ',\n",
       " ' inueniri posset necessarium argumentum: quia dum quilibet uestrum aspirat',\n",
       " ' ad cathedram, unus non consentit in alium, et dum alter in alterum non con-',\n",
       " ' sentit, nullus erigitur, et dum nullus erigitur, cathedralis dignitas euanescit,',\n",
       " ' et sic ex disconueniencia uestra conuenientis Ecclesiae status confunditur, et',\n",
       " ' fidei qua uiuitis deperit rectitudo. 6. Per capitis quidem defectum immergit,',\n",
       " ' ut, ubi natura sensus imposuit, monstra reputemini quaedam et membra',\n",
       " ' truncata, in cunctis sensibus defectiua, quoniam uidetur obtenebratus uisus',\n",
       " ' uester, diminutus auditus, et ille oris sonus in fines orbis terrae olim sonorus,',\n",
       " ' penitus obmutescens, factus est derisorius echo. 7. Nam Petri et Pauli hodie',\n",
       " ' non audiuntur tonitrua, concionatores, sicut canes muti, ad silentium com-',\n",
       " ' pelluntur; forte paratae sunt uobis manus ad recipiendum, sed desunt mune-',\n",
       " ' ra, quia, qui ueniebant de Saba, aurum deferentes, modo non ueniunt, cum',\n",
       " ' non inueniant Dominum in presepe, ducatum eis celesti sidere denegante.',\n",
       " ' 8. Pedes etiam non habetis ad ambulandum, et dummodo potentis uos manus',\n",
       " ' cohercet, ultra quinque pedes uestra uestigia non mouentur. Proh pudor!,',\n",
       " ' minima reptilium animalium in prudentia uos precedunt, nam aues sine',\n",
       " ' ductrice non uolant, apes absque rege non uiuunt. Vos autem sine rectoris',\n",
       " ' gubernaculo fluctuatis, matrem Ecclesiam fortuitis casibus relinquentes, non',\n",
       " ' attenditis quod illi errantes Israelitici, quadraginta diebus absque duce uagan-',\n",
       " ' tes, ad summam demenciam deuenerunt, pro Deo sibi uitulum conflatilem',\n",
       " ' statuentes. 9. Sic papalis cessauit unctio; ueniet ergo alius Sanctus sanctorum:',\n",
       " ' oc ais tlle est? © imexsuseo7 6 cops) Aechcl irc oeu babes Cis sara.',\n",
       " ' petunt panem, et non est qui porrigat eis ex omnibus caris suis; et Syon dudum',\n",
       " ' pulchra facie iacet sicut mulier menstruata, cuius uiae lugent et non est qui',\n",
       " ' ueniat ad sollempnitatem. 10. Concidit gloria uultus eius, oculi columbarum',\n",
       " ' uisu deficiunt, quia non uidetis quantum proximi estis naufragio, dum sine',\n",
       " ' remige nauigatis. O si possetis alternatim libros conscientiae legere, quot et',\n",
       " ' quantas inueniretis in eis accusatorias lectiones, contrariis sententiis inuolutas.',\n",
       " ' 11. Reuertatur ergo, reuertatur quilibet in seipsum, et ad resumendum caput,',\n",
       " ' sensus et rationem induite, ut mater Ecclesia, tam diu suo priuata lumine,',\n",
       " ' decorem suscipiat et ad statum pristinum reducatur.']"
      ]
     },
     "execution_count": 254,
     "metadata": {},
     "output_type": "execute_result"
    }
   ],
   "source": [
    "result = test[:final_index_value]\n",
    "result"
   ]
  },
  {
   "cell_type": "code",
   "execution_count": 311,
   "id": "4e28208c",
   "metadata": {
    "scrolled": true
   },
   "outputs": [],
   "source": [
    "folder_path = '/home/noe/Documents/2022-2023/ENC/Mémoire/Livres_OCR_par_chartes/Livre_1/'\n",
    "old_char = '_'\n",
    "new_char = ''\n",
    "\n",
    "for filename in os.listdir(folder_path):\n",
    "    old_file_path = os.path.join(folder_path, filename)\n",
    "    split_filename = filename.split(old_char)\n",
    "    if len(split_filename) >= 3:\n",
    "        split_filename[-2] = new_char\n",
    "        new_filename = old_char.join(split_filename)\n",
    "    else:\n",
    "        new_filename = filename\n",
    "    new_file_path = os.path.join(folder_path, new_filename)\n",
    "    os.rename(old_file_path, new_file_path)  "
   ]
  },
  {
   "cell_type": "code",
   "execution_count": 252,
   "id": "fd68913f",
   "metadata": {},
   "outputs": [
    {
     "data": {
      "text/plain": [
       "['1. Ad uos est hoc uerbum, filii Effrem male tendentes arcum et peius',\n",
       " ' emittentes sagittas, turpiter in die belli conuersi retrorsum. Ad uos est hoc',\n",
       " ' uerbum, filii Belial, dispersionis oues. Ad uos est hoc uerbum, animalia capita',\n",
       " ' non habentia, magni iudicis assessores. Ad uos est hoc uerbum, cardinales',\n",
       " ' obliquati, quibus male uoluitur orbis. Ad uos est hoc uerbum, pro quibus',\n",
       " ' totus mundus prorumpens in uerba obloquitur. 2. Nec ego possum loqui,',\n",
       " ' quin obloquar, qui de mundo sum, licet immundus, propter quod oportet',\n",
       " ' me sentire cum mundo, tamquam pars suo toti nec dissona, nec aduersa. 3.',\n",
       " ' Scribentis itaque attendite de dura et inepta materia, rudem epistolam exordii',\n",
       " ' dignitate priuatam. Lingua mea, uelocitate compulsa, prius prorupit in uerba',\n",
       " ' quam concipiens ei spiritus delegasset, et sic superioris non expectato imperio',\n",
       " ' minus plene concepta edere festinauit. Habet enim hoc animus conturbatus,',\n",
       " ' quod plerumque sermonem incontinuum parit, aliquando et abortiuum. 4.',\n",
       " ' Communis namque animorum existit conceptio et sermo uulgaris, quod non',\n",
       " ' mediator Dei et hominum Iesus Christus, de summo celo qui uenit ponere',\n",
       " ' pacem in finibus terrae, Apostolorum magister et dominus, sed diuisus in',\n",
       " ' se Sathanas, princeps Aquilonarius, sit in medio uestrum, tamquam quibus',\n",
       " ' ministrat, ille persuasor discordiae, spiritus tenebrosus, qui posuit linguas',\n",
       " ' uestras in diuisiones et in pluralitatis articulos uestram disgregare compulit',\n",
       " ' unitatem, dum nec uobis, nec mundo consulitis, qui tot periculis propulsa-',\n",
       " ' tur, et Petri nauicula, quae per maris altitudinem uentorum flatibus rapitur,',\n",
       " ' remis et remige destituta, non est aliquatenus uobis curae: quae quamuis in',\n",
       " ' se submersionem non timeat, in suis tamen multa et uaria patitur naufragia',\n",
       " ' tempestatum. 5. Sane si diligenter attenditis qualiter nationes et gentes, quas',\n",
       " ' iudicare soletis, contra uos derisorie mouent capita sua, in se unusquisque',\n",
       " ' palleret, et ad tam publicum et detestabile opprobrium propulsandum non',\n",
       " ' ',\n",
       " ' 145',\n",
       " ' ',\n",
       " ' inueniri posset necessarium argumentum: quia dum quilibet uestrum aspirat',\n",
       " ' ad cathedram, unus non consentit in alium, et dum alter in alterum non con-',\n",
       " ' sentit, nullus erigitur, et dum nullus erigitur, cathedralis dignitas euanescit,',\n",
       " ' et sic ex disconueniencia uestra conuenientis Ecclesiae status confunditur, et',\n",
       " ' fidei qua uiuitis deperit rectitudo. 6. Per capitis quidem defectum immergit,',\n",
       " ' ut, ubi natura sensus imposuit, monstra reputemini quaedam et membra',\n",
       " ' truncata, in cunctis sensibus defectiua, quoniam uidetur obtenebratus uisus',\n",
       " ' uester, diminutus auditus, et ille oris sonus in fines orbis terrae olim sonorus,',\n",
       " ' penitus obmutescens, factus est derisorius echo. 7. Nam Petri et Pauli hodie',\n",
       " ' non audiuntur tonitrua, concionatores, sicut canes muti, ad silentium com-',\n",
       " ' pelluntur; forte paratae sunt uobis manus ad recipiendum, sed desunt mune-',\n",
       " ' ra, quia, qui ueniebant de Saba, aurum deferentes, modo non ueniunt, cum',\n",
       " ' non inueniant Dominum in presepe, ducatum eis celesti sidere denegante.',\n",
       " ' 8. Pedes etiam non habetis ad ambulandum, et dummodo potentis uos manus',\n",
       " ' cohercet, ultra quinque pedes uestra uestigia non mouentur. Proh pudor!,',\n",
       " ' minima reptilium animalium in prudentia uos precedunt, nam aues sine',\n",
       " ' ductrice non uolant, apes absque rege non uiuunt. Vos autem sine rectoris',\n",
       " ' gubernaculo fluctuatis, matrem Ecclesiam fortuitis casibus relinquentes, non',\n",
       " ' attenditis quod illi errantes Israelitici, quadraginta diebus absque duce uagan-',\n",
       " ' tes, ad summam demenciam deuenerunt, pro Deo sibi uitulum conflatilem',\n",
       " ' statuentes. 9. Sic papalis cessauit unctio; ueniet ergo alius Sanctus sanctorum:',\n",
       " ' oc ais tlle est? © imexsuseo7 6 cops) Aechcl irc oeu babes Cis sara.',\n",
       " ' petunt panem, et non est qui porrigat eis ex omnibus caris suis; et Syon dudum',\n",
       " ' pulchra facie iacet sicut mulier menstruata, cuius uiae lugent et non est qui',\n",
       " ' ueniat ad sollempnitatem. 10. Concidit gloria uultus eius, oculi columbarum',\n",
       " ' uisu deficiunt, quia non uidetis quantum proximi estis naufragio, dum sine',\n",
       " ' remige nauigatis. O si possetis alternatim libros conscientiae legere, quot et',\n",
       " ' quantas inueniretis in eis accusatorias lectiones, contrariis sententiis inuolutas.',\n",
       " ' 11. Reuertatur ergo, reuertatur quilibet in seipsum, et ad resumendum caput,',\n",
       " ' sensus et rationem induite, ut mater Ecclesia, tam diu suo priuata lumine,',\n",
       " ' decorem suscipiat et ad statum pristinum reducatur.',\n",
       " ' ',\n",
       " ' 1. habentia] post h., disp del. P 2. qui] quia corr. P 3. prorupit scripsi] prorumpit P 4.',\n",
       " ' uulgaris] uulgalis P || quod non] non sup. lin. P || flatibus] f. fluctibus P 7. Saba] Salba P ||',\n",
       " ' deferentes] et munera in marg. al. man. P 8. minima] ex nimia corr. PR. minima in marg. al.',\n",
       " ' man. P || relinquentes] delinquentes P',\n",
       " ' ',\n",
       " ' 1. filii Effrem] Ps 77.9. || filit Belia] Dt 13.13 ss.',\n",
       " ' ',\n",
       " ' 4. diuisus in se] Le 11.18; Mt 12.26. || Sathanas-aquilonarius] Is 14.13.',\n",
       " ' ',\n",
       " ' 7. canes-compelluntur] cf. Is 56.10 canes muti non valentes latrare. || ueniebant-deferentes]',\n",
       " ' cf. Is 60. 6 omnes de Saba venient aurum et tus deferentes.',\n",
       " ' ',\n",
       " ' 8. minima-prudencia] cf Mt 10.16 prudentes sicut serpentes. || errantes-statuentes] cf.',\n",
       " ' Ex 32.',\n",
       " ' ',\n",
       " ' 146',\n",
       " ' ',\n",
       " ' ',\n",
       " ' g. Rachel-suis] cf. ler 31.15; Mt 2.18. || Syon-menstruata] cf. Lam 1.17 expandit Sion manus',\n",
       " ' suas... facta est Hierusalem quasi polluta menstruis inter eos.',\n",
       " ' 10. oculi columbarum] Cant 1.14; 4.1; 5.12.',\n",
       " ' ',\n",
       " ' La lettera probabilmente risale al lungo periodo di vacanza papale intercorrente tra',\n",
       " ' la morte di Celestino IV (10 novembre 1241) e l’elezione di Innocenzo IV (25 giugno 1243).',\n",
       " ' Largomento viene trattato anche nell’epistola 1.14 (BFWZ, RI, 5.3313). Secondo HB, HD,',\n",
       " ' 6.70, non pu essere attribuita a Federico II per ragioni di stile e di contenuto: tuttavia, tali',\n",
       " ' ragioni non sono chiarite, né motivate. Lespressione magni iudicis assessores desta qualche',\n",
       " ' sospetto. Magnus iudex é certamente Dio: non mi risulta che, nei testi dell’ambiente svevo,',\n",
       " ' si chiami in questo modo Minosse, come in DanTs, Inf. 5.4-15. Ma, nel contesto della frase,',\n",
       " ' improntata alla forte critica, sembra strano che ci si rivolga ai cardinali con un epiteto dalla',\n",
       " ' connotazione positiva. Potrebbe, dunque, essere lecito pensare a una corruzione dell’archetipo,',\n",
       " ' dove é stato scritto assessores invece dell’originale offensores (o un termine simile): l’errore',\n",
       " ' sarebbe spiegabile dal punto di vista paleografico e giustificabile dal punto di vista psicologico,',\n",
       " ' dato l’ambiente giuridico a cui erano avvezzi i dictatores dell’epoca. In ogni caso, perd, si é',\n",
       " ' preferito non intervenire.',\n",
       " ' ',\n",
       " ' 2. qui de mundo sum] la correzione di quia de mundo sum in qui de mundo sum é basata',\n",
       " ' su motivazioni di conseguenzialita logica ed é giustificata dal fatto che, nonostante in P la',\n",
       " ' parola sia scritta per esteso, in altri mss., invece, é abbreviata, e la forma tachigrafica delle',\n",
       " ' due parole é molto simile.',\n",
       " ' ',\n",
       " ' 4. uentorum flatibus] la decisione di non mettere a testo fluctibus dopo uentorum flatibus',\n",
       " ' é stata presa sulla base della considerazione che quella lezione non é riportata né dagli altri',\n",
       " ' mss. della redazione P6 presi in considerazione, né da quelli stravaganti (ad es. Avignon, B.',\n",
       " ' Calvet, 312, f. or, o il testimone qui siglato F, f. 73r). Si é ritenuto, pertanto, che fosse varia',\n",
       " ' lectio confluita nel testo del ms. P.',\n",
       " ' ',\n",
       " ' Federico ai cardinali, invettiva con rimprovero, per il fatto che non eleggono',\n",
       " ' un nuovo papa',\n",
       " ' ',\n",
       " '']"
      ]
     },
     "execution_count": 252,
     "metadata": {},
     "output_type": "execute_result"
    }
   ],
   "source": [
    "test"
   ]
  },
  {
   "cell_type": "code",
   "execution_count": 37,
   "id": "535b4956",
   "metadata": {},
   "outputs": [
    {
     "ename": "NameError",
     "evalue": "name 'Filter_List' is not defined",
     "output_type": "error",
     "traceback": [
      "\u001b[0;31m---------------------------------------------------------------------------\u001b[0m",
      "\u001b[0;31mNameError\u001b[0m                                 Traceback (most recent call last)",
      "Input \u001b[0;32mIn [37]\u001b[0m, in \u001b[0;36m<module>\u001b[0;34m\u001b[0m\n\u001b[0;32m----> 1\u001b[0m filtre \u001b[38;5;241m=\u001b[39m \u001b[43mFilter_List\u001b[49m(test)\n\u001b[1;32m      2\u001b[0m \u001b[38;5;28;01mfor\u001b[39;00m i \u001b[38;5;129;01min\u001b[39;00m \u001b[38;5;28mrange\u001b[39m(\u001b[38;5;28mlen\u001b[39m(filtre)):\n\u001b[1;32m      3\u001b[0m     \u001b[38;5;28;01mif\u001b[39;00m filtre[i]\u001b[38;5;241m.\u001b[39mendswith(\u001b[38;5;124m'\u001b[39m\u001b[38;5;124m.\u001b[39m\u001b[38;5;124m'\u001b[39m):\n",
      "\u001b[0;31mNameError\u001b[0m: name 'Filter_List' is not defined"
     ]
    }
   ],
   "source": [
    "filtre = Filter_List(test)\n",
    "for i in range(len(filtre)):\n",
    "    if filtre[i].endswith('.'):\n",
    "        filtre[i] = filtre[i][:-1]\n",
    "        filtre[i] = int(filtre[i])\n",
    "    else:\n",
    "        del filtre[i]\n",
    "index = [i for i, item in enumerate(test) if re.search('[0-9]{1,2}.', item)]\n",
    "\n",
    "i = 1\n",
    "var = []\n",
    "while filtre[i] > filtre[i-1]:\n",
    "    var.append(i)\n",
    "    i += 1\n",
    "var_ind = var[-1] + 1\n",
    "index_fin = index[var_ind]\n",
    "test = test[:index_fin]\n",
    "test = \" \".join(test)\n"
   ]
  },
  {
   "cell_type": "code",
   "execution_count": null,
   "id": "4624e134",
   "metadata": {},
   "outputs": [],
   "source": [
    "with open('2.2.txt','r') as file:\n",
    "    data = file.readlines()\n",
    "indices = []\n",
    "fin = []\n",
    "for i in data:\n",
    "    if re.match(r'^1.\\ [A-Z]', i):\n",
    "        indices.append(data.index(i))\n",
    "i = indices[0]\n",
    "while i < indices[1]:\n",
    "    fin.append(data[i])\n",
    "    i += 1\n",
    "string = \" \".join(fin)\n",
    "test = string.split('\\n')\n"
   ]
  },
  {
   "cell_type": "code",
   "execution_count": null,
   "id": "5ea1c045",
   "metadata": {},
   "outputs": [],
   "source": []
  },
  {
   "cell_type": "markdown",
   "id": "eee7b01a",
   "metadata": {},
   "source": [
    "Philomin : permet de comparer les textes. Frantext et \n",
    "il faut rapprocher les segments identiques dont il faut régler la longueur (au moins trois mots : comparaison par trigrams, lemmatisation, pos). Il faut faire attention aux écarts graphiques (gros : l'édition de pierre de la vigne ne fait pas la distinction entre le u et v et les i et j). D'abord regarder les normes d'édition des actes du Poitou et fusionner les deux. Peut-être aller jusqu'à la lemmatisation, mais peut-être pour le français. Tester la lemmatisation. \n",
    "\n",
    "la lemmatisation est à faire intervenir dans un deuxième temps. Travailler sur les synonymes. Introduire avec des bigrams mais pas des mots outils. Il faut que les bigrams aient plus de trois syllabes, quatre lettres. \n",
    "\n",
    "ce qui pourrait être intéressant, c'est de l'appliquer sur les HTR, et de voir comment on règle les problèmes de l'HTR. Lemmatiser la sortie de HTR? C'est une piste intéressant pour ce problème. Possibilités de recherches floues. On cherche des correspondances approximatives. Levenstein à adapter au corpus. on peut paramétrer ça. Voir quelles sont les erreurs de l'HTR, puis regarder quelle distance avec le texte. \n",
    "\n",
    "Comparer éventuellement avec un autre corpus. \n",
    "\n",
    "4 ou 5 textes au moins BG pointe des emplois manifestes de PDV pour l'HTR de Stutzmann. \n",
    "\n",
    "implémenter Thomas de Capoue. \n",
    "\n",
    "Voir aussi pour la comparaison avec la chancellerie pontificale. \n",
    "\n",
    "PDV avant PDV? Y a t il des expressions reprises par PDV parmis les lettres pontificales?\n",
    "\n",
    "est-ce que ce que BG repère est juste? \n",
    "\n",
    "Quelle est la timeline où PDV est directement réemployé?\n",
    "\n",
    "Quel est l'écart entre la version des scribes et PDV?\n",
    "\n",
    "Dans un deuxième temps, le style. Mais après seulement. \n",
    "\n",
    "Treetagger et omnia : lemmatiseur pour le latin médiéval. Vieilles technologies. "
   ]
  }
 ],
 "metadata": {
  "kernelspec": {
   "display_name": "Python 3 (ipykernel)",
   "language": "python",
   "name": "python3"
  },
  "language_info": {
   "codemirror_mode": {
    "name": "ipython",
    "version": 3
   },
   "file_extension": ".py",
   "mimetype": "text/x-python",
   "name": "python",
   "nbconvert_exporter": "python",
   "pygments_lexer": "ipython3",
   "version": "3.9.7"
  }
 },
 "nbformat": 4,
 "nbformat_minor": 5
}

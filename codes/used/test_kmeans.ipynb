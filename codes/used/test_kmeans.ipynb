{
 "cells": [
  {
   "cell_type": "code",
   "execution_count": 502,
   "id": "edbc8e4a",
   "metadata": {},
   "outputs": [],
   "source": [
    "from tqdm import tqdm\n",
    "import os\n",
    "import re\n",
    "import pandas as pd\n",
    "import numpy as np\n",
    "import ast\n",
    "import random\n",
    "import matplotlib.pyplot as plt\n",
    "from sklearn.feature_extraction.text import TfidfVectorizer\n",
    "from sklearn.cluster import KMeans\n",
    "from sklearn.decomposition import PCA\n",
    "from sklearn.manifold import TSNE\n",
    "from sklearn.feature_extraction.text import TfidfVectorizer\n",
    "from sklearn.metrics.pairwise import pairwise_distances\n",
    "from sklearn.manifold import TSNE\n",
    "from sklearn import metrics\n",
    "from collections import Counter"
   ]
  },
  {
   "cell_type": "code",
   "execution_count": 3,
   "id": "7f577656",
   "metadata": {},
   "outputs": [],
   "source": [
    "stopwords_list = [\n",
    "    'ab', 'ac', 'ad', 'adhic', 'aliqui', 'aliquis', 'an', 'ante', 'apud', 'at', 'atque', 'aut', 'autem', 'cum', 'cur',\n",
    "    'de', 'deinde', 'dum', 'ego', 'enim', 'ergo', 'es', 'est', 'et', 'etiam', 'etsi', 'ex', 'fio', 'haud', 'hic', 'iam',\n",
    "    'idem', 'igitur', 'ille', 'in', 'infra', 'inter', 'interim', 'ipse', 'is', 'ita', 'magis', 'modo', 'mox', 'nam', 'ne',\n",
    "    'nec', 'necque', 'neque', 'nisi', 'non', 'nos', 'o', 'ob', 'per', 'possum', 'post', 'pro', 'quae', 'quam', 'quare',\n",
    "    'qui', 'quia', 'quicumque', 'quidem', 'quilibet', 'quis', 'quisnam', 'quisquam', 'quisque', 'quisquis', 'quo',\n",
    "    'quoniam', 'sed', 'si', 'sic', 'sive', 'sub', 'sui', 'sum', 'super', 'suus', 'tam', 'tamen', 'trans', 'tu', 'tum',\n",
    "    'ubi', 'uel', 'uero'\n",
    "]"
   ]
  },
  {
   "cell_type": "code",
   "execution_count": 68,
   "id": "d2d6260e",
   "metadata": {},
   "outputs": [],
   "source": [
    "def stopwords(liste):\n",
    "    return [word for word in liste.split() if word not in stopwords_list]\n",
    "def string_to_list(string_list):\n",
    "    try:\n",
    "        # Use ast.literal_eval to safely convert the string to a list\n",
    "        word_list = ast.literal_eval(string_list)\n",
    "        if not isinstance(word_list, list):\n",
    "            raise ValueError(\"Input is not a valid list.\")\n",
    "    except (ValueError, SyntaxError):\n",
    "        raise ValueError(\"Input is not a valid string representation of a list.\")\n",
    "    \n",
    "    return word_list\n",
    "def join(liste):\n",
    "    return ' '.join(liste)\n",
    "\n",
    "def tf_idf_with_most_common_words(corpus, max_features=1000):\n",
    "\n",
    "    vectorizer = TfidfVectorizer(max_features=max_features)\n",
    "    tfidf_matrix = vectorizer.fit_transform(corpus)\n",
    "    feature_names = vectorizer.get_feature_names_out()\n",
    "    return tfidf_matrix, feature_names\n",
    "def lower(text):\n",
    "    return text.lower()"
   ]
  },
  {
   "cell_type": "code",
   "execution_count": 5,
   "id": "2675ed56",
   "metadata": {},
   "outputs": [],
   "source": [
    "os.chdir('/home/noe/Documents/2022-2023/ENC/Mémoire/correspondance/')"
   ]
  },
  {
   "cell_type": "code",
   "execution_count": 257,
   "id": "d4ef21f5",
   "metadata": {},
   "outputs": [],
   "source": [
    "pdv = pd.read_excel('pdv.xlsx')\n",
    "pdv.pop('Unnamed: 0')\n",
    "pdv['lemma'] = pdv['lemma'].apply(string_to_list).apply(join).apply(stopwords).apply(join)\n",
    "\n",
    "rocca = pd.read_excel('rocca.xlsx')\n",
    "rocca.pop('Unnamed: 0')\n",
    "rocca['lemma'] = rocca['lemma'].apply(string_to_list).apply(join).apply(stopwords).apply(join)"
   ]
  },
  {
   "cell_type": "markdown",
   "id": "923a5d74",
   "metadata": {},
   "source": [
    "# Test avec division par 200 mots et tfidf"
   ]
  },
  {
   "cell_type": "code",
   "execution_count": 258,
   "id": "c50b3fb0",
   "metadata": {},
   "outputs": [
    {
     "name": "stdout",
     "output_type": "stream",
     "text": [
      "['suae', 'piissimae', 'genitrici', 'm', 'petrus', 'notarius', 'deuotissi', 'mus', 'filius', 'filiorum', 'subiectionis', 'constantiam', 'cum', 'salute', 'recurrens', 'ad', 'conscientiam', 'recognosco', 'quod', 'non', 'meis', 'meritis', 'diuina', 'clementia', 'me', 'pauperem', 'sublimauit', 'et', 'de', 'molli', 'luto', 'coelestis', 'figulus', 'me', 'formauit', 'cum', 'imperialis', 'curiae', 'locum', 'idoneum', 'mihi', 'contulit', 'et', 'gratiam', 'principis', 'in', 'conspectu', 'respexit', 'enim', 'deus', 'hanc', 'humilitatem', 'matris', 'meae', 'ancillae', 'suae', 'et', 'sororis', 'meae', 'pauperculae', 'uitam', 'ducentis', 'hactenus', 'aerumnosam', 'quarum', 'per', 'me', 'suum', 'famulum', 'depellere', 'uoluit', 'egestatem', 'accensa', 'sunt', 'igitur', 'cara', 'mater', 'uestra', 'salubria', 'monita', 'coram', 'oculis', 'meae', 'mentis', 'et', 'sic', 'me', 'geram', 'humiliter', 'donec', 'uiuam', 'ut', 'in', 'cunctis', 'bonis', 'operibus', 'deo', 'ualeam', 'et', 'cunctis', 'bonis', 'homi', 'nibus', 'complacere', 'iuris', 'ciuilis', 'professoribus', 'uniuersis', 'magister', 'petrus', 'salutem', 'et', 'attendere', 'ultimum', 'ante', 'primum', 'amaritudo', 'amarissima', 'et', 'materia', 'concreta', 'doloribus', 'humanis', 'no', 'uiter', 'mentibus', 'occurrerunt', 'nam', 'unicus', 'et', 'singularis', 'in', 'terris', 'homo', 'in', 'quo', 'uelut', 'in', 'suo', 'proprio', 'leges', 'conuene', 'rant', 'et', 'uiuebat', 'eloquentiae', 'tuba', 'et', 'consilii', 'plenitudo', 'sedebat', 'est', 'reuocatus', 'ad', 'patriam', 'de', 'cuius', 'reuocationis', 'amaritudine', 'uox', 'populi', 'a', 'fine', 'usque', 'in', 'finem', 'et', 'terminos', 'orbis', 'terrae', 'dolorosa', 'multum', 'exiuit', 'nec', 'mirum', 'quia', 'iam', 'optimus', 'persuasor', 'bonorum', 'operum', 'omnium', 'ex', 'cellentissimus', 'iacobus', 'de', 'regio', 'iesu', 'christo', 'uitalem', 'spiritum', 'resignauit', 'attrita', 'est', 'nimium', 'derepente', 'gloria', 'uultus', 'eius', 'de', 'cuius', 'occasu', 'non', 'solum', 'lombardia', 'sole', 'priuata', 'suo', 'uerum', 'etiam', 'maxima', 'pars', 'uiuentium', 'conti', 'nuis', 'lachrymis', 'ingemiscit', 'et', 'doloris', 'gladius', 'multorum', 'animos', 'perforauit', 'nec', 'immerito', 'cum', 'ipse', 'dominus', 'legifer', 'et', 'supremus', 'descriptis', 'iuris', 'apicibus', 'sensus', 're', 'formaret', 'informes', 'et', 'adhuc', 'uiuentes', 'uiuentia', 'eius', 'opera', 'non', 'desinunt', 'informare', 'qui', 'licet', 'ut', 'homo', 'desierit', 'non', 'tamen', 'desiit', 'ut', 'magister', 'quia', 'mortuus', 'ipse', 'docet', 'quantumcunque', 'sit', 'appellatio', 'mortis', 'difficilis', 'uiolenta', 'et', 'necessaria', 'difficilis', 'quia', 'non', 'est', 'ibi', 'solutio', 'uiolenta', 'quia', 'resistentia', 'nulla', 'necessaria', 'quia', 'ex', 'modo', 'neces', 'sitatis', 'omnem', 'superat', 'syllogismum', 'exceptiones', 'non', 'recipit', 'dilationes', 'aliquas', 'non', 'admittit', 'uerum', 'quia', 'mi', 'rabilis', 'est', 'ista', 'regula', 'mortalium', 'quae', 'nunquam', 'fal', 'litur', 'sed', 'omnes', 'fallit', 'fatidica', 'uidelicet', 'ueridica', 'quae', 'in', 'credentia', 'non', 'habetur', 'ipsa', 'quidem', 'est', 'laetitiae', 'nebula', 'tristitiae', 'genitrix', 'diffusio', 'lachrymarum', 'uniuersae', 'car', 'nis', 'exterminium', 'et', 'singularium', 'destructiua', 'ideoque', 'uiri', 'prudentes', 'in', 'doctore', 'mortuo', 'prudenter', 'addiscite', 'quicquid', 'possit', 'et', 'quantum', 'fortior', 'exterminantis', 'an', 'geli', 'et', 'diligenter', 'attendite', 'quod', 'legum', 'facundia', 'uel', 'aliquarum', 'scientiarum', 'doctrina', 'mortis', 'imperio', 'non', 'resistit', 'excellentissimo', 'domino', 'suo', 'domino', 'h', 'illustri', 'regi', 'angliae', 'p', 'de', 'uinea', 'apulus', 'uester', 'a', 'uobis', 'in', 'fidelem', 'regis', 'per', 'regiae', 'munificentiae', 'gratiam', 'adoptatus', 'adoptari', 'in', 'municipem', 'angliae', 'supplicat', 'per', 'eandem', 'ut', 'non', 'so', 'lum', 'deuotus', 'fidelis', 'regis', 'et', 'domini', 'sed', 'et', 'regni', 'filius', 'habeatur', 'et', 'ciuis', 'super', 'quo', 'cum', 'dominus', 'meus', 'uerus', 'et', 'efficax', 'amicus', 'uester', 'ideo', 'affectuosissimas', 'preces', 'excellentiae', 'uestrae', 'dirigat', 'sicut', 'puto', 'satis', 'potest', 'in', 'dustria', 'uestra', 'colligere', 'quod', 'reiectis', 'adulationibus', 'fri', 'uolis', 'aliquorum', 'fides', 'mea', 'perfectissime', 'claruit', 'apud', 'eum', 'domino', 'magistro', 'iustitiario', 'p', 'de', 'uinea', 'sperata', 'plu', 'uia', 'quam', 'in', 'aduentu', 'magistri', 'h1', 'magna', 'et', 'multa', 'toni', 'trua', 'promittebant', 'in', 'rorem', 'tenuem', 'est', 'conuersa', 'et', 'licet', 'aliquando', 'nauem', 'nostram', 'usque', 'ad', 'uisionem', 'portus', 'spei', 'uela', 'secunda', 'deducerent', 'dum', 'tamen', 'credebamus', 'terram', 'promissionis', 'attingere', 'contrariorum', 'uentorum', 'impulsus', 'mox', 'in', 'altitudinem', 'pelagi', 'ualde', 'celerius', 'redu', 'cebant', 'et', 'idcirco', 'expedit', 'ut', 'in', 'apparatu', 'succursus', 'mo', 'rantium', 'apud', 'tyrum', 'uestra', 'et', 'aliorum', 'sociorum', 'ues', 'trorum', 'industria', 'non', 'lentescat', 'de', 'negotio', 'lombardiae', 'illud', 'in', 'euentu', 'tandem', 'inuenimus', 'quod', 'diuinatio', 'mea', 'et', 'magistri', 'petri', 'de', 'sancto', 'germano', 'longe', 'priusquam', 'ue', 'niret', 'magister', 'h', 'ad', 'curiam', 'praesagiuit', 'magister', 'pedem', 'habet', 'in', 'motu', 'quem', 'discipulus', 'in', 'uxoris', 'querelam', 'et', 'taedium', 'prosequetur', 'fateor', 'pater', 'quod', 'iuste', 'redarguor', 'sed', 'iniuste', 'con', 'demnor', 'eatenus', 'uerumtamen', 'iusticiae', 'nota', 'porrigitur', 'quatenus', 'efficacia', 'iustae', 'petitionis', 'extenditur', 'quam', 'subse', 'quentis', 'obiectio', 'defensionis', 'elidit', 'sed', 'et', 'tolerandus', 'est', 'filius', 'si', 'peccauit', 'et', 'paternae', 'decet', 'condemnationis', 'mole', 'non', 'obrui', 'quam', 'licet', 'appellationis', 'lima', 'prompte', 'non', 'lateret', 'supportationis', 'tamen', 'remedio', 'reuerenter', 'euitat', 'etenim', 'quod', 'in', 'taciturnitate', 'filialis', 'obsequii', 'experge', 'facta', 'memoria', 'paternae', 'dilectionis', 'obstupuit', 'quam', 'in', 'obliuionem', 'unius', 'pauperis', 'filii', 'sed', 'deuoti', 'oblectamenta', 'nobilium', 'et', 'sublimium', 'amicorum', 'delinimenta', 'seduxe', 'rant', 'stupentem', 'patrem', 'natura', 'cogente', 'non', 'arguo', 'si', 'somnolentus', 'à', 'filio', 'uoluit', 'per', 'frequentis', 'uocis', 'instantiam', 'excitari', 'crudelis', 'tamen', 'et', 'impia', 'conditio', 'sequeretur', 'si', 'seueri', 'patris', 'iudicium', 'filius', 'sentiat', 'quem', 'iusta', 'timoris', 'allegatio', 'protegit', 'et', 'ignorantiapaternae', 'uoluntatis', 'excusat', 'quieti', 'tamen', 'natura', 'non', 'homine', 'terminum', 'imponente', 'euigilatus', 'est', 'pater', 'filium', 'pauidum', 'et', 'tacitum', 'inuenit', 'ac', 'lacte', 'paternae', 'dulcedinis', 'prae', 'somni', 'longitudine', 'sitientem', 'confortat', 'pauidum', 'famelicum', 'educat', 'sed', 'tacentem', 'accu', 'satetpaterna', 'pietas', 'reuerentiamarguit', 'filialem', 'confortatus', 'filius', 'loquitur', 'timoris', 'exceptione', 'se', 'protegit', 'redargutus', 'sed', 'tamen', 'a', 'patre', 'non', 'respuit', 'nutrimentum', 'sufficitne', 'uobis', 'istud', 'o', 'pater', 'quod', 'causam', 'uestram', 'ego', 'ipse', 'qui', 'notor', 'pietate', 'iustifico', 'quod', 'me', 'timoris', 'ac', 'reuerentiae', 'solum', 'exceptione', 'defendo', 'quod', 'condemnationis', 'paternae', 'sententiam', 'filiali', 'supportatione', 'deuito', 'dicet', 'forte', 'pater', 'non', 'sufficit', 'sed', 'mentem', 'exiget', 'a', 'filio', 'meliorem', 'ut', 'forte', 'culpam', 'fore', 'confiteatur', 'ubi', 'culpa', 'non', 'subest', 'quid', 'faciam', 'cedam', 'patri', 'culpam', 'confitebor', 'et', 'dicam', '«', 'peccaui', 'pater', 'in', 'coelum', 'et', 'coram', 'te', '»', 'sed', 'ut', 'scelus', 'omne', 'proscribam', 'negligenter', 'me', 'habui', 'luxuriose', 'tamen', 'non', 'uixi', 'sacra', 'paternae', 'reuerentiae', 'nullo', 'meretricio', 'pollui', 'quanquam', 'obsequium', 'filiale', 'praestare', 'deuotius', 'prout', 'pater', 'existimat', 'debuissem', 'uestra', 'pater', 'est', 'uinea', 'et', 'si', 'dignemini', 'non', 'uelle', 'contrarium', 'uestra', 'dicetur', 'ad', 'uineae', 'uestrae', 'palmites', 'seu', 'radices', 'nulla', 'corruptionis', 'mixtura', 'peruenit', 'nullum', 'saporem', 'alterauit', 'insitio', 'nulla', 'colorem', 'alteritas', 'uariauit', 'talem', 'uindemiam', 'habetis', 'ex', 'uinea', 'qualem', 'plantationis', 'materiam', 'contulistis', 'causamini', 'pater', 'quod', 'uinea', 'uestra', 'botros', 'in', 'debita', 'quantitate', 'non', 'afferat', 'quod', 'arefacta', 'sit', 'uinea', 'respondeo', 'et', 'uos', 'cur', 'manum', 'subducitis', 'cultui', 'et', 'fontis', 'irrigui', 'copiam', 'denegatis', 'causamini', 'priuignum', 'in', 'filio', 'demeritum', 'in', 'alumno', 'respondeo', 'et', 'uos', 'cur', 'lactis', 'dulcedinem', 'alumno', 'subtrahitis', 'et', 'cur', 'in', 'filium', 'ita', 'cru', 'deliter', 'nouercatis', 'excusationibus', 'uestris', 'et', 'incusationi', 'bus', 'meis', 'manum', 'uestram', 'somnolentam', 'et', 'debilem', 'a', 'scriptura', 'abducitis', 'propter', 'morbum', 'utinam', 'chare', 'pater', 'nec', 'mihi', 'fuisset', 'hactenus', 'somnolenta', 'nec', 'aliis', 'expedita', 'sed', 'ut', 'uidi', 'frequenter', 'et', 'prouidi', 'dormitauit', 'haec', 'filio', 'sed', 'aliis', 'euigilauit', 'super', 'his', 'omnibus', 'pace', 'data', 'petiistis', 'quod', 'nullo', 'praetextu', 'excusationis', 'proposito', 'prosperum', 'statum', 'meum', 'si', 'tamen', 'castra', 'sequentem', 'sequeretur', 'pro', 'speritas', 'et', 'principalia', 'principis', 'nunciarem', 'durum', 'et', 'impossibile', 'petitur', 'quod', 'me', 'uestra', 'redargutio', 'sic', 'pro', 'stratum', 'sic', 'iacentem', 'inuenerit', 'sic', 'relinquat', 'ut', 'ad', 'incre', 'panda', 'patris', 'eloquia', 'non', 'resurgam', 'pacem', 'propterea', 'nobis', 'dare', 'possumus', 'inuicem', 'sed', 'nullatenus', 'ego', 'mihi', 'et', 'cordi', 'meo', 'quin', 'doleat', 'et', 'oculis', 'quod', 'non', 'fleant', 'dum', 'subrep', 'tum', 'mihi', 'patris', 'animum', 'uideo', 'et', 'caussam', 'ignoro', 'uinea', 'mea', 'quid', 'fecit', 'uobis', 'uel', 'uestra', 'potius', 'quod', 'irrigationem', 'eius', 'ad', 'aliam', 'quae', 'demum', 'uobis', 'lambruscas', 'afferet', 'transtulistis', 'denique', 'quantumcunque', 'dolentis', 'ingenio', 'dolor', 'et', 'doloris', 'materia', 'subtrahat', 'uoluntatem', 'imperio', 'tamen', 'patris', 'obediam', 'et', 'epistolae', 'quae', 'postquam', 'totam', 'germaniam', 'circuiuit', 'tandem', 'ad', 'me', 'nouissimo', 'mense', 'augusto', 'fatigata', 'peruenit', 'respondeo', 'quod', 'corpore', 'ualeo', 'labore', 'tamen', 'continuo', 'laboro', 'dum', 'inter', 'charybdim', 'et', 'scyllam', 'inter', 'cardinalium', 'scilicet', 'et', 'lombardorum', 'as', 'tutias', 'nauicula', 'filii', 'tumidis', 'fluctibus', 'fatigatur', 'cesarea', 'gesta', 'magnifica', 'uos', 'epistola', 'principis', 'frequenter', 'edocuit', 'cuius', 'chartam', 'scribentis', 'filii', 'manus', 'nudam', 'et', 'uacuam', 'aliquando', 'tetigit', 'et', 'ingenium', 'uirginem', 'deflorauit', 'post', 'exhibitionem', 'operum', 'ad', 'irritum', 'spem', 'deducit', 'ego', 'quidem', 'quia', 'super', 'omnia', 'concupiui', 'grata', 'uobis', 'seruicia', 'exhibere', 'quibus', 'possem', 'uestram', 'fauorabilem', 'gratiam', 'obtinere', 'uobis', 'feliciter', 'apud', 'fauentiam', 'commorantibus', 'sponte', 'et', 'ab', 'aliquo', 'de', 'uestra', 'familia', 'non', 'rogatus', 'uestram', 'uineam', 'introiui', 'in', 'qua', 'diu', 'laborando', 'usque', 'ad', 'uestrum', 'felicem', 'reditum', 'diei', 'et', 'aestus', 'pondus', 'sustinui', 'et', 'patris', 'familias', 'diuinum', 'denarium', 'non', 'accepi', 'uerumtamen', 'si', 'multa', 'a', 'uestra', 'memoria', 'elabuntur', 'aliquatenus', 'non', 'ad', 'miror', 'quum', 'multis', 'arduis', 'esse', 'conuenit', 'uos', 'intentos', 'in', 'ter', 'alia', 'tamen', 'quae', 'humeris', 'uestris', 'incumbunt', 'memores', 'existatis', 'ut', 'remuneratione', 'aliqua', 'respicere', 'me', 'uelitis', 'cadat', 'super', 'fauentiam', 'fulgur', 'et', 'perflet', 'eam', 'spiritus', 'procellarum', 'cuius', 'pestilens', 'mora', 'coegit', 'patrem', 'curiae', 'uirum', 'circumspectum', 'et', 'antiquis', 'patribus', 'dignum', 'ad', 'nostrorum', 'institutionem', 'temporum', 'praeseruatum', 'a', 'nostri', 'praesentia', 'et', 'consolatione', 'consortii', 'remoueri', 'pereat', 'illius', 'ciuitatis', 'memoria', 'et', 'in', 'eam', 'ros', 'uel', 'pluuia', 'non', 'descendat', 'in', 'qua', 'fons', 'noster', 'irriguus', 'status', 'et', 'salutis', 'habitae', 'detri', 'menta', 'concepit', 'rarus', 'ipsam', 'inhabitet', 'incola', 'quin', 'potius', 'relegatio', 'publica', 'filiarum', 'eam', 'lugeat', 'desolatam', 'in', 'qua\\ufeff', 'reipublicae', 'pater', 'coepit', 'langoris', 'incentiua', 'sentire', 'quae', 'ad', 'remotiora', 'loca', 'remediis', 'indigent', 'balneorum', 'uadat', 'ergo', 'pater', 'a', 'finibus', 'istis', 'uicina', 'quaeso', 'prouincia', 'marca', 'salu', 'tem', 'admoueat', 'et', 'procuret', 'sibi', 'commoda', 'in', 'illis', 'partibus', 'expectata', 'salutis', 'quibus', 'nullus', 'in', 'orbe', 'magis', 'radiis', 'perlucet', 'amoenis', 'nonne', 'uidetis', 'bone', 'pater', 'ranas', 'suis', 'turgere', 'paludibus', 'quae', 'suam', 'uidentur', 'hominibus', 'ingerere', 'corruptelam', 'ex', 'ipsa', 'quoque', 'terra', 'uaporem', 'corruptionis', 'consueuit', 'emer', 'gere', 'quae', 'corpora', 'delicata', 'corrumpit', 'cuiuslibet', 'sexus', 'et', 'aetatis', 'nociuam', 'confiniis', 'pestem', 'afferens', 'et', 'diuersa', 'aegri', 'tudinis', 'incommoda', 'moraturis', 'colligitur', 'ergo', 'per', 'eui', 'dentes', 'coniecturas', 'ab', 'incolis', 'quantum', 'caueri', 'ualeat', 'ab', 'exteris', 'et', 'timeri', 'conuersatio', 'religionis', 'qualiter', 'intendere', 'debeat', 'ad', 'recessum', 'cuius', 'praesentia', 'continuatis', 'proprii', 'corporis', 'incommoditatibus', 'elaborat', 'nec', 'reor', 'inutile', 'fore', 'consilium', 'hominem', 'locis', 'pestilentibus', 'insuetum', 'ad', 'salu', 'bria', 'loca', 'se', 'transferre', 'ubi', 'sperata', 'uoti', 'incolumitas', 'cum', 'oportunitate', 'loci', 'et', 'cum', 'clementioris', 'aeris', 'beneficio', 'na', 'turae', 'proueniat', 'et', 'paterno', 'statui', 'congaudeat', 'expectatio', 'filiorum', 'confortetur', 'igitur', 'ex', 'mutatione', 'loci', 'uiri', 'robusti', 'complexio', 'et', 'patrias', 'oras', 'hilariter', 'adeatis', 'in', 'quibus', 'uos', 'lac', 'educauit', 'infantiae', 'et', 'mineruae', 'cultus', 'edocuit', 'et', 'pro', 'mouit', 'adultum', 'ibi', 'sub', 'aequalitate', 'poli', 'temporis', 'uernante', 'temperie', 'infirmitas', 'quae', 'incumbit', 'in', 'omni', 'suo', 'genere', 'cursum', 'inueniat', 'sicut', 'expedit', 'patienti', 'propter', 'quod', 'nos', 'uobis', 'prius', 'salubriter', 'restitutis', 'laetificabitis', 'filios', 'qui', 'etsi', 'passo', 'compatimur', 'reuera', 'cum', 'patiente', 'langores', 'nostros', 'ex', 'aequo', 'non', 'indigne', 'portamus', 'praestolantes', 'in', 'breui', 'summo', 'desiderio', 'refici', 'uestrae', 'resumptae', 'rumori', 'bus', 'sanitatis', 'praeteriti', 'laboris', 'angustias', 'quas', 'patientibus', 'nobis', 'hac', 'tenus', 'inuida', 'roma', 'suaserat', 'cum', 'uariae', 'uoluntates', 'imperio', 'semper', 'uarientur', 'et', 'actus', 'uiterbiensis', 'nequitia', 'sugge', 'rente', 'periclum', 'et', 'laborem', 'de', 'alpibus', 'lombardiae', 'de', 'nouo', 'gustauimus', 'quibus', 'diuina', 'clementia', 'quae', 'fessis', 'dat', 'requiem', 'licet', 'ipsas', 'per', 'regni', 'refrigerium', 'crederemus', 'reprimere', 'superatis', 'ad', 'curiam', 'prosper', 'reditus', 'nos', 're', 'duxit', 'incolumes', 'ubi', 'de', 'uestris', 'renouari', 'successibus', 'expectamus', 'expectabam', 'filiali', 'zelo', 'de', 'domo', 'paterna', 'recipere', 'noua', 'salutis', 'et', 'gaudii', 'quibus', 'recrearetur', 'animus', 'castrensibus', 'negociis', 'occupatus', 'ineratque', 'mihi', 'sollicitudo', 'continua', 'aliquem', 'de', 'compatriotis', 'meis', 'uidere', 'nuncium', 'bonum', 'uenientem', 'de', 'regione', 'longinqua', 'qui', 'uitam', 'parentum', 'doceret', 'filium', 'de', 'salute', 'coniugis', 'et', 'natarum', 'patris', 'laeti', 'ficaret', 'affectum', 'meam', 'uerumtamen', 'expectationem', 'moes', 'tus', 'patris', 'funeris', 'rumor', 'adueniens', 'uehementius', 'con', 'turbauit', 'expectata', 'sustulit', 'gaudia', 'meque', 'totum', 'dedit', 'fletibus', 'et', 'lamentis', 'dolebam', 'namque', 'per', 'quem', 'existen', 'tiam', 'sumpsi', 'patrem', 'meis', 'uotis', 'ademptum', 'sed', 'iusti', 'causa', 'doloris', 'mea', 'uiscera', 'retorquebat', 'quia', 'ubi', 'creditrix', 'natura', 'maturatos', 'dies', 'suos', 'breuiare', 'disposuit', 'patri', 'non', 'assisterem', 'in', 'ultimis', 'laboranti', 'ut', 'migraturum', 'patrem', 'filiali', 'aspectu', 'reficerem', 'et', 'qui', 'paternae', 'senectutis', 'bacu', 'lus', 'fueram', 'paternum', 'extremae', 'munus', 'benedictionis', 'ac', 'cipiens', 'pias', 'patris', 'obeuntis', 'manus', 'supra', 'caput', 'meum', 'flebili', 'deuotione', 'tenerem', 'ac', 'deinde', 'paterno', 'feretro', 'ma', 'tri', 'praeuius', 'exsequiis', 'patris', 'filius', 'obsequiosus', 'adessem', 'cumque', 'non', 'fuerit', 'hoc', 'permissum', 'ut', 'matris', 'fletibus', 'una', 'cum', 'coniuge', 'et', 'filiis', 'sociarer', 'auditis', 'tamen', 'cursus', 'paterni', 'rumoribus', 'effusis', 'lachrymis', 'et', 'corde', 'turbato', 'defuncti', 'animam', 'orationibus', 'piis', 'amplectens', 'in', 'eleemo', 'sinarum', 'erogatione', 'domino', 'commendaui', 'uacans', 'inte', 'rim', 'lachrymis', 'et', 'moeroribus', 'donec', 'per', 'dominos', 'et', 'amicos', 'meos', 'piis', 'monitis', 'reuocatus', 'in', 'uita', 'ac', 'salute', 'uestra', 'potissime', 'respirarem', 'dum', 'mihi', 'fuit', 'recta', 'mode', 'ratione', 'propositum', 'quod', 'secundum', 'ordinem', 'et', 'benefi', 'cium', 'naturae', 'pater', 'utroque', 'superstite', 'filio', 'uisisque', 'filiis', 'filiorum', 'exigente', 'maturitate', 'temporis', 'in', 'manibus', 'ues', 'tris', 'coniuge', 'meisque', 'filiis', 'pro', 'me', 'patre', 'praesentibus', 'in', 'quibus', 'meam', 'poterat', 'imaginari', 'praesentiam', 'diem', 'clau', 'sit', 'extremum', 'bónum', 'post', 'se', 'famae', 'testimonium', 'relin', 'quens', 'et', 'secum', 'gerens', 'indiuiduos', 'comites', 'bonorum', 'testes', 'operum', 'quae', 'patrauit', 'ab', 'infirmitate', 'continua', 'quam', 'passus', 'fuerat', 'transmigrando', 'uerum', 'quia', 'me', 'decet', 'una', 'uobiscum', 'suae', 'animae', 'reminisci', 'et', 'consolationem', 'ad', 'inuicem', 'in', 'domino', 'reportare', 'uestram', 'maternitatem', 'et', 'sororiam', 'dilectionem', 'deprecor', 'et', 'exhortor', 'quatenus', 'tu', 'mater', 'una', 'cum', 'filiis', 'tuisque', 'nepotibus', 'quorum', 'om', 'nium', 'uitam', 'apud', 'dominum', 'tuis', 'procuras', 'orationibus', 'et', 'salutem', 'in', 'domino', 'consoleris', 'ut', 'nos', 'quoque', 'frater', 'et', 'soror', 'qui', 'tua', 'post', 'patris', 'obitum', 'benedictione', 'fouemur', 'moerore', 'deposito', 'qui', 'nullam', 'defuncto', 'uidetur', 'utilitatem', 'afferre', 'et', 'nobis', 'superstitibus', 'salutis', 'posset', 'impedimenta', 'praestare', 'ac', 'anxietatem', 'renouare', 'continuam', 'alterna', 'recreatione', 'consolationis', 'ornamenta', 'sumamus', 'ut', 'hinc', 'inde', 'mutuis', 'literis', 'aura', 'confortationis', 'aspiret', 'et', 'in', 'domo', 'nostra', 'omnium', 'dolore', 'ac', 'luctu', 'remotis', 'optata', 'uigeant', 'communis', 'auspicia', 'sospitatis', 'uinea', 'etc', 'cum', 'peruenerunt', 'ad', 'audientiam', 'meam', 'noua', 'de', 'obitu', 'n', 'dilecti', 'filii', 'uestri', 'cognati', 'mei', 'tactus', 'dolore', 'cordis', 'intrinsecus', 'dolui', 'et', 'condolui', 'ualde', 'uobis', 'utpote', 'qui', 'bonum', 'de', 'ipso', 'fratrem', 'amisi', 'et', 'lumen', 'oculorum', 'uestrorum', 'a', 'luminibus', 'uestris', 'anxior', 'in', 'eo', 'fuisse', 'subla', 'tum', 'fleui', 'quoque', 'prae', 'dolore', 'nimio', 'oculi', 'mei', 'faciem', 'lachrymis', 'maduerunt', 'quod', 'uxori', 'et', 'filiabus', 'meis', 'tam', 'dilectum', 'collateralem', 'decessisse', 'cognoui', 'qui', 'absentiam', 'meam', 'una', 'uobiscum', 'commorans', 'supplere', 'poterat', 'ad', 'consortis', 'meae', 'solatium', 'et', 'natarum', 'continuatis', 'ergo', 'in', 'eius', 'memoria', 'diebus', 'pluribus', 'fletibus', 'et', 'dolore', 'uidi', 'quod', 'frustra', 'dolebam', 'et', 'quod', 'redimere', 'non', 'poteram', 'mor', 'tuum', 'effusione', 'continua', 'lachrymarum', 'meditatus', 'potius', 'ipse', 'mecum', 'quod', 'cum', 'sortis', 'humanae', 'debitum', 'solue', 'rit', 'licet', 'fatali', 'casu', 'et', 'mutato', 'ordine', 'parentum', 'uota', 'tur', 'bauerit', 'et', 'dies', 'nequiuerit', 'protrahere', 'longiores', 'sui', 'memoriam', 'quam', 'sors', 'amara', 'peremit', 'communibus', 'dimi', 'sit', 'intercessoribus', 'adiuuandam', 'ut', 'cuius', 'uita', 'nos', 'carere', 'contigit', 'pro', 'eo', 'teneamur', 'ut', 'uiuat', 'potius', 'orare', 'quam', 'flere', 'uenit', 'enim', 'uobis', 'et', 'mihi', 'quem', 'filium', 'fere', 'assumi', 'tis', 'filii', 'uestri', 'quem', 'sortis', 'affinitas', 'mihi', 'charum', 'fecit', 'mors', 'ipsa', 'potissimum', 'deploranda', 'quod', 'se', 'dulcibus', 'an', 'nis', 'immiscuit', 'et', 'iuuentutis', 'florem', 'morsu', 'diro', 'praescidit', 'quia', 'uero', 'dispositioni', 'diuinae', 'obuiari', 'non', 'potest', 'et', 'ani', 'mam', 'eius', 'debemus', 'et', 'possumus', 'eleemosynis', 'potius', 'quam', 'lachrymis', 'adiuuare', 'cum', 'nec', 'nos', 'deceat', 'in', 'dolore', 'mo', 'dum', 'excedere', 'praetaxatum', 'ne', 'nomen', 'domini', 'qui', 'dedit', 'et', 'abstulit', 'exasperari', 'contingat', 'superuacuis', 'intabes', 'cendo', 'doloribus', 'quanquam', 'non', 'possim', 'paternum', 'et', 'maternum', 'in', 'discessu', 'tam', 'dilecti', 'filii', 'reuocare', 'dolorem', 'quem', 'uestrae', 'sperabatis', 'dimittere', 'superstitem', 'sepul', 'turae', 'audeo', 'tamen', 'filiali', 'uobis', 'deuotione', 'suggerere', 'qua', 'tenus', 'uobis', 'mihi', 'et', 'uxori', 'ac', 'filiabus', 'meis', 'quae', 'uestrae', 'sunt', 'paterno', 'consulentes', 'affectu', 'quantum', 'propter', 'sortis', 'humanae', 'debitum', 'et', 'labilem', 'conditionem', 'mortalium', 'moerorem', 'uestrum', 'moderari', 'potestis', 'uestrae', 'ac', 'nostrae', 'uelitis', 'prouidere', 'saluti', 'cum', 'in', 'superstitibus', 'filia', 'et', 'nep', 'tibus', 'uestris', 'me', 'quoque', 'qui', 'uitam', 'et', 'consolationem', 'uestram', 'plus', 'filio', 'si', 'dicere', 'liceat', 'diligo', 'et', 'affecto', 'pos', 'sitis', 'plenarie', 'consolationem', 'accipere', 'pro', 'defuncto', 'quem', 'si', 'modo', 'quolibet', 'redimere', 'ualeremus', 'non', 'parceremus', 'laboribus', 'aliquatenus', 'uel', 'personis', 'sed', 'ubi', 'a', 'nobis', 'irre', 'uocabiliter', 'est', 'ademptus', 'et', 'orationum', 'nostrarum', 'auxilia', 'praestolatur', 'in', 'superstitibus', 'consolatione', 'recepta', 'sus', 'piria', 'et', 'fletus', 'uestros', 'ad', 'orationum', 'subsidia', 'conuertatis', 'illud', 'inter', 'humana', 'desideria', 'solatium', 'habituri', 'quod', 'pro', 'honesto', 'sui', 'gestu', 'et', 'continentia', 'per', 'quam', 'se', 'omnibus', 'praestitit', 'diligendum', 'bonam', 'sui', 'recordationem', 'post', 'fata', 'dimisit', 'uirilem', 'supplere', 'non', 'possit', 'absentiam', 'nihilominus', 'tamen', 'abinde', 'non', 'discedit', 'dictus', 'magister', 'nostro', 'culmini', 'sup', 'plicauit', 'ut', 'domum', 'et', 'filios', 'socrus', 'ipsius', 'quos', 'ex', 'causa', 'praedicta', 'deseruit', 'sub', 'nostra', 'protectione', 'recipi', 'manda', 'remus', 'cuius', 'supplicationibus', 'inclinati', 'fidelitati', 'tuae', 'praecipiendo', 'mandamus', 'quatenus', 'domum', 'terram', 'et', 'filios', 'mulieris', 'ipsius', 'non', 'permittas', 'ab', 'aliquo', 'molestari', 'sed', 'ipsos', 'in', 'eorum', 'iuribus', 'auctoritate', 'nostri', 'culminis', 'manuteneas', 'et', 'defendas', 'ex', 'litteris', 'tuis', 'frater', 'quas', 'apud', 'ortonam', 'de', 'manibus', 't', 'gratanter', 'accepi', 'orta', 'est', 'mihi', 'laeticiae', 'plenitudo', 'ubi', 'sub', 'nouo', 'coelo', 'et', 'inter', 'aceruos', 'nouarum', 'mores', 'et', 'lin', 'guas', 'tam', 'dulcis', 'fratris', 'lepidis', 'me', 'recreationibus', 'uisita', 'rent', 'nec', 'aliquo', 'minus', 'gloriosum', 'fecere', 'legentem', 'quem', 'ex', 'eis', 'diiudicaui', 'meritum', 'nec', 'priuatum', 'fratris', 'affectibus', 'etiam', 'in', 'remotis', 'et', 'hic', 'est', 'uerae', 'germanitatis', 'zelus', 'purae', 'fraternitatis', 'affectio', 'et', 'sincera', 'sinceritas', 'dilecto', 'rum', 'ad', 'hoc', 'dum', 'mittentis', 'nomen', 'legi', 'suprascriptum', 'in', 'margine', 'tecum', 'protinus', 'una', 'fui', 'nec', 'obstitit', 'mediatio', 'interiectae', 'telluris', 'quin', 'in', 'ictu', 'oculi', 'transcursis', 'tot', 'spa', 'ciis', 'totus', 'essem', 'dum', 'uero', 'consilium', 'persuasionis', 'tuae', 'oculo', 'insatiato', 'relegi', 'in', 'tali', 'proposito', 'amplexus', 'sum', 'et', 'sic', 'forsitan', 'legendum', 'agrorum', 'nouorum', 'noui', 'affectus', 'luos', 'ad', 'luum', 'et', 'consideraui', 'quanlus', 'sit', 'feruor', 'tuae', 'dilcctionis', 'ad', 'fratrem', 'in', 'quibus', 'omnibus', 'gralificor', 'libi', 'si', 'gratiae', 'rependendae', 'sunl', 'ab', 'aliquo', 'sibi-', 'ipsi', 'sed', 'attende', 'tamen“', 'quam', 'iniuriosum', 'sit', 'huius-', 'modi', 'pugnam', 'repetere', 'ubi', 'uel', 'uictum', 'se', 'noueril', 'uel', 'enormiter', 'actum', 'in', 'fugam', 'non', 'enim', 'sine', 'uerecundiae', 'nola', 'sine', 'pudoris', 'infamia', 'accessus', 'ad', 'omissa', 'repelilur', 'et', 'repelitio', 'ad', 'prohibita', 'intentatur', 'nunquam', 'uidi', 'com-', 'peditum', 'ad', 'compedes', 'nunquam', 'audiri', 'ad', 'captantem', 'captiuum', 'a', 'iure', 'poslliminii', 'uoluntarie', 'rediisse', 'et', 'in', 'brutis', 'hicsensus', 'est', 'ut', 'nunquam', 'per', 'se', 'solula', 'reuerlan-', 'tur', 'ad', 'camum', 'quum', 'uix', 'eliam', 'coacla', 'supporlant', 'annon', 'recolis', 'ut', 'ludum', 'immisceam', 'quam', 'ingeniose', 'quam', 'saepe', 'quamque', 'libenler', 'equlus', 'ille', 'rectus', 'ambulabat', 'et', 'modicum', 'exuebat', 'camum', 'aut', 'frenum', 'quod', 'porlabat', 'a', 'capite', 'ut', 'semper', 'et', 'curatoris', 'asluciam', 'et', 'patroni', 'quando-', 'que', 'caulelam', 'indocilis', 'dissoluendo', 'deciperet', 'nunquam', 'tamen', 'eumdem', 'memini', 'semel', 'saltem', 'per', 'se', 'frenulum', 'rehabuisse“', 'quid', 'ergo', 'numquid', 'homo', 'quem', 'in', 'mo-', 'dico', 'deus', 'minorauit', 'ab', 'angelo', 'ei', 'prudentiorem', 'filiis', 'lucis', 'in', 'generatione', 'sua', 'lestalus', 'est', 'inferior', 'erit', 'intelligentia', 'brutis', 'numquid', 'homo', 'rationalis', 'quem', 'genuit', 'et', 'laclauit', 'licet', 'sub', 'crasso', 'aere', 'patriaque', 'uernilem“', 'quam', 'omnia', 'fugiunt', 'liberalus', 'repclet', 'seruitutem', 'solus', 'enim', 'freneli-', 'cus', 'porlat', 'funem', 'ex', 'quo', 'ligalur', 'respice', 'insensibilia', 'ina-', 'nimata', 'et', 'miraberis', 'omnia', 'mirabiliter', 'appetere', 'liberta-', 'tem', 'si', 'crescenti', 'plantulac', 'pondus', 'incubat', 'nonne', 'uidisti', 'multoties', 'quod', 'quadam', 'sagacilale', 'declinat', 'obstaculum', 'et', 'perimi', 'non', 'paliens', 'in', 'liberum', 'se', 'semper', 'conatur', 'aerem', 'explicare', 'si', 'uelis', 'poteris', 'ex', 'aliis', 'omnibus', 'colligere', 'argumentum', 'et', 'haec', 'omnia', 'quae', 'facta', 'sunt', 'ad', 'nostram', 'doctrinam', 'facta', 'sunt', 'ut', 'semper', 'nos', 'componamus', 'ad', 'illa', 'unde', 'igitur', 'ego', 'natus', 'ex', 'homine', 'libertatem', 'hanc', 'quam', 'diuturnis', 'suspiriis', 'anxietatibus', 'uotis', 'et', 'desideriis', 'meis', 'concessit', 'omnipotens', 'uitare', 'non', 'debeo', 'ne', 'ammittam', 'sic', 'enim', 'criminaliter', 'offenderem', 'concedentem', 'ecce', 'sanus', 'scribit', 'uobis', 'quem', 'desperatum', 'in', 'recessu', 'uestro', 'dimisistis', 'potius', 'quam', 'infirmum', 'plura', 'uobis', 'et', 'latius', 'scribere', 'uoluissem', 'sed', 'festinancia', 'latoris', 'prae', 'sentium', 'non', 'permisit', 'scribo', 'tamen', 'quod', 'necessarium', 'occurrebat', 'quod', 'cum', 'guillelmo', 'nepote', 'meo', 'communibus', 'uoluntatibus', 'et', 'utilitatibus', 'hinc', 'inde', 'concurrentibus', 'de', 'domibus', 'cambium', 'faciatis', 'et', 'caetera', 'haereditario', 'domino', 'suo', 'conrado', 'dei', 'gratia', 'inuictis', 'simo', 'romanorum', 'regi', 'et', 'regni', 'ierosolymitani', 'haeredi', 'petrus', 'de', 'uinea', 'omnem', 'deuotionem', 'et', 'fidem', 'oblatum', 'mihi', 'per', 'latorem', 'praesentium', 'fratrem', 's', 'regale', 'cleno', 'dium', 'gaudium', 'attulit', 'sed', 'stuporem', 'ingessit', 'unde', 'mihi', 'hoc', 'quod', 'domini', 'mei', 'filius', 'in', 'me', 'respicere', 'dignaretur', 'subarrhasti', 'me', 'domine', 'mi', 'rex', 'annulo', 'deuotionis', 'et', 'fidei', 'quanquam', 'hoc', 'nulla', 'causa', 'cuiuslibet', 'necessitatis', 'exigeret', 'ego', 'enim', 'seruus', 'tuus', 'et', 'filius', 'ancillae', 'tuae', 'quum', 'illud', 'nec', 'aetatis', 'robustae', 'perfectio', 'postularet', 'sua', 'sit', 'hoc', 'tamen', 'industriae', 'paternae', 'successio', 'et', 'illa', 'prae', 'cipue', 'regibus', 'innata', 'nobilitas', 'per', 'quam', 'cesaribus', 'uirtus', 'influit', 'ante', 'diem', 'illustri', 'regi', 'sardiniae', 'petrus', 'de', 'uin', 'confortare', 'do', 'mine', 'et', 'uiriliter', 'age', 'ut', 'quod', 'del', 'te', 'multorum', 'tenuit', 'opinio', 'ueritas', 'attestetur', 'nec', 'regiae', 'prolis', 'animum', 'inop', 'tata', 'negotiorum', 'multitudo', 'confundat', 'ecce', 'enim', 'quod', 'ad', 'consummationem', 'omnium', 'desideriorum', 'nostrorum', 'nobis', 'imperialis', 'potentia', 'procul', 'dubio', 'coniungetur', 'domino', 'magistro', 'iusticiario', 'p', 'de', 'uinea', 'ignis', 'incen', 'dium', 'quod', 'ultra', 'quam', 'licet', 'ultro', 'progreditur', 'olei', 'adiec', 'tione', 'non', 'indiget', 'ne', 'in', 'dispendium', 'euagetur', 'et', 'iracun', 'diae', 'motum', 'quem', 'causa', 'non', 'prouocat', 'augeri', 'iusticiae', 'colore', 'non', 'expedit', 'ne', 'transeat', 'in', 'furorem', 'sic', 'et', 'roma', 'nae', 'curiae', 'pelagus', 'quod', 'modicus', 'uentus', 'exagitat', 'com', 'motione', 'nautae', 'cui', 'regni', 'nauigium', 'imperiali', 'prouisione', 'committitur', 'commoueri', 'praesertim', 'rebus', 'ut', 'nunc', 'se', 'habentibus', 'non', 'oportet', 'rogo', 'uos', 'igitur', 'domine', 'cuius', 'obsequium', 'ex', 'deuotione', 'sincera', 'in', 'conspectu', 'principis', 'placuit', 'quantum', 'in', 'uobis', 'est', 'turbationem', 'omnem', 'quae', 'ex', 'collisione', 'tam', 'sublimium', 'gladiorum', 'posset', 'emergere', 'submouentes', 'praesertim', 'hoc', 'tempore', 'quo', 'negotio', 'totius', 'italiae', 'imperiali', 'prouisioni', 'commisso', 'posset', 'periculum', 'imminere', 'sine', 'speciali', 'mandato', 'principis', 'aures', 'et', 'ani', 'mum', 'summi', 'pontificis', 'nullatenus', 'perturbetis', 'recepit', 'cum', 'lacrymis', 'tui', 'seriem', 'rescripti', 'manus', 'mea', 'quam', 'tua', 'mihi', 'nuper', 'dilectio', 'destinauit', 'et', 'quamdam', 'quasi', 'mixturam', 'doloris', 'et', 'gaudii', 'subsequentis', 'insinuata', 'per', 'cam', 'in', 'meam', 'notitiam', 'deduxere', 'dum', 'sensibus', 'meis', 'constanter', 'constitit', 'per', 'eamdem', 'quod', 'te', 'de', 'infirmo', 're', 'sumpsit', 'firmitas', 'sanitatis', 'compassus', 'quidem', 'tibi', 'sum', 'in', 'dolore', 'non', 'modicum', 'nouit', 'deus', 'et', 'in', 'conualescentiae', 'gaudio', 'congauisus', 'non', 'iniuste', 'uerumtamen', 'tuac', 'credu', 'litatis', 'uota', 'si', 'nostrarum', 'mentium', 'acies', 'dirigatur', 'secundis', 'in', 'parte', 'successibus', 'caruere', 'cum', 'a', 'te', 'hoc', 'anno', 'spera', 'tum', 'fuerit', 'quod', 'postquam', 'ab', 'imperiali', 'curia', 'discedebas', 'nullius', 'consiliis', 'acquiescens', 'casus', 'in', 'aegritudine', 'nullo', 'modo', 'pati', 'posses', 'nunc', 'ergo', 'confidens', 'in', 'uisceribus', 'cor', 'dis', 'tui', 'quod', 'cogitationes', 'hominum', 'uanae', 'sunt', 'et', 'quod', 'solus', 'deus', 'est', 'omnium', 'rerum', 'salus', 'et', 'nullius', 'loci', 'fasces', 'facit', 'et', 'distribuit', 'sospitatem', 'age', 'gratias', 'semper', 'domino', 'deo', 'nostro', 'cum', 'multis', 'haec', 'infirmitas', 'fuerit', 'uita', 'et', 'eius', 'tibi', 'beneficium', 'reseruauerit', 'suo', 'iudici', 'peregrino', 'p', 'de', 'uinea', 'etc', 'placuisset', 'mihi', 'quod', 'in', 'infirmitatis', 'acumine', 'constitutus', 'tui', 'pracsentiam', 'habuissem', 'sed', 'postquam', 'me', 'posito', 'inter', 'utramque', 'for', 'tunam', 'dextera', 'saluatoris', 'deflexit', 'ad', 'salutem', 'si', 'com', 'mode', 'posses', 'uellem', 'libenter', 'quod', 'nunc', 'obtenta', 'conua', 'lescentia', 'gratius', 'me', 'uideres', 'ut', 'prout', 'mecum', 'in', 'examine', 'ualitudinis', 'positus', 'saepe', 'tractaueram', 'coram', 'te', 'dispone', 'rem', 'de', 'rebus', 'meis', 'cum', 'decentius', 'uideatur', 'prouidere', 'salutis', 'tempore', 'quam', 'repentinis', 'casibus', 'subiacere', 'audiui', 'uerumtamen', 'ut', 'egregii', 'marchionis', 'lanceae', 'missae', 'lit', 'terae', 'cesari', 'testabantur', 'expresse', 'quod', 'in', 'facto', 'nouariae', 'seruicium', 'fructuosum', 'satis', 'et', 'efficax', 'per', 'te', 'imperiali', 'cul', 'mini', 'sit', 'collatum', 'propter', 'quod', 'cum', 'in', 'praesentia', 'eius', 'fauorabiliter', 'non', 'immerito', 'uidearis', 'nollem', 'quod', 'per', 'absentationem', 'tui', 'in', 'hac', 'parte', 'tibi', 'afferretur', 'aliquod', 'nocumentum', 'nam', 'si', 'papiae', 'nequiuerit', 'fieri', 'uel', 'uercellis', 'uel', 'alibi', 'ubi', 'se', 'maior', 'habilitas', 'dederit', 'praesentibus', 'am', 'bobus', 'in', 'curia', 'id', 'poterimus', 'concedente', 'domino', 'salu', 'briter', 'adimplere', 'incolumis', 'existas', 'et', 'alacer', 'sciturus', 'me', 'per', 'dei', 'gratiam', 'restitutum', 'integrae', 'sanitati', 'licet', 'debilitas', 'quae', 'remansit', 'prouida', 'refectione', 'corporis', 'egere', 'uideatur', 'ad', 'tempus', 'nobili', 'uiro', 'domino', 'rogerio', 'de', 'amicis', 'p', 'de', 'uinea', 'ueniet', 'ad', 'uos', 'notarius', 'rodulphus', 'de', 'podio', 'cum', 'impera', 'tiuis', 'litteris', 'et', 'commendatitiis', 'ab', 'amico', 'ipsum', 'igitur', 'uestro', 'conspectui', 'gratum', 'reddant', 'iubentis', 'imperium', 'et', 'affectio', 'commendantis', 'magistro', 'rodulfo', 'de', 'podio', 'domini', 'imperatoris', 'notario', 'non', 'solum', 'ex', 'bino', 'actu', 'qui', 'consuetudinem', 'solet', 'indu', 'cere', 'sed', 'multiplici', 'sicut', 'scitis', 'specialiter', 'uobis', 'scripsi', 'ut', 'semper', 'mea', 'onera', 'releuetis', 'igitur', 'onus', 'istud', 'expedi', 'tionis', 'celeris', 'latoris', 'praesentium', 'quod', 'requisissem', 'si', 'prae', 'sens', 'fuissem', 'uobis', 'absens', 'impono', 'ut', 'inueniat', 'me', 'in', 'uobis', 'sic', 'enim', 'et', 'mihi', 'consuetudinem', 'obtentam', 'serua', 'bitis', 'et', 'gratum', 'me', 'acquirelis', 'amicum', 'domino', 'symoni', 'uento', 'p', 'de', 'uinea', 'iniuriose', 'secum', 'actum', 'a', 'uobis', 'uir', 'nobilis', 'synibaldus', 'de', 'fossaceca', 'con', 'queritur', 'qui', 'cum', 'curialis', 'sit', 'a', 'curiali', 'non', 'debuit', 'mo', 'lestari', 'pracsertim', 'quum', 'negotium', 'quod', 'inter', 'uos', 'et', 'ipsum', 'agitur', 'ponere', 'sit', 'paratus', 'in', 'manu', 'curialium', 'com', 'munium', 'non', 'decet', 'igitur', 'uos', 'in', 'hoc', 'uestro', 'nouo', 'domi', 'nio', 'nedum', 'curialem', 'sed', 'nec', 'quemlibet', 'alium', 'indebite', 'molestare', 'domino', 'g', 'de', 'falarino', 'suus', 'p', 'de', 'uinea', 'salutem', 'uideo', 'quod', 'apud', 'me', 'salernitanus', 'non', 'es', 'sed', 'uerus', 'amicus', 'dilectionis', 'tuae', 'constantiam', 'facto', 'potius', 'quam', 'uerbo', 'commendans', 'exemplum', 'enim', 'dedisti', 'mihi', 'ut', 'et', 'ego', 'faciam', 'quemadmodum', 'tu', 'fecisti', 'uiue', 'itaque', 'amice', 'ca', 'rissime', 'sospes', 'corpore', 'laetus', 'corde', 'opulentus', 'in', 'rebus', 'et', 'in', 'negotiis', 'meis', 'ad', 'quorum', 'promotionem', 'te', 'ultro', 'neum', 'exhibes', 'non', 'rogatus', 'illam', 'quam', 'lex', 'amicitiae', 'postulat', 'diligentiam', 'procurationis', 'appone', 'ualentinensi', 'electo', 'quod', 'uester', 'immo', 'uestrissimus', 'haberi', 'debeam', 'si', 'grammatica', 'sustineret', 'fida', 'latoris', 'prae', 'sentium', 'relatio', 'suggeret', 'qui', 'magnum', 'uos', 'in', 'eius', 'obse', 'quiis', 'coram', 'magnificentia', 'principis', 'praesentauit', 'per', 'quem', 'negocia', 'uobis', 'sub', 'illa', 'fiducia', 'recommendo', 'quia', 'negocia', 'commendata', 'nobilibus', 'indubitatae', 'consummatio', 'nis', 'sortiuntur', 'effectum', 'suo', 'magistro', 'rofredo', 'de', 'beneuento', 'suus', 'p', 'de', 'uinea', 'nouae', 'relationis', 'gaudium', 'et', 'ueteris', 'deuotionis', 'affectum', 'aduentum', 'uestrum', 'ad', 'curiam', 'ante', 'uocationem', 'expedire', 'credidimus', 'nunc', 'autem', 'credimus', 'oportere', 'ne', 'uocans', 'in', 'uocato', 'se', 'contemptum', 'et', 'imperans', 'per', 'uocationis', 'litte', 'ras', 'habeat', 'se', 'deceptum', 'igitur', 'ut', 'breuiter', 'me', 'expediam', 'uel', 'uenire', 'socerum', 'expedit', 'uel', 'generum', 'non', 'remitti', 'etc', 'si', 'uerum', 'est', 'quod', 'praeterita', 'sint', 'notitia', 'praesentium', 'et', 'praesentia', 'futurorum', 'non', 'uereor', 'ut', 'quum', 'dudum', 'apud', 'uos', 'noticiam', 'familiaritatis', 'et', 'gratiae', 'nactus', 'sum', 'ex', 'gratia', 'uestra', 'aliquid', 'mediatio', 'temporis', 'uel', 'iactus', 'absen', 'tiae', 'mihi', 'interemerit', 'cautionem', 'quam', 'etiam', 'in', 'me', 'si', 'recolitis', 'triplicis', 'arrae', 'stipulatione', 'firmastis', 'dum', 'in', 'forti', 'stamine', 'sensi', 'robur', 'in', 'uiolaceo', 'colore', 'fragrantiam', 'in', 'curro', 'pondus', 'et', 'in', 'saphiro', 'uirtutem', 'deuotionis', 'fidei', 'amoris', 'et', 'constantiae', 'me', 'iugiter', 'seruare', 'mandastis', 'ex', 'dono', 'seruaui', 'quidem', 'et', 'illibate', 'seruabo', 'et', 'ecce', 'inter', 'caetera', 'quae', 'tam', 'de', 'plena', 'salute', 'corporis', 'quam', 'de', 'aliis', 'accidentibus', 'mihi', 'per', 'dei', 'gratiam', 'pro', 'uoto', 'succe', 'dunt', 'in', 'uno', 'tamen', 'uideor', 'facientibus', 'uobis', 'sustinere', 'defectum', 'quia', 'de', 'salute', 'uestra', 'non', 'possum', 'frequenter', 'sicut', 'cupio', 'recreari', 'si', 'hoc', 'unum', 'adesset', 'cuncta', 'mihi', 'ut', 'uolumus', 'prospere', 'agerentur', 'recordamini', 'quia', 'ex', 'quo', 'personam', 'uestram', 'non', 'uidi', 'litteras', 'non', 'accepi', 'sed', 'scire', 'potestis', 'et', 'etiam', 'sono', 'uocabuli', 'a', 'graeco', 'protracti', 'recte', 'perpendere', 'quod', 'epistolae', 'missiones', 'dicuntur', 'et', 'ideo', 'non', 'tam', 'praesentium', 'sed', 'absentium', 'adiumenta', 'sunt', 'amico', 'rum', 'epistolae', 'quid', 'ergo', 'fuit', 'quid', 'obstitit', 'ut', 'absentibus', 'nobis', 'tamdiu', 'nulla', 'mihi', 'a', 'uobis', 'littera', 'mitteretur', 'quae', 'seruum', 'uestrum', 'fessum', 'hinc', 'inde', 'negociis', 'et', 'sub', 'panno', 'tenui', 'nichilominus', 'solis', 'obstantibus', 'feruoribus', 'anhelan', 'tem', 'leni', 'aura', 'de', 'uestra', 'salute', 'spirante', 'mulceret', 'cete', 'rum', 'etsi', 'me', 'in', 'similibus', 'accusatis', 'iudicium', 'dispar', 'est', 'nam', 'propter', 'infirmitates', 'multorum', 'me', 'ad', 'multa', 'cum', 'paucissimis', 'nostris', 'remanente', 'et', 'propter', 'hoc', 'multipli', 'citer', 'occupato', 'morbo', 'etiam', 'quasi', 'uniuersaliter', 'ferues', 'cente', 'dum', 'turbarer', 'ob', 'hoc', 'et', 'multum', 'pauescerem', 'cum', 'a', 'publicis', 'uacabam', 'negociis', 'libenter', 'mihi', 'in', 'priuatis', 'parcebam', 'faciebam', 'tamen', 'quod', 'poteram', 'et', 'fas', 'erat', 'uidelicet', 'uos', 'per', 'omnes', 'ad', 'partes', 'ipsas', 'uenientes', 'nuncios', 'salutando', 'ideoque', 'quia', 'credo', 'uos', 'ex', 'iis', 'conuicisse', 'nisi', 'forte', 'alia', 'penes', 'uos', 'exceptio', 'lateat', 'quae', 'mei', 'allegata', 'proponentis', 'elidat', 'quicquid', 'huc', 'usque', 'fuerit', 'quicquid', 'obstiterit', 'pro', 'deo', 'rogo', 'ut', 'amodo', 'mihi', 'non', 'faciatis', 'in', 'huiusmodi', 'parcitatem', 'quia', 'grauissimum', 'gererem', 'nec', 'tale', 'delictum', 'ueniam', 'mereretur', 'si', 'in', 'culpam', 'similem', 'similiter', 'iterum', 'caderetis', 'responsiua', 'ad', 'praecedentem', 'peccarem', 'in', 'filio', 'et', 'in', 'deuoto', 'delinquerem', 'si', 'patris', 'fidem', 'in', 'praesentia', 'praestitam', 'seruitori', 'absenti', 'non', 'offer', 'rem', 'cum', 'praesertim', 'legamn', 'semper', 'in', 'regestro', 'memoriae', 'nec', 'intelligere', 'negligam', 'quanta', 'me', 'semper', 'honorificen', 'tia', 'praeuenistis', 'et', 'ut', 'tractentur', 'aliqua', 'quanta', 'sollicitu', 'dine', 'procurastis', 'ut', 'a', 'lecto', 'resurgerem', 'quo', 'languebam', 'igitur', 'quam', 'lucrati', 'estis', 'uuae', 'uinum', 'et', 'de', 'messe', 'quam', 'defendistis', 'a', 'pluuia', 'fructum', 'si', 'quem', 'dare', 'potest', 'con', 'gruum', 'colligatis', 'ne', 'impingatur', 'uobis', 'quoddam', 'quod', 'nolo', 'dicere', 'uel', 'contemptus', 'si', 'eam', 'penitus', 'duxeritis', 'omittendam', 'a', 'qua', 'etsi', 'nondum', 'plenos', 'manipulos', 'grana', 'saltem', 'colligere', 'ualeretis', 'praesertim', 'cum', 'apta', 'sit', 'iugiter', 'dare', 'pro', 'posse', 'uobis', 'fructum', 'suo', 'tempore', 'graciosum', 'rogo', 'praeterea', 'ut', 'memoriam', 'mei', 'non', 'absorbeat', 'inter', 'iectio', 'scyllaei', 'maris', 'in', 'uobis', 'nec', 'consideretis', 'si', 'placet', 'quanta', 'profunditate', 'quae', 'latens', 'est', 'marina', 'caribdis', 'in', 'uoluat', 'sed', 'quam', 'breui', 'spatio', 'claro', 'hinc', 'inde', 'lumine', 'subito', 'tellus', 'utraque', 'sit', 'diuisa', 'praeter', 'haec', 'si', 'quid', 'ac', 'ceptum', 'uobis', 'largiri', 'potest', 'liguria', 'licet', 'felicitatem', 'eius', 'deprauet', 'infelicitas', 'incolarum', 'requirite', 'quia', 'non', 'deerit', 'ebreo', 'quid', 'offerat', 'gratum', 'domino', 'ex', 'egypto', 'cum', 'de', 'fectus', 'habere', 'non', 'ualeat', 'locum', 'sub', 'principe', 'glorioso', 'domino', 'panormitano', 'archiepiscopo', 'sanus', 'pater', 'praesentibus', 'culparetur', 'si', 'non', 'sinistra', 'exciperet', 'quod', 'languentem', 'october', 'a', 'primo', 'statu', 'depulit', 'ad', 'quem', 'nec', 'ianuarius', 'hactenus', 'reuocauit', 'patrem', 'utinam', 'roboret', 'sanitas', 'prosperitas', 'foueat', 'et', 'gaudia', 'comitentur', 'nec', 'ta', 'men', 'longius', 'abscedat', 'a', 'filio', 'cui', 'si', 'praesentia', 'redditur', 'ferret', 'habilius', 'id', 'quo', 'grauatur', 'petrus', 'de', 'uinea', 'eidem', 'archiepiscopo', 'significat', 'quod', 'praesentauit', 'exenia', 'sua', 'imperatori', 'confortando', 'eum', 'in', 'aegritudine', 'renitente', 'consilio', 'quorumdam', 'ex', 'nostris', 'et', 'nimiam', 'zeli', 'uestri', 'perfectionem', 'conscientiae', 'scrupulis', 'adscri', 'bente', 'factum', 'est', 'pater', 'quod', 'imperastis', 'quia', 'et', 'quanti', 'tatem', 'missarum', 'rerum', 'circumspectio', 'principis', 'habuit', 'et', 'circumspectio', 'qualitatem', 'missionis', 'attendit', 'serenitatem', 'etiam', 'uultus', 'eius', 'cum', 'audiuit', 'archiepiscopum', 'capua', 'num', 'fnon', 'adhuc', 'ita', 'desperatum', 'lator', 'praesentium', 'nun', 'tius', 'uester', 'uidit', 'et', 'nichilominus', 'affectum', 'ipsius', 'epistola', 'uobis', 'remissa', 'testatur', 'quoniam', 'ab', 'intentione', 'iubentis', 'et', 'uerbis', 'dictantis', 'industria', 'procul', 'dubio', 'non', 'recessit', 'uos', 'igitur', 'reuerende', 'pater', 'qui', 'dominis', 'seruire', 'fideliter', 'et', 'placere', 'deuotis', 'utiliter', 'didicistis', 'placeatis', 'etiam', 'nobis', 'uitae', 'uestrae', 'telam', 'quam', 'desperationis', 'acutae', 'nouacula', 'non', 'praecidit', 'consuetis', 'et', 'debitis', 'medicinae', 'remediis', 'confouentes', 'nec', 'sit', 'uobis', 'idcirco', 'mori', 'solatium', 'quod', 'sit', 'propter', 'aegritudinis', 'taedia', 'longius', 'uiuere', 'dolorosum', 'me', 'autem', 'si', 'tamen', 'patri', 'morienti', 'superero', 'uestris', 'amicum', 'in', 'morte', 'relinquitis', 'quem', 'uobis', 'deuotum', 'reuera', 'habeba', 'tis', 'in', 'uita', 'fredericus', 'archiepiscopo', 'capuano', 'confortando', 'ipsum', 'in', 'infirmitate', 'sua', 'recepit', 'nostra', 'serenitas', 'delegata', 'tui', 'uiuentis', 'exenia', 'gratius', 'per', 'te', 'ipsum', 'quam', 'si', 'legata', 'tuae', 'supremae', 'uo', 'luntatis', 'haec', 'eadem', 'testamentarius', 'distributor', 'aut', 'quiuis', 'haeres', 'legitimus', 'delegasset', 'ac', 'in', 'eis', 'non', 'tam', 'rerum', 'relic', 'tarum', 'inspeximus', 'quantitatem', 'quam', 'relinquentis', 'afsec', 'tum', 'et', 'ipsius', 'extremi', 'iudicii', 'considerauimus', 'qualitatem', 'quod', 'apud', 'te', 'prout', 'euidenter', 'agnoscimus', 'conscientiae', 'tuae', 'fidelis', 'integritas', 'compulit', 'et', 'beneficiorum', 'nostro', 'rum', 'grata', 'memoria', 'quam', 'agentis', 'in', 'ultimis', 'etiam', 'spiri', 'tus', 'retinebat', 'induxit', 'et', 'quum', 'sicut', 'audiuimus', 'adhuc', 'te', 'lectus', 'aduersae', 'ualetudinis', 'teneat', 'nec', 'in', 'totum', 'eua', 'nuit', 'spes', 'salutis', 'ad', 'resumendas', 'conualescentiae', 'uires', 'recepto', 'praesenti', 'hilariter', 'nostrae', 'confortationis', 'antidoto', 'tanto', 'debes', 'instantius', 'aspirare', 'quanto', 'salutem', 'tuam', 'nulla', 'sicut', 'accepimus', 'desperatione', 'praecisam', 'quam', 'plu', 'ribus', 'fructuosam', 'et', 'specialiter', 'nostris', 'fore', 'sentis', 'obse', 'quiis', 'opportunam', 'quaestionis', 'arduae', 'petita', 'responsio', 'in', 'quantum', 'res', 'pondenti', 'permittitur', 'enodatur', 'grandis', 'namque', 'pro', 'gressus', 'materiae', 'infinitis', 'terminandae', 'limitibus', 'rancoris', 'propinat', 'indicia', 'et', 'ex', 'telae', 'diffusae', 'contextu', 'quae', 'de', 'praeconio', 'summi', 'caesaris', 'hostes', 'caedentis', 'orditur', 'ne', 'quid', 'ex', 'contingentibus', 'obmittatur', 'manus', 'scribentis', 'tremescit', 'et', 'stupet', 'quis', 'enim', 'posset', 'amplo', 'flamine', 'prae', 'potentis', 'tanti', 'principis', 'insignia', 'promere', 'in', 'cuius', 'pectus', 'confluunt', 'quicquid', 'uirtutes', 'habent', 'quem', 'nubes', 'pluerunt', 'iustum', 'et', 'super', 'eum', 'coeli', 'desuper', 'rorauerunt', 'non', 'plato', 'non', 'tullius', 'non', 'filii', 'tenebrarum', 'qui', 'ex', 'ore', 'se', 'dentis', 'in', 'trono', 'in', 'generatione', 'sua', 'prudentiores', 'lucis', 'filiis', 'nuncupantur', 'hunc', 'si', 'quidem', 'terra', 'et', 'pontus', 'ado', 'rant', 'et', 'aethera', 'satis', 'applaudunt', 'utpote', 'qui', 'mundo', 'uerus', 'imperator', 'à', 'diuino', 'prouisus', 'culmine', 'pacis', 'amicus', 'cha', 'ritatis', 'patronus', 'iuris', 'conditor', 'iusticiae', 'conseruator', 'potentiae', 'filius', 'mundum', 'perpetua', 'relatione', 'gubernat', 'hic', 'est', 'de', 'quo', 'ezechielis', 'uerba', 'proclamant', '«', 'aquila', 'grandis', 'magnarum', 'alarum', 'longo', 'membrorum', 'ductu', 'plena', 'plumis', 'et', 'uarietate', 'multiplici', '»', 'hic', 'est', 'de', 'quo', 'loquitur', 'ieremias', '«', 'replebo', 'te', 'hominibus', 'quasi', 'botro', 'et', 'super', 'te', 'celeuma', 'cantabitur', '»', 'talis', 'ergo', 'praesidio', 'principis', 'protectus', 'mundus', 'exultet', 'talem', 'namque', 'totus', 'orbis', 'uocabat', 'in', 'dominum', 'talem', 'requirebat', 'iusticiae', 'defensorem', 'qui', 'in', 'potentia', 'strenuus', 'in', 'strenuitate', 'prae', 'clarus', 'in', 'claritate', 'benignus', 'in', 'benignitate', 'sapiens', 'in', 'sapientia', 'prouidus', 'in', 'prouidentia', 'foret', 'humanus', 'in', 'eo', 'denique', 'insita', 'forma', 'boni', 'tanquam', 'liuore', 'carens', 'climata', 'ligat', 'et', 'elementa', 'coniungit', 'ut', 'conueniant', 'flammis', 'fri', 'gora', 'iungantur', 'arida', 'liquidis', 'planis', 'associentur', 'aspera', 'et', 'directis', 'inuia', 'maritentur', 'sub', 'eius', 'namque', 'temporibus', 'destruuntur', 'fomenta', 'malitiae', 'uirtus', 'securitatis', 'inseritur', 'itaque', 'gladii', 'conflantur', 'in', 'uomeres', 'pacis', 'foedere', 'suffo', 'cante', 'timorem', 'et', 'eius', 'metus', 'instinctu', 'quicquid', 'libertas', 'negligit', 'et', 'licentia', 'immoderata', 'praesumit', 'suae', 'uictoriae', 'censura', 'castigat', 'o', 'miranda', 'diuina', 'clementia', 'fastum', 'compescere', 'prompta', 'perituro', 'mundo', 'de', 'tam', 'mundo', 'principe', 'tam', 'consulte', 'quam', 'utiliter', 'prouidisti', 'qui', 'ex', 'omni', 'parte', 'beatus', 'strenuus', 'in', 'toto', 'cuiuslibet', 'turbationis', 'pacator', 'iustissimus', 'sine', 'cura', 'populi', 'solus', 'esse', 'nesciret', 'quem', 'supremi', 'manus', 'opificis', 'formauit', 'in', 'hominem', 'ut', 'tot', 'rerum', 'habenas', 'flecteret', 'et', 'cuncta', 'sub', 'iuris', 'ordine', 'limitaret', 'o', 'utinam', 'diuina', 'prouisio', 'per', 'etheresim', 'dierum', 'nostrorum', 'numerum', 'resecans', 'caesareae', 'manui', 'fulci', 'menta', 'tribueres', 'et', 'annos', 'augusti', 'regnantis', 'augeres', 'o', 'naturae', 'felicitas', 'quanti', 'priuilegii', 'praerogatiua', 'principem', 'ditasti', 'felicem', 'concedens', 'aliis', 'quod', 'deficit', 'in', 'te', 'ipsa', 'hunc', 'trames', 'rationis', 'antistitem', 'hunc', 'exigebat', 'iustitia', 'defensorem', 'qui', 'congruam', 'seruans', 'utrobique', 'temperiem', 'conatus', 'cupiditatis', 'infringeret', 'et', 'eius', 'morsus', 'illicitos', 'refrenaret', 'cui', 'iam', 'uirtutum', 'incipiunt', 'mysteria', 'inuidere', 'ea', 'uidelicet', 'inuidiae', 'specie', 'quae', 'non', 'ardore', 'liuoris', 'aemu', 'lantis', 'destruit', 'animum', 'sed', 'in', 'suauitatis', 'odorem', 'flatibus', 'incitat', 'charitatis', 'uiuat', 'igitur', 'uiuat', 'sancti', 'friderici', 'no', 'men', 'in', 'populo', 'succrescat', 'in', 'ipsum', 'feruor', 'deuotionis', 'a', 'subditis', 'et', 'fidei', 'meritum', 'mater', 'ipsa', 'fidelitas', 'in', 'exem', 'plum', 'subiectionis', 'inflammet']\n"
     ]
    },
    {
     "data": {
      "image/png": "[encoded data removed]",
      "text/plain": [
       "<Figure size 1080x720 with 1 Axes>"
      ]
     },
     "metadata": {
      "needs_background": "light"
     },
     "output_type": "display_data"
    }
   ],
   "source": [
    "corpus_rocca = ' '.join(rocca['text'].tolist()).split()\n",
    "corpus_pdv = ' '.join(pdv['text'].tolist()).split()\n",
    "print(corpus_pdv)\n",
    "\n",
    "\n",
    "step = 200\n",
    "sublist_size = 200\n",
    "\n",
    "corpus_pdv = [corpus_pdv[i:i+sublist_size] for i in range(0, len(corpus_pdv), step)]\n",
    "corpus_pdv = [' '.join(sublist) for sublist in corpus_pdv]\n",
    "corpus_rocca = [corpus_rocca[i:i+sublist_size] for i in range(0, len(corpus_rocca), step)]\n",
    "corpus_rocca = [' '.join(sublist) for sublist in corpus_rocca]\n",
    "\n",
    "\n",
    "\n",
    "corpus = corpus_pdv + corpus_rocca + newdf['text'].tolist() + encycliques['text'].tolist()\n",
    "\n",
    "vectorizer = TfidfVectorizer(max_features=1000)\n",
    "tfidf_matrix = vectorizer.fit_transform(corpus)\n",
    "feature_names = vectorizer.get_feature_names_out()\n",
    "matrix_pdv = tfidf_matrix.toarray()\n",
    "euclidean_distance_matrix = pairwise_distances(matrix_pdv, metric='euclidean')\n",
    "tsne = TSNE(n_components=2, random_state=42)\n",
    "euclidian_tsne = tsne.fit_transform(euclidean_distance_matrix)\n",
    "\n",
    "pdv = list(range(0,26))\n",
    "rocca = list(range(26,47))\n",
    "test = list(range(47,55))\n",
    "deux = list(range(55,len(corpus)))\n",
    "\n",
    "\n",
    "\n",
    "# Visualization\n",
    "plt.figure(figsize=(15, 10))\n",
    "plt.scatter(euclidian_tsne[:, 0], euclidian_tsne[:, 1], color='blue', alpha=0.5)  # All points in blue with some transparency\n",
    "\n",
    "highlighted_pdv = plt.scatter(euclidian_tsne[pdv, 0], euclidian_tsne[pdv, 1], color='red', marker='o', label='Lettres de Pierre de la Vigne')\n",
    "\n",
    "highlighted_rocca = plt.scatter(euclidian_tsne[rocca, 0], euclidian_tsne[rocca, 1], marker='o', label='Lettres de Nicolas de Roca')\n",
    "\n",
    "highlighted_test = plt.scatter(euclidian_tsne[test, 0], euclidian_tsne[test, 1], color='yellow',marker='o', label='Lettres de Roca dans le recueil')\n",
    "\n",
    "highlighted_deux = plt.scatter(euclidian_tsne[deux, 0], euclidian_tsne[deux, 1], color='green',marker='o', label='Encycliques du premier livre')\n",
    "\n",
    "\n",
    "plt.xlabel('t-SNE Dimension 1')\n",
    "plt.ylabel('t-SNE Dimension 2')\n",
    "plt.title('Distance euclidienne entre Pierre de la Vigne et Nicolas de Rocca',fontsize=25)\n",
    "plt.legend()\n",
    "plt.axis('off')\n",
    "plt.savefig('tsne_pdv_roca_mots.png',dpi=300)\n",
    "\n",
    "plt.show()"
   ]
  },
  {
   "cell_type": "code",
   "execution_count": 216,
   "id": "52021a2d",
   "metadata": {},
   "outputs": [
    {
     "data": {
      "text/plain": [
       "21"
      ]
     },
     "execution_count": 216,
     "metadata": {},
     "output_type": "execute_result"
    }
   ],
   "source": [
    "len(corpus_rocca)"
   ]
  },
  {
   "cell_type": "markdown",
   "id": "e3a4eba9",
   "metadata": {},
   "source": [
    "# Test avec les lemmes et split de 200 mots + tfidf"
   ]
  },
  {
   "cell_type": "code",
   "execution_count": 8,
   "id": "73cd126a",
   "metadata": {},
   "outputs": [],
   "source": [
    "pdv = pd.read_excel('pdv.xlsx')\n",
    "pdv.pop('Unnamed: 0')\n",
    "pdv['lemma'] = pdv['lemma'].apply(string_to_list).apply(join).apply(stopwords).apply(join)\n",
    "\n",
    "rocca = pd.read_excel('rocca.xlsx')\n",
    "rocca.pop('Unnamed: 0')\n",
    "rocca['lemma'] = rocca['lemma'].apply(string_to_list).apply(join).apply(stopwords).apply(join)"
   ]
  },
  {
   "cell_type": "code",
   "execution_count": 9,
   "id": "3963d3ac",
   "metadata": {},
   "outputs": [
    {
     "name": "stdout",
     "output_type": "stream",
     "text": [
      "22 18\n"
     ]
    },
    {
     "data": {
      "image/png": "[encoded data removed]",
      "text/plain": [
       "<Figure size 1080x720 with 1 Axes>"
      ]
     },
     "metadata": {
      "needs_background": "light"
     },
     "output_type": "display_data"
    }
   ],
   "source": [
    "corpus_rocca_lemma = ' '.join(rocca['lemma'].tolist()).split()\n",
    "corpus_pdv_lemma = ' '.join(pdv['lemma'].tolist()).split()\n",
    "\n",
    "\n",
    "step = 200\n",
    "sublist_size = 200\n",
    "\n",
    "corpus_pdv_lemma = [corpus_pdv_lemma[i:i+sublist_size] for i in range(0, len(corpus_pdv_lemma), step)]\n",
    "corpus_pdv_lemma = [' '.join(sublist) for sublist in corpus_pdv_lemma]\n",
    "corpus_rocca_lemma = [corpus_rocca_lemma[i:i+sublist_size] for i in range(0, len(corpus_rocca_lemma), step)]\n",
    "corpus_rocca_lemma = [' '.join(sublist) for sublist in corpus_rocca_lemma]\n",
    "\n",
    "corpus_lemma = corpus_pdv_lemma + corpus_rocca_lemma\n",
    "\n",
    "print(len(corpus_pdv_lemma),len(corpus_rocca_lemma))\n",
    "\n",
    "vectorizer = TfidfVectorizer(max_features=1000)\n",
    "tfidf_matrix = vectorizer.fit_transform(corpus_lemma)\n",
    "feature_names = vectorizer.get_feature_names_out()\n",
    "matrix_pdv = tfidf_matrix.toarray()\n",
    "euclidean_distance_matrix = pairwise_distances(matrix_pdv, metric='euclidean')\n",
    "tsne = TSNE(n_components=2, random_state=42)\n",
    "euclidian_tsne = tsne.fit_transform(euclidean_distance_matrix)\n",
    "\n",
    "pdv = list(range(0,22))\n",
    "rocca = list(range(23,len(corpus_lemma)))\n",
    "\n",
    "\n",
    "\n",
    "# Visualization\n",
    "plt.figure(figsize=(15, 10))\n",
    "plt.scatter(euclidian_tsne[:, 0], euclidian_tsne[:, 1], color='blue', alpha=0.5)  # All points in blue with some transparency\n",
    "\n",
    "highlighted_pdv = plt.scatter(euclidian_tsne[pdv, 0], euclidian_tsne[pdv, 1], color='red', marker='o', label='Lettres de Pierre de la Vigne')\n",
    "\n",
    "highlighted_rocca = plt.scatter(euclidian_tsne[rocca, 0], euclidian_tsne[rocca, 1], marker='o', label='Lettres de Nicolas de Rocca')\n",
    "\n",
    "plt.xlabel('t-SNE Dimension 1')\n",
    "plt.ylabel('t-SNE Dimension 2')\n",
    "plt.title('Distance euclidienne entre Pierre de la Vigne et Nicolas de Rocca',fontsize=25)\n",
    "plt.legend()\n",
    "plt.axis('off')\n",
    "plt.savefig('tsne_pdv_roca_lemma.png',dpi=300)\n",
    "\n",
    "\n",
    "plt.show()"
   ]
  },
  {
   "cell_type": "markdown",
   "id": "5d11d96b",
   "metadata": {},
   "source": [
    "# Data augmentation pour créer un modèle"
   ]
  },
  {
   "cell_type": "code",
   "execution_count": 10,
   "id": "b653719f",
   "metadata": {},
   "outputs": [
    {
     "name": "stderr",
     "output_type": "stream",
     "text": [
      "2023-08-11 21:28:27.497028: I tensorflow/core/platform/cpu_feature_guard.cc:193] This TensorFlow binary is optimized with oneAPI Deep Neural Network Library (oneDNN) to use the following CPU instructions in performance-critical operations:  AVX2 AVX512F AVX512_VNNI FMA\n",
      "To enable them in other operations, rebuild TensorFlow with the appropriate compiler flags.\n",
      "2023-08-11 21:28:27.790220: I tensorflow/core/util/port.cc:104] oneDNN custom operations are on. You may see slightly different numerical results due to floating-point round-off errors from different computation orders. To turn them off, set the environment variable `TF_ENABLE_ONEDNN_OPTS=0`.\n",
      "2023-08-11 21:28:27.830567: W tensorflow/compiler/xla/stream_executor/platform/default/dso_loader.cc:64] Could not load dynamic library 'libcudart.so.11.0'; dlerror: libcudart.so.11.0: cannot open shared object file: No such file or directory\n",
      "2023-08-11 21:28:27.830585: I tensorflow/compiler/xla/stream_executor/cuda/cudart_stub.cc:29] Ignore above cudart dlerror if you do not have a GPU set up on your machine.\n",
      "2023-08-11 21:28:28.679960: W tensorflow/compiler/xla/stream_executor/platform/default/dso_loader.cc:64] Could not load dynamic library 'libnvinfer.so.7'; dlerror: libnvinfer.so.7: cannot open shared object file: No such file or directory\n",
      "2023-08-11 21:28:28.680022: W tensorflow/compiler/xla/stream_executor/platform/default/dso_loader.cc:64] Could not load dynamic library 'libnvinfer_plugin.so.7'; dlerror: libnvinfer_plugin.so.7: cannot open shared object file: No such file or directory\n",
      "2023-08-11 21:28:28.680027: W tensorflow/compiler/tf2tensorrt/utils/py_utils.cc:38] TF-TRT Warning: Cannot dlopen some TensorRT libraries. If you would like to use Nvidia GPU with TensorRT, please make sure the missing libraries mentioned above are installed properly.\n"
     ]
    }
   ],
   "source": [
    "import nlpaug.augmenter.char as nac\n",
    "import nlpaug.augmenter.word as naw\n",
    "import nlpaug.augmenter.sentence as nas"
   ]
  },
  {
   "cell_type": "code",
   "execution_count": 11,
   "id": "60911f3f",
   "metadata": {},
   "outputs": [],
   "source": [
    "def delete_portion(text, start_percentage, end_percentage):\n",
    "    total_length = len(text)\n",
    "    \n",
    "    start_index = int(total_length * start_percentage)\n",
    "    end_index = int(total_length * (1 - end_percentage))\n",
    "    \n",
    "    deleted_portion = text[start_index:end_index]\n",
    "    return deleted_portion\n",
    "def divide_text(text):\n",
    "    total_length = len(text)\n",
    "    part_length = total_length // 3\n",
    "    \n",
    "    part1 = text[:part_length]\n",
    "    part2 = text[part_length:2 * part_length]\n",
    "    part3 = text[2 * part_length:]\n",
    "    \n",
    "    return part1, part2, part3\n",
    "aug = nac.KeyboardAug()"
   ]
  },
  {
   "cell_type": "code",
   "execution_count": 12,
   "id": "633d9e08",
   "metadata": {},
   "outputs": [],
   "source": [
    "pdv = pd.read_excel('pdv.xlsx')\n",
    "pdv.pop('Unnamed: 0')\n",
    "pdv['lemma'] = pdv['lemma'].apply(string_to_list).apply(join).apply(stopwords).apply(join)\n",
    "\n",
    "rocca = pd.read_excel('rocca.xlsx')\n",
    "rocca.pop('Unnamed: 0')\n",
    "rocca['lemma'] = rocca['lemma'].apply(string_to_list).apply(join).apply(stopwords).apply(join)"
   ]
  },
  {
   "cell_type": "code",
   "execution_count": 13,
   "id": "2138f870",
   "metadata": {},
   "outputs": [],
   "source": [
    "corpus_rocca = rocca['text'].tolist()\n",
    "corpus_pdv = pdv['text'].tolist()"
   ]
  },
  {
   "cell_type": "code",
   "execution_count": 14,
   "id": "d039016c",
   "metadata": {},
   "outputs": [],
   "source": [
    "rocca['symetry'] = rocca['text'].apply(lambda x: delete_portion(x, 0.05, 0.05))\n",
    "rocca[['part1', 'part2', 'part3']] = rocca['text'].apply(divide_text).apply(pd.Series)\n",
    "rocca['keyboard_aug'] = rocca['text'].apply(lambda x: aug.augment(x)).apply(join)\n",
    "\n",
    "pdv['symetry'] = pdv['text'].apply(lambda x: delete_portion(x, 0.05, 0.05))\n",
    "pdv[['part1', 'part2', 'part3']] = pdv['text'].apply(divide_text).apply(pd.Series)\n",
    "pdv['keyboard_aug'] = pdv['text'].apply(lambda x: aug.augment(x)).apply(join)"
   ]
  },
  {
   "cell_type": "code",
   "execution_count": 15,
   "id": "b86e3caf",
   "metadata": {},
   "outputs": [],
   "source": [
    "pierre = pdv['text'].tolist() + pdv['part1'].tolist() + pdv['part1'].tolist() + pdv['part2'].tolist() + pdv['part3'].tolist()+pdv['keyboard_aug'].tolist()\n",
    "\n",
    "nico = rocca['text'].tolist() + rocca['part1'].tolist() + rocca['part1'].tolist() + rocca['part2'].tolist() + rocca['part3'].tolist()"
   ]
  },
  {
   "cell_type": "code",
   "execution_count": 16,
   "id": "5f7e121f",
   "metadata": {},
   "outputs": [],
   "source": [
    "corpus_rocca = ' '.join(rocca['text'].tolist()).split()\n",
    "corpus_rocca = [corpus_rocca[i:i+sublist_size] for i in range(0, len(corpus_rocca), step)]\n",
    "corpus_rocca = [' '.join(sublist) for sublist in corpus_rocca]\n",
    "df_rocca = pd.DataFrame({'text':corpus_rocca})"
   ]
  },
  {
   "cell_type": "code",
   "execution_count": 17,
   "id": "c2bcde02",
   "metadata": {},
   "outputs": [],
   "source": [
    "df_rocca['symetry'] = df_rocca['text'].apply(lambda x: delete_portion(x, 0.05, 0.05))\n",
    "df_rocca[['part1', 'part2', 'part3']] = df_rocca['text'].apply(divide_text).apply(pd.Series)\n",
    "df_rocca['keyboard_aug'] = df_rocca['text'].apply(lambda x: aug.augment(x)).apply(join)"
   ]
  },
  {
   "cell_type": "code",
   "execution_count": 18,
   "id": "16ba9d4f",
   "metadata": {},
   "outputs": [],
   "source": [
    "nicolas = df_rocca['text'].tolist() + df_rocca['symetry'].tolist()+ df_rocca['part1'].tolist() + df_rocca['part2'].tolist() + df_rocca['part3'].tolist() + df_rocca['keyboard_aug'].tolist()"
   ]
  },
  {
   "cell_type": "code",
   "execution_count": 103,
   "id": "f7f278e0",
   "metadata": {},
   "outputs": [
    {
     "name": "stdout",
     "output_type": "stream",
     "text": [
      "126\n",
      "162\n"
     ]
    }
   ],
   "source": [
    "print(len(nicolas))\n",
    "print(len(pierre))\n",
    "\n",
    "tim = pd.DataFrame({'text':pierre,'indice':0})\n",
    "viv = pd.DataFrame({'text':nicolas,'indice':1})\n",
    "\n",
    "noe = pd.concat([tim,viv],axis=0)"
   ]
  },
  {
   "cell_type": "code",
   "execution_count": 234,
   "id": "c35b9407",
   "metadata": {},
   "outputs": [
    {
     "name": "stdout",
     "output_type": "stream",
     "text": [
      "Catégorie =  [0]\n",
      "Accuracy: 0.9305555555555556\n",
      "[[41  0]\n",
      " [ 5 26]]\n"
     ]
    },
    {
     "data": {
      "image/png": "[encoded data removed]",
      "text/plain": [
       "<Figure size 432x288 with 2 Axes>"
      ]
     },
     "metadata": {
      "needs_background": "light"
     },
     "output_type": "display_data"
    }
   ],
   "source": [
    "from sklearn.feature_extraction.text import TfidfVectorizer\n",
    "from sklearn.ensemble import RandomForestClassifier\n",
    "from sklearn.model_selection import train_test_split\n",
    "from sklearn.metrics import accuracy_score, classification_report\n",
    "from sklearn.metrics import confusion_matrix, f1_score\n",
    "\n",
    "texts = noe['text'].tolist()\n",
    "labels = noe['indice'].tolist()\n",
    "\n",
    "tfidf_vectorizer = TfidfVectorizer(max_features=1000)\n",
    "X = tfidf_vectorizer.fit_transform(texts)\n",
    "\n",
    "# Split the data into training and test sets\n",
    "X_train, X_test, y_train, y_test = train_test_split(X, labels, test_size=0.25, random_state=42)\n",
    "\n",
    "# Create and train the Random Forest model\n",
    "random_forest = RandomForestClassifier(n_estimators=1000, random_state=42)\n",
    "random_forest.fit(X_train, y_train)\n",
    "\n",
    "# Predict on the test set\n",
    "y_pred = random_forest.predict(X_test)\n",
    "\n",
    "#test\n",
    "\n",
    "new_vect = tfidf_vectorizer.transform([newdf['text'][7]])\n",
    "predict = random_forest.predict(new_vect)\n",
    "print('Catégorie = ',predict)\n",
    "\n",
    "# Evaluate the model\n",
    "accuracy = accuracy_score(y_test, y_pred)\n",
    "print(\"Accuracy:\", accuracy)\n",
    "conf_matrix = confusion_matrix(y_test, y_pred)\n",
    "print(conf_matrix)\n",
    "\n",
    "matrix_text = metrics.ConfusionMatrixDisplay.from_predictions(y_test,y_pred)"
   ]
  },
  {
   "cell_type": "code",
   "execution_count": 102,
   "id": "8295b83f",
   "metadata": {},
   "outputs": [
    {
     "data": {
      "text/plain": [
       "0.9637305699481865"
      ]
     },
     "execution_count": 102,
     "metadata": {},
     "output_type": "execute_result"
    }
   ],
   "source": [
    "precision = 0.93\n",
    "recall = 1\n",
    "f1 = 2*precision*recall / (precision+recall)\n",
    "f1"
   ]
  },
  {
   "cell_type": "code",
   "execution_count": 97,
   "id": "aca18862",
   "metadata": {},
   "outputs": [
    {
     "data": {
      "image/png": "[encoded data removed]",
      "text/plain": [
       "<Figure size 576x432 with 2 Axes>"
      ]
     },
     "metadata": {
      "needs_background": "light"
     },
     "output_type": "display_data"
    }
   ],
   "source": [
    "plt.figure(figsize=(8, 6))\n",
    "plt.imshow(conf_matrix, interpolation='nearest', cmap=plt.cm.Blues)\n",
    "plt.title('Matrice de Confusion')\n",
    "plt.colorbar()\n",
    "\n",
    "classes = ['Pierre de la Vigne', 'Nicolas de Roca']\n",
    "tick_marks = np.arange(len(classes))\n",
    "plt.xticks(tick_marks, classes, rotation=45)\n",
    "plt.yticks(tick_marks, classes)\n",
    "\n",
    "thresh = conf_matrix.max() / 2.\n",
    "for i in range(conf_matrix.shape[0]):\n",
    "    for j in range(conf_matrix.shape[1]):\n",
    "        plt.text(j, i, format(conf_matrix[i, j], 'd'), ha=\"center\", va=\"center\",\n",
    "                 color=\"white\" if conf_matrix[i, j] > thresh else \"black\")\n",
    "\n",
    "plt.ylabel('Classe réelle')\n",
    "plt.xlabel('Classe prédite')\n",
    "plt.tight_layout()\n",
    "plt.savefig('confusion_matrix.png',dpi=300)\n",
    "\n",
    "plt.show()"
   ]
  },
  {
   "cell_type": "markdown",
   "id": "cbe502b9",
   "metadata": {},
   "source": [
    "# Test"
   ]
  },
  {
   "cell_type": "code",
   "execution_count": 69,
   "id": "b662a6c3",
   "metadata": {},
   "outputs": [],
   "source": [
    "import string"
   ]
  },
  {
   "cell_type": "code",
   "execution_count": 71,
   "id": "a04fede6",
   "metadata": {},
   "outputs": [],
   "source": [
    "translator = str.maketrans('','',string.punctuation)\n",
    "\n",
    "def remove_punct(sentence):\n",
    "    return sentence.translate(translator)"
   ]
  },
  {
   "cell_type": "code",
   "execution_count": 134,
   "id": "0dd727f3",
   "metadata": {},
   "outputs": [],
   "source": [
    "def length(text):\n",
    "    return len(text.split())"
   ]
  },
  {
   "cell_type": "code",
   "execution_count": 262,
   "id": "40caaf66",
   "metadata": {},
   "outputs": [],
   "source": [
    "def split(sentence):\n",
    "    return sentence.split()"
   ]
  },
  {
   "cell_type": "code",
   "execution_count": 388,
   "id": "e1eab785",
   "metadata": {},
   "outputs": [],
   "source": [
    "file = '/home/noe/Documents/2022-2023/ENC/Mémoire/Dataframes/PDV_grams.xlsx'"
   ]
  },
  {
   "cell_type": "code",
   "execution_count": 389,
   "id": "3d037149",
   "metadata": {},
   "outputs": [
    {
     "name": "stdout",
     "output_type": "stream",
     "text": [
      "ok\n"
     ]
    }
   ],
   "source": [
    "df = pd.read_excel(file)\n",
    "df.pop('Unnamed: 0')\n",
    "df.pop('Unnamed: 0.1')\n",
    "print('ok')"
   ]
  },
  {
   "cell_type": "code",
   "execution_count": 390,
   "id": "8926e84c",
   "metadata": {
    "scrolled": false
   },
   "outputs": [],
   "source": [
    "indices = [136,181,198,215,216,331,336,339]\n",
    "newdf = df.loc[indices]\n",
    "\n",
    "indexes = [0,1,2,3,4,7,8,10,19,20,27,28,29,31]\n",
    "encycliques = df.loc[indexes]"
   ]
  },
  {
   "cell_type": "code",
   "execution_count": 391,
   "id": "97b00941",
   "metadata": {},
   "outputs": [],
   "source": [
    "newdf = newdf[['Livre','Numéro de la charte','Date','textes','lemma']].reset_index()\n",
    "newdf['text'] = newdf['textes'].apply(lower).apply(remove_punct)\n",
    "\n",
    "encycliques = encycliques[['Livre','Numéro de la charte','Date','textes','lemma']].reset_index()\n",
    "encycliques['text'] = encycliques['textes'].apply(lower).apply(remove_punct)\n",
    "encycliques['indice'] = 0\n",
    "encycliques = encycliques[['text','indice']]\n",
    "encycliques['len'] = encycliques['text'].apply(length)"
   ]
  },
  {
   "cell_type": "code",
   "execution_count": 392,
   "id": "3c94af01",
   "metadata": {},
   "outputs": [],
   "source": [
    "newdf['indice'] = 1\n",
    "newdf = newdf[['text','indice']]\n",
    "newdf['len'] = newdf['text'].apply(length)\n"
   ]
  },
  {
   "cell_type": "code",
   "execution_count": 393,
   "id": "999fc542",
   "metadata": {},
   "outputs": [],
   "source": [
    "encycliques['split'] = encycliques['text'].apply(split)\n",
    "liste = encycliques['split'].tolist()\n",
    "flattened_list = [item for sublist in liste for item in sublist]\n",
    "step = 200\n",
    "sublist_size = 200\n",
    "\n",
    "encyclique = [flattened_list[i:i+sublist_size] for i in range(0, len(flattened_list), step)]\n",
    "encyclique = [' '.join(sublist) for sublist in encyclique]\n",
    "\n",
    "livre = pd.DataFrame({'text':encyclique,'indice':0})\n",
    "\n",
    "livre['symetry'] = livre['text'].apply(lambda x: delete_portion(x, 0.05, 0.05))\n",
    "livre[['part1', 'part2', 'part3']] = livre['text'].apply(divide_text).apply(pd.Series)\n",
    "livre['keyboard_aug'] = livre['text'].apply(lambda x: aug.augment(x)).apply(join)"
   ]
  },
  {
   "cell_type": "code",
   "execution_count": 447,
   "id": "8b63fb82",
   "metadata": {},
   "outputs": [
    {
     "name": "stdout",
     "output_type": "stream",
     "text": [
      "15\n"
     ]
    }
   ],
   "source": [
    "newdf['split'] = newdf['text'].apply(split)\n",
    "liste_2 = newdf['split'].tolist()\n",
    "flattened_list_2 = [item for sublist in liste_2 for item in sublist]\n",
    "step = 200\n",
    "sublist_size = 200\n",
    "\n",
    "roca = [flattened_list_2[i:i+sublist_size] for i in range(0, len(flattened_list_2), step)]\n",
    "roca = [' '.join(sublist) for sublist in roca]\n",
    "print(len(roca))\n",
    "\n",
    "damien = pd.DataFrame({'text':roca,'indice':0})\n",
    "\n",
    "damien['symetry'] = damien['text'].apply(lambda x: delete_portion(x, 0.05, 0.05))\n",
    "damien[['part1', 'part2', 'part3']] = damien['text'].apply(divide_text).apply(pd.Series)\n",
    "damien['keyboard_aug'] = damien['text'].apply(lambda x: aug.augment(x)).apply(join)"
   ]
  },
  {
   "cell_type": "code",
   "execution_count": 448,
   "id": "013b6e36",
   "metadata": {},
   "outputs": [],
   "source": [
    "damien = newdf['text'].tolist() + damien['text'].tolist() + damien['symetry'].tolist() + damien['part1'].tolist() + damien['part2'].tolist() + damien['part3'].tolist() + damien['keyboard_aug'].tolist()\n",
    "\n",
    "pauline = encycliques['text'].tolist() + livre['text'].tolist() + livre['symetry'].tolist() + livre['part1'].tolist() + livre['part2'].tolist() + livre['part3'].tolist() + livre['keyboard_aug'].tolist()\n",
    "taille = len(pauline) //3\n",
    "pauline = pauline[:taille]"
   ]
  },
  {
   "cell_type": "code",
   "execution_count": 449,
   "id": "31c32fdc",
   "metadata": {},
   "outputs": [],
   "source": [
    "leah = pd.DataFrame({'text':pauline,'indice':0})\n",
    "tristan = pd.DataFrame({'text':damien,'indice':1})"
   ]
  },
  {
   "cell_type": "code",
   "execution_count": 450,
   "id": "42a52252",
   "metadata": {},
   "outputs": [],
   "source": [
    "noe = pd.concat([leah,tristan],axis=0)"
   ]
  },
  {
   "cell_type": "code",
   "execution_count": 497,
   "id": "c0bcdaeb",
   "metadata": {
    "scrolled": true
   },
   "outputs": [
    {
     "name": "stdout",
     "output_type": "stream",
     "text": [
      " Texte 0 =  [0]\n",
      " Texte 1 =  [0]\n",
      " Texte 2 =  [0]\n",
      " Texte 3 =  [0]\n",
      " Texte 4 =  [0]\n",
      " Texte 5 =  [0]\n",
      " Texte 6 =  [0]\n",
      " Texte 7 =  [0]\n",
      " Texte 8 =  [1]\n",
      " Texte 9 =  [0]\n",
      " Texte 10 =  [0]\n",
      " Texte 11 =  [0]\n",
      " Texte 12 =  [1]\n",
      " Texte 13 =  [1]\n",
      " Texte 14 =  [0]\n",
      " Texte 15 =  [0]\n",
      " Texte 16 =  [0]\n",
      " Texte 17 =  [0]\n",
      " Texte 18 =  [0]\n",
      " Texte 19 =  [0]\n",
      " Texte 20 =  [1]\n",
      " Texte 21 =  [1]\n",
      " Texte 22 =  [1]\n",
      " Texte 23 =  [0]\n",
      " Texte 24 =  [0]\n",
      " Texte 25 =  [0]\n",
      " Texte 26 =  [0]\n",
      " Texte 27 =  [0]\n",
      " Texte 28 =  [0]\n",
      " Texte 29 =  [1]\n",
      " Texte 30 =  [0]\n",
      " Texte 31 =  [0]\n",
      " Texte 32 =  [0]\n",
      " Texte 33 =  [0]\n",
      " Texte 34 =  [0]\n",
      " Texte 35 =  [0]\n",
      " Texte 36 =  [1]\n",
      " Texte 37 =  [0]\n",
      " Texte 38 =  [0]\n",
      " Texte 39 =  [1]\n",
      " Texte 40 =  [1]\n",
      " Texte 41 =  [0]\n",
      " Texte 42 =  [1]\n",
      " Texte 43 =  [0]\n",
      " Texte 44 =  [1]\n",
      " Texte 45 =  [0]\n",
      " Texte 46 =  [0]\n",
      " Texte 47 =  [1]\n",
      " Texte 48 =  [1]\n",
      " Texte 49 =  [0]\n",
      " Texte 50 =  [0]\n",
      "Accuracy: 0.9814814814814815\n",
      "[[26  1]\n",
      " [ 0 27]]\n"
     ]
    },
    {
     "data": {
      "image/png": "[encoded data removed]",
      "text/plain": [
       "<Figure size 432x288 with 2 Axes>"
      ]
     },
     "metadata": {
      "needs_background": "light"
     },
     "output_type": "display_data"
    }
   ],
   "source": [
    "from sklearn.feature_extraction.text import TfidfVectorizer\n",
    "from sklearn.ensemble import RandomForestClassifier\n",
    "from sklearn.model_selection import train_test_split\n",
    "from sklearn.metrics import accuracy_score, classification_report\n",
    "from sklearn.metrics import confusion_matrix, f1_score\n",
    "\n",
    "texts = noe['text'].tolist()\n",
    "labels = noe['indice'].tolist()\n",
    "\n",
    "tfidf_vectorizer = TfidfVectorizer(max_features=1000)\n",
    "X = tfidf_vectorizer.fit_transform(texts)\n",
    "\n",
    "# Split the data into training and test sets\n",
    "X_train, X_test, y_train, y_test = train_test_split(X, labels, test_size=0.25, random_state=42)\n",
    "\n",
    "# Create and train the Random Forest model\n",
    "random_forest = RandomForestClassifier(n_estimators=1000, random_state=42)\n",
    "random_forest.fit(X_train, y_train)\n",
    "\n",
    "# Predict on the test set\n",
    "y_pred = random_forest.predict(X_test)\n",
    "\n",
    "#test\n",
    "results = []\n",
    "\n",
    "for i in range(len(bo)):\n",
    "    new_vect = tfidf_vectorizer.transform([bo['text'][i]])\n",
    "    predict = random_forest.predict(new_vect)\n",
    "    print(f' Texte {i} = ',predict)\n",
    "    results.append(predict)\n",
    "\n",
    "# Evaluate the model\n",
    "accuracy = accuracy_score(y_test, y_pred)\n",
    "print(\"Accuracy:\", accuracy)\n",
    "conf_matrix = confusion_matrix(y_test, y_pred)\n",
    "print(conf_matrix)\n",
    "\n",
    "matrix_text = metrics.ConfusionMatrixDisplay.from_predictions(y_test,y_pred)"
   ]
  },
  {
   "cell_type": "code",
   "execution_count": 460,
   "id": "8e7e1e5d",
   "metadata": {},
   "outputs": [
    {
     "name": "stdout",
     "output_type": "stream",
     "text": [
      "116 98\n",
      "214\n"
     ]
    },
    {
     "data": {
      "image/png": "[encoded data removed]",
      "text/plain": [
       "<Figure size 1080x720 with 1 Axes>"
      ]
     },
     "metadata": {
      "needs_background": "light"
     },
     "output_type": "display_data"
    }
   ],
   "source": [
    "corpus = noe['text'].tolist()\n",
    "labels = noe['indice'].tolist()\n",
    "\n",
    "print(len(leah['text'].tolist()),len(tristan['text'].tolist()))\n",
    "print(len(corpus))\n",
    "\n",
    "vectorizer = TfidfVectorizer(max_features=1000)\n",
    "tfidf_matrix = vectorizer.fit_transform(corpus)\n",
    "feature_names = vectorizer.get_feature_names_out()\n",
    "matrix_pdv = tfidf_matrix.toarray()\n",
    "euclidean_distance_matrix = pairwise_distances(matrix_pdv, metric='euclidean')\n",
    "tsne = TSNE(n_components=2, random_state=42)\n",
    "euclidian_tsne = tsne.fit_transform(euclidean_distance_matrix)\n",
    "\n",
    "pdv = list(range(0,116))\n",
    "rocca = list(range(116,len(corpus)))\n",
    "\n",
    "\n",
    "\n",
    "# Visualization\n",
    "plt.figure(figsize=(15, 10))\n",
    "plt.scatter(euclidian_tsne[:, 0], euclidian_tsne[:, 1], color='blue', alpha=0.5)  # All points in blue with some transparency\n",
    "\n",
    "highlighted_pdv = plt.scatter(euclidian_tsne[pdv, 0], euclidian_tsne[pdv, 1], color='red', marker='o', label='Lettres de Pierre de la Vigne')\n",
    "\n",
    "highlighted_rocca = plt.scatter(euclidian_tsne[rocca, 0], euclidian_tsne[rocca, 1], marker='o', label='Lettres de Nicolas de Rocca')\n",
    "\n",
    "plt.xlabel('t-SNE Dimension 1')\n",
    "plt.ylabel('t-SNE Dimension 2')\n",
    "plt.title('Distance euclidienne entre Pierre de la Vigne et Nicolas de Rocca',fontsize=25)\n",
    "plt.legend()\n",
    "plt.axis('off')\n",
    "\n",
    "plt.savefig('pdv_roca_recueil.png',dpi=300)\n",
    "\n",
    "plt.show()"
   ]
  },
  {
   "cell_type": "code",
   "execution_count": 467,
   "id": "55b55d4b",
   "metadata": {},
   "outputs": [
    {
     "data": {
      "text/plain": [
       "0.98989898989899"
      ]
     },
     "execution_count": 467,
     "metadata": {},
     "output_type": "execute_result"
    }
   ],
   "source": [
    "précision = 0.98\n",
    "rappel = 1\n",
    "\n",
    "((2*précision*rappel)/(précision+rappel))"
   ]
  },
  {
   "cell_type": "code",
   "execution_count": 485,
   "id": "820625aa",
   "metadata": {
    "scrolled": false
   },
   "outputs": [],
   "source": [
    "indices = [17,18,23,41,49,53,55,56,57,58,59,61,62,63,64,65,66,77,78,101,103,104,105,107,111,113,114,115,118,126,138,168,169,170,173,196,197,\n",
    "          214,226,297,323,324,332,333,334,335,338,341,343,351,353]\n",
    "bo = df.loc[indices].reset_index()"
   ]
  },
  {
   "cell_type": "code",
   "execution_count": 487,
   "id": "f890e89f",
   "metadata": {},
   "outputs": [],
   "source": [
    "bo = bo[['index','Livre','Numéro de la charte','textes']]"
   ]
  },
  {
   "cell_type": "code",
   "execution_count": 489,
   "id": "8a5cea2c",
   "metadata": {},
   "outputs": [
    {
     "name": "stderr",
     "output_type": "stream",
     "text": [
      "/tmp/ipykernel_9346/3699264688.py:1: SettingWithCopyWarning: \n",
      "A value is trying to be set on a copy of a slice from a DataFrame.\n",
      "Try using .loc[row_indexer,col_indexer] = value instead\n",
      "\n",
      "See the caveats in the documentation: https://pandas.pydata.org/pandas-docs/stable/user_guide/indexing.html#returning-a-view-versus-a-copy\n",
      "  bo['text'] = bo['textes'].apply(lower).apply(remove_punct)\n"
     ]
    }
   ],
   "source": [
    "bo['text'] = bo['textes'].apply(lower).apply(remove_punct)"
   ]
  },
  {
   "cell_type": "code",
   "execution_count": 499,
   "id": "95b547af",
   "metadata": {},
   "outputs": [],
   "source": [
    "final = [array[0] for array in results]"
   ]
  },
  {
   "cell_type": "code",
   "execution_count": 503,
   "id": "b349cf27",
   "metadata": {},
   "outputs": [
    {
     "data": {
      "text/plain": [
       "Counter({0: 37, 1: 14})"
      ]
     },
     "execution_count": 503,
     "metadata": {},
     "output_type": "execute_result"
    }
   ],
   "source": [
    "Counter(final)"
   ]
  },
  {
   "cell_type": "code",
   "execution_count": null,
   "id": "847fa681",
   "metadata": {},
   "outputs": [],
   "source": []
  }
 ],
 "metadata": {
  "kernelspec": {
   "display_name": "Python 3 (ipykernel)",
   "language": "python",
   "name": "python3"
  },
  "language_info": {
   "codemirror_mode": {
    "name": "ipython",
    "version": 3
   },
   "file_extension": ".py",
   "mimetype": "text/x-python",
   "name": "python",
   "nbconvert_exporter": "python",
   "pygments_lexer": "ipython3",
   "version": "3.9.7"
  }
 },
 "nbformat": 4,
 "nbformat_minor": 5
}

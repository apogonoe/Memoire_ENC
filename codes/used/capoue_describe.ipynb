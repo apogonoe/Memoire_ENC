{
 "cells": [
  {
   "cell_type": "code",
   "execution_count": 2,
   "id": "c006f38f",
   "metadata": {},
   "outputs": [],
   "source": [
    "import pandas as pd\n",
    "import numpy as np\n",
    "import os\n",
    "import re\n",
    "import matplotlib.pyplot as plt\n",
    "%matplotlib inline\n",
    "import seaborn as sns\n",
    "from tqdm import tqdm\n",
    "import string\n",
    "import nltk\n",
    "from collections import Counter, OrderedDict\n",
    "from text_matcher import matcher"
   ]
  },
  {
   "cell_type": "code",
   "execution_count": 3,
   "id": "4b26d1bb",
   "metadata": {},
   "outputs": [],
   "source": [
    "def clean(sentence):\n",
    "    \n",
    "    sentence = sentence.lower()\n",
    "    \n",
    "    sentence = re.sub('-  ','',sentence)\n",
    "    sentence = re.sub('é','e',sentence)\n",
    "    sentence = re.sub('v','u',sentence)\n",
    "    sentence = re.sub('j','i',sentence)\n",
    "    sentence = re.sub(r' +',' ',sentence)\n",
    "    \n",
    "    #sentence = re.sub('?','.',sentence)\n",
    "    \n",
    "    return sentence"
   ]
  },
  {
   "cell_type": "code",
   "execution_count": 4,
   "id": "91d7b7eb",
   "metadata": {},
   "outputs": [],
   "source": [
    "def clean_text(text):\n",
    "    \n",
    "    text2 = re.sub('!','.',text)\n",
    "    text2 = re.sub(' \\...',' ',text)\n",
    "    text2 = re.sub('  ',' ',text2)\n",
    "    char  = [';',':','!','«','»',',','“','”','(',')']\n",
    "    pattern = '[' + ''.join(char) + ']'\n",
    "    new_str = re.sub(pattern,'', text2)\n",
    "    #clean_words = [word for word in new_str.split() if word.lower() not in stopwords_latin]\n",
    "    #new_str = ' '.join(clean_words)\n",
    "    new_str = re.sub(r'\\? [A-Z]','.',new_str)\n",
    "    new_str = re.sub(r'\\?','',new_str)\n",
    "    pattern = r\"\\. ([a-z])\"\n",
    "    new_str = re.sub(pattern, r\" \\1\", new_str)\n",
    "    string = re.sub('v','u',new_str)\n",
    "    string = re.sub('j','i',string)\n",
    "\n",
    "    string = re.sub(r' +',' ',string)\n",
    "    string = string.lower()\n",
    "    \n",
    "    return string"
   ]
  },
  {
   "cell_type": "code",
   "execution_count": 5,
   "id": "8da60bbc",
   "metadata": {},
   "outputs": [],
   "source": [
    "def len_split(sentence):\n",
    "    return len(sentence.split())"
   ]
  },
  {
   "cell_type": "code",
   "execution_count": 6,
   "id": "75b2d488",
   "metadata": {},
   "outputs": [],
   "source": [
    "os.chdir('/home/noe/Documents/2022-2023/ENC/Mémoire/Dataframes/')"
   ]
  },
  {
   "cell_type": "code",
   "execution_count": 7,
   "id": "e6372adb",
   "metadata": {},
   "outputs": [],
   "source": [
    "df = pd.read_excel('Thomas_de_capoue.xlsx')\n",
    "df = df[['ID','Numéro','Text']]\n",
    "df['clean'] = df['Text'].apply(clean)\n",
    "df['len'] = df['clean'].apply(len_split)"
   ]
  },
  {
   "cell_type": "code",
   "execution_count": 8,
   "id": "e02b53df",
   "metadata": {},
   "outputs": [
    {
     "data": {
      "image/png": "[encoded data removed]",
      "text/plain": [
       "<Figure size 800x600 with 1 Axes>"
      ]
     },
     "metadata": {},
     "output_type": "display_data"
    }
   ],
   "source": [
    "plt.figure(figsize=(8, 6)) \n",
    "sns.boxplot(x=df['len'], orient='h')\n",
    "plt.xscale('log')\n",
    "plt.title(f'Box Plot of len')\n",
    "plt.xlabel('len')\n",
    "plt.show()"
   ]
  },
  {
   "cell_type": "code",
   "execution_count": 9,
   "id": "77f9e739",
   "metadata": {},
   "outputs": [],
   "source": [
    "x = df['clean'].tolist()[1:]"
   ]
  },
  {
   "cell_type": "code",
   "execution_count": 9,
   "id": "56839a9d",
   "metadata": {},
   "outputs": [
    {
     "name": "stderr",
     "output_type": "stream",
     "text": [
      "fatal: HEAD n'est pas un nom d'objet valide\n",
      "100%|█████████████████████████████████████████| 623/623 [03:46<00:00,  2.75it/s]\n"
     ]
    }
   ],
   "source": [
    "from typing import List\n",
    "from pie_extended.cli.utils import get_tagger, get_model, download\n",
    "\n",
    "# In case you need to download\n",
    "do_download = False\n",
    "if do_download:\n",
    "    for dl in download(\"lasla\"):\n",
    "        x = 1\n",
    "\n",
    "# model_path allows you to override the model loaded by another .tar\n",
    "model_name = \"lasla\"\n",
    "tagger = get_tagger(model_name, batch_size=256, device=\"cpu\", model_path=None)\n",
    "\n",
    "\n",
    "lemmas = []\n",
    "for i in tqdm(range(len(x))):\n",
    "    sentences: List[str] = [x[i]]\n",
    "    # Get the main object from the model (: data iterator + postprocesor\n",
    "    from pie_extended.models.lasla.imports import get_iterator_and_processor\n",
    "    for sentence_group in sentences:\n",
    "        iterator, processor = get_iterator_and_processor()\n",
    "        dic = tagger.tag_str(sentence_group, iterator=iterator, processor=processor)\n",
    "        lemmas.append(dic)"
   ]
  },
  {
   "cell_type": "code",
   "execution_count": 10,
   "id": "681cf8f2",
   "metadata": {},
   "outputs": [],
   "source": [
    "test = df['clean'][0].split('.')"
   ]
  },
  {
   "cell_type": "code",
   "execution_count": 9,
   "id": "d1e32a1b",
   "metadata": {},
   "outputs": [
    {
     "name": "stderr",
     "output_type": "stream",
     "text": [
      "fatal: HEAD n'est pas un nom d'objet valide\n"
     ]
    },
    {
     "ename": "NameError",
     "evalue": "name 'test' is not defined",
     "output_type": "error",
     "traceback": [
      "\u001b[0;31m---------------------------------------------------------------------------\u001b[0m",
      "\u001b[0;31mNameError\u001b[0m                                 Traceback (most recent call last)",
      "\u001b[0;32m/tmp/ipykernel_54312/4032096130.py\u001b[0m in \u001b[0;36m<module>\u001b[0;34m\u001b[0m\n\u001b[1;32m     14\u001b[0m \u001b[0;34m\u001b[0m\u001b[0m\n\u001b[1;32m     15\u001b[0m \u001b[0mlemma\u001b[0m \u001b[0;34m=\u001b[0m \u001b[0;34m[\u001b[0m\u001b[0;34m]\u001b[0m\u001b[0;34m\u001b[0m\u001b[0;34m\u001b[0m\u001b[0m\n\u001b[0;32m---> 16\u001b[0;31m \u001b[0;32mfor\u001b[0m \u001b[0mi\u001b[0m \u001b[0;32min\u001b[0m \u001b[0mtqdm\u001b[0m\u001b[0;34m(\u001b[0m\u001b[0mrange\u001b[0m\u001b[0;34m(\u001b[0m\u001b[0mlen\u001b[0m\u001b[0;34m(\u001b[0m\u001b[0mtest\u001b[0m\u001b[0;34m)\u001b[0m\u001b[0;34m)\u001b[0m\u001b[0;34m)\u001b[0m\u001b[0;34m:\u001b[0m\u001b[0;34m\u001b[0m\u001b[0;34m\u001b[0m\u001b[0m\n\u001b[0m\u001b[1;32m     17\u001b[0m \u001b[0;34m\u001b[0m\u001b[0m\n\u001b[1;32m     18\u001b[0m     \u001b[0;32mtry\u001b[0m\u001b[0;34m:\u001b[0m\u001b[0;34m\u001b[0m\u001b[0;34m\u001b[0m\u001b[0m\n",
      "\u001b[0;31mNameError\u001b[0m: name 'test' is not defined"
     ]
    }
   ],
   "source": [
    "from typing import List\n",
    "from pie_extended.cli.utils import get_tagger, get_model, download\n",
    "\n",
    "# In case you need to download\n",
    "do_download = False\n",
    "if do_download:\n",
    "    for dl in download(\"lasla\"):\n",
    "        x = 1\n",
    "\n",
    "# model_path allows you to override the model loaded by another .tar\n",
    "model_name = \"lasla\"\n",
    "tagger = get_tagger(model_name, batch_size=256, device=\"cpu\", model_path=None)\n",
    "\n",
    "\n",
    "lemma = []\n",
    "for i in tqdm(range(len(test))):\n",
    "    \n",
    "    try:\n",
    "        sentences: List[str] = [test[i]]\n",
    "        # Get the main object from the model (: data iterator + postprocesor\n",
    "        from pie_extended.models.lasla.imports import get_iterator_and_processor\n",
    "        for sentence_group in sentences:\n",
    "            iterator, processor = get_iterator_and_processor()\n",
    "            dic = tagger.tag_str(sentence_group, iterator=iterator, processor=processor)\n",
    "            lemma.append(dic)\n",
    "    except Exception as e:\n",
    "        print(\"An unexpected error occurred:\", e)"
   ]
  },
  {
   "cell_type": "code",
   "execution_count": 10,
   "id": "9efe04af",
   "metadata": {},
   "outputs": [
    {
     "ename": "NameError",
     "evalue": "name 'lemmas' is not defined",
     "output_type": "error",
     "traceback": [
      "\u001b[0;31m---------------------------------------------------------------------------\u001b[0m",
      "\u001b[0;31mNameError\u001b[0m                                 Traceback (most recent call last)",
      "\u001b[0;32m/tmp/ipykernel_54312/658450685.py\u001b[0m in \u001b[0;36m<module>\u001b[0;34m\u001b[0m\n\u001b[1;32m      1\u001b[0m \u001b[0mflattened_list\u001b[0m \u001b[0;34m=\u001b[0m \u001b[0;34m[\u001b[0m\u001b[0mitem\u001b[0m \u001b[0;32mfor\u001b[0m \u001b[0msublist\u001b[0m \u001b[0;32min\u001b[0m \u001b[0mlemma\u001b[0m \u001b[0;32mfor\u001b[0m \u001b[0mitem\u001b[0m \u001b[0;32min\u001b[0m \u001b[0msublist\u001b[0m\u001b[0;34m]\u001b[0m\u001b[0;34m\u001b[0m\u001b[0;34m\u001b[0m\u001b[0m\n\u001b[0;32m----> 2\u001b[0;31m \u001b[0mliste\u001b[0m \u001b[0;34m=\u001b[0m \u001b[0;34m[\u001b[0m\u001b[0mflattened_list\u001b[0m\u001b[0;34m]\u001b[0m \u001b[0;34m+\u001b[0m \u001b[0mlemmas\u001b[0m\u001b[0;34m\u001b[0m\u001b[0;34m\u001b[0m\u001b[0m\n\u001b[0m",
      "\u001b[0;31mNameError\u001b[0m: name 'lemmas' is not defined"
     ]
    }
   ],
   "source": [
    "flattened_list = [item for sublist in lemma for item in sublist]\n",
    "liste = [flattened_list] + lemmas"
   ]
  },
  {
   "cell_type": "code",
   "execution_count": 10,
   "id": "4f30239b",
   "metadata": {},
   "outputs": [],
   "source": [
    "def remove_punctuation(input_string):\n",
    "    # Create a translation table to map punctuation characters to None (to remove them)\n",
    "    translator = str.maketrans('', '', string.punctuation)\n",
    "    # Use the translate method to remove the punctuation characters\n",
    "    cleaned_string = input_string.translate(translator)\n",
    "    return cleaned_string"
   ]
  },
  {
   "cell_type": "code",
   "execution_count": 11,
   "id": "18683da3",
   "metadata": {},
   "outputs": [],
   "source": [
    "def lower_split(sentence):\n",
    "    \n",
    "    sentence = sentence.lower().split()\n",
    "    sentence_len = [len(i) for i in sentence]\n",
    "    \n",
    "    \n",
    "    return sentence_len"
   ]
  },
  {
   "cell_type": "code",
   "execution_count": 12,
   "id": "cfd2003e",
   "metadata": {},
   "outputs": [],
   "source": [
    "df['mendenhall'] = df['clean'].apply(remove_punctuation).apply(lower_split)\n",
    "liste = df['mendenhall'].tolist()\n",
    "plate = [item for sublist in liste for item in sublist]"
   ]
  },
  {
   "cell_type": "code",
   "execution_count": 13,
   "id": "34e05ceb",
   "metadata": {},
   "outputs": [
    {
     "data": {
      "image/png": "[encoded data removed]",
      "text/plain": [
       "<Figure size 640x480 with 1 Axes>"
      ]
     },
     "metadata": {},
     "output_type": "display_data"
    }
   ],
   "source": [
    "values = OrderedDict(Counter(plate))\n",
    "values = dict(values.items())\n",
    "ordered_dict = dict(sorted(values.items()))\n",
    "    \n",
    "df_len = pd.DataFrame(ordered_dict.items(), columns=['Taille des mots', 'Occurrences'])\n",
    "sns.barplot(x=df_len['Taille des mots'], y=df_len['Occurrences'], data=df_len)\n",
    "plt.title(\"Mendenhall's characteristic Curves of Composition (TDC)\")\n",
    "\n",
    "plt.savefig('mendenhall_curve_pdv.png',dpi=300)\n",
    "\n",
    "plt.show()"
   ]
  },
  {
   "cell_type": "code",
   "execution_count": 15,
   "id": "2c0a8827",
   "metadata": {},
   "outputs": [],
   "source": [
    "file = '/home/noe/Documents/2022-2023/ENC/Mémoire/Dataframes/PDV_grams.xlsx'\n",
    "df_pdv = pd.read_excel(file)"
   ]
  },
  {
   "cell_type": "code",
   "execution_count": 16,
   "id": "bd1cc14d",
   "metadata": {},
   "outputs": [],
   "source": [
    "df_pdv = df_pdv[['Date','Livre','Numéro de la charte','textes']]\n",
    "df_pdv['clean'] = df_pdv['textes'].apply(clean_text)\n",
    "df_pdv['len'] = df_pdv['clean'].apply(len_split)\n",
    "df_pdv['mendenhall'] = df_pdv['clean'].apply(remove_punctuation).apply(lower_split)"
   ]
  },
  {
   "cell_type": "code",
   "execution_count": 19,
   "id": "66b2b7fa",
   "metadata": {},
   "outputs": [
    {
     "data": {
      "image/png": "[encoded data removed]",
      "text/plain": [
       "<Figure size 1000x600 with 1 Axes>"
      ]
     },
     "metadata": {},
     "output_type": "display_data"
    }
   ],
   "source": [
    "plt.figure(figsize=(10, 6))\n",
    "\n",
    "liste2 = df_pdv['mendenhall'].tolist()\n",
    "plate2 = [item for sublist in liste2 for item in sublist]\n",
    "values2 = OrderedDict(Counter(plate2))\n",
    "values2 = dict(values2.items())\n",
    "ordered_dict2 = dict(sorted(values2.items()))\n",
    "    \n",
    "df_len2 = pd.DataFrame(ordered_dict2.items(), columns=['Taille des mots', 'Occurrences'])\n",
    "sns.barplot(x=df_len2['Taille des mots'], y=df_len2['Occurrences'], data=df_len2)\n",
    "plt.title(\"Mendenhall's characteristic Curves of Composition (PDV)\")\n",
    "\n",
    "plt.savefig(\"Mendenhalls_characteristic_Curves_of_Composition_(PDV).png\",dpi = 300)\n",
    "\n",
    "plt.show()"
   ]
  },
  {
   "cell_type": "code",
   "execution_count": 15,
   "id": "2ab0897c",
   "metadata": {},
   "outputs": [],
   "source": [
    "liste_textes_pdv = df_pdv['clean'].tolist()"
   ]
  },
  {
   "cell_type": "code",
   "execution_count": null,
   "id": "aaa0aba8",
   "metadata": {},
   "outputs": [
    {
     "name": "stderr",
     "output_type": "stream",
     "text": [
      "\r",
      "  0%|                                                     | 0/1 [00:00<?, ?it/s]"
     ]
    }
   ],
   "source": [
    "from typing import List\n",
    "from pie_extended.cli.utils import get_tagger, get_model, download\n",
    "\n",
    "# In case you need to download\n",
    "do_download = False\n",
    "if do_download:\n",
    "    for dl in download(\"lasla\"):\n",
    "        x = 1\n",
    "\n",
    "# model_path allows you to override the model loaded by another .tar\n",
    "model_name = \"lasla\"\n",
    "tagger = get_tagger(model_name, batch_size=256, device=\"cpu\", model_path=None)\n",
    "\n",
    "\n",
    "sentences: List[str] = [liste_textes_pdv[2]]\n",
    "# Get the main object from the model (: data iterator + postprocesor\n",
    "from pie_extended.models.lasla.imports import get_iterator_and_processor\n",
    "for sentence_group in tqdm(sentences):\n",
    "    iterator, processor = get_iterator_and_processor()\n",
    "    dic = tagger.tag_str(sentence_group, iterator=iterator, processor=processor)\n",
    "    \n"
   ]
  },
  {
   "cell_type": "code",
   "execution_count": null,
   "id": "3c9d684f",
   "metadata": {},
   "outputs": [],
   "source": []
  },
  {
   "cell_type": "code",
   "execution_count": 131,
   "id": "840fa5eb",
   "metadata": {},
   "outputs": [],
   "source": []
  },
  {
   "cell_type": "code",
   "execution_count": 194,
   "id": "fce09bb9",
   "metadata": {},
   "outputs": [],
   "source": []
  },
  {
   "cell_type": "code",
   "execution_count": 195,
   "id": "5a44f55d",
   "metadata": {},
   "outputs": [],
   "source": []
  },
  {
   "cell_type": "code",
   "execution_count": 196,
   "id": "7069bff2",
   "metadata": {},
   "outputs": [],
   "source": []
  },
  {
   "cell_type": "code",
   "execution_count": null,
   "id": "b08234e1",
   "metadata": {},
   "outputs": [],
   "source": []
  },
  {
   "cell_type": "code",
   "execution_count": null,
   "id": "a787fe10",
   "metadata": {},
   "outputs": [],
   "source": []
  }
 ],
 "metadata": {
  "kernelspec": {
   "display_name": "Python 3 (ipykernel)",
   "language": "python",
   "name": "python3"
  },
  "language_info": {
   "codemirror_mode": {
    "name": "ipython",
    "version": 3
   },
   "file_extension": ".py",
   "mimetype": "text/x-python",
   "name": "python",
   "nbconvert_exporter": "python",
   "pygments_lexer": "ipython3",
   "version": "3.9.7"
  }
 },
 "nbformat": 4,
 "nbformat_minor": 5
}

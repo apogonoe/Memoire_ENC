{
 "cells": [
  {
   "cell_type": "code",
   "execution_count": 1,
   "id": "00c1eb5e",
   "metadata": {},
   "outputs": [],
   "source": [
    "import numpy as np\n",
    "import pandas as pd\n",
    "import os\n",
    "import re\n",
    "from tqdm import tqdm\n",
    "import ast\n",
    "import scipy.cluster.hierarchy as shc\n",
    "from scipy.spatial.distance import pdist, squareform\n",
    "import matplotlib.pyplot as plt\n",
    "%matplotlib inline\n",
    "import seaborn as sns\n",
    "import numpy as np\n",
    "import string\n",
    "from IPython.display import Markdown"
   ]
  },
  {
   "cell_type": "markdown",
   "id": "a3c8e982",
   "metadata": {},
   "source": [
    "Préambule 43"
   ]
  },
  {
   "cell_type": "code",
   "execution_count": 2,
   "id": "847c7d8a",
   "metadata": {},
   "outputs": [],
   "source": [
    "texte_1 = 'sane cum de culminis nostri fulgore, velut ex sole radii, sic omnium largiente conditore prodeant dignitates ut prime lucis integritas minorati luminis non sensiat detrimenta, nam tanto magis regale sceptrum extollitur tantoque curia regiminis sollicitudinibus relevatur, quanto tribunal ipsius digniores circumspicit contribules ; hac igitur consideratione ducti, quia regni Francie moderamur habenas, solii nostri decus tam veterum dignitatum ornatibus confoveri quam etiam novis ardemus honoribus ampliari, et licet ad quorumlibet nostrorum fidelium munifice prosequenda servicia liberalitas nostra quadam generalitate sit proclivis, illis tamen est quadam specialitate debitrix et eorum vota prosequi liberaliter affectamus, in quibus sanguinis connexitatem et vinculum agnoscimus et puram fidei constanciam invenimus, ut ipsi, fervore devocionis accensi, reddantur de bono in melius circa majestatem regiam et ejus obsequia promptiores, et ne percepta dudum obsequia que conscribi perhenniter in libro memorie meruerunt preminentia gradus aboleat vel incompensata relinquat.'\n",
    "\n",
    "pierre_1a = 'De fulgore throni cesarei, velut ex sole radii, sic certe prodeunt dignitates, ut prime lucis integritas non sentiat minorati luminis detrimenta, tantoque magis imperiale sceptrum extollitur, tanto cura regiminis pluria sollicitudinibus relevatur, quanto tribunal ipsius digniores in circuitu circumspicit contribules regiones. Hac igitur consideratione commoti, qui celesti providentia romani imperii moderamur habenas, solii nostri decus tam veterum dignitatum ornatibus confovemus, quam novis honoribus ampliamur.'\n",
    "\n",
    "pierre_1b = 'Licet ad quorumlibet nostrorum fidelium, munifice prosequenda servicia liberalitatis nostre manus quadam generalitate sit habilis, illis tamen quadam specialitate fit debitrix, in quibus sanguinis idemptitatem agnoscimus et fidei pure constanciam invenimus […].'"
   ]
  },
  {
   "cell_type": "markdown",
   "id": "fc5e4c81",
   "metadata": {},
   "source": [
    "Préambule 116"
   ]
  },
  {
   "cell_type": "code",
   "execution_count": 3,
   "id": "ade6ef66",
   "metadata": {},
   "outputs": [],
   "source": [
    "texte_2 = 'decet excellentiam regiam pene duriciem quam juris rigor dictat aliquando pietatis mitigare, cum per hoc subditorum succrescat devocio et honor regius occulis augeatur.'\n",
    "\n",
    "pierre_2 = 'satis nobis cedit ad gloriam et nostris fidelibus ad profectum, si motus nostros, quos armat potentia, sic mansuetudine decoremus, ut pene duriciem quam iuris rigor aliquando dictat in subditis clementie nostre molliamus unguentis, cum crescat in subditis devocionis vigor, dum pena remittitur, et dum devotorum succrescit cumulus nostri honoris per consequens titulus augeatur.'"
   ]
  },
  {
   "cell_type": "markdown",
   "id": "13d093fd",
   "metadata": {},
   "source": [
    "Préambule 118"
   ]
  },
  {
   "cell_type": "code",
   "execution_count": 4,
   "id": "7882213b",
   "metadata": {},
   "outputs": [],
   "source": [
    "texte_3 = 'Decus est principum subditorum votis clementer annuere ac eorum preces misericorditer exaudire ; etsi ad prosequenda vota fidelium regia liberalitas regulariter sit habilis, illud tamen occurrit precipuum, ut hiis qui reipublice se exposcunt, prefata liberalitas specialitate quadam graciosior et liberior porrigatur, ut sic per gratiam diligantur in populis et per Dominum tueantur in terris.'\n",
    "\n",
    "pierre_3a = 'Decus est principum fidelium votis clementer annuere, ac supplicum preces misericorditer exaudire, ut sic per gratiam diligantur in populis et per dominium tueantur in terris.'\n",
    "\n",
    "pierre_3b = 'licet ad prosequenda munificentie sic vota fidelium liberalitatis regie dextera generali quadam irregularitate sic sit habilis, illis tamen graciosa porrigitur quadam specialitate liberior, quos ad obsequia grata continuos fructus sic et utiles semper claris indiciis experimur.'"
   ]
  },
  {
   "cell_type": "markdown",
   "id": "f7076b4b",
   "metadata": {},
   "source": [
    "Préambule 140"
   ]
  },
  {
   "cell_type": "code",
   "execution_count": 5,
   "id": "d111c292",
   "metadata": {},
   "outputs": [],
   "source": [
    "texte_4 = 'Dignum esse credimus ac consonum racioni atque concordabile reputamus ut hiis quos in legitimis actibus deffectus natalium impedit legitimacionis honor per principem reperiatur et, si quando super hiis magestatis regie favor seu benivolentia fidelium suorum aut eorum, qui regie magestatis fideles esse desiderant et in eadem fidelitate manere et perseverare noscuntur, supplicacione requiritur, liberaliter largiatur.'\n",
    "\n",
    "pierre_4 = 'Dignum esse decrevimus et consentaneum rationi, ut hii quos interdum in legittimis actibus defectus natalium impedit, legittimacionis honore per principem reparentur, et si quando super hiis imperialis favor fidelium suorum supplicatione requiritur, liberaliter largiatur […].'\n"
   ]
  },
  {
   "cell_type": "markdown",
   "id": "4472305e",
   "metadata": {},
   "source": [
    "Préambule 141"
   ]
  },
  {
   "cell_type": "code",
   "execution_count": 6,
   "id": "fd68f3be",
   "metadata": {},
   "outputs": [],
   "source": [
    "texte_5 = 'dignum esse credimus et summo Regi placere, si lapsis interdum per culpe obvicium celeri remedio subvenimus, cum per hoc crescat vigor in subditis et nostri honoris cumulus augeatur.'\n",
    "\n",
    "pierre_5a = 'pulcrum in subditis humanitatis opus exequimur, si lapsis interdum per lubrice culpe convicium, misericordie celeri remedio subvenimus […].'\n",
    "\n",
    "pierre_5b = 'cum crescat in subditis vigor, dum pena remittitur, et dum devotorum succrescit cumulus nostri honoris per consequens titulus augeatur.'"
   ]
  },
  {
   "cell_type": "markdown",
   "id": "9cc795f0",
   "metadata": {},
   "source": [
    "Préambule 152"
   ]
  },
  {
   "cell_type": "code",
   "execution_count": 7,
   "id": "987a1494",
   "metadata": {},
   "outputs": [],
   "source": [
    "texte_6 = 'dignum opus prosequi credimus, innata nobis regali clemencia suadente, si interdum per lubrice culpe lapsis convicium ad indulgendum se nostra manus habilitet, rigorem tamen nostram taliter temperando quod partes justicie totaliter non excludat ; et licet ad hoc libenter erga omnes clemencie regie dexteram extendamus, illam tamen circa illos libentius extendimus in quibus devocionis et pure fidelitatis constanciam inviolabiliter reperimus.'\n",
    "\n",
    "pierre_6a = 'nobile opus sedentis in solio clemencia suadente prosequimur, si per lubrica culpe deliramenta cadentibus, ad sublevanda remedia, cito se nostra manus habilitat, et indulgemus obnoxiis, veniam post reatum, pulcrum vindicte genus exstimantes ignoscere, et sic materialis gladii refrenare licentiam, ut seviendi voluntate sopita, temperemus interdum misericordie condimento rigorem.'\n",
    "\n",
    "pierre_6b = 'pulcrum in subditis humanitatis opus exequimur, si lapsis interdum per lubrice culpe convicium, misericordie celeri remedio subvenimus. cum summum vindicte genus credentes ignoscere nolumus semper culpas delere per gladium, in quibus rigorem possumus temperamento clementie mitigare.'\n",
    "\n",
    "pierre_6c = 'Quam sit favorabilis magnificentia cesaris et quam sit affabilis misericordiam petentibus vultus eius ex presentis negocii serie potestis aperte convincere, in quo sic est operatus iusticiam, ut per misericordie semitas dirigat gressus suos, sic misericorditer est profectus, ut partes iusticie non excludat […].'\n"
   ]
  },
  {
   "cell_type": "markdown",
   "id": "8ffb2cd0",
   "metadata": {},
   "source": [
    "Préambule 163"
   ]
  },
  {
   "cell_type": "code",
   "execution_count": 8,
   "id": "6e3ef211",
   "metadata": {},
   "outputs": [],
   "source": [
    "texte_7 = 'egregium humanitatis opus in subditis agere credimus, innata nobis regali clementia suadente, si interdum per lubrica culpe delinimenta collapsis et veniam petentibus post reatum, humane condicionis fragilitate pensata, lenimento misericordie subvenimus, cum fervor devocionis et fidei sinceritas in subditis augeatur qui a culpis per regalem clementiam abluuntur.'\n",
    "\n",
    "pierre_7a = 'nobile opus sedentis in solio clementia suadente prosequimur, si per lubrica culpe deliramenta cadentibus, ad sublevanda remedia, cito se nostra manus habilitat et indulgemus obnoxiis veniam post reatum, pulcrum vindicte genus exstimantes ignoscere, et sic materialis gladii refrenare licentiam, ut seviendi voluntate sopita, temperemus interdum misericordie condimento rigorem.'\n",
    "\n",
    "pierre_7b = 'um crescat in eis etiam erga nos vigor devocionis et fidei, si fragilitatis humane memores aliquid severitati detrahimus, et que punire possemus in gladio, lenimento misericordie mitigamus.'\n",
    "\n",
    "pierre_7c = 'pulcrum in subditis humanitatis opus exequimur, si lapsis interdum per lubrice culpe convicium, misericordie celeri remedio subvenimus, cum summum vindicte genus credentes ignoscere, nolumus semper culpas delere per gladium in quibus rigorem possumus temperamento clemencie mitigare […].'\n"
   ]
  },
  {
   "cell_type": "markdown",
   "id": "499dde9c",
   "metadata": {},
   "source": [
    "Préambule 164"
   ]
  },
  {
   "cell_type": "code",
   "execution_count": 9,
   "id": "728a077d",
   "metadata": {},
   "outputs": [],
   "source": [
    "texte_8 = 'egregium humanitatis opus in subditis prosequi credimus, innata nobis regali clementia suadente, si interdum per lubrice culpe lapsis convicium, humane condicionis fragilitate pensata, misericorditer subvenimus ; non est rigor justicie taliter in omnibus observandus, quin interdum possit et debeat linimento misericordie temperari.'\n",
    "\n",
    "pierre_8 = 'pulcrum in subditis humanitatis opus exequimur, si lapsis interdum per lubrice culpe convicium, misericordie celeri remedio subvenimus, cum summum vindicte genus credentes ignoscere, nolumus semper culpas delere per gladium in quibus rigorem possumus temperamento clemencie mitigare […].'\n"
   ]
  },
  {
   "cell_type": "markdown",
   "id": "6c96cf65",
   "metadata": {},
   "source": [
    "Préambule 205"
   ]
  },
  {
   "cell_type": "code",
   "execution_count": 10,
   "id": "5b3a04ab",
   "metadata": {},
   "outputs": [],
   "source": [
    "texte_9 = 'lla decet regiam dignitatem frui mansuetudine et prerogativa virtutis ut, attendens quod, si culpa non precederet, locum venia non haberet, benignitas regia, si suum subditum quadam forsan necessitate potius quam voluntate a fide debita contigerit deviasse et, postmodum errorem suum sapienter advertens, ad gratiam reconciliationis admitti supplicat puro corde, paratis brachiis ipsum recipiat, oblita preterita culpa sua.'\n",
    "\n",
    "pierre_9 = 'Illa fruimur ex imperii dignitate mansuetudine sic, ac prerogativa virtutis, ut quia nisi culpa precederet locum venia non haberet, sed quacumque hora subditus ad fidem nostram conversus fuerit, patulis brachiis recipiamus eumdem, obliti preterite culpe sue.'\n"
   ]
  },
  {
   "cell_type": "markdown",
   "id": "eb997606",
   "metadata": {},
   "source": [
    "Préambule 215"
   ]
  },
  {
   "cell_type": "code",
   "execution_count": 11,
   "id": "755663a7",
   "metadata": {},
   "outputs": [],
   "source": [
    "texte_10 = 'In culpis delinquentium puniendis, personarum et temporum qualitate pensata, temperamus interdum gratie condimento rigorem.'\n",
    "\n",
    "pierre_10 = 'nobile opus sedentis in solio clemencia suadente prosequimur, si per lubrica culpe deliramenta cadentibus, ad sublevanda remedia cito se nostra manus habilitat, et indulgemus obnoxiis veniam post reatum, pulcrum vindicte genus exstimantes ignoscere, et sic materialis gladii refrenare licentiam, ut seviendi voluntate sopita, temperemus interdum misericordie condimento rigorem.'\n"
   ]
  },
  {
   "cell_type": "markdown",
   "id": "e01fbc98",
   "metadata": {},
   "source": [
    "Préambule 226"
   ]
  },
  {
   "cell_type": "code",
   "execution_count": 12,
   "id": "b85cec83",
   "metadata": {},
   "outputs": [],
   "source": [
    "texte_11 = 'Inter cetera que sollicitudinis nostre cura quotidiana meditatione revolvit, illud occurrit nostre considerationi precipuum ut venerandus ortodoxe [sic] fidei nostre cultus nobis traditus per os prophetarum, apostolorum et quattuor evangelistarum nostre fidei catholice fidelium testium et scribarum, quorum sonus in orbem exiit universum, nostris temporibus augeatur subditique nostri in unionis federe pacis transquillitate gaudeant et fruantur ; ex hiis quidem potest augeri culminis nostri felicitas et subditorum nostrorum status servari pacificus, si Regi regum grato primitus devotionis obsequio placeamus et status ecclesiasticus in sua regularitate populusque nostro commissus regimini sub unionis nexu in sua integritate serventur.'\n",
    "\n",
    "pierre_11 = 'Inter cetera, que sollicitudinis nostre cura cotidiana diligenti meditatione revolvit, illud occurrit nostre considerationi precipuum, qualiter venerandus orthodoxe fidei nostre cultus debito a nobis et nostris fidelibus affectu et devota veneratione colatur, ut quo pre ceteris principibus divina dextera nostrum erigit altius solium, eo pro [sic] per officiose gratitudinis debitum, nostra et nostrorum ubique devotio sibi solvat munera gratiarum. Ex eo si quidem potest regnantium felicitas augeri potissime et subditorum status servari pacificus, si Regi regum grato devotionis exennio placeamus, nec ex alicuius scandali suprectione dampnabili cultus debet postponi, vel intermitti dominicus, quia quo amplius humana scandala quandoque lasciviunt, eo sepefactus sedator esset devotius exorandus.'\n"
   ]
  },
  {
   "cell_type": "markdown",
   "id": "00a5ae1d",
   "metadata": {},
   "source": [
    "Préambule 258"
   ]
  },
  {
   "cell_type": "code",
   "execution_count": 13,
   "id": "7d7d3387",
   "metadata": {},
   "outputs": [],
   "source": [
    "texte_12 = 'Licet ad quorumlibet vota munifice prosequenda liberalitas nostra quadam generalitate sit proclivis, illis tamen est quadam specialitate debitrix quos ad regie celsitudinis grata obsequia promptos et utiles claris judiciis experimur.'\n",
    "\n",
    "pierre_12a = 'Licet ad quorumlibet nostrorum fidelium, munifice prosequenda servicia liberalitatis nostre manus quadam generalitate sit habilis, illis tamen quadam specialitate fit debitrix, in quibus sanguinis idemptitatem agnoscimus et fidei pure constanciam invenimus […].'\n",
    "\n",
    "pierre_12b = 'Licet ad prosequenda munificentie [sic] vota fidelium liberalitatis regie dextera generalita quadam irregularitate [sic] sit habilis, illis tamen graciosa porrigitur, quadam specialitate liberior, quos ad obsequia grata continuos fructus [sic] et utiles claris semper indiciis experimur.'\n"
   ]
  },
  {
   "cell_type": "markdown",
   "id": "440d2062",
   "metadata": {},
   "source": [
    "Préambule 339"
   ]
  },
  {
   "cell_type": "code",
   "execution_count": 14,
   "id": "283a85f2",
   "metadata": {},
   "outputs": [],
   "source": [
    "texte_13 = 'Opus insigne presidentis in solio in nobis clementia suggerente proficimus, si per lubrica culpe delinimenta labentibus misericordie celeri levamine subvenimus.'\n",
    "\n",
    "pierre_13a = 'Opus in nobis egregium, clemencia suggerente, perficimus, si per lubrica culpe deliramenta labentibus, misericordie celeris remediosubvenimus '\n",
    "\n",
    "pierre_13b = 'nobile opus sedentis in solio clemencia suadente prosequimur, si per lubrica culpe deliramenta cadentibus'\n"
   ]
  },
  {
   "cell_type": "markdown",
   "id": "0983635d",
   "metadata": {},
   "source": [
    "Préambule 359"
   ]
  },
  {
   "cell_type": "code",
   "execution_count": 15,
   "id": "5fb48e57",
   "metadata": {},
   "outputs": [],
   "source": [
    "texte_14 = 'Pulcrum vindicte genus estimantes ignoscere, temperamus interdum gratie condimento rigorem.'\n",
    "\n",
    "pierre_14 = 'nobile opus sedentis in solio clemencia suadente prosequimur, si per lubrica culpe deliramenta cadentibus, ad sublevanda remedia, se cito nostra manus habilitat, et indulgemus obnoxiis veniam post reatum, pulcrum vindicte genus exstimantes, ignoscere, et sic materialis gladii refrenare licentiam, ut seviendi voluntate sopita, temperemus interdum misericordie condimento rigorem.'\n"
   ]
  },
  {
   "cell_type": "markdown",
   "id": "5fde323c",
   "metadata": {},
   "source": [
    "Préambule 497"
   ]
  },
  {
   "cell_type": "code",
   "execution_count": 16,
   "id": "32bc7db6",
   "metadata": {},
   "outputs": [],
   "source": [
    "texte_15 = 'Satis nobis, quem Rex regum ad regie dignitatis fastigia provexit, cedit ad gloriam, si motus nostros virtute clementie perficimus et mansuetudinem in subditis excercemus, cum crescat etiam erga nos vigor devotionis et fidei, si, fragilitatis humane memores, aliquid severitati detrahimus et que punire possemus lenimento misericordie mittigamus.'\n",
    "\n",
    "pierre_15 = 'Satis nobis cedit ad gloriam et regie dignitatis fastigia sublimamus sic, si motus nostros clemencie virtute perspicimus sic, et mansuetudinem in subditis exercemus, cum crescat in eis etiam erga nos vigor devocionis et fidei si fragilitatis humane memores aliquid severitati detrahimus, et que punire possemus in gladio, lenimento misericordie mitigamus'"
   ]
  },
  {
   "cell_type": "code",
   "execution_count": null,
   "id": "12f5235b",
   "metadata": {},
   "outputs": [],
   "source": []
  },
  {
   "cell_type": "code",
   "execution_count": 17,
   "id": "3a362ce5",
   "metadata": {},
   "outputs": [],
   "source": [
    "def remove_characters(input_string, characters_to_remove):\n",
    "    translator = str.maketrans('', '', characters_to_remove)\n",
    "    cleaned_string = input_string.translate(translator)\n",
    "    return cleaned_string"
   ]
  },
  {
   "cell_type": "code",
   "execution_count": 18,
   "id": "8a5eeb7e",
   "metadata": {},
   "outputs": [],
   "source": [
    "from text_matcher import matcher\n",
    "from text_matcher.matcher import Text, Matcher"
   ]
  },
  {
   "cell_type": "code",
   "execution_count": 19,
   "id": "f4dfc53c",
   "metadata": {},
   "outputs": [],
   "source": [
    "characters_to_remove = string.punctuation + '[]' +'–'"
   ]
  },
  {
   "cell_type": "code",
   "execution_count": 20,
   "id": "27536ceb",
   "metadata": {},
   "outputs": [],
   "source": [
    "texte_2 = remove_characters(texte_2,characters_to_remove).lower().lstrip().rstrip().replace('j','i')\n",
    "pierre_2 = remove_characters(pierre_2,characters_to_remove).lower().lstrip().rstrip().replace('j','i')"
   ]
  },
  {
   "cell_type": "code",
   "execution_count": 21,
   "id": "e597449f",
   "metadata": {},
   "outputs": [],
   "source": [
    "def string_to_trigrams(input_string):\n",
    "    trigrams = [input_string[i:i+3] for i in range(len(input_string) - 2)]\n",
    "    return trigrams"
   ]
  },
  {
   "cell_type": "code",
   "execution_count": 22,
   "id": "4bbd8bfa",
   "metadata": {},
   "outputs": [],
   "source": [
    "def find_trigram_indices(trigram, phrase):\n",
    "    words = phrase.split()\n",
    "    trigram_indices = []\n",
    "\n",
    "    for i in range(len(words) - 2):\n",
    "        if ' '.join(words[i:i+3]) == trigram:\n",
    "            trigram_indices.extend([i, i+1, i+2])\n",
    "    return trigram_indices"
   ]
  },
  {
   "cell_type": "code",
   "execution_count": 23,
   "id": "75e1f7da",
   "metadata": {},
   "outputs": [],
   "source": [
    "def replace_words_with_str(string_list, index_list):\n",
    "    for index in index_list:\n",
    "        if 0 <= index < len(string_list):\n",
    "            words = string_list[index].split()\n",
    "            replaced_words = ['**str**' if word.isalpha() else word for word in words]\n",
    "            string_list[index] = ' '.join(replaced_words)"
   ]
  },
  {
   "cell_type": "code",
   "execution_count": 24,
   "id": "23a812fc",
   "metadata": {},
   "outputs": [],
   "source": [
    "def get_first_numbers(numbers):\n",
    "    result = []\n",
    "    current_sequence = []\n",
    "\n",
    "    for num in numbers:\n",
    "        if not current_sequence or num == current_sequence[-1] + 1:\n",
    "            current_sequence.append(num)\n",
    "        else:\n",
    "            result.append(current_sequence[0])\n",
    "            current_sequence = [num]\n",
    "\n",
    "    if current_sequence:\n",
    "        result.append(current_sequence[0])\n",
    "\n",
    "    return result"
   ]
  },
  {
   "cell_type": "code",
   "execution_count": 25,
   "id": "d7887a74",
   "metadata": {},
   "outputs": [],
   "source": [
    "def get_common_text(texte1,pierre1):\n",
    "    \n",
    "    texte1 = remove_characters(texte1,characters_to_remove).lower().lstrip().rstrip().replace('j','i')\n",
    "    pierre1 = remove_characters(pierre1,characters_to_remove).lower().lstrip().rstrip().replace('j','i')\n",
    "    \n",
    "    texte_tri = string_to_trigrams(texte1.split())\n",
    "    pierre_tri = string_to_trigrams(pierre1.split())\n",
    "    \n",
    "    liste_trigrams = []\n",
    "    for i in range(len(pierre_tri)):\n",
    "        if pierre_tri[i] in texte_tri:\n",
    "            liste_trigrams.append(pierre_tri[i])\n",
    "    indices_trigrams = []\n",
    "    for i in range(len(pierre_tri)):\n",
    "        if pierre_tri[i] in texte_tri:\n",
    "            indices_trigrams.append(i)\n",
    "            \n",
    "    index = get_first_numbers(indices_trigrams)\n",
    "    \n",
    "    texte_split = texte1.split()\n",
    "    pierre_split = pierre1.split()\n",
    "    \n",
    "    index_texte = []\n",
    "    index_pierre = []\n",
    "    \n",
    "    for i in index:\n",
    "    \n",
    "        trigram = pierre_tri[i]\n",
    "\n",
    "        x = ' '.join(trigram)\n",
    "        texte = find_trigram_indices(x,texte1)\n",
    "        pierre = find_trigram_indices(x,pierre1)\n",
    "\n",
    "        i = -1\n",
    "\n",
    "        while texte_split[texte[i]+1] == pierre_split[pierre[i]+1]:\n",
    "            texte.append(texte[-1]+1) \n",
    "            pierre.append(pierre[-1]+1)\n",
    "         \n",
    "        index_pierre.append(pierre)\n",
    "        index_texte.append(texte)\n",
    "        \n",
    "\n",
    "        for i in pierre:\n",
    "            pierre_split[i] = f'**{pierre_split[i]}**'\n",
    "        pierre_final = ' '.join(pierre_split)\n",
    "        for i in texte:\n",
    "            texte_split[i] = f'**{texte_split[i]}**'\n",
    "        texte_final = ' '.join(texte_split)\n",
    "\n",
    "        #display(Markdown(pierre_final))\n",
    "        #print('-------')\n",
    "        #display(Markdown(texte_final))\n",
    "        #print('--------')\n",
    "    \n",
    "    texte_final = ' '.join(texte_split)\n",
    "    pierre_final = ' '.join(pierre_split)\n",
    "    print('----------')\n",
    "    display(Markdown(texte_final))\n",
    "    print('----------')\n",
    "    display(Markdown(pierre_final))    \n",
    "    print('----------')"
   ]
  },
  {
   "cell_type": "code",
   "execution_count": 26,
   "id": "10d93275",
   "metadata": {},
   "outputs": [],
   "source": [
    "def get_common_tri(sentence1,sentence2):\n",
    "    \n",
    "    texte1 = remove_characters(sentence1,characters_to_remove).lower().lstrip().rstrip().replace('j','i').replace('v','u')\n",
    "    pierre1 = remove_characters(sentence2,characters_to_remove).lower().lstrip().rstrip().replace('j','i').replace('v','u')\n",
    "\n",
    "    texte_tri = string_to_trigrams(texte1.split())\n",
    "    pierre_tri = string_to_trigrams(pierre1.split())\n",
    "\n",
    "    liste_trigrams = []\n",
    "    for i in range(len(pierre_tri)):\n",
    "        if pierre_tri[i] in texte_tri:\n",
    "            liste_trigrams.append(pierre_tri[i])\n",
    "    indices_trigrams = []\n",
    "    for i in range(len(pierre_tri)):\n",
    "        if pierre_tri[i] in texte_tri:\n",
    "            indices_trigrams.append(i)\n",
    "\n",
    "\n",
    "    index = get_first_numbers(indices_trigrams)\n",
    "\n",
    "    texte_split = texte1.split()\n",
    "    pierre_split = pierre1.split()\n",
    "\n",
    "    index_texte = []\n",
    "    index_pierre = []\n",
    "\n",
    "\n",
    "    for i in index:\n",
    "\n",
    "        trigram = pierre_tri[i]\n",
    "\n",
    "        x = ' '.join(trigram)\n",
    "        texte = find_trigram_indices(x,texte1)\n",
    "        pierre = find_trigram_indices(x,pierre1)\n",
    "\n",
    "        taille_texte = len(texte_split)\n",
    "        taille_pierre = len(pierre_split)\n",
    "\n",
    "        i = -1\n",
    "\n",
    "        while texte[i]+1 < taille_texte and pierre[i]+1 < taille_pierre:\n",
    "            if texte_split[texte[i]+1]  == pierre_split[pierre[i]+1]:\n",
    "                texte.append(texte[-1]+1) \n",
    "                pierre.append(pierre[-1]+1)\n",
    "            else:\n",
    "                break\n",
    "\n",
    "        index_pierre.append(pierre)\n",
    "        index_texte.append(texte)\n",
    "\n",
    "        for i in pierre:\n",
    "            pierre_split[i] = f'**{pierre_split[i]}**'\n",
    "        pierre_final = ' '.join(pierre_split)\n",
    "        for i in texte:\n",
    "            texte_split[i] = f'**{texte_split[i]}**'\n",
    "\n",
    "    texte_final = ' '.join(texte_split)\n",
    "\n",
    "    pierre_final = ' '.join(pierre_split)\n",
    "    \n",
    "    print('Texte')\n",
    "    print('----------')\n",
    "    display(Markdown(texte_final))\n",
    "    print('----------')\n",
    "    print('Pierre de la Vigne')\n",
    "    print('-----------')\n",
    "    display(Markdown(pierre_final))    \n",
    "    print('----------')\n",
    "    \n",
    "    index_pierre = list(set(index_pierre[0]))\n",
    "    index_texte = list(set(index_texte[0]))\n",
    "    \n",
    "    return (index_pierre,index_texte)"
   ]
  },
  {
   "cell_type": "code",
   "execution_count": 27,
   "id": "636ef1b8",
   "metadata": {},
   "outputs": [],
   "source": [
    "def get_common_tri_coquilles(sentence1,sentence2):\n",
    "    \n",
    "    texte1 = remove_characters(sentence1,characters_to_remove).lower().lstrip().rstrip().replace('j','i').replace('v','u')\n",
    "    pierre1 = remove_characters(sentence2,characters_to_remove).lower().lstrip().rstrip().replace('j','i').replace('v','u')\n",
    "\n",
    "    texte_tri = string_to_trigrams(texte1.split())\n",
    "    pierre_tri = string_to_trigrams(pierre1.split())\n",
    "\n",
    "    liste_trigrams = []\n",
    "    for i in range(len(pierre_tri)):\n",
    "        if pierre_tri[i] in texte_tri:\n",
    "            liste_trigrams.append(pierre_tri[i])\n",
    "    indices_trigrams = []\n",
    "    for i in range(len(pierre_tri)):\n",
    "        if pierre_tri[i] in texte_tri:\n",
    "            indices_trigrams.append(i)\n",
    "\n",
    "\n",
    "    index = get_first_numbers(indices_trigrams)\n",
    "\n",
    "    texte_split = texte1.split()\n",
    "    pierre_split = pierre1.split()\n",
    "\n",
    "    index_texte = []\n",
    "    index_pierre = []\n",
    "\n",
    "\n",
    "    for i in index:\n",
    "\n",
    "        trigram = pierre_tri[i]\n",
    "\n",
    "        x = ' '.join(trigram)\n",
    "        texte = find_trigram_indices(x,texte1)\n",
    "        pierre = find_trigram_indices(x,pierre1)\n",
    "\n",
    "        taille_texte = len(texte_split)\n",
    "        taille_pierre = len(pierre_split)\n",
    "\n",
    "        i = -1\n",
    "\n",
    "        while texte[i]+1 < taille_texte -1 and pierre[i]+1 < taille_pierre -1:\n",
    "            if texte_split[texte[i]+1]  == pierre_split[pierre[i]+1]:\n",
    "                texte.append(texte[-1]+1) \n",
    "                pierre.append(pierre[-1]+1)\n",
    "            elif 0.8 <= textdistance.levenshtein.normalized_similarity(texte_split[texte[i]+1],pierre_split[pierre[i]+1]) < 1:\n",
    "                texte.append(texte[-1]+1) \n",
    "                pierre.append(pierre[-1]+1)\n",
    "            else:\n",
    "                break\n",
    "        \n",
    "        #Insérer ici\n",
    "\n",
    "        index_pierre.append(pierre)\n",
    "        index_texte.append(texte)\n",
    "\n",
    "        for i in pierre:\n",
    "            pierre_split[i] = f'**{pierre_split[i]}**'\n",
    "        pierre_final = ' '.join(pierre_split)\n",
    "        for i in texte:\n",
    "            texte_split[i] = f'**{texte_split[i]}**'\n",
    "\n",
    "    texte_final = ' '.join(texte_split)\n",
    "\n",
    "    pierre_final = ' '.join(pierre_split)\n",
    "    \n",
    "    print('Texte')\n",
    "    print('----------')\n",
    "    display(Markdown(texte_final))\n",
    "    print('----------')\n",
    "    print('Pierre de la Vigne')\n",
    "    print('-----------')\n",
    "    display(Markdown(pierre_final))    \n",
    "    print('----------')\n",
    "    \n",
    "    index_pierre = list(set(index_pierre[0]))\n",
    "    index_texte = list(set(index_texte[0]))\n",
    "    \n",
    "    return (texte_split,pierre_split)"
   ]
  },
  {
   "cell_type": "code",
   "execution_count": 28,
   "id": "4244dfa9",
   "metadata": {},
   "outputs": [],
   "source": [
    "import textdistance"
   ]
  },
  {
   "cell_type": "code",
   "execution_count": 29,
   "id": "b604cd37",
   "metadata": {},
   "outputs": [],
   "source": [
    "def generate_trigrams_around_index(word_list, index, window_size=1):\n",
    "    trigrams = []\n",
    "    \n",
    "    if index < window_size or index >= len(word_list) - window_size:\n",
    "        return trigrams  # Not enough context for trigrams\n",
    "    \n",
    "    for i in range(index - window_size, index + window_size + 1):\n",
    "        trigram = [word_list[j] for j in range(i - window_size, i + window_size + 1)]\n",
    "        trigrams.append(trigram)\n",
    "    \n",
    "    return trigrams"
   ]
  },
  {
   "cell_type": "code",
   "execution_count": 30,
   "id": "7623178e",
   "metadata": {},
   "outputs": [],
   "source": [
    "def transformer_asterisques(liste):\n",
    "    nouvelle_liste = []\n",
    "    \n",
    "    for element in liste:\n",
    "        nouveau_element = element.replace(\"****\", \"**\", 1).replace(\"****\", \"**\", 1)\n",
    "        nouvelle_liste.append(nouveau_element)\n",
    "    \n",
    "    return nouvelle_liste"
   ]
  },
  {
   "cell_type": "code",
   "execution_count": 31,
   "id": "8fc041aa",
   "metadata": {},
   "outputs": [
    {
     "ename": "IndentationError",
     "evalue": "unexpected indent (3252127273.py, line 157)",
     "output_type": "error",
     "traceback": [
      "\u001b[0;36m  File \u001b[0;32m\"/tmp/ipykernel_92991/3252127273.py\"\u001b[0;36m, line \u001b[0;32m157\u001b[0m\n\u001b[0;31m    while texte_indice[i]+value < taille_texte and pierre_split[pierre_indice[i]+value] < taille_pierre and texte_split[texte_indice[i]-value] == pierre_split[pierre_indice[i]-value]:\u001b[0m\n\u001b[0m    ^\u001b[0m\n\u001b[0;31mIndentationError\u001b[0m\u001b[0;31m:\u001b[0m unexpected indent\n"
     ]
    }
   ],
   "source": [
    "def test(sentence1,sentence2):\n",
    "    \n",
    "    texte1 = remove_characters(sentence1,characters_to_remove).lower().lstrip().rstrip().replace('j','i').replace('v','u')\n",
    "    pierre1 = remove_characters(sentence2,characters_to_remove).lower().lstrip().rstrip().replace('j','i').replace('v','u')\n",
    "\n",
    "    texte_tri = string_to_trigrams(texte1.split())\n",
    "    pierre_tri = string_to_trigrams(pierre1.split())\n",
    "\n",
    "    liste_trigrams = []\n",
    "    for i in range(len(pierre_tri)):\n",
    "        if pierre_tri[i] in texte_tri:\n",
    "            liste_trigrams.append(pierre_tri[i])\n",
    "    indices_trigrams = []\n",
    "    for i in range(len(pierre_tri)):\n",
    "        if pierre_tri[i] in texte_tri:\n",
    "            indices_trigrams.append(i)\n",
    "\n",
    "\n",
    "    index = get_first_numbers(indices_trigrams)\n",
    "\n",
    "    texte_split = texte1.split()\n",
    "    pierre_split = pierre1.split()\n",
    "\n",
    "    index_texte = []\n",
    "    index_pierre = []\n",
    "\n",
    "\n",
    "    for i in index:\n",
    "\n",
    "        trigram = pierre_tri[i]\n",
    "\n",
    "        x = ' '.join(trigram)\n",
    "        texte = find_trigram_indices(x,texte1)\n",
    "        pierre = find_trigram_indices(x,pierre1)\n",
    "\n",
    "        taille_texte = len(texte_split)\n",
    "        taille_pierre = len(pierre_split)\n",
    "\n",
    "        i = -1\n",
    "\n",
    "        while texte[i]+1 < taille_texte -1 and pierre[i]+1 < taille_pierre -1:\n",
    "            if texte_split[texte[i]+1]  == pierre_split[pierre[i]+1]:\n",
    "                texte.append(texte[-1]+1) \n",
    "                pierre.append(pierre[-1]+1)\n",
    "            elif 0.8 <= textdistance.levenshtein.normalized_similarity(texte_split[texte[i]+1],pierre_split[pierre[i]+1]) < 1:\n",
    "                texte.append(texte[-1]+1) \n",
    "                pierre.append(pierre[-1]+1)\n",
    "            else:\n",
    "                break\n",
    "                \n",
    "        index_pierre.extend(pierre)\n",
    "        index_texte.extend(texte)\n",
    "        \n",
    "    for i in index_pierre:\n",
    "        pierre_split[i] = f'**{pierre_split[i]}**'\n",
    "    for i in index_texte:\n",
    "        texte_split[i] = f'**{texte_split[i]}**'\n",
    "        \n",
    "        #Insérer ici\n",
    "        \n",
    "\n",
    "    pierre_indice = []\n",
    "    texte_indice= []\n",
    "\n",
    "    pierre_mot = []\n",
    "    texte_mot = []\n",
    "\n",
    "    for idx1, word1 in enumerate(texte_split):\n",
    "        for idx2, word2 in enumerate(pierre_split):\n",
    "            similarity = textdistance.levenshtein.normalized_similarity(word1, word2)\n",
    "            if 0.8 <= similarity < 1 and word1 in texte_split and word2 in pierre_split:\n",
    "                pierre_indice.append(idx2)\n",
    "                texte_indice.append(idx1)\n",
    "                pierre_mot.append(word2)\n",
    "                texte_mot.append(word1)\n",
    "\n",
    "\n",
    "    tex = []\n",
    "    pie = []\n",
    "    for i in range(len(pierre_indice)):\n",
    "\n",
    "        inter_tex = []\n",
    "        inter_pie = []\n",
    "\n",
    "        if texte_indice[i] == taille_texte-1 and texte_split[texte_indice[i]-1] == pierre_split[pierre_indice[i]-1] and texte_split[texte_indice[i]-2] == pierre_split[pierre_indice[i]-2]:\n",
    "\n",
    "            inter_tex.append(texte_indice[i])\n",
    "            inter_pie.append(pierre_indice[i]) \n",
    "            value = 1\n",
    "            while texte_split[texte_indice[i]-value] == pierre_split[pierre_indice[i]-value]:\n",
    "                inter_tex.append(texte_indice[i]-value)\n",
    "                inter_pie.append(pierre_indice[i]-value)\n",
    "                value+=1\n",
    "\n",
    "        elif texte_indice[i] == taille_texte -2 and texte_split[texte_indice[i] + 1] == pierre_split[pierre_indice[i] +1 ] and texte_split[texte_indice[i]-1] == pierre_split[pierre_indice[i]-1]:\n",
    "            inter_tex.append(texte_indice[i]+1)\n",
    "            inter_tex.append(texte_indice[i])\n",
    "            inter_pie.append(pierre_indice[i]+1)\n",
    "            inter_pie.append(pierre_indice[i])\n",
    "\n",
    "            value = 1\n",
    "            while texte_split[texte_indice[i]-value] == pierre_split[pierre_indice[i]-value]:\n",
    "                inter_tex.append(texte_indice[i]-value)\n",
    "                inter_pie.append(pierre_indice[i]-value)\n",
    "                value+=1 \n",
    "\n",
    "        elif texte_indice[i] == 0 and texte_split[texte_indice[i]+1] == pierre_split[pierre_indice[i]+1] and texte_split[texte_indice[i]+2] == pierre_split[pierre_indice[i]+2]:\n",
    "            inter_tex.append(texte_indice[i])\n",
    "            inter_pie.append(pierre_indice[i])\n",
    "\n",
    "            value = 1\n",
    "            while texte_15_split[texte_indice[i]+value] == pierre_split[pierre_indice[i]+value]:\n",
    "                inter_tex.append(texte_indice[i]+value)\n",
    "                inter_pie.append(pierre_indice[i]+value)\n",
    "                value+=1\n",
    "\n",
    "        elif texte_indice[i] == 1 and texte_split[texte_indice[i]-1] == pierre_split[pierre_indice[i]-1] and texte_split[texte_indice[i]+1] == pierre_split[pierre_indice[i]+1]:\n",
    "            inter_tex.append(texte_indice[i]-1)\n",
    "            inter_tex.append(texte_indice[i])\n",
    "            inter_pie.append(pierre_indice[i]-1)\n",
    "            inter_pie.append(pierre_indice[i])\n",
    "\n",
    "            value = 1\n",
    "            while texte_split[texte_indice[i]+value] == pierre_split[pierre_indice[i]+value]:\n",
    "                inter_tex.append(texte_indice[i]+value)\n",
    "                inter_pie.append(pierre_indice[i]+value)\n",
    "                value+=1\n",
    "\n",
    "\n",
    "        elif texte_split[texte_indice[i]+1] == pierre_split[pierre_indice[i]+1] and texte_split[texte_indice[i]-1] != pierre_split[pierre_indice[i]-1] and texte_split[texte_indice[i]+2] == pierre_split[pierre_indice[i]+2]:\n",
    "            inter_tex.append(texte_indice[i])\n",
    "            inter_pie.append(pierre_indice[i])\n",
    "            value = 1\n",
    "            while texte_indice[i]+value < taille_texte and pierre_split[pierre_indice[i]+value] < taille_pierre and texte_split[texte_indice[i]+value] == pierre_split[pierre_indice[i]+value]:\n",
    "                inter_tex.append(texte_indice[i]+value)\n",
    "                inter_pie.append(pierre_indice[i]+value)\n",
    "                value+=1\n",
    "                \n",
    "        elif texte_split[texte_indice[i]-1] == pierre_split[pierre_indice[i]-1] and texte_split[texte_indice[i]+1] != pierre_split[pierre_indice[i]+1] and texte_split[texte_indice[i]-2] == pierre_split[pierre_indice[i]-2]:\n",
    "            inter_tex.append(texte_indice[i])\n",
    "            inter_pie.append(pierre_indice[i])\n",
    "            value = 1\n",
    "            while texte_indice[i]+value < taille_texte and pierre_split[pierre_indice[i]+value] < taille_pierre and texte_split[texte_indice[i]-value] == pierre_split[pierre_indice[i]-value]:\n",
    "                inter_tex.append(texte_indice[i]-value)\n",
    "                inter_pie.append(pierre_indice[i]-value)\n",
    "                value+=1\n",
    "\n",
    "        elif texte_split[texte_indice[i]-1] == pierre_split[pierre_indice[i]-1] and texte_split[texte_indice[i]+1] == pierre_split[pierre_indice[i]+1]:\n",
    "            inter_tex.append(texte_indice[i]-1)\n",
    "            inter_pie.append(pierre_indice[i]-1)\n",
    "            inter_tex.append(texte_indice[i])\n",
    "            inter_pie.append(pierre_indice[i])        \n",
    "            inter_tex.append(texte_indice[i]+1)\n",
    "            inter_pie.append(pierre_indice[i]+1)\n",
    "\n",
    "            value = 2\n",
    "             while texte_indice[i]+value < taille_texte and pierre_split[pierre_indice[i]+value] < taille_pierre and texte_split[texte_indice[i]-value] == pierre_split[pierre_indice[i]-value]:\n",
    "                inter_tex.insert(0,texte_indice[i]-value)\n",
    "                inter_pie.insert(0,pierre_indice[i]-value)\n",
    "                value+=1\n",
    "            value = 2\n",
    "            while texte_indice[i]+value < taille_texte and pierre_split[pierre_indice[i]+value] < taille_pierre and texte_split[texte_indice[i]+value] == pierre_split[pierre_indice[i]+value]:\n",
    "                inter_tex.insert(0,texte_indice[i]+value)\n",
    "                inter_pie.insert(0,pierre_indice[i]+value)\n",
    "                value +=1\n",
    "\n",
    "        tex.extend(inter_tex)   \n",
    "        pie.extend(inter_pie)\n",
    "        \n",
    "    unique_texte = [value for value in tex if value not in index_texte]\n",
    "    unique_pierre = [value for value in pie if value not in index_pierre]\n",
    "    \n",
    "    for i in unique_pierre:\n",
    "        pierre_split[i] = f'**{pierre_split[i]}**'\n",
    "    for i in unique_texte:\n",
    "        texte_split[i] = f'**{texte_split[i]}**'\n",
    "   \n",
    "\n",
    "    texte_final = ' '.join(texte_split)\n",
    "\n",
    "    pierre_final = ' '.join(pierre_split)\n",
    "    \n",
    "    print('Texte')\n",
    "    print('----------')\n",
    "    display(Markdown(texte_final))\n",
    "    print('----------')\n",
    "    print('Pierre de la Vigne')\n",
    "    print('-----------')\n",
    "    display(Markdown(pierre_final))    \n",
    "    print('----------')\n",
    "\n",
    "    return transformer_asterisques(texte_split), transformer_asterisques(pierre_split)"
   ]
  },
  {
   "cell_type": "code",
   "execution_count": 33,
   "id": "e84995a3",
   "metadata": {
    "scrolled": true
   },
   "outputs": [
    {
     "name": "stdout",
     "output_type": "stream",
     "text": [
      "Texte\n",
      "----------\n"
     ]
    },
    {
     "data": {
      "text/markdown": [
       "satis nobis quem rex regum ad **regie** **dignitatis** **fastigia** prouexit **cedit** **ad** **gloriam** **si** **motus** **nostros** uirtute clementie perficimus **et** **mansuetudinem** **in** **subditis** excercemus cum crescat **etiam** **erga** **nos** **uigor** deuotionis **et** **fidei** **si** **fragilitatis** **humane** **memores** **aliquid** **seueritati** **detrahimus** **et** **que** **punire** **possemus** lenimento misericordie mittigamus"
      ],
      "text/plain": [
       "<IPython.core.display.Markdown object>"
      ]
     },
     "metadata": {},
     "output_type": "display_data"
    },
    {
     "name": "stdout",
     "output_type": "stream",
     "text": [
      "----------\n",
      "Pierre de la Vigne\n",
      "-----------\n"
     ]
    },
    {
     "data": {
      "text/markdown": [
       "satis nobis **cedit** **ad** **gloriam** et **regie** **dignitatis** **fastigia** sublimamus sic **si** **motus** **nostros** clemencie uirtute perspicimus sic **et** **mansuetudinem** **in** **subditis** exercemus cum crescat in eis **etiam** **erga** **nos** **uigor** deuocionis **et** **fidei** **si** **fragilitatis** **humane** **memores** **aliquid** **seueritati** **detrahimus** **et** **que** **punire** **possemus** in gladio lenimento misericordie mitigamus"
      ],
      "text/plain": [
       "<IPython.core.display.Markdown object>"
      ]
     },
     "metadata": {},
     "output_type": "display_data"
    },
    {
     "name": "stdout",
     "output_type": "stream",
     "text": [
      "----------\n"
     ]
    },
    {
     "data": {
      "text/plain": [
       "([2, 3, 4], [10, 11, 12])"
      ]
     },
     "execution_count": 33,
     "metadata": {},
     "output_type": "execute_result"
    }
   ],
   "source": [
    "get_common_tri(texte_15,pierre_15)"
   ]
  },
  {
   "cell_type": "code",
   "execution_count": null,
   "id": "736cbdc9",
   "metadata": {},
   "outputs": [],
   "source": []
  },
  {
   "cell_type": "code",
   "execution_count": null,
   "id": "7905f58e",
   "metadata": {},
   "outputs": [],
   "source": []
  },
  {
   "cell_type": "markdown",
   "id": "b7fc56d3",
   "metadata": {},
   "source": [
    "# lemmas"
   ]
  },
  {
   "cell_type": "code",
   "execution_count": 33,
   "id": "cebd40fd",
   "metadata": {
    "scrolled": true
   },
   "outputs": [
    {
     "name": "stderr",
     "output_type": "stream",
     "text": [
      "fatal: HEAD n'est pas un nom d'objet valide\n",
      "100%|█████████████████████████████████████████████| 3/3 [00:01<00:00,  2.53it/s]\n"
     ]
    },
    {
     "name": "stdout",
     "output_type": "stream",
     "text": [
      "Texte\n",
      "----------\n"
     ]
    },
    {
     "data": {
      "text/markdown": [
       "sane cum de culminis nostri fulgore **uelut** **ex** **sole** **radii** **sic** omnium largiente conditore **prodeant** **dignitates** **ut** **prime** **lucis** **integritas** minorati luminis non sensiat detrimenta nam tanto magis regale sceptrum extollitur tantoque curia regiminis **sollicitudinibus** **releuatur** **quanto** **tribunal** **ipsius** **digniores** circumspicit contribules **hac** **igitur** **consideratione** ducti quia regni francie **moderamur** **habenas** **solii** **nostri** **decus** **tam** **ueterum** **dignitatum** **ornatibus** confoueri quam etiam nouis ardemus honoribus ampliari et licet ad quorumlibet nostrorum fidelium munifice prosequenda seruicia liberalitas nostra quadam generalitate sit procliuis illis tamen est quadam specialitate debitrix et eorum uota prosequi liberaliter affectamus in quibus sanguinis connexitatem et uinculum agnoscimus et puram fidei constanciam inuenimus ut ipsi feruore deuocionis accensi reddantur de bono in melius circa maiestatem regiam et eius obsequia promptiores et ne percepta dudum obsequia que conscribi perhenniter in libro memorie meruerunt preminentia gradus aboleat uel incompensata relinquat"
      ],
      "text/plain": [
       "<IPython.core.display.Markdown object>"
      ]
     },
     "metadata": {},
     "output_type": "display_data"
    },
    {
     "name": "stdout",
     "output_type": "stream",
     "text": [
      "----------\n",
      "Pierre de la Vigne\n",
      "-----------\n"
     ]
    },
    {
     "data": {
      "text/markdown": [
       "de fulgore throni cesarei **uelut** **ex** **sole** **radii** **sic** certe **prodeunt** **dignitates** **ut** **prime** **lucis** **integritas** non sentiat minorati luminis detrimenta tantoque magis imperiale sceptrum extollitur tanto cura regiminis pluria **sollicitudinibus** **releuatur** **quanto** **tribunal** **ipsius** **digniores** in circuitu circumspicit contribules regiones **hac** **igitur** **consideratione** commoti qui celesti prouidentia romani imperii **moderamur** **habenas** **solii** **nostri** **decus** **tam** **ueterum** **dignitatum** **ornatibus** confouemus quam nouis honoribus ampliamur"
      ],
      "text/plain": [
       "<IPython.core.display.Markdown object>"
      ]
     },
     "metadata": {},
     "output_type": "display_data"
    },
    {
     "name": "stdout",
     "output_type": "stream",
     "text": [
      "----------\n",
      "Texte\n",
      "----------\n"
     ]
    },
    {
     "data": {
      "text/markdown": [
       "sane cum3 de culmen noster fulgor **uelut1** **ex** **sol** **radius** **sic** omnis largior conditor1 **prodeo1** **dignitas** **ut4** **prime** **lux** **integritas** minoro lumen non sensio detrimentum nam tanto magis2 regalis **sceptrum** **extollo** **tanto** que curia regimen **sollicitudo** **releuo1** **quanto1** **tribunal** **ipse** **dignus** circumspicio contribulis **hic1** **igitur** **consideratio** duco quia regnum francies **moderor** **habena** **solium** **noster** **decus** **tam** **uetus** **dignitas** **ornatus1** **confoueo** **quam1** etiam nouus ardeo honor amplio et2 licet3 ad2 quisquebet noster fidelis2 munifice prosequor seruicium liberalitas noster quidam generalitas sum1 procliuis ille tamen sum1 quidam specialitas debitrix et2 is uotum prosequor liberaliter affecto in qui1 sanguis connexitas et2 uinculum agnosco et2 purus fides2 constancia inuenio ut4 ipse feruor deuocio accendo reddo de bonum in bonus circa2 maiestas regia et2 is obsequium promptus2 et2 ne4 percipio dudum obsequium que conscribo perhenniter in liber1 memories mereo premineo gradus aboleo uel2 incompensatus relinquo"
      ],
      "text/plain": [
       "<IPython.core.display.Markdown object>"
      ]
     },
     "metadata": {},
     "output_type": "display_data"
    },
    {
     "name": "stdout",
     "output_type": "stream",
     "text": [
      "----------\n",
      "Pierre de la Vigne\n",
      "-----------\n"
     ]
    },
    {
     "data": {
      "text/markdown": [
       "de fulgor thronus cesareus **uelut1** **ex** **sol** **radius** **sic** certe **prodeo1** **dignitas** **ut4** **prime** **lux** **integritas** non sentio minoro lumen detrimentum tanto que magis2 imperialis **sceptrum** **extollo** **tanto** cura regimen multus **sollicitudo** **releuo1** **quanto1** **tribunal** **ipse** **dignus** in circuitus circumspicio contribulis regio **hic1** **igitur** **consideratio** commoueo qui1 celestus prouidentia romanus imperium **moderor** **habena** **solium** **noster** **decus** **tam** **uetus** **dignitas** **ornatus1** **confoueo** **quam1** nouus honor amplio"
      ],
      "text/plain": [
       "<IPython.core.display.Markdown object>"
      ]
     },
     "metadata": {},
     "output_type": "display_data"
    },
    {
     "name": "stdout",
     "output_type": "stream",
     "text": [
      "----------\n",
      "Texte\n",
      "----------\n"
     ]
    },
    {
     "data": {
      "text/markdown": [
       "sane cum de culminis nostri fulgore uelut ex sole radii sic omnium largiente conditore prodeant dignitates ut prime lucis integritas minorati luminis non sensiat detrimenta nam tanto magis regale sceptrum extollitur tantoque curia regiminis sollicitudinibus releuatur quanto tribunal ipsius digniores circumspicit contribules hac igitur consideratione ducti quia regni francie moderamur habenas solii nostri decus tam ueterum dignitatum ornatibus confoueri quam etiam nouis ardemus honoribus ampliari et **licet** **ad** **quorumlibet** **nostrorum** **fidelium** **munifice** **prosequenda** **seruicia** **liberalitas** **nostra** **quadam** **generalitate** **sit** procliuis illis tamen est quadam specialitate debitrix et eorum uota prosequi liberaliter affectamus **in** **quibus** **sanguinis** connexitatem et uinculum agnoscimus et puram fidei constanciam inuenimus ut ipsi feruore deuocionis accensi reddantur de bono in melius circa maiestatem regiam et eius obsequia promptiores et ne percepta dudum obsequia que conscribi perhenniter in libro memorie meruerunt preminentia gradus aboleat uel incompensata relinquat"
      ],
      "text/plain": [
       "<IPython.core.display.Markdown object>"
      ]
     },
     "metadata": {},
     "output_type": "display_data"
    },
    {
     "name": "stdout",
     "output_type": "stream",
     "text": [
      "----------\n",
      "Pierre de la Vigne\n",
      "-----------\n"
     ]
    },
    {
     "data": {
      "text/markdown": [
       "**licet** **ad** **quorumlibet** **nostrorum** **fidelium** **munifice** **prosequenda** **seruicia** **liberalitatis** **nostre** manus **quadam** **generalitate** **sit** habilis illis tamen quadam specialitate fit debitrix **in** **quibus** **sanguinis** idemptitatem agnoscimus et fidei pure constanciam inuenimus …"
      ],
      "text/plain": [
       "<IPython.core.display.Markdown object>"
      ]
     },
     "metadata": {},
     "output_type": "display_data"
    },
    {
     "name": "stdout",
     "output_type": "stream",
     "text": [
      "----------\n",
      "Texte\n",
      "----------\n"
     ]
    },
    {
     "data": {
      "text/markdown": [
       "sane cum3 de culmen noster fulgor uelut1 ex sol radius sic omnis largior conditor1 prodeo1 dignitas ut4 prime lux integritas minoro lumen non sensio detrimentum nam tanto magis2 regalis sceptrum extollo tanto que curia regimen sollicitudo releuo1 quanto1 tribunal ipse dignus circumspicio contribulis hic1 igitur consideratio duco quia regnum francies moderor habena solium noster decus tam uetus dignitas ornatus1 confoueo quam1 etiam nouus ardeo honor amplio et2 licet3 ad2 quisquebet **noster** **fidelis2** **munifice** **prosequor** **seruicium** **liberalitas** **noster** **quidam** **generalitas** **sum1** procliuis ille tamen sum1 quidam specialitas debitrix et2 is uotum prosequor liberaliter affecto **in** **qui1** **sanguis** connexitas et2 uinculum agnosco et2 purus fides2 constancia inuenio ut4 ipse feruor deuocio accendo reddo de bonum in bonus circa2 maiestas regia et2 is obsequium promptus2 et2 ne4 percipio dudum obsequium que conscribo perhenniter in liber1 memories mereo premineo gradus aboleo uel2 incompensatus relinquo"
      ],
      "text/plain": [
       "<IPython.core.display.Markdown object>"
      ]
     },
     "metadata": {},
     "output_type": "display_data"
    },
    {
     "name": "stdout",
     "output_type": "stream",
     "text": [
      "----------\n",
      "Pierre de la Vigne\n",
      "-----------\n"
     ]
    },
    {
     "data": {
      "text/markdown": [
       "licet3 ad2 quisque2 **noster** **fidelis2** **munifice** **prosequor** **seruicium** **liberalitas** **noster** manus1 **quidam** **generalitas** **sum1** habilis ille tamen quidam specialitas fio debitrix **in** **qui1** **sanguis** idemptitas agnosco et2 fides2 pure constancia inuenio …"
      ],
      "text/plain": [
       "<IPython.core.display.Markdown object>"
      ]
     },
     "metadata": {},
     "output_type": "display_data"
    },
    {
     "name": "stdout",
     "output_type": "stream",
     "text": [
      "----------\n"
     ]
    },
    {
     "data": {
      "text/plain": [
       "(['sane',\n",
       "  'cum3',\n",
       "  'de',\n",
       "  'culmen',\n",
       "  'noster',\n",
       "  'fulgor',\n",
       "  'uelut1',\n",
       "  'ex',\n",
       "  'sol',\n",
       "  'radius',\n",
       "  'sic',\n",
       "  'omnis',\n",
       "  'largior',\n",
       "  'conditor1',\n",
       "  'prodeo1',\n",
       "  'dignitas',\n",
       "  'ut4',\n",
       "  'prime',\n",
       "  'lux',\n",
       "  'integritas',\n",
       "  'minoro',\n",
       "  'lumen',\n",
       "  'non',\n",
       "  'sensio',\n",
       "  'detrimentum',\n",
       "  'nam',\n",
       "  'tanto',\n",
       "  'magis2',\n",
       "  'regalis',\n",
       "  'sceptrum',\n",
       "  'extollo',\n",
       "  'tanto',\n",
       "  'que',\n",
       "  'curia',\n",
       "  'regimen',\n",
       "  'sollicitudo',\n",
       "  'releuo1',\n",
       "  'quanto1',\n",
       "  'tribunal',\n",
       "  'ipse',\n",
       "  'dignus',\n",
       "  'circumspicio',\n",
       "  'contribulis',\n",
       "  'hic1',\n",
       "  'igitur',\n",
       "  'consideratio',\n",
       "  'duco',\n",
       "  'quia',\n",
       "  'regnum',\n",
       "  'francies',\n",
       "  'moderor',\n",
       "  'habena',\n",
       "  'solium',\n",
       "  'noster',\n",
       "  'decus',\n",
       "  'tam',\n",
       "  'uetus',\n",
       "  'dignitas',\n",
       "  'ornatus1',\n",
       "  'confoueo',\n",
       "  'quam1',\n",
       "  'etiam',\n",
       "  'nouus',\n",
       "  'ardeo',\n",
       "  'honor',\n",
       "  'amplio',\n",
       "  'et2',\n",
       "  'licet3',\n",
       "  'ad2',\n",
       "  'quisquebet',\n",
       "  '**noster**',\n",
       "  '**fidelis2**',\n",
       "  '**munifice**',\n",
       "  '**prosequor**',\n",
       "  '**seruicium**',\n",
       "  '**liberalitas**',\n",
       "  '**noster**',\n",
       "  '**quidam**',\n",
       "  '**generalitas**',\n",
       "  '**sum1**',\n",
       "  'procliuis',\n",
       "  'ille',\n",
       "  'tamen',\n",
       "  'sum1',\n",
       "  'quidam',\n",
       "  'specialitas',\n",
       "  'debitrix',\n",
       "  'et2',\n",
       "  'is',\n",
       "  'uotum',\n",
       "  'prosequor',\n",
       "  'liberaliter',\n",
       "  'affecto',\n",
       "  '**in**',\n",
       "  '**qui1**',\n",
       "  '**sanguis**',\n",
       "  'connexitas',\n",
       "  'et2',\n",
       "  'uinculum',\n",
       "  'agnosco',\n",
       "  'et2',\n",
       "  'purus',\n",
       "  'fides2',\n",
       "  'constancia',\n",
       "  'inuenio',\n",
       "  'ut4',\n",
       "  'ipse',\n",
       "  'feruor',\n",
       "  'deuocio',\n",
       "  'accendo',\n",
       "  'reddo',\n",
       "  'de',\n",
       "  'bonum',\n",
       "  'in',\n",
       "  'bonus',\n",
       "  'circa2',\n",
       "  'maiestas',\n",
       "  'regia',\n",
       "  'et2',\n",
       "  'is',\n",
       "  'obsequium',\n",
       "  'promptus2',\n",
       "  'et2',\n",
       "  'ne4',\n",
       "  'percipio',\n",
       "  'dudum',\n",
       "  'obsequium',\n",
       "  'que',\n",
       "  'conscribo',\n",
       "  'perhenniter',\n",
       "  'in',\n",
       "  'liber1',\n",
       "  'memories',\n",
       "  'mereo',\n",
       "  'premineo',\n",
       "  'gradus',\n",
       "  'aboleo',\n",
       "  'uel2',\n",
       "  'incompensatus',\n",
       "  'relinquo'],\n",
       " ['licet3',\n",
       "  'ad2',\n",
       "  'quisque2',\n",
       "  '**noster**',\n",
       "  '**fidelis2**',\n",
       "  '**munifice**',\n",
       "  '**prosequor**',\n",
       "  '**seruicium**',\n",
       "  '**liberalitas**',\n",
       "  '**noster**',\n",
       "  'manus1',\n",
       "  '**quidam**',\n",
       "  '**generalitas**',\n",
       "  '**sum1**',\n",
       "  'habilis',\n",
       "  'ille',\n",
       "  'tamen',\n",
       "  'quidam',\n",
       "  'specialitas',\n",
       "  'fio',\n",
       "  'debitrix',\n",
       "  '**in**',\n",
       "  '**qui1**',\n",
       "  '**sanguis**',\n",
       "  'idemptitas',\n",
       "  'agnosco',\n",
       "  'et2',\n",
       "  'fides2',\n",
       "  'pure',\n",
       "  'constancia',\n",
       "  'inuenio',\n",
       "  '…'])"
      ]
     },
     "execution_count": 33,
     "metadata": {},
     "output_type": "execute_result"
    }
   ],
   "source": [
    "x = [texte_1,pierre_1a, pierre_1b]\n",
    "\n",
    "from typing import List\n",
    "from pie_extended.cli.utils import get_tagger, get_model, download\n",
    "\n",
    "# In case you need to download\n",
    "do_download = False\n",
    "if do_download:\n",
    "    for dl in download(\"lasla\"):\n",
    "        x = 1\n",
    "\n",
    "# model_path allows you to override the model loaded by another .tar\n",
    "model_name = \"lasla\"\n",
    "tagger = get_tagger(model_name, batch_size=256, device=\"cpu\", model_path=None)\n",
    "\n",
    "\n",
    "lemmas = []\n",
    "for i in tqdm(range(len(x))):\n",
    "    sentences: List[str] = [x[i]]\n",
    "    # Get the main object from the model (: data iterator + postprocesor\n",
    "    from pie_extended.models.lasla.imports import get_iterator_and_processor\n",
    "    for sentence_group in sentences:\n",
    "        iterator, processor = get_iterator_and_processor()\n",
    "        dic = tagger.tag_str(sentence_group, iterator=iterator, processor=processor)\n",
    "        lemmas.append(dic)\n",
    "\n",
    "texte_1_lemma = []\n",
    "for i in lemmas[0]:\n",
    "    texte_1_lemma.append(i.get('lemma'))\n",
    "texte_1_lemma = ' '.join(texte_1_lemma)\n",
    "\n",
    "pierre_1a_lemma = []\n",
    "for i in lemmas[1]:\n",
    "    pierre_1a_lemma.append(i.get('lemma'))\n",
    "pierre_1a_lemma = ' '.join(pierre_1a_lemma)\n",
    "\n",
    "pierre_1b_lemma = []\n",
    "for i in lemmas[2]:\n",
    "    pierre_1b_lemma.append(i.get('lemma'))\n",
    "pierre_1b_lemma = ' '.join(pierre_1b_lemma)\n",
    "\n",
    "\n",
    "test(texte_1,pierre_1a)\n",
    "test(texte_1_lemma,pierre_1a_lemma)\n",
    "test(texte_1,pierre_1b)\n",
    "test(texte_1_lemma,pierre_1b_lemma)\n"
   ]
  },
  {
   "cell_type": "code",
   "execution_count": 34,
   "id": "d6bfbc88",
   "metadata": {
    "scrolled": true
   },
   "outputs": [
    {
     "name": "stderr",
     "output_type": "stream",
     "text": [
      "100%|█████████████████████████████████████████████| 2/2 [00:00<00:00,  2.58it/s]"
     ]
    },
    {
     "name": "stdout",
     "output_type": "stream",
     "text": [
      "Texte\n",
      "----------\n"
     ]
    },
    {
     "name": "stderr",
     "output_type": "stream",
     "text": [
      "\n"
     ]
    },
    {
     "data": {
      "text/markdown": [
       "decet excellentiam regiam **pene** **duriciem** **quam** **iuris** **rigor** dictat aliquando pietatis mitigare cum per hoc subditorum succrescat deuocio et honor regius occulis augeatur"
      ],
      "text/plain": [
       "<IPython.core.display.Markdown object>"
      ]
     },
     "metadata": {},
     "output_type": "display_data"
    },
    {
     "name": "stdout",
     "output_type": "stream",
     "text": [
      "----------\n",
      "Pierre de la Vigne\n",
      "-----------\n"
     ]
    },
    {
     "data": {
      "text/markdown": [
       "satis nobis cedit ad gloriam et nostris fidelibus ad profectum si motus nostros quos armat potentia sic mansuetudine decoremus ut **pene** **duriciem** **quam** **iuris** **rigor** aliquando dictat in subditis clementie nostre molliamus unguentis cum crescat in subditis deuocionis uigor dum pena remittitur et dum deuotorum succrescit cumulus nostri honoris per consequens titulus augeatur"
      ],
      "text/plain": [
       "<IPython.core.display.Markdown object>"
      ]
     },
     "metadata": {},
     "output_type": "display_data"
    },
    {
     "name": "stdout",
     "output_type": "stream",
     "text": [
      "----------\n",
      "Texte\n",
      "----------\n"
     ]
    },
    {
     "data": {
      "text/markdown": [
       "decet excellentia regius **penis** **duricies** **quam1** **ius1** **rigor** dicto aliquando pietas mitigo cum3 per hic1 subdo succresco deuocio et2 honor regius occulum augeo"
      ],
      "text/plain": [
       "<IPython.core.display.Markdown object>"
      ]
     },
     "metadata": {},
     "output_type": "display_data"
    },
    {
     "name": "stdout",
     "output_type": "stream",
     "text": [
      "----------\n",
      "Pierre de la Vigne\n",
      "-----------\n"
     ]
    },
    {
     "data": {
      "text/markdown": [
       "satis2 nos cedo1 ad2 gloria et2 noster fidelis2 ad2 profectus si2 motus noster qui1 armo potentia sic mansuetudo decoro ut4 **penis** **duricies** **quam1** **ius1** **rigor** aliquando dicto in subdo clementie noster mollio unguentum cum3 cresco in subdo deuocio uigor dum2 pena remitto et2 dum2 deuoto succresco cumulus noster honor per consequens2 titulus augeo"
      ],
      "text/plain": [
       "<IPython.core.display.Markdown object>"
      ]
     },
     "metadata": {},
     "output_type": "display_data"
    },
    {
     "name": "stdout",
     "output_type": "stream",
     "text": [
      "----------\n"
     ]
    },
    {
     "data": {
      "text/plain": [
       "(['decet',\n",
       "  'excellentia',\n",
       "  'regius',\n",
       "  '**penis**',\n",
       "  '**duricies**',\n",
       "  '**quam1**',\n",
       "  '**ius1**',\n",
       "  '**rigor**',\n",
       "  'dicto',\n",
       "  'aliquando',\n",
       "  'pietas',\n",
       "  'mitigo',\n",
       "  'cum3',\n",
       "  'per',\n",
       "  'hic1',\n",
       "  'subdo',\n",
       "  'succresco',\n",
       "  'deuocio',\n",
       "  'et2',\n",
       "  'honor',\n",
       "  'regius',\n",
       "  'occulum',\n",
       "  'augeo'],\n",
       " ['satis2',\n",
       "  'nos',\n",
       "  'cedo1',\n",
       "  'ad2',\n",
       "  'gloria',\n",
       "  'et2',\n",
       "  'noster',\n",
       "  'fidelis2',\n",
       "  'ad2',\n",
       "  'profectus',\n",
       "  'si2',\n",
       "  'motus',\n",
       "  'noster',\n",
       "  'qui1',\n",
       "  'armo',\n",
       "  'potentia',\n",
       "  'sic',\n",
       "  'mansuetudo',\n",
       "  'decoro',\n",
       "  'ut4',\n",
       "  '**penis**',\n",
       "  '**duricies**',\n",
       "  '**quam1**',\n",
       "  '**ius1**',\n",
       "  '**rigor**',\n",
       "  'aliquando',\n",
       "  'dicto',\n",
       "  'in',\n",
       "  'subdo',\n",
       "  'clementie',\n",
       "  'noster',\n",
       "  'mollio',\n",
       "  'unguentum',\n",
       "  'cum3',\n",
       "  'cresco',\n",
       "  'in',\n",
       "  'subdo',\n",
       "  'deuocio',\n",
       "  'uigor',\n",
       "  'dum2',\n",
       "  'pena',\n",
       "  'remitto',\n",
       "  'et2',\n",
       "  'dum2',\n",
       "  'deuoto',\n",
       "  'succresco',\n",
       "  'cumulus',\n",
       "  'noster',\n",
       "  'honor',\n",
       "  'per',\n",
       "  'consequens2',\n",
       "  'titulus',\n",
       "  'augeo'])"
      ]
     },
     "execution_count": 34,
     "metadata": {},
     "output_type": "execute_result"
    }
   ],
   "source": [
    "x = [texte_2,pierre_2]\n",
    "\n",
    "from typing import List\n",
    "from pie_extended.cli.utils import get_tagger, get_model, download\n",
    "\n",
    "# In case you need to download\n",
    "do_download = False\n",
    "if do_download:\n",
    "    for dl in download(\"lasla\"):\n",
    "        x = 1\n",
    "\n",
    "# model_path allows you to override the model loaded by another .tar\n",
    "model_name = \"lasla\"\n",
    "tagger = get_tagger(model_name, batch_size=256, device=\"cpu\", model_path=None)\n",
    "\n",
    "\n",
    "lemmas = []\n",
    "for i in tqdm(range(len(x))):\n",
    "    sentences: List[str] = [x[i]]\n",
    "    # Get the main object from the model (: data iterator + postprocesor\n",
    "    from pie_extended.models.lasla.imports import get_iterator_and_processor\n",
    "    for sentence_group in sentences:\n",
    "        iterator, processor = get_iterator_and_processor()\n",
    "        dic = tagger.tag_str(sentence_group, iterator=iterator, processor=processor)\n",
    "        lemmas.append(dic)\n",
    "\n",
    "texte_2_lemma = []\n",
    "for i in lemmas[0]:\n",
    "    texte_2_lemma.append(i.get('lemma'))\n",
    "texte_2_lemma = ' '.join(texte_2_lemma)\n",
    "\n",
    "pierre_2_lemma = []\n",
    "for i in lemmas[1]:\n",
    "    pierre_2_lemma.append(i.get('lemma'))\n",
    "pierre_2_lemma = ' '.join(pierre_2_lemma)\n",
    "\n",
    "test(texte_2,pierre_2)\n",
    "test(texte_2_lemma,pierre_2_lemma)\n"
   ]
  },
  {
   "cell_type": "code",
   "execution_count": 35,
   "id": "c0935b21",
   "metadata": {
    "scrolled": true
   },
   "outputs": [
    {
     "name": "stderr",
     "output_type": "stream",
     "text": [
      "100%|█████████████████████████████████████████████| 2/2 [00:00<00:00,  3.24it/s]"
     ]
    },
    {
     "name": "stdout",
     "output_type": "stream",
     "text": [
      "Texte\n",
      "----------\n"
     ]
    },
    {
     "name": "stderr",
     "output_type": "stream",
     "text": [
      "\n"
     ]
    },
    {
     "data": {
      "text/markdown": [
       "dignum esse credimus ac consonum racioni atque concordabile reputamus ut hiis quos **in** **legitimis** ****actibus**** **deffectus** ****natalium**** ****impedit**** **legitimacionis** **honor** **per** **principem** reperiatur **et** **si** **quando** **super** **hiis** magestatis regie fauor seu beniuolentia fidelium suorum aut eorum qui regie magestatis fideles esse desiderant et in eadem fidelitate manere et perseuerare noscuntur **supplicacione** **requiritur** **liberaliter** **largiatur**"
      ],
      "text/plain": [
       "<IPython.core.display.Markdown object>"
      ]
     },
     "metadata": {},
     "output_type": "display_data"
    },
    {
     "name": "stdout",
     "output_type": "stream",
     "text": [
      "----------\n",
      "Pierre de la Vigne\n",
      "-----------\n"
     ]
    },
    {
     "data": {
      "text/markdown": [
       "dignum esse decreuimus et consentaneum rationi ut hii quos interdum **in** **legittimis** ****actibus**** **defectus** ****natalium**** ****impedit**** **legittimacionis** **honore** **per** **principem** reparentur **et** **si** **quando** **super** **hiis** imperialis fauor fidelium suorum **supplicatione** **requiritur** **liberaliter** **largiatur** …"
      ],
      "text/plain": [
       "<IPython.core.display.Markdown object>"
      ]
     },
     "metadata": {},
     "output_type": "display_data"
    },
    {
     "name": "stdout",
     "output_type": "stream",
     "text": [
      "----------\n",
      "Texte\n",
      "----------\n"
     ]
    },
    {
     "data": {
      "text/markdown": [
       "dignus sum1 credo ac1 consonus racio atque1 concordabilis reputo **ut4** **hic1** **qui1** **in** **legitimus** **actus1** defficio **natales** **impedio** **legitimacio** **honor** **per** **princeps1** reperio **et2** **si2** **quando1** **super2** **hic1** magestas regie fauor seu1 beneuolentia fidelis2 suus aut is qui1 regie magestas fidelis2 sum1 desidero et2 in idem fidelitas maneo et2 perseuero nosco **supplicacio** **requiro** **liberaliter** **largior**"
      ],
      "text/plain": [
       "<IPython.core.display.Markdown object>"
      ]
     },
     "metadata": {},
     "output_type": "display_data"
    },
    {
     "name": "stdout",
     "output_type": "stream",
     "text": [
      "----------\n",
      "Pierre de la Vigne\n",
      "-----------\n"
     ]
    },
    {
     "data": {
      "text/markdown": [
       "dignus sum1 decerno et2 consentaneus ratio **ut4** **hic1** **qui1** interdum **in** **legitimus** **actus1** defectus2 **natales** **impedio** **legittimacio** **honor** **per** **princeps1** reparo2 **et2** **si2** **quando1** **super2** **hic1** imperialis fauor fidelis2 suus **supplicatio** **requiro** **liberaliter** **largior** …"
      ],
      "text/plain": [
       "<IPython.core.display.Markdown object>"
      ]
     },
     "metadata": {},
     "output_type": "display_data"
    },
    {
     "name": "stdout",
     "output_type": "stream",
     "text": [
      "----------\n"
     ]
    },
    {
     "data": {
      "text/plain": [
       "(['dignus',\n",
       "  'sum1',\n",
       "  'credo',\n",
       "  'ac1',\n",
       "  'consonus',\n",
       "  'racio',\n",
       "  'atque1',\n",
       "  'concordabilis',\n",
       "  'reputo',\n",
       "  '**ut4**',\n",
       "  '**hic1**',\n",
       "  '**qui1**',\n",
       "  '**in**',\n",
       "  '**legitimus**',\n",
       "  '**actus1**',\n",
       "  'defficio',\n",
       "  '**natales**',\n",
       "  '**impedio**',\n",
       "  '**legitimacio**',\n",
       "  '**honor**',\n",
       "  '**per**',\n",
       "  '**princeps1**',\n",
       "  'reperio',\n",
       "  '**et2**',\n",
       "  '**si2**',\n",
       "  '**quando1**',\n",
       "  '**super2**',\n",
       "  '**hic1**',\n",
       "  'magestas',\n",
       "  'regie',\n",
       "  'fauor',\n",
       "  'seu1',\n",
       "  'beneuolentia',\n",
       "  'fidelis2',\n",
       "  'suus',\n",
       "  'aut',\n",
       "  'is',\n",
       "  'qui1',\n",
       "  'regie',\n",
       "  'magestas',\n",
       "  'fidelis2',\n",
       "  'sum1',\n",
       "  'desidero',\n",
       "  'et2',\n",
       "  'in',\n",
       "  'idem',\n",
       "  'fidelitas',\n",
       "  'maneo',\n",
       "  'et2',\n",
       "  'perseuero',\n",
       "  'nosco',\n",
       "  '**supplicacio**',\n",
       "  '**requiro**',\n",
       "  '**liberaliter**',\n",
       "  '**largior**'],\n",
       " ['dignus',\n",
       "  'sum1',\n",
       "  'decerno',\n",
       "  'et2',\n",
       "  'consentaneus',\n",
       "  'ratio',\n",
       "  '**ut4**',\n",
       "  '**hic1**',\n",
       "  '**qui1**',\n",
       "  'interdum',\n",
       "  '**in**',\n",
       "  '**legitimus**',\n",
       "  '**actus1**',\n",
       "  'defectus2',\n",
       "  '**natales**',\n",
       "  '**impedio**',\n",
       "  '**legittimacio**',\n",
       "  '**honor**',\n",
       "  '**per**',\n",
       "  '**princeps1**',\n",
       "  'reparo2',\n",
       "  '**et2**',\n",
       "  '**si2**',\n",
       "  '**quando1**',\n",
       "  '**super2**',\n",
       "  '**hic1**',\n",
       "  'imperialis',\n",
       "  'fauor',\n",
       "  'fidelis2',\n",
       "  'suus',\n",
       "  '**supplicatio**',\n",
       "  '**requiro**',\n",
       "  '**liberaliter**',\n",
       "  '**largior**',\n",
       "  '…'])"
      ]
     },
     "execution_count": 35,
     "metadata": {},
     "output_type": "execute_result"
    }
   ],
   "source": [
    "x = [texte_4,pierre_4]\n",
    "\n",
    "from typing import List\n",
    "from pie_extended.cli.utils import get_tagger, get_model, download\n",
    "\n",
    "# In case you need to download\n",
    "do_download = False\n",
    "if do_download:\n",
    "    for dl in download(\"lasla\"):\n",
    "        x = 1\n",
    "\n",
    "# model_path allows you to override the model loaded by another .tar\n",
    "model_name = \"lasla\"\n",
    "tagger = get_tagger(model_name, batch_size=256, device=\"cpu\", model_path=None)\n",
    "\n",
    "\n",
    "lemmas = []\n",
    "for i in tqdm(range(len(x))):\n",
    "    sentences: List[str] = [x[i]]\n",
    "    # Get the main object from the model (: data iterator + postprocesor\n",
    "    from pie_extended.models.lasla.imports import get_iterator_and_processor\n",
    "    for sentence_group in sentences:\n",
    "        iterator, processor = get_iterator_and_processor()\n",
    "        dic = tagger.tag_str(sentence_group, iterator=iterator, processor=processor)\n",
    "        lemmas.append(dic)\n",
    "\n",
    "texte_4_lemma = []\n",
    "for i in lemmas[0]:\n",
    "    texte_4_lemma.append(i.get('lemma'))\n",
    "texte_4_lemma = ' '.join(texte_4_lemma)\n",
    "\n",
    "pierre_4_lemma = []\n",
    "for i in lemmas[1]:\n",
    "    pierre_4_lemma.append(i.get('lemma'))\n",
    "pierre_4_lemma = ' '.join(pierre_4_lemma)\n",
    "\n",
    "test(texte_4,pierre_4)\n",
    "test(texte_4_lemma,pierre_4_lemma)\n"
   ]
  },
  {
   "cell_type": "code",
   "execution_count": 36,
   "id": "5f4a2dcf",
   "metadata": {
    "scrolled": true
   },
   "outputs": [
    {
     "name": "stderr",
     "output_type": "stream",
     "text": [
      "100%|█████████████████████████████████████████████| 2/2 [00:00<00:00,  3.55it/s]"
     ]
    },
    {
     "name": "stdout",
     "output_type": "stream",
     "text": [
      "Texte\n",
      "----------\n"
     ]
    },
    {
     "name": "stderr",
     "output_type": "stream",
     "text": [
      "\n"
     ]
    },
    {
     "data": {
      "text/markdown": [
       "egregium humanitatis opus in subditis prosequi credimus innata nobis regali clementia suadente si **interdum** **per** **lubrice** **culpe** lapsis conuicium humane condicionis fragilitate pensata misericorditer subuenimus non est rigor iusticie taliter in omnibus obseruandus quin interdum possit et debeat linimento misericordie temperari"
      ],
      "text/plain": [
       "<IPython.core.display.Markdown object>"
      ]
     },
     "metadata": {},
     "output_type": "display_data"
    },
    {
     "name": "stdout",
     "output_type": "stream",
     "text": [
      "----------\n",
      "Pierre de la Vigne\n",
      "-----------\n"
     ]
    },
    {
     "data": {
      "text/markdown": [
       "pulcrum in subditis humanitatis opus exequimur si lapsis **interdum** **per** **lubrice** **culpe** conuicium misericordie celeri remedio subuenimus cum summum uindicte genus credentes ignoscere nolumus semper culpas delere per gladium in quibus rigorem possumus temperamento clemencie mitigare …"
      ],
      "text/plain": [
       "<IPython.core.display.Markdown object>"
      ]
     },
     "metadata": {},
     "output_type": "display_data"
    },
    {
     "name": "stdout",
     "output_type": "stream",
     "text": [
      "----------\n",
      "Texte\n",
      "----------\n"
     ]
    },
    {
     "data": {
      "text/markdown": [
       "egregius humanitas opus1 in subdo prosequor credo innascor nos regalis clementia suadeo si2 **interdum** **per** **lubrice** **culpe** labor2 conuicium humane condicio fragilitas penso misericorditer subuenio non sum1 rigor iusticie taliter in omnis obseruo quin2 interdum possum1 et2 debeo linimentum misericordie tempero"
      ],
      "text/plain": [
       "<IPython.core.display.Markdown object>"
      ]
     },
     "metadata": {},
     "output_type": "display_data"
    },
    {
     "name": "stdout",
     "output_type": "stream",
     "text": [
      "----------\n",
      "Pierre de la Vigne\n",
      "-----------\n"
     ]
    },
    {
     "data": {
      "text/markdown": [
       "pulcher in subdo humanitas opus1 exsequor si2 labor2 **interdum** **per** **lubrice** **culpe** conuicium misericordie celer remedium subuenio cum3 superus uindicte genus1 credo ignosco nolo semper culpa deleo per gladius in qui1 rigor possum1 temperamentum clemencies mitigo …"
      ],
      "text/plain": [
       "<IPython.core.display.Markdown object>"
      ]
     },
     "metadata": {},
     "output_type": "display_data"
    },
    {
     "name": "stdout",
     "output_type": "stream",
     "text": [
      "----------\n"
     ]
    },
    {
     "data": {
      "text/plain": [
       "(['egregius',\n",
       "  'humanitas',\n",
       "  'opus1',\n",
       "  'in',\n",
       "  'subdo',\n",
       "  'prosequor',\n",
       "  'credo',\n",
       "  'innascor',\n",
       "  'nos',\n",
       "  'regalis',\n",
       "  'clementia',\n",
       "  'suadeo',\n",
       "  'si2',\n",
       "  '**interdum**',\n",
       "  '**per**',\n",
       "  '**lubrice**',\n",
       "  '**culpe**',\n",
       "  'labor2',\n",
       "  'conuicium',\n",
       "  'humane',\n",
       "  'condicio',\n",
       "  'fragilitas',\n",
       "  'penso',\n",
       "  'misericorditer',\n",
       "  'subuenio',\n",
       "  'non',\n",
       "  'sum1',\n",
       "  'rigor',\n",
       "  'iusticie',\n",
       "  'taliter',\n",
       "  'in',\n",
       "  'omnis',\n",
       "  'obseruo',\n",
       "  'quin2',\n",
       "  'interdum',\n",
       "  'possum1',\n",
       "  'et2',\n",
       "  'debeo',\n",
       "  'linimentum',\n",
       "  'misericordie',\n",
       "  'tempero'],\n",
       " ['pulcher',\n",
       "  'in',\n",
       "  'subdo',\n",
       "  'humanitas',\n",
       "  'opus1',\n",
       "  'exsequor',\n",
       "  'si2',\n",
       "  'labor2',\n",
       "  '**interdum**',\n",
       "  '**per**',\n",
       "  '**lubrice**',\n",
       "  '**culpe**',\n",
       "  'conuicium',\n",
       "  'misericordie',\n",
       "  'celer',\n",
       "  'remedium',\n",
       "  'subuenio',\n",
       "  'cum3',\n",
       "  'superus',\n",
       "  'uindicte',\n",
       "  'genus1',\n",
       "  'credo',\n",
       "  'ignosco',\n",
       "  'nolo',\n",
       "  'semper',\n",
       "  'culpa',\n",
       "  'deleo',\n",
       "  'per',\n",
       "  'gladius',\n",
       "  'in',\n",
       "  'qui1',\n",
       "  'rigor',\n",
       "  'possum1',\n",
       "  'temperamentum',\n",
       "  'clemencies',\n",
       "  'mitigo',\n",
       "  '…'])"
      ]
     },
     "execution_count": 36,
     "metadata": {},
     "output_type": "execute_result"
    }
   ],
   "source": [
    "x = [texte_8,pierre_8]\n",
    "\n",
    "from typing import List\n",
    "from pie_extended.cli.utils import get_tagger, get_model, download\n",
    "\n",
    "# In case you need to download\n",
    "do_download = False\n",
    "if do_download:\n",
    "    for dl in download(\"lasla\"):\n",
    "        x = 1\n",
    "\n",
    "# model_path allows you to override the model loaded by another .tar\n",
    "model_name = \"lasla\"\n",
    "tagger = get_tagger(model_name, batch_size=256, device=\"cpu\", model_path=None)\n",
    "\n",
    "\n",
    "lemmas = []\n",
    "for i in tqdm(range(len(x))):\n",
    "    sentences: List[str] = [x[i]]\n",
    "    # Get the main object from the model (: data iterator + postprocesor\n",
    "    from pie_extended.models.lasla.imports import get_iterator_and_processor\n",
    "    for sentence_group in sentences:\n",
    "        iterator, processor = get_iterator_and_processor()\n",
    "        dic = tagger.tag_str(sentence_group, iterator=iterator, processor=processor)\n",
    "        lemmas.append(dic)\n",
    "\n",
    "texte_8_lemma = []\n",
    "for i in lemmas[0]:\n",
    "    texte_8_lemma.append(i.get('lemma'))\n",
    "texte_8_lemma = ' '.join(texte_8_lemma)\n",
    "\n",
    "pierre_8_lemma = []\n",
    "for i in lemmas[1]:\n",
    "    pierre_8_lemma.append(i.get('lemma'))\n",
    "pierre_8_lemma = ' '.join(pierre_8_lemma)\n",
    "\n",
    "test(texte_8,pierre_8)\n",
    "test(texte_8_lemma,pierre_8_lemma)\n"
   ]
  },
  {
   "cell_type": "code",
   "execution_count": 37,
   "id": "3bc0c592",
   "metadata": {
    "scrolled": true
   },
   "outputs": [
    {
     "name": "stderr",
     "output_type": "stream",
     "text": [
      "100%|█████████████████████████████████████████████| 2/2 [00:00<00:00,  3.83it/s]\n"
     ]
    },
    {
     "name": "stdout",
     "output_type": "stream",
     "text": [
      "Texte\n",
      "----------\n"
     ]
    },
    {
     "data": {
      "text/markdown": [
       "lla decet regiam dignitatem frui mansuetudine et **prerogatiua** **uirtutis** **ut** attendens quod si culpa non **precederet** **locum** **uenia** **non** **haberet** benignitas regia si suum subditum quadam forsan necessitate potius quam uoluntate a fide debita contigerit deuiasse et postmodum errorem suum sapienter aduertens ad gratiam reconciliationis admitti supplicat puro corde paratis brachiis ipsum recipiat oblita preterita culpa sua"
      ],
      "text/plain": [
       "<IPython.core.display.Markdown object>"
      ]
     },
     "metadata": {},
     "output_type": "display_data"
    },
    {
     "name": "stdout",
     "output_type": "stream",
     "text": [
      "----------\n",
      "Pierre de la Vigne\n",
      "-----------\n"
     ]
    },
    {
     "data": {
      "text/markdown": [
       "illa fruimur ex imperii dignitate mansuetudine sic ac **prerogatiua** **uirtutis** **ut** quia nisi culpa **precederet** **locum** **uenia** **non** **haberet** sed quacumque hora subditus ad fidem nostram conuersus fuerit patulis brachiis recipiamus eumdem obliti preterite culpe sue"
      ],
      "text/plain": [
       "<IPython.core.display.Markdown object>"
      ]
     },
     "metadata": {},
     "output_type": "display_data"
    },
    {
     "name": "stdout",
     "output_type": "stream",
     "text": [
      "----------\n",
      "Texte\n",
      "----------\n"
     ]
    },
    {
     "data": {
      "text/markdown": [
       "llus decet regius dignitas fruor mansuetudo et2 **prerogatiuus** **uirtus** **ut4** attendo quod2 si2 culpa non **precedo** **locus** **uenia** **non** **habeo** benignitas regia si2 suus subdo quidam forsan necessitas potius quam1 uoluntas ab fides2 debitum contingo1 deuio et2 postmodum error suus sapienter aduerto ad2 gratia reconciliatio admitto supplico purus cor paratus2 brachium ipse recipio obliuiscor preteritus culpa suus"
      ],
      "text/plain": [
       "<IPython.core.display.Markdown object>"
      ]
     },
     "metadata": {},
     "output_type": "display_data"
    },
    {
     "name": "stdout",
     "output_type": "stream",
     "text": [
      "----------\n",
      "Pierre de la Vigne\n",
      "-----------\n"
     ]
    },
    {
     "data": {
      "text/markdown": [
       "ille fruor ex imperium dignitas mansuetudo sic ac2 **prerogatiuus** **uirtus** **ut4** quia nisi culpa **precedo** **locus** **uenia** **non** **habeo** sed quicumque1 hora subdo ad2 fides2 noster conuerto sum1 patulus brachium recipio idem obliuiscor preterite culpe sus"
      ],
      "text/plain": [
       "<IPython.core.display.Markdown object>"
      ]
     },
     "metadata": {},
     "output_type": "display_data"
    },
    {
     "name": "stdout",
     "output_type": "stream",
     "text": [
      "----------\n"
     ]
    },
    {
     "data": {
      "text/plain": [
       "(['llus',\n",
       "  'decet',\n",
       "  'regius',\n",
       "  'dignitas',\n",
       "  'fruor',\n",
       "  'mansuetudo',\n",
       "  'et2',\n",
       "  '**prerogatiuus**',\n",
       "  '**uirtus**',\n",
       "  '**ut4**',\n",
       "  'attendo',\n",
       "  'quod2',\n",
       "  'si2',\n",
       "  'culpa',\n",
       "  'non',\n",
       "  '**precedo**',\n",
       "  '**locus**',\n",
       "  '**uenia**',\n",
       "  '**non**',\n",
       "  '**habeo**',\n",
       "  'benignitas',\n",
       "  'regia',\n",
       "  'si2',\n",
       "  'suus',\n",
       "  'subdo',\n",
       "  'quidam',\n",
       "  'forsan',\n",
       "  'necessitas',\n",
       "  'potius',\n",
       "  'quam1',\n",
       "  'uoluntas',\n",
       "  'ab',\n",
       "  'fides2',\n",
       "  'debitum',\n",
       "  'contingo1',\n",
       "  'deuio',\n",
       "  'et2',\n",
       "  'postmodum',\n",
       "  'error',\n",
       "  'suus',\n",
       "  'sapienter',\n",
       "  'aduerto',\n",
       "  'ad2',\n",
       "  'gratia',\n",
       "  'reconciliatio',\n",
       "  'admitto',\n",
       "  'supplico',\n",
       "  'purus',\n",
       "  'cor',\n",
       "  'paratus2',\n",
       "  'brachium',\n",
       "  'ipse',\n",
       "  'recipio',\n",
       "  'obliuiscor',\n",
       "  'preteritus',\n",
       "  'culpa',\n",
       "  'suus'],\n",
       " ['ille',\n",
       "  'fruor',\n",
       "  'ex',\n",
       "  'imperium',\n",
       "  'dignitas',\n",
       "  'mansuetudo',\n",
       "  'sic',\n",
       "  'ac2',\n",
       "  '**prerogatiuus**',\n",
       "  '**uirtus**',\n",
       "  '**ut4**',\n",
       "  'quia',\n",
       "  'nisi',\n",
       "  'culpa',\n",
       "  '**precedo**',\n",
       "  '**locus**',\n",
       "  '**uenia**',\n",
       "  '**non**',\n",
       "  '**habeo**',\n",
       "  'sed',\n",
       "  'quicumque1',\n",
       "  'hora',\n",
       "  'subdo',\n",
       "  'ad2',\n",
       "  'fides2',\n",
       "  'noster',\n",
       "  'conuerto',\n",
       "  'sum1',\n",
       "  'patulus',\n",
       "  'brachium',\n",
       "  'recipio',\n",
       "  'idem',\n",
       "  'obliuiscor',\n",
       "  'preterite',\n",
       "  'culpe',\n",
       "  'sus'])"
      ]
     },
     "execution_count": 37,
     "metadata": {},
     "output_type": "execute_result"
    }
   ],
   "source": [
    "x = [texte_9,pierre_9]\n",
    "\n",
    "from typing import List\n",
    "from pie_extended.cli.utils import get_tagger, get_model, download\n",
    "\n",
    "# In case you need to download\n",
    "do_download = False\n",
    "if do_download:\n",
    "    for dl in download(\"lasla\"):\n",
    "        x = 1\n",
    "\n",
    "# model_path allows you to override the model loaded by another .tar\n",
    "model_name = \"lasla\"\n",
    "tagger = get_tagger(model_name, batch_size=256, device=\"cpu\", model_path=None)\n",
    "\n",
    "\n",
    "lemmas = []\n",
    "for i in tqdm(range(len(x))):\n",
    "    sentences: List[str] = [x[i]]\n",
    "    # Get the main object from the model (: data iterator + postprocesor\n",
    "    from pie_extended.models.lasla.imports import get_iterator_and_processor\n",
    "    for sentence_group in sentences:\n",
    "        iterator, processor = get_iterator_and_processor()\n",
    "        dic = tagger.tag_str(sentence_group, iterator=iterator, processor=processor)\n",
    "        lemmas.append(dic)\n",
    "\n",
    "texte_9_lemma = []\n",
    "for i in lemmas[0]:\n",
    "    texte_9_lemma.append(i.get('lemma'))\n",
    "texte_9_lemma = ' '.join(texte_9_lemma)\n",
    "\n",
    "pierre_9_lemma = []\n",
    "for i in lemmas[1]:\n",
    "    pierre_9_lemma.append(i.get('lemma'))\n",
    "pierre_9_lemma = ' '.join(pierre_9_lemma)\n",
    "\n",
    "test(texte_9,pierre_9)\n",
    "test(texte_9_lemma,pierre_9_lemma)\n"
   ]
  },
  {
   "cell_type": "code",
   "execution_count": 38,
   "id": "edd16591",
   "metadata": {
    "scrolled": true
   },
   "outputs": [
    {
     "name": "stderr",
     "output_type": "stream",
     "text": [
      "100%|█████████████████████████████████████████████| 2/2 [00:00<00:00,  2.58it/s]\n"
     ]
    },
    {
     "name": "stdout",
     "output_type": "stream",
     "text": [
      "Texte\n",
      "----------\n"
     ]
    },
    {
     "data": {
      "text/markdown": [
       "**inter** **cetera** **que** **sollicitudinis** **nostre** **cura** **quotidiana** **meditatione** **reuoluit** **illud** **occurrit** **nostre** **considerationi** **precipuum** ut uenerandus ortodoxe sic **fidei** **nostre** **cultus** nobis traditus per os prophetarum apostolorum et quattuor euangelistarum nostre fidei catholice fidelium testium et scribarum quorum sonus in orbem exiit uniuersum nostris temporibus augeatur subditique nostri in unionis federe pacis transquillitate gaudeant et fruantur ex hiis quidem potest augeri culminis nostri felicitas et subditorum nostrorum **status** **seruari** **pacificus** **si** **regi** **regum** **grato** primitus deuotionis obsequio placeamus et status ecclesiasticus in sua regularitate populusque nostro commissus regimini sub unionis nexu in sua integritate seruentur"
      ],
      "text/plain": [
       "<IPython.core.display.Markdown object>"
      ]
     },
     "metadata": {},
     "output_type": "display_data"
    },
    {
     "name": "stdout",
     "output_type": "stream",
     "text": [
      "----------\n",
      "Pierre de la Vigne\n",
      "-----------\n"
     ]
    },
    {
     "data": {
      "text/markdown": [
       "**inter** **cetera** **que** **sollicitudinis** **nostre** **cura** **cotidiana** diligenti **meditatione** **reuoluit** **illud** **occurrit** **nostre** **considerationi** **precipuum** qualiter uenerandus orthodoxe **fidei** **nostre** **cultus** debito a nobis et nostris fidelibus affectu et deuota ueneratione colatur ut quo pre ceteris principibus diuina dextera nostrum erigit altius solium eo pro sic per officiose gratitudinis debitum nostra et nostrorum ubique deuotio sibi soluat munera gratiarum ex eo si quidem potest regnantium felicitas augeri potissime et subditorum **status** **seruari** **pacificus** **si** **regi** **regum** **grato** deuotionis exennio placeamus nec ex alicuius scandali suprectione dampnabili cultus debet postponi uel intermitti dominicus quia quo amplius humana scandala quandoque lasciuiunt eo sepefactus sedator esset deuotius exorandus"
      ],
      "text/plain": [
       "<IPython.core.display.Markdown object>"
      ]
     },
     "metadata": {},
     "output_type": "display_data"
    },
    {
     "name": "stdout",
     "output_type": "stream",
     "text": [
      "----------\n",
      "Texte\n",
      "----------\n"
     ]
    },
    {
     "data": {
      "text/markdown": [
       "**inter** **cetera1** **que** **sollicitudo** **noster** **cura** **quotidianus** **meditatio** **reuoluo** **ille** **occurro** **noster** **consideratio** **precipuus** ut1 ueneror ortodox sic **fides2** **noster** **cultus1** nos trado per os1 propheta apostolus et2 quatuor euangelista noster fides2 catholyx fidelis2 testis1 et2 scriba qui1 sonus in orbis exeo1 uniuersus noster tempus1 augeo subdo que noster in unio1 fedo pax transfuillitas gaudeo et2 fruor ex hic1 quidem possum1 augeo culmen noster felicitas et2 subdo noster **status1** **seruo** **pacificus** **si2** **rex** **rex** **gratus** primitus deuotio obsequium placeo et2 status1 ecclesiasticus in suus regularitas populus que noster committo regimen sub unio1 nexus in suus integritas seruo"
      ],
      "text/plain": [
       "<IPython.core.display.Markdown object>"
      ]
     },
     "metadata": {},
     "output_type": "display_data"
    },
    {
     "name": "stdout",
     "output_type": "stream",
     "text": [
      "----------\n",
      "Pierre de la Vigne\n",
      "-----------\n"
     ]
    },
    {
     "data": {
      "text/markdown": [
       "**inter** **cetera1** **que** **sollicitudo** **noster** **cura** **cotidianus** diligens **meditatio** **reuoluo** **ille** **occurro** **noster** **consideratio** **precipuus** qualiter1 ueneror orthodoxe **fides2** **noster** **cultus1** debitum ab nos et2 noster fidelis2 affectus1 et2 deuoueo ueneratio colo2 ut4 qui1 pres ceterus princeps1 diuinus2 dextera noster erigo alte solium eo pro1 sic per officiose gratitudo debitum noster et2 noster ubique deuotio sui1 soluo munus gratia ex is si2 quidem possum1 regno felicitas augeo potius et2 subdo **status1** **seruo** **pacificus** **si2** **rex** **rex** **gratus** deuotio exennium placeo nec2 ex aliquis scandalum suprectio dampnabilis cultus1 debeo postpono uel2 intermitto dominicus quia quo1 ample humanus scandalum quandoque1 lasciuio eo3 sepefacio sedator sum1 deuotium exoro"
      ],
      "text/plain": [
       "<IPython.core.display.Markdown object>"
      ]
     },
     "metadata": {},
     "output_type": "display_data"
    },
    {
     "name": "stdout",
     "output_type": "stream",
     "text": [
      "----------\n"
     ]
    },
    {
     "data": {
      "text/plain": [
       "(['**inter**',\n",
       "  '**cetera1**',\n",
       "  '**que**',\n",
       "  '**sollicitudo**',\n",
       "  '**noster**',\n",
       "  '**cura**',\n",
       "  '**quotidianus**',\n",
       "  '**meditatio**',\n",
       "  '**reuoluo**',\n",
       "  '**ille**',\n",
       "  '**occurro**',\n",
       "  '**noster**',\n",
       "  '**consideratio**',\n",
       "  '**precipuus**',\n",
       "  'ut1',\n",
       "  'ueneror',\n",
       "  'ortodox',\n",
       "  'sic',\n",
       "  '**fides2**',\n",
       "  '**noster**',\n",
       "  '**cultus1**',\n",
       "  'nos',\n",
       "  'trado',\n",
       "  'per',\n",
       "  'os1',\n",
       "  'propheta',\n",
       "  'apostolus',\n",
       "  'et2',\n",
       "  'quatuor',\n",
       "  'euangelista',\n",
       "  'noster',\n",
       "  'fides2',\n",
       "  'catholyx',\n",
       "  'fidelis2',\n",
       "  'testis1',\n",
       "  'et2',\n",
       "  'scriba',\n",
       "  'qui1',\n",
       "  'sonus',\n",
       "  'in',\n",
       "  'orbis',\n",
       "  'exeo1',\n",
       "  'uniuersus',\n",
       "  'noster',\n",
       "  'tempus1',\n",
       "  'augeo',\n",
       "  'subdo',\n",
       "  'que',\n",
       "  'noster',\n",
       "  'in',\n",
       "  'unio1',\n",
       "  'fedo',\n",
       "  'pax',\n",
       "  'transfuillitas',\n",
       "  'gaudeo',\n",
       "  'et2',\n",
       "  'fruor',\n",
       "  'ex',\n",
       "  'hic1',\n",
       "  'quidem',\n",
       "  'possum1',\n",
       "  'augeo',\n",
       "  'culmen',\n",
       "  'noster',\n",
       "  'felicitas',\n",
       "  'et2',\n",
       "  'subdo',\n",
       "  'noster',\n",
       "  '**status1**',\n",
       "  '**seruo**',\n",
       "  '**pacificus**',\n",
       "  '**si2**',\n",
       "  '**rex**',\n",
       "  '**rex**',\n",
       "  '**gratus**',\n",
       "  'primitus',\n",
       "  'deuotio',\n",
       "  'obsequium',\n",
       "  'placeo',\n",
       "  'et2',\n",
       "  'status1',\n",
       "  'ecclesiasticus',\n",
       "  'in',\n",
       "  'suus',\n",
       "  'regularitas',\n",
       "  'populus',\n",
       "  'que',\n",
       "  'noster',\n",
       "  'committo',\n",
       "  'regimen',\n",
       "  'sub',\n",
       "  'unio1',\n",
       "  'nexus',\n",
       "  'in',\n",
       "  'suus',\n",
       "  'integritas',\n",
       "  'seruo'],\n",
       " ['**inter**',\n",
       "  '**cetera1**',\n",
       "  '**que**',\n",
       "  '**sollicitudo**',\n",
       "  '**noster**',\n",
       "  '**cura**',\n",
       "  '**cotidianus**',\n",
       "  'diligens',\n",
       "  '**meditatio**',\n",
       "  '**reuoluo**',\n",
       "  '**ille**',\n",
       "  '**occurro**',\n",
       "  '**noster**',\n",
       "  '**consideratio**',\n",
       "  '**precipuus**',\n",
       "  'qualiter1',\n",
       "  'ueneror',\n",
       "  'orthodoxe',\n",
       "  '**fides2**',\n",
       "  '**noster**',\n",
       "  '**cultus1**',\n",
       "  'debitum',\n",
       "  'ab',\n",
       "  'nos',\n",
       "  'et2',\n",
       "  'noster',\n",
       "  'fidelis2',\n",
       "  'affectus1',\n",
       "  'et2',\n",
       "  'deuoueo',\n",
       "  'ueneratio',\n",
       "  'colo2',\n",
       "  'ut4',\n",
       "  'qui1',\n",
       "  'pres',\n",
       "  'ceterus',\n",
       "  'princeps1',\n",
       "  'diuinus2',\n",
       "  'dextera',\n",
       "  'noster',\n",
       "  'erigo',\n",
       "  'alte',\n",
       "  'solium',\n",
       "  'eo',\n",
       "  'pro1',\n",
       "  'sic',\n",
       "  'per',\n",
       "  'officiose',\n",
       "  'gratitudo',\n",
       "  'debitum',\n",
       "  'noster',\n",
       "  'et2',\n",
       "  'noster',\n",
       "  'ubique',\n",
       "  'deuotio',\n",
       "  'sui1',\n",
       "  'soluo',\n",
       "  'munus',\n",
       "  'gratia',\n",
       "  'ex',\n",
       "  'is',\n",
       "  'si2',\n",
       "  'quidem',\n",
       "  'possum1',\n",
       "  'regno',\n",
       "  'felicitas',\n",
       "  'augeo',\n",
       "  'potius',\n",
       "  'et2',\n",
       "  'subdo',\n",
       "  '**status1**',\n",
       "  '**seruo**',\n",
       "  '**pacificus**',\n",
       "  '**si2**',\n",
       "  '**rex**',\n",
       "  '**rex**',\n",
       "  '**gratus**',\n",
       "  'deuotio',\n",
       "  'exennium',\n",
       "  'placeo',\n",
       "  'nec2',\n",
       "  'ex',\n",
       "  'aliquis',\n",
       "  'scandalum',\n",
       "  'suprectio',\n",
       "  'dampnabilis',\n",
       "  'cultus1',\n",
       "  'debeo',\n",
       "  'postpono',\n",
       "  'uel2',\n",
       "  'intermitto',\n",
       "  'dominicus',\n",
       "  'quia',\n",
       "  'quo1',\n",
       "  'ample',\n",
       "  'humanus',\n",
       "  'scandalum',\n",
       "  'quandoque1',\n",
       "  'lasciuio',\n",
       "  'eo3',\n",
       "  'sepefacio',\n",
       "  'sedator',\n",
       "  'sum1',\n",
       "  'deuotium',\n",
       "  'exoro'])"
      ]
     },
     "execution_count": 38,
     "metadata": {},
     "output_type": "execute_result"
    }
   ],
   "source": [
    "x = [texte_11,pierre_11]\n",
    "\n",
    "from typing import List\n",
    "from pie_extended.cli.utils import get_tagger, get_model, download\n",
    "\n",
    "# In case you need to download\n",
    "do_download = False\n",
    "if do_download:\n",
    "    for dl in download(\"lasla\"):\n",
    "        x = 1\n",
    "\n",
    "# model_path allows you to override the model loaded by another .tar\n",
    "model_name = \"lasla\"\n",
    "tagger = get_tagger(model_name, batch_size=256, device=\"cpu\", model_path=None)\n",
    "\n",
    "\n",
    "lemmas = []\n",
    "for i in tqdm(range(len(x))):\n",
    "    sentences: List[str] = [x[i]]\n",
    "    # Get the main object from the model (: data iterator + postprocesor\n",
    "    from pie_extended.models.lasla.imports import get_iterator_and_processor\n",
    "    for sentence_group in sentences:\n",
    "        iterator, processor = get_iterator_and_processor()\n",
    "        dic = tagger.tag_str(sentence_group, iterator=iterator, processor=processor)\n",
    "        lemmas.append(dic)\n",
    "\n",
    "texte_11_lemma = []\n",
    "for i in lemmas[0]:\n",
    "    texte_11_lemma.append(i.get('lemma'))\n",
    "texte_11_lemma = ' '.join(texte_11_lemma)\n",
    "\n",
    "pierre_11_lemma = []\n",
    "for i in lemmas[1]:\n",
    "    pierre_11_lemma.append(i.get('lemma'))\n",
    "pierre_11_lemma = ' '.join(pierre_11_lemma)\n",
    "\n",
    "test(texte_11,pierre_11)\n",
    "test(texte_11_lemma,pierre_11_lemma)\n"
   ]
  },
  {
   "cell_type": "code",
   "execution_count": 39,
   "id": "31c7a8bc",
   "metadata": {},
   "outputs": [
    {
     "name": "stderr",
     "output_type": "stream",
     "text": [
      "100%|█████████████████████████████████████████████| 2/2 [00:00<00:00,  5.16it/s]"
     ]
    },
    {
     "name": "stdout",
     "output_type": "stream",
     "text": [
      "Texte\n",
      "----------\n"
     ]
    },
    {
     "name": "stderr",
     "output_type": "stream",
     "text": [
      "\n"
     ]
    },
    {
     "data": {
      "text/markdown": [
       "**pulcrum** **uindicte** **genus** **estimantes** **ignoscere** temperamus interdum gratie condimento rigorem"
      ],
      "text/plain": [
       "<IPython.core.display.Markdown object>"
      ]
     },
     "metadata": {},
     "output_type": "display_data"
    },
    {
     "name": "stdout",
     "output_type": "stream",
     "text": [
      "----------\n",
      "Pierre de la Vigne\n",
      "-----------\n"
     ]
    },
    {
     "data": {
      "text/markdown": [
       "nobile opus sedentis in solio clemencia suadente prosequimur si per lubrica culpe deliramenta cadentibus ad subleuanda remedia se cito nostra manus habilitat et indulgemus obnoxiis ueniam post reatum **pulcrum** **uindicte** **genus** **exstimantes** **ignoscere** et sic materialis gladii refrenare licentiam ut seuiendi uoluntate sopita temperemus interdum misericordie condimento rigorem"
      ],
      "text/plain": [
       "<IPython.core.display.Markdown object>"
      ]
     },
     "metadata": {},
     "output_type": "display_data"
    },
    {
     "name": "stdout",
     "output_type": "stream",
     "text": [
      "----------\n",
      "Texte\n",
      "----------\n"
     ]
    },
    {
     "data": {
      "text/markdown": [
       "**pulcher** **uindicte** **genus1** **estimo** **ignosco** tempero interdum gratie condimentum rigor"
      ],
      "text/plain": [
       "<IPython.core.display.Markdown object>"
      ]
     },
     "metadata": {},
     "output_type": "display_data"
    },
    {
     "name": "stdout",
     "output_type": "stream",
     "text": [
      "----------\n",
      "Pierre de la Vigne\n",
      "-----------\n"
     ]
    },
    {
     "data": {
      "text/markdown": [
       "nobilis2 opus1 sedeo in solium clemencia suadeo prosequor si2 per lubricus culpe deliramentum cado ad2 subleuo1 remedium sui1 cito2 noster manus1 habilito et2 indulgeo obnoxius uenia post2 reatus **pulcher** **uindicte** **genus1** **exstimo** **ignosco** et2 sic materialis gladius refreno licentia ut4 seuio uoluntas sopio tempero interdum misericordiens condimentum rigor"
      ],
      "text/plain": [
       "<IPython.core.display.Markdown object>"
      ]
     },
     "metadata": {},
     "output_type": "display_data"
    },
    {
     "name": "stdout",
     "output_type": "stream",
     "text": [
      "----------\n"
     ]
    },
    {
     "data": {
      "text/plain": [
       "(['**pulcher**',\n",
       "  '**uindicte**',\n",
       "  '**genus1**',\n",
       "  '**estimo**',\n",
       "  '**ignosco**',\n",
       "  'tempero',\n",
       "  'interdum',\n",
       "  'gratie',\n",
       "  'condimentum',\n",
       "  'rigor'],\n",
       " ['nobilis2',\n",
       "  'opus1',\n",
       "  'sedeo',\n",
       "  'in',\n",
       "  'solium',\n",
       "  'clemencia',\n",
       "  'suadeo',\n",
       "  'prosequor',\n",
       "  'si2',\n",
       "  'per',\n",
       "  'lubricus',\n",
       "  'culpe',\n",
       "  'deliramentum',\n",
       "  'cado',\n",
       "  'ad2',\n",
       "  'subleuo1',\n",
       "  'remedium',\n",
       "  'sui1',\n",
       "  'cito2',\n",
       "  'noster',\n",
       "  'manus1',\n",
       "  'habilito',\n",
       "  'et2',\n",
       "  'indulgeo',\n",
       "  'obnoxius',\n",
       "  'uenia',\n",
       "  'post2',\n",
       "  'reatus',\n",
       "  '**pulcher**',\n",
       "  '**uindicte**',\n",
       "  '**genus1**',\n",
       "  '**exstimo**',\n",
       "  '**ignosco**',\n",
       "  'et2',\n",
       "  'sic',\n",
       "  'materialis',\n",
       "  'gladius',\n",
       "  'refreno',\n",
       "  'licentia',\n",
       "  'ut4',\n",
       "  'seuio',\n",
       "  'uoluntas',\n",
       "  'sopio',\n",
       "  'tempero',\n",
       "  'interdum',\n",
       "  'misericordiens',\n",
       "  'condimentum',\n",
       "  'rigor'])"
      ]
     },
     "execution_count": 39,
     "metadata": {},
     "output_type": "execute_result"
    }
   ],
   "source": [
    "x = [texte_14,pierre_14]\n",
    "\n",
    "from typing import List\n",
    "from pie_extended.cli.utils import get_tagger, get_model, download\n",
    "\n",
    "# In case you need to download\n",
    "do_download = False\n",
    "if do_download:\n",
    "    for dl in download(\"lasla\"):\n",
    "        x = 1\n",
    "\n",
    "# model_path allows you to override the model loaded by another .tar\n",
    "model_name = \"lasla\"\n",
    "tagger = get_tagger(model_name, batch_size=256, device=\"cpu\", model_path=None)\n",
    "\n",
    "\n",
    "lemmas = []\n",
    "for i in tqdm(range(len(x))):\n",
    "    sentences: List[str] = [x[i]]\n",
    "    # Get the main object from the model (: data iterator + postprocesor\n",
    "    from pie_extended.models.lasla.imports import get_iterator_and_processor\n",
    "    for sentence_group in sentences:\n",
    "        iterator, processor = get_iterator_and_processor()\n",
    "        dic = tagger.tag_str(sentence_group, iterator=iterator, processor=processor)\n",
    "        lemmas.append(dic)\n",
    "\n",
    "texte_14_lemma = []\n",
    "for i in lemmas[0]:\n",
    "    texte_14_lemma.append(i.get('lemma'))\n",
    "texte_14_lemma = ' '.join(texte_14_lemma)\n",
    "\n",
    "pierre_14_lemma = []\n",
    "for i in lemmas[1]:\n",
    "    pierre_14_lemma.append(i.get('lemma'))\n",
    "pierre_14_lemma = ' '.join(pierre_14_lemma)\n",
    "\n",
    "test(texte_14,pierre_14)\n",
    "test(texte_14_lemma,pierre_14_lemma)\n"
   ]
  },
  {
   "cell_type": "code",
   "execution_count": 416,
   "id": "300820f5",
   "metadata": {
    "scrolled": false
   },
   "outputs": [
    {
     "name": "stderr",
     "output_type": "stream",
     "text": [
      "fatal: HEAD n'est pas un nom d'objet valide\n",
      "100%|█████████████████████████████████████████████| 2/2 [00:00<00:00,  2.45it/s]\n"
     ]
    },
    {
     "ename": "TypeError",
     "evalue": "'DataFrame' object is not callable",
     "output_type": "error",
     "traceback": [
      "\u001b[0;31m---------------------------------------------------------------------------\u001b[0m",
      "\u001b[0;31mTypeError\u001b[0m                                 Traceback (most recent call last)",
      "\u001b[0;32m/tmp/ipykernel_50592/3634779315.py\u001b[0m in \u001b[0;36m<module>\u001b[0;34m\u001b[0m\n\u001b[1;32m     35\u001b[0m \u001b[0mpierre_15_lemma\u001b[0m \u001b[0;34m=\u001b[0m \u001b[0;34m' '\u001b[0m\u001b[0;34m.\u001b[0m\u001b[0mjoin\u001b[0m\u001b[0;34m(\u001b[0m\u001b[0mpierre_15_lemma\u001b[0m\u001b[0;34m)\u001b[0m\u001b[0;34m\u001b[0m\u001b[0;34m\u001b[0m\u001b[0m\n\u001b[1;32m     36\u001b[0m \u001b[0;34m\u001b[0m\u001b[0m\n\u001b[0;32m---> 37\u001b[0;31m \u001b[0mtest\u001b[0m\u001b[0;34m(\u001b[0m\u001b[0mtexte_15\u001b[0m\u001b[0;34m,\u001b[0m\u001b[0mpierre_15\u001b[0m\u001b[0;34m)\u001b[0m\u001b[0;34m\u001b[0m\u001b[0;34m\u001b[0m\u001b[0m\n\u001b[0m\u001b[1;32m     38\u001b[0m \u001b[0mtest\u001b[0m\u001b[0;34m(\u001b[0m\u001b[0mtexte_15_lemma\u001b[0m\u001b[0;34m,\u001b[0m\u001b[0mpierre_15_lemma\u001b[0m\u001b[0;34m)\u001b[0m\u001b[0;34m\u001b[0m\u001b[0;34m\u001b[0m\u001b[0m\n",
      "\u001b[0;31mTypeError\u001b[0m: 'DataFrame' object is not callable"
     ]
    }
   ],
   "source": [
    "x = [texte_15,pierre_15]\n",
    "\n",
    "from typing import List\n",
    "from pie_extended.cli.utils import get_tagger, get_model, download\n",
    "\n",
    "# In case you need to download\n",
    "do_download = False\n",
    "if do_download:\n",
    "    for dl in download(\"lasla\"):\n",
    "        x = 1\n",
    "\n",
    "# model_path allows you to override the model loaded by another .tar\n",
    "model_name = \"lasla\"\n",
    "tagger = get_tagger(model_name, batch_size=256, device=\"cpu\", model_path=None)\n",
    "\n",
    "\n",
    "lemmas = []\n",
    "for i in tqdm(range(len(x))):\n",
    "    sentences: List[str] = [x[i]]\n",
    "    # Get the main object from the model (: data iterator + postprocesor\n",
    "    from pie_extended.models.lasla.imports import get_iterator_and_processor\n",
    "    for sentence_group in sentences:\n",
    "        iterator, processor = get_iterator_and_processor()\n",
    "        dic = tagger.tag_str(sentence_group, iterator=iterator, processor=processor)\n",
    "        lemmas.append(dic)\n",
    "\n",
    "texte_15_lemma = []\n",
    "for i in lemmas[0]:\n",
    "    texte_15_lemma.append(i.get('lemma'))\n",
    "texte_15_lemma = ' '.join(texte_15_lemma)\n",
    "\n",
    "pierre_15_lemma = []\n",
    "for i in lemmas[1]:\n",
    "    pierre_15_lemma.append(i.get('lemma'))\n",
    "pierre_15_lemma = ' '.join(pierre_15_lemma)\n",
    "\n",
    "test(texte_15,pierre_15)\n",
    "test(texte_15_lemma,pierre_15_lemma)\n"
   ]
  },
  {
   "cell_type": "markdown",
   "id": "670e1b36",
   "metadata": {},
   "source": [
    "# Tests de l'algo sur PDV et Viard"
   ]
  },
  {
   "cell_type": "code",
   "execution_count": 38,
   "id": "d0c32719",
   "metadata": {},
   "outputs": [],
   "source": [
    "def test_2(sentence1,sentence2):\n",
    "    \n",
    "    texte1 = remove_characters(sentence1,characters_to_remove).lower().lstrip().rstrip().replace('j','i').replace('v','u')\n",
    "    pierre1 = remove_characters(sentence2,characters_to_remove).lower().lstrip().rstrip().replace('j','i').replace('v','u')\n",
    "\n",
    "    texte_tri = string_to_trigrams(texte1.split())\n",
    "    pierre_tri = string_to_trigrams(pierre1.split())\n",
    "\n",
    "    liste_trigrams = []\n",
    "    for i in range(len(pierre_tri)):\n",
    "        if pierre_tri[i] in texte_tri:\n",
    "            liste_trigrams.append(pierre_tri[i])\n",
    "    indices_trigrams = []\n",
    "    for i in range(len(pierre_tri)):\n",
    "        if pierre_tri[i] in texte_tri:\n",
    "            indices_trigrams.append(i)\n",
    "\n",
    "\n",
    "    index = get_first_numbers(indices_trigrams)\n",
    "\n",
    "    texte_split = texte1.split()\n",
    "    pierre_split = pierre1.split()\n",
    "\n",
    "    index_texte = []\n",
    "    index_pierre = []\n",
    "\n",
    "\n",
    "    for i in index:\n",
    "\n",
    "        trigram = pierre_tri[i]\n",
    "\n",
    "        x = ' '.join(trigram)\n",
    "        texte = find_trigram_indices(x,texte1)\n",
    "        pierre = find_trigram_indices(x,pierre1)\n",
    "\n",
    "        taille_texte = len(texte_split)\n",
    "        taille_pierre = len(pierre_split)\n",
    "\n",
    "        i = -1\n",
    "\n",
    "        while texte[i]+1 < taille_texte -1 and pierre[i]+1 < taille_pierre -1:\n",
    "            if texte_split[texte[i]+1]  == pierre_split[pierre[i]+1]:\n",
    "                texte.append(texte[-1]+1) \n",
    "                pierre.append(pierre[-1]+1)\n",
    "            elif 0.8 <= textdistance.levenshtein.normalized_similarity(texte_split[texte[i]+1],pierre_split[pierre[i]+1]) < 1:\n",
    "                texte.append(texte[-1]+1) \n",
    "                pierre.append(pierre[-1]+1)\n",
    "            else:\n",
    "                break\n",
    "                \n",
    "        index_pierre.extend(pierre)\n",
    "        index_texte.extend(texte)\n",
    "        \n",
    "    for i in index_pierre:\n",
    "        pierre_split[i] = f'**{pierre_split[i]}**'\n",
    "    for i in index_texte:\n",
    "        texte_split[i] = f'**{texte_split[i]}**'\n",
    "        \n",
    "        #Insérer ici\n",
    "        \n",
    "\n",
    "    pierre_indice = []\n",
    "    texte_indice= []\n",
    "\n",
    "    pierre_mot = []\n",
    "    texte_mot = []\n",
    "\n",
    "    for idx1, word1 in enumerate(texte_split):\n",
    "        for idx2, word2 in enumerate(pierre_split):\n",
    "            similarity = textdistance.levenshtein.normalized_similarity(word1, word2)\n",
    "            if 0.8 <= similarity < 1 and word1 in texte_split and word2 in pierre_split:\n",
    "                pierre_indice.append(idx2)\n",
    "                texte_indice.append(idx1)\n",
    "                pierre_mot.append(word2)\n",
    "                texte_mot.append(word1)\n",
    "\n",
    "\n",
    "    tex = []\n",
    "    pie = []\n",
    "    for i in range(len(pierre_indice)):\n",
    "\n",
    "        inter_tex = []\n",
    "        inter_pie = []\n",
    "\n",
    "        if texte_indice[i] == taille_texte-1 and texte_split[texte_indice[i]-1] == pierre_split[pierre_indice[i]-1] and texte_split[texte_indice[i]-2] == pierre_split[pierre_indice[i]-2]:\n",
    "\n",
    "            inter_tex.append(texte_indice[i])\n",
    "            inter_pie.append(pierre_indice[i]) \n",
    "            value = 1\n",
    "            while texte_split[texte_indice[i]-value] == pierre_split[pierre_indice[i]-value]:\n",
    "                inter_tex.append(texte_indice[i]-value)\n",
    "                inter_pie.append(pierre_indice[i]-value)\n",
    "                value+=1\n",
    "\n",
    "        elif texte_indice[i] == taille_texte -2 and texte_split[texte_indice[i] + 1] == pierre_split[pierre_indice[i] +1 ] and texte_split[texte_indice[i]-1] == pierre_split[pierre_indice[i]-1]:\n",
    "            inter_tex.append(texte_indice[i]+1)\n",
    "            inter_tex.append(texte_indice[i])\n",
    "            inter_pie.append(pierre_indice[i]+1)\n",
    "            inter_pie.append(pierre_indice[i])\n",
    "\n",
    "            value = 1\n",
    "            while texte_split[texte_indice[i]-value] == pierre_split[pierre_indice[i]-value]:\n",
    "                inter_tex.append(texte_indice[i]-value)\n",
    "                inter_pie.append(pierre_indice[i]-value)\n",
    "                value+=1 \n",
    "\n",
    "        elif texte_indice[i] == 0 and texte_split[texte_indice[i]+1] == pierre_split[pierre_indice[i]+1] and texte_split[texte_indice[i]+2] == pierre_split[pierre_indice[i]+2]:\n",
    "            inter_tex.append(texte_indice[i])\n",
    "            inter_pie.append(pierre_indice[i])\n",
    "\n",
    "            value = 1\n",
    "            while texte_split[texte_indice[i]+value] == pierre_split[pierre_indice[i]+value]:\n",
    "                inter_tex.append(texte_indice[i]+value)\n",
    "                inter_pie.append(pierre_indice[i]+value)\n",
    "                value+=1\n",
    "\n",
    "        elif texte_indice[i] == 1 and texte_split[texte_indice[i]-1] == pierre_split[pierre_indice[i]-1] and texte_split[texte_indice[i]+1] == pierre_split[pierre_indice[i]+1]:\n",
    "            inter_tex.append(texte_indice[i]-1)\n",
    "            inter_tex.append(texte_indice[i])\n",
    "            inter_pie.append(pierre_indice[i]-1)\n",
    "            inter_pie.append(pierre_indice[i])\n",
    "\n",
    "            value = 1\n",
    "            while texte_split[texte_indice[i]+value] == pierre_split[pierre_indice[i]+value]:\n",
    "                inter_tex.append(texte_indice[i]+value)\n",
    "                inter_pie.append(pierre_indice[i]+value)\n",
    "                value+=1\n",
    "\n",
    "\n",
    "        elif texte_indice[i]+ 2 < taille_texte and pierre_indice[i]+2 < taille_pierre and texte_split[texte_indice[i]+1] == pierre_split[pierre_indice[i]+1] and texte_split[texte_indice[i]-1] != pierre_split[pierre_indice[i]-1] and texte_split[texte_indice[i]+2] == pierre_split[pierre_indice[i]+2]:\n",
    "            inter_tex.append(texte_indice[i])\n",
    "            inter_pie.append(pierre_indice[i])\n",
    "            value = 1\n",
    "            while texte_indice[i]+value < taille_texte and pierre_indice[i]+value < taille_pierre and texte_split[texte_indice[i]+value] == pierre_split[pierre_indice[i]+value]:\n",
    "                inter_tex.append(texte_indice[i]+value)\n",
    "                inter_pie.append(pierre_indice[i]+value)\n",
    "                value+=1\n",
    "                \n",
    "        elif texte_split[texte_indice[i]-1] == pierre_indice[i]-1 and texte_split[texte_indice[i]+1] != pierre_split[pierre_indice[i]+1] and texte_split[texte_indice[i]-2] == pierre_split[pierre_indice[i]-2]:\n",
    "            inter_tex.append(texte_indice[i])\n",
    "            inter_pie.append(pierre_indice[i])\n",
    "            value = 1\n",
    "            while texte_indice[i]+value < taille_texte and pierre_indice[i]+value < taille_pierre and texte_split[texte_indice[i]-value] == pierre_split[pierre_indice[i]-value]:\n",
    "                inter_tex.append(texte_indice[i]-value)\n",
    "                inter_pie.append(pierre_indice[i]-value)\n",
    "                value+=1\n",
    "\n",
    "        elif texte_split[texte_indice[i]-1] == pierre_indice[i]-1 and texte_split[texte_indice[i]+1] == pierre_split[pierre_indice[i]+1]:\n",
    "            inter_tex.append(texte_indice[i]-1)\n",
    "            inter_pie.append(pierre_indice[i]-1)\n",
    "            inter_tex.append(texte_indice[i])\n",
    "            inter_pie.append(pierre_indice[i])        \n",
    "            inter_tex.append(texte_indice[i]+1)\n",
    "            inter_pie.append(pierre_indice[i]+1)\n",
    "\n",
    "            value = 2\n",
    "            while texte_indice[i]+value < taille_texte and pierre_indice[i]+value < taille_pierre and texte_split[texte_indice[i]-value] == pierre_split[pierre_indice[i]-value]:\n",
    "                inter_tex.insert(0,texte_indice[i]-value)\n",
    "                inter_pie.insert(0,pierre_indice[i]-value)\n",
    "                value+=1\n",
    "            value = 2\n",
    "            while texte_indice[i]+value < taille_texte and pierre_indice[i]+value < taille_pierre and texte_split[texte_indice[i]+value] == pierre_split[pierre_indice[i]+value]:\n",
    "                inter_tex.insert(0,texte_indice[i]+value)\n",
    "                inter_pie.insert(0,pierre_indice[i]+value)\n",
    "                value +=1\n",
    "\n",
    "        tex.extend(inter_tex)   \n",
    "        pie.extend(inter_pie)\n",
    "        \n",
    "    unique_texte = [value for value in tex if value not in index_texte]\n",
    "    unique_pierre = [value for value in pie if value not in index_pierre]\n",
    "    \n",
    "    for i in unique_pierre:\n",
    "        pierre_split[i] = f'**{pierre_split[i]}**'\n",
    "    for i in unique_texte:\n",
    "        texte_split[i] = f'**{texte_split[i]}**'\n",
    "   \n",
    "\n",
    "    texte_final = ' '.join(texte_split)\n",
    "\n",
    "    pierre_final = ' '.join(pierre_split)\n",
    "\n",
    "\n",
    "    return [transformer_asterisques(texte_split), transformer_asterisques(pierre_split)]"
   ]
  },
  {
   "cell_type": "code",
   "execution_count": 39,
   "id": "da53a07c",
   "metadata": {},
   "outputs": [],
   "source": [
    "from fonctions import *"
   ]
  },
  {
   "cell_type": "code",
   "execution_count": null,
   "id": "588b171f",
   "metadata": {},
   "outputs": [],
   "source": []
  },
  {
   "cell_type": "code",
   "execution_count": 46,
   "id": "f4589b97",
   "metadata": {},
   "outputs": [],
   "source": [
    "file = '/home/noe/Documents/2022-2023/ENC/Mémoire/Dataframes/PDV_grams.xlsx'\n",
    "viard = '/home/noe/Documents/2022-2023/ENC/Mémoire/Dataframes/Viard_grams.xlsx'\n",
    "\n",
    "def delete_items_with_prefix(dictionnaire, prefix):\n",
    "    keys_to_delete = [key for key in dictionnaire if key.startswith(prefix)]\n",
    "    for key in keys_to_delete:\n",
    "        del dictionnaire[key]\n",
    "\n",
    "\n",
    "def is_single_word(s):\n",
    "    return isinstance(s, str) and len(s.split()) == 1\n",
    "\n",
    "def keys_with_single_word_value(dictionary):\n",
    "    single_word_keys = []\n",
    "    for key, value in dictionary.items():\n",
    "        if is_single_word(value):\n",
    "            single_word_keys.append(key)\n",
    "    return single_word_keys\n",
    "\n",
    "df_pdv = pd.read_excel(file)\n",
    "df_viard = pd.read_excel(viard)\n",
    "\n",
    "df = pd.DataFrame({'texts':df_pdv['textes'],'clean_PDV': df_pdv['textes'].apply(clean_text)})\n",
    "\n",
    "pdv = {}\n",
    "for i in range(len(df)):\n",
    "    for sentence in df['clean_PDV'][i]:\n",
    "        pdv[f'pdv_{i+1}_{df[\"clean_PDV\"][i].index(sentence)+1}'] = sentence\n",
    "        \n",
    "df2 = pd.DataFrame({'viard_texts':df_viard['text'],'clean_viard':df_viard['text'].apply(clean_text)})\n",
    "\n",
    "column_without_brackets = [[string.replace('[', '').replace(']', '').lstrip().rstrip() for string in sublist] for sublist in df2['clean_viard']]\n",
    "\n",
    "df2['clean'] = column_without_brackets\n",
    "viard = {}\n",
    "for i in range(len(df2)):\n",
    "    for sentence in df2['clean'][i]:        \n",
    "        viard[f'viard_{i+1}_{df2[\"clean\"][i].index(sentence)+1}'] = sentence\n",
    "\n",
    "\n",
    "unique_values = keys_with_single_word_value(viard)\n",
    "\n",
    "for i in range(len(unique_values)):\n",
    "    keys = list(viard.keys())\n",
    "    clé = keys.index(unique_values[i])\n",
    "    viard[keys[clé-1]] =  viard.get(keys[clé-1]) + ' ' + viard.get(unique_values[i])\n",
    "    del viard[keys[clé]]\n",
    "    \n",
    "\n",
    "delete_items_with_prefix(viard,'viard_30_')\n",
    "delete_items_with_prefix(viard,'viard_34_')\n",
    "delete_items_with_prefix(viard,'viard_38_')\n",
    "delete_items_with_prefix(viard,'viard_42_')\n",
    "delete_items_with_prefix(viard,'viard_43_')\n",
    "delete_items_with_prefix(viard,'viard_45_')\n",
    "delete_items_with_prefix(viard,'viard_54_')\n",
    "delete_items_with_prefix(viard,'viard_64_')\n",
    "delete_items_with_prefix(viard,'viard_65_')\n",
    "\n",
    "cles_a_supprimer = []\n",
    "\n",
    "for key, value in viard.items():\n",
    "    if len(value.split()) == 2:\n",
    "        cles_a_supprimer.append(key)\n",
    "\n",
    "for i in range(len(cles_a_supprimer)):\n",
    "    keys = list(viard.keys())\n",
    "    clé = keys.index(cles_a_supprimer[i])\n",
    "    viard[keys[clé-1]] =  viard.get(keys[clé-1]) + ' ' + viard.get(cles_a_supprimer[i])\n",
    "    del viard[keys[clé]]"
   ]
  },
  {
   "cell_type": "code",
   "execution_count": 40,
   "id": "5c7f28d8",
   "metadata": {},
   "outputs": [],
   "source": [
    "def copier_elements(liste):\n",
    "    nouvelles_copies = []\n",
    "\n",
    "    for element in liste:\n",
    "        nouvelles_copies.extend([element] * len(pdv))\n",
    "\n",
    "    return nouvelles_copies"
   ]
  },
  {
   "cell_type": "code",
   "execution_count": 41,
   "id": "2bb3676c",
   "metadata": {},
   "outputs": [],
   "source": [
    "def avoir_trigram_commun(phrase1, phrase2):\n",
    "    trigrams_phrase1 = set(tuple(phrase1.split()[i:i+3]) for i in range(len(phrase1.split()) - 2))\n",
    "    trigrams_phrase2 = set(tuple(phrase2.split()[i:i+3]) for i in range(len(phrase2.split()) - 2))\n",
    "    \n",
    "    return bool(trigrams_phrase1 & trigrams_phrase2)"
   ]
  },
  {
   "cell_type": "code",
   "execution_count": 55,
   "id": "31f196db",
   "metadata": {},
   "outputs": [],
   "source": [
    "liste_pdv = list(pdv.values())*len(viard)\n",
    "cles_pdv = list(pdv.keys())*len(viard)"
   ]
  },
  {
   "cell_type": "code",
   "execution_count": 56,
   "id": "138c15bf",
   "metadata": {},
   "outputs": [],
   "source": [
    "liste_viard = copier_elements(list(viard.values()))\n",
    "cles_viard = copier_elements(list(viard.keys()))"
   ]
  },
  {
   "cell_type": "code",
   "execution_count": 46,
   "id": "cd88fc74",
   "metadata": {},
   "outputs": [],
   "source": [
    "compare = pd.DataFrame({'viard':liste_viard,'pdv':liste_pdv})"
   ]
  },
  {
   "cell_type": "code",
   "execution_count": 52,
   "id": "04889a33",
   "metadata": {},
   "outputs": [],
   "source": [
    "compare['trigram_commun'] = compare.apply(lambda row: avoir_trigram_commun(row[\"viard\"], row[\"pdv\"]), axis=1)"
   ]
  },
  {
   "cell_type": "code",
   "execution_count": 57,
   "id": "2f777a74",
   "metadata": {},
   "outputs": [],
   "source": [
    "compare['key_viard'] = cles_viard"
   ]
  },
  {
   "cell_type": "code",
   "execution_count": 58,
   "id": "d64232a0",
   "metadata": {},
   "outputs": [],
   "source": [
    "compare['key_pdv'] = cles_pdv"
   ]
  },
  {
   "cell_type": "code",
   "execution_count": 60,
   "id": "bba07589",
   "metadata": {},
   "outputs": [],
   "source": [
    "compare = compare[['key_viard','viard','key_pdv','pdv','trigram_commun']]"
   ]
  },
  {
   "cell_type": "code",
   "execution_count": 62,
   "id": "4a55f708",
   "metadata": {},
   "outputs": [],
   "source": [
    "true = compare[compare['trigram_commun'] == True]"
   ]
  },
  {
   "cell_type": "code",
   "execution_count": 65,
   "id": "84debcbb",
   "metadata": {},
   "outputs": [],
   "source": [
    "true = true.reset_index(drop=True)"
   ]
  },
  {
   "cell_type": "code",
   "execution_count": 67,
   "id": "28f3752e",
   "metadata": {},
   "outputs": [],
   "source": [
    "true.to_excel('pdv_viard_trigram.xlsx')"
   ]
  },
  {
   "cell_type": "code",
   "execution_count": 85,
   "id": "4d70ce7f",
   "metadata": {},
   "outputs": [
    {
     "name": "stderr",
     "output_type": "stream",
     "text": [
      "1410it [14:29,  1.62it/s]"
     ]
    },
    {
     "name": "stdout",
     "output_type": "stream",
     "text": [
      "       key_viard                                              viard  \\\n",
      "0      viard_1_1  philippus ualesii et andegauie comes francie e...   \n",
      "1      viard_1_1  philippus ualesii et andegauie comes francie e...   \n",
      "2      viard_1_1  philippus ualesii et andegauie comes francie e...   \n",
      "3      viard_1_1  philippus ualesii et andegauie comes francie e...   \n",
      "4      viard_1_1  philippus ualesii et andegauie comes francie e...   \n",
      "...          ...                                                ...   \n",
      "1405  viard_63_4  et ut ipsi fratres et dicta eorum posteritas s...   \n",
      "1406  viard_63_4  et ut ipsi fratres et dicta eorum posteritas s...   \n",
      "1407  viard_63_4  et ut ipsi fratres et dicta eorum posteritas s...   \n",
      "1408  viard_63_4  et ut ipsi fratres et dicta eorum posteritas s...   \n",
      "1409  viard_63_7  et nos habito respectu ad predicta grata serui...   \n",
      "\n",
      "        key_pdv                                                pdv  \\\n",
      "0      pdv_62_5  et ut super hoc de cordibus suis omnis rancori...   \n",
      "1     pdv_158_3  duximus statuendum tibi presentibus committent...   \n",
      "2     pdv_218_4  nuper autem sicut ex eius assertione comperimu...   \n",
      "3     pdv_218_5  eo itaque supplicante super hoc sibi per nostr...   \n",
      "4     pdv_227_2  miles fidelis noster celsitudini nostrae humil...   \n",
      "...         ...                                                ...   \n",
      "1405  pdv_283_1  cum nomina castellanorum iurisdictionis tuae e...   \n",
      "1406  pdv_317_1  benigne receptis litteris quas nuper tua deuot...   \n",
      "1407  pdv_340_2  hac itaque consideratione commoti confinia reg...   \n",
      "1408  pdv_353_2  quocirca fidelitati uestrae precipiendo mandam...   \n",
      "1409    pdv_8_3  nos igitur qui de nostrorum subiectorum conuer...   \n",
      "\n",
      "      trigram_commun                                           resultat  \n",
      "0               True  [[philippus, ualesii, et, andegauie, comes, fr...  \n",
      "1               True  [[philippus, ualesii, et, andegauie, comes, fr...  \n",
      "2               True  [[philippus, ualesii, et, andegauie, comes, fr...  \n",
      "3               True  [[philippus, ualesii, et, andegauie, comes, fr...  \n",
      "4               True  [[philippus, ualesii, et, andegauie, comes, fr...  \n",
      "...              ...                                                ...  \n",
      "1405            True  [[et, ut, ipsi, fratres, et, dicta, eorum, pos...  \n",
      "1406            True  [[et, ut, ipsi, fratres, et, dicta, eorum, pos...  \n",
      "1407            True  [[et, ut, ipsi, fratres, et, dicta, eorum, pos...  \n",
      "1408            True  [[et, ut, ipsi, fratres, et, dicta, eorum, pos...  \n",
      "1409            True  [[et, nos, habito, respectu, ad, predicta, gra...  \n",
      "\n",
      "[1410 rows x 6 columns]\n"
     ]
    },
    {
     "name": "stderr",
     "output_type": "stream",
     "text": [
      "\n"
     ]
    }
   ],
   "source": [
    "resultats = []\n",
    "for index, row in tqdm(true.iterrows()):\n",
    "    try:\n",
    "        resultat = test_2(row[\"viard\"], row[\"pdv\"])\n",
    "        resultats.append(resultat)\n",
    "    except Exception as e:\n",
    "        print(f\"Erreur survenue pour la ligne {index}: {e}\")\n",
    "        resultats.append(None)\n",
    "\n",
    "true[\"resultat\"] = resultats"
   ]
  },
  {
   "cell_type": "code",
   "execution_count": 92,
   "id": "f0f168f1",
   "metadata": {},
   "outputs": [],
   "source": [
    "liste = true['resultat'][0]"
   ]
  },
  {
   "cell_type": "code",
   "execution_count": 42,
   "id": "37801cc1",
   "metadata": {},
   "outputs": [],
   "source": [
    "def compter_etoiles(liste):\n",
    "    compteur = 0\n",
    "    for element in liste[1]:\n",
    "        if isinstance(element, str) and element.startswith(\"*\"):\n",
    "            compteur += 1\n",
    "    return compteur"
   ]
  },
  {
   "cell_type": "code",
   "execution_count": 139,
   "id": "9e8a7056",
   "metadata": {},
   "outputs": [],
   "source": [
    "true['occurences'] = true['resultat'].apply(lambda x:compter_etoiles(x))"
   ]
  },
  {
   "cell_type": "code",
   "execution_count": 140,
   "id": "27298102",
   "metadata": {},
   "outputs": [],
   "source": [
    "true[['tri_viard','tri_pdv']] = true['resultat'].apply(lambda x:pd.Series(x))"
   ]
  },
  {
   "cell_type": "code",
   "execution_count": 43,
   "id": "f3468e78",
   "metadata": {},
   "outputs": [],
   "source": [
    "def join(liste):\n",
    "    return ' '.join(liste)"
   ]
  },
  {
   "cell_type": "code",
   "execution_count": 142,
   "id": "b0794bf2",
   "metadata": {},
   "outputs": [],
   "source": [
    "true['tri_viard'] = true['tri_viard'].apply(join)\n",
    "true['tri_pdv'] = true['tri_pdv'].apply(join)"
   ]
  },
  {
   "cell_type": "markdown",
   "id": "f81229ea",
   "metadata": {},
   "source": [
    "# Guerin"
   ]
  },
  {
   "cell_type": "code",
   "execution_count": 44,
   "id": "157cc6dd",
   "metadata": {},
   "outputs": [],
   "source": [
    "guerin = '/home/noe/Documents/2022-2023/ENC/Mémoire/Dataframes/Guerin_grams.xlsx'\n",
    "df_guerin = pd.read_excel(guerin)\n",
    "df2 = pd.DataFrame({'guerin_texts':df_guerin['text'],'clean_guerin':df_guerin['text'].apply(clean_text)})\n",
    "column_without_brackets = [[string.replace('[', '').replace(']', '').lstrip().rstrip() for string in sublist] for sublist in df2['clean_guerin']]\n",
    "df2['clean'] = column_without_brackets\n",
    "\n",
    "guerin = {}\n",
    "for i in range(len(df2)):\n",
    "    for sentence in df2['clean'][i]:        \n",
    "        guerin[f'guerin_{i+1}_{df2[\"clean\"][i].index(sentence)+1}'] = sentence\n"
   ]
  },
  {
   "cell_type": "code",
   "execution_count": 47,
   "id": "cc01aebc",
   "metadata": {},
   "outputs": [],
   "source": [
    "unique_values = keys_with_single_word_value(guerin)\n",
    "\n",
    "for i in range(len(unique_values)):\n",
    "    keys = list(guerin.keys())\n",
    "    clé = keys.index(unique_values[i])\n",
    "    guerin[keys[clé-1]] =  guerin.get(keys[clé-1]) + ' ' + guerin.get(unique_values[i])\n",
    "    del guerin[keys[clé]]\n",
    "    \n",
    "cles_a_supprimer = []\n",
    "\n",
    "for key, value in guerin.items():\n",
    "    if len(value.split()) == 2:\n",
    "        cles_a_supprimer.append(key)\n",
    "\n",
    "for i in range(len(cles_a_supprimer)):\n",
    "    keys = list(guerin.keys())\n",
    "    clé = keys.index(cles_a_supprimer[i])\n",
    "    guerin[keys[clé-1]] =  guerin.get(keys[clé-1]) + ' ' + guerin.get(cles_a_supprimer[i])\n",
    "    del guerin[keys[clé]]   "
   ]
  },
  {
   "cell_type": "code",
   "execution_count": 48,
   "id": "38dd4093",
   "metadata": {},
   "outputs": [],
   "source": [
    "liste_pdv = list(pdv.values())*len(guerin)\n",
    "cles_pdv = list(pdv.keys())*len(guerin)\n",
    "\n",
    "liste_guerin = copier_elements(list(guerin.values()))\n",
    "cles_guerin = copier_elements(list(guerin.keys()))"
   ]
  },
  {
   "cell_type": "code",
   "execution_count": 47,
   "id": "c2d7a44d",
   "metadata": {},
   "outputs": [
    {
     "name": "stderr",
     "output_type": "stream",
     "text": [
      "3422it [30:03,  1.99it/s]"
     ]
    },
    {
     "name": "stdout",
     "output_type": "stream",
     "text": [
      "Erreur survenue pour la ligne 3421: list index out of range\n"
     ]
    },
    {
     "name": "stderr",
     "output_type": "stream",
     "text": [
      "5468it [53:07,  1.36s/it]"
     ]
    },
    {
     "name": "stdout",
     "output_type": "stream",
     "text": [
      "Erreur survenue pour la ligne 5467: name 'texte_15_split' is not defined\n"
     ]
    },
    {
     "name": "stderr",
     "output_type": "stream",
     "text": [
      "5470it [53:13,  2.18s/it]"
     ]
    },
    {
     "name": "stdout",
     "output_type": "stream",
     "text": [
      "Erreur survenue pour la ligne 5468: name 'texte_15_split' is not defined\n",
      "Erreur survenue pour la ligne 5469: name 'texte_15_split' is not defined\n"
     ]
    },
    {
     "name": "stderr",
     "output_type": "stream",
     "text": [
      "5472it [53:18,  2.20s/it]"
     ]
    },
    {
     "name": "stdout",
     "output_type": "stream",
     "text": [
      "Erreur survenue pour la ligne 5470: name 'texte_15_split' is not defined\n",
      "Erreur survenue pour la ligne 5471: name 'texte_15_split' is not defined\n"
     ]
    },
    {
     "name": "stderr",
     "output_type": "stream",
     "text": [
      "5477it [53:19,  1.58it/s]"
     ]
    },
    {
     "name": "stdout",
     "output_type": "stream",
     "text": [
      "Erreur survenue pour la ligne 5472: name 'texte_15_split' is not defined\n"
     ]
    },
    {
     "name": "stderr",
     "output_type": "stream",
     "text": [
      "6786it [1:12:06,  3.85it/s]"
     ]
    },
    {
     "name": "stdout",
     "output_type": "stream",
     "text": [
      "Erreur survenue pour la ligne 6780: list index out of range\n"
     ]
    },
    {
     "name": "stderr",
     "output_type": "stream",
     "text": [
      "8138it [1:24:47,  3.00it/s]"
     ]
    },
    {
     "name": "stdout",
     "output_type": "stream",
     "text": [
      "Erreur survenue pour la ligne 8135: list index out of range\n"
     ]
    },
    {
     "name": "stderr",
     "output_type": "stream",
     "text": [
      "8242it [1:25:51,  1.11s/it]"
     ]
    },
    {
     "name": "stdout",
     "output_type": "stream",
     "text": [
      "Erreur survenue pour la ligne 8240: list index out of range\n"
     ]
    },
    {
     "name": "stderr",
     "output_type": "stream",
     "text": [
      "8270it [1:26:08,  1.17s/it]"
     ]
    },
    {
     "name": "stdout",
     "output_type": "stream",
     "text": [
      "Erreur survenue pour la ligne 8269: list index out of range\n"
     ]
    },
    {
     "name": "stderr",
     "output_type": "stream",
     "text": [
      "8415it [1:27:20,  1.02it/s]"
     ]
    },
    {
     "name": "stdout",
     "output_type": "stream",
     "text": [
      "Erreur survenue pour la ligne 8414: list index out of range\n"
     ]
    },
    {
     "name": "stderr",
     "output_type": "stream",
     "text": [
      "8550it [1:28:58,  1.10it/s]"
     ]
    },
    {
     "name": "stdout",
     "output_type": "stream",
     "text": [
      "Erreur survenue pour la ligne 8548: list index out of range\n"
     ]
    },
    {
     "name": "stderr",
     "output_type": "stream",
     "text": [
      "8671it [1:30:22,  1.08it/s]"
     ]
    },
    {
     "name": "stdout",
     "output_type": "stream",
     "text": [
      "Erreur survenue pour la ligne 8669: list index out of range\n"
     ]
    },
    {
     "name": "stderr",
     "output_type": "stream",
     "text": [
      "8728it [1:31:07,  1.22s/it]"
     ]
    },
    {
     "name": "stdout",
     "output_type": "stream",
     "text": [
      "Erreur survenue pour la ligne 8726: list index out of range\n"
     ]
    },
    {
     "name": "stderr",
     "output_type": "stream",
     "text": [
      "8739it [1:31:11,  1.60it/s]\n"
     ]
    },
    {
     "ename": "TypeError",
     "evalue": "'NoneType' object is not subscriptable",
     "output_type": "error",
     "traceback": [
      "\u001b[0;31m---------------------------------------------------------------------------\u001b[0m",
      "\u001b[0;31mTypeError\u001b[0m                                 Traceback (most recent call last)",
      "\u001b[0;32m/tmp/ipykernel_50592/2370074275.py\u001b[0m in \u001b[0;36m<module>\u001b[0;34m\u001b[0m\n\u001b[1;32m     17\u001b[0m \u001b[0;34m\u001b[0m\u001b[0m\n\u001b[1;32m     18\u001b[0m \u001b[0mmichelle_2\u001b[0m\u001b[0;34m[\u001b[0m\u001b[0;34m\"resultat\"\u001b[0m\u001b[0;34m]\u001b[0m \u001b[0;34m=\u001b[0m \u001b[0mresultats\u001b[0m\u001b[0;34m\u001b[0m\u001b[0;34m\u001b[0m\u001b[0m\n\u001b[0;32m---> 19\u001b[0;31m \u001b[0mmichelle_2\u001b[0m\u001b[0;34m[\u001b[0m\u001b[0;34m'occurences'\u001b[0m\u001b[0;34m]\u001b[0m \u001b[0;34m=\u001b[0m \u001b[0mmichelle_2\u001b[0m\u001b[0;34m[\u001b[0m\u001b[0;34m'resultat'\u001b[0m\u001b[0;34m]\u001b[0m\u001b[0;34m.\u001b[0m\u001b[0mapply\u001b[0m\u001b[0;34m(\u001b[0m\u001b[0;32mlambda\u001b[0m \u001b[0mx\u001b[0m\u001b[0;34m:\u001b[0m\u001b[0mcompter_etoiles\u001b[0m\u001b[0;34m(\u001b[0m\u001b[0mx\u001b[0m\u001b[0;34m)\u001b[0m\u001b[0;34m)\u001b[0m\u001b[0;34m\u001b[0m\u001b[0;34m\u001b[0m\u001b[0m\n\u001b[0m\u001b[1;32m     20\u001b[0m \u001b[0mmichelle\u001b[0m\u001b[0;34m[\u001b[0m\u001b[0;34m[\u001b[0m\u001b[0;34m'tri_guerin'\u001b[0m\u001b[0;34m,\u001b[0m\u001b[0;34m'tri_pdv'\u001b[0m\u001b[0;34m]\u001b[0m\u001b[0;34m]\u001b[0m \u001b[0;34m=\u001b[0m \u001b[0mmichelle_2\u001b[0m\u001b[0;34m[\u001b[0m\u001b[0;34m'resultat'\u001b[0m\u001b[0;34m]\u001b[0m\u001b[0;34m.\u001b[0m\u001b[0mapply\u001b[0m\u001b[0;34m(\u001b[0m\u001b[0;32mlambda\u001b[0m \u001b[0mx\u001b[0m\u001b[0;34m:\u001b[0m\u001b[0mpd\u001b[0m\u001b[0;34m.\u001b[0m\u001b[0mSeries\u001b[0m\u001b[0;34m(\u001b[0m\u001b[0mx\u001b[0m\u001b[0;34m)\u001b[0m\u001b[0;34m)\u001b[0m\u001b[0;34m\u001b[0m\u001b[0;34m\u001b[0m\u001b[0m\n\u001b[1;32m     21\u001b[0m \u001b[0mmichelle_2\u001b[0m\u001b[0;34m[\u001b[0m\u001b[0;34m'tri_guerin'\u001b[0m\u001b[0;34m]\u001b[0m \u001b[0;34m=\u001b[0m \u001b[0mmichelle_2\u001b[0m\u001b[0;34m[\u001b[0m\u001b[0;34m'tri_viard'\u001b[0m\u001b[0;34m]\u001b[0m\u001b[0;34m.\u001b[0m\u001b[0mapply\u001b[0m\u001b[0;34m(\u001b[0m\u001b[0mjoin\u001b[0m\u001b[0;34m)\u001b[0m\u001b[0;34m\u001b[0m\u001b[0;34m\u001b[0m\u001b[0m\n",
      "\u001b[0;32m~/python/miniconda/envs/coursnlp/lib/python3.7/site-packages/pandas/core/series.py\u001b[0m in \u001b[0;36mapply\u001b[0;34m(self, func, convert_dtype, args, **kwargs)\u001b[0m\n\u001b[1;32m   4355\u001b[0m         \u001b[0mdtype\u001b[0m\u001b[0;34m:\u001b[0m \u001b[0mfloat64\u001b[0m\u001b[0;34m\u001b[0m\u001b[0;34m\u001b[0m\u001b[0m\n\u001b[1;32m   4356\u001b[0m         \"\"\"\n\u001b[0;32m-> 4357\u001b[0;31m         \u001b[0;32mreturn\u001b[0m \u001b[0mSeriesApply\u001b[0m\u001b[0;34m(\u001b[0m\u001b[0mself\u001b[0m\u001b[0;34m,\u001b[0m \u001b[0mfunc\u001b[0m\u001b[0;34m,\u001b[0m \u001b[0mconvert_dtype\u001b[0m\u001b[0;34m,\u001b[0m \u001b[0margs\u001b[0m\u001b[0;34m,\u001b[0m \u001b[0mkwargs\u001b[0m\u001b[0;34m)\u001b[0m\u001b[0;34m.\u001b[0m\u001b[0mapply\u001b[0m\u001b[0;34m(\u001b[0m\u001b[0;34m)\u001b[0m\u001b[0;34m\u001b[0m\u001b[0;34m\u001b[0m\u001b[0m\n\u001b[0m\u001b[1;32m   4358\u001b[0m \u001b[0;34m\u001b[0m\u001b[0m\n\u001b[1;32m   4359\u001b[0m     def _reduce(\n",
      "\u001b[0;32m~/python/miniconda/envs/coursnlp/lib/python3.7/site-packages/pandas/core/apply.py\u001b[0m in \u001b[0;36mapply\u001b[0;34m(self)\u001b[0m\n\u001b[1;32m   1041\u001b[0m             \u001b[0;32mreturn\u001b[0m \u001b[0mself\u001b[0m\u001b[0;34m.\u001b[0m\u001b[0mapply_str\u001b[0m\u001b[0;34m(\u001b[0m\u001b[0;34m)\u001b[0m\u001b[0;34m\u001b[0m\u001b[0;34m\u001b[0m\u001b[0m\n\u001b[1;32m   1042\u001b[0m \u001b[0;34m\u001b[0m\u001b[0m\n\u001b[0;32m-> 1043\u001b[0;31m         \u001b[0;32mreturn\u001b[0m \u001b[0mself\u001b[0m\u001b[0;34m.\u001b[0m\u001b[0mapply_standard\u001b[0m\u001b[0;34m(\u001b[0m\u001b[0;34m)\u001b[0m\u001b[0;34m\u001b[0m\u001b[0;34m\u001b[0m\u001b[0m\n\u001b[0m\u001b[1;32m   1044\u001b[0m \u001b[0;34m\u001b[0m\u001b[0m\n\u001b[1;32m   1045\u001b[0m     \u001b[0;32mdef\u001b[0m \u001b[0magg\u001b[0m\u001b[0;34m(\u001b[0m\u001b[0mself\u001b[0m\u001b[0;34m)\u001b[0m\u001b[0;34m:\u001b[0m\u001b[0;34m\u001b[0m\u001b[0;34m\u001b[0m\u001b[0m\n",
      "\u001b[0;32m~/python/miniconda/envs/coursnlp/lib/python3.7/site-packages/pandas/core/apply.py\u001b[0m in \u001b[0;36mapply_standard\u001b[0;34m(self)\u001b[0m\n\u001b[1;32m   1099\u001b[0m                     \u001b[0mvalues\u001b[0m\u001b[0;34m,\u001b[0m\u001b[0;34m\u001b[0m\u001b[0;34m\u001b[0m\u001b[0m\n\u001b[1;32m   1100\u001b[0m                     \u001b[0mf\u001b[0m\u001b[0;34m,\u001b[0m  \u001b[0;31m# type: ignore[arg-type]\u001b[0m\u001b[0;34m\u001b[0m\u001b[0;34m\u001b[0m\u001b[0m\n\u001b[0;32m-> 1101\u001b[0;31m                     \u001b[0mconvert\u001b[0m\u001b[0;34m=\u001b[0m\u001b[0mself\u001b[0m\u001b[0;34m.\u001b[0m\u001b[0mconvert_dtype\u001b[0m\u001b[0;34m,\u001b[0m\u001b[0;34m\u001b[0m\u001b[0;34m\u001b[0m\u001b[0m\n\u001b[0m\u001b[1;32m   1102\u001b[0m                 )\n\u001b[1;32m   1103\u001b[0m \u001b[0;34m\u001b[0m\u001b[0m\n",
      "\u001b[0;32m~/python/miniconda/envs/coursnlp/lib/python3.7/site-packages/pandas/_libs/lib.pyx\u001b[0m in \u001b[0;36mpandas._libs.lib.map_infer\u001b[0;34m()\u001b[0m\n",
      "\u001b[0;32m/tmp/ipykernel_50592/2370074275.py\u001b[0m in \u001b[0;36m<lambda>\u001b[0;34m(x)\u001b[0m\n\u001b[1;32m     17\u001b[0m \u001b[0;34m\u001b[0m\u001b[0m\n\u001b[1;32m     18\u001b[0m \u001b[0mmichelle_2\u001b[0m\u001b[0;34m[\u001b[0m\u001b[0;34m\"resultat\"\u001b[0m\u001b[0;34m]\u001b[0m \u001b[0;34m=\u001b[0m \u001b[0mresultats\u001b[0m\u001b[0;34m\u001b[0m\u001b[0;34m\u001b[0m\u001b[0m\n\u001b[0;32m---> 19\u001b[0;31m \u001b[0mmichelle_2\u001b[0m\u001b[0;34m[\u001b[0m\u001b[0;34m'occurences'\u001b[0m\u001b[0;34m]\u001b[0m \u001b[0;34m=\u001b[0m \u001b[0mmichelle_2\u001b[0m\u001b[0;34m[\u001b[0m\u001b[0;34m'resultat'\u001b[0m\u001b[0;34m]\u001b[0m\u001b[0;34m.\u001b[0m\u001b[0mapply\u001b[0m\u001b[0;34m(\u001b[0m\u001b[0;32mlambda\u001b[0m \u001b[0mx\u001b[0m\u001b[0;34m:\u001b[0m\u001b[0mcompter_etoiles\u001b[0m\u001b[0;34m(\u001b[0m\u001b[0mx\u001b[0m\u001b[0;34m)\u001b[0m\u001b[0;34m)\u001b[0m\u001b[0;34m\u001b[0m\u001b[0;34m\u001b[0m\u001b[0m\n\u001b[0m\u001b[1;32m     20\u001b[0m \u001b[0mmichelle\u001b[0m\u001b[0;34m[\u001b[0m\u001b[0;34m[\u001b[0m\u001b[0;34m'tri_guerin'\u001b[0m\u001b[0;34m,\u001b[0m\u001b[0;34m'tri_pdv'\u001b[0m\u001b[0;34m]\u001b[0m\u001b[0;34m]\u001b[0m \u001b[0;34m=\u001b[0m \u001b[0mmichelle_2\u001b[0m\u001b[0;34m[\u001b[0m\u001b[0;34m'resultat'\u001b[0m\u001b[0;34m]\u001b[0m\u001b[0;34m.\u001b[0m\u001b[0mapply\u001b[0m\u001b[0;34m(\u001b[0m\u001b[0;32mlambda\u001b[0m \u001b[0mx\u001b[0m\u001b[0;34m:\u001b[0m\u001b[0mpd\u001b[0m\u001b[0;34m.\u001b[0m\u001b[0mSeries\u001b[0m\u001b[0;34m(\u001b[0m\u001b[0mx\u001b[0m\u001b[0;34m)\u001b[0m\u001b[0;34m)\u001b[0m\u001b[0;34m\u001b[0m\u001b[0;34m\u001b[0m\u001b[0m\n\u001b[1;32m     21\u001b[0m \u001b[0mmichelle_2\u001b[0m\u001b[0;34m[\u001b[0m\u001b[0;34m'tri_guerin'\u001b[0m\u001b[0;34m]\u001b[0m \u001b[0;34m=\u001b[0m \u001b[0mmichelle_2\u001b[0m\u001b[0;34m[\u001b[0m\u001b[0;34m'tri_viard'\u001b[0m\u001b[0;34m]\u001b[0m\u001b[0;34m.\u001b[0m\u001b[0mapply\u001b[0m\u001b[0;34m(\u001b[0m\u001b[0mjoin\u001b[0m\u001b[0;34m)\u001b[0m\u001b[0;34m\u001b[0m\u001b[0;34m\u001b[0m\u001b[0m\n",
      "\u001b[0;32m/tmp/ipykernel_50592/217917408.py\u001b[0m in \u001b[0;36mcompter_etoiles\u001b[0;34m(liste)\u001b[0m\n\u001b[1;32m      1\u001b[0m \u001b[0;32mdef\u001b[0m \u001b[0mcompter_etoiles\u001b[0m\u001b[0;34m(\u001b[0m\u001b[0mliste\u001b[0m\u001b[0;34m)\u001b[0m\u001b[0;34m:\u001b[0m\u001b[0;34m\u001b[0m\u001b[0;34m\u001b[0m\u001b[0m\n\u001b[1;32m      2\u001b[0m     \u001b[0mcompteur\u001b[0m \u001b[0;34m=\u001b[0m \u001b[0;36m0\u001b[0m\u001b[0;34m\u001b[0m\u001b[0;34m\u001b[0m\u001b[0m\n\u001b[0;32m----> 3\u001b[0;31m     \u001b[0;32mfor\u001b[0m \u001b[0melement\u001b[0m \u001b[0;32min\u001b[0m \u001b[0mliste\u001b[0m\u001b[0;34m[\u001b[0m\u001b[0;36m1\u001b[0m\u001b[0;34m]\u001b[0m\u001b[0;34m:\u001b[0m\u001b[0;34m\u001b[0m\u001b[0;34m\u001b[0m\u001b[0m\n\u001b[0m\u001b[1;32m      4\u001b[0m         \u001b[0;32mif\u001b[0m \u001b[0misinstance\u001b[0m\u001b[0;34m(\u001b[0m\u001b[0melement\u001b[0m\u001b[0;34m,\u001b[0m \u001b[0mstr\u001b[0m\u001b[0;34m)\u001b[0m \u001b[0;32mand\u001b[0m \u001b[0melement\u001b[0m\u001b[0;34m.\u001b[0m\u001b[0mstartswith\u001b[0m\u001b[0;34m(\u001b[0m\u001b[0;34m\"*\"\u001b[0m\u001b[0;34m)\u001b[0m\u001b[0;34m:\u001b[0m\u001b[0;34m\u001b[0m\u001b[0;34m\u001b[0m\u001b[0m\n\u001b[1;32m      5\u001b[0m             \u001b[0mcompteur\u001b[0m \u001b[0;34m+=\u001b[0m \u001b[0;36m1\u001b[0m\u001b[0;34m\u001b[0m\u001b[0;34m\u001b[0m\u001b[0m\n",
      "\u001b[0;31mTypeError\u001b[0m: 'NoneType' object is not subscriptable"
     ]
    }
   ],
   "source": [
    "michelle = pd.DataFrame({'guerin':liste_guerin,'pdv':liste_pdv})\n",
    "michelle['trigram_commun'] = michelle.apply(lambda row: avoir_trigram_commun(row[\"guerin\"], row[\"pdv\"]), axis=1)\n",
    "michelle['key_guerin'] = cles_guerin\n",
    "michelle['key_pdv'] = cles_pdv\n",
    "michelle = michelle[['key_guerin','guerin','key_pdv','pdv','trigram_commun']]\n",
    "michelle_2 = michelle[michelle['trigram_commun'] == True]\n",
    "michelle_2 = michelle_2.reset_index(drop=True)\n",
    "\n",
    "resultats = []\n",
    "for index, row in tqdm(michelle_2.iterrows()):\n",
    "    try:\n",
    "        resultat = test_2(row[\"guerin\"], row[\"pdv\"])\n",
    "        resultats.append(resultat)\n",
    "    except Exception as e:\n",
    "        print(f\"Erreur survenue pour la ligne {index}: {e}\")\n",
    "        resultats.append(None)\n",
    "\n",
    "michelle_2[\"resultat\"] = resultats"
   ]
  },
  {
   "cell_type": "code",
   "execution_count": 51,
   "id": "be63e52b",
   "metadata": {},
   "outputs": [],
   "source": [
    "michelle_2 = michelle_2.dropna(subset=['resultat'])"
   ]
  },
  {
   "cell_type": "code",
   "execution_count": 59,
   "id": "ffc23b85",
   "metadata": {},
   "outputs": [],
   "source": [
    "michelle_2['occurences'] = michelle_2['resultat'].apply(lambda x:compter_etoiles(x))\n",
    "michelle_2[['tri_guerin','tri_pdv']] = michelle_2['resultat'].apply(lambda x:pd.Series(x))\n",
    "michelle_2['tri_guerin'] = michelle_2['tri_guerin'].apply(join)\n",
    "michelle_2['tri_pdv'] = michelle_2['tri_pdv'].apply(join)\n"
   ]
  },
  {
   "cell_type": "code",
   "execution_count": 61,
   "id": "6da0f7e1",
   "metadata": {},
   "outputs": [],
   "source": [
    "michelle_2.to_excel('guerin_pdv.xlsx')"
   ]
  },
  {
   "cell_type": "code",
   "execution_count": 85,
   "id": "e97496b3",
   "metadata": {},
   "outputs": [
    {
     "data": {
      "image/png": "[encoded data removed]",
      "text/plain": [
       "<Figure size 1000x600 with 1 Axes>"
      ]
     },
     "metadata": {},
     "output_type": "display_data"
    }
   ],
   "source": [
    "data = dict(Counter(michelle_2['occurences'].tolist()).most_common())\n",
    "\n",
    "plot = pd.DataFrame(list(data.items()), columns=[\"taille des échantillons\", \"Nombre d'occurrences\"])\n",
    "\n",
    "plt.figure(figsize=(10, 6))\n",
    "sns.barplot(x=\"taille des échantillons\", y=\"Nombre d'occurrences\", data=plot)\n",
    "plt.ylabel(\"Logarithmic Value\")\n",
    "plt.yscale('log')\n",
    "plt.xlabel(\"taille des échantillons\")\n",
    "plt.title(\"Bar Plot with Logarithmic Values\")\n",
    "plt.xticks(rotation=45)\n",
    "\n",
    "plt.show()"
   ]
  },
  {
   "cell_type": "code",
   "execution_count": 105,
   "id": "6713b807",
   "metadata": {},
   "outputs": [
    {
     "data": {
      "text/html": [
       "<div>\n",
       "<style scoped>\n",
       "    .dataframe tbody tr th:only-of-type {\n",
       "        vertical-align: middle;\n",
       "    }\n",
       "\n",
       "    .dataframe tbody tr th {\n",
       "        vertical-align: top;\n",
       "    }\n",
       "\n",
       "    .dataframe thead th {\n",
       "        text-align: right;\n",
       "    }\n",
       "</style>\n",
       "<table border=\"1\" class=\"dataframe\">\n",
       "  <thead>\n",
       "    <tr style=\"text-align: right;\">\n",
       "      <th></th>\n",
       "      <th>key_guerin</th>\n",
       "      <th>guerin</th>\n",
       "      <th>key_pdv</th>\n",
       "      <th>pdv</th>\n",
       "      <th>trigram_commun</th>\n",
       "      <th>resultat</th>\n",
       "      <th>occurences</th>\n",
       "      <th>tri_guerin</th>\n",
       "      <th>tri_pdv</th>\n",
       "    </tr>\n",
       "  </thead>\n",
       "  <tbody>\n",
       "    <tr>\n",
       "      <th>330</th>\n",
       "      <td>guerin_18_2</td>\n",
       "      <td>notum facimus uniuersis tam presentibus quam f...</td>\n",
       "      <td>pdv_337_3</td>\n",
       "      <td>hac itaque consideratione commoniti notum faci...</td>\n",
       "      <td>True</td>\n",
       "      <td>[[**notum**, **facimus**, **uniuersis**, **tam...</td>\n",
       "      <td>11</td>\n",
       "      <td>**notum** **facimus** **uniuersis** **tam** **...</td>\n",
       "      <td>hac itaque consideratione commoniti **notum** ...</td>\n",
       "    </tr>\n",
       "    <tr>\n",
       "      <th>331</th>\n",
       "      <td>guerin_18_2</td>\n",
       "      <td>notum facimus uniuersis tam presentibus quam f...</td>\n",
       "      <td>pdv_339_2</td>\n",
       "      <td>eapropter presenti priuilegio notum facimus un...</td>\n",
       "      <td>True</td>\n",
       "      <td>[[**notum**, **facimus**, **uniuersis**, **tam...</td>\n",
       "      <td>11</td>\n",
       "      <td>**notum** **facimus** **uniuersis** **tam** **...</td>\n",
       "      <td>eapropter presenti priuilegio **notum** **faci...</td>\n",
       "    </tr>\n",
       "    <tr>\n",
       "      <th>1519</th>\n",
       "      <td>guerin_83_2</td>\n",
       "      <td>notum facimus uniuersis tam presentibus quam f...</td>\n",
       "      <td>pdv_342_4</td>\n",
       "      <td>hac itaque ratione commoniti presenti priuileg...</td>\n",
       "      <td>True</td>\n",
       "      <td>[[**notum**, **facimus**, **uniuersis**, **tam...</td>\n",
       "      <td>11</td>\n",
       "      <td>**notum** **facimus** **uniuersis** **tam** **...</td>\n",
       "      <td>hac itaque ratione commoniti presenti priuileg...</td>\n",
       "    </tr>\n",
       "    <tr>\n",
       "      <th>2378</th>\n",
       "      <td>guerin_115_2</td>\n",
       "      <td>notum facimus uniuersis tam presentibus quam f...</td>\n",
       "      <td>pdv_339_2</td>\n",
       "      <td>eapropter presenti priuilegio notum facimus un...</td>\n",
       "      <td>True</td>\n",
       "      <td>[[**notum**, **facimus**, **uniuersis**, **tam...</td>\n",
       "      <td>11</td>\n",
       "      <td>**notum** **facimus** **uniuersis** **tam** **...</td>\n",
       "      <td>eapropter presenti priuilegio **notum** **faci...</td>\n",
       "    </tr>\n",
       "    <tr>\n",
       "      <th>3699</th>\n",
       "      <td>guerin_177_2</td>\n",
       "      <td>notum facimus uniuersis tam presentibus quam f...</td>\n",
       "      <td>pdv_339_2</td>\n",
       "      <td>eapropter presenti priuilegio notum facimus un...</td>\n",
       "      <td>True</td>\n",
       "      <td>[[**notum**, **facimus**, **uniuersis**, **tam...</td>\n",
       "      <td>11</td>\n",
       "      <td>**notum** **facimus** **uniuersis** **tam** **...</td>\n",
       "      <td>eapropter presenti priuilegio **notum** **faci...</td>\n",
       "    </tr>\n",
       "    <tr>\n",
       "      <th>3700</th>\n",
       "      <td>guerin_177_2</td>\n",
       "      <td>notum facimus uniuersis tam presentibus quam f...</td>\n",
       "      <td>pdv_342_4</td>\n",
       "      <td>hac itaque ratione commoniti presenti priuileg...</td>\n",
       "      <td>True</td>\n",
       "      <td>[[**notum**, **facimus**, **uniuersis**, **tam...</td>\n",
       "      <td>11</td>\n",
       "      <td>**notum** **facimus** **uniuersis** **tam** **...</td>\n",
       "      <td>hac itaque ratione commoniti presenti priuileg...</td>\n",
       "    </tr>\n",
       "    <tr>\n",
       "      <th>3797</th>\n",
       "      <td>guerin_181_2</td>\n",
       "      <td>notum facimus uniuersis tam presentibus quam f...</td>\n",
       "      <td>pdv_339_2</td>\n",
       "      <td>eapropter presenti priuilegio notum facimus un...</td>\n",
       "      <td>True</td>\n",
       "      <td>[[**notum**, **facimus**, **uniuersis**, **tam...</td>\n",
       "      <td>11</td>\n",
       "      <td>**notum** **facimus** **uniuersis** **tam** **...</td>\n",
       "      <td>eapropter presenti priuilegio **notum** **faci...</td>\n",
       "    </tr>\n",
       "    <tr>\n",
       "      <th>4214</th>\n",
       "      <td>guerin_197_2</td>\n",
       "      <td>notum facimus uniuersis tam presentibus quam f...</td>\n",
       "      <td>pdv_339_2</td>\n",
       "      <td>eapropter presenti priuilegio notum facimus un...</td>\n",
       "      <td>True</td>\n",
       "      <td>[[**notum**, **facimus**, **uniuersis**, **tam...</td>\n",
       "      <td>11</td>\n",
       "      <td>**notum** **facimus** **uniuersis** **tam** **...</td>\n",
       "      <td>eapropter presenti priuilegio **notum** **faci...</td>\n",
       "    </tr>\n",
       "    <tr>\n",
       "      <th>4521</th>\n",
       "      <td>guerin_209_2</td>\n",
       "      <td>notum facimus uniuersis tam presentibus quam f...</td>\n",
       "      <td>pdv_337_3</td>\n",
       "      <td>hac itaque consideratione commoniti notum faci...</td>\n",
       "      <td>True</td>\n",
       "      <td>[[**notum**, **facimus**, **uniuersis**, **tam...</td>\n",
       "      <td>11</td>\n",
       "      <td>**notum** **facimus** **uniuersis** **tam** **...</td>\n",
       "      <td>hac itaque consideratione commoniti **notum** ...</td>\n",
       "    </tr>\n",
       "    <tr>\n",
       "      <th>5060</th>\n",
       "      <td>guerin_226_2</td>\n",
       "      <td>notum facimus uniuersis tam presentibus quam f...</td>\n",
       "      <td>pdv_342_4</td>\n",
       "      <td>hac itaque ratione commoniti presenti priuileg...</td>\n",
       "      <td>True</td>\n",
       "      <td>[[**notum**, **facimus**, **uniuersis**, **tam...</td>\n",
       "      <td>11</td>\n",
       "      <td>**notum** **facimus** **uniuersis** **tam** **...</td>\n",
       "      <td>hac itaque ratione commoniti presenti priuileg...</td>\n",
       "    </tr>\n",
       "    <tr>\n",
       "      <th>5346</th>\n",
       "      <td>guerin_235_2</td>\n",
       "      <td>notum facimus uniuersis tam presentibus quam f...</td>\n",
       "      <td>pdv_337_3</td>\n",
       "      <td>hac itaque consideratione commoniti notum faci...</td>\n",
       "      <td>True</td>\n",
       "      <td>[[**notum**, **facimus**, **uniuersis**, **tam...</td>\n",
       "      <td>11</td>\n",
       "      <td>**notum** **facimus** **uniuersis** **tam** **...</td>\n",
       "      <td>hac itaque consideratione commoniti **notum** ...</td>\n",
       "    </tr>\n",
       "    <tr>\n",
       "      <th>5347</th>\n",
       "      <td>guerin_235_2</td>\n",
       "      <td>notum facimus uniuersis tam presentibus quam f...</td>\n",
       "      <td>pdv_339_2</td>\n",
       "      <td>eapropter presenti priuilegio notum facimus un...</td>\n",
       "      <td>True</td>\n",
       "      <td>[[**notum**, **facimus**, **uniuersis**, **tam...</td>\n",
       "      <td>11</td>\n",
       "      <td>**notum** **facimus** **uniuersis** **tam** **...</td>\n",
       "      <td>eapropter presenti priuilegio **notum** **faci...</td>\n",
       "    </tr>\n",
       "    <tr>\n",
       "      <th>8458</th>\n",
       "      <td>guerin_346_3</td>\n",
       "      <td>notum igitur facimus uniuersis tam presentibus...</td>\n",
       "      <td>pdv_342_4</td>\n",
       "      <td>hac itaque ratione commoniti presenti priuileg...</td>\n",
       "      <td>True</td>\n",
       "      <td>[[notum, igitur, **facimus**, **uniuersis**, *...</td>\n",
       "      <td>11</td>\n",
       "      <td>notum igitur **facimus** **uniuersis** **tam**...</td>\n",
       "      <td>hac itaque ratione commoniti presenti priuileg...</td>\n",
       "    </tr>\n",
       "  </tbody>\n",
       "</table>\n",
       "</div>"
      ],
      "text/plain": [
       "        key_guerin                                             guerin  \\\n",
       "330    guerin_18_2  notum facimus uniuersis tam presentibus quam f...   \n",
       "331    guerin_18_2  notum facimus uniuersis tam presentibus quam f...   \n",
       "1519   guerin_83_2  notum facimus uniuersis tam presentibus quam f...   \n",
       "2378  guerin_115_2  notum facimus uniuersis tam presentibus quam f...   \n",
       "3699  guerin_177_2  notum facimus uniuersis tam presentibus quam f...   \n",
       "3700  guerin_177_2  notum facimus uniuersis tam presentibus quam f...   \n",
       "3797  guerin_181_2  notum facimus uniuersis tam presentibus quam f...   \n",
       "4214  guerin_197_2  notum facimus uniuersis tam presentibus quam f...   \n",
       "4521  guerin_209_2  notum facimus uniuersis tam presentibus quam f...   \n",
       "5060  guerin_226_2  notum facimus uniuersis tam presentibus quam f...   \n",
       "5346  guerin_235_2  notum facimus uniuersis tam presentibus quam f...   \n",
       "5347  guerin_235_2  notum facimus uniuersis tam presentibus quam f...   \n",
       "8458  guerin_346_3  notum igitur facimus uniuersis tam presentibus...   \n",
       "\n",
       "        key_pdv                                                pdv  \\\n",
       "330   pdv_337_3  hac itaque consideratione commoniti notum faci...   \n",
       "331   pdv_339_2  eapropter presenti priuilegio notum facimus un...   \n",
       "1519  pdv_342_4  hac itaque ratione commoniti presenti priuileg...   \n",
       "2378  pdv_339_2  eapropter presenti priuilegio notum facimus un...   \n",
       "3699  pdv_339_2  eapropter presenti priuilegio notum facimus un...   \n",
       "3700  pdv_342_4  hac itaque ratione commoniti presenti priuileg...   \n",
       "3797  pdv_339_2  eapropter presenti priuilegio notum facimus un...   \n",
       "4214  pdv_339_2  eapropter presenti priuilegio notum facimus un...   \n",
       "4521  pdv_337_3  hac itaque consideratione commoniti notum faci...   \n",
       "5060  pdv_342_4  hac itaque ratione commoniti presenti priuileg...   \n",
       "5346  pdv_337_3  hac itaque consideratione commoniti notum faci...   \n",
       "5347  pdv_339_2  eapropter presenti priuilegio notum facimus un...   \n",
       "8458  pdv_342_4  hac itaque ratione commoniti presenti priuileg...   \n",
       "\n",
       "      trigram_commun                                           resultat  \\\n",
       "330             True  [[**notum**, **facimus**, **uniuersis**, **tam...   \n",
       "331             True  [[**notum**, **facimus**, **uniuersis**, **tam...   \n",
       "1519            True  [[**notum**, **facimus**, **uniuersis**, **tam...   \n",
       "2378            True  [[**notum**, **facimus**, **uniuersis**, **tam...   \n",
       "3699            True  [[**notum**, **facimus**, **uniuersis**, **tam...   \n",
       "3700            True  [[**notum**, **facimus**, **uniuersis**, **tam...   \n",
       "3797            True  [[**notum**, **facimus**, **uniuersis**, **tam...   \n",
       "4214            True  [[**notum**, **facimus**, **uniuersis**, **tam...   \n",
       "4521            True  [[**notum**, **facimus**, **uniuersis**, **tam...   \n",
       "5060            True  [[**notum**, **facimus**, **uniuersis**, **tam...   \n",
       "5346            True  [[**notum**, **facimus**, **uniuersis**, **tam...   \n",
       "5347            True  [[**notum**, **facimus**, **uniuersis**, **tam...   \n",
       "8458            True  [[notum, igitur, **facimus**, **uniuersis**, *...   \n",
       "\n",
       "      occurences                                         tri_guerin  \\\n",
       "330           11  **notum** **facimus** **uniuersis** **tam** **...   \n",
       "331           11  **notum** **facimus** **uniuersis** **tam** **...   \n",
       "1519          11  **notum** **facimus** **uniuersis** **tam** **...   \n",
       "2378          11  **notum** **facimus** **uniuersis** **tam** **...   \n",
       "3699          11  **notum** **facimus** **uniuersis** **tam** **...   \n",
       "3700          11  **notum** **facimus** **uniuersis** **tam** **...   \n",
       "3797          11  **notum** **facimus** **uniuersis** **tam** **...   \n",
       "4214          11  **notum** **facimus** **uniuersis** **tam** **...   \n",
       "4521          11  **notum** **facimus** **uniuersis** **tam** **...   \n",
       "5060          11  **notum** **facimus** **uniuersis** **tam** **...   \n",
       "5346          11  **notum** **facimus** **uniuersis** **tam** **...   \n",
       "5347          11  **notum** **facimus** **uniuersis** **tam** **...   \n",
       "8458          11  notum igitur **facimus** **uniuersis** **tam**...   \n",
       "\n",
       "                                                tri_pdv  \n",
       "330   hac itaque consideratione commoniti **notum** ...  \n",
       "331   eapropter presenti priuilegio **notum** **faci...  \n",
       "1519  hac itaque ratione commoniti presenti priuileg...  \n",
       "2378  eapropter presenti priuilegio **notum** **faci...  \n",
       "3699  eapropter presenti priuilegio **notum** **faci...  \n",
       "3700  hac itaque ratione commoniti presenti priuileg...  \n",
       "3797  eapropter presenti priuilegio **notum** **faci...  \n",
       "4214  eapropter presenti priuilegio **notum** **faci...  \n",
       "4521  hac itaque consideratione commoniti **notum** ...  \n",
       "5060  hac itaque ratione commoniti presenti priuileg...  \n",
       "5346  hac itaque consideratione commoniti **notum** ...  \n",
       "5347  eapropter presenti priuilegio **notum** **faci...  \n",
       "8458  hac itaque ratione commoniti presenti priuileg...  "
      ]
     },
     "execution_count": 105,
     "metadata": {},
     "output_type": "execute_result"
    }
   ],
   "source": [
    "michelle_2[michelle_2['occurences'] == 11]"
   ]
  },
  {
   "cell_type": "code",
   "execution_count": 97,
   "id": "f996339d",
   "metadata": {},
   "outputs": [],
   "source": [
    "sample = michelle_2['tri_guerin'][4522].split()"
   ]
  },
  {
   "cell_type": "code",
   "execution_count": 102,
   "id": "81529597",
   "metadata": {},
   "outputs": [],
   "source": [
    "new = []\n",
    "for word in sample:\n",
    "    if word.startswith('**'):\n",
    "        new.append(word[2:-2])\n"
   ]
  },
  {
   "cell_type": "code",
   "execution_count": 134,
   "id": "bf39dd1e",
   "metadata": {},
   "outputs": [],
   "source": [
    "damien = list(pdv.values())\n",
    "noe = list(guerin.values())"
   ]
  },
  {
   "cell_type": "code",
   "execution_count": 49,
   "id": "ee7f624f",
   "metadata": {},
   "outputs": [],
   "source": [
    "def copies(liste):\n",
    "    nouvelles_copies = []\n",
    "\n",
    "    for element in liste:\n",
    "        nouvelles_copies.extend([element] * len(dico_un))\n",
    "\n",
    "    return nouvelles_copies"
   ]
  },
  {
   "cell_type": "code",
   "execution_count": 54,
   "id": "02f375f8",
   "metadata": {},
   "outputs": [],
   "source": [
    "df['compare'] = df['clean_PDV'].apply(join)\n",
    "df2['compare'] = df2['clean'].apply(join)"
   ]
  },
  {
   "cell_type": "code",
   "execution_count": 55,
   "id": "379c2cae",
   "metadata": {},
   "outputs": [],
   "source": [
    "dico_un = {}\n",
    "\n",
    "for i in range(len(df['compare'].tolist())):\n",
    "    dico_un[f'pdv_{i+1}'] = df['compare'].tolist()[i]\n",
    "    \n",
    "dico_deux = {}\n",
    "\n",
    "for i in range(len(df2['compare'].tolist())):\n",
    "    dico_deux[f'guerin_{i+1}'] = df2['compare'].tolist()[i]"
   ]
  },
  {
   "cell_type": "code",
   "execution_count": 56,
   "id": "3d478ef5",
   "metadata": {},
   "outputs": [],
   "source": [
    "pierre_de_la_vigne = list(dico_un.values())*len(dico_deux)\n",
    "cles_de_la_vigne = list(dico_un.keys())*len(dico_deux)\n",
    "\n",
    "paul_guerin = copies(list(dico_deux.values()))\n",
    "cles_paul = copies(list(dico_deux.keys()))"
   ]
  },
  {
   "cell_type": "code",
   "execution_count": null,
   "id": "a13061c4",
   "metadata": {},
   "outputs": [
    {
     "name": "stdout",
     "output_type": "stream",
     "text": [
      "7557\n"
     ]
    },
    {
     "name": "stderr",
     "output_type": "stream",
     "text": [
      "5107it [16:35:34,  9.21s/it] "
     ]
    }
   ],
   "source": [
    "antoine = pd.DataFrame({'guerin':paul_guerin,'pdv':pierre_de_la_vigne})\n",
    "antoine['trigram_commun'] = antoine.apply(lambda row: avoir_trigram_commun(row[\"guerin\"], row[\"pdv\"]), axis=1)\n",
    "antoine['key_guerin'] = cles_paul\n",
    "antoine['key_pdv'] = cles_de_la_vigne\n",
    "antoine = antoine[['key_guerin','guerin','key_pdv','pdv','trigram_commun']]\n",
    "manoelle = antoine[antoine['trigram_commun'] == True]\n",
    "manoelle = manoelle.reset_index(drop=True)\n",
    "print(len(manoelle))\n",
    "\n",
    "resultats = []\n",
    "for index, row in tqdm(manoelle.iterrows()):\n",
    "    try:\n",
    "        resultat = test_2(row[\"guerin\"], row[\"pdv\"])\n",
    "        resultats.append(resultat)\n",
    "    except Exception as e:\n",
    "        print(f\"Erreur survenue pour la ligne {index}: {e}\")\n",
    "        resultats.append(None)\n",
    "\n",
    "manoelle[\"resultat\"] = resultats"
   ]
  },
  {
   "cell_type": "code",
   "execution_count": 181,
   "id": "0f39d279",
   "metadata": {},
   "outputs": [],
   "source": [
    "manoelle.to_excel('texte_guerin_pdv.xlsx')"
   ]
  },
  {
   "cell_type": "code",
   "execution_count": 245,
   "id": "f83ddab0",
   "metadata": {},
   "outputs": [
    {
     "name": "stderr",
     "output_type": "stream",
     "text": [
      "100%|███████████████████████████████████████| 7557/7557 [05:02<00:00, 25.00it/s]\n"
     ]
    }
   ],
   "source": [
    "han = []\n",
    "trigrams = []\n",
    "\n",
    "for i in tqdm(range(len(manoelle))):\n",
    "    inter = []\n",
    "    for tri in string_to_trigrams(manoelle['guerin'][i].split()):\n",
    "        if tri in string_to_trigrams(manoelle['pdv'][i].split()):\n",
    "            inter.append(tri)\n",
    "    han.append(len(inter))\n",
    "    trigrams.append(inter)"
   ]
  },
  {
   "cell_type": "code",
   "execution_count": 67,
   "id": "9c04e2c3",
   "metadata": {},
   "outputs": [],
   "source": [
    "def flatten_tri(liste):\n",
    "    return [trigram for sublist in liste for trigram in sublist]"
   ]
  },
  {
   "cell_type": "code",
   "execution_count": 246,
   "id": "3d63082b",
   "metadata": {},
   "outputs": [],
   "source": [
    "manoelle['nombre_trigrams'] = han\n",
    "manoelle['trigrams'] = trigrams"
   ]
  },
  {
   "cell_type": "code",
   "execution_count": 285,
   "id": "bca8d495",
   "metadata": {},
   "outputs": [],
   "source": [
    "test = manoelle[manoelle['nombre_trigrams'] > 1].reset_index(drop=True)"
   ]
  },
  {
   "cell_type": "code",
   "execution_count": 290,
   "id": "05f7e830",
   "metadata": {},
   "outputs": [],
   "source": [
    "test['flat'] = test['trigrams'].apply(flatten_tri)\n",
    "test['flat'] = test ['flat'].apply(join)"
   ]
  },
  {
   "cell_type": "code",
   "execution_count": 318,
   "id": "21075ef2",
   "metadata": {},
   "outputs": [
    {
     "data": {
      "text/plain": [
       "[('regni nostri et et fidelibus nostris', 1),\n",
       " ('regni nostri et nostri et maxime qui super hoc', 1)]"
      ]
     },
     "execution_count": 318,
     "metadata": {},
     "output_type": "execute_result"
    }
   ],
   "source": [
    "liste_ind = []\n",
    "liste_texte = []\n",
    "\n",
    "for i in range(len(test['flat'])):\n",
    "    if test['flat'][i].startswith(''):\n",
    "        liste_ind.append(i)\n",
    "        liste_texte.append(test['flat'][i])\n",
    "Counter(liste_texte).most_common()"
   ]
  },
  {
   "cell_type": "code",
   "execution_count": 72,
   "id": "fd0709c5",
   "metadata": {},
   "outputs": [],
   "source": [
    "delete = ['notum facimus uniuersis facimus uniuersis tam uniuersis tam presentibus tam presentibus quam presentibus quam futuris',\n",
    "         'notum facimus uniuersis facimus uniuersis tam uniuersis tam presentibus tam presentibus quam presentibus quam futuris quam futuris quod',\n",
    "         'notum facimus uniuersis tam presentibus quam presentibus quam futuris',\n",
    "         'notum facimus uniuersis tam presentibus quam presentibus quam futuris quam futuris quod',\n",
    "         'notum facimus uniuersis facimus uniuersis tam uniuersis tam presentibus tam presentibus quam presentibus quam futuris quam futuris quod futuris quod nos',\n",
    "         'notum facimus uniuersis notum facimus uniuersis','notum facimus uniuersis futuris quod nos',\n",
    "         'notum facimus uniuersis tam presentibus quam presentibus quam futuris quam futuris quod futuris quod cum',\n",
    "         'notum facimus uniuersis futuris quod nos quod nos attendentes','notum facimus uniuersis futuris quod cum',\n",
    "         'notum facimus uniuersis notum facimus uniuersis facimus uniuersis tam uniuersis tam presentibus tam presentibus quam presentibus quam futuris quam futuris quod',\n",
    "         'notum facimus uniuersis notum facimus uniuersis notum facimus uniuersis',\n",
    "         'notum facimus uniuersis facimus uniuersis tam','notum facimus uniuersis facimus uniuersis tam uniuersis tam presentibus tam presentibus quam presentibus quam futuris notum facimus uniuersis facimus uniuersis tam uniuersis tam presentibus tam presentibus quam presentibus quam futuris',\n",
    "         'futuris quod nos quod nos attendentes']"
   ]
  },
  {
   "cell_type": "code",
   "execution_count": 71,
   "id": "984c2dac",
   "metadata": {},
   "outputs": [],
   "source": [
    "def same_flat(string):\n",
    "    if string in delete:\n",
    "        return True\n",
    "    else:\n",
    "        return False"
   ]
  },
  {
   "cell_type": "code",
   "execution_count": 73,
   "id": "eed110ff",
   "metadata": {},
   "outputs": [
    {
     "ename": "TypeError",
     "evalue": "'function' object is not subscriptable",
     "output_type": "error",
     "traceback": [
      "\u001b[0;31m---------------------------------------------------------------------------\u001b[0m",
      "\u001b[0;31mTypeError\u001b[0m                                 Traceback (most recent call last)",
      "\u001b[0;32m/tmp/ipykernel_11322/868707493.py\u001b[0m in \u001b[0;36m<module>\u001b[0;34m\u001b[0m\n\u001b[0;32m----> 1\u001b[0;31m \u001b[0mtest\u001b[0m\u001b[0;34m[\u001b[0m\u001b[0;34m'notum'\u001b[0m\u001b[0;34m]\u001b[0m \u001b[0;34m=\u001b[0m \u001b[0mtest\u001b[0m\u001b[0;34m[\u001b[0m\u001b[0;34m'flat'\u001b[0m\u001b[0;34m]\u001b[0m\u001b[0;34m.\u001b[0m\u001b[0mapply\u001b[0m\u001b[0;34m(\u001b[0m\u001b[0msame_flat\u001b[0m\u001b[0;34m)\u001b[0m\u001b[0;34m\u001b[0m\u001b[0;34m\u001b[0m\u001b[0m\n\u001b[0m\u001b[1;32m      2\u001b[0m \u001b[0mtest\u001b[0m \u001b[0;34m=\u001b[0m \u001b[0mtest\u001b[0m\u001b[0;34m[\u001b[0m\u001b[0mtest\u001b[0m\u001b[0;34m[\u001b[0m\u001b[0;34m'notum'\u001b[0m\u001b[0;34m]\u001b[0m \u001b[0;34m==\u001b[0m \u001b[0;32mFalse\u001b[0m\u001b[0;34m]\u001b[0m\u001b[0;34m.\u001b[0m\u001b[0mreset_index\u001b[0m\u001b[0;34m(\u001b[0m\u001b[0mdrop\u001b[0m\u001b[0;34m=\u001b[0m\u001b[0;32mTrue\u001b[0m\u001b[0;34m)\u001b[0m\u001b[0;34m\u001b[0m\u001b[0;34m\u001b[0m\u001b[0m\n",
      "\u001b[0;31mTypeError\u001b[0m: 'function' object is not subscriptable"
     ]
    }
   ],
   "source": [
    "test['notum'] = test['flat'].apply(same_flat)\n",
    "test = test[test['notum'] == False].reset_index(drop=True)"
   ]
  },
  {
   "cell_type": "code",
   "execution_count": 58,
   "id": "30d8bf25",
   "metadata": {},
   "outputs": [],
   "source": [
    "def same_tri(liste):\n",
    "    return liste[0] == liste[1]"
   ]
  },
  {
   "cell_type": "code",
   "execution_count": 320,
   "id": "9c0a5815",
   "metadata": {},
   "outputs": [
    {
     "name": "stderr",
     "output_type": "stream",
     "text": [
      "86it [32:41, 22.81s/it] \n"
     ]
    },
    {
     "ename": "KeyboardInterrupt",
     "evalue": "",
     "output_type": "error",
     "traceback": [
      "\u001b[0;31m---------------------------------------------------------------------------\u001b[0m",
      "\u001b[0;31mKeyboardInterrupt\u001b[0m                         Traceback (most recent call last)",
      "\u001b[0;32m/tmp/ipykernel_50592/2541913348.py\u001b[0m in \u001b[0;36m<module>\u001b[0;34m\u001b[0m\n\u001b[1;32m      2\u001b[0m \u001b[0;32mfor\u001b[0m \u001b[0mindex\u001b[0m\u001b[0;34m,\u001b[0m \u001b[0mrow\u001b[0m \u001b[0;32min\u001b[0m \u001b[0mtqdm\u001b[0m\u001b[0;34m(\u001b[0m\u001b[0mtest\u001b[0m\u001b[0;34m.\u001b[0m\u001b[0miterrows\u001b[0m\u001b[0;34m(\u001b[0m\u001b[0;34m)\u001b[0m\u001b[0;34m)\u001b[0m\u001b[0;34m:\u001b[0m\u001b[0;34m\u001b[0m\u001b[0;34m\u001b[0m\u001b[0m\n\u001b[1;32m      3\u001b[0m     \u001b[0;32mtry\u001b[0m\u001b[0;34m:\u001b[0m\u001b[0;34m\u001b[0m\u001b[0;34m\u001b[0m\u001b[0m\n\u001b[0;32m----> 4\u001b[0;31m         \u001b[0mresultat\u001b[0m \u001b[0;34m=\u001b[0m \u001b[0mtest_2\u001b[0m\u001b[0;34m(\u001b[0m\u001b[0mrow\u001b[0m\u001b[0;34m[\u001b[0m\u001b[0;34m\"guerin\"\u001b[0m\u001b[0;34m]\u001b[0m\u001b[0;34m,\u001b[0m \u001b[0mrow\u001b[0m\u001b[0;34m[\u001b[0m\u001b[0;34m\"pdv\"\u001b[0m\u001b[0;34m]\u001b[0m\u001b[0;34m)\u001b[0m\u001b[0;34m\u001b[0m\u001b[0;34m\u001b[0m\u001b[0m\n\u001b[0m\u001b[1;32m      5\u001b[0m         \u001b[0mresultats\u001b[0m\u001b[0;34m.\u001b[0m\u001b[0mappend\u001b[0m\u001b[0;34m(\u001b[0m\u001b[0mresultat\u001b[0m\u001b[0;34m)\u001b[0m\u001b[0;34m\u001b[0m\u001b[0;34m\u001b[0m\u001b[0m\n\u001b[1;32m      6\u001b[0m     \u001b[0;32mexcept\u001b[0m \u001b[0mException\u001b[0m \u001b[0;32mas\u001b[0m \u001b[0me\u001b[0m\u001b[0;34m:\u001b[0m\u001b[0;34m\u001b[0m\u001b[0;34m\u001b[0m\u001b[0m\n",
      "\u001b[0;32m/tmp/ipykernel_50592/788255127.py\u001b[0m in \u001b[0;36mtest_2\u001b[0;34m(sentence1, sentence2)\u001b[0m\n\u001b[1;32m     68\u001b[0m     \u001b[0;32mfor\u001b[0m \u001b[0midx1\u001b[0m\u001b[0;34m,\u001b[0m \u001b[0mword1\u001b[0m \u001b[0;32min\u001b[0m \u001b[0menumerate\u001b[0m\u001b[0;34m(\u001b[0m\u001b[0mtexte_split\u001b[0m\u001b[0;34m)\u001b[0m\u001b[0;34m:\u001b[0m\u001b[0;34m\u001b[0m\u001b[0;34m\u001b[0m\u001b[0m\n\u001b[1;32m     69\u001b[0m         \u001b[0;32mfor\u001b[0m \u001b[0midx2\u001b[0m\u001b[0;34m,\u001b[0m \u001b[0mword2\u001b[0m \u001b[0;32min\u001b[0m \u001b[0menumerate\u001b[0m\u001b[0;34m(\u001b[0m\u001b[0mpierre_split\u001b[0m\u001b[0;34m)\u001b[0m\u001b[0;34m:\u001b[0m\u001b[0;34m\u001b[0m\u001b[0;34m\u001b[0m\u001b[0m\n\u001b[0;32m---> 70\u001b[0;31m             \u001b[0msimilarity\u001b[0m \u001b[0;34m=\u001b[0m \u001b[0mtextdistance\u001b[0m\u001b[0;34m.\u001b[0m\u001b[0mlevenshtein\u001b[0m\u001b[0;34m.\u001b[0m\u001b[0mnormalized_similarity\u001b[0m\u001b[0;34m(\u001b[0m\u001b[0mword1\u001b[0m\u001b[0;34m,\u001b[0m \u001b[0mword2\u001b[0m\u001b[0;34m)\u001b[0m\u001b[0;34m\u001b[0m\u001b[0;34m\u001b[0m\u001b[0m\n\u001b[0m\u001b[1;32m     71\u001b[0m             \u001b[0;32mif\u001b[0m \u001b[0;36m0.8\u001b[0m \u001b[0;34m<=\u001b[0m \u001b[0msimilarity\u001b[0m \u001b[0;34m<\u001b[0m \u001b[0;36m1\u001b[0m \u001b[0;32mand\u001b[0m \u001b[0mword1\u001b[0m \u001b[0;32min\u001b[0m \u001b[0mtexte_split\u001b[0m \u001b[0;32mand\u001b[0m \u001b[0mword2\u001b[0m \u001b[0;32min\u001b[0m \u001b[0mpierre_split\u001b[0m\u001b[0;34m:\u001b[0m\u001b[0;34m\u001b[0m\u001b[0;34m\u001b[0m\u001b[0m\n\u001b[1;32m     72\u001b[0m                 \u001b[0mpierre_indice\u001b[0m\u001b[0;34m.\u001b[0m\u001b[0mappend\u001b[0m\u001b[0;34m(\u001b[0m\u001b[0midx2\u001b[0m\u001b[0;34m)\u001b[0m\u001b[0;34m\u001b[0m\u001b[0;34m\u001b[0m\u001b[0m\n",
      "\u001b[0;32m~/python/miniconda/envs/coursnlp/lib/python3.7/site-packages/textdistance/algorithms/base.py\u001b[0m in \u001b[0;36mnormalized_similarity\u001b[0;34m(self, *sequences)\u001b[0m\n\u001b[1;32m     54\u001b[0m         \u001b[0mnormalized_similarity\u001b[0m \u001b[0;34m=\u001b[0m \u001b[0;36m1\u001b[0m \u001b[0;34m-\u001b[0m \u001b[0mnormalized_distance\u001b[0m\u001b[0;34m\u001b[0m\u001b[0;34m\u001b[0m\u001b[0m\n\u001b[1;32m     55\u001b[0m         \"\"\"\n\u001b[0;32m---> 56\u001b[0;31m         \u001b[0;32mreturn\u001b[0m \u001b[0;36m1\u001b[0m \u001b[0;34m-\u001b[0m \u001b[0mself\u001b[0m\u001b[0;34m.\u001b[0m\u001b[0mnormalized_distance\u001b[0m\u001b[0;34m(\u001b[0m\u001b[0;34m*\u001b[0m\u001b[0msequences\u001b[0m\u001b[0;34m)\u001b[0m\u001b[0;34m\u001b[0m\u001b[0;34m\u001b[0m\u001b[0m\n\u001b[0m\u001b[1;32m     57\u001b[0m \u001b[0;34m\u001b[0m\u001b[0m\n\u001b[1;32m     58\u001b[0m     \u001b[0;32mdef\u001b[0m \u001b[0mexternal_answer\u001b[0m\u001b[0;34m(\u001b[0m\u001b[0mself\u001b[0m\u001b[0;34m,\u001b[0m \u001b[0;34m*\u001b[0m\u001b[0msequences\u001b[0m\u001b[0;34m:\u001b[0m \u001b[0mSequence\u001b[0m\u001b[0;34m[\u001b[0m\u001b[0mobject\u001b[0m\u001b[0;34m]\u001b[0m\u001b[0;34m)\u001b[0m \u001b[0;34m->\u001b[0m \u001b[0mfloat\u001b[0m \u001b[0;34m|\u001b[0m \u001b[0;32mNone\u001b[0m\u001b[0;34m:\u001b[0m\u001b[0;34m\u001b[0m\u001b[0;34m\u001b[0m\u001b[0m\n",
      "\u001b[0;32m~/python/miniconda/envs/coursnlp/lib/python3.7/site-packages/textdistance/algorithms/base.py\u001b[0m in \u001b[0;36mnormalized_distance\u001b[0;34m(self, *sequences)\u001b[0m\n\u001b[1;32m     47\u001b[0m         \u001b[0;32mif\u001b[0m \u001b[0mmaximum\u001b[0m \u001b[0;34m==\u001b[0m \u001b[0;36m0\u001b[0m\u001b[0;34m:\u001b[0m\u001b[0;34m\u001b[0m\u001b[0;34m\u001b[0m\u001b[0m\n\u001b[1;32m     48\u001b[0m             \u001b[0;32mreturn\u001b[0m \u001b[0;36m0\u001b[0m\u001b[0;34m\u001b[0m\u001b[0;34m\u001b[0m\u001b[0m\n\u001b[0;32m---> 49\u001b[0;31m         \u001b[0;32mreturn\u001b[0m \u001b[0mself\u001b[0m\u001b[0;34m.\u001b[0m\u001b[0mdistance\u001b[0m\u001b[0;34m(\u001b[0m\u001b[0;34m*\u001b[0m\u001b[0msequences\u001b[0m\u001b[0;34m)\u001b[0m \u001b[0;34m/\u001b[0m \u001b[0mmaximum\u001b[0m\u001b[0;34m\u001b[0m\u001b[0;34m\u001b[0m\u001b[0m\n\u001b[0m\u001b[1;32m     50\u001b[0m \u001b[0;34m\u001b[0m\u001b[0m\n\u001b[1;32m     51\u001b[0m     \u001b[0;32mdef\u001b[0m \u001b[0mnormalized_similarity\u001b[0m\u001b[0;34m(\u001b[0m\u001b[0mself\u001b[0m\u001b[0;34m,\u001b[0m \u001b[0;34m*\u001b[0m\u001b[0msequences\u001b[0m\u001b[0;34m:\u001b[0m \u001b[0mSequence\u001b[0m\u001b[0;34m[\u001b[0m\u001b[0mobject\u001b[0m\u001b[0;34m]\u001b[0m\u001b[0;34m)\u001b[0m \u001b[0;34m->\u001b[0m \u001b[0mfloat\u001b[0m\u001b[0;34m:\u001b[0m\u001b[0;34m\u001b[0m\u001b[0;34m\u001b[0m\u001b[0m\n",
      "\u001b[0;32m~/python/miniconda/envs/coursnlp/lib/python3.7/site-packages/textdistance/algorithms/base.py\u001b[0m in \u001b[0;36mdistance\u001b[0;34m(self, *sequences)\u001b[0m\n\u001b[1;32m     32\u001b[0m         \"\"\"Get distance between sequences\n\u001b[1;32m     33\u001b[0m         \"\"\"\n\u001b[0;32m---> 34\u001b[0;31m         \u001b[0;32mreturn\u001b[0m \u001b[0mself\u001b[0m\u001b[0;34m(\u001b[0m\u001b[0;34m*\u001b[0m\u001b[0msequences\u001b[0m\u001b[0;34m)\u001b[0m\u001b[0;34m\u001b[0m\u001b[0;34m\u001b[0m\u001b[0m\n\u001b[0m\u001b[1;32m     35\u001b[0m \u001b[0;34m\u001b[0m\u001b[0m\n\u001b[1;32m     36\u001b[0m     \u001b[0;32mdef\u001b[0m \u001b[0msimilarity\u001b[0m\u001b[0;34m(\u001b[0m\u001b[0mself\u001b[0m\u001b[0;34m,\u001b[0m \u001b[0;34m*\u001b[0m\u001b[0msequences\u001b[0m\u001b[0;34m:\u001b[0m \u001b[0mSequence\u001b[0m\u001b[0;34m[\u001b[0m\u001b[0mobject\u001b[0m\u001b[0;34m]\u001b[0m\u001b[0;34m)\u001b[0m \u001b[0;34m->\u001b[0m \u001b[0mfloat\u001b[0m\u001b[0;34m:\u001b[0m\u001b[0;34m\u001b[0m\u001b[0;34m\u001b[0m\u001b[0m\n",
      "\u001b[0;32m~/python/miniconda/envs/coursnlp/lib/python3.7/site-packages/textdistance/algorithms/edit_based.py\u001b[0m in \u001b[0;36m__call__\u001b[0;34m(self, s1, s2)\u001b[0m\n\u001b[1;32m    135\u001b[0m             \u001b[0;32mreturn\u001b[0m \u001b[0mresult\u001b[0m\u001b[0;34m\u001b[0m\u001b[0;34m\u001b[0m\u001b[0m\n\u001b[1;32m    136\u001b[0m \u001b[0;34m\u001b[0m\u001b[0m\n\u001b[0;32m--> 137\u001b[0;31m         \u001b[0;32mreturn\u001b[0m \u001b[0mself\u001b[0m\u001b[0;34m.\u001b[0m\u001b[0m_cycled\u001b[0m\u001b[0;34m(\u001b[0m\u001b[0ms1\u001b[0m\u001b[0;34m,\u001b[0m \u001b[0ms2\u001b[0m\u001b[0;34m)\u001b[0m\u001b[0;34m\u001b[0m\u001b[0;34m\u001b[0m\u001b[0m\n\u001b[0m\u001b[1;32m    138\u001b[0m \u001b[0;34m\u001b[0m\u001b[0m\n\u001b[1;32m    139\u001b[0m \u001b[0;34m\u001b[0m\u001b[0m\n",
      "\u001b[0;32m~/python/miniconda/envs/coursnlp/lib/python3.7/site-packages/textdistance/algorithms/edit_based.py\u001b[0m in \u001b[0;36m_cycled\u001b[0;34m(self, s1, s2)\u001b[0m\n\u001b[1;32m    119\u001b[0m         \u001b[0;32mfor\u001b[0m \u001b[0mr\u001b[0m \u001b[0;32min\u001b[0m \u001b[0mrange\u001b[0m\u001b[0;34m(\u001b[0m\u001b[0;36m1\u001b[0m\u001b[0;34m,\u001b[0m \u001b[0mrows\u001b[0m\u001b[0;34m)\u001b[0m\u001b[0;34m:\u001b[0m\u001b[0;34m\u001b[0m\u001b[0;34m\u001b[0m\u001b[0m\n\u001b[1;32m    120\u001b[0m             \u001b[0mprev\u001b[0m\u001b[0;34m,\u001b[0m \u001b[0mcur\u001b[0m \u001b[0;34m=\u001b[0m \u001b[0mcur\u001b[0m\u001b[0;34m,\u001b[0m \u001b[0;34m[\u001b[0m\u001b[0mr\u001b[0m\u001b[0;34m]\u001b[0m \u001b[0;34m+\u001b[0m \u001b[0;34m[\u001b[0m\u001b[0;36m0\u001b[0m\u001b[0;34m]\u001b[0m \u001b[0;34m*\u001b[0m \u001b[0;34m(\u001b[0m\u001b[0mcols\u001b[0m \u001b[0;34m-\u001b[0m \u001b[0;36m1\u001b[0m\u001b[0;34m)\u001b[0m\u001b[0;34m\u001b[0m\u001b[0;34m\u001b[0m\u001b[0m\n\u001b[0;32m--> 121\u001b[0;31m             \u001b[0;32mfor\u001b[0m \u001b[0mc\u001b[0m \u001b[0;32min\u001b[0m \u001b[0mrange\u001b[0m\u001b[0;34m(\u001b[0m\u001b[0;36m1\u001b[0m\u001b[0;34m,\u001b[0m \u001b[0mcols\u001b[0m\u001b[0;34m)\u001b[0m\u001b[0;34m:\u001b[0m\u001b[0;34m\u001b[0m\u001b[0;34m\u001b[0m\u001b[0m\n\u001b[0m\u001b[1;32m    122\u001b[0m                 \u001b[0mdeletion\u001b[0m \u001b[0;34m=\u001b[0m \u001b[0mprev\u001b[0m\u001b[0;34m[\u001b[0m\u001b[0mc\u001b[0m\u001b[0;34m]\u001b[0m \u001b[0;34m+\u001b[0m \u001b[0;36m1\u001b[0m\u001b[0;34m\u001b[0m\u001b[0;34m\u001b[0m\u001b[0m\n\u001b[1;32m    123\u001b[0m                 \u001b[0minsertion\u001b[0m \u001b[0;34m=\u001b[0m \u001b[0mcur\u001b[0m\u001b[0;34m[\u001b[0m\u001b[0mc\u001b[0m \u001b[0;34m-\u001b[0m \u001b[0;36m1\u001b[0m\u001b[0;34m]\u001b[0m \u001b[0;34m+\u001b[0m \u001b[0;36m1\u001b[0m\u001b[0;34m\u001b[0m\u001b[0;34m\u001b[0m\u001b[0m\n",
      "\u001b[0;31mKeyboardInterrupt\u001b[0m: "
     ]
    }
   ],
   "source": [
    "resultats = []\n",
    "for index, row in tqdm(test.iterrows()):\n",
    "    try:\n",
    "        resultat = test_2(row[\"guerin\"], row[\"pdv\"])\n",
    "        resultats.append(resultat)\n",
    "    except Exception as e:\n",
    "        print(f\"Erreur survenue pour la ligne {index}: {e}\")\n",
    "        resultats.append(None)\n",
    "\n",
    "test[\"resultat\"] = resultats"
   ]
  },
  {
   "cell_type": "code",
   "execution_count": 331,
   "id": "5cdb5bdd",
   "metadata": {},
   "outputs": [],
   "source": [
    "vivi = pd.read_excel('pdv_viard_trigram.xlsx')\n",
    "vivi = vivi[['key_viard','viard','key_pdv','pdv']]"
   ]
  },
  {
   "cell_type": "code",
   "execution_count": 332,
   "id": "71bb08ea",
   "metadata": {},
   "outputs": [
    {
     "name": "stderr",
     "output_type": "stream",
     "text": [
      "100%|██████████████████████████████████████| 1410/1410 [00:01<00:00, 880.75it/s]\n"
     ]
    }
   ],
   "source": [
    "han = []\n",
    "trigrams = []\n",
    "\n",
    "for i in tqdm(range(len(vivi))):\n",
    "    inter = []\n",
    "    for tri in string_to_trigrams(vivi['viard'][i].split()):\n",
    "        if tri in string_to_trigrams(vivi['pdv'][i].split()):\n",
    "            inter.append(tri)\n",
    "    han.append(len(inter))\n",
    "    trigrams.append(inter)"
   ]
  },
  {
   "cell_type": "code",
   "execution_count": 333,
   "id": "4c365117",
   "metadata": {},
   "outputs": [],
   "source": []
  },
  {
   "cell_type": "code",
   "execution_count": 337,
   "id": "0c0b5163",
   "metadata": {},
   "outputs": [
    {
     "data": {
      "text/html": [
       "<div>\n",
       "<style scoped>\n",
       "    .dataframe tbody tr th:only-of-type {\n",
       "        vertical-align: middle;\n",
       "    }\n",
       "\n",
       "    .dataframe tbody tr th {\n",
       "        vertical-align: top;\n",
       "    }\n",
       "\n",
       "    .dataframe thead th {\n",
       "        text-align: right;\n",
       "    }\n",
       "</style>\n",
       "<table border=\"1\" class=\"dataframe\">\n",
       "  <thead>\n",
       "    <tr style=\"text-align: right;\">\n",
       "      <th></th>\n",
       "      <th>key_viard</th>\n",
       "      <th>viard</th>\n",
       "      <th>key_pdv</th>\n",
       "      <th>pdv</th>\n",
       "      <th>nombre_trigrams</th>\n",
       "      <th>trigrams</th>\n",
       "    </tr>\n",
       "  </thead>\n",
       "  <tbody>\n",
       "    <tr>\n",
       "      <th>6</th>\n",
       "      <td>viard_1_1</td>\n",
       "      <td>philippus ualesii et andegauie comes francie e...</td>\n",
       "      <td>pdv_235_2</td>\n",
       "      <td>quare maiestatis nostrae humiliter supplicauit...</td>\n",
       "      <td>3</td>\n",
       "      <td>[[humiliter, supplicauit, ut], [supplicauit, u...</td>\n",
       "    </tr>\n",
       "    <tr>\n",
       "      <th>18</th>\n",
       "      <td>viard_1_1</td>\n",
       "      <td>philippus ualesii et andegauie comes francie e...</td>\n",
       "      <td>pdv_348_1</td>\n",
       "      <td>notum facimus uniuersis quod maiestati nostrae...</td>\n",
       "      <td>2</td>\n",
       "      <td>[[notum, facimus, uniuersis], [humiliter, supp...</td>\n",
       "    </tr>\n",
       "    <tr>\n",
       "      <th>19</th>\n",
       "      <td>viard_1_1</td>\n",
       "      <td>philippus ualesii et andegauie comes francie e...</td>\n",
       "      <td>pdv_350_2</td>\n",
       "      <td>per presens igitur scriptum notum facimus uniu...</td>\n",
       "      <td>2</td>\n",
       "      <td>[[notum, facimus, uniuersis], [futuris, quod, ...</td>\n",
       "    </tr>\n",
       "    <tr>\n",
       "      <th>41</th>\n",
       "      <td>viard_1_2</td>\n",
       "      <td>nos igitur eiusdem in hac parte supplicationib...</td>\n",
       "      <td>pdv_339_2</td>\n",
       "      <td>eapropter presenti priuilegio notum facimus un...</td>\n",
       "      <td>2</td>\n",
       "      <td>[[de, speciali, gratia], [et, heredibus, suis]]</td>\n",
       "    </tr>\n",
       "    <tr>\n",
       "      <th>44</th>\n",
       "      <td>viard_1_2</td>\n",
       "      <td>nos igitur eiusdem in hac parte supplicationib...</td>\n",
       "      <td>pdv_356_3</td>\n",
       "      <td>et iustitiarium sistens cum omnibus iustitiis ...</td>\n",
       "      <td>2</td>\n",
       "      <td>[[de, speciali, gratia], [et, heredibus, suis]]</td>\n",
       "    </tr>\n",
       "    <tr>\n",
       "      <th>...</th>\n",
       "      <td>...</td>\n",
       "      <td>...</td>\n",
       "      <td>...</td>\n",
       "      <td>...</td>\n",
       "      <td>...</td>\n",
       "      <td>...</td>\n",
       "    </tr>\n",
       "    <tr>\n",
       "      <th>1391</th>\n",
       "      <td>viard_63_2</td>\n",
       "      <td>igitur ad instantem supplicationem dicti consa...</td>\n",
       "      <td>pdv_339_2</td>\n",
       "      <td>eapropter presenti priuilegio notum facimus un...</td>\n",
       "      <td>2</td>\n",
       "      <td>[[et, ex, certa], [ex, certa, scientia]]</td>\n",
       "    </tr>\n",
       "    <tr>\n",
       "      <th>1394</th>\n",
       "      <td>viard_63_2</td>\n",
       "      <td>igitur ad instantem supplicationem dicti consa...</td>\n",
       "      <td>pdv_343_3</td>\n",
       "      <td>usus et approbatas consuetudines quibus tempor...</td>\n",
       "      <td>2</td>\n",
       "      <td>[[et, ex, certa], [ex, certa, scientia]]</td>\n",
       "    </tr>\n",
       "    <tr>\n",
       "      <th>1395</th>\n",
       "      <td>viard_63_2</td>\n",
       "      <td>igitur ad instantem supplicationem dicti consa...</td>\n",
       "      <td>pdv_347_2</td>\n",
       "      <td>inde est quod cum magister de  fidelis noster ...</td>\n",
       "      <td>2</td>\n",
       "      <td>[[et, ex, certa], [ex, certa, scientia]]</td>\n",
       "    </tr>\n",
       "    <tr>\n",
       "      <th>1397</th>\n",
       "      <td>viard_63_3</td>\n",
       "      <td>et si aliquid in contrarium factum fuerit illu...</td>\n",
       "      <td>pdv_21_18</td>\n",
       "      <td>sicque de negotiorum nostrorum omnium prospera...</td>\n",
       "      <td>2</td>\n",
       "      <td>[[statum, pristinum, et], [pristinum, et, debi...</td>\n",
       "    </tr>\n",
       "    <tr>\n",
       "      <th>1400</th>\n",
       "      <td>viard_63_4</td>\n",
       "      <td>et ut ipsi fratres et dicta eorum posteritas s...</td>\n",
       "      <td>pdv_21_18</td>\n",
       "      <td>sicque de negotiorum nostrorum omnium prospera...</td>\n",
       "      <td>2</td>\n",
       "      <td>[[statum, pristinum, et], [pristinum, et, debi...</td>\n",
       "    </tr>\n",
       "  </tbody>\n",
       "</table>\n",
       "<p>408 rows × 6 columns</p>\n",
       "</div>"
      ],
      "text/plain": [
       "       key_viard                                              viard  \\\n",
       "6      viard_1_1  philippus ualesii et andegauie comes francie e...   \n",
       "18     viard_1_1  philippus ualesii et andegauie comes francie e...   \n",
       "19     viard_1_1  philippus ualesii et andegauie comes francie e...   \n",
       "41     viard_1_2  nos igitur eiusdem in hac parte supplicationib...   \n",
       "44     viard_1_2  nos igitur eiusdem in hac parte supplicationib...   \n",
       "...          ...                                                ...   \n",
       "1391  viard_63_2  igitur ad instantem supplicationem dicti consa...   \n",
       "1394  viard_63_2  igitur ad instantem supplicationem dicti consa...   \n",
       "1395  viard_63_2  igitur ad instantem supplicationem dicti consa...   \n",
       "1397  viard_63_3  et si aliquid in contrarium factum fuerit illu...   \n",
       "1400  viard_63_4  et ut ipsi fratres et dicta eorum posteritas s...   \n",
       "\n",
       "        key_pdv                                                pdv  \\\n",
       "6     pdv_235_2  quare maiestatis nostrae humiliter supplicauit...   \n",
       "18    pdv_348_1  notum facimus uniuersis quod maiestati nostrae...   \n",
       "19    pdv_350_2  per presens igitur scriptum notum facimus uniu...   \n",
       "41    pdv_339_2  eapropter presenti priuilegio notum facimus un...   \n",
       "44    pdv_356_3  et iustitiarium sistens cum omnibus iustitiis ...   \n",
       "...         ...                                                ...   \n",
       "1391  pdv_339_2  eapropter presenti priuilegio notum facimus un...   \n",
       "1394  pdv_343_3  usus et approbatas consuetudines quibus tempor...   \n",
       "1395  pdv_347_2  inde est quod cum magister de  fidelis noster ...   \n",
       "1397  pdv_21_18  sicque de negotiorum nostrorum omnium prospera...   \n",
       "1400  pdv_21_18  sicque de negotiorum nostrorum omnium prospera...   \n",
       "\n",
       "      nombre_trigrams                                           trigrams  \n",
       "6                   3  [[humiliter, supplicauit, ut], [supplicauit, u...  \n",
       "18                  2  [[notum, facimus, uniuersis], [humiliter, supp...  \n",
       "19                  2  [[notum, facimus, uniuersis], [futuris, quod, ...  \n",
       "41                  2    [[de, speciali, gratia], [et, heredibus, suis]]  \n",
       "44                  2    [[de, speciali, gratia], [et, heredibus, suis]]  \n",
       "...               ...                                                ...  \n",
       "1391                2           [[et, ex, certa], [ex, certa, scientia]]  \n",
       "1394                2           [[et, ex, certa], [ex, certa, scientia]]  \n",
       "1395                2           [[et, ex, certa], [ex, certa, scientia]]  \n",
       "1397                2  [[statum, pristinum, et], [pristinum, et, debi...  \n",
       "1400                2  [[statum, pristinum, et], [pristinum, et, debi...  \n",
       "\n",
       "[408 rows x 6 columns]"
      ]
     },
     "execution_count": 337,
     "metadata": {},
     "output_type": "execute_result"
    }
   ],
   "source": [
    "vivi[vivi['nombre_trigrams']>1]"
   ]
  },
  {
   "cell_type": "code",
   "execution_count": 338,
   "id": "ca6b1e71",
   "metadata": {},
   "outputs": [
    {
     "data": {
      "text/plain": [
       "611"
      ]
     },
     "execution_count": 338,
     "metadata": {},
     "output_type": "execute_result"
    }
   ],
   "source": [
    "len(viard)"
   ]
  },
  {
   "cell_type": "markdown",
   "id": "51ac8fbf",
   "metadata": {},
   "source": [
    "# Viard texte"
   ]
  },
  {
   "cell_type": "code",
   "execution_count": 59,
   "id": "b1de4aae",
   "metadata": {},
   "outputs": [],
   "source": [
    "dico_un = {}\n",
    "\n",
    "for i in range(len(df['compare'].tolist())):\n",
    "    dico_un[f'pdv_{i+1}'] = df['compare'].tolist()[i]"
   ]
  },
  {
   "cell_type": "code",
   "execution_count": 60,
   "id": "c4bd59d8",
   "metadata": {},
   "outputs": [],
   "source": [
    "df2 = pd.DataFrame({'viard_texts':df_viard['text'],'clean_viard':df_viard['text'].apply(clean_text)})\n",
    "\n",
    "column_without_brackets = [[string.replace('[', '').replace(']', '').lstrip().rstrip() for string in sublist] for sublist in df2['clean_viard']]\n",
    "\n",
    "df2['clean'] = column_without_brackets\n",
    "df2['compare'] = df2['clean'].apply(join)\n",
    "viard = {}\n",
    "for i in range(len(df2['compare'].tolist())):\n",
    "    viard[f'viard_{i+1}'] = df2['compare'].tolist()[i]"
   ]
  },
  {
   "cell_type": "code",
   "execution_count": 61,
   "id": "60bab9e8",
   "metadata": {},
   "outputs": [],
   "source": [
    "pierre_de_la_vigne = list(dico_un.values())*len(viard)\n",
    "cles_de_la_vigne = list(dico_un.keys())*len(viard)\n",
    "\n",
    "jean_viard = copies(list(viard.values()))\n",
    "cles_jean = copies(list(viard.keys()))"
   ]
  },
  {
   "cell_type": "code",
   "execution_count": 62,
   "id": "ec2c798b",
   "metadata": {},
   "outputs": [
    {
     "name": "stderr",
     "output_type": "stream",
     "text": [
      "100%|█████████████████████████████████████| 23595/23595 [15:33<00:00, 25.26it/s]"
     ]
    },
    {
     "name": "stdout",
     "output_type": "stream",
     "text": [
      "1134\n"
     ]
    },
    {
     "name": "stderr",
     "output_type": "stream",
     "text": [
      "\n"
     ]
    }
   ],
   "source": [
    "tqdm.pandas()\n",
    "zoe = pd.DataFrame({'viard':jean_viard,'pdv':pierre_de_la_vigne})\n",
    "\n",
    "zoe['trigram_commun'] = zoe.progress_apply(lambda row: avoir_trigram_commun(row[\"viard\"], row[\"pdv\"]), axis=1)\n",
    "zoe['key_viard'] = cles_jean\n",
    "zoe['key_pdv'] = cles_de_la_vigne\n",
    "zoe = zoe[['key_viard','viard','key_pdv','pdv','trigram_commun']]\n",
    "lucie = zoe[zoe['trigram_commun'] == True]\n",
    "lucie = lucie.reset_index(drop=True)\n",
    "print(len(lucie))"
   ]
  },
  {
   "cell_type": "code",
   "execution_count": 64,
   "id": "6516720a",
   "metadata": {},
   "outputs": [
    {
     "name": "stderr",
     "output_type": "stream",
     "text": [
      "100%|███████████████████████████████████████| 1134/1134 [01:36<00:00, 11.70it/s]\n"
     ]
    }
   ],
   "source": [
    "han = []\n",
    "trigrams = []\n",
    "\n",
    "for i in tqdm(range(len(lucie))):\n",
    "    inter = []\n",
    "    for tri in string_to_trigrams(lucie['viard'][i].split()):\n",
    "        if tri in string_to_trigrams(lucie['pdv'][i].split()):\n",
    "            inter.append(tri)\n",
    "    han.append(len(inter))\n",
    "    trigrams.append(inter)"
   ]
  },
  {
   "cell_type": "code",
   "execution_count": 65,
   "id": "c7269275",
   "metadata": {},
   "outputs": [],
   "source": [
    "lucie['nombre_trigrams'] = han\n",
    "lucie['trigrams'] = trigrams"
   ]
  },
  {
   "cell_type": "code",
   "execution_count": 68,
   "id": "29ca44bd",
   "metadata": {},
   "outputs": [],
   "source": [
    "lucie['flat'] = lucie['trigrams'].apply(flatten_tri)\n",
    "lucie['flat'] = lucie ['flat'].apply(join)"
   ]
  },
  {
   "cell_type": "code",
   "execution_count": 69,
   "id": "14397913",
   "metadata": {},
   "outputs": [],
   "source": [
    "lucie = lucie[lucie['nombre_trigrams']>1]"
   ]
  },
  {
   "cell_type": "code",
   "execution_count": 74,
   "id": "aa0e0c33",
   "metadata": {},
   "outputs": [
    {
     "ename": "KeyError",
     "evalue": "0",
     "output_type": "error",
     "traceback": [
      "\u001b[0;31m---------------------------------------------------------------------------\u001b[0m",
      "\u001b[0;31mKeyError\u001b[0m                                  Traceback (most recent call last)",
      "\u001b[0;32m~/python/miniconda/envs/coursnlp/lib/python3.7/site-packages/pandas/core/indexes/base.py\u001b[0m in \u001b[0;36mget_loc\u001b[0;34m(self, key, method, tolerance)\u001b[0m\n\u001b[1;32m   3360\u001b[0m             \u001b[0;32mtry\u001b[0m\u001b[0;34m:\u001b[0m\u001b[0;34m\u001b[0m\u001b[0;34m\u001b[0m\u001b[0m\n\u001b[0;32m-> 3361\u001b[0;31m                 \u001b[0;32mreturn\u001b[0m \u001b[0mself\u001b[0m\u001b[0;34m.\u001b[0m\u001b[0m_engine\u001b[0m\u001b[0;34m.\u001b[0m\u001b[0mget_loc\u001b[0m\u001b[0;34m(\u001b[0m\u001b[0mcasted_key\u001b[0m\u001b[0;34m)\u001b[0m\u001b[0;34m\u001b[0m\u001b[0;34m\u001b[0m\u001b[0m\n\u001b[0m\u001b[1;32m   3362\u001b[0m             \u001b[0;32mexcept\u001b[0m \u001b[0mKeyError\u001b[0m \u001b[0;32mas\u001b[0m \u001b[0merr\u001b[0m\u001b[0;34m:\u001b[0m\u001b[0;34m\u001b[0m\u001b[0;34m\u001b[0m\u001b[0m\n",
      "\u001b[0;32m~/python/miniconda/envs/coursnlp/lib/python3.7/site-packages/pandas/_libs/index.pyx\u001b[0m in \u001b[0;36mpandas._libs.index.IndexEngine.get_loc\u001b[0;34m()\u001b[0m\n",
      "\u001b[0;32m~/python/miniconda/envs/coursnlp/lib/python3.7/site-packages/pandas/_libs/index.pyx\u001b[0m in \u001b[0;36mpandas._libs.index.IndexEngine.get_loc\u001b[0;34m()\u001b[0m\n",
      "\u001b[0;32mpandas/_libs/hashtable_class_helper.pxi\u001b[0m in \u001b[0;36mpandas._libs.hashtable.Int64HashTable.get_item\u001b[0;34m()\u001b[0m\n",
      "\u001b[0;32mpandas/_libs/hashtable_class_helper.pxi\u001b[0m in \u001b[0;36mpandas._libs.hashtable.Int64HashTable.get_item\u001b[0;34m()\u001b[0m\n",
      "\u001b[0;31mKeyError\u001b[0m: 0",
      "\nThe above exception was the direct cause of the following exception:\n",
      "\u001b[0;31mKeyError\u001b[0m                                  Traceback (most recent call last)",
      "\u001b[0;32m/tmp/ipykernel_11322/3281576630.py\u001b[0m in \u001b[0;36m<module>\u001b[0;34m\u001b[0m\n\u001b[1;32m      3\u001b[0m \u001b[0;34m\u001b[0m\u001b[0m\n\u001b[1;32m      4\u001b[0m \u001b[0;32mfor\u001b[0m \u001b[0mi\u001b[0m \u001b[0;32min\u001b[0m \u001b[0mrange\u001b[0m\u001b[0;34m(\u001b[0m\u001b[0mlen\u001b[0m\u001b[0;34m(\u001b[0m\u001b[0mlucie\u001b[0m\u001b[0;34m[\u001b[0m\u001b[0;34m'flat'\u001b[0m\u001b[0;34m]\u001b[0m\u001b[0;34m)\u001b[0m\u001b[0;34m)\u001b[0m\u001b[0;34m:\u001b[0m\u001b[0;34m\u001b[0m\u001b[0;34m\u001b[0m\u001b[0m\n\u001b[0;32m----> 5\u001b[0;31m     \u001b[0;32mif\u001b[0m \u001b[0mlucie\u001b[0m\u001b[0;34m[\u001b[0m\u001b[0;34m'flat'\u001b[0m\u001b[0;34m]\u001b[0m\u001b[0;34m[\u001b[0m\u001b[0mi\u001b[0m\u001b[0;34m]\u001b[0m\u001b[0;34m.\u001b[0m\u001b[0mstartswith\u001b[0m\u001b[0;34m(\u001b[0m\u001b[0;34m'notum facimus'\u001b[0m\u001b[0;34m)\u001b[0m\u001b[0;34m:\u001b[0m\u001b[0;34m\u001b[0m\u001b[0;34m\u001b[0m\u001b[0m\n\u001b[0m\u001b[1;32m      6\u001b[0m         \u001b[0mliste_ind\u001b[0m\u001b[0;34m.\u001b[0m\u001b[0mappend\u001b[0m\u001b[0;34m(\u001b[0m\u001b[0mi\u001b[0m\u001b[0;34m)\u001b[0m\u001b[0;34m\u001b[0m\u001b[0;34m\u001b[0m\u001b[0m\n\u001b[1;32m      7\u001b[0m         \u001b[0mliste_texte\u001b[0m\u001b[0;34m.\u001b[0m\u001b[0mappend\u001b[0m\u001b[0;34m(\u001b[0m\u001b[0mlucie\u001b[0m\u001b[0;34m[\u001b[0m\u001b[0;34m'flat'\u001b[0m\u001b[0;34m]\u001b[0m\u001b[0;34m[\u001b[0m\u001b[0mi\u001b[0m\u001b[0;34m]\u001b[0m\u001b[0;34m)\u001b[0m\u001b[0;34m\u001b[0m\u001b[0;34m\u001b[0m\u001b[0m\n",
      "\u001b[0;32m~/python/miniconda/envs/coursnlp/lib/python3.7/site-packages/pandas/core/series.py\u001b[0m in \u001b[0;36m__getitem__\u001b[0;34m(self, key)\u001b[0m\n\u001b[1;32m    940\u001b[0m \u001b[0;34m\u001b[0m\u001b[0m\n\u001b[1;32m    941\u001b[0m         \u001b[0;32melif\u001b[0m \u001b[0mkey_is_scalar\u001b[0m\u001b[0;34m:\u001b[0m\u001b[0;34m\u001b[0m\u001b[0;34m\u001b[0m\u001b[0m\n\u001b[0;32m--> 942\u001b[0;31m             \u001b[0;32mreturn\u001b[0m \u001b[0mself\u001b[0m\u001b[0;34m.\u001b[0m\u001b[0m_get_value\u001b[0m\u001b[0;34m(\u001b[0m\u001b[0mkey\u001b[0m\u001b[0;34m)\u001b[0m\u001b[0;34m\u001b[0m\u001b[0;34m\u001b[0m\u001b[0m\n\u001b[0m\u001b[1;32m    943\u001b[0m \u001b[0;34m\u001b[0m\u001b[0m\n\u001b[1;32m    944\u001b[0m         \u001b[0;32mif\u001b[0m \u001b[0mis_hashable\u001b[0m\u001b[0;34m(\u001b[0m\u001b[0mkey\u001b[0m\u001b[0;34m)\u001b[0m\u001b[0;34m:\u001b[0m\u001b[0;34m\u001b[0m\u001b[0;34m\u001b[0m\u001b[0m\n",
      "\u001b[0;32m~/python/miniconda/envs/coursnlp/lib/python3.7/site-packages/pandas/core/series.py\u001b[0m in \u001b[0;36m_get_value\u001b[0;34m(self, label, takeable)\u001b[0m\n\u001b[1;32m   1049\u001b[0m \u001b[0;34m\u001b[0m\u001b[0m\n\u001b[1;32m   1050\u001b[0m         \u001b[0;31m# Similar to Index.get_value, but we do not fall back to positional\u001b[0m\u001b[0;34m\u001b[0m\u001b[0;34m\u001b[0m\u001b[0;34m\u001b[0m\u001b[0m\n\u001b[0;32m-> 1051\u001b[0;31m         \u001b[0mloc\u001b[0m \u001b[0;34m=\u001b[0m \u001b[0mself\u001b[0m\u001b[0;34m.\u001b[0m\u001b[0mindex\u001b[0m\u001b[0;34m.\u001b[0m\u001b[0mget_loc\u001b[0m\u001b[0;34m(\u001b[0m\u001b[0mlabel\u001b[0m\u001b[0;34m)\u001b[0m\u001b[0;34m\u001b[0m\u001b[0;34m\u001b[0m\u001b[0m\n\u001b[0m\u001b[1;32m   1052\u001b[0m         \u001b[0;32mreturn\u001b[0m \u001b[0mself\u001b[0m\u001b[0;34m.\u001b[0m\u001b[0mindex\u001b[0m\u001b[0;34m.\u001b[0m\u001b[0m_get_values_for_loc\u001b[0m\u001b[0;34m(\u001b[0m\u001b[0mself\u001b[0m\u001b[0;34m,\u001b[0m \u001b[0mloc\u001b[0m\u001b[0;34m,\u001b[0m \u001b[0mlabel\u001b[0m\u001b[0;34m)\u001b[0m\u001b[0;34m\u001b[0m\u001b[0;34m\u001b[0m\u001b[0m\n\u001b[1;32m   1053\u001b[0m \u001b[0;34m\u001b[0m\u001b[0m\n",
      "\u001b[0;32m~/python/miniconda/envs/coursnlp/lib/python3.7/site-packages/pandas/core/indexes/base.py\u001b[0m in \u001b[0;36mget_loc\u001b[0;34m(self, key, method, tolerance)\u001b[0m\n\u001b[1;32m   3361\u001b[0m                 \u001b[0;32mreturn\u001b[0m \u001b[0mself\u001b[0m\u001b[0;34m.\u001b[0m\u001b[0m_engine\u001b[0m\u001b[0;34m.\u001b[0m\u001b[0mget_loc\u001b[0m\u001b[0;34m(\u001b[0m\u001b[0mcasted_key\u001b[0m\u001b[0;34m)\u001b[0m\u001b[0;34m\u001b[0m\u001b[0;34m\u001b[0m\u001b[0m\n\u001b[1;32m   3362\u001b[0m             \u001b[0;32mexcept\u001b[0m \u001b[0mKeyError\u001b[0m \u001b[0;32mas\u001b[0m \u001b[0merr\u001b[0m\u001b[0;34m:\u001b[0m\u001b[0;34m\u001b[0m\u001b[0;34m\u001b[0m\u001b[0m\n\u001b[0;32m-> 3363\u001b[0;31m                 \u001b[0;32mraise\u001b[0m \u001b[0mKeyError\u001b[0m\u001b[0;34m(\u001b[0m\u001b[0mkey\u001b[0m\u001b[0;34m)\u001b[0m \u001b[0;32mfrom\u001b[0m \u001b[0merr\u001b[0m\u001b[0;34m\u001b[0m\u001b[0;34m\u001b[0m\u001b[0m\n\u001b[0m\u001b[1;32m   3364\u001b[0m \u001b[0;34m\u001b[0m\u001b[0m\n\u001b[1;32m   3365\u001b[0m         \u001b[0;32mif\u001b[0m \u001b[0mis_scalar\u001b[0m\u001b[0;34m(\u001b[0m\u001b[0mkey\u001b[0m\u001b[0;34m)\u001b[0m \u001b[0;32mand\u001b[0m \u001b[0misna\u001b[0m\u001b[0;34m(\u001b[0m\u001b[0mkey\u001b[0m\u001b[0;34m)\u001b[0m \u001b[0;32mand\u001b[0m \u001b[0;32mnot\u001b[0m \u001b[0mself\u001b[0m\u001b[0;34m.\u001b[0m\u001b[0mhasnans\u001b[0m\u001b[0;34m:\u001b[0m\u001b[0;34m\u001b[0m\u001b[0;34m\u001b[0m\u001b[0m\n",
      "\u001b[0;31mKeyError\u001b[0m: 0"
     ]
    }
   ],
   "source": [
    "liste_ind = []\n",
    "liste_texte = []\n",
    "\n",
    "for i in range(len(lucie['flat'])):\n",
    "    if lucie['flat'][i].startswith('notum facimus'):\n",
    "        liste_ind.append(i)\n",
    "        liste_texte.append(lucie['flat'][i])\n",
    "Counter(liste_texte).most_common()"
   ]
  },
  {
   "cell_type": "code",
   "execution_count": 75,
   "id": "76b1e368",
   "metadata": {},
   "outputs": [],
   "source": [
    "lucie['notum'] = lucie['flat'].apply(same_flat)"
   ]
  },
  {
   "cell_type": "code",
   "execution_count": 76,
   "id": "0bce7884",
   "metadata": {},
   "outputs": [],
   "source": [
    "mich = lucie[lucie['notum'] == False].reset_index(drop=True)"
   ]
  },
  {
   "cell_type": "code",
   "execution_count": 77,
   "id": "5abcb644",
   "metadata": {},
   "outputs": [
    {
     "data": {
      "text/plain": [
       "0"
      ]
     },
     "execution_count": 77,
     "metadata": {},
     "output_type": "execute_result"
    }
   ],
   "source": [
    "len(liste_ind)"
   ]
  },
  {
   "cell_type": "code",
   "execution_count": 81,
   "id": "cf079b7a",
   "metadata": {},
   "outputs": [
    {
     "data": {
      "text/plain": [
       "[(2, 110),\n",
       " (3, 62),\n",
       " (4, 36),\n",
       " (5, 17),\n",
       " (7, 14),\n",
       " (6, 11),\n",
       " (8, 6),\n",
       " (12, 4),\n",
       " (13, 4),\n",
       " (10, 2),\n",
       " (9, 2),\n",
       " (16, 2),\n",
       " (11, 2),\n",
       " (14, 1)]"
      ]
     },
     "execution_count": 81,
     "metadata": {},
     "output_type": "execute_result"
    }
   ],
   "source": [
    "Counter(mich['nombre_trigrams'].tolist()).most_common()"
   ]
  },
  {
   "cell_type": "code",
   "execution_count": 82,
   "id": "aae57b2f",
   "metadata": {},
   "outputs": [],
   "source": [
    "def delete_notum(liste):\n",
    "    liste_finale = []\n",
    "    for first in liste:\n",
    "        if first != ['notum','facimus','uniuersis'] and first != ['facimus','uniuersis','tam'] and first != ['uniuersis','tam','presentibus'] and first != ['tam','presentibus','quam'] and first != ['et','ex','certa'] and first != ['ex','certa','scienta']:\n",
    "            liste_finale.append(first)\n",
    "    return liste_finale"
   ]
  },
  {
   "cell_type": "code",
   "execution_count": 83,
   "id": "bfe17ce5",
   "metadata": {},
   "outputs": [],
   "source": [
    "mich['test'] = mich['trigrams'].apply(delete_notum)"
   ]
  },
  {
   "cell_type": "code",
   "execution_count": 381,
   "id": "a447e92e",
   "metadata": {
    "scrolled": false
   },
   "outputs": [
    {
     "data": {
      "image/png": "[encoded data removed]",
      "text/plain": [
       "<Figure size 1000x600 with 1 Axes>"
      ]
     },
     "metadata": {},
     "output_type": "display_data"
    }
   ],
   "source": [
    "data = dict(Counter(mich['nombre_trigrams'].tolist()).most_common())\n",
    "\n",
    "plot = pd.DataFrame(list(data.items()), columns=[\"nombre de trigrams\", \"Nombre d'occurrences\"])\n",
    "\n",
    "plt.figure(figsize=(10, 6))\n",
    "sns.barplot(x=\"nombre de trigrams\", y=\"Nombre d'occurrences\", data=plot)\n",
    "plt.ylabel(\"Occurrences\")\n",
    "#plt.yscale('log')\n",
    "plt.xlabel(\"nombre de trigrams\")\n",
    "plt.title(\"Distribution du nombre de trigrams similaires entre Viard et PdV\")\n",
    "plt.xticks(rotation=45)\n",
    "\n",
    "plt.show()"
   ]
  },
  {
   "cell_type": "code",
   "execution_count": 63,
   "id": "1e1ac8ec",
   "metadata": {},
   "outputs": [
    {
     "ename": "NameError",
     "evalue": "name 'mich' is not defined",
     "output_type": "error",
     "traceback": [
      "\u001b[0;31m---------------------------------------------------------------------------\u001b[0m",
      "\u001b[0;31mNameError\u001b[0m                                 Traceback (most recent call last)",
      "\u001b[0;32m/tmp/ipykernel_11322/3576895021.py\u001b[0m in \u001b[0;36m<module>\u001b[0;34m\u001b[0m\n\u001b[0;32m----> 1\u001b[0;31m \u001b[0mword_list_counter\u001b[0m \u001b[0;34m=\u001b[0m \u001b[0mCounter\u001b[0m\u001b[0;34m(\u001b[0m\u001b[0mtuple\u001b[0m\u001b[0;34m(\u001b[0m\u001b[0msublist\u001b[0m\u001b[0;34m)\u001b[0m \u001b[0;32mfor\u001b[0m \u001b[0msublist_list\u001b[0m \u001b[0;32min\u001b[0m \u001b[0mmich\u001b[0m\u001b[0;34m[\u001b[0m\u001b[0;34m\"trigrams\"\u001b[0m\u001b[0;34m]\u001b[0m \u001b[0;32mfor\u001b[0m \u001b[0msublist\u001b[0m \u001b[0;32min\u001b[0m \u001b[0msublist_list\u001b[0m\u001b[0;34m)\u001b[0m\u001b[0;34m.\u001b[0m\u001b[0mmost_common\u001b[0m\u001b[0;34m(\u001b[0m\u001b[0;34m)\u001b[0m\u001b[0;34m\u001b[0m\u001b[0;34m\u001b[0m\u001b[0m\n\u001b[0m",
      "\u001b[0;31mNameError\u001b[0m: name 'mich' is not defined"
     ]
    }
   ],
   "source": [
    "word_list_counter = Counter(tuple(sublist) for sublist_list in mich[\"trigrams\"] for sublist in sublist_list).most_common()"
   ]
  },
  {
   "cell_type": "code",
   "execution_count": 84,
   "id": "4ebdf3a0",
   "metadata": {},
   "outputs": [],
   "source": [
    "trigrams_delete = [['tam', 'presentibus', 'quam'],['notum', 'facimus', 'uniuersis'],\n",
    "                  ['presentibus', 'quam', 'futuris'],['uniuersis', 'tam', 'presentibus'],\n",
    "                  ['quam', 'futuris', 'quod'],['de', 'speciali', 'gratia'],\n",
    "                  ['et', 'ex', 'certa'],['ex', 'certa', 'scientia'],['speciali', 'gratia', 'et'],\n",
    "                  ['futuris', 'quod', 'nos'],['presentes', 'litteras', 'inspecturis'],\n",
    "                   ['uniuersis', 'presentes', 'litteras'],\n",
    "                  ['facimus','uniuersis','tam'],['de','regno','nostro'],\n",
    "                  ['in','regno','nostro'],['et','regni','nostri'],['regni','nostri','et']]"
   ]
  },
  {
   "cell_type": "code",
   "execution_count": 85,
   "id": "9527bb59",
   "metadata": {},
   "outputs": [],
   "source": [
    "def remove_lists(row):\n",
    "    return [sublist for sublist in row if sublist not in trigrams_delete]"
   ]
  },
  {
   "cell_type": "code",
   "execution_count": 86,
   "id": "ec2b898d",
   "metadata": {},
   "outputs": [],
   "source": [
    "mich['final_grams'] = mich['trigrams'].apply(remove_lists)"
   ]
  },
  {
   "cell_type": "code",
   "execution_count": 87,
   "id": "e6392e51",
   "metadata": {},
   "outputs": [],
   "source": [
    "filtered_df = mich[mich[\"final_grams\"].apply(lambda x: all(sublist for sublist in x))]"
   ]
  },
  {
   "cell_type": "code",
   "execution_count": 88,
   "id": "3646e914",
   "metadata": {},
   "outputs": [],
   "source": [
    "def empty_lists(liste):\n",
    "    return liste != []"
   ]
  },
  {
   "cell_type": "code",
   "execution_count": 89,
   "id": "c7495569",
   "metadata": {},
   "outputs": [],
   "source": [
    "mich['not_empty'] = mich['final_grams'].apply(empty_lists)"
   ]
  },
  {
   "cell_type": "code",
   "execution_count": 90,
   "id": "01da9c14",
   "metadata": {
    "scrolled": false
   },
   "outputs": [],
   "source": [
    "haha = mich[mich['not_empty'] == True].reset_index(drop=True)"
   ]
  },
  {
   "cell_type": "code",
   "execution_count": 91,
   "id": "3c7809fe",
   "metadata": {},
   "outputs": [
    {
     "data": {
      "text/html": [
       "<div>\n",
       "<style scoped>\n",
       "    .dataframe tbody tr th:only-of-type {\n",
       "        vertical-align: middle;\n",
       "    }\n",
       "\n",
       "    .dataframe tbody tr th {\n",
       "        vertical-align: top;\n",
       "    }\n",
       "\n",
       "    .dataframe thead th {\n",
       "        text-align: right;\n",
       "    }\n",
       "</style>\n",
       "<table border=\"1\" class=\"dataframe\">\n",
       "  <thead>\n",
       "    <tr style=\"text-align: right;\">\n",
       "      <th></th>\n",
       "      <th>key_viard</th>\n",
       "      <th>viard</th>\n",
       "      <th>key_pdv</th>\n",
       "      <th>pdv</th>\n",
       "      <th>trigram_commun</th>\n",
       "      <th>nombre_trigrams</th>\n",
       "      <th>trigrams</th>\n",
       "      <th>flat</th>\n",
       "      <th>notum</th>\n",
       "      <th>test</th>\n",
       "      <th>final_grams</th>\n",
       "      <th>not_empty</th>\n",
       "    </tr>\n",
       "  </thead>\n",
       "  <tbody>\n",
       "    <tr>\n",
       "      <th>0</th>\n",
       "      <td>viard_1</td>\n",
       "      <td>philippus ualesii et andegauie comes francie e...</td>\n",
       "      <td>pdv_62</td>\n",
       "      <td>curas nostras consideratio studiosa sollicitat...</td>\n",
       "      <td>True</td>\n",
       "      <td>2</td>\n",
       "      <td>[[ut, super, hoc], [ad, hoc, per]]</td>\n",
       "      <td>ut super hoc ad hoc per</td>\n",
       "      <td>False</td>\n",
       "      <td>[[ut, super, hoc], [ad, hoc, per]]</td>\n",
       "      <td>[[ut, super, hoc], [ad, hoc, per]]</td>\n",
       "      <td>True</td>\n",
       "    </tr>\n",
       "    <tr>\n",
       "      <th>1</th>\n",
       "      <td>viard_1</td>\n",
       "      <td>philippus ualesii et andegauie comes francie e...</td>\n",
       "      <td>pdv_235</td>\n",
       "      <td>exposuit excellentiae nostrae b de  fidelis no...</td>\n",
       "      <td>True</td>\n",
       "      <td>3</td>\n",
       "      <td>[[humiliter, supplicauit, ut], [supplicauit, u...</td>\n",
       "      <td>humiliter supplicauit ut supplicauit ut super ...</td>\n",
       "      <td>False</td>\n",
       "      <td>[[humiliter, supplicauit, ut], [supplicauit, u...</td>\n",
       "      <td>[[humiliter, supplicauit, ut], [supplicauit, u...</td>\n",
       "      <td>True</td>\n",
       "    </tr>\n",
       "    <tr>\n",
       "      <th>2</th>\n",
       "      <td>viard_1</td>\n",
       "      <td>philippus ualesii et andegauie comes francie e...</td>\n",
       "      <td>pdv_245</td>\n",
       "      <td>imperialis beneuolentia fidelium subiectorum e...</td>\n",
       "      <td>True</td>\n",
       "      <td>3</td>\n",
       "      <td>[[humiliter, supplicauit, ut], [in, hac, parte...</td>\n",
       "      <td>humiliter supplicauit ut in hac parte de speci...</td>\n",
       "      <td>False</td>\n",
       "      <td>[[humiliter, supplicauit, ut], [in, hac, parte...</td>\n",
       "      <td>[[humiliter, supplicauit, ut], [in, hac, parte]]</td>\n",
       "      <td>True</td>\n",
       "    </tr>\n",
       "    <tr>\n",
       "      <th>3</th>\n",
       "      <td>viard_1</td>\n",
       "      <td>philippus ualesii et andegauie comes francie e...</td>\n",
       "      <td>pdv_326</td>\n",
       "      <td>fidelium nostrorum eterna memoria nostro recon...</td>\n",
       "      <td>True</td>\n",
       "      <td>2</td>\n",
       "      <td>[[de, speciali, gratia], [et, heredibus, suis]]</td>\n",
       "      <td>de speciali gratia et heredibus suis</td>\n",
       "      <td>False</td>\n",
       "      <td>[[de, speciali, gratia], [et, heredibus, suis]]</td>\n",
       "      <td>[[et, heredibus, suis]]</td>\n",
       "      <td>True</td>\n",
       "    </tr>\n",
       "    <tr>\n",
       "      <th>4</th>\n",
       "      <td>viard_1</td>\n",
       "      <td>philippus ualesii et andegauie comes francie e...</td>\n",
       "      <td>pdv_333</td>\n",
       "      <td>opus in nobis egregium clementia suggerente pe...</td>\n",
       "      <td>True</td>\n",
       "      <td>2</td>\n",
       "      <td>[[notum, facimus, uniuersis], [et, heredibus, ...</td>\n",
       "      <td>notum facimus uniuersis et heredibus suis</td>\n",
       "      <td>False</td>\n",
       "      <td>[[et, heredibus, suis]]</td>\n",
       "      <td>[[et, heredibus, suis]]</td>\n",
       "      <td>True</td>\n",
       "    </tr>\n",
       "    <tr>\n",
       "      <th>...</th>\n",
       "      <td>...</td>\n",
       "      <td>...</td>\n",
       "      <td>...</td>\n",
       "      <td>...</td>\n",
       "      <td>...</td>\n",
       "      <td>...</td>\n",
       "      <td>...</td>\n",
       "      <td>...</td>\n",
       "      <td>...</td>\n",
       "      <td>...</td>\n",
       "      <td>...</td>\n",
       "      <td>...</td>\n",
       "    </tr>\n",
       "    <tr>\n",
       "      <th>164</th>\n",
       "      <td>viard_63</td>\n",
       "      <td>philippus dei gracia francorum rex notum facim...</td>\n",
       "      <td>pdv_17</td>\n",
       "      <td>ad uos est hoc uerbum filii effrem male tenden...</td>\n",
       "      <td>True</td>\n",
       "      <td>2</td>\n",
       "      <td>[[ad, statum, pristinum], [ad, statum, pristin...</td>\n",
       "      <td>ad statum pristinum ad statum pristinum</td>\n",
       "      <td>False</td>\n",
       "      <td>[[ad, statum, pristinum], [ad, statum, pristin...</td>\n",
       "      <td>[[ad, statum, pristinum], [ad, statum, pristin...</td>\n",
       "      <td>True</td>\n",
       "    </tr>\n",
       "    <tr>\n",
       "      <th>165</th>\n",
       "      <td>viard_63</td>\n",
       "      <td>philippus dei gracia francorum rex notum facim...</td>\n",
       "      <td>pdv_21</td>\n",
       "      <td>leuate in circuitu oculos uestros arrigite fil...</td>\n",
       "      <td>True</td>\n",
       "      <td>6</td>\n",
       "      <td>[[in, regno, nostro], [in, regno, nostro], [st...</td>\n",
       "      <td>in regno nostro in regno nostro statum pristin...</td>\n",
       "      <td>False</td>\n",
       "      <td>[[in, regno, nostro], [in, regno, nostro], [st...</td>\n",
       "      <td>[[statum, pristinum, et], [pristinum, et, debi...</td>\n",
       "      <td>True</td>\n",
       "    </tr>\n",
       "    <tr>\n",
       "      <th>166</th>\n",
       "      <td>viard_63</td>\n",
       "      <td>philippus dei gracia francorum rex notum facim...</td>\n",
       "      <td>pdv_35</td>\n",
       "      <td>subministrante nouorum emergentium uarietate m...</td>\n",
       "      <td>True</td>\n",
       "      <td>3</td>\n",
       "      <td>[[ex, certa, scientia], [alii, de, regno], [al...</td>\n",
       "      <td>ex certa scientia alii de regno alii de regno</td>\n",
       "      <td>False</td>\n",
       "      <td>[[ex, certa, scientia], [alii, de, regno], [al...</td>\n",
       "      <td>[[alii, de, regno], [alii, de, regno]]</td>\n",
       "      <td>True</td>\n",
       "    </tr>\n",
       "    <tr>\n",
       "      <th>167</th>\n",
       "      <td>viard_63</td>\n",
       "      <td>philippus dei gracia francorum rex notum facim...</td>\n",
       "      <td>pdv_115</td>\n",
       "      <td>semper hactenus ut loquamur ad litteram contin...</td>\n",
       "      <td>True</td>\n",
       "      <td>5</td>\n",
       "      <td>[[in, regno, nostro], [in, regno, nostro], [re...</td>\n",
       "      <td>in regno nostro in regno nostro regni nostri e...</td>\n",
       "      <td>False</td>\n",
       "      <td>[[in, regno, nostro], [in, regno, nostro], [re...</td>\n",
       "      <td>[[per, regnum, nostrum]]</td>\n",
       "      <td>True</td>\n",
       "    </tr>\n",
       "    <tr>\n",
       "      <th>168</th>\n",
       "      <td>viard_63</td>\n",
       "      <td>philippus dei gracia francorum rex notum facim...</td>\n",
       "      <td>pdv_116</td>\n",
       "      <td>multa sunt quae uobis et uestris libenter plac...</td>\n",
       "      <td>True</td>\n",
       "      <td>3</td>\n",
       "      <td>[[in, regno, nostro], [in, regno, nostro], [pe...</td>\n",
       "      <td>in regno nostro in regno nostro per regnum nos...</td>\n",
       "      <td>False</td>\n",
       "      <td>[[in, regno, nostro], [in, regno, nostro], [pe...</td>\n",
       "      <td>[[per, regnum, nostrum]]</td>\n",
       "      <td>True</td>\n",
       "    </tr>\n",
       "  </tbody>\n",
       "</table>\n",
       "<p>169 rows × 12 columns</p>\n",
       "</div>"
      ],
      "text/plain": [
       "    key_viard                                              viard  key_pdv  \\\n",
       "0     viard_1  philippus ualesii et andegauie comes francie e...   pdv_62   \n",
       "1     viard_1  philippus ualesii et andegauie comes francie e...  pdv_235   \n",
       "2     viard_1  philippus ualesii et andegauie comes francie e...  pdv_245   \n",
       "3     viard_1  philippus ualesii et andegauie comes francie e...  pdv_326   \n",
       "4     viard_1  philippus ualesii et andegauie comes francie e...  pdv_333   \n",
       "..        ...                                                ...      ...   \n",
       "164  viard_63  philippus dei gracia francorum rex notum facim...   pdv_17   \n",
       "165  viard_63  philippus dei gracia francorum rex notum facim...   pdv_21   \n",
       "166  viard_63  philippus dei gracia francorum rex notum facim...   pdv_35   \n",
       "167  viard_63  philippus dei gracia francorum rex notum facim...  pdv_115   \n",
       "168  viard_63  philippus dei gracia francorum rex notum facim...  pdv_116   \n",
       "\n",
       "                                                   pdv  trigram_commun  \\\n",
       "0    curas nostras consideratio studiosa sollicitat...            True   \n",
       "1    exposuit excellentiae nostrae b de  fidelis no...            True   \n",
       "2    imperialis beneuolentia fidelium subiectorum e...            True   \n",
       "3    fidelium nostrorum eterna memoria nostro recon...            True   \n",
       "4    opus in nobis egregium clementia suggerente pe...            True   \n",
       "..                                                 ...             ...   \n",
       "164  ad uos est hoc uerbum filii effrem male tenden...            True   \n",
       "165  leuate in circuitu oculos uestros arrigite fil...            True   \n",
       "166  subministrante nouorum emergentium uarietate m...            True   \n",
       "167  semper hactenus ut loquamur ad litteram contin...            True   \n",
       "168  multa sunt quae uobis et uestris libenter plac...            True   \n",
       "\n",
       "     nombre_trigrams                                           trigrams  \\\n",
       "0                  2                 [[ut, super, hoc], [ad, hoc, per]]   \n",
       "1                  3  [[humiliter, supplicauit, ut], [supplicauit, u...   \n",
       "2                  3  [[humiliter, supplicauit, ut], [in, hac, parte...   \n",
       "3                  2    [[de, speciali, gratia], [et, heredibus, suis]]   \n",
       "4                  2  [[notum, facimus, uniuersis], [et, heredibus, ...   \n",
       "..               ...                                                ...   \n",
       "164                2  [[ad, statum, pristinum], [ad, statum, pristin...   \n",
       "165                6  [[in, regno, nostro], [in, regno, nostro], [st...   \n",
       "166                3  [[ex, certa, scientia], [alii, de, regno], [al...   \n",
       "167                5  [[in, regno, nostro], [in, regno, nostro], [re...   \n",
       "168                3  [[in, regno, nostro], [in, regno, nostro], [pe...   \n",
       "\n",
       "                                                  flat  notum  \\\n",
       "0                              ut super hoc ad hoc per  False   \n",
       "1    humiliter supplicauit ut supplicauit ut super ...  False   \n",
       "2    humiliter supplicauit ut in hac parte de speci...  False   \n",
       "3                 de speciali gratia et heredibus suis  False   \n",
       "4            notum facimus uniuersis et heredibus suis  False   \n",
       "..                                                 ...    ...   \n",
       "164            ad statum pristinum ad statum pristinum  False   \n",
       "165  in regno nostro in regno nostro statum pristin...  False   \n",
       "166      ex certa scientia alii de regno alii de regno  False   \n",
       "167  in regno nostro in regno nostro regni nostri e...  False   \n",
       "168  in regno nostro in regno nostro per regnum nos...  False   \n",
       "\n",
       "                                                  test  \\\n",
       "0                   [[ut, super, hoc], [ad, hoc, per]]   \n",
       "1    [[humiliter, supplicauit, ut], [supplicauit, u...   \n",
       "2    [[humiliter, supplicauit, ut], [in, hac, parte...   \n",
       "3      [[de, speciali, gratia], [et, heredibus, suis]]   \n",
       "4                              [[et, heredibus, suis]]   \n",
       "..                                                 ...   \n",
       "164  [[ad, statum, pristinum], [ad, statum, pristin...   \n",
       "165  [[in, regno, nostro], [in, regno, nostro], [st...   \n",
       "166  [[ex, certa, scientia], [alii, de, regno], [al...   \n",
       "167  [[in, regno, nostro], [in, regno, nostro], [re...   \n",
       "168  [[in, regno, nostro], [in, regno, nostro], [pe...   \n",
       "\n",
       "                                           final_grams  not_empty  \n",
       "0                   [[ut, super, hoc], [ad, hoc, per]]       True  \n",
       "1    [[humiliter, supplicauit, ut], [supplicauit, u...       True  \n",
       "2     [[humiliter, supplicauit, ut], [in, hac, parte]]       True  \n",
       "3                              [[et, heredibus, suis]]       True  \n",
       "4                              [[et, heredibus, suis]]       True  \n",
       "..                                                 ...        ...  \n",
       "164  [[ad, statum, pristinum], [ad, statum, pristin...       True  \n",
       "165  [[statum, pristinum, et], [pristinum, et, debi...       True  \n",
       "166             [[alii, de, regno], [alii, de, regno]]       True  \n",
       "167                           [[per, regnum, nostrum]]       True  \n",
       "168                           [[per, regnum, nostrum]]       True  \n",
       "\n",
       "[169 rows x 12 columns]"
      ]
     },
     "execution_count": 91,
     "metadata": {},
     "output_type": "execute_result"
    }
   ],
   "source": [
    "haha"
   ]
  },
  {
   "cell_type": "code",
   "execution_count": 155,
   "id": "6755d7b8",
   "metadata": {},
   "outputs": [
    {
     "name": "stderr",
     "output_type": "stream",
     "text": [
      "164it [2:21:47, 51.88s/it] \n"
     ]
    }
   ],
   "source": [
    "resultats = []\n",
    "for index, row in tqdm(test.iterrows()):\n",
    "    try:\n",
    "        resultat = test_2(row[\"viard\"], row[\"pdv\"])\n",
    "        resultats.append(resultat)\n",
    "    except Exception as e:\n",
    "        print(f\"Erreur survenue pour la ligne {index}: {e}\")\n",
    "        resultats.append(None)\n",
    "\n",
    "test[\"resultat\"] = resultats"
   ]
  },
  {
   "cell_type": "code",
   "execution_count": 156,
   "id": "c535da40",
   "metadata": {},
   "outputs": [],
   "source": [
    "test.to_excel('viard_pdv_final.xlsx')"
   ]
  },
  {
   "cell_type": "code",
   "execution_count": 160,
   "id": "aa5f3f65",
   "metadata": {},
   "outputs": [
    {
     "data": {
      "text/html": [
       "<div>\n",
       "<style scoped>\n",
       "    .dataframe tbody tr th:only-of-type {\n",
       "        vertical-align: middle;\n",
       "    }\n",
       "\n",
       "    .dataframe tbody tr th {\n",
       "        vertical-align: top;\n",
       "    }\n",
       "\n",
       "    .dataframe thead th {\n",
       "        text-align: right;\n",
       "    }\n",
       "</style>\n",
       "<table border=\"1\" class=\"dataframe\">\n",
       "  <thead>\n",
       "    <tr style=\"text-align: right;\">\n",
       "      <th></th>\n",
       "      <th>key_viard</th>\n",
       "      <th>viard</th>\n",
       "      <th>key_pdv</th>\n",
       "      <th>pdv</th>\n",
       "      <th>trigram_commun</th>\n",
       "      <th>nombre_trigrams</th>\n",
       "      <th>trigrams</th>\n",
       "      <th>flat</th>\n",
       "      <th>notum</th>\n",
       "      <th>final_grams</th>\n",
       "      <th>not_empty</th>\n",
       "      <th>resultat</th>\n",
       "    </tr>\n",
       "  </thead>\n",
       "  <tbody>\n",
       "    <tr>\n",
       "      <th>0</th>\n",
       "      <td>viard_1</td>\n",
       "      <td>philippus ualesii et andegauie comes francie e...</td>\n",
       "      <td>pdv_62</td>\n",
       "      <td>curas nostras consideratio studiosa sollicitat...</td>\n",
       "      <td>True</td>\n",
       "      <td>2</td>\n",
       "      <td>[[ut, super, hoc], [ad, hoc, per]]</td>\n",
       "      <td>ut super hoc ad hoc per</td>\n",
       "      <td>False</td>\n",
       "      <td>[[ut, super, hoc], [ad, hoc, per]]</td>\n",
       "      <td>True</td>\n",
       "      <td>[[philippus, ualesii, et, andegauie, comes, fr...</td>\n",
       "    </tr>\n",
       "    <tr>\n",
       "      <th>1</th>\n",
       "      <td>viard_1</td>\n",
       "      <td>philippus ualesii et andegauie comes francie e...</td>\n",
       "      <td>pdv_235</td>\n",
       "      <td>exposuit excellentiae nostrae b de  fidelis no...</td>\n",
       "      <td>True</td>\n",
       "      <td>3</td>\n",
       "      <td>[[humiliter, supplicauit, ut], [supplicauit, u...</td>\n",
       "      <td>humiliter supplicauit ut supplicauit ut super ...</td>\n",
       "      <td>False</td>\n",
       "      <td>[[humiliter, supplicauit, ut], [supplicauit, u...</td>\n",
       "      <td>True</td>\n",
       "      <td>[[philippus, ualesii, et, andegauie, comes, fr...</td>\n",
       "    </tr>\n",
       "    <tr>\n",
       "      <th>2</th>\n",
       "      <td>viard_1</td>\n",
       "      <td>philippus ualesii et andegauie comes francie e...</td>\n",
       "      <td>pdv_245</td>\n",
       "      <td>imperialis beneuolentia fidelium subiectorum e...</td>\n",
       "      <td>True</td>\n",
       "      <td>3</td>\n",
       "      <td>[[humiliter, supplicauit, ut], [in, hac, parte...</td>\n",
       "      <td>humiliter supplicauit ut in hac parte de speci...</td>\n",
       "      <td>False</td>\n",
       "      <td>[[humiliter, supplicauit, ut], [in, hac, parte]]</td>\n",
       "      <td>True</td>\n",
       "      <td>[[philippus, ualesii, et, andegauie, comes, fr...</td>\n",
       "    </tr>\n",
       "    <tr>\n",
       "      <th>3</th>\n",
       "      <td>viard_1</td>\n",
       "      <td>philippus ualesii et andegauie comes francie e...</td>\n",
       "      <td>pdv_326</td>\n",
       "      <td>fidelium nostrorum eterna memoria nostro recon...</td>\n",
       "      <td>True</td>\n",
       "      <td>2</td>\n",
       "      <td>[[de, speciali, gratia], [et, heredibus, suis]]</td>\n",
       "      <td>de speciali gratia et heredibus suis</td>\n",
       "      <td>False</td>\n",
       "      <td>[[et, heredibus, suis]]</td>\n",
       "      <td>True</td>\n",
       "      <td>[[philippus, ualesii, et, andegauie, comes, fr...</td>\n",
       "    </tr>\n",
       "    <tr>\n",
       "      <th>4</th>\n",
       "      <td>viard_1</td>\n",
       "      <td>philippus ualesii et andegauie comes francie e...</td>\n",
       "      <td>pdv_333</td>\n",
       "      <td>opus in nobis egregium clementia suggerente pe...</td>\n",
       "      <td>True</td>\n",
       "      <td>2</td>\n",
       "      <td>[[notum, facimus, uniuersis], [et, heredibus, ...</td>\n",
       "      <td>notum facimus uniuersis et heredibus suis</td>\n",
       "      <td>False</td>\n",
       "      <td>[[et, heredibus, suis]]</td>\n",
       "      <td>True</td>\n",
       "      <td>[[philippus, ualesii, et, andegauie, comes, fr...</td>\n",
       "    </tr>\n",
       "    <tr>\n",
       "      <th>...</th>\n",
       "      <td>...</td>\n",
       "      <td>...</td>\n",
       "      <td>...</td>\n",
       "      <td>...</td>\n",
       "      <td>...</td>\n",
       "      <td>...</td>\n",
       "      <td>...</td>\n",
       "      <td>...</td>\n",
       "      <td>...</td>\n",
       "      <td>...</td>\n",
       "      <td>...</td>\n",
       "      <td>...</td>\n",
       "    </tr>\n",
       "    <tr>\n",
       "      <th>159</th>\n",
       "      <td>viard_63</td>\n",
       "      <td>philippus dei gracia francorum rex notum facim...</td>\n",
       "      <td>pdv_17</td>\n",
       "      <td>ad uos est hoc uerbum filii effrem male tenden...</td>\n",
       "      <td>True</td>\n",
       "      <td>2</td>\n",
       "      <td>[[ad, statum, pristinum], [ad, statum, pristin...</td>\n",
       "      <td>ad statum pristinum ad statum pristinum</td>\n",
       "      <td>False</td>\n",
       "      <td>[[ad, statum, pristinum], [ad, statum, pristin...</td>\n",
       "      <td>True</td>\n",
       "      <td>[[philippus, dei, gracia, francorum, rex, notu...</td>\n",
       "    </tr>\n",
       "    <tr>\n",
       "      <th>160</th>\n",
       "      <td>viard_63</td>\n",
       "      <td>philippus dei gracia francorum rex notum facim...</td>\n",
       "      <td>pdv_21</td>\n",
       "      <td>leuate in circuitu oculos uestros arrigite fil...</td>\n",
       "      <td>True</td>\n",
       "      <td>6</td>\n",
       "      <td>[[in, regno, nostro], [in, regno, nostro], [st...</td>\n",
       "      <td>in regno nostro in regno nostro statum pristin...</td>\n",
       "      <td>False</td>\n",
       "      <td>[[statum, pristinum, et], [pristinum, et, debi...</td>\n",
       "      <td>True</td>\n",
       "      <td>[[philippus, dei, gracia, francorum, rex, notu...</td>\n",
       "    </tr>\n",
       "    <tr>\n",
       "      <th>161</th>\n",
       "      <td>viard_63</td>\n",
       "      <td>philippus dei gracia francorum rex notum facim...</td>\n",
       "      <td>pdv_35</td>\n",
       "      <td>subministrante nouorum emergentium uarietate m...</td>\n",
       "      <td>True</td>\n",
       "      <td>3</td>\n",
       "      <td>[[ex, certa, scientia], [alii, de, regno], [al...</td>\n",
       "      <td>ex certa scientia alii de regno alii de regno</td>\n",
       "      <td>False</td>\n",
       "      <td>[[alii, de, regno], [alii, de, regno]]</td>\n",
       "      <td>True</td>\n",
       "      <td>[[philippus, dei, gracia, francorum, rex, notu...</td>\n",
       "    </tr>\n",
       "    <tr>\n",
       "      <th>162</th>\n",
       "      <td>viard_63</td>\n",
       "      <td>philippus dei gracia francorum rex notum facim...</td>\n",
       "      <td>pdv_115</td>\n",
       "      <td>semper hactenus ut loquamur ad litteram contin...</td>\n",
       "      <td>True</td>\n",
       "      <td>5</td>\n",
       "      <td>[[in, regno, nostro], [in, regno, nostro], [re...</td>\n",
       "      <td>in regno nostro in regno nostro regni nostri e...</td>\n",
       "      <td>False</td>\n",
       "      <td>[[per, regnum, nostrum]]</td>\n",
       "      <td>True</td>\n",
       "      <td>[[philippus, dei, gracia, francorum, rex, notu...</td>\n",
       "    </tr>\n",
       "    <tr>\n",
       "      <th>163</th>\n",
       "      <td>viard_63</td>\n",
       "      <td>philippus dei gracia francorum rex notum facim...</td>\n",
       "      <td>pdv_116</td>\n",
       "      <td>multa sunt quae uobis et uestris libenter plac...</td>\n",
       "      <td>True</td>\n",
       "      <td>3</td>\n",
       "      <td>[[in, regno, nostro], [in, regno, nostro], [pe...</td>\n",
       "      <td>in regno nostro in regno nostro per regnum nos...</td>\n",
       "      <td>False</td>\n",
       "      <td>[[per, regnum, nostrum]]</td>\n",
       "      <td>True</td>\n",
       "      <td>[[philippus, dei, gracia, francorum, rex, notu...</td>\n",
       "    </tr>\n",
       "  </tbody>\n",
       "</table>\n",
       "<p>164 rows × 12 columns</p>\n",
       "</div>"
      ],
      "text/plain": [
       "    key_viard                                              viard  key_pdv  \\\n",
       "0     viard_1  philippus ualesii et andegauie comes francie e...   pdv_62   \n",
       "1     viard_1  philippus ualesii et andegauie comes francie e...  pdv_235   \n",
       "2     viard_1  philippus ualesii et andegauie comes francie e...  pdv_245   \n",
       "3     viard_1  philippus ualesii et andegauie comes francie e...  pdv_326   \n",
       "4     viard_1  philippus ualesii et andegauie comes francie e...  pdv_333   \n",
       "..        ...                                                ...      ...   \n",
       "159  viard_63  philippus dei gracia francorum rex notum facim...   pdv_17   \n",
       "160  viard_63  philippus dei gracia francorum rex notum facim...   pdv_21   \n",
       "161  viard_63  philippus dei gracia francorum rex notum facim...   pdv_35   \n",
       "162  viard_63  philippus dei gracia francorum rex notum facim...  pdv_115   \n",
       "163  viard_63  philippus dei gracia francorum rex notum facim...  pdv_116   \n",
       "\n",
       "                                                   pdv  trigram_commun  \\\n",
       "0    curas nostras consideratio studiosa sollicitat...            True   \n",
       "1    exposuit excellentiae nostrae b de  fidelis no...            True   \n",
       "2    imperialis beneuolentia fidelium subiectorum e...            True   \n",
       "3    fidelium nostrorum eterna memoria nostro recon...            True   \n",
       "4    opus in nobis egregium clementia suggerente pe...            True   \n",
       "..                                                 ...             ...   \n",
       "159  ad uos est hoc uerbum filii effrem male tenden...            True   \n",
       "160  leuate in circuitu oculos uestros arrigite fil...            True   \n",
       "161  subministrante nouorum emergentium uarietate m...            True   \n",
       "162  semper hactenus ut loquamur ad litteram contin...            True   \n",
       "163  multa sunt quae uobis et uestris libenter plac...            True   \n",
       "\n",
       "     nombre_trigrams                                           trigrams  \\\n",
       "0                  2                 [[ut, super, hoc], [ad, hoc, per]]   \n",
       "1                  3  [[humiliter, supplicauit, ut], [supplicauit, u...   \n",
       "2                  3  [[humiliter, supplicauit, ut], [in, hac, parte...   \n",
       "3                  2    [[de, speciali, gratia], [et, heredibus, suis]]   \n",
       "4                  2  [[notum, facimus, uniuersis], [et, heredibus, ...   \n",
       "..               ...                                                ...   \n",
       "159                2  [[ad, statum, pristinum], [ad, statum, pristin...   \n",
       "160                6  [[in, regno, nostro], [in, regno, nostro], [st...   \n",
       "161                3  [[ex, certa, scientia], [alii, de, regno], [al...   \n",
       "162                5  [[in, regno, nostro], [in, regno, nostro], [re...   \n",
       "163                3  [[in, regno, nostro], [in, regno, nostro], [pe...   \n",
       "\n",
       "                                                  flat  notum  \\\n",
       "0                              ut super hoc ad hoc per  False   \n",
       "1    humiliter supplicauit ut supplicauit ut super ...  False   \n",
       "2    humiliter supplicauit ut in hac parte de speci...  False   \n",
       "3                 de speciali gratia et heredibus suis  False   \n",
       "4            notum facimus uniuersis et heredibus suis  False   \n",
       "..                                                 ...    ...   \n",
       "159            ad statum pristinum ad statum pristinum  False   \n",
       "160  in regno nostro in regno nostro statum pristin...  False   \n",
       "161      ex certa scientia alii de regno alii de regno  False   \n",
       "162  in regno nostro in regno nostro regni nostri e...  False   \n",
       "163  in regno nostro in regno nostro per regnum nos...  False   \n",
       "\n",
       "                                           final_grams  not_empty  \\\n",
       "0                   [[ut, super, hoc], [ad, hoc, per]]       True   \n",
       "1    [[humiliter, supplicauit, ut], [supplicauit, u...       True   \n",
       "2     [[humiliter, supplicauit, ut], [in, hac, parte]]       True   \n",
       "3                              [[et, heredibus, suis]]       True   \n",
       "4                              [[et, heredibus, suis]]       True   \n",
       "..                                                 ...        ...   \n",
       "159  [[ad, statum, pristinum], [ad, statum, pristin...       True   \n",
       "160  [[statum, pristinum, et], [pristinum, et, debi...       True   \n",
       "161             [[alii, de, regno], [alii, de, regno]]       True   \n",
       "162                           [[per, regnum, nostrum]]       True   \n",
       "163                           [[per, regnum, nostrum]]       True   \n",
       "\n",
       "                                              resultat  \n",
       "0    [[philippus, ualesii, et, andegauie, comes, fr...  \n",
       "1    [[philippus, ualesii, et, andegauie, comes, fr...  \n",
       "2    [[philippus, ualesii, et, andegauie, comes, fr...  \n",
       "3    [[philippus, ualesii, et, andegauie, comes, fr...  \n",
       "4    [[philippus, ualesii, et, andegauie, comes, fr...  \n",
       "..                                                 ...  \n",
       "159  [[philippus, dei, gracia, francorum, rex, notu...  \n",
       "160  [[philippus, dei, gracia, francorum, rex, notu...  \n",
       "161  [[philippus, dei, gracia, francorum, rex, notu...  \n",
       "162  [[philippus, dei, gracia, francorum, rex, notu...  \n",
       "163  [[philippus, dei, gracia, francorum, rex, notu...  \n",
       "\n",
       "[164 rows x 12 columns]"
      ]
     },
     "execution_count": 160,
     "metadata": {},
     "output_type": "execute_result"
    }
   ],
   "source": [
    "test"
   ]
  },
  {
   "cell_type": "code",
   "execution_count": null,
   "id": "65cdc2ad",
   "metadata": {},
   "outputs": [],
   "source": []
  }
 ],
 "metadata": {
  "kernelspec": {
   "display_name": "Python 3 (ipykernel)",
   "language": "python",
   "name": "python3"
  },
  "language_info": {
   "codemirror_mode": {
    "name": "ipython",
    "version": 3
   },
   "file_extension": ".py",
   "mimetype": "text/x-python",
   "name": "python",
   "nbconvert_exporter": "python",
   "pygments_lexer": "ipython3",
   "version": "3.9.7"
  }
 },
 "nbformat": 4,
 "nbformat_minor": 5
}

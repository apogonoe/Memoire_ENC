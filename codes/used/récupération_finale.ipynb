{
 "cells": [
  {
   "cell_type": "code",
   "execution_count": 2,
   "id": "7dcab0c1",
   "metadata": {},
   "outputs": [],
   "source": [
    "import numpy as np\n",
    "import pandas as pd\n",
    "import os\n",
    "import re\n",
    "from tqdm import tqdm\n",
    "import ast\n",
    "import scipy.cluster.hierarchy as shc\n",
    "from scipy.spatial.distance import pdist, squareform\n",
    "import matplotlib.pyplot as plt\n",
    "%matplotlib inline\n",
    "import seaborn as sns\n",
    "import numpy as np\n",
    "import string\n",
    "from IPython.display import Markdown\n",
    "import textdistance\n",
    "from fonctions import *\n",
    "from sklearn.feature_extraction.text import TfidfVectorizer\n",
    "from sklearn.metrics.pairwise import cosine_similarity\n",
    "tqdm.pandas()"
   ]
  },
  {
   "cell_type": "code",
   "execution_count": null,
   "id": "5f545f4e",
   "metadata": {},
   "outputs": [],
   "source": []
  },
  {
   "cell_type": "code",
   "execution_count": 2,
   "id": "8930f8f2",
   "metadata": {},
   "outputs": [],
   "source": [
    "texte_1 = 'sane cum de culminis nostri fulgore, velut ex sole radii, sic omnium largiente conditore prodeant dignitates ut prime lucis integritas minorati luminis non sensiat detrimenta, nam tanto magis regale sceptrum extollitur tantoque curia regiminis sollicitudinibus relevatur, quanto tribunal ipsius digniores circumspicit contribules ; hac igitur consideratione ducti, quia regni Francie moderamur habenas, solii nostri decus tam veterum dignitatum ornatibus confoveri quam etiam novis ardemus honoribus ampliari, et licet ad quorumlibet nostrorum fidelium munifice prosequenda servicia liberalitas nostra quadam generalitate sit proclivis, illis tamen est quadam specialitate debitrix et eorum vota prosequi liberaliter affectamus, in quibus sanguinis connexitatem et vinculum agnoscimus et puram fidei constanciam invenimus, ut ipsi, fervore devocionis accensi, reddantur de bono in melius circa majestatem regiam et ejus obsequia promptiores, et ne percepta dudum obsequia que conscribi perhenniter in libro memorie meruerunt preminentia gradus aboleat vel incompensata relinquat.'\n",
    "\n",
    "pierre_1a = 'De fulgore throni cesarei, velut ex sole radii, sic certe prodeunt dignitates, ut prime lucis integritas non sentiat minorati luminis detrimenta, tantoque magis imperiale sceptrum extollitur, tanto cura regiminis pluria sollicitudinibus relevatur, quanto tribunal ipsius digniores in circuitu circumspicit contribules regiones. Hac igitur consideratione commoti, qui celesti providentia romani imperii moderamur habenas, solii nostri decus tam veterum dignitatum ornatibus confovemus, quam novis honoribus ampliamur.'\n",
    "\n",
    "pierre_1b = 'Licet ad quorumlibet nostrorum fidelium, munifice prosequenda servicia liberalitatis nostre manus quadam generalitate sit habilis, illis tamen quadam specialitate fit debitrix, in quibus sanguinis idemptitatem agnoscimus et fidei pure constanciam invenimus […].'"
   ]
  },
  {
   "cell_type": "code",
   "execution_count": 3,
   "id": "64bfe71d",
   "metadata": {},
   "outputs": [],
   "source": [
    "texte_2 = 'decet excellentiam regiam pene duriciem quam juris rigor dictat aliquando pietatis mitigare, cum per hoc subditorum succrescat devocio et honor regius occulis augeatur.'\n",
    "\n",
    "pierre_2 = 'satis nobis cedit ad gloriam et nostris fidelibus ad profectum, si motus nostros, quos armat potentia, sic mansuetudine decoremus, ut pene duriciem quam iuris rigor aliquando dictat in subditis clementie nostre molliamus unguentis, cum crescat in subditis devocionis vigor, dum pena remittitur, et dum devotorum succrescit cumulus nostri honoris per consequens titulus augeatur.'"
   ]
  },
  {
   "cell_type": "code",
   "execution_count": 4,
   "id": "69b6f659",
   "metadata": {},
   "outputs": [],
   "source": [
    "texte_3 = 'Decus est principum subditorum votis clementer annuere ac eorum preces misericorditer exaudire ; etsi ad prosequenda vota fidelium regia liberalitas regulariter sit habilis, illud tamen occurrit precipuum, ut hiis qui reipublice se exposcunt, prefata liberalitas specialitate quadam graciosior et liberior porrigatur, ut sic per gratiam diligantur in populis et per Dominum tueantur in terris.'\n",
    "\n",
    "pierre_3a = 'Decus est principum fidelium votis clementer annuere, ac supplicum preces misericorditer exaudire, ut sic per gratiam diligantur in populis et per dominium tueantur in terris.'\n",
    "\n",
    "pierre_3b = 'licet ad prosequenda munificentie sic vota fidelium liberalitatis regie dextera generali quadam irregularitate sic sit habilis, illis tamen graciosa porrigitur quadam specialitate liberior, quos ad obsequia grata continuos fructus sic et utiles semper claris indiciis experimur.'"
   ]
  },
  {
   "cell_type": "code",
   "execution_count": 5,
   "id": "95b1617a",
   "metadata": {},
   "outputs": [],
   "source": [
    "texte_4 = 'Dignum esse credimus ac consonum racioni atque concordabile reputamus ut hiis quos in legitimis actibus deffectus natalium impedit legitimacionis honor per principem reperiatur et, si quando super hiis magestatis regie favor seu benivolentia fidelium suorum aut eorum, qui regie magestatis fideles esse desiderant et in eadem fidelitate manere et perseverare noscuntur, supplicacione requiritur, liberaliter largiatur.'\n",
    "\n",
    "pierre_4 = 'Dignum esse decrevimus et consentaneum rationi, ut hii quos interdum in legittimis actibus defectus natalium impedit, legittimacionis honore per principem reparentur, et si quando super hiis imperialis favor fidelium suorum supplicatione requiritur, liberaliter largiatur […].'\n"
   ]
  },
  {
   "cell_type": "code",
   "execution_count": 6,
   "id": "b110ecb3",
   "metadata": {},
   "outputs": [],
   "source": [
    "texte_5 = 'dignum esse credimus et summo Regi placere, si lapsis interdum per culpe obvicium celeri remedio subvenimus, cum per hoc crescat vigor in subditis et nostri honoris cumulus augeatur.'\n",
    "\n",
    "pierre_5a = 'pulcrum in subditis humanitatis opus exequimur, si lapsis interdum per lubrice culpe convicium, misericordie celeri remedio subvenimus […].'\n",
    "\n",
    "pierre_5b = 'cum crescat in subditis vigor, dum pena remittitur, et dum devotorum succrescit cumulus nostri honoris per consequens titulus augeatur.'"
   ]
  },
  {
   "cell_type": "code",
   "execution_count": 7,
   "id": "5176a7e1",
   "metadata": {},
   "outputs": [],
   "source": [
    "texte_6 = 'dignum opus prosequi credimus, innata nobis regali clemencia suadente, si interdum per lubrice culpe lapsis convicium ad indulgendum se nostra manus habilitet, rigorem tamen nostram taliter temperando quod partes justicie totaliter non excludat ; et licet ad hoc libenter erga omnes clemencie regie dexteram extendamus, illam tamen circa illos libentius extendimus in quibus devocionis et pure fidelitatis constanciam inviolabiliter reperimus.'\n",
    "\n",
    "pierre_6a = 'nobile opus sedentis in solio clemencia suadente prosequimur, si per lubrica culpe deliramenta cadentibus, ad sublevanda remedia, cito se nostra manus habilitat, et indulgemus obnoxiis, veniam post reatum, pulcrum vindicte genus exstimantes ignoscere, et sic materialis gladii refrenare licentiam, ut seviendi voluntate sopita, temperemus interdum misericordie condimento rigorem.'\n",
    "\n",
    "pierre_6b = 'pulcrum in subditis humanitatis opus exequimur, si lapsis interdum per lubrice culpe convicium, misericordie celeri remedio subvenimus. cum summum vindicte genus credentes ignoscere nolumus semper culpas delere per gladium, in quibus rigorem possumus temperamento clementie mitigare.'\n",
    "\n",
    "pierre_6c = 'Quam sit favorabilis magnificentia cesaris et quam sit affabilis misericordiam petentibus vultus eius ex presentis negocii serie potestis aperte convincere, in quo sic est operatus iusticiam, ut per misericordie semitas dirigat gressus suos, sic misericorditer est profectus, ut partes iusticie non excludat […].'\n"
   ]
  },
  {
   "cell_type": "code",
   "execution_count": 8,
   "id": "775e2f29",
   "metadata": {},
   "outputs": [],
   "source": [
    "texte_7 = 'egregium humanitatis opus in subditis agere credimus, innata nobis regali clementia suadente, si interdum per lubrica culpe delinimenta collapsis et veniam petentibus post reatum, humane condicionis fragilitate pensata, lenimento misericordie subvenimus, cum fervor devocionis et fidei sinceritas in subditis augeatur qui a culpis per regalem clementiam abluuntur.'\n",
    "\n",
    "pierre_7a = 'nobile opus sedentis in solio clementia suadente prosequimur, si per lubrica culpe deliramenta cadentibus, ad sublevanda remedia, cito se nostra manus habilitat et indulgemus obnoxiis veniam post reatum, pulcrum vindicte genus exstimantes ignoscere, et sic materialis gladii refrenare licentiam, ut seviendi voluntate sopita, temperemus interdum misericordie condimento rigorem.'\n",
    "\n",
    "pierre_7b = 'um crescat in eis etiam erga nos vigor devocionis et fidei, si fragilitatis humane memores aliquid severitati detrahimus, et que punire possemus in gladio, lenimento misericordie mitigamus.'\n",
    "\n",
    "pierre_7c = 'pulcrum in subditis humanitatis opus exequimur, si lapsis interdum per lubrice culpe convicium, misericordie celeri remedio subvenimus, cum summum vindicte genus credentes ignoscere, nolumus semper culpas delere per gladium in quibus rigorem possumus temperamento clemencie mitigare […].'\n"
   ]
  },
  {
   "cell_type": "code",
   "execution_count": 9,
   "id": "ed2beab0",
   "metadata": {},
   "outputs": [],
   "source": [
    "texte_8 = 'egregium humanitatis opus in subditis prosequi credimus, innata nobis regali clementia suadente, si interdum per lubrice culpe lapsis convicium, humane condicionis fragilitate pensata, misericorditer subvenimus ; non est rigor justicie taliter in omnibus observandus, quin interdum possit et debeat linimento misericordie temperari.'\n",
    "\n",
    "pierre_8 = 'pulcrum in subditis humanitatis opus exequimur, si lapsis interdum per lubrice culpe convicium, misericordie celeri remedio subvenimus, cum summum vindicte genus credentes ignoscere, nolumus semper culpas delere per gladium in quibus rigorem possumus temperamento clemencie mitigare […].'\n"
   ]
  },
  {
   "cell_type": "code",
   "execution_count": 10,
   "id": "01689a66",
   "metadata": {},
   "outputs": [],
   "source": [
    "texte_9 = 'lla decet regiam dignitatem frui mansuetudine et prerogativa virtutis ut, attendens quod, si culpa non precederet, locum venia non haberet, benignitas regia, si suum subditum quadam forsan necessitate potius quam voluntate a fide debita contigerit deviasse et, postmodum errorem suum sapienter advertens, ad gratiam reconciliationis admitti supplicat puro corde, paratis brachiis ipsum recipiat, oblita preterita culpa sua.'\n",
    "\n",
    "pierre_9 = 'Illa fruimur ex imperii dignitate mansuetudine sic, ac prerogativa virtutis, ut quia nisi culpa precederet locum venia non haberet, sed quacumque hora subditus ad fidem nostram conversus fuerit, patulis brachiis recipiamus eumdem, obliti preterite culpe sue.'\n"
   ]
  },
  {
   "cell_type": "code",
   "execution_count": 11,
   "id": "e05b0b4d",
   "metadata": {},
   "outputs": [],
   "source": [
    "texte_10 = 'In culpis delinquentium puniendis, personarum et temporum qualitate pensata, temperamus interdum gratie condimento rigorem.'\n",
    "\n",
    "pierre_10 = 'nobile opus sedentis in solio clemencia suadente prosequimur, si per lubrica culpe deliramenta cadentibus, ad sublevanda remedia cito se nostra manus habilitat, et indulgemus obnoxiis veniam post reatum, pulcrum vindicte genus exstimantes ignoscere, et sic materialis gladii refrenare licentiam, ut seviendi voluntate sopita, temperemus interdum misericordie condimento rigorem.'\n"
   ]
  },
  {
   "cell_type": "code",
   "execution_count": 12,
   "id": "a5184e04",
   "metadata": {},
   "outputs": [],
   "source": [
    "texte_11 = 'Inter cetera que sollicitudinis nostre cura quotidiana meditatione revolvit, illud occurrit nostre considerationi precipuum ut venerandus ortodoxe [sic] fidei nostre cultus nobis traditus per os prophetarum, apostolorum et quattuor evangelistarum nostre fidei catholice fidelium testium et scribarum, quorum sonus in orbem exiit universum, nostris temporibus augeatur subditique nostri in unionis federe pacis transquillitate gaudeant et fruantur ; ex hiis quidem potest augeri culminis nostri felicitas et subditorum nostrorum status servari pacificus, si Regi regum grato primitus devotionis obsequio placeamus et status ecclesiasticus in sua regularitate populusque nostro commissus regimini sub unionis nexu in sua integritate serventur.'\n",
    "\n",
    "pierre_11 = 'Inter cetera, que sollicitudinis nostre cura cotidiana diligenti meditatione revolvit, illud occurrit nostre considerationi precipuum, qualiter venerandus orthodoxe fidei nostre cultus debito a nobis et nostris fidelibus affectu et devota veneratione colatur, ut quo pre ceteris principibus divina dextera nostrum erigit altius solium, eo pro [sic] per officiose gratitudinis debitum, nostra et nostrorum ubique devotio sibi solvat munera gratiarum. Ex eo si quidem potest regnantium felicitas augeri potissime et subditorum status servari pacificus, si Regi regum grato devotionis exennio placeamus, nec ex alicuius scandali suprectione dampnabili cultus debet postponi, vel intermitti dominicus, quia quo amplius humana scandala quandoque lasciviunt, eo sepefactus sedator esset devotius exorandus.'\n"
   ]
  },
  {
   "cell_type": "code",
   "execution_count": 13,
   "id": "e8c97c65",
   "metadata": {},
   "outputs": [],
   "source": [
    "texte_12 = 'Licet ad quorumlibet vota munifice prosequenda liberalitas nostra quadam generalitate sit proclivis, illis tamen est quadam specialitate debitrix quos ad regie celsitudinis grata obsequia promptos et utiles claris judiciis experimur.'\n",
    "\n",
    "pierre_12a = 'Licet ad quorumlibet nostrorum fidelium, munifice prosequenda servicia liberalitatis nostre manus quadam generalitate sit habilis, illis tamen quadam specialitate fit debitrix, in quibus sanguinis idemptitatem agnoscimus et fidei pure constanciam invenimus […].'\n",
    "\n",
    "pierre_12b = 'Licet ad prosequenda munificentie [sic] vota fidelium liberalitatis regie dextera generalita quadam irregularitate [sic] sit habilis, illis tamen graciosa porrigitur, quadam specialitate liberior, quos ad obsequia grata continuos fructus [sic] et utiles claris semper indiciis experimur.'\n"
   ]
  },
  {
   "cell_type": "code",
   "execution_count": 14,
   "id": "7789ef5e",
   "metadata": {},
   "outputs": [],
   "source": [
    "texte_13 = 'Opus insigne presidentis in solio in nobis clementia suggerente proficimus, si per lubrica culpe delinimenta labentibus misericordie celeri levamine subvenimus.'\n",
    "\n",
    "pierre_13a = 'Opus in nobis egregium, clemencia suggerente, perficimus, si per lubrica culpe deliramenta labentibus, misericordie celeris remediosubvenimus '\n",
    "\n",
    "pierre_13b = 'nobile opus sedentis in solio clemencia suadente prosequimur, si per lubrica culpe deliramenta cadentibus'\n"
   ]
  },
  {
   "cell_type": "code",
   "execution_count": 15,
   "id": "9a72c455",
   "metadata": {},
   "outputs": [],
   "source": [
    "texte_14 = 'Pulcrum vindicte genus estimantes ignoscere, temperamus interdum gratie condimento rigorem.'\n",
    "\n",
    "pierre_14 = 'nobile opus sedentis in solio clemencia suadente prosequimur, si per lubrica culpe deliramenta cadentibus, ad sublevanda remedia, se cito nostra manus habilitat, et indulgemus obnoxiis veniam post reatum, pulcrum vindicte genus exstimantes, ignoscere, et sic materialis gladii refrenare licentiam, ut seviendi voluntate sopita, temperemus interdum misericordie condimento rigorem.'\n"
   ]
  },
  {
   "cell_type": "code",
   "execution_count": 16,
   "id": "97e91727",
   "metadata": {},
   "outputs": [],
   "source": [
    "texte_15 = 'Satis nobis, quem Rex regum ad regie dignitatis fastigia provexit, cedit ad gloriam, si motus nostros virtute clementie perficimus et mansuetudinem in subditis excercemus, cum crescat etiam erga nos vigor devotionis et fidei, si, fragilitatis humane memores, aliquid severitati detrahimus et que punire possemus lenimento misericordie mittigamus.'\n",
    "\n",
    "pierre_15 = 'Satis nobis cedit ad gloriam et regie dignitatis fastigia sublimamus sic, si motus nostros clemencie virtute perspicimus sic, et mansuetudinem in subditis exercemus, cum crescat in eis etiam erga nos vigor devocionis et fidei si fragilitatis humane memores aliquid severitati detrahimus, et que punire possemus in gladio, lenimento misericordie mitigamus'"
   ]
  },
  {
   "cell_type": "code",
   "execution_count": 17,
   "id": "f96c4f10",
   "metadata": {},
   "outputs": [],
   "source": [
    "characters_to_remove = string.punctuation + '[]' +'–'"
   ]
  },
  {
   "cell_type": "code",
   "execution_count": 18,
   "id": "b21c15a4",
   "metadata": {},
   "outputs": [],
   "source": [
    "x = remove_characters(texte_6,characters_to_remove).lower().lstrip().rstrip().replace('j','i')\n",
    "y = remove_characters(pierre_6c,characters_to_remove).lower().lstrip().rstrip().replace('j','i')"
   ]
  },
  {
   "cell_type": "code",
   "execution_count": 19,
   "id": "c8e14c45",
   "metadata": {},
   "outputs": [],
   "source": [
    "un, deux = bold_texts(x,y)"
   ]
  },
  {
   "cell_type": "code",
   "execution_count": 20,
   "id": "682d56cd",
   "metadata": {},
   "outputs": [],
   "source": [
    "liste_texte = [texte_1,texte_2,texte_3,texte_4,texte_5,texte_6,texte_7,texte_8,texte_9,texte_10,texte_11,\n",
    "              texte_12,texte_13,texte_14,texte_15]\n",
    "liste_pierre = [pierre_1a,pierre_1b,pierre_2,pierre_3a,pierre_3b,pierre_4,pierre_5a,pierre_5b,pierre_6a,\n",
    "                pierre_6b,pierre_6c,pierre_7a,pierre_7b,pierre_7c,pierre_8,pierre_9,pierre_10,pierre_11,\n",
    "               pierre_12a,pierre_12b,pierre_13a,pierre_13b,pierre_14,pierre_15]\n",
    "\n",
    "indice_pierre = ['pierre_1a', 'pierre_1b', 'pierre_2', 'pierre_3a', 'pierre_3b', 'pierre_4',\n",
    "                'pierre_5a', 'pierre_5b', 'pierre_6a', 'pierre_6b', 'pierre_6c', 'pierre_7a',\n",
    "                'pierre_7b', 'pierre_7c', 'pierre_8', 'pierre_9', 'pierre_10', 'pierre_11',\n",
    "                'pierre_12a', 'pierre_12b', 'pierre_13a', 'pierre_13b', 'pierre_14', 'pierre_15']\n",
    "\n",
    "indice_texte = ['texte_1', 'texte_2', 'texte_3', 'texte_4', 'texte_5', 'texte_6', 'texte_7', 'texte_8', \n",
    "               'texte_9', 'texte_10', 'texte_11', 'texte_12', 'texte_13', 'texte_14', 'texte_15']\n"
   ]
  },
  {
   "cell_type": "code",
   "execution_count": 21,
   "id": "f509d3f8",
   "metadata": {},
   "outputs": [],
   "source": [
    "liste_texte = [process_string(remove_characters(texte, characters_to_remove)) for texte in liste_texte]\n",
    "liste_pierre = [process_string(remove_characters(texte, characters_to_remove)) for texte in liste_pierre]"
   ]
  },
  {
   "cell_type": "code",
   "execution_count": 22,
   "id": "493b374a",
   "metadata": {},
   "outputs": [],
   "source": [
    "text_list = []\n",
    "for item in liste_texte:\n",
    "    text_list.extend([item]*len(liste_pierre))\n",
    "pierre_list = liste_pierre * len(liste_texte)\n",
    "\n",
    "text_index = []\n",
    "for item in indice_texte:\n",
    "    text_index.extend([item]*len(indice_pierre))\n",
    "pierre_index = indice_pierre * len(indice_texte)"
   ]
  },
  {
   "cell_type": "code",
   "execution_count": 23,
   "id": "6b0e0fc5",
   "metadata": {},
   "outputs": [],
   "source": [
    "data = pd.DataFrame({'textes':text_list,'indice_text':text_index,'pierre':pierre_list,'indice_pierre':pierre_index})"
   ]
  },
  {
   "cell_type": "code",
   "execution_count": 24,
   "id": "5565874f",
   "metadata": {},
   "outputs": [
    {
     "data": {
      "text/html": [
       "<div>\n",
       "<style scoped>\n",
       "    .dataframe tbody tr th:only-of-type {\n",
       "        vertical-align: middle;\n",
       "    }\n",
       "\n",
       "    .dataframe tbody tr th {\n",
       "        vertical-align: top;\n",
       "    }\n",
       "\n",
       "    .dataframe thead th {\n",
       "        text-align: right;\n",
       "    }\n",
       "</style>\n",
       "<table border=\"1\" class=\"dataframe\">\n",
       "  <thead>\n",
       "    <tr style=\"text-align: right;\">\n",
       "      <th></th>\n",
       "      <th>textes</th>\n",
       "      <th>indice_text</th>\n",
       "      <th>pierre</th>\n",
       "      <th>indice_pierre</th>\n",
       "    </tr>\n",
       "  </thead>\n",
       "  <tbody>\n",
       "    <tr>\n",
       "      <th>0</th>\n",
       "      <td>sane cum de culminis nostri fulgore uelut ex s...</td>\n",
       "      <td>texte_1</td>\n",
       "      <td>de fulgore throni cesarei uelut ex sole radii ...</td>\n",
       "      <td>pierre_1a</td>\n",
       "    </tr>\n",
       "    <tr>\n",
       "      <th>1</th>\n",
       "      <td>sane cum de culminis nostri fulgore uelut ex s...</td>\n",
       "      <td>texte_1</td>\n",
       "      <td>licet ad quorumlibet nostrorum fidelium munifi...</td>\n",
       "      <td>pierre_1b</td>\n",
       "    </tr>\n",
       "    <tr>\n",
       "      <th>2</th>\n",
       "      <td>sane cum de culminis nostri fulgore uelut ex s...</td>\n",
       "      <td>texte_1</td>\n",
       "      <td>satis nobis cedit ad gloriam et nostris fideli...</td>\n",
       "      <td>pierre_2</td>\n",
       "    </tr>\n",
       "    <tr>\n",
       "      <th>3</th>\n",
       "      <td>sane cum de culminis nostri fulgore uelut ex s...</td>\n",
       "      <td>texte_1</td>\n",
       "      <td>decus est principum fidelium uotis clementer a...</td>\n",
       "      <td>pierre_3a</td>\n",
       "    </tr>\n",
       "    <tr>\n",
       "      <th>4</th>\n",
       "      <td>sane cum de culminis nostri fulgore uelut ex s...</td>\n",
       "      <td>texte_1</td>\n",
       "      <td>licet ad prosequenda munificentie sic uota fid...</td>\n",
       "      <td>pierre_3b</td>\n",
       "    </tr>\n",
       "    <tr>\n",
       "      <th>...</th>\n",
       "      <td>...</td>\n",
       "      <td>...</td>\n",
       "      <td>...</td>\n",
       "      <td>...</td>\n",
       "    </tr>\n",
       "    <tr>\n",
       "      <th>355</th>\n",
       "      <td>satis nobis quem rex regum ad regie dignitatis...</td>\n",
       "      <td>texte_15</td>\n",
       "      <td>licet ad prosequenda munificentie sic uota fid...</td>\n",
       "      <td>pierre_12b</td>\n",
       "    </tr>\n",
       "    <tr>\n",
       "      <th>356</th>\n",
       "      <td>satis nobis quem rex regum ad regie dignitatis...</td>\n",
       "      <td>texte_15</td>\n",
       "      <td>opus in nobis egregium clemencia suggerente pe...</td>\n",
       "      <td>pierre_13a</td>\n",
       "    </tr>\n",
       "    <tr>\n",
       "      <th>357</th>\n",
       "      <td>satis nobis quem rex regum ad regie dignitatis...</td>\n",
       "      <td>texte_15</td>\n",
       "      <td>nobile opus sedentis in solio clemencia suaden...</td>\n",
       "      <td>pierre_13b</td>\n",
       "    </tr>\n",
       "    <tr>\n",
       "      <th>358</th>\n",
       "      <td>satis nobis quem rex regum ad regie dignitatis...</td>\n",
       "      <td>texte_15</td>\n",
       "      <td>nobile opus sedentis in solio clemencia suaden...</td>\n",
       "      <td>pierre_14</td>\n",
       "    </tr>\n",
       "    <tr>\n",
       "      <th>359</th>\n",
       "      <td>satis nobis quem rex regum ad regie dignitatis...</td>\n",
       "      <td>texte_15</td>\n",
       "      <td>satis nobis cedit ad gloriam et regie dignitat...</td>\n",
       "      <td>pierre_15</td>\n",
       "    </tr>\n",
       "  </tbody>\n",
       "</table>\n",
       "<p>360 rows × 4 columns</p>\n",
       "</div>"
      ],
      "text/plain": [
       "                                                textes indice_text  \\\n",
       "0    sane cum de culminis nostri fulgore uelut ex s...     texte_1   \n",
       "1    sane cum de culminis nostri fulgore uelut ex s...     texte_1   \n",
       "2    sane cum de culminis nostri fulgore uelut ex s...     texte_1   \n",
       "3    sane cum de culminis nostri fulgore uelut ex s...     texte_1   \n",
       "4    sane cum de culminis nostri fulgore uelut ex s...     texte_1   \n",
       "..                                                 ...         ...   \n",
       "355  satis nobis quem rex regum ad regie dignitatis...    texte_15   \n",
       "356  satis nobis quem rex regum ad regie dignitatis...    texte_15   \n",
       "357  satis nobis quem rex regum ad regie dignitatis...    texte_15   \n",
       "358  satis nobis quem rex regum ad regie dignitatis...    texte_15   \n",
       "359  satis nobis quem rex regum ad regie dignitatis...    texte_15   \n",
       "\n",
       "                                                pierre indice_pierre  \n",
       "0    de fulgore throni cesarei uelut ex sole radii ...     pierre_1a  \n",
       "1    licet ad quorumlibet nostrorum fidelium munifi...     pierre_1b  \n",
       "2    satis nobis cedit ad gloriam et nostris fideli...      pierre_2  \n",
       "3    decus est principum fidelium uotis clementer a...     pierre_3a  \n",
       "4    licet ad prosequenda munificentie sic uota fid...     pierre_3b  \n",
       "..                                                 ...           ...  \n",
       "355  licet ad prosequenda munificentie sic uota fid...    pierre_12b  \n",
       "356  opus in nobis egregium clemencia suggerente pe...    pierre_13a  \n",
       "357  nobile opus sedentis in solio clemencia suaden...    pierre_13b  \n",
       "358  nobile opus sedentis in solio clemencia suaden...     pierre_14  \n",
       "359  satis nobis cedit ad gloriam et regie dignitat...     pierre_15  \n",
       "\n",
       "[360 rows x 4 columns]"
      ]
     },
     "execution_count": 24,
     "metadata": {},
     "output_type": "execute_result"
    }
   ],
   "source": [
    "data"
   ]
  },
  {
   "cell_type": "code",
   "execution_count": 25,
   "id": "bb050b78",
   "metadata": {},
   "outputs": [
    {
     "name": "stderr",
     "output_type": "stream",
     "text": [
      "fatal: HEAD n'est pas un nom d'objet valide\n",
      "100%|███████████████████████████████████████████| 15/15 [00:03<00:00,  3.85it/s]\n",
      "100%|███████████████████████████████████████████| 24/24 [00:05<00:00,  4.10it/s]\n"
     ]
    }
   ],
   "source": [
    "x = liste_texte\n",
    "\n",
    "from typing import List\n",
    "from pie_extended.cli.utils import get_tagger, get_model, download\n",
    "\n",
    "# In case you need to download\n",
    "do_download = False\n",
    "if do_download:\n",
    "    for dl in download(\"lasla\"):\n",
    "        x = 1\n",
    "\n",
    "# model_path allows you to override the model loaded by another .tar\n",
    "model_name = \"lasla\"\n",
    "tagger = get_tagger(model_name, batch_size=256, device=\"cpu\", model_path=None)\n",
    "\n",
    "\n",
    "textes = []\n",
    "for i in tqdm(range(len(x))):\n",
    "    sentences: List[str] = [x[i]]\n",
    "    # Get the main object from the model (: data iterator + postprocesor\n",
    "    from pie_extended.models.lasla.imports import get_iterator_and_processor\n",
    "    for sentence_group in sentences:\n",
    "        iterator, processor = get_iterator_and_processor()\n",
    "        dic = tagger.tag_str(sentence_group, iterator=iterator, processor=processor)\n",
    "        textes.append(dic)\n",
    "        \n",
    "y = liste_pierre\n",
    "\n",
    "from typing import List\n",
    "from pie_extended.cli.utils import get_tagger, get_model, download\n",
    "\n",
    "# In case you need to download\n",
    "do_download = False\n",
    "if do_download:\n",
    "    for dl in download(\"lasla\"):\n",
    "        x = 1\n",
    "\n",
    "# model_path allows you to override the model loaded by another .tar\n",
    "model_name = \"lasla\"\n",
    "tagger = get_tagger(model_name, batch_size=256, device=\"cpu\", model_path=None)\n",
    "\n",
    "\n",
    "pierre = []\n",
    "for i in tqdm(range(len(y))):\n",
    "    sentences: List[str] = [y[i]]\n",
    "    # Get the main object from the model (: data iterator + postprocesor\n",
    "    from pie_extended.models.lasla.imports import get_iterator_and_processor\n",
    "    for sentence_group in sentences:\n",
    "        iterator, processor = get_iterator_and_processor()\n",
    "        dic = tagger.tag_str(sentence_group, iterator=iterator, processor=processor)\n",
    "        pierre.append(dic)"
   ]
  },
  {
   "cell_type": "code",
   "execution_count": 26,
   "id": "7ecbb642",
   "metadata": {},
   "outputs": [],
   "source": [
    "pierre_lemmes = []   \n",
    "\n",
    "for dic in range(len(pierre)):\n",
    "    \n",
    "    inter = []\n",
    "\n",
    "    for i in pierre[dic]:\n",
    "        inter.append(i.get('lemma'))\n",
    "    pierre_lemmes.append(inter)\n",
    "texte_lemmes = []   \n",
    "\n",
    "for dic in range(len(textes)):\n",
    "    \n",
    "    inter = []\n",
    "\n",
    "    for i in textes[dic]:\n",
    "        inter.append(i.get('lemma'))\n",
    "    texte_lemmes.append(inter)\n",
    "    \n",
    "    \n",
    "pierre_pos = []   \n",
    "\n",
    "for dic in range(len(pierre)):\n",
    "    \n",
    "    inter = []\n",
    "\n",
    "    for i in pierre[dic]:\n",
    "        inter.append(i.get('pos'))\n",
    "    pierre_pos.append(inter)\n",
    "texte_pos = []   \n",
    "\n",
    "for dic in range(len(textes)):\n",
    "    \n",
    "    inter = []\n",
    "\n",
    "    for i in textes[dic]:\n",
    "        inter.append(i.get('pos'))\n",
    "    texte_pos.append(inter)"
   ]
  },
  {
   "cell_type": "code",
   "execution_count": 27,
   "id": "08276b64",
   "metadata": {},
   "outputs": [],
   "source": [
    "#création du dictionnaire de pos\n",
    "\n",
    "test = [item for sublist in pierre for item in sublist]\n",
    "test2 = [item for sublist in textes for item in sublist]\n",
    "\n",
    "test.extend(test2)\n",
    "words = []\n",
    "pos = []\n",
    "lemmas = []\n",
    "\n",
    "for dic in test:\n",
    "    lemmas.append(dic.get('lemma'))\n",
    "    pos.append(dic.get('pos'))\n",
    "    words.append(dic.get('form'))\n",
    "    "
   ]
  },
  {
   "cell_type": "code",
   "execution_count": 28,
   "id": "001f523e",
   "metadata": {},
   "outputs": [],
   "source": [
    "dico = pd.DataFrame({'forme':words,'lemmes':lemmas,'pos':pos})\n",
    "unique = dico['forme'].drop_duplicates().to_frame()\n",
    "unique = unique.reset_index()\n",
    "indices = unique['index'].tolist()"
   ]
  },
  {
   "cell_type": "code",
   "execution_count": 29,
   "id": "b07e2fe6",
   "metadata": {},
   "outputs": [],
   "source": [
    "dico = dico.loc[indices]\n",
    "dico.to_excel('dico_test.xlsx')"
   ]
  },
  {
   "cell_type": "code",
   "execution_count": 30,
   "id": "3e318e11",
   "metadata": {},
   "outputs": [
    {
     "data": {
      "text/plain": [
       "15"
      ]
     },
     "execution_count": 30,
     "metadata": {},
     "output_type": "execute_result"
    }
   ],
   "source": [
    "# liste de mots sans stopwords pour les distances cosine\n",
    "liste_pos = ['ADJqua','VER','ADV','NOMcom']\n",
    "hadri = []\n",
    "for i in range(len(pierre)):\n",
    "    stratos = []\n",
    "    for j in pierre[i]:\n",
    "        if j.get('pos') in liste_pos:\n",
    "            stratos.append(j.get('lemma'))\n",
    "    hadri.append(stratos)\n",
    "\n",
    "victor = []\n",
    "for i in range(len(textes)):\n",
    "    amelle = []\n",
    "    for j in textes[i]:\n",
    "        if j.get('pos') in liste_pos:\n",
    "            amelle.append(j.get('lemma'))\n",
    "    victor.append(amelle)\n",
    "len(victor)"
   ]
  },
  {
   "cell_type": "code",
   "execution_count": 31,
   "id": "f57d6720",
   "metadata": {},
   "outputs": [],
   "source": [
    "texte_lemme = []\n",
    "for item in texte_lemmes:\n",
    "    texte_lemme.extend([item]*len(pierre_lemmes))\n",
    "pierre_lemme = pierre_lemmes * len(texte_lemmes)\n",
    "\n",
    "pos_texte = []\n",
    "for item in texte_pos:\n",
    "    pos_texte.extend([item]*len(pierre_pos))\n",
    "pos_pierre = pierre_pos * len(texte_pos)\n",
    "\n",
    "'''texte_stop = []\n",
    "for item in victor:\n",
    "    texte_stop.extend([item]*len(hadri))\n",
    "pierre_stop = hadri * len(victor)\n",
    "'''\n",
    "data['texte_lemmes'] = texte_lemme\n",
    "data['pierre_lemmes'] = pierre_lemme\n",
    "data['pierre_pos'] = pos_pierre\n",
    "data['texte_pos'] = pos_texte\n",
    "#data['texte_stop'] = texte_stop\n",
    "#data['pierre_stop'] = pierre_stop"
   ]
  },
  {
   "cell_type": "code",
   "execution_count": 31,
   "id": "9934d2da",
   "metadata": {},
   "outputs": [],
   "source": [
    "data.to_excel('pierre_textes.xlsx')"
   ]
  },
  {
   "cell_type": "code",
   "execution_count": 32,
   "id": "002bc277",
   "metadata": {},
   "outputs": [
    {
     "name": "stderr",
     "output_type": "stream",
     "text": [
      "100%|█████████████████████████████████████████| 360/360 [01:02<00:00,  5.73it/s]\n"
     ]
    }
   ],
   "source": [
    "data['bold'] = data.progress_apply(lambda x: bold_texts(x['textes'],x['pierre']),axis=1)\n",
    "data = data[data['bold'] != False].reset_index(drop=True)"
   ]
  },
  {
   "cell_type": "code",
   "execution_count": 58,
   "id": "a1f61707",
   "metadata": {},
   "outputs": [
    {
     "data": {
      "text/plain": [
       "['sane',\n",
       " 'cum',\n",
       " 'de',\n",
       " 'culminis',\n",
       " 'nostri',\n",
       " 'fulgore',\n",
       " '**uelut**',\n",
       " '**ex**',\n",
       " '**sole**',\n",
       " '**radii**',\n",
       " '**sic**',\n",
       " 'omnium',\n",
       " 'largiente',\n",
       " 'conditore',\n",
       " '******prodeant******',\n",
       " '******dignitates******',\n",
       " '**ut**',\n",
       " '****prime****',\n",
       " '**lucis**',\n",
       " '**integritas**',\n",
       " '**minorati**',\n",
       " '**luminis**',\n",
       " '**non**',\n",
       " '********sensiat********',\n",
       " '**detrimenta**',\n",
       " 'nam',\n",
       " 'tanto',\n",
       " '**magis**',\n",
       " 'regale',\n",
       " '****sceptrum****',\n",
       " '****extollitur****',\n",
       " 'tantoque',\n",
       " '********curia********',\n",
       " '****regiminis****',\n",
       " '****sollicitudinibus****',\n",
       " '**releuatur**',\n",
       " '**quanto**',\n",
       " '**tribunal**',\n",
       " '**ipsius**',\n",
       " '**digniores**',\n",
       " '**circumspicit**',\n",
       " '**contribules**',\n",
       " '**hac**',\n",
       " '**igitur**',\n",
       " '**consideratione**',\n",
       " 'ducti',\n",
       " 'quia',\n",
       " 'regni',\n",
       " 'francie',\n",
       " '**moderamur**',\n",
       " '**habenas**',\n",
       " '**solii**',\n",
       " '**nostri**',\n",
       " '**decus**',\n",
       " '**tam**',\n",
       " '**ueterum**',\n",
       " '**dignitatum**',\n",
       " '**ornatibus**',\n",
       " 'confoueri',\n",
       " '**quam**',\n",
       " 'etiam',\n",
       " 'nouis',\n",
       " 'ardemus',\n",
       " 'honoribus',\n",
       " 'ampliari',\n",
       " 'et',\n",
       " 'licet',\n",
       " 'ad',\n",
       " 'quorumlibet',\n",
       " 'nostrorum',\n",
       " 'fidelium',\n",
       " 'munifice',\n",
       " 'prosequenda',\n",
       " 'seruicia',\n",
       " 'liberalitas',\n",
       " 'nostra',\n",
       " 'quadam',\n",
       " 'generalitate',\n",
       " 'sit',\n",
       " 'procliuis',\n",
       " 'illis',\n",
       " 'tamen',\n",
       " 'est',\n",
       " 'quadam',\n",
       " 'specialitate',\n",
       " 'debitrix',\n",
       " 'et',\n",
       " 'eorum',\n",
       " 'uota',\n",
       " 'prosequi',\n",
       " 'liberaliter',\n",
       " 'affectamus',\n",
       " 'in',\n",
       " 'quibus',\n",
       " 'sanguinis',\n",
       " 'connexitatem',\n",
       " 'et',\n",
       " 'uinculum',\n",
       " 'agnoscimus',\n",
       " 'et',\n",
       " 'puram',\n",
       " 'fidei',\n",
       " 'constanciam',\n",
       " 'inuenimus',\n",
       " 'ut',\n",
       " 'ipsi',\n",
       " 'feruore',\n",
       " 'deuocionis',\n",
       " 'accensi',\n",
       " 'reddantur',\n",
       " 'de',\n",
       " 'bono',\n",
       " 'in',\n",
       " 'melius',\n",
       " 'circa',\n",
       " 'maiestatem',\n",
       " 'regiam',\n",
       " 'et',\n",
       " 'eius',\n",
       " 'obsequia',\n",
       " 'promptiores',\n",
       " 'et',\n",
       " 'ne',\n",
       " 'percepta',\n",
       " 'dudum',\n",
       " 'obsequia',\n",
       " 'que',\n",
       " 'conscribi',\n",
       " 'perhenniter',\n",
       " 'in',\n",
       " 'libro',\n",
       " 'memorie',\n",
       " 'meruerunt',\n",
       " 'preminentia',\n",
       " 'gradus',\n",
       " 'aboleat',\n",
       " 'uel',\n",
       " 'incompensata',\n",
       " 'relinquat']"
      ]
     },
     "execution_count": 58,
     "metadata": {},
     "output_type": "execute_result"
    }
   ],
   "source": []
  },
  {
   "cell_type": "code",
   "execution_count": 129,
   "id": "76749296",
   "metadata": {},
   "outputs": [
    {
     "ename": "ValueError",
     "evalue": "empty vocabulary; perhaps the documents only contain stop words",
     "output_type": "error",
     "traceback": [
      "\u001b[0;31m---------------------------------------------------------------------------\u001b[0m",
      "\u001b[0;31mValueError\u001b[0m                                Traceback (most recent call last)",
      "\u001b[0;32m/tmp/ipykernel_65596/187557089.py\u001b[0m in \u001b[0;36m<module>\u001b[0;34m\u001b[0m\n\u001b[1;32m      1\u001b[0m \u001b[0mdata\u001b[0m\u001b[0;34m[\u001b[0m\u001b[0;34m'pierre_stop'\u001b[0m\u001b[0;34m]\u001b[0m \u001b[0;34m=\u001b[0m \u001b[0mdata\u001b[0m\u001b[0;34m[\u001b[0m\u001b[0;34m'pierre_stop'\u001b[0m\u001b[0;34m]\u001b[0m\u001b[0;34m.\u001b[0m\u001b[0mapply\u001b[0m\u001b[0;34m(\u001b[0m\u001b[0mjoin\u001b[0m\u001b[0;34m)\u001b[0m\u001b[0;34m\u001b[0m\u001b[0;34m\u001b[0m\u001b[0m\n\u001b[1;32m      2\u001b[0m \u001b[0mdata\u001b[0m\u001b[0;34m[\u001b[0m\u001b[0;34m'texte_stop'\u001b[0m\u001b[0;34m]\u001b[0m \u001b[0;34m=\u001b[0m \u001b[0mdata\u001b[0m\u001b[0;34m[\u001b[0m\u001b[0;34m'texte_stop'\u001b[0m\u001b[0;34m]\u001b[0m\u001b[0;34m.\u001b[0m\u001b[0mapply\u001b[0m\u001b[0;34m(\u001b[0m\u001b[0mjoin\u001b[0m\u001b[0;34m)\u001b[0m\u001b[0;34m\u001b[0m\u001b[0;34m\u001b[0m\u001b[0m\n\u001b[0;32m----> 3\u001b[0;31m \u001b[0mdata\u001b[0m\u001b[0;34m[\u001b[0m\u001b[0;34m'cosine'\u001b[0m\u001b[0;34m]\u001b[0m \u001b[0;34m=\u001b[0m \u001b[0mdata\u001b[0m\u001b[0;34m.\u001b[0m\u001b[0mapply\u001b[0m\u001b[0;34m(\u001b[0m\u001b[0;32mlambda\u001b[0m \u001b[0mx\u001b[0m\u001b[0;34m:\u001b[0m\u001b[0mcosine_sim\u001b[0m\u001b[0;34m(\u001b[0m\u001b[0mx\u001b[0m\u001b[0;34m[\u001b[0m\u001b[0;34m'texte_stop'\u001b[0m\u001b[0;34m]\u001b[0m\u001b[0;34m,\u001b[0m\u001b[0mx\u001b[0m\u001b[0;34m[\u001b[0m\u001b[0;34m'pierre_stop'\u001b[0m\u001b[0;34m]\u001b[0m\u001b[0;34m)\u001b[0m\u001b[0;34m,\u001b[0m\u001b[0maxis\u001b[0m\u001b[0;34m=\u001b[0m\u001b[0;36m1\u001b[0m\u001b[0;34m)\u001b[0m\u001b[0;34m\u001b[0m\u001b[0;34m\u001b[0m\u001b[0m\n\u001b[0m",
      "\u001b[0;32m~/python/miniconda/envs/coursnlp/lib/python3.7/site-packages/pandas/core/frame.py\u001b[0m in \u001b[0;36mapply\u001b[0;34m(self, func, axis, raw, result_type, args, **kwargs)\u001b[0m\n\u001b[1;32m   8738\u001b[0m             \u001b[0mkwargs\u001b[0m\u001b[0;34m=\u001b[0m\u001b[0mkwargs\u001b[0m\u001b[0;34m,\u001b[0m\u001b[0;34m\u001b[0m\u001b[0;34m\u001b[0m\u001b[0m\n\u001b[1;32m   8739\u001b[0m         )\n\u001b[0;32m-> 8740\u001b[0;31m         \u001b[0;32mreturn\u001b[0m \u001b[0mop\u001b[0m\u001b[0;34m.\u001b[0m\u001b[0mapply\u001b[0m\u001b[0;34m(\u001b[0m\u001b[0;34m)\u001b[0m\u001b[0;34m\u001b[0m\u001b[0;34m\u001b[0m\u001b[0m\n\u001b[0m\u001b[1;32m   8741\u001b[0m \u001b[0;34m\u001b[0m\u001b[0m\n\u001b[1;32m   8742\u001b[0m     def applymap(\n",
      "\u001b[0;32m~/python/miniconda/envs/coursnlp/lib/python3.7/site-packages/pandas/core/apply.py\u001b[0m in \u001b[0;36mapply\u001b[0;34m(self)\u001b[0m\n\u001b[1;32m    686\u001b[0m             \u001b[0;32mreturn\u001b[0m \u001b[0mself\u001b[0m\u001b[0;34m.\u001b[0m\u001b[0mapply_raw\u001b[0m\u001b[0;34m(\u001b[0m\u001b[0;34m)\u001b[0m\u001b[0;34m\u001b[0m\u001b[0;34m\u001b[0m\u001b[0m\n\u001b[1;32m    687\u001b[0m \u001b[0;34m\u001b[0m\u001b[0m\n\u001b[0;32m--> 688\u001b[0;31m         \u001b[0;32mreturn\u001b[0m \u001b[0mself\u001b[0m\u001b[0;34m.\u001b[0m\u001b[0mapply_standard\u001b[0m\u001b[0;34m(\u001b[0m\u001b[0;34m)\u001b[0m\u001b[0;34m\u001b[0m\u001b[0;34m\u001b[0m\u001b[0m\n\u001b[0m\u001b[1;32m    689\u001b[0m \u001b[0;34m\u001b[0m\u001b[0m\n\u001b[1;32m    690\u001b[0m     \u001b[0;32mdef\u001b[0m \u001b[0magg\u001b[0m\u001b[0;34m(\u001b[0m\u001b[0mself\u001b[0m\u001b[0;34m)\u001b[0m\u001b[0;34m:\u001b[0m\u001b[0;34m\u001b[0m\u001b[0;34m\u001b[0m\u001b[0m\n",
      "\u001b[0;32m~/python/miniconda/envs/coursnlp/lib/python3.7/site-packages/pandas/core/apply.py\u001b[0m in \u001b[0;36mapply_standard\u001b[0;34m(self)\u001b[0m\n\u001b[1;32m    810\u001b[0m \u001b[0;34m\u001b[0m\u001b[0m\n\u001b[1;32m    811\u001b[0m     \u001b[0;32mdef\u001b[0m \u001b[0mapply_standard\u001b[0m\u001b[0;34m(\u001b[0m\u001b[0mself\u001b[0m\u001b[0;34m)\u001b[0m\u001b[0;34m:\u001b[0m\u001b[0;34m\u001b[0m\u001b[0;34m\u001b[0m\u001b[0m\n\u001b[0;32m--> 812\u001b[0;31m         \u001b[0mresults\u001b[0m\u001b[0;34m,\u001b[0m \u001b[0mres_index\u001b[0m \u001b[0;34m=\u001b[0m \u001b[0mself\u001b[0m\u001b[0;34m.\u001b[0m\u001b[0mapply_series_generator\u001b[0m\u001b[0;34m(\u001b[0m\u001b[0;34m)\u001b[0m\u001b[0;34m\u001b[0m\u001b[0;34m\u001b[0m\u001b[0m\n\u001b[0m\u001b[1;32m    813\u001b[0m \u001b[0;34m\u001b[0m\u001b[0m\n\u001b[1;32m    814\u001b[0m         \u001b[0;31m# wrap results\u001b[0m\u001b[0;34m\u001b[0m\u001b[0;34m\u001b[0m\u001b[0;34m\u001b[0m\u001b[0m\n",
      "\u001b[0;32m~/python/miniconda/envs/coursnlp/lib/python3.7/site-packages/pandas/core/apply.py\u001b[0m in \u001b[0;36mapply_series_generator\u001b[0;34m(self)\u001b[0m\n\u001b[1;32m    826\u001b[0m             \u001b[0;32mfor\u001b[0m \u001b[0mi\u001b[0m\u001b[0;34m,\u001b[0m \u001b[0mv\u001b[0m \u001b[0;32min\u001b[0m \u001b[0menumerate\u001b[0m\u001b[0;34m(\u001b[0m\u001b[0mseries_gen\u001b[0m\u001b[0;34m)\u001b[0m\u001b[0;34m:\u001b[0m\u001b[0;34m\u001b[0m\u001b[0;34m\u001b[0m\u001b[0m\n\u001b[1;32m    827\u001b[0m                 \u001b[0;31m# ignore SettingWithCopy here in case the user mutates\u001b[0m\u001b[0;34m\u001b[0m\u001b[0;34m\u001b[0m\u001b[0;34m\u001b[0m\u001b[0m\n\u001b[0;32m--> 828\u001b[0;31m                 \u001b[0mresults\u001b[0m\u001b[0;34m[\u001b[0m\u001b[0mi\u001b[0m\u001b[0;34m]\u001b[0m \u001b[0;34m=\u001b[0m \u001b[0mself\u001b[0m\u001b[0;34m.\u001b[0m\u001b[0mf\u001b[0m\u001b[0;34m(\u001b[0m\u001b[0mv\u001b[0m\u001b[0;34m)\u001b[0m\u001b[0;34m\u001b[0m\u001b[0;34m\u001b[0m\u001b[0m\n\u001b[0m\u001b[1;32m    829\u001b[0m                 \u001b[0;32mif\u001b[0m \u001b[0misinstance\u001b[0m\u001b[0;34m(\u001b[0m\u001b[0mresults\u001b[0m\u001b[0;34m[\u001b[0m\u001b[0mi\u001b[0m\u001b[0;34m]\u001b[0m\u001b[0;34m,\u001b[0m \u001b[0mABCSeries\u001b[0m\u001b[0;34m)\u001b[0m\u001b[0;34m:\u001b[0m\u001b[0;34m\u001b[0m\u001b[0;34m\u001b[0m\u001b[0m\n\u001b[1;32m    830\u001b[0m                     \u001b[0;31m# If we have a view on v, we need to make a copy because\u001b[0m\u001b[0;34m\u001b[0m\u001b[0;34m\u001b[0m\u001b[0;34m\u001b[0m\u001b[0m\n",
      "\u001b[0;32m/tmp/ipykernel_65596/187557089.py\u001b[0m in \u001b[0;36m<lambda>\u001b[0;34m(x)\u001b[0m\n\u001b[1;32m      1\u001b[0m \u001b[0mdata\u001b[0m\u001b[0;34m[\u001b[0m\u001b[0;34m'pierre_stop'\u001b[0m\u001b[0;34m]\u001b[0m \u001b[0;34m=\u001b[0m \u001b[0mdata\u001b[0m\u001b[0;34m[\u001b[0m\u001b[0;34m'pierre_stop'\u001b[0m\u001b[0;34m]\u001b[0m\u001b[0;34m.\u001b[0m\u001b[0mapply\u001b[0m\u001b[0;34m(\u001b[0m\u001b[0mjoin\u001b[0m\u001b[0;34m)\u001b[0m\u001b[0;34m\u001b[0m\u001b[0;34m\u001b[0m\u001b[0m\n\u001b[1;32m      2\u001b[0m \u001b[0mdata\u001b[0m\u001b[0;34m[\u001b[0m\u001b[0;34m'texte_stop'\u001b[0m\u001b[0;34m]\u001b[0m \u001b[0;34m=\u001b[0m \u001b[0mdata\u001b[0m\u001b[0;34m[\u001b[0m\u001b[0;34m'texte_stop'\u001b[0m\u001b[0;34m]\u001b[0m\u001b[0;34m.\u001b[0m\u001b[0mapply\u001b[0m\u001b[0;34m(\u001b[0m\u001b[0mjoin\u001b[0m\u001b[0;34m)\u001b[0m\u001b[0;34m\u001b[0m\u001b[0;34m\u001b[0m\u001b[0m\n\u001b[0;32m----> 3\u001b[0;31m \u001b[0mdata\u001b[0m\u001b[0;34m[\u001b[0m\u001b[0;34m'cosine'\u001b[0m\u001b[0;34m]\u001b[0m \u001b[0;34m=\u001b[0m \u001b[0mdata\u001b[0m\u001b[0;34m.\u001b[0m\u001b[0mapply\u001b[0m\u001b[0;34m(\u001b[0m\u001b[0;32mlambda\u001b[0m \u001b[0mx\u001b[0m\u001b[0;34m:\u001b[0m\u001b[0mcosine_sim\u001b[0m\u001b[0;34m(\u001b[0m\u001b[0mx\u001b[0m\u001b[0;34m[\u001b[0m\u001b[0;34m'texte_stop'\u001b[0m\u001b[0;34m]\u001b[0m\u001b[0;34m,\u001b[0m\u001b[0mx\u001b[0m\u001b[0;34m[\u001b[0m\u001b[0;34m'pierre_stop'\u001b[0m\u001b[0;34m]\u001b[0m\u001b[0;34m)\u001b[0m\u001b[0;34m,\u001b[0m\u001b[0maxis\u001b[0m\u001b[0;34m=\u001b[0m\u001b[0;36m1\u001b[0m\u001b[0;34m)\u001b[0m\u001b[0;34m\u001b[0m\u001b[0;34m\u001b[0m\u001b[0m\n\u001b[0m",
      "\u001b[0;32m~/Documents/2022-2023/ENC/Mémoire/codes/fonctions.py\u001b[0m in \u001b[0;36mcosine_sim\u001b[0;34m(x, y)\u001b[0m\n\u001b[1;32m   1240\u001b[0m \u001b[0;32mdef\u001b[0m \u001b[0mcosine_sim\u001b[0m\u001b[0;34m(\u001b[0m\u001b[0mx\u001b[0m\u001b[0;34m,\u001b[0m\u001b[0my\u001b[0m\u001b[0;34m)\u001b[0m\u001b[0;34m:\u001b[0m\u001b[0;34m\u001b[0m\u001b[0;34m\u001b[0m\u001b[0m\n\u001b[1;32m   1241\u001b[0m     \u001b[0mvectorizer\u001b[0m \u001b[0;34m=\u001b[0m \u001b[0mTfidfVectorizer\u001b[0m\u001b[0;34m(\u001b[0m\u001b[0;34m)\u001b[0m\u001b[0;34m\u001b[0m\u001b[0;34m\u001b[0m\u001b[0m\n\u001b[0;32m-> 1242\u001b[0;31m     \u001b[0mtfidf_matrix\u001b[0m \u001b[0;34m=\u001b[0m \u001b[0mvectorizer\u001b[0m\u001b[0;34m.\u001b[0m\u001b[0mfit_transform\u001b[0m\u001b[0;34m(\u001b[0m\u001b[0;34m[\u001b[0m\u001b[0mx\u001b[0m\u001b[0;34m,\u001b[0m \u001b[0my\u001b[0m\u001b[0;34m]\u001b[0m\u001b[0;34m)\u001b[0m\u001b[0;34m\u001b[0m\u001b[0;34m\u001b[0m\u001b[0m\n\u001b[0m\u001b[1;32m   1243\u001b[0m     \u001b[0mcosine_sim\u001b[0m \u001b[0;34m=\u001b[0m \u001b[0mcosine_similarity\u001b[0m\u001b[0;34m(\u001b[0m\u001b[0mtfidf_matrix\u001b[0m\u001b[0;34m)\u001b[0m\u001b[0;34m\u001b[0m\u001b[0;34m\u001b[0m\u001b[0m\n\u001b[1;32m   1244\u001b[0m     \u001b[0;32mreturn\u001b[0m \u001b[0mcosine_sim\u001b[0m\u001b[0;34m[\u001b[0m\u001b[0;36m0\u001b[0m\u001b[0;34m]\u001b[0m\u001b[0;34m[\u001b[0m\u001b[0;36m1\u001b[0m\u001b[0;34m]\u001b[0m\u001b[0;34m\u001b[0m\u001b[0;34m\u001b[0m\u001b[0m\n",
      "\u001b[0;32m~/python/miniconda/envs/coursnlp/lib/python3.7/site-packages/sklearn/feature_extraction/text.py\u001b[0m in \u001b[0;36mfit_transform\u001b[0;34m(self, raw_documents, y)\u001b[0m\n\u001b[1;32m   1857\u001b[0m         \"\"\"\n\u001b[1;32m   1858\u001b[0m         \u001b[0mself\u001b[0m\u001b[0;34m.\u001b[0m\u001b[0m_check_params\u001b[0m\u001b[0;34m(\u001b[0m\u001b[0;34m)\u001b[0m\u001b[0;34m\u001b[0m\u001b[0;34m\u001b[0m\u001b[0m\n\u001b[0;32m-> 1859\u001b[0;31m         \u001b[0mX\u001b[0m \u001b[0;34m=\u001b[0m \u001b[0msuper\u001b[0m\u001b[0;34m(\u001b[0m\u001b[0;34m)\u001b[0m\u001b[0;34m.\u001b[0m\u001b[0mfit_transform\u001b[0m\u001b[0;34m(\u001b[0m\u001b[0mraw_documents\u001b[0m\u001b[0;34m)\u001b[0m\u001b[0;34m\u001b[0m\u001b[0;34m\u001b[0m\u001b[0m\n\u001b[0m\u001b[1;32m   1860\u001b[0m         \u001b[0mself\u001b[0m\u001b[0;34m.\u001b[0m\u001b[0m_tfidf\u001b[0m\u001b[0;34m.\u001b[0m\u001b[0mfit\u001b[0m\u001b[0;34m(\u001b[0m\u001b[0mX\u001b[0m\u001b[0;34m)\u001b[0m\u001b[0;34m\u001b[0m\u001b[0;34m\u001b[0m\u001b[0m\n\u001b[1;32m   1861\u001b[0m         \u001b[0;31m# X is already a transformed view of raw_documents so\u001b[0m\u001b[0;34m\u001b[0m\u001b[0;34m\u001b[0m\u001b[0;34m\u001b[0m\u001b[0m\n",
      "\u001b[0;32m~/python/miniconda/envs/coursnlp/lib/python3.7/site-packages/sklearn/feature_extraction/text.py\u001b[0m in \u001b[0;36mfit_transform\u001b[0;34m(self, raw_documents, y)\u001b[0m\n\u001b[1;32m   1218\u001b[0m \u001b[0;34m\u001b[0m\u001b[0m\n\u001b[1;32m   1219\u001b[0m         vocabulary, X = self._count_vocab(raw_documents,\n\u001b[0;32m-> 1220\u001b[0;31m                                           self.fixed_vocabulary_)\n\u001b[0m\u001b[1;32m   1221\u001b[0m \u001b[0;34m\u001b[0m\u001b[0m\n\u001b[1;32m   1222\u001b[0m         \u001b[0;32mif\u001b[0m \u001b[0mself\u001b[0m\u001b[0;34m.\u001b[0m\u001b[0mbinary\u001b[0m\u001b[0;34m:\u001b[0m\u001b[0;34m\u001b[0m\u001b[0;34m\u001b[0m\u001b[0m\n",
      "\u001b[0;32m~/python/miniconda/envs/coursnlp/lib/python3.7/site-packages/sklearn/feature_extraction/text.py\u001b[0m in \u001b[0;36m_count_vocab\u001b[0;34m(self, raw_documents, fixed_vocab)\u001b[0m\n\u001b[1;32m   1148\u001b[0m             \u001b[0mvocabulary\u001b[0m \u001b[0;34m=\u001b[0m \u001b[0mdict\u001b[0m\u001b[0;34m(\u001b[0m\u001b[0mvocabulary\u001b[0m\u001b[0;34m)\u001b[0m\u001b[0;34m\u001b[0m\u001b[0;34m\u001b[0m\u001b[0m\n\u001b[1;32m   1149\u001b[0m             \u001b[0;32mif\u001b[0m \u001b[0;32mnot\u001b[0m \u001b[0mvocabulary\u001b[0m\u001b[0;34m:\u001b[0m\u001b[0;34m\u001b[0m\u001b[0;34m\u001b[0m\u001b[0m\n\u001b[0;32m-> 1150\u001b[0;31m                 raise ValueError(\"empty vocabulary; perhaps the documents only\"\n\u001b[0m\u001b[1;32m   1151\u001b[0m                                  \" contain stop words\")\n\u001b[1;32m   1152\u001b[0m \u001b[0;34m\u001b[0m\u001b[0m\n",
      "\u001b[0;31mValueError\u001b[0m: empty vocabulary; perhaps the documents only contain stop words"
     ]
    }
   ],
   "source": [
    "data['pierre_stop'] = data['pierre_stop'].apply(join)\n",
    "data['texte_stop'] = data['texte_stop'].apply(join)\n",
    "data['cosine'] = data.apply(lambda x:cosine_sim(x['texte_stop'],x['pierre_stop']),axis=1)"
   ]
  },
  {
   "cell_type": "code",
   "execution_count": null,
   "id": "1a2c410a",
   "metadata": {},
   "outputs": [],
   "source": [
    "data = data[['textes','indice_text','pierre','indice_pierre','texte_lemmes','pierre_lemmes','texte_pos','pierre_pos']]\n",
    "data['quadri_commun'] = data.progress_apply(lambda x: avoir_quadrigramme_commun(x['textes'],x['pierre']),axis=1)"
   ]
  },
  {
   "cell_type": "code",
   "execution_count": 34,
   "id": "795f7790",
   "metadata": {},
   "outputs": [],
   "source": [
    "data['texte_bold'], data['pierre_bold'] = zip(*data['bold'].apply(from_tuples_to_column))"
   ]
  },
  {
   "cell_type": "code",
   "execution_count": 35,
   "id": "7fac6dbe",
   "metadata": {},
   "outputs": [],
   "source": [
    "data = data[['textes','indice_text','pierre','indice_pierre','texte_bold','pierre_bold','texte_lemmes','pierre_lemmes','texte_pos','pierre_pos']]"
   ]
  },
  {
   "cell_type": "code",
   "execution_count": 36,
   "id": "d2229d23",
   "metadata": {},
   "outputs": [],
   "source": [
    "data['etoiles_texte'] = data['texte_bold'].apply(indice_etoiles)\n",
    "data['etoiles_pierre'] = data['pierre_bold'].apply(indice_etoiles)"
   ]
  },
  {
   "cell_type": "code",
   "execution_count": 37,
   "id": "cc189f8a",
   "metadata": {},
   "outputs": [],
   "source": [
    "data['indice_que_texte'] = data['texte_bold'].apply(index_que)\n",
    "data['indice_que_pierre'] = data['pierre_bold'].apply(index_que)"
   ]
  },
  {
   "cell_type": "code",
   "execution_count": 38,
   "id": "22f85533",
   "metadata": {},
   "outputs": [],
   "source": [
    "data['lemmes_texte'] = data.apply(lambda x: jarod(x['texte_bold'],x['texte_lemmes']),axis=1).apply(transform_word)\n",
    "data['lemmes_pierre'] = data.apply(lambda x:jarod(x['pierre_bold'],x['pierre_lemmes']),axis=1).apply(transform_word)"
   ]
  },
  {
   "cell_type": "code",
   "execution_count": 36,
   "id": "68cab593",
   "metadata": {
    "scrolled": false
   },
   "outputs": [],
   "source": [
    "#data['compare'] = data.apply(lambda x:lengths(x['lemmes_pierre'],x['pierre_bold']),axis=1)"
   ]
  },
  {
   "cell_type": "code",
   "execution_count": 39,
   "id": "61fc0724",
   "metadata": {},
   "outputs": [],
   "source": [
    "data['test_lemmes_texte'] = data.apply(lambda x: to_bold(x['lemmes_texte'],x['etoiles_texte']),axis=1).apply(transform_word)\n",
    "data['test_lemmes_pierre'] = data.apply(lambda x: to_bold(x['lemmes_pierre'],x['etoiles_pierre']),axis=1).apply(transform_word)"
   ]
  },
  {
   "cell_type": "code",
   "execution_count": 40,
   "id": "2c557cc7",
   "metadata": {},
   "outputs": [],
   "source": [
    "def lemmas_bold_2(x,y):\n",
    "    \n",
    "    match = []\n",
    "    liste_pos = ['ADJqua','VER','NOMcom','ADV']\n",
    "\n",
    "    for i in range(len(x)):\n",
    "        if not x[i].startswith('**') and x[i] in y:\n",
    "            match.append(x[i])\n",
    "    final = []\n",
    "\n",
    "    for i in match:\n",
    "        if new_dic.get(i) in liste_pos:\n",
    "            final.append(i)\n",
    "\n",
    "    for i in range(len(x)):\n",
    "        if x[i] in final:\n",
    "            x[i] = f'**{x[i]}**'\n",
    "\n",
    "    for i in range(len(y)):\n",
    "        if y[i] in final:\n",
    "            y[i] = f'**{y[i]}**'\n",
    "    \n",
    "    return x,y"
   ]
  },
  {
   "cell_type": "code",
   "execution_count": 41,
   "id": "871126b0",
   "metadata": {},
   "outputs": [],
   "source": [
    "data['segment_texte'] = data.apply(lambda row: segment_lists(row['texte_bold'],row['etoiles_texte'][0],row['etoiles_texte'][-1],context_size=20), axis =1)\n",
    "data['segment_pierre'] = data.apply(lambda row: segment_lists(row['pierre_bold'],row['etoiles_pierre'][0],row['etoiles_pierre'][-1],context_size=20), axis =1)\n",
    "\n",
    "data['segment_texte_lemme'] = data.apply(lambda row: segment_lists(row['test_lemmes_texte'],row['etoiles_texte'][0],row['etoiles_texte'][-1],context_size=20), axis =1)\n",
    "data['segment_pierre_lemme'] = data.apply(lambda row: segment_lists(row['test_lemmes_pierre'],row['etoiles_pierre'][0],row['etoiles_pierre'][-1],context_size=20), axis =1)\n",
    "\n",
    "data['final'] = data.apply(lambda row: lemmas_bold_2(row['segment_texte_lemme'],row['segment_pierre_lemme']),axis=1)\n",
    "\n",
    "data['texte_final_lemmes'], data['pierre_final_lemmes'] = zip(*data['final'].apply(from_tuples_to_column))\n",
    "data['indice_final_texte'] = data['texte_final_lemmes'].apply(indice_etoiles)\n",
    "data['indice_final_pierre'] = data['pierre_final_lemmes'].apply(indice_etoiles)"
   ]
  },
  {
   "cell_type": "code",
   "execution_count": 42,
   "id": "e1b27d21",
   "metadata": {},
   "outputs": [],
   "source": [
    "data['texte_final'] = data.apply(lambda x: to_bold(x['segment_texte'],x['indice_final_texte']),axis=1).apply(transform_word)\n",
    "data['pierre_final'] = data.apply(lambda x: to_bold(x['segment_pierre'],x['indice_final_pierre']),axis=1).apply(transform_word)"
   ]
  },
  {
   "cell_type": "code",
   "execution_count": 45,
   "id": "fba4c837",
   "metadata": {
    "scrolled": false
   },
   "outputs": [
    {
     "data": {
      "text/html": [
       "<div>\n",
       "<style scoped>\n",
       "    .dataframe tbody tr th:only-of-type {\n",
       "        vertical-align: middle;\n",
       "    }\n",
       "\n",
       "    .dataframe tbody tr th {\n",
       "        vertical-align: top;\n",
       "    }\n",
       "\n",
       "    .dataframe thead th {\n",
       "        text-align: right;\n",
       "    }\n",
       "</style>\n",
       "<table border=\"1\" class=\"dataframe\">\n",
       "  <thead>\n",
       "    <tr style=\"text-align: right;\">\n",
       "      <th></th>\n",
       "      <th>textes</th>\n",
       "      <th>indice_text</th>\n",
       "      <th>pierre</th>\n",
       "      <th>indice_pierre</th>\n",
       "      <th>texte_bold</th>\n",
       "      <th>pierre_bold</th>\n",
       "      <th>texte_lemmes</th>\n",
       "      <th>pierre_lemmes</th>\n",
       "      <th>texte_pos</th>\n",
       "      <th>pierre_pos</th>\n",
       "      <th>...</th>\n",
       "      <th>segment_pierre</th>\n",
       "      <th>segment_texte_lemme</th>\n",
       "      <th>segment_pierre_lemme</th>\n",
       "      <th>final</th>\n",
       "      <th>texte_final_lemmes</th>\n",
       "      <th>pierre_final_lemmes</th>\n",
       "      <th>indice_final_texte</th>\n",
       "      <th>indice_final_pierre</th>\n",
       "      <th>texte_final</th>\n",
       "      <th>pierre_final</th>\n",
       "    </tr>\n",
       "  </thead>\n",
       "  <tbody>\n",
       "    <tr>\n",
       "      <th>0</th>\n",
       "      <td>sane cum de culminis nostri fulgore uelut ex s...</td>\n",
       "      <td>texte_1</td>\n",
       "      <td>de fulgore throni cesarei uelut ex sole radii ...</td>\n",
       "      <td>pierre_1a</td>\n",
       "      <td>[sane, cum, de, culminis, nostri, fulgore, **u...</td>\n",
       "      <td>[de, fulgore, throni, cesarei, **uelut**, **ex...</td>\n",
       "      <td>[sane, cum3, de, culmen, noster, fulgor, uelut...</td>\n",
       "      <td>[de, fulgor, thronus, cesareus, uelut1, ex, so...</td>\n",
       "      <td>[ADV, CONsub, PRE, NOMcom, PROpos, NOMcom, ADV...</td>\n",
       "      <td>[PRE, NOMcom, NOMcom, ADJqua, ADVrel, PRE, NOM...</td>\n",
       "      <td>...</td>\n",
       "      <td>[de, fulgore, throni, cesarei, ****uelut****, ...</td>\n",
       "      <td>[sane, cum3, de, culmen, noster, fulgor, **uel...</td>\n",
       "      <td>[de, fulgor, thronus, cesareus, **uelut1**, **...</td>\n",
       "      <td>([sane, cum3, de, culmen, noster, fulgor, **ue...</td>\n",
       "      <td>[sane, cum3, de, culmen, noster, fulgor, **uel...</td>\n",
       "      <td>[de, fulgor, thronus, cesareus, **uelut1**, **...</td>\n",
       "      <td>[6, 7, 8, 9, 10, 14, 15, 16, 17, 18, 19, 20, 2...</td>\n",
       "      <td>[4, 5, 6, 7, 8, 10, 11, 12, 13, 14, 15, 16, 17...</td>\n",
       "      <td>[sane, cum, de, culminis, nostri, fulgore, **u...</td>\n",
       "      <td>[de, fulgore, throni, cesarei, **uelut**, **ex...</td>\n",
       "    </tr>\n",
       "    <tr>\n",
       "      <th>1</th>\n",
       "      <td>sane cum de culminis nostri fulgore uelut ex s...</td>\n",
       "      <td>texte_1</td>\n",
       "      <td>licet ad quorumlibet nostrorum fidelium munifi...</td>\n",
       "      <td>pierre_1b</td>\n",
       "      <td>[sane, cum, de, culminis, nostri, fulgore, uel...</td>\n",
       "      <td>[**licet**, **ad**, **quorumlibet**, **nostror...</td>\n",
       "      <td>[sane, cum3, de, culmen, noster, fulgor, uelut...</td>\n",
       "      <td>[licet3, ad2, quisque2, noster, fidelis2, muni...</td>\n",
       "      <td>[ADV, CONsub, PRE, NOMcom, PROpos, NOMcom, ADV...</td>\n",
       "      <td>[CONsub, PRE, PROind, PROpos, NOMcom, ADV, VER...</td>\n",
       "      <td>...</td>\n",
       "      <td>[****licet****, ****ad****, ****quorumlibet***...</td>\n",
       "      <td>[quia, regnum, francies, moderor, habena, soli...</td>\n",
       "      <td>[**licet3**, **ad2**, **quisque2**, **noster**...</td>\n",
       "      <td>([quia, regnum, francies, moderor, habena, sol...</td>\n",
       "      <td>[quia, regnum, francies, moderor, habena, soli...</td>\n",
       "      <td>[**licet3**, **ad2**, **quisque2**, **noster**...</td>\n",
       "      <td>[20, 21, 22, 23, 24, 25, 26, 27, 28, 29, 30, 3...</td>\n",
       "      <td>[0, 1, 2, 3, 4, 5, 6, 7, 8, 9, 11, 12, 13, 15,...</td>\n",
       "      <td>[quia, regni, francie, moderamur, habenas, sol...</td>\n",
       "      <td>[**licet**, **ad**, **quorumlibet**, **nostror...</td>\n",
       "    </tr>\n",
       "    <tr>\n",
       "      <th>2</th>\n",
       "      <td>sane cum de culminis nostri fulgore uelut ex s...</td>\n",
       "      <td>texte_1</td>\n",
       "      <td>licet ad prosequenda munificentie sic uota fid...</td>\n",
       "      <td>pierre_3b</td>\n",
       "      <td>[sane, cum, de, culminis, nostri, fulgore, uel...</td>\n",
       "      <td>[licet, ad, prosequenda, munificentie, sic, uo...</td>\n",
       "      <td>[sane, cum3, de, culmen, noster, fulgor, uelut...</td>\n",
       "      <td>[licet3, ad2, prosequor, munificentiens, sic, ...</td>\n",
       "      <td>[ADV, CONsub, PRE, NOMcom, PROpos, NOMcom, ADV...</td>\n",
       "      <td>[CONsub, PRE, VER, ADJqua, ADV, NOMcom, NOMcom...</td>\n",
       "      <td>...</td>\n",
       "      <td>[licet, ad, prosequenda, munificentie, sic, uo...</td>\n",
       "      <td>[confoueo, quam1, etiam, nouus, ardeo, honor, ...</td>\n",
       "      <td>[licet3, ad2, prosequor, munificentiens, sic, ...</td>\n",
       "      <td>([confoueo, quam1, etiam, nouus, ardeo, honor,...</td>\n",
       "      <td>[confoueo, quam1, etiam, nouus, ardeo, honor, ...</td>\n",
       "      <td>[licet3, ad2, prosequor, munificentiens, sic, ...</td>\n",
       "      <td>[16, 20, 22, 23]</td>\n",
       "      <td>[7, 14, 16, 17]</td>\n",
       "      <td>[confoueri, quam, etiam, nouis, ardemus, honor...</td>\n",
       "      <td>[licet, ad, prosequenda, munificentie, sic, uo...</td>\n",
       "    </tr>\n",
       "    <tr>\n",
       "      <th>3</th>\n",
       "      <td>sane cum de culminis nostri fulgore uelut ex s...</td>\n",
       "      <td>texte_1</td>\n",
       "      <td>licet ad quorumlibet nostrorum fidelium munifi...</td>\n",
       "      <td>pierre_12a</td>\n",
       "      <td>[sane, cum, de, culminis, nostri, fulgore, uel...</td>\n",
       "      <td>[**licet**, **ad**, **quorumlibet**, **nostror...</td>\n",
       "      <td>[sane, cum3, de, culmen, noster, fulgor, uelut...</td>\n",
       "      <td>[licet3, ad2, quisque2, noster, fidelis2, muni...</td>\n",
       "      <td>[ADV, CONsub, PRE, NOMcom, PROpos, NOMcom, ADV...</td>\n",
       "      <td>[CONsub, PRE, PROind, PROpos, NOMcom, ADV, VER...</td>\n",
       "      <td>...</td>\n",
       "      <td>[****licet****, ****ad****, ****quorumlibet***...</td>\n",
       "      <td>[quia, regnum, francies, moderor, habena, soli...</td>\n",
       "      <td>[**licet3**, **ad2**, **quisque2**, **noster**...</td>\n",
       "      <td>([quia, regnum, francies, moderor, habena, sol...</td>\n",
       "      <td>[quia, regnum, francies, moderor, habena, soli...</td>\n",
       "      <td>[**licet3**, **ad2**, **quisque2**, **noster**...</td>\n",
       "      <td>[20, 21, 22, 23, 24, 25, 26, 27, 28, 29, 30, 3...</td>\n",
       "      <td>[0, 1, 2, 3, 4, 5, 6, 7, 8, 9, 11, 12, 13, 15,...</td>\n",
       "      <td>[quia, regni, francie, moderamur, habenas, sol...</td>\n",
       "      <td>[**licet**, **ad**, **quorumlibet**, **nostror...</td>\n",
       "    </tr>\n",
       "    <tr>\n",
       "      <th>4</th>\n",
       "      <td>sane cum de culminis nostri fulgore uelut ex s...</td>\n",
       "      <td>texte_1</td>\n",
       "      <td>licet ad prosequenda munificentie sic uota fid...</td>\n",
       "      <td>pierre_12b</td>\n",
       "      <td>[sane, cum, de, culminis, nostri, fulgore, uel...</td>\n",
       "      <td>[licet, ad, prosequenda, munificentie, sic, uo...</td>\n",
       "      <td>[sane, cum3, de, culmen, noster, fulgor, uelut...</td>\n",
       "      <td>[licet3, ad2, prosequor, munificentiens, sic, ...</td>\n",
       "      <td>[ADV, CONsub, PRE, NOMcom, PROpos, NOMcom, ADV...</td>\n",
       "      <td>[CONsub, PRE, VER, ADJqua, ADV, NOMcom, NOMcom...</td>\n",
       "      <td>...</td>\n",
       "      <td>[licet, ad, prosequenda, munificentie, sic, uo...</td>\n",
       "      <td>[dignitas, ornatus1, confoueo, quam1, etiam, n...</td>\n",
       "      <td>[licet3, ad2, prosequor, munificentiens, sic, ...</td>\n",
       "      <td>([dignitas, ornatus1, confoueo, quam1, etiam, ...</td>\n",
       "      <td>[dignitas, ornatus1, confoueo, quam1, etiam, n...</td>\n",
       "      <td>[licet3, ad2, prosequor, munificentiens, sic, ...</td>\n",
       "      <td>[18, 20, 21, 22, 24, 25]</td>\n",
       "      <td>[7, 10, 11, 14, 16, 17]</td>\n",
       "      <td>[dignitatum, ornatibus, confoueri, quam, etiam...</td>\n",
       "      <td>[licet, ad, prosequenda, munificentie, sic, uo...</td>\n",
       "    </tr>\n",
       "  </tbody>\n",
       "</table>\n",
       "<p>5 rows × 29 columns</p>\n",
       "</div>"
      ],
      "text/plain": [
       "                                              textes indice_text  \\\n",
       "0  sane cum de culminis nostri fulgore uelut ex s...     texte_1   \n",
       "1  sane cum de culminis nostri fulgore uelut ex s...     texte_1   \n",
       "2  sane cum de culminis nostri fulgore uelut ex s...     texte_1   \n",
       "3  sane cum de culminis nostri fulgore uelut ex s...     texte_1   \n",
       "4  sane cum de culminis nostri fulgore uelut ex s...     texte_1   \n",
       "\n",
       "                                              pierre indice_pierre  \\\n",
       "0  de fulgore throni cesarei uelut ex sole radii ...     pierre_1a   \n",
       "1  licet ad quorumlibet nostrorum fidelium munifi...     pierre_1b   \n",
       "2  licet ad prosequenda munificentie sic uota fid...     pierre_3b   \n",
       "3  licet ad quorumlibet nostrorum fidelium munifi...    pierre_12a   \n",
       "4  licet ad prosequenda munificentie sic uota fid...    pierre_12b   \n",
       "\n",
       "                                          texte_bold  \\\n",
       "0  [sane, cum, de, culminis, nostri, fulgore, **u...   \n",
       "1  [sane, cum, de, culminis, nostri, fulgore, uel...   \n",
       "2  [sane, cum, de, culminis, nostri, fulgore, uel...   \n",
       "3  [sane, cum, de, culminis, nostri, fulgore, uel...   \n",
       "4  [sane, cum, de, culminis, nostri, fulgore, uel...   \n",
       "\n",
       "                                         pierre_bold  \\\n",
       "0  [de, fulgore, throni, cesarei, **uelut**, **ex...   \n",
       "1  [**licet**, **ad**, **quorumlibet**, **nostror...   \n",
       "2  [licet, ad, prosequenda, munificentie, sic, uo...   \n",
       "3  [**licet**, **ad**, **quorumlibet**, **nostror...   \n",
       "4  [licet, ad, prosequenda, munificentie, sic, uo...   \n",
       "\n",
       "                                        texte_lemmes  \\\n",
       "0  [sane, cum3, de, culmen, noster, fulgor, uelut...   \n",
       "1  [sane, cum3, de, culmen, noster, fulgor, uelut...   \n",
       "2  [sane, cum3, de, culmen, noster, fulgor, uelut...   \n",
       "3  [sane, cum3, de, culmen, noster, fulgor, uelut...   \n",
       "4  [sane, cum3, de, culmen, noster, fulgor, uelut...   \n",
       "\n",
       "                                       pierre_lemmes  \\\n",
       "0  [de, fulgor, thronus, cesareus, uelut1, ex, so...   \n",
       "1  [licet3, ad2, quisque2, noster, fidelis2, muni...   \n",
       "2  [licet3, ad2, prosequor, munificentiens, sic, ...   \n",
       "3  [licet3, ad2, quisque2, noster, fidelis2, muni...   \n",
       "4  [licet3, ad2, prosequor, munificentiens, sic, ...   \n",
       "\n",
       "                                           texte_pos  \\\n",
       "0  [ADV, CONsub, PRE, NOMcom, PROpos, NOMcom, ADV...   \n",
       "1  [ADV, CONsub, PRE, NOMcom, PROpos, NOMcom, ADV...   \n",
       "2  [ADV, CONsub, PRE, NOMcom, PROpos, NOMcom, ADV...   \n",
       "3  [ADV, CONsub, PRE, NOMcom, PROpos, NOMcom, ADV...   \n",
       "4  [ADV, CONsub, PRE, NOMcom, PROpos, NOMcom, ADV...   \n",
       "\n",
       "                                          pierre_pos  ...  \\\n",
       "0  [PRE, NOMcom, NOMcom, ADJqua, ADVrel, PRE, NOM...  ...   \n",
       "1  [CONsub, PRE, PROind, PROpos, NOMcom, ADV, VER...  ...   \n",
       "2  [CONsub, PRE, VER, ADJqua, ADV, NOMcom, NOMcom...  ...   \n",
       "3  [CONsub, PRE, PROind, PROpos, NOMcom, ADV, VER...  ...   \n",
       "4  [CONsub, PRE, VER, ADJqua, ADV, NOMcom, NOMcom...  ...   \n",
       "\n",
       "                                      segment_pierre  \\\n",
       "0  [de, fulgore, throni, cesarei, ****uelut****, ...   \n",
       "1  [****licet****, ****ad****, ****quorumlibet***...   \n",
       "2  [licet, ad, prosequenda, munificentie, sic, uo...   \n",
       "3  [****licet****, ****ad****, ****quorumlibet***...   \n",
       "4  [licet, ad, prosequenda, munificentie, sic, uo...   \n",
       "\n",
       "                                 segment_texte_lemme  \\\n",
       "0  [sane, cum3, de, culmen, noster, fulgor, **uel...   \n",
       "1  [quia, regnum, francies, moderor, habena, soli...   \n",
       "2  [confoueo, quam1, etiam, nouus, ardeo, honor, ...   \n",
       "3  [quia, regnum, francies, moderor, habena, soli...   \n",
       "4  [dignitas, ornatus1, confoueo, quam1, etiam, n...   \n",
       "\n",
       "                                segment_pierre_lemme  \\\n",
       "0  [de, fulgor, thronus, cesareus, **uelut1**, **...   \n",
       "1  [**licet3**, **ad2**, **quisque2**, **noster**...   \n",
       "2  [licet3, ad2, prosequor, munificentiens, sic, ...   \n",
       "3  [**licet3**, **ad2**, **quisque2**, **noster**...   \n",
       "4  [licet3, ad2, prosequor, munificentiens, sic, ...   \n",
       "\n",
       "                                               final  \\\n",
       "0  ([sane, cum3, de, culmen, noster, fulgor, **ue...   \n",
       "1  ([quia, regnum, francies, moderor, habena, sol...   \n",
       "2  ([confoueo, quam1, etiam, nouus, ardeo, honor,...   \n",
       "3  ([quia, regnum, francies, moderor, habena, sol...   \n",
       "4  ([dignitas, ornatus1, confoueo, quam1, etiam, ...   \n",
       "\n",
       "                                  texte_final_lemmes  \\\n",
       "0  [sane, cum3, de, culmen, noster, fulgor, **uel...   \n",
       "1  [quia, regnum, francies, moderor, habena, soli...   \n",
       "2  [confoueo, quam1, etiam, nouus, ardeo, honor, ...   \n",
       "3  [quia, regnum, francies, moderor, habena, soli...   \n",
       "4  [dignitas, ornatus1, confoueo, quam1, etiam, n...   \n",
       "\n",
       "                                 pierre_final_lemmes  \\\n",
       "0  [de, fulgor, thronus, cesareus, **uelut1**, **...   \n",
       "1  [**licet3**, **ad2**, **quisque2**, **noster**...   \n",
       "2  [licet3, ad2, prosequor, munificentiens, sic, ...   \n",
       "3  [**licet3**, **ad2**, **quisque2**, **noster**...   \n",
       "4  [licet3, ad2, prosequor, munificentiens, sic, ...   \n",
       "\n",
       "                                  indice_final_texte  \\\n",
       "0  [6, 7, 8, 9, 10, 14, 15, 16, 17, 18, 19, 20, 2...   \n",
       "1  [20, 21, 22, 23, 24, 25, 26, 27, 28, 29, 30, 3...   \n",
       "2                                   [16, 20, 22, 23]   \n",
       "3  [20, 21, 22, 23, 24, 25, 26, 27, 28, 29, 30, 3...   \n",
       "4                           [18, 20, 21, 22, 24, 25]   \n",
       "\n",
       "                                 indice_final_pierre  \\\n",
       "0  [4, 5, 6, 7, 8, 10, 11, 12, 13, 14, 15, 16, 17...   \n",
       "1  [0, 1, 2, 3, 4, 5, 6, 7, 8, 9, 11, 12, 13, 15,...   \n",
       "2                                    [7, 14, 16, 17]   \n",
       "3  [0, 1, 2, 3, 4, 5, 6, 7, 8, 9, 11, 12, 13, 15,...   \n",
       "4                            [7, 10, 11, 14, 16, 17]   \n",
       "\n",
       "                                         texte_final  \\\n",
       "0  [sane, cum, de, culminis, nostri, fulgore, **u...   \n",
       "1  [quia, regni, francie, moderamur, habenas, sol...   \n",
       "2  [confoueri, quam, etiam, nouis, ardemus, honor...   \n",
       "3  [quia, regni, francie, moderamur, habenas, sol...   \n",
       "4  [dignitatum, ornatibus, confoueri, quam, etiam...   \n",
       "\n",
       "                                        pierre_final  \n",
       "0  [de, fulgore, throni, cesarei, **uelut**, **ex...  \n",
       "1  [**licet**, **ad**, **quorumlibet**, **nostror...  \n",
       "2  [licet, ad, prosequenda, munificentie, sic, uo...  \n",
       "3  [**licet**, **ad**, **quorumlibet**, **nostror...  \n",
       "4  [licet, ad, prosequenda, munificentie, sic, uo...  \n",
       "\n",
       "[5 rows x 29 columns]"
      ]
     },
     "execution_count": 45,
     "metadata": {},
     "output_type": "execute_result"
    }
   ],
   "source": [
    "data[data['indice_text'] == 'texte_1']"
   ]
  },
  {
   "cell_type": "code",
   "execution_count": 54,
   "id": "ca51db0a",
   "metadata": {},
   "outputs": [],
   "source": [
    "x = data['texte_final'][0]\n",
    "y = data['pierre_final'][0]"
   ]
  },
  {
   "cell_type": "code",
   "execution_count": 55,
   "id": "085a7d37",
   "metadata": {},
   "outputs": [
    {
     "name": "stdout",
     "output_type": "stream",
     "text": [
      "----------\n"
     ]
    },
    {
     "data": {
      "text/markdown": [
       "sane cum de culminis nostri fulgore **uelut** **ex** **sole** **radii** **sic** omnium largiente conditore **prodeant** **dignitates** **ut** **prime** **lucis** **integritas** **minorati** **luminis** **non** **sensiat** **detrimenta** nam **tanto** **magis** regale **sceptrum** **extollitur** tantoque **curia** **regiminis** **sollicitudinibus** **releuatur** **quanto** **tribunal** **ipsius** **digniores** **circumspicit** **contribules** **hac** **igitur** **consideratione** ducti quia regni francie **moderamur** **habenas** **solii** **nostri** **decus** **tam** **ueterum** **dignitatum** **ornatibus** confoueri **quam** etiam nouis ardemus **honoribus** ampliari et licet ad quorumlibet nostrorum fidelium munifice prosequenda seruicia liberalitas nostra quadam generalitate sit procliuis"
      ],
      "text/plain": [
       "<IPython.core.display.Markdown object>"
      ]
     },
     "metadata": {},
     "output_type": "display_data"
    },
    {
     "name": "stdout",
     "output_type": "stream",
     "text": [
      "----------\n"
     ]
    },
    {
     "data": {
      "text/markdown": [
       "de fulgore throni cesarei **uelut** **ex** **sole** **radii** **sic** certe **prodeunt** **dignitates** **ut** **prime** **lucis** **integritas** **non** **sentiat** **minorati** **luminis** **detrimenta** tantoque **magis** imperiale **sceptrum** **extollitur** **tanto** **cura** **regiminis** pluria **sollicitudinibus** **releuatur** **quanto** **tribunal** **ipsius** **digniores** in circuitu **circumspicit** **contribules** regiones **hac** **igitur** **consideratione** commoti qui celesti prouidentia romani imperii **moderamur** **habenas** **solii** **nostri** **decus** **tam** **ueterum** **dignitatum** **ornatibus** confouemus **quam** nouis **honoribus** ampliamur"
      ],
      "text/plain": [
       "<IPython.core.display.Markdown object>"
      ]
     },
     "metadata": {},
     "output_type": "display_data"
    },
    {
     "name": "stdout",
     "output_type": "stream",
     "text": [
      "----------\n"
     ]
    }
   ],
   "source": [
    "final_texte = ' '.join(x)\n",
    "pierre_final = ' '.join(y)\n",
    "\n",
    "print('----------')\n",
    "display(Markdown(final_texte))\n",
    "print('----------')\n",
    "display(Markdown(pierre_final))    \n",
    "print('----------')"
   ]
  },
  {
   "cell_type": "markdown",
   "id": "8dcdc56b",
   "metadata": {},
   "source": [
    "# Test Viard"
   ]
  },
  {
   "cell_type": "code",
   "execution_count": 2,
   "id": "c3ee925b",
   "metadata": {},
   "outputs": [],
   "source": [
    "delete_quadrigramme = [['notum','facimus','uniuersis','tam'],['tam', 'presentibus', 'quam', 'futuris'],\n",
    "                 ['uniuersis', 'tam', 'presentibus', 'quam'],['rex', 'notum', 'facimus', 'uniuersis'],\n",
    "                 ['facimus', 'uniuersis', 'tam', 'presentibus'],['presentibus', 'quam', 'futuris', 'nos'],\n",
    "                 ['presentibus', 'quam', 'futuris', 'quod'],['etc', 'notum', 'facimus', 'uniuersis'],\n",
    "                 ['et', 'ex', 'certa', 'scientia'],['notum', 'facimus', 'uniuersis', 'presentibus'],\n",
    "                 ['quam', 'futuris', 'quod', 'cum'],['quam', 'futuris', 'quod', 'nos'],\n",
    "                 ['de', 'speciali', 'gratia', 'et'],['in', 'regno', 'nostro', 'usque'],\n",
    "                 ['gratia', 'et', 'ex', 'certa'],['in', 'regno', 'nostro', 'predicto'],\n",
    "                 ['presentibus', 'et', 'futuris', 'quod'],['notum', 'facimus', 'quod', 'cum'],\n",
    "                 ['quam', 'futuris', 'nos', 'in'],['de', 'regno', 'nostro', 'in'],\n",
    "                 ['et', 'ex', 'certa', 'sciencia'],['et', 'in', 'regno', 'nostro'],\n",
    "                 ['in', 'regno', 'nostro', 'et'],['facimus', 'tam', 'presentibus', 'quam']]"
   ]
  },
  {
   "cell_type": "code",
   "execution_count": 3,
   "id": "6ae1f76f",
   "metadata": {},
   "outputs": [
    {
     "data": {
      "text/plain": [
       "\"oscar = zoe[zoe['compare'] != False].reset_index(drop=True)\\n\\noscar['compare_first'] = oscar['compare'].apply(keep_first_element)\\noscar['delete'] = oscar.progress_apply(lambda x: delete_quadri(x['compare_first'],delete_quadrigramme),axis=1)\\nloic = oscar[oscar['delete'] != False].reset_index(drop=True)\\nloic['len'] = loic['delete'].apply(length)\\nloic = loic[loic['len'] > 1].reset_index(drop=True)\\nloic['same'] = loic['delete'].apply(same)\\nmathieu = loic[loic['same'] == False].reset_index(drop=True)\""
      ]
     },
     "execution_count": 3,
     "metadata": {},
     "output_type": "execute_result"
    }
   ],
   "source": [
    "file = '/home/noe/Documents/2022-2023/ENC/Mémoire/Dataframes/PDV_grams.xlsx'\n",
    "viard = '/home/noe/Documents/2022-2023/ENC/Mémoire/Dataframes/Viard_grams.xlsx'\n",
    "\n",
    "def delete_items_with_prefix(dictionnaire, prefix):\n",
    "    keys_to_delete = [key for key in dictionnaire if key.startswith(prefix)]\n",
    "    for key in keys_to_delete:\n",
    "        del dictionnaire[key]\n",
    "\n",
    "\n",
    "def is_single_word(s):\n",
    "    return isinstance(s, str) and len(s.split()) == 1\n",
    "\n",
    "def keys_with_single_word_value(dictionary):\n",
    "    single_word_keys = []\n",
    "    for key, value in dictionary.items():\n",
    "        if is_single_word(value):\n",
    "            single_word_keys.append(key)\n",
    "    return single_word_keys\n",
    "def join(liste):\n",
    "    return ' '.join(liste)\n",
    "\n",
    "df_pdv = pd.read_excel(file)\n",
    "df_viard = pd.read_excel(viard)\n",
    "\n",
    "df = pd.DataFrame({'texts':df_pdv['textes'],'clean_PDV': df_pdv['textes'].apply(clean_text)})\n",
    "df['compare'] = df['clean_PDV'].apply(join)\n",
    "\n",
    "df2 = pd.DataFrame({'viard_texts':df_viard['text'],'clean_viard':df_viard['text'].apply(clean_text)})\n",
    "\n",
    "column_without_brackets = [[string.replace('[', '').replace(']', '').lstrip().rstrip() for string in sublist] for sublist in df2['clean_viard']]\n",
    "\n",
    "df2['clean'] = column_without_brackets\n",
    "df2['compare'] = df2['clean'].apply(join)\n",
    "viard = {}\n",
    "for i in range(len(df2['compare'].tolist())):\n",
    "    viard[f'viard_{i+1}'] = df2['compare'].tolist()[i]\n",
    "dico_un = {}\n",
    "\n",
    "for i in range(len(df['compare'].tolist())):\n",
    "    dico_un[f'pdv_{i+1}'] = df['compare'].tolist()[i]\n",
    "\n",
    "pierre_de_la_vigne = list(dico_un.values())*len(viard)\n",
    "cles_de_la_vigne = list(dico_un.keys())*len(viard)\n",
    "\n",
    "jean_viard = copies(list(viard.values()),list(dico_un.values()))\n",
    "cles_jean = copies(list(viard.keys()),list(dico_un.values()))\n",
    "\n",
    "tqdm.pandas()\n",
    "zoe = pd.DataFrame({'viard':jean_viard,'pdv':pierre_de_la_vigne})\n",
    "viard_lemmes = list(viard.values())\n",
    "viard_keys = list(viard.keys())\n",
    "pdv_keys = list(dico_un.keys())\n",
    "trois = copies(viard_keys,list(dico_un.values()))\n",
    "quatre = pdv_keys*len(viard_keys)\n",
    "\n",
    "zoe['indice_viard'] = trois\n",
    "zoe['indice_pdv'] = quatre\n",
    "zoe = zoe[['indice_viard','viard','indice_pdv','pdv']]\n",
    "\n",
    "\n",
    "\n",
    "\n",
    "#zoe = zoe[['indice_viard','viard','indice_pdv','pdv','lemmes_viard','lemmes_pdv','cosine']]\n",
    "#zoe = zoe[zoe['cosine'] > 0.05]\n",
    "\n",
    "\n",
    "#zoe['quadri_viard'] = zoe['viard'].progress_apply(split).progress_apply(string_to_quadrigrams)\n",
    "#zoe['quadri_pdv'] = zoe['pdv'].progress_apply(split).progress_apply(string_to_quadrigrams)\n",
    "#zoe['compare'] = zoe.progress_apply(lambda x: list_of_common_quadrigrams(x['quadri_viard'],x['quadri_pdv']),axis=1)\n",
    "'''oscar = zoe[zoe['compare'] != False].reset_index(drop=True)\n",
    "\n",
    "oscar['compare_first'] = oscar['compare'].apply(keep_first_element)\n",
    "oscar['delete'] = oscar.progress_apply(lambda x: delete_quadri(x['compare_first'],delete_quadrigramme),axis=1)\n",
    "loic = oscar[oscar['delete'] != False].reset_index(drop=True)\n",
    "loic['len'] = loic['delete'].apply(length)\n",
    "loic = loic[loic['len'] > 1].reset_index(drop=True)\n",
    "loic['same'] = loic['delete'].apply(same)\n",
    "mathieu = loic[loic['same'] == False].reset_index(drop=True)'''"
   ]
  },
  {
   "cell_type": "code",
   "execution_count": null,
   "id": "3a3ee70b",
   "metadata": {},
   "outputs": [],
   "source": []
  },
  {
   "cell_type": "code",
   "execution_count": 15,
   "id": "d2676da5",
   "metadata": {},
   "outputs": [
    {
     "data": {
      "text/plain": [
       "'philippus dei etc notum facimus etc quod cum religiosus uir dilectus et fidelis petrus abbas monasterii cluniacensis  consiliarius noster supplicauerit nobis ut emptioni et acquisitioni per eum factis de duobus maneriis seu hospiciis cum suis iuribus et pertinenciis que titulo emptionis pro se suisque successoribus parisius acquisiuit uidelicet hospicium seu manerium situatum apud palatium termarum  quod emit philippo de tria  milite et hospicium seu manerium quod fuit gerardi de castellione militis domini de ruppe de milay quod iohannes de castrouillani et eius uxor uendiderunt eidem abbati que quidem hospicia seu maneria confrontantur seu continguantur religiosis sancti maturini etuallisde sernay ac uico per quem itur de sancto maturino predicto ad uicum cithare  ante domum domini de haricuria ex una parte et hospicio guillelmi de nangis alias dicti de palatio termarum et hospitiis uicecomitis de bello monte et de bersillo ac uico cythare ex altéra in censiua ecclesie sancte genouefe et parlatorii burgensium parisiensium assensum nostrum prebere ipsasque emptionem et acquisitionem dictorum hospiciorum seu maneriorum laudare ratificare et confirmare dignaremur nos attendentes eximiam deuotionem dicti abbatis consiliarii nostri que non solum prestitis nobis placere cepit obsequiis sed speratur placitura prestandis exemptionem et acquisitionem huiusmodi dictorum hospiciorum seu maneriorum et iurium et pertinenciarum predictorum et omnia et singula suprascripta rata habentes et grata ea uolumus laudamus approbamus ratifficamus et ex certa sciencia de speciali gratia auctoritate nostra regia tenore presencium confirmamus ipsi quoque abbati suisque successoribus abbatibus cluniacensibus uolentes gratiam facere pleniorem eisdem concedimus per présentes ut ipsi dicta hospicia seu maneria sicut predicitur acquisita cum suis iuribus et pertinenciis predictis habeant teneant et possideant imperpetuum libere pacifice et quiete et absque coactione ea uendendi uel extra manum suam ponendi seu prestandi propter hoc nobis uel quibuscumque nostris successoribus finenciam qualemcunque quod ut ratum et stabile perpetuo perseueret etc actum et datum parisius anno domini mo ccco xxxuto mense octobri per dominum regem ad relationem uestram i de sabaudia'"
      ]
     },
     "execution_count": 15,
     "metadata": {},
     "output_type": "execute_result"
    }
   ],
   "source": [
    "viard.get('viard_41')"
   ]
  },
  {
   "cell_type": "code",
   "execution_count": 40,
   "id": "5e77d60a",
   "metadata": {},
   "outputs": [],
   "source": [
    "y = dico_un.get('pdv_198')"
   ]
  },
  {
   "cell_type": "code",
   "execution_count": 31,
   "id": "8ee73ffc",
   "metadata": {},
   "outputs": [],
   "source": [
    "lettre = 'In nomine Domini nostri Ihesu Christi amen. Sollicitudinis et officii interesse dinoscitur pastoralis, ut summa animi vigilancia et consideracione perspicaci, illa que commisse sibi ecclesie profutura fuerint, procurare debeat mediatoris Dei et hominum vicarius et minister, et circumspecte provisionis studio promovere, quidquid in emolumentum ipsius commodum cedere viderit vel honorem, et tanto sollicicius curam ipsius agere, quanto, divinis affatibus contestatus, gregi sibi credito providere et honera pascendi gregis suis cum fratribus partiri cogitur ex precepto. Idcirco nos Andreas, Dei gracia episcopus ecclesie Poznaniensis, instanciis et crebrius venerabilis patris domini Iacobi, divina providencia sancte Gneznensis ecclesie archiepiscopi, hortati monitis et rogati: cum ecclesie nostre Poznaniensis archidiaconatus, canonice nunc vacans, ex distancia longiore et multiplici amplificatione et promixcione eciam et excrescencia creverit populorum, commodeque tribus archidiaconis in solidum regendus sufficiat et decenter, ipsum in tres archidiaconatus separatos canonice et disiunctos auctoritate nobis tradita divideremus, certis et determinatis limitibus declaratos: prefatis igitur venerabilis patris sanis exhortacionibus, salubribus consiliis et canonicis monitis inclinati, pocius animabus, de quibus in districto examine coram exactissimo iudice sumus racionem in die iudicii reddituri, et profectui ecclesie nostre intendere et consulere cupientes, diligenti et unanimi deliberacione prehabitis et tractatu, de consensu et beneplacito fratrum nostrorum Capituli Poznaniensis dictum archidiaconatum nostrum Poznaniensem in tres archidiaconatus dividimus sub hoc modo, videlicet quod hec ecclesie sue ex illa parte fluvii qui dicitur Varta, ad maiorem archidiaconatum nostre ecclesie sint spectantes: Mossina, Locza, Modrze, Granovo, Droszim, Slup, Neproszevo, Kasimirs, Szamantuli, Obriczko, et alie omnes versus Poznaniam site ab istis ecclesiis nominatis. Ab alia vero parte eiusdem fluvii, omnes ecclesie incipiendo a Censzim usque in Dirczen, ita tamen, quod se ultra Notes fluvium non extendat, quia illam partem archidiaconatui quarto reservamus. Medium vero archidiaconatum, sicut iste distingunt ecclesie: Xensze, Srem, Brodnicza, Borovo, Gluchovo, et alie omnes que consistunt ultra fluvium qui dicitur Obra usque Padlamgoram et Visoczko, ita ut Vartam non excedat, censuimus limitandum. Minorem vero archidiaconatum, prout hec ecclesie sunt site: Vronki, Othorovo, Vilczina, Czeradz, Buk, Ptaskovo, Lanki, et omnes alie inter Vartam et Padlamgoram et usque ad Vratislaviensem et Lubucensem dyoceses, limitamus. Damus autem archidiaconis, maiori, medio et minori, per nos canonice institutis et per nostros successores in posterum instituendis, liberam et generalem archidiaconatus sui administracionem, ita ut singulus eorum in suo archidiaconio habeat plenariam auctoritatem visitandi, corrigendi, excommunicandi, absolvendi, suspendendi, interdicendi, relaxandi, iudicandi, et alias penas spiritales secundum canones et sue discrecionis moderamen delinquentibus infligendi, quibus animarum remedium procuratur. Et si que pene pecuniarie delinquentibus forsitan fuerint infligende, has archidiaconi non valeant imponere vel eciam exigere nisi episcopo requisito, quas episcopus, si sibi videbitur, moderabit secundum graciam a Deo sibi datam. Quod si archidiaconi huic nostro decreto contraire ausi fuerint, aut eciam pro visitacione pecuniam vel solucionem aliquam pro penis acceperint vel extorserint, ab exsecucione archidiaconalis officii ipsos suspendimus ipso facto, donec pecuniam quam receperint, in presencia episcopi eis a quibus receperint restituant, et per episcopum exsecucioni officii restaurentur. Damus eciam eis exercicium omnium iurium universalium et singularium, que archidiaconis de iure vel consuetudine competunt vel possunt competere in nostro episcopio in futurum, cuilibet eorum stallum in choro et vocem in Capitulo, maiori stallum in sinistro choro post decanum, medio in dextero choro post canthorem, minori in sinistro choro post custodem. Maiori pro tytulo ecclesiam de Gczecz cum eiusdem ecclesie redditibus assingnantes, temporibus et locis congruentibus assingnaturi tytulos medio et minori. Et hec omnia salvo iure Sedis apostolice statuimus et eciam ordinamus. Verum, ne illa que nostris aguntur temporibus, mutabilitas pertransiens aut vetustas deterat, neve ex hoc calumpniis in posterum materia subministretur, litteram hanc puplicam (sic) conscribi et sigillo nostro nostrique Capituli fecimus communiri. Actum et datum in Capitulo Poznaniensi II Kalendas Februarii, anno gracie Domini MCC nonogesimo octavo, Indiccione undecima, presentibus dominis fratribus et canonicis nostris: Iohanne preposito, magistro Gregorio decano, Henrico scolastico, Thomca custode, Iacobo nostro canonico et cancellario, magistro Paulo, Friczkone, Iacobo, Henrico, Vlostone, Michaele, Salomone, Predvoyo, Nycolao, Borislao, Sdislao, Heyncza, Gercone, Fredrico, Petro, Stephano, et aliis multis Capituli nostri Poznaniensis canonicis fidedingnis.'"
   ]
  },
  {
   "cell_type": "code",
   "execution_count": 35,
   "id": "e97049d0",
   "metadata": {},
   "outputs": [],
   "source": [
    "x = remove_characters(lettre,characters_to_remove).lower().lstrip().rstrip().replace('j','i')"
   ]
  },
  {
   "cell_type": "code",
   "execution_count": 41,
   "id": "f064bcb5",
   "metadata": {},
   "outputs": [
    {
     "data": {
      "text/plain": [
       "'te redargutionis et culpae non uidimus nota carentem dum contra et  qui homicidium sub umbra nostri nominis commisisse dicuntur tam lente tam segniter audiuimus processisse sequitur etenim quod dum maleficiorum excessus huiusmodi iusto presidis rigore non stringitur uitiosa sibi iam penae remissio nutritiua sit criminum et facinorosis ex hoc crescat audacia cum liber quodam modo transitus uiolentiae prebeatur'"
      ]
     },
     "execution_count": 41,
     "metadata": {},
     "output_type": "execute_result"
    }
   ],
   "source": [
    "y"
   ]
  },
  {
   "cell_type": "code",
   "execution_count": null,
   "id": "6e66e2c7",
   "metadata": {},
   "outputs": [],
   "source": []
  },
  {
   "cell_type": "code",
   "execution_count": null,
   "id": "3b2dfc55",
   "metadata": {},
   "outputs": [],
   "source": []
  },
  {
   "cell_type": "code",
   "execution_count": 4,
   "id": "aa9dbe57",
   "metadata": {
    "scrolled": true
   },
   "outputs": [
    {
     "name": "stderr",
     "output_type": "stream",
     "text": [
      "fatal: HEAD n'est pas un nom d'objet valide\n",
      "100%|███████████████████████████████████████████| 65/65 [02:26<00:00,  2.25s/it]\n"
     ]
    }
   ],
   "source": [
    "x = viard_lemmes\n",
    "\n",
    "from typing import List\n",
    "from pie_extended.cli.utils import get_tagger, get_model, download\n",
    "\n",
    "# In case you need to download\n",
    "do_download = False\n",
    "if do_download:\n",
    "    for dl in download(\"lasla\"):\n",
    "        x = 1\n",
    "\n",
    "# model_path allows you to override the model loaded by another .tar\n",
    "model_name = \"lasla\"\n",
    "tagger = get_tagger(model_name, batch_size=256, device=\"cpu\", model_path=None)\n",
    "\n",
    "\n",
    "lemmas = []\n",
    "for i in tqdm(range(len(x))):\n",
    "    sentences: List[str] = [x[i]]\n",
    "    # Get the main object from the model (: data iterator + postprocesor\n",
    "    from pie_extended.models.lasla.imports import get_iterator_and_processor\n",
    "    for sentence_group in sentences:\n",
    "        iterator, processor = get_iterator_and_processor()\n",
    "        dic = tagger.tag_str(sentence_group, iterator=iterator, processor=processor)\n",
    "        lemmas.append(dic)"
   ]
  },
  {
   "cell_type": "code",
   "execution_count": 5,
   "id": "5d5f502a",
   "metadata": {},
   "outputs": [],
   "source": [
    "liste_pos = ['ADJqua','VER','ADV','NOMcom']\n",
    "maxime = []\n",
    "for i in range(len(lemmas)):\n",
    "    alexandra = []\n",
    "    for j in lemmas[i]:\n",
    "        alexandra.append(j.get('pos'))\n",
    "    maxime.append(alexandra)\n",
    "\n",
    "franck = []\n",
    "for i in range(len(lemmas)):\n",
    "    clemi = []\n",
    "    for j in lemmas[i]:\n",
    "        clemi.append(j.get('lemma'))\n",
    "    franck.append(clemi)"
   ]
  },
  {
   "cell_type": "code",
   "execution_count": 6,
   "id": "07fd092e",
   "metadata": {},
   "outputs": [],
   "source": [
    "lemmes_viard = copies(franck,list(dico_un.values()))\n",
    "zoe['lemmes_viard'] = lemmes_viard\n",
    "pos_viard = copies(maxime,list(dico_un.values()))\n",
    "zoe['pos_viard'] = pos_viard"
   ]
  },
  {
   "cell_type": "code",
   "execution_count": null,
   "id": "e3f2dfa2",
   "metadata": {},
   "outputs": [],
   "source": []
  },
  {
   "cell_type": "code",
   "execution_count": 7,
   "id": "9432a11a",
   "metadata": {},
   "outputs": [
    {
     "name": "stderr",
     "output_type": "stream",
     "text": [
      "100%|█████████████████████████████████████████| 363/363 [06:35<00:00,  1.09s/it]\n"
     ]
    }
   ],
   "source": [
    "x = df['compare'].tolist()\n",
    "\n",
    "from typing import List\n",
    "from pie_extended.cli.utils import get_tagger, get_model, download\n",
    "\n",
    "# In case you need to download\n",
    "do_download = False\n",
    "if do_download:\n",
    "    for dl in download(\"lasla\"):\n",
    "        x = 1\n",
    "\n",
    "# model_path allows you to override the model loaded by another .tar\n",
    "model_name = \"lasla\"\n",
    "tagger = get_tagger(model_name, batch_size=256, device=\"cpu\", model_path=None)\n",
    "\n",
    "\n",
    "lemmes_pdv = []\n",
    "for i in tqdm(range(len(x))):\n",
    "    sentences: List[str] = [x[i]]\n",
    "    # Get the main object from the model (: data iterator + postprocesor\n",
    "    from pie_extended.models.lasla.imports import get_iterator_and_processor\n",
    "    for sentence_group in sentences:\n",
    "        iterator, processor = get_iterator_and_processor()\n",
    "        dic = tagger.tag_str(sentence_group, iterator=iterator, processor=processor)\n",
    "        lemmes_pdv.append(dic)"
   ]
  },
  {
   "cell_type": "code",
   "execution_count": 8,
   "id": "8ab3c457",
   "metadata": {},
   "outputs": [],
   "source": [
    "liste_pos = ['ADJqua','VER','ADV','NOMcom']\n",
    "thibault = []\n",
    "for i in range(len(lemmes_pdv)):\n",
    "    aline = []\n",
    "    for j in lemmes_pdv[i]:\n",
    "        aline.append(j.get('pos'))\n",
    "    thibault.append(aline)\n",
    "romain = []\n",
    "for i in range(len(lemmes_pdv)):\n",
    "    dorothee = []\n",
    "    for j in lemmes_pdv[i]:\n",
    "        dorothee.append(j.get('lemma'))\n",
    "    romain.append(dorothee)"
   ]
  },
  {
   "cell_type": "code",
   "execution_count": 9,
   "id": "79690480",
   "metadata": {},
   "outputs": [],
   "source": [
    "lemmes_pdv = romain * len(viard)\n",
    "zoe['lemmes_pdv'] = lemmes_pdv\n",
    "pos_pdv = thibault * len(viard)\n",
    "zoe['pos_pdv'] = pos_pdv"
   ]
  },
  {
   "cell_type": "code",
   "execution_count": 10,
   "id": "4fdf19bd",
   "metadata": {},
   "outputs": [],
   "source": [
    "zoe['lemmes_viard'] = zoe['lemmes_viard'].apply(join)\n",
    "zoe['lemmes_pdv'] = zoe['lemmes_pdv'].apply(join)\n",
    "zoe['pos_pdv'] = zoe['pos_pdv'].apply(join)\n",
    "zoe['pos_viard'] = zoe['pos_viard'].apply(join)"
   ]
  },
  {
   "cell_type": "code",
   "execution_count": 11,
   "id": "59832091",
   "metadata": {},
   "outputs": [],
   "source": [
    "zoe.to_excel('zoe.xlsx')"
   ]
  },
  {
   "cell_type": "code",
   "execution_count": 23,
   "id": "e639a811",
   "metadata": {},
   "outputs": [],
   "source": [
    "df= pd.read_excel('zoe.xlsx')"
   ]
  },
  {
   "cell_type": "code",
   "execution_count": 34,
   "id": "bdde08f6",
   "metadata": {},
   "outputs": [],
   "source": [
    "from nltk.util import skipgrams\n",
    "from nltk.tokenize import word_tokenize"
   ]
  },
  {
   "cell_type": "code",
   "execution_count": null,
   "id": "34b7a0c9",
   "metadata": {},
   "outputs": [],
   "source": []
  },
  {
   "cell_type": "code",
   "execution_count": 35,
   "id": "3666ba07",
   "metadata": {},
   "outputs": [],
   "source": [
    "def skip_grams(string):\n",
    "    gram_length = 3\n",
    "    skip = 1\n",
    "    liste = string.split()\n",
    "    final = list(skipgrams(liste, gram_length, skip))\n",
    "    \n",
    "    return final"
   ]
  },
  {
   "cell_type": "code",
   "execution_count": null,
   "id": "6c5a8f6f",
   "metadata": {},
   "outputs": [
    {
     "name": "stderr",
     "output_type": "stream",
     "text": [
      " 13%|████▊                                | 3093/23595 [00:15<01:11, 285.95it/s]"
     ]
    }
   ],
   "source": [
    "df['skip_viard'] = df['viard'].progress_apply(skip_grams)\n",
    "df['skip_pdv'] = df['pdv'].progress_apply(skip_grams)"
   ]
  },
  {
   "cell_type": "code",
   "execution_count": 21,
   "id": "6c28c846",
   "metadata": {},
   "outputs": [
    {
     "data": {
      "text/plain": [
       "3637"
      ]
     },
     "execution_count": 21,
     "metadata": {},
     "output_type": "execute_result"
    }
   ],
   "source": []
  },
  {
   "cell_type": "code",
   "execution_count": null,
   "id": "adc8118d",
   "metadata": {},
   "outputs": [],
   "source": []
  },
  {
   "cell_type": "code",
   "execution_count": null,
   "id": "3dd94407",
   "metadata": {},
   "outputs": [],
   "source": []
  },
  {
   "cell_type": "code",
   "execution_count": null,
   "id": "703ae9d7",
   "metadata": {},
   "outputs": [],
   "source": []
  },
  {
   "cell_type": "code",
   "execution_count": null,
   "id": "b3bf2a2a",
   "metadata": {},
   "outputs": [],
   "source": []
  },
  {
   "cell_type": "code",
   "execution_count": null,
   "id": "5aae7037",
   "metadata": {},
   "outputs": [],
   "source": []
  },
  {
   "cell_type": "code",
   "execution_count": null,
   "id": "910262fc",
   "metadata": {},
   "outputs": [],
   "source": []
  },
  {
   "cell_type": "code",
   "execution_count": null,
   "id": "14df2963",
   "metadata": {},
   "outputs": [],
   "source": []
  },
  {
   "cell_type": "code",
   "execution_count": null,
   "id": "aac5098c",
   "metadata": {},
   "outputs": [],
   "source": []
  },
  {
   "cell_type": "code",
   "execution_count": null,
   "id": "654b4949",
   "metadata": {},
   "outputs": [],
   "source": [
    "un = copies(maxime,thibault)\n",
    "deux = thibault*len(maxime)\n",
    "cinq = copies(franck,thibault)\n",
    "six = romain*len(maxime)\n",
    "zoe['viard_cos'] = un\n",
    "zoe['viard_cos'] = zoe['viard_cos'].apply(join)\n",
    "\n",
    "zoe['pdv_cos'] = deux\n",
    "zoe['pdv_cos'] = zoe['pdv_cos'].apply(join)\n",
    "zoe['lemmes_viard'] = cinq\n",
    "zoe['lemmes_viard'] = zoe['lemmes_viard'].apply(join)\n",
    "\n",
    "zoe['lemmes_pdv'] = six\n",
    "zoe['lemmes_pdv'] =zoe['lemmes_pdv'].apply(join)\n",
    "zoe['cosine'] = zoe.progress_apply(lambda x:cosine_sim(x['viard_cos'],x['pdv_cos']),axis=1)"
   ]
  },
  {
   "cell_type": "code",
   "execution_count": null,
   "id": "ddeef9b6",
   "metadata": {},
   "outputs": [],
   "source": []
  },
  {
   "cell_type": "code",
   "execution_count": null,
   "id": "f269c35f",
   "metadata": {},
   "outputs": [],
   "source": []
  },
  {
   "cell_type": "code",
   "execution_count": null,
   "id": "92be4e49",
   "metadata": {},
   "outputs": [],
   "source": []
  },
  {
   "cell_type": "code",
   "execution_count": 185,
   "id": "b6b656b5",
   "metadata": {},
   "outputs": [],
   "source": [
    "#création du dictionnaire de pos\n",
    "\n",
    "dic1 = [item for sublist in lemmes_pdv for item in sublist]\n",
    "dic2 = [item for sublist in lemmas for item in sublist]\n",
    "\n",
    "dic1.extend(dic2)\n",
    "\n",
    "mots = []\n",
    "part_of_speech = []\n",
    "\n",
    "for dic in dic1:\n",
    "    mots.append(dic.get('form'))\n",
    "    part_of_speech.append(dic.get('pos'))\n",
    "\n",
    "dic3 = dict(zip(mots,part_of_speech))"
   ]
  },
  {
   "cell_type": "code",
   "execution_count": null,
   "id": "f3421bf6",
   "metadata": {},
   "outputs": [],
   "source": [
    "mathieu = loic[loic['same'] == False].reset_index(drop=True)\n",
    "mathieu['deux'] = mathieu['delete'].apply(unique_tri_dans_quadri)\n",
    "mathieu = mathieu[mathieu['deux'] != False].reset_index(drop=True)"
   ]
  },
  {
   "cell_type": "code",
   "execution_count": null,
   "id": "aaeaf312",
   "metadata": {},
   "outputs": [],
   "source": [
    "mathieu['delete'] = mathieu['delete'].apply(sans_doublons)\n",
    "mathieu['len'] = mathieu['delete'].apply(length)\n",
    "mathieu = mathieu[mathieu['len'] > 1].reset_index(drop=True)\n",
    "mathieu = mathieu[['indice_viard','viard','lemmes_viard','indice_pdv','pdv','lemmes_pdv','delete']]"
   ]
  },
  {
   "cell_type": "code",
   "execution_count": null,
   "id": "32e0b6f8",
   "metadata": {},
   "outputs": [],
   "source": [
    "mathieu['pos'] = mathieu['delete'].apply(pos_list)"
   ]
  },
  {
   "cell_type": "code",
   "execution_count": null,
   "id": "87ee7379",
   "metadata": {},
   "outputs": [],
   "source": [
    "mathieu['quadri_viard'] = mathieu['viard'].progress_apply(split).progress_apply(string_to_quadrigrams)\n",
    "mathieu['quadri_pdv'] = mathieu['pdv'].progress_apply(split).progress_apply(string_to_quadrigrams)"
   ]
  },
  {
   "cell_type": "code",
   "execution_count": 112,
   "id": "0079cd11",
   "metadata": {},
   "outputs": [
    {
     "ename": "NameError",
     "evalue": "name 'zoe' is not defined",
     "output_type": "error",
     "traceback": [
      "\u001b[0;31m---------------------------------------------------------------------------\u001b[0m",
      "\u001b[0;31mNameError\u001b[0m                                 Traceback (most recent call last)",
      "\u001b[0;32m/tmp/ipykernel_65596/2063759964.py\u001b[0m in \u001b[0;36m<module>\u001b[0;34m\u001b[0m\n\u001b[0;32m----> 1\u001b[0;31m \u001b[0mzoe\u001b[0m\u001b[0;34m\u001b[0m\u001b[0;34m\u001b[0m\u001b[0m\n\u001b[0m",
      "\u001b[0;31mNameError\u001b[0m: name 'zoe' is not defined"
     ]
    }
   ],
   "source": [
    "zoe"
   ]
  },
  {
   "cell_type": "code",
   "execution_count": null,
   "id": "bf9eb0ac",
   "metadata": {},
   "outputs": [],
   "source": [
    "x = mathieu['delete'][0]"
   ]
  },
  {
   "cell_type": "code",
   "execution_count": null,
   "id": "d799ab72",
   "metadata": {},
   "outputs": [],
   "source": [
    "pos_list(x)"
   ]
  },
  {
   "cell_type": "code",
   "execution_count": 1,
   "id": "53f1ffa4",
   "metadata": {},
   "outputs": [
    {
     "ename": "NameError",
     "evalue": "name 'zoe' is not defined",
     "output_type": "error",
     "traceback": [
      "\u001b[0;31m---------------------------------------------------------------------------\u001b[0m",
      "\u001b[0;31mNameError\u001b[0m                                 Traceback (most recent call last)",
      "\u001b[0;32m/tmp/ipykernel_48218/2063759964.py\u001b[0m in \u001b[0;36m<module>\u001b[0;34m\u001b[0m\n\u001b[0;32m----> 1\u001b[0;31m \u001b[0mzoe\u001b[0m\u001b[0;34m\u001b[0m\u001b[0;34m\u001b[0m\u001b[0m\n\u001b[0m",
      "\u001b[0;31mNameError\u001b[0m: name 'zoe' is not defined"
     ]
    }
   ],
   "source": []
  },
  {
   "cell_type": "code",
   "execution_count": null,
   "id": "ee99be21",
   "metadata": {},
   "outputs": [],
   "source": []
  },
  {
   "cell_type": "code",
   "execution_count": null,
   "id": "99316642",
   "metadata": {},
   "outputs": [],
   "source": []
  },
  {
   "cell_type": "code",
   "execution_count": null,
   "id": "f2d527c1",
   "metadata": {},
   "outputs": [],
   "source": []
  },
  {
   "cell_type": "code",
   "execution_count": null,
   "id": "4c321c49",
   "metadata": {},
   "outputs": [],
   "source": []
  },
  {
   "cell_type": "code",
   "execution_count": null,
   "id": "79cb3031",
   "metadata": {},
   "outputs": [],
   "source": []
  },
  {
   "cell_type": "code",
   "execution_count": null,
   "id": "dc5eed63",
   "metadata": {},
   "outputs": [],
   "source": []
  },
  {
   "cell_type": "code",
   "execution_count": null,
   "id": "34f25ff3",
   "metadata": {},
   "outputs": [],
   "source": []
  },
  {
   "cell_type": "code",
   "execution_count": null,
   "id": "d75eb3ff",
   "metadata": {},
   "outputs": [],
   "source": [
    "un = copies(maxime,thibault)\n",
    "deux = thibault*len(maxime)\n",
    "trois = copies(viard_keys,thibault)\n",
    "quatre = pdv_keys*len(maxime)\n",
    "cinq = copies(franck,thibault)\n",
    "six = romain*len(maxime)\n",
    "zoe['viard_cos'] = un\n",
    "zoe['viard_cos'] = zoe['viard_cos'].apply(join)\n",
    "\n",
    "zoe['pdv_cos'] = deux\n",
    "zoe['pdv_cos'] = zoe['pdv_cos'].apply(join)\n",
    "zoe['lemmes_viard'] = cinq\n",
    "zoe['lemmes_viard'] = zoe['lemmes_viard'].apply(join)\n",
    "\n",
    "zoe['lemmes_pdv'] = six\n",
    "zoe['lemmes_pdv'] =zoe['lemmes_pdv'].apply(join)\n",
    "zoe['cosine'] = zoe.progress_apply(lambda x:cosine_sim(x['viard_cos'],x['pdv_cos']),axis=1)\n",
    "zoe = zoe[['indice_viard','viard','indice_pdv','pdv','lemmes_viard','lemmes_pdv','cosine']]\n",
    "zoe = zoe[zoe['cosine'] > 0.05]"
   ]
  },
  {
   "cell_type": "code",
   "execution_count": null,
   "id": "0a39da4a",
   "metadata": {},
   "outputs": [],
   "source": []
  },
  {
   "cell_type": "code",
   "execution_count": null,
   "id": "32b24d52",
   "metadata": {},
   "outputs": [],
   "source": [
    "test['quadri_viard'] = test['viard'].progress_apply(split).apply(string_to_quadrigrams)"
   ]
  },
  {
   "cell_type": "code",
   "execution_count": null,
   "id": "245ac049",
   "metadata": {},
   "outputs": [],
   "source": [
    "zoe['trigram'] = zoe.progress_apply(lambda x: avoir_trigram_commun(x['viard'],x['pdv']),axis=1)"
   ]
  },
  {
   "cell_type": "code",
   "execution_count": null,
   "id": "9b02fa63",
   "metadata": {},
   "outputs": [],
   "source": [
    "test = zoe[zoe['trigram'] == True]"
   ]
  },
  {
   "cell_type": "code",
   "execution_count": null,
   "id": "6b55be3c",
   "metadata": {},
   "outputs": [],
   "source": [
    "anais = test[test['cosine'] > 0.05].reset_index(drop=True)"
   ]
  },
  {
   "cell_type": "code",
   "execution_count": null,
   "id": "03c8acb4",
   "metadata": {},
   "outputs": [],
   "source": []
  },
  {
   "cell_type": "code",
   "execution_count": null,
   "id": "9043b60d",
   "metadata": {
    "scrolled": false
   },
   "outputs": [],
   "source": [
    "han = []\n",
    "trigrams = []\n",
    "\n",
    "for i in tqdm(range(len(anais))):\n",
    "    inter = []\n",
    "    for tri in string_to_trigrams(anais['viard'][i].split()):\n",
    "        if tri in string_to_trigrams(anais['pdv'][i].split()):\n",
    "            inter.append(tri)\n",
    "    han.append(len(inter))\n",
    "    trigrams.append(inter)"
   ]
  },
  {
   "cell_type": "code",
   "execution_count": null,
   "id": "8e98b970",
   "metadata": {},
   "outputs": [],
   "source": [
    "anais['trigrams'] = trigrams\n",
    "anais['len'] = han"
   ]
  },
  {
   "cell_type": "code",
   "execution_count": null,
   "id": "88a10e64",
   "metadata": {},
   "outputs": [],
   "source": [
    "trigrams_delete = [['tam', 'presentibus', 'quam'],['notum', 'facimus', 'uniuersis'],\n",
    "                  ['presentibus', 'quam', 'futuris'],['uniuersis', 'tam', 'presentibus'],\n",
    "                  ['quam', 'futuris', 'quod'],['de', 'speciali', 'gratia'],\n",
    "                  ['et', 'ex', 'certa'],['ex', 'certa', 'scientia'],['speciali', 'gratia', 'et'],\n",
    "                  ['futuris', 'quod', 'nos'],['presentes', 'litteras', 'inspecturis'],\n",
    "                   ['uniuersis', 'presentes', 'litteras'],\n",
    "                  ['facimus','uniuersis','tam'],['de','regno','nostro'],\n",
    "                  ['in','regno','nostro'],['et','regni','nostri'],['regni','nostri','et'],\n",
    "                   ['presentibus', 'et', 'futuris'],['per','regnum','nostrum']]"
   ]
  },
  {
   "cell_type": "code",
   "execution_count": null,
   "id": "a3758e30",
   "metadata": {},
   "outputs": [],
   "source": [
    "anais['grams'] = anais['trigrams'].apply(remove_lists)\n",
    "anais['empty'] = anais['grams'].apply(empty_lists)\n",
    "lucie = anais[anais['empty'] == False].reset_index(drop=True)\n",
    "lucie = lucie[['indice_viard','viard','indice_pdv','pdv','lemmes_viard','lemmes_pdv','grams']]"
   ]
  },
  {
   "cell_type": "code",
   "execution_count": null,
   "id": "5d8e2be8",
   "metadata": {},
   "outputs": [],
   "source": [
    "lucie['len'] = lucie['grams'].apply(length)\n",
    "michelle = lucie[lucie['len']>1]"
   ]
  },
  {
   "cell_type": "code",
   "execution_count": null,
   "id": "a6defabe",
   "metadata": {},
   "outputs": [],
   "source": [
    "michelle['same'] = michelle['grams'].apply(same)"
   ]
  },
  {
   "cell_type": "code",
   "execution_count": null,
   "id": "0a3742cf",
   "metadata": {
    "scrolled": false
   },
   "outputs": [],
   "source": [
    "emile = michelle[michelle['same'] == False].reset_index(drop=True)"
   ]
  },
  {
   "cell_type": "code",
   "execution_count": null,
   "id": "d0a28c55",
   "metadata": {},
   "outputs": [],
   "source": [
    "#création du dictionnaire de pos\n",
    "\n",
    "dic1 = [item for sublist in lemmes_pdv for item in sublist]\n",
    "dic2 = [item for sublist in lemmas for item in sublist]\n",
    "\n",
    "dic1.extend(dic2)\n",
    "\n",
    "mots = []\n",
    "part_of_speech = []\n",
    "\n",
    "for dic in dic1:\n",
    "    mots.append(dic.get('form'))\n",
    "    part_of_speech.append(dic.get('pos'))\n",
    "\n",
    "dic3 = dict(zip(mots,part_of_speech))"
   ]
  },
  {
   "cell_type": "code",
   "execution_count": null,
   "id": "7db34cdc",
   "metadata": {},
   "outputs": [],
   "source": [
    "emile = emile[['indice_viard','viard','indice_pdv','pdv','lemmes_viard','lemmes_pdv','grams']]"
   ]
  },
  {
   "cell_type": "code",
   "execution_count": null,
   "id": "7cad1694",
   "metadata": {},
   "outputs": [],
   "source": [
    "\n"
   ]
  },
  {
   "cell_type": "code",
   "execution_count": null,
   "id": "10d22b79",
   "metadata": {},
   "outputs": [],
   "source": [
    "emile['pos'] = emile['grams'].apply(pos_list)"
   ]
  },
  {
   "cell_type": "code",
   "execution_count": null,
   "id": "1e19903a",
   "metadata": {},
   "outputs": [],
   "source": [
    "emile['empty'] = emile['pos'].apply(empty_lists)"
   ]
  },
  {
   "cell_type": "code",
   "execution_count": null,
   "id": "295e9850",
   "metadata": {},
   "outputs": [],
   "source": [
    "vincent = emile[emile['empty'] == False].reset_index(drop=True)"
   ]
  },
  {
   "cell_type": "code",
   "execution_count": null,
   "id": "e81b08b0",
   "metadata": {},
   "outputs": [],
   "source": [
    "vincent = vincent[['indice_viard','viard','indice_pdv','pdv','lemmes_viard','lemmes_pdv','grams','pos']]"
   ]
  },
  {
   "cell_type": "code",
   "execution_count": null,
   "id": "219f3f8d",
   "metadata": {},
   "outputs": [],
   "source": [
    "chahan = vincent.progress_apply(lambda x: bold_texts(x['viard'],x['pdv']),axis=1)"
   ]
  },
  {
   "cell_type": "code",
   "execution_count": null,
   "id": "243319b4",
   "metadata": {},
   "outputs": [],
   "source": [
    "vincent['resultat'] = chahan"
   ]
  },
  {
   "cell_type": "code",
   "execution_count": null,
   "id": "992d0937",
   "metadata": {},
   "outputs": [],
   "source": []
  },
  {
   "cell_type": "code",
   "execution_count": 85,
   "id": "1633ac12",
   "metadata": {},
   "outputs": [
    {
     "name": "stdout",
     "output_type": "stream",
     "text": [
      "----------\n"
     ]
    },
    {
     "data": {
      "text/markdown": [
       "sane cum de culminis nostri fulgore **uelut** **ex** **sole** **radii** **sic** omnium largiente conditore ******prodeant****** ******dignitates****** **ut** ****prime**** **lucis** **integritas** **minorati** **luminis** **non** ********sensiat******** **detrimenta** nam tanto **magis** regale ****sceptrum**** ****extollitur**** tantoque ********curia******** ****regiminis**** ****sollicitudinibus**** **releuatur** **quanto** **tribunal** **ipsius** **digniores** **circumspicit** **contribules** **hac** **igitur** **consideratione** ducti quia regni francie **moderamur** **habenas** **solii** **nostri** **decus** **tam** **ueterum** **dignitatum** **ornatibus** confoueri **quam** etiam nouis ardemus honoribus ampliari et licet ad quorumlibet nostrorum fidelium munifice prosequenda seruicia liberalitas nostra quadam generalitate sit procliuis illis tamen est quadam specialitate debitrix et eorum uota prosequi liberaliter affectamus in quibus sanguinis connexitatem et uinculum agnoscimus et puram fidei constanciam inuenimus ut ipsi feruore deuocionis accensi reddantur de bono in melius circa maiestatem regiam et eius obsequia promptiores et ne percepta dudum obsequia que conscribi perhenniter in libro memorie meruerunt preminentia gradus aboleat uel incompensata relinquat"
      ],
      "text/plain": [
       "<IPython.core.display.Markdown object>"
      ]
     },
     "metadata": {},
     "output_type": "display_data"
    },
    {
     "name": "stdout",
     "output_type": "stream",
     "text": [
      "----------\n"
     ]
    },
    {
     "data": {
      "text/markdown": [
       "de fulgore throni cesarei **uelut** **ex** **sole** **radii** **sic** certe ****prodeunt**** ****dignitates**** **ut** ****prime**** **lucis** **integritas** **non** ********sentiat******** **minorati** **luminis** **detrimenta** tantoque **magis** imperiale ****sceptrum**** ****extollitur**** tanto ********cura******** ****regiminis**** pluria ****sollicitudinibus**** **releuatur** **quanto** **tribunal** **ipsius** **digniores** in circuitu **circumspicit** **contribules** regiones **hac** **igitur** **consideratione** commoti qui celesti prouidentia romani imperii **moderamur** **habenas** **solii** **nostri** **decus** **tam** **ueterum** **dignitatum** **ornatibus** confouemus **quam** nouis honoribus ampliamur"
      ],
      "text/plain": [
       "<IPython.core.display.Markdown object>"
      ]
     },
     "metadata": {},
     "output_type": "display_data"
    },
    {
     "name": "stdout",
     "output_type": "stream",
     "text": [
      "----------\n"
     ]
    }
   ],
   "source": [
    "final_texte = ' '.join(x)\n",
    "pierre_final = ' '.join(y)\n",
    "\n",
    "print('----------')\n",
    "display(Markdown(final_texte))\n",
    "print('----------')\n",
    "display(Markdown(pierre_final))    \n",
    "print('----------')"
   ]
  },
  {
   "cell_type": "code",
   "execution_count": null,
   "id": "e8a4bfeb",
   "metadata": {},
   "outputs": [],
   "source": []
  },
  {
   "cell_type": "code",
   "execution_count": null,
   "id": "9eed597a",
   "metadata": {},
   "outputs": [],
   "source": []
  }
 ],
 "metadata": {
  "kernelspec": {
   "display_name": "Python 3 (ipykernel)",
   "language": "python",
   "name": "python3"
  },
  "language_info": {
   "codemirror_mode": {
    "name": "ipython",
    "version": 3
   },
   "file_extension": ".py",
   "mimetype": "text/x-python",
   "name": "python",
   "nbconvert_exporter": "python",
   "pygments_lexer": "ipython3",
   "version": "3.9.7"
  }
 },
 "nbformat": 4,
 "nbformat_minor": 5
}

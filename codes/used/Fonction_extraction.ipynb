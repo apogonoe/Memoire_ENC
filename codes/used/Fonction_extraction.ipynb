{
 "cells": [
  {
   "cell_type": "code",
   "execution_count": 1,
   "id": "052db8a5",
   "metadata": {},
   "outputs": [],
   "source": [
    "import os\n",
    "import re"
   ]
  },
  {
   "cell_type": "code",
   "execution_count": 215,
   "id": "5d2c470d",
   "metadata": {},
   "outputs": [],
   "source": [
    "path = '/home/noe/Documents/2022-2023/ENC/Mémoire/Livres_OCR_par_chartes/Livre_4/test/'"
   ]
  },
  {
   "cell_type": "code",
   "execution_count": 216,
   "id": "dd550f2f",
   "metadata": {},
   "outputs": [],
   "source": [
    "os.chdir(path)"
   ]
  },
  {
   "cell_type": "code",
   "execution_count": 10,
   "id": "60ef92a4",
   "metadata": {
    "scrolled": true
   },
   "outputs": [],
   "source": [
    "with open(\"OCR_completed.txt\", \"r\") as input_file:\n",
    "    content = input_file.read()\n",
    "\n",
    "\n",
    "result = re.search(\"1.1\\n(.*?)1.2\\n\", content, re.DOTALL)\n",
    "\n",
    "if result:\n",
    "    with open(\"output.txt\", \"w\") as output_file:\n",
    "        output_file.write(\"1.1\" + result.group(1))"
   ]
  },
  {
   "cell_type": "code",
   "execution_count": 16,
   "id": "3980c584",
   "metadata": {},
   "outputs": [],
   "source": [
    "def create_file(num1,num2):\n",
    "    with open(\"OCR_completed.txt\", \"r\") as input_file:\n",
    "        content = input_file.read()\n",
    "\n",
    "    result = re.search(f\"{num1}\\n(.*?){num2}\\n\", content, re.DOTALL)\n",
    "\n",
    "    if result:\n",
    "        output_filename = f\"{num1}.txt\"\n",
    "        with open(output_filename, \"w\") as output_file:\n",
    "            output_file.write(f\"{num1}{result.group(1)}\")\n",
    "    else:\n",
    "        print(f\"No match found for {num1} and {num2}.\")"
   ]
  },
  {
   "cell_type": "code",
   "execution_count": 18,
   "id": "86f76c28",
   "metadata": {},
   "outputs": [],
   "source": [
    "create_file(\"1.2\", \"1.3\")"
   ]
  },
  {
   "cell_type": "code",
   "execution_count": 19,
   "id": "fbe6475e",
   "metadata": {},
   "outputs": [],
   "source": [
    "def extract_text(num1):\n",
    "    with open(\"OCR_completed.txt\", \"r\") as input_file:\n",
    "        content = input_file.read()\n",
    "        \n",
    "        num1_parts = num1.split(\".\")\n",
    "        num2 = f\"{num1_parts[0]}.{int(num1_parts[1]) + 1}\"\n",
    "        \n",
    "        result = re.search(f\"{num1}\\n(.*?){num2}\\n\", content, re.DOTALL)\n",
    "\n",
    "        if result:\n",
    "            output_filename = f\"{num1}.txt\"\n",
    "            with open(output_filename, \"w\") as output_file:\n",
    "                output_file.write(f\"{num1}\\n{result.group(1)}\")\n",
    "        else:\n",
    "            print(f\"No match found for {num1} and {num2}.\")"
   ]
  },
  {
   "cell_type": "code",
   "execution_count": 113,
   "id": "715a0520",
   "metadata": {},
   "outputs": [
    {
     "name": "stdout",
     "output_type": "stream",
     "text": [
      "No match found for 2.59 and 2.60.\n"
     ]
    }
   ],
   "source": [
    "extract_text(\"2.59\")"
   ]
  },
  {
   "cell_type": "code",
   "execution_count": 123,
   "id": "9f12193b",
   "metadata": {},
   "outputs": [],
   "source": [
    "def rename_files(path):\n",
    "    filenames = os.listdir(path)\n",
    "\n",
    "    if len(filenames) >= 1:\n",
    "        for i, filename in enumerate(filenames):\n",
    "            old_file_path = os.path.join(path, filename)\n",
    "            new_filename = f\"3.{i + 1}.txt\"\n",
    "            new_file_path = os.path.join(path, new_filename)\n",
    "            os.rename(old_file_path, new_file_path)\n",
    "    else:\n",
    "        print(\"No files found in the folder.\")"
   ]
  },
  {
   "cell_type": "code",
   "execution_count": 125,
   "id": "9ab3ebb2",
   "metadata": {},
   "outputs": [],
   "source": [
    "rename_files(path)"
   ]
  },
  {
   "cell_type": "code",
   "execution_count": 231,
   "id": "42e27fbf",
   "metadata": {},
   "outputs": [],
   "source": [
    "old_path = os.path.join(path,\"4.16\\n.txt\")\n",
    "new_path = os.path.join(path,\"4.15.txt\")\n",
    "os.rename(old_path,new_path)"
   ]
  },
  {
   "cell_type": "code",
   "execution_count": 245,
   "id": "ff127a93",
   "metadata": {},
   "outputs": [],
   "source": [
    "def Rubrica(liste):\n",
    "    vide = []\n",
    "    for i in liste:\n",
    "        if i.startswith(' Rubrica'):\n",
    "            vide.append(liste.index(i))\n",
    "            num_ind = vide[0]\n",
    "            liste = liste[:num_ind]\n",
    "    return liste "
   ]
  },
  {
   "cell_type": "code",
   "execution_count": 246,
   "id": "e0f47392",
   "metadata": {},
   "outputs": [],
   "source": [
    "def Number(liste):\n",
    "    haha = []\n",
    "    for i in liste:\n",
    "        if re.findall('[0-9]{1,2}\\.',i) :\n",
    "            haha.append(re.findall('[0-9]{1,2}\\.',i))\n",
    "    flat_list = [item for sublist in haha for item in sublist]\n",
    "    for i in range(len(flat_list)):\n",
    "        flat_list[i] = int(flat_list[i][:-1])\n",
    "    #flat_list\n",
    "    texte = []\n",
    "    x = 0\n",
    "    while flat_list[x] < flat_list[x+1]:\n",
    "        texte.append(flat_list[x])\n",
    "        x+=1\n",
    "    final = str(texte[-1] +1)+'. '\n",
    "    #final\n",
    "    value_1 = find_index(test,final)\n",
    "    #value_1\n",
    "    final_index_value = find_empty_element(test,value_1)\n",
    "    #final_index_value\n",
    "    result = test[:final_index_value]\n",
    "    return result"
   ]
  },
  {
   "cell_type": "code",
   "execution_count": 248,
   "id": "db646fb6",
   "metadata": {},
   "outputs": [],
   "source": [
    "def find_index(lst, substring):\n",
    "    for i, s in enumerate(lst):\n",
    "        if substring in s:\n",
    "            return i\n",
    "def find_empty_element(lst, start_index):\n",
    "    for i in range(start_index, len(lst)):\n",
    "        if lst[i] == ' ':\n",
    "            return i\n",
    "    return -1\n"
   ]
  },
  {
   "cell_type": "code",
   "execution_count": 270,
   "id": "ba076ea5",
   "metadata": {},
   "outputs": [],
   "source": [
    "path = '/home/noe/Documents/2022-2023/ENC/Mémoire/Livres_OCR_par_chartes/Livre_3/test/'"
   ]
  },
  {
   "cell_type": "code",
   "execution_count": 271,
   "id": "b8cb833b",
   "metadata": {},
   "outputs": [],
   "source": [
    "os.chdir(path)"
   ]
  },
  {
   "cell_type": "code",
   "execution_count": 272,
   "id": "5396dfcb",
   "metadata": {},
   "outputs": [],
   "source": [
    "with open('1.11.txt','r') as file:\n",
    "    data = file.readlines()\n",
    "indices = []\n",
    "fin = []\n",
    "for i in data:\n",
    "    if re.match(r'^1.\\ [A-Z]', i):\n",
    "        indices.append(data.index(i))\n",
    "i = indices[0]\n",
    "while i < indices[1]:\n",
    "    fin.append(data[i])\n",
    "    i += 1\n",
    "string = \" \".join(fin)\n",
    "test = string.split('\\n')"
   ]
  },
  {
   "cell_type": "code",
   "execution_count": 288,
   "id": "9dbf64cb",
   "metadata": {},
   "outputs": [],
   "source": [
    "def clean(input_list):\n",
    "    liste = []\n",
    "    pattern = re.compile(r' [1-9]{2,3}')\n",
    "    result = [element for element in input_list if not pattern.match(element)]\n",
    "    for i in result:\n",
    "        if i != ' ':\n",
    "            liste.append(i)\n",
    "    return liste"
   ]
  },
  {
   "cell_type": "code",
   "execution_count": 291,
   "id": "8ce69834",
   "metadata": {},
   "outputs": [
    {
     "data": {
      "text/plain": [
       "['1. Victorioso exercitu nostro Romanis finibus insidente, ad quos auiditate',\n",
       " ' componendae pacis et uoto generalis discidii remouendi specialiter celsi-',\n",
       " ' tudo nostra peruenit, publicus ad castra nostra rumor exiuit, quod ... die',\n",
       " ' presentis mensis Augusti, G., Romanus pontifex, humanis est rebus exemp-',\n",
       " ' tus, ut qui pacem et tractatum pacis recipere denegabat, ad uniuersalem',\n",
       " ' dissensionem aspirans, ne ultoris Augusti metas excederet, qui Augustum',\n",
       " ' offendere nitebatur.',\n",
       " ' 2. Reuera mortuus est, per quem pax deerat terris et uigebat discidium,',\n",
       " ' et quam plures in mortis periculum incidebant, de cuius morte multa com-',\n",
       " ' passione ducimur, et licet contra eum digno odio moueremur, uelut ab eo',\n",
       " ' manifestis iniuriis et euidentis inimicitiae persecutionibus lacessiti, gratum',\n",
       " ' tamen compassio nostra duxisset, si diebus suis fuisset ab actore salutis',\n",
       " ' indultum, quod reuerendam matrem nostram, sacrosanctam Romanam',\n",
       " ' Ecclesiam et Romanam sedem Imperii, cui Domino presidemus actore, in',\n",
       " ' optata pace sopitis dissensionibus statuisset, et ortum de suo motu scandalum',\n",
       " ' generale, quod ualde fuit modernis temporibus Christi fidelibus onerosum,',\n",
       " ' suo tempore quieuisset. 3. Sed, cum aliter prouisum fuerit in excelsis apud',\n",
       " ' omnium conditorem, qui nouit in abscondito consilia malignantium, rebus',\n",
       " ' dissidentibus prouidit ad clamorem Christiani populi consulendum et di-',\n",
       " ' sponet in Apostolica Sede uirum secundum cor suum, qui sui predecessoris',\n",
       " ' erronea corrigat et malefacta reformet, totius mundi paci prouideat et nos',\n",
       " ' in maternam dilectionem Ecclesiae uiuificet et reformet. 4. Ad quod uotis',\n",
       " ' ardentibus et dolentibus animis totisque conatibus insudamus, ut, pacis ami-',\n",
       " ' co et iustitiae zelatore in Dei Ecclesia substituto, ad honorificentiam noui',\n",
       " ' patris deuotus filius assurgamus, dummodo predecessoris crimen et odium',\n",
       " ' non sequatur, omnimodam beneuolentiam, deuotionem et patrocinium',\n",
       " ' impensuri ad tuitionem Catholicae fidei et ecclesiasticae libertatis.',\n",
       " ' 5. Cum ad hoc, disponente Domino, Imperii sceptrum sumpserimus, et',\n",
       " ' Romanum Imperium nostrum sit ad preparationem Euangelii preparatum,',\n",
       " ' ut Catholicam fidem et matrem Ecclesiam a cunctis hostium incursibus',\n",
       " ' nostrarum uirium conatibus eruamus, presertim cum ex Occidentalibus',\n",
       " ' partibus Tartarorum hostis adueniat, qui, destructis per quodcumque tran-',\n",
       " ' situm habuerit regnis, et diuersarum multitudine gentium conculcata et',\n",
       " ' copia populorum, funditus abolere satagit tam nomen quam cultores fidei',\n",
       " ' Christianae, cui de prouidentia noui patris Romani substituendi pontificis,',\n",
       " ' assistente nobis potentia regum et principum orbis terrae, magnifice disponi-',\n",
       " ' mus obuiare, assumentes fiducialiter causam Dei, qui nostros aufert de medio',\n",
       " ' inimicos, ut expositas ad eius seruitium impedire nequeant uias nostras.',\n",
       " ' 6. Vos igitur diuinae prouisioni ac nostris affectibus deuoti et hylares',\n",
       " ' assurgentes tam uestrorum proposita cordium preparetis ad pacem, quam',\n",
       " ' armis necessariis corpora muniatis ad conterendam una nobiscum adue-',\n",
       " ' nientium hostium superbiam Tartarorum.']"
      ]
     },
     "execution_count": 291,
     "metadata": {},
     "output_type": "execute_result"
    }
   ],
   "source": [
    "Rubrica(clean(test))"
   ]
  }
 ],
 "metadata": {
  "kernelspec": {
   "display_name": "Python 3 (ipykernel)",
   "language": "python",
   "name": "python3"
  },
  "language_info": {
   "codemirror_mode": {
    "name": "ipython",
    "version": 3
   },
   "file_extension": ".py",
   "mimetype": "text/x-python",
   "name": "python",
   "nbconvert_exporter": "python",
   "pygments_lexer": "ipython3",
   "version": "3.9.7"
  }
 },
 "nbformat": 4,
 "nbformat_minor": 5
}

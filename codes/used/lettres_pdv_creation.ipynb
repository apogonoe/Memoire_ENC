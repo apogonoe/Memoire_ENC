{
 "cells": [
  {
   "cell_type": "code",
   "execution_count": 117,
   "id": "9f2b1b59",
   "metadata": {},
   "outputs": [],
   "source": [
    "from tqdm import tqdm\n",
    "import os\n",
    "import re\n",
    "import pandas as pd\n",
    "import numpy as np"
   ]
  },
  {
   "cell_type": "code",
   "execution_count": 118,
   "id": "4e3d9ae7",
   "metadata": {},
   "outputs": [],
   "source": [
    "os.chdir('/home/noe/Documents/2022-2023/ENC/Mémoire/correspondance/')"
   ]
  },
  {
   "cell_type": "code",
   "execution_count": 119,
   "id": "be3ac7b6",
   "metadata": {},
   "outputs": [],
   "source": [
    "path = '/home/noe/Documents/2022-2023/ENC/Mémoire/correspondance/'"
   ]
  },
  {
   "cell_type": "code",
   "execution_count": 120,
   "id": "039e010d",
   "metadata": {},
   "outputs": [],
   "source": [
    "def eliminer_caracteres_speciaux_liste(liste_str):\n",
    "    # Liste des caractères spéciaux à éliminer\n",
    "    caracteres_speciaux = ['.','—','!', '\"', '#', '$', '%', '&', \"'\", '(', ')', '*', '+', ',', '/', ':', ';', '<', '=', '>', '?', '@', '[', '\\\\', ']', '^', '_', '`', '{', '|', '}', '~', '€', '£', '¢', '¥']\n",
    "\n",
    "    # Expression régulière pour rechercher les caractères spéciaux dans chaque chaîne de la liste\n",
    "    regex = re.compile('[%s]' % re.escape(''.join(caracteres_speciaux)))\n",
    "\n",
    "    # Supprimer les caractères spéciaux de chaque élément de la liste\n",
    "    liste_sans_speciaux = [regex.sub('', texte) for texte in liste_str]\n",
    "\n",
    "    return liste_sans_speciaux"
   ]
  },
  {
   "cell_type": "code",
   "execution_count": 121,
   "id": "d8034773",
   "metadata": {},
   "outputs": [],
   "source": [
    "def force_one_blank_space(text):\n",
    "    # Use regular expression to replace multiple spaces with a single space\n",
    "    cleaned_text = re.sub(r'\\s+', ' ', text)\n",
    "\n",
    "    return cleaned_text\n",
    "def force_one_blank_space_in_list(lst):\n",
    "    # Apply the force_one_blank_space function to each element in the list\n",
    "    return [force_one_blank_space(text) for text in lst]"
   ]
  },
  {
   "cell_type": "code",
   "execution_count": 122,
   "id": "29bb66b6",
   "metadata": {},
   "outputs": [],
   "source": [
    "def diviser_liste_mots(liste_mots, taille_sous_liste):\n",
    "    sous_listes = []\n",
    "    sous_liste_actuelle = []\n",
    "\n",
    "    for mot in liste_mots:\n",
    "        sous_liste_actuelle.append(mot)\n",
    "\n",
    "        if len(sous_liste_actuelle) == taille_sous_liste:\n",
    "            sous_listes.append(sous_liste_actuelle)\n",
    "            sous_liste_actuelle = []\n",
    "\n",
    "    # Ajouter la dernière sous-liste si elle n'est pas complète\n",
    "    if sous_liste_actuelle:\n",
    "        sous_listes.append(sous_liste_actuelle)\n",
    "\n",
    "    return sous_listes"
   ]
  },
  {
   "cell_type": "code",
   "execution_count": 123,
   "id": "ad74ca45",
   "metadata": {},
   "outputs": [],
   "source": [
    "stopwords_list = [\n",
    "    'ab', 'ac', 'ad', 'adhic', 'aliqui', 'aliquis', 'an', 'ante', 'apud', 'at', 'atque', 'aut', 'autem', 'cum', 'cur',\n",
    "    'de', 'deinde', 'dum', 'ego', 'enim', 'ergo', 'es', 'est', 'et', 'etiam', 'etsi', 'ex', 'fio', 'haud', 'hic', 'iam',\n",
    "    'idem', 'igitur', 'ille', 'in', 'infra', 'inter', 'interim', 'ipse', 'is', 'ita', 'magis', 'modo', 'mox', 'nam', 'ne',\n",
    "    'nec', 'necque', 'neque', 'nisi', 'non', 'nos', 'o', 'ob', 'per', 'possum', 'post', 'pro', 'quae', 'quam', 'quare',\n",
    "    'qui', 'quia', 'quicumque', 'quidem', 'quilibet', 'quis', 'quisnam', 'quisquam', 'quisque', 'quisquis', 'quo',\n",
    "    'quoniam', 'sed', 'si', 'sic', 'sive', 'sub', 'sui', 'sum', 'super', 'suus', 'tam', 'tamen', 'trans', 'tu', 'tum',\n",
    "    'ubi', 'uel', 'uero'\n",
    "]\n"
   ]
  },
  {
   "cell_type": "code",
   "execution_count": 125,
   "id": "969f6737",
   "metadata": {},
   "outputs": [
    {
     "data": {
      "text/plain": [
       "['suae piissimae genitrici m petrus notarius deuotissi mus filius filiorum subiectionis constantiam cum salute recurrens ad conscientiam recognosco quod non meis meritis diuina clementia me pauperem sublimauit et de molli luto coelestis figulus me formauit cum imperialis curiae locum idoneum mihi contulit et gratiam principis in conspectu respexit enim deus hanc humilitatem matris meae ancillae suae et sororis meae pauperculae uitam ducentis hactenus aerumnosam quarum per me suum famulum depellere uoluit egestatem accensa sunt igitur cara mater uestra salubria monita coram oculis meae mentis et sic me geram humiliter donec uiuam ut in cunctis bonis operibus deo ualeam et cunctis bonis homi nibus complacere',\n",
       " 'iuris ciuilis professoribus uniuersis magister petrus salutem et attendere ultimum ante primum amaritudo amarissima et materia concreta doloribus humanis no uiter mentibus occurrerunt nam unicus et singularis in terris homo in quo uelut in suo proprio leges conuene rant et uiuebat eloquentiae tuba et consilii plenitudo sedebat est reuocatus ad patriam de cuius reuocationis amaritudine uox populi a fine usque in finem et terminos orbis terrae dolorosa multum exiuit nec mirum quia iam optimus persuasor bonorum operum omnium ex cellentissimus iacobus de regio iesu christo uitalem spiritum resignauit attrita est nimium derepente gloria uultus eius de cuius occasu non solum lombardia sole priuata suo uerum etiam maxima pars uiuentium conti nuis lachrymis ingemiscit et doloris gladius multorum animos perforauit nec immerito cum ipse dominus legifer et supremus descriptis iuris apicibus sensus re formaret informes et adhuc uiuentes uiuentia eius opera non desinunt informare qui licet ut homo desierit non tamen desiit ut magister quia mortuus ipse docet quantumcunque sit appellatio mortis difficilis uiolenta et necessaria difficilis quia non est ibi solutio uiolenta quia resistentia nulla necessaria quia ex modo neces sitatis omnem superat syllogismum exceptiones non recipit dilationes aliquas non admittit uerum quia mi rabilis est ista regula mortalium quae nunquam fal litur sed omnes fallit fatidica uidelicet ueridica quae in credentia non habetur ipsa quidem est laetitiae nebula tristitiae genitrix diffusio lachrymarum uniuersae car nis exterminium et singularium destructiua ideoque uiri prudentes in doctore mortuo prudenter addiscite quicquid possit et quantum fortior exterminantis an geli et diligenter attendite quod legum facundia uel aliquarum scientiarum doctrina mortis imperio non resistit',\n",
       " 'excellentissimo domino suo domino h illustri regi angliae p de uinea apulus uester a uobis in fidelem regis per regiae munificentiae gratiam adoptatus adoptari in municipem angliae supplicat per eandem ut non so lum deuotus fidelis regis et domini sed et regni filius habeatur et ciuis super quo cum dominus meus uerus et efficax amicus uester ideo affectuosissimas preces excellentiae uestrae dirigat sicut puto satis potest in dustria uestra colligere quod reiectis adulationibus fri uolis aliquorum fides mea perfectissime claruit apud eum',\n",
       " 'domino magistro iustitiario p de uinea sperata plu uia quam in aduentu magistri h1 magna et multa toni trua promittebant in rorem tenuem est conuersa et licet aliquando nauem nostram usque ad uisionem portus spei uela secunda deducerent dum tamen credebamus terram promissionis attingere contrariorum uentorum impulsus mox in altitudinem pelagi ualde celerius redu cebant et idcirco expedit ut in apparatu succursus mo rantium apud tyrum uestra et aliorum sociorum ues trorum industria non lentescat de negotio lombardiae illud in euentu tandem inuenimus quod diuinatio mea et magistri petri de sancto germano longe priusquam ue niret magister h ad curiam praesagiuit magister pedem habet in motu quem discipulus in uxoris querelam et taedium prosequetur',\n",
       " 'fateor pater quod iuste redarguor sed iniuste con demnor eatenus uerumtamen iusticiae nota porrigitur quatenus efficacia iustae petitionis extenditur quam subse quentis obiectio defensionis elidit sed et tolerandus est filius si peccauit et paternae decet condemnationis mole non obrui quam licet appellationis lima prompte non lateret supportationis tamen remedio reuerenter euitat etenim quod in taciturnitate filialis obsequii experge facta memoria paternae dilectionis obstupuit quam in obliuionem unius pauperis filii sed deuoti oblectamenta nobilium et sublimium amicorum delinimenta seduxe rant stupentem patrem natura cogente non arguo si somnolentus à filio uoluit per frequentis uocis instantiam excitari crudelis tamen et impia conditio sequeretur si seueri patris iudicium filius sentiat quem iusta timoris allegatio protegit et ignorantiapaternae uoluntatis excusat quieti tamen natura non homine terminum imponente euigilatus est pater filium pauidum et tacitum inuenit ac lacte paternae dulcedinis prae somni longitudine sitientem confortat pauidum famelicum educat sed tacentem accu satetpaterna pietas reuerentiamarguit filialem confortatus filius loquitur timoris exceptione se protegit redargutus sed tamen a patre non respuit nutrimentum sufficitne uobis istud o pater quod causam uestram ego ipse qui notor pietate iustifico quod me timoris ac reuerentiae solum exceptione defendo quod condemnationis paternae sententiam filiali supportatione deuito dicet forte pater non sufficit sed mentem exiget a filio meliorem ut forte culpam fore confiteatur ubi culpa non subest quid faciam cedam patri culpam confitebor et dicam « peccaui pater in coelum et coram te » sed ut scelus omne proscribam negligenter me habui luxuriose tamen non uixi sacra paternae reuerentiae nullo meretricio pollui quanquam obsequium filiale praestare deuotius prout pater existimat debuissem uestra pater est uinea et si dignemini non uelle contrarium uestra dicetur ad uineae uestrae palmites seu radices nulla corruptionis mixtura peruenit nullum saporem alterauit insitio nulla colorem alteritas uariauit talem uindemiam habetis ex uinea qualem plantationis materiam contulistis causamini pater quod uinea uestra botros in debita quantitate non afferat quod arefacta sit uinea respondeo et uos cur manum subducitis cultui et fontis irrigui copiam denegatis causamini priuignum in filio demeritum in alumno respondeo et uos cur lactis dulcedinem alumno subtrahitis et cur in filium ita cru deliter nouercatis excusationibus uestris et incusationi bus meis manum uestram somnolentam et debilem a scriptura abducitis propter morbum utinam chare pater nec mihi fuisset hactenus somnolenta nec aliis expedita sed ut uidi frequenter et prouidi dormitauit haec filio sed aliis euigilauit super his omnibus pace data petiistis quod nullo praetextu excusationis proposito prosperum statum meum si tamen castra sequentem sequeretur pro speritas et principalia principis nunciarem durum et impossibile petitur quod me uestra redargutio sic pro stratum sic iacentem inuenerit sic relinquat ut ad incre panda patris eloquia non resurgam pacem propterea nobis dare possumus inuicem sed nullatenus ego mihi et cordi meo quin doleat et oculis quod non fleant dum subrep tum mihi patris animum uideo et caussam ignoro uinea mea quid fecit uobis uel uestra potius quod irrigationem eius ad aliam quae demum uobis lambruscas afferet transtulistis denique quantumcunque dolentis ingenio dolor et doloris materia subtrahat uoluntatem imperio tamen patris obediam et epistolae quae postquam totam germaniam circuiuit tandem ad me nouissimo mense augusto fatigata peruenit respondeo quod corpore ualeo labore tamen continuo laboro dum inter charybdim et scyllam inter cardinalium scilicet et lombardorum as tutias nauicula filii tumidis fluctibus fatigatur cesarea gesta magnifica uos epistola principis frequenter edocuit cuius chartam scribentis filii manus nudam et uacuam aliquando tetigit et ingenium uirginem deflorauit post exhibitionem operum ad irritum spem deducit ego quidem quia super omnia concupiui grata uobis seruicia exhibere quibus possem uestram fauorabilem gratiam obtinere uobis feliciter apud fauentiam commorantibus sponte et ab aliquo de uestra familia non rogatus uestram uineam introiui in qua diu laborando usque ad uestrum felicem reditum diei et aestus pondus sustinui et patris familias diuinum denarium non accepi uerumtamen si multa a uestra memoria elabuntur aliquatenus non ad miror quum multis arduis esse conuenit uos intentos in ter alia tamen quae humeris uestris incumbunt memores existatis ut remuneratione aliqua respicere me uelitis',\n",
       " 'cadat super fauentiam fulgur et perflet eam spiritus procellarum cuius pestilens mora coegit patrem curiae uirum circumspectum et antiquis patribus dignum ad nostrorum institutionem temporum praeseruatum a nostri praesentia et consolatione consortii remoueri pereat illius ciuitatis memoria et in eam ros uel pluuia non descendat in qua fons noster irriguus status et salutis habitae detri menta concepit rarus ipsam inhabitet incola quin potius relegatio publica filiarum eam lugeat desolatam in qua\\ufeff reipublicae pater coepit langoris incentiua sentire quae ad remotiora loca remediis indigent balneorum uadat ergo pater a finibus istis uicina quaeso prouincia marca salu tem admoueat et procuret sibi commoda in illis partibus expectata salutis quibus nullus in orbe magis radiis perlucet amoenis nonne uidetis bone pater ranas suis turgere paludibus quae suam uidentur hominibus ingerere corruptelam ex ipsa quoque terra uaporem corruptionis consueuit emer gere quae corpora delicata corrumpit cuiuslibet sexus et aetatis nociuam confiniis pestem afferens et diuersa aegri tudinis incommoda moraturis colligitur ergo per eui dentes coniecturas ab incolis quantum caueri ualeat ab exteris et timeri conuersatio religionis qualiter intendere debeat ad recessum cuius praesentia continuatis proprii corporis incommoditatibus elaborat nec reor inutile fore consilium hominem locis pestilentibus insuetum ad salu bria loca se transferre ubi sperata uoti incolumitas cum oportunitate loci et cum clementioris aeris beneficio na turae proueniat et paterno statui congaudeat expectatio filiorum confortetur igitur ex mutatione loci uiri robusti complexio et patrias oras hilariter adeatis in quibus uos lac educauit infantiae et mineruae cultus edocuit et pro mouit adultum ibi sub aequalitate poli temporis uernante temperie infirmitas quae incumbit in omni suo genere cursum inueniat sicut expedit patienti propter quod nos uobis prius salubriter restitutis laetificabitis filios qui etsi passo compatimur reuera cum patiente langores nostros ex aequo non indigne portamus praestolantes in breui summo desiderio refici uestrae resumptae rumori bus sanitatis',\n",
       " 'praeteriti laboris angustias quas patientibus nobis hac tenus inuida roma suaserat cum uariae uoluntates imperio semper uarientur et actus uiterbiensis nequitia sugge rente periclum et laborem de alpibus lombardiae de nouo gustauimus quibus diuina clementia quae fessis dat requiem licet ipsas per regni refrigerium crederemus reprimere superatis ad curiam prosper reditus nos re duxit incolumes ubi de uestris renouari successibus expectamus',\n",
       " 'expectabam filiali zelo de domo paterna recipere noua salutis et gaudii quibus recrearetur animus castrensibus negociis occupatus ineratque mihi sollicitudo continua aliquem de compatriotis meis uidere nuncium bonum uenientem de regione longinqua qui uitam parentum doceret filium de salute coniugis et natarum patris laeti ficaret affectum meam uerumtamen expectationem moes tus patris funeris rumor adueniens uehementius con turbauit expectata sustulit gaudia meque totum dedit fletibus et lamentis dolebam namque per quem existen tiam sumpsi patrem meis uotis ademptum sed iusti causa doloris mea uiscera retorquebat quia ubi creditrix natura maturatos dies suos breuiare disposuit patri non assisterem in ultimis laboranti ut migraturum patrem filiali aspectu reficerem et qui paternae senectutis bacu lus fueram paternum extremae munus benedictionis ac cipiens pias patris obeuntis manus supra caput meum flebili deuotione tenerem ac deinde paterno feretro ma tri praeuius exsequiis patris filius obsequiosus adessem cumque non fuerit hoc permissum ut matris fletibus una cum coniuge et filiis sociarer auditis tamen cursus paterni rumoribus effusis lachrymis et corde turbato defuncti animam orationibus piis amplectens in eleemo sinarum erogatione domino commendaui uacans inte rim lachrymis et moeroribus donec per dominos et amicos meos piis monitis reuocatus in uita ac salute uestra potissime respirarem dum mihi fuit recta mode ratione propositum quod secundum ordinem et benefi cium naturae pater utroque superstite filio uisisque filiis filiorum exigente maturitate temporis in manibus ues tris coniuge meisque filiis pro me patre praesentibus in quibus meam poterat imaginari praesentiam diem clau sit extremum bónum post se famae testimonium relin quens et secum gerens indiuiduos comites bonorum testes operum quae patrauit ab infirmitate continua quam passus fuerat transmigrando uerum quia me decet una uobiscum suae animae reminisci et consolationem ad inuicem in domino reportare uestram maternitatem et sororiam dilectionem deprecor et exhortor quatenus tu mater una cum filiis tuisque nepotibus quorum om nium uitam apud dominum tuis procuras orationibus et salutem in domino consoleris ut nos quoque frater et soror qui tua post patris obitum benedictione fouemur moerore deposito qui nullam defuncto uidetur utilitatem afferre et nobis superstitibus salutis posset impedimenta praestare ac anxietatem renouare continuam alterna recreatione consolationis ornamenta sumamus ut hinc inde mutuis literis aura confortationis aspiret et in domo nostra omnium dolore ac luctu remotis optata uigeant communis auspicia sospitatis',\n",
       " 'uinea etc cum peruenerunt ad audientiam meam noua de obitu n dilecti filii uestri cognati mei tactus dolore cordis intrinsecus dolui et condolui ualde uobis utpote qui bonum de ipso fratrem amisi et lumen oculorum uestrorum a luminibus uestris anxior in eo fuisse subla tum fleui quoque prae dolore nimio oculi mei faciem lachrymis maduerunt quod uxori et filiabus meis tam dilectum collateralem decessisse cognoui qui absentiam meam una uobiscum commorans supplere poterat ad consortis meae solatium et natarum continuatis ergo in eius memoria diebus pluribus fletibus et dolore uidi quod frustra dolebam et quod redimere non poteram mor tuum effusione continua lachrymarum meditatus potius ipse mecum quod cum sortis humanae debitum solue rit licet fatali casu et mutato ordine parentum uota tur bauerit et dies nequiuerit protrahere longiores sui memoriam quam sors amara peremit communibus dimi sit intercessoribus adiuuandam ut cuius uita nos carere contigit pro eo teneamur ut uiuat potius orare quam flere uenit enim uobis et mihi quem filium fere assumi tis filii uestri quem sortis affinitas mihi charum fecit mors ipsa potissimum deploranda quod se dulcibus an nis immiscuit et iuuentutis florem morsu diro praescidit quia uero dispositioni diuinae obuiari non potest et ani mam eius debemus et possumus eleemosynis potius quam lachrymis adiuuare cum nec nos deceat in dolore mo dum excedere praetaxatum ne nomen domini qui dedit et abstulit exasperari contingat superuacuis intabes cendo doloribus quanquam non possim paternum et maternum in discessu tam dilecti filii reuocare dolorem quem uestrae sperabatis dimittere superstitem sepul turae audeo tamen filiali uobis deuotione suggerere qua tenus uobis mihi et uxori ac filiabus meis quae uestrae sunt paterno consulentes affectu quantum propter sortis humanae debitum et labilem conditionem mortalium moerorem uestrum moderari potestis uestrae ac nostrae uelitis prouidere saluti cum in superstitibus filia et nep tibus uestris me quoque qui uitam et consolationem uestram plus filio si dicere liceat diligo et affecto pos sitis plenarie consolationem accipere pro defuncto quem si modo quolibet redimere ualeremus non parceremus laboribus aliquatenus uel personis sed ubi a nobis irre uocabiliter est ademptus et orationum nostrarum auxilia praestolatur in superstitibus consolatione recepta sus piria et fletus uestros ad orationum subsidia conuertatis illud inter humana desideria solatium habituri quod pro honesto sui gestu et continentia per quam se omnibus praestitit diligendum bonam sui recordationem post fata dimisit uirilem supplere non possit absentiam nihilominus tamen abinde non discedit dictus magister nostro culmini sup plicauit ut domum et filios socrus ipsius quos ex causa praedicta deseruit sub nostra protectione recipi manda remus cuius supplicationibus inclinati fidelitati tuae praecipiendo mandamus quatenus domum terram et filios mulieris ipsius non permittas ab aliquo molestari sed ipsos in eorum iuribus auctoritate nostri culminis manuteneas et defendas',\n",
       " 'ex litteris tuis frater quas apud ortonam de manibus t gratanter accepi orta est mihi laeticiae plenitudo ubi sub nouo coelo et inter aceruos nouarum mores et lin guas tam dulcis fratris lepidis me recreationibus uisita rent nec aliquo minus gloriosum fecere legentem quem ex eis diiudicaui meritum nec priuatum fratris affectibus etiam in remotis et hic est uerae germanitatis zelus purae fraternitatis affectio et sincera sinceritas dilecto rum ad hoc dum mittentis nomen legi suprascriptum in margine tecum protinus una fui nec obstitit mediatio interiectae telluris quin in ictu oculi transcursis tot spa ciis totus essem dum uero consilium persuasionis tuae oculo insatiato relegi in tali proposito amplexus sum et sic forsitan legendum agrorum nouorum noui affectus luos ad luum et consideraui quanlus sit feruor tuae dilcctionis ad fratrem in quibus omnibus gralificor libi si gratiae rependendae sunl ab aliquo sibi- ipsi sed attende tamen“ quam iniuriosum sit huius- modi pugnam repetere ubi uel uictum se noueril uel enormiter actum in fugam non enim sine uerecundiae nola sine pudoris infamia accessus ad omissa repelilur et repelitio ad prohibita intentatur nunquam uidi com- peditum ad compedes nunquam audiri ad captantem captiuum a iure poslliminii uoluntarie rediisse et in brutis hicsensus est ut nunquam per se solula reuerlan- tur ad camum quum uix eliam coacla supporlant annon recolis ut ludum immisceam quam ingeniose quam saepe quamque libenler equlus ille rectus ambulabat et modicum exuebat camum aut frenum quod porlabat a capite ut semper et curatoris asluciam et patroni quando- que caulelam indocilis dissoluendo deciperet nunquam tamen eumdem memini semel saltem per se frenulum rehabuisse“ quid ergo numquid homo quem in mo- dico deus minorauit ab angelo ei prudentiorem filiis lucis in generatione sua lestalus est inferior erit intelligentia brutis numquid homo rationalis quem genuit et laclauit licet sub crasso aere patriaque uernilem“ quam omnia fugiunt liberalus repclet seruitutem solus enim freneli- cus porlat funem ex quo ligalur respice insensibilia ina- nimata et miraberis omnia mirabiliter appetere liberta- tem si crescenti plantulac pondus incubat nonne uidisti multoties quod quadam sagacilale declinat obstaculum et perimi non paliens in liberum se semper conatur aerem explicare si uelis poteris ex aliis omnibus colligere argumentum et haec omnia quae facta sunt ad nostram doctrinam facta sunt ut semper nos componamus ad illa unde igitur ego natus ex homine libertatem hanc quam diuturnis suspiriis anxietatibus uotis et desideriis meis concessit omnipotens uitare non debeo ne ammittam sic enim criminaliter offenderem concedentem',\n",
       " 'ecce sanus scribit uobis quem desperatum in recessu uestro dimisistis potius quam infirmum plura uobis et latius scribere uoluissem sed festinancia latoris prae sentium non permisit scribo tamen quod necessarium occurrebat quod cum guillelmo nepote meo communibus uoluntatibus et utilitatibus hinc inde concurrentibus de domibus cambium faciatis et caetera',\n",
       " 'haereditario domino suo conrado dei gratia inuictis simo romanorum regi et regni ierosolymitani haeredi petrus de uinea omnem deuotionem et fidem oblatum mihi per latorem praesentium fratrem s regale cleno dium gaudium attulit sed stuporem ingessit unde mihi hoc quod domini mei filius in me respicere dignaretur subarrhasti me domine mi rex annulo deuotionis et fidei quanquam hoc nulla causa cuiuslibet necessitatis exigeret ego enim seruus tuus et filius ancillae tuae quum illud nec aetatis robustae perfectio postularet sua sit hoc tamen industriae paternae successio et illa prae cipue regibus innata nobilitas per quam cesaribus uirtus influit ante diem',\n",
       " 'illustri regi sardiniae petrus de uin confortare do mine et uiriliter age ut quod del te multorum tenuit opinio ueritas attestetur nec regiae prolis animum inop tata negotiorum multitudo confundat ecce enim quod ad consummationem omnium desideriorum nostrorum nobis imperialis potentia procul dubio coniungetur',\n",
       " 'domino magistro iusticiario p de uinea ignis incen dium quod ultra quam licet ultro progreditur olei adiec tione non indiget ne in dispendium euagetur et iracun diae motum quem causa non prouocat augeri iusticiae colore non expedit ne transeat in furorem sic et roma nae curiae pelagus quod modicus uentus exagitat com motione nautae cui regni nauigium imperiali prouisione committitur commoueri praesertim rebus ut nunc se habentibus non oportet rogo uos igitur domine cuius obsequium ex deuotione sincera in conspectu principis placuit quantum in uobis est turbationem omnem quae ex collisione tam sublimium gladiorum posset emergere submouentes praesertim hoc tempore quo negotio totius italiae imperiali prouisioni commisso posset periculum imminere sine speciali mandato principis aures et ani mum summi pontificis nullatenus perturbetis',\n",
       " 'recepit cum lacrymis tui seriem rescripti manus mea quam tua mihi nuper dilectio destinauit et quamdam quasi mixturam doloris et gaudii subsequentis insinuata per cam in meam notitiam deduxere dum sensibus meis constanter constitit per eamdem quod te de infirmo re sumpsit firmitas sanitatis compassus quidem tibi sum in dolore non modicum nouit deus et in conualescentiae gaudio congauisus non iniuste uerumtamen tuac credu litatis uota si nostrarum mentium acies dirigatur secundis in parte successibus caruere cum a te hoc anno spera tum fuerit quod postquam ab imperiali curia discedebas nullius consiliis acquiescens casus in aegritudine nullo modo pati posses nunc ergo confidens in uisceribus cor dis tui quod cogitationes hominum uanae sunt et quod solus deus est omnium rerum salus et nullius loci fasces facit et distribuit sospitatem age gratias semper domino deo nostro cum multis haec infirmitas fuerit uita et eius tibi beneficium reseruauerit',\n",
       " 'suo iudici peregrino p de uinea etc placuisset mihi quod in infirmitatis acumine constitutus tui pracsentiam habuissem sed postquam me posito inter utramque for tunam dextera saluatoris deflexit ad salutem si com mode posses uellem libenter quod nunc obtenta conua lescentia gratius me uideres ut prout mecum in examine ualitudinis positus saepe tractaueram coram te dispone rem de rebus meis cum decentius uideatur prouidere salutis tempore quam repentinis casibus subiacere audiui uerumtamen ut egregii marchionis lanceae missae lit terae cesari testabantur expresse quod in facto nouariae seruicium fructuosum satis et efficax per te imperiali cul mini sit collatum propter quod cum in praesentia eius fauorabiliter non immerito uidearis nollem quod per absentationem tui in hac parte tibi afferretur aliquod nocumentum nam si papiae nequiuerit fieri uel uercellis uel alibi ubi se maior habilitas dederit praesentibus am bobus in curia id poterimus concedente domino salu briter adimplere incolumis existas et alacer sciturus me per dei gratiam restitutum integrae sanitati licet debilitas quae remansit prouida refectione corporis egere uideatur ad tempus',\n",
       " 'nobili uiro domino rogerio de amicis p de uinea ueniet ad uos notarius rodulphus de podio cum impera tiuis litteris et commendatitiis ab amico ipsum igitur uestro conspectui gratum reddant iubentis imperium et affectio commendantis',\n",
       " 'magistro rodulfo de podio domini imperatoris notario non solum ex bino actu qui consuetudinem solet indu cere sed multiplici sicut scitis specialiter uobis scripsi ut semper mea onera releuetis igitur onus istud expedi tionis celeris latoris praesentium quod requisissem si prae sens fuissem uobis absens impono ut inueniat me in uobis sic enim et mihi consuetudinem obtentam serua bitis et gratum me acquirelis amicum',\n",
       " 'domino symoni uento p de uinea iniuriose secum actum a uobis uir nobilis synibaldus de fossaceca con queritur qui cum curialis sit a curiali non debuit mo lestari pracsertim quum negotium quod inter uos et ipsum agitur ponere sit paratus in manu curialium com munium non decet igitur uos in hoc uestro nouo domi nio nedum curialem sed nec quemlibet alium indebite molestare',\n",
       " 'domino g de falarino suus p de uinea salutem uideo quod apud me salernitanus non es sed uerus amicus dilectionis tuae constantiam facto potius quam uerbo commendans exemplum enim dedisti mihi ut et ego faciam quemadmodum tu fecisti uiue itaque amice ca rissime sospes corpore laetus corde opulentus in rebus et in negotiis meis ad quorum promotionem te ultro neum exhibes non rogatus illam quam lex amicitiae postulat diligentiam procurationis appone',\n",
       " 'ualentinensi electo quod uester immo uestrissimus haberi debeam si grammatica sustineret fida latoris prae sentium relatio suggeret qui magnum uos in eius obse quiis coram magnificentia principis praesentauit per quem negocia uobis sub illa fiducia recommendo quia negocia commendata nobilibus indubitatae consummatio nis sortiuntur effectum',\n",
       " 'suo magistro rofredo de beneuento suus p de uinea nouae relationis gaudium et ueteris deuotionis affectum aduentum uestrum ad curiam ante uocationem expedire credidimus nunc autem credimus oportere ne uocans in uocato se contemptum et imperans per uocationis litte ras habeat se deceptum igitur ut breuiter me expediam uel uenire socerum expedit uel generum non remitti etc',\n",
       " 'si uerum est quod praeterita sint notitia praesentium et praesentia futurorum non uereor ut quum dudum apud uos noticiam familiaritatis et gratiae nactus sum ex gratia uestra aliquid mediatio temporis uel iactus absen tiae mihi interemerit cautionem quam etiam in me si recolitis triplicis arrae stipulatione firmastis dum in forti stamine sensi robur in uiolaceo colore fragrantiam in curro pondus et in saphiro uirtutem deuotionis fidei amoris et constantiae me iugiter seruare mandastis ex dono seruaui quidem et illibate seruabo et ecce',\n",
       " 'inter caetera quae tam de plena salute corporis quam de aliis accidentibus mihi per dei gratiam pro uoto succe dunt in uno tamen uideor facientibus uobis sustinere defectum quia de salute uestra non possum frequenter sicut cupio recreari si hoc unum adesset cuncta mihi ut uolumus prospere agerentur recordamini quia ex quo personam uestram non uidi litteras non accepi sed scire potestis et etiam sono uocabuli a graeco protracti recte perpendere quod epistolae missiones dicuntur et ideo non tam praesentium sed absentium adiumenta sunt amico rum epistolae quid ergo fuit quid obstitit ut absentibus nobis tamdiu nulla mihi a uobis littera mitteretur quae seruum uestrum fessum hinc inde negociis et sub panno tenui nichilominus solis obstantibus feruoribus anhelan tem leni aura de uestra salute spirante mulceret cete rum etsi me in similibus accusatis iudicium dispar est nam propter infirmitates multorum me ad multa cum paucissimis nostris remanente et propter hoc multipli citer occupato morbo etiam quasi uniuersaliter ferues cente dum turbarer ob hoc et multum pauescerem cum a publicis uacabam negociis libenter mihi in priuatis parcebam faciebam tamen quod poteram et fas erat uidelicet uos per omnes ad partes ipsas uenientes nuncios salutando ideoque quia credo uos ex iis conuicisse nisi forte alia penes uos exceptio lateat quae mei allegata proponentis elidat quicquid huc usque fuerit quicquid obstiterit pro deo rogo ut amodo mihi non faciatis in huiusmodi parcitatem quia grauissimum gererem nec tale delictum ueniam mereretur si in culpam similem similiter iterum caderetis responsiua ad praecedentem peccarem in filio et in deuoto delinquerem si patris fidem in praesentia praestitam seruitori absenti non offer rem cum praesertim legamn semper in regestro memoriae nec intelligere negligam quanta me semper honorificen tia praeuenistis et ut tractentur aliqua quanta sollicitu dine procurastis ut a lecto resurgerem quo languebam igitur quam lucrati estis uuae uinum et de messe quam defendistis a pluuia fructum si quem dare potest con gruum colligatis ne impingatur uobis quoddam quod nolo dicere uel contemptus si eam penitus duxeritis omittendam a qua etsi nondum plenos manipulos grana saltem colligere ualeretis praesertim cum apta sit iugiter dare pro posse uobis fructum suo tempore graciosum rogo praeterea ut memoriam mei non absorbeat inter iectio scyllaei maris in uobis nec consideretis si placet quanta profunditate quae latens est marina caribdis in uoluat sed quam breui spatio claro hinc inde lumine subito tellus utraque sit diuisa praeter haec si quid ac ceptum uobis largiri potest liguria licet felicitatem eius deprauet infelicitas incolarum requirite quia non deerit ebreo quid offerat gratum domino ex egypto cum de fectus habere non ualeat locum sub principe glorioso',\n",
       " 'domino panormitano archiepiscopo sanus pater praesentibus culparetur si non sinistra exciperet quod languentem october a primo statu depulit ad quem nec ianuarius hactenus reuocauit patrem utinam roboret sanitas prosperitas foueat et gaudia comitentur nec ta men longius abscedat a filio cui si praesentia redditur ferret habilius id quo grauatur',\n",
       " 'petrus de uinea eidem archiepiscopo significat quod praesentauit exenia sua imperatori confortando eum in aegritudine renitente consilio quorumdam ex nostris et nimiam zeli uestri perfectionem conscientiae scrupulis adscri bente factum est pater quod imperastis quia et quanti tatem missarum rerum circumspectio principis habuit et circumspectio qualitatem missionis attendit serenitatem etiam uultus eius cum audiuit archiepiscopum capua num fnon adhuc ita desperatum lator praesentium nun tius uester uidit et nichilominus affectum ipsius epistola uobis remissa testatur quoniam ab intentione iubentis et uerbis dictantis industria procul dubio non recessit uos igitur reuerende pater qui dominis seruire fideliter et placere deuotis utiliter didicistis placeatis etiam nobis uitae uestrae telam quam desperationis acutae nouacula non praecidit consuetis et debitis medicinae remediis confouentes nec sit uobis idcirco mori solatium quod sit propter aegritudinis taedia longius uiuere dolorosum me autem si tamen patri morienti superero uestris amicum in morte relinquitis quem uobis deuotum reuera habeba tis in uita fredericus archiepiscopo capuano confortando ipsum in infirmitate sua recepit nostra serenitas delegata tui uiuentis exenia gratius per te ipsum quam si legata tuae supremae uo luntatis haec eadem testamentarius distributor aut quiuis haeres legitimus delegasset ac in eis non tam rerum relic tarum inspeximus quantitatem quam relinquentis afsec tum et ipsius extremi iudicii considerauimus qualitatem quod apud te prout euidenter agnoscimus conscientiae tuae fidelis integritas compulit et beneficiorum nostro rum grata memoria quam agentis in ultimis etiam spiri tus retinebat induxit et quum sicut audiuimus adhuc te lectus aduersae ualetudinis teneat nec in totum eua nuit spes salutis ad resumendas conualescentiae uires recepto praesenti hilariter nostrae confortationis antidoto tanto debes instantius aspirare quanto salutem tuam nulla sicut accepimus desperatione praecisam quam plu ribus fructuosam et specialiter nostris fore sentis obse quiis opportunam',\n",
       " 'quaestionis arduae petita responsio in quantum res pondenti permittitur enodatur grandis namque pro gressus materiae infinitis terminandae limitibus rancoris propinat indicia et ex telae diffusae contextu quae de praeconio summi caesaris hostes caedentis orditur ne quid ex contingentibus obmittatur manus scribentis tremescit et stupet quis enim posset amplo flamine prae potentis tanti principis insignia promere in cuius pectus confluunt quicquid uirtutes habent quem nubes pluerunt iustum et super eum coeli desuper rorauerunt non plato non tullius non filii tenebrarum qui ex ore se dentis in trono in generatione sua prudentiores lucis filiis nuncupantur hunc si quidem terra et pontus ado rant et aethera satis applaudunt utpote qui mundo uerus imperator à diuino prouisus culmine pacis amicus cha ritatis patronus iuris conditor iusticiae conseruator potentiae filius mundum perpetua relatione gubernat hic est de quo ezechielis uerba proclamant « aquila grandis magnarum alarum longo membrorum ductu plena plumis et uarietate multiplici » hic est de quo loquitur ieremias « replebo te hominibus quasi botro et super te celeuma cantabitur » talis ergo praesidio principis protectus mundus exultet talem namque totus orbis uocabat in dominum talem requirebat iusticiae defensorem qui in potentia strenuus in strenuitate prae clarus in claritate benignus in benignitate sapiens in sapientia prouidus in prouidentia foret humanus in eo denique insita forma boni tanquam liuore carens climata ligat et elementa coniungit ut conueniant flammis fri gora iungantur arida liquidis planis associentur aspera et directis inuia maritentur sub eius namque temporibus destruuntur fomenta malitiae uirtus securitatis inseritur itaque gladii conflantur in uomeres pacis foedere suffo cante timorem et eius metus instinctu quicquid libertas negligit et licentia immoderata praesumit suae uictoriae censura castigat o miranda diuina clementia fastum compescere prompta perituro mundo de tam mundo principe tam consulte quam utiliter prouidisti qui ex omni parte beatus strenuus in toto cuiuslibet turbationis pacator iustissimus sine cura populi solus esse nesciret quem supremi manus opificis formauit in hominem ut tot rerum habenas flecteret et cuncta sub iuris ordine limitaret o utinam diuina prouisio per etheresim dierum nostrorum numerum resecans caesareae manui fulci menta tribueres et annos augusti regnantis augeres o naturae felicitas quanti priuilegii praerogatiua principem ditasti felicem concedens aliis quod deficit in te ipsa hunc trames rationis antistitem hunc exigebat iustitia defensorem qui congruam seruans utrobique temperiem conatus cupiditatis infringeret et eius morsus illicitos refrenaret cui iam uirtutum incipiunt mysteria inuidere ea uidelicet inuidiae specie quae non ardore liuoris aemu lantis destruit animum sed in suauitatis odorem flatibus incitat charitatis uiuat igitur uiuat sancti friderici no men in populo succrescat in ipsum feruor deuotionis a subditis et fidei meritum mater ipsa fidelitas in exem plum subiectionis inflammet']"
      ]
     },
     "execution_count": 125,
     "metadata": {},
     "output_type": "execute_result"
    }
   ],
   "source": [
    "with open('pdv.txt','r') as file:\n",
    "    data = file.readlines()\n",
    "x = ' '.join(data).split('N° ')\n",
    "x = [value for value in x if value != '\\n ']\n",
    "clean_x = [string.replace('\\n ',' ') for string in x]\n",
    "clean_x[-2] = '. '.join(clean_x[-2].split('.')[1:])\n",
    "louve = [element.lstrip('0123456789.-') for element in clean_x]\n",
    "louve[-4] = '. '.join(louve[-4].split('.')[1:])\n",
    "louve = [item.lstrip().rstrip().lower() for item in louve]\n",
    "louve = eliminer_caracteres_speciaux_liste(louve)\n",
    "louve = [item.replace('‐ ','') for item in louve]\n",
    "louve = [item.replace('v','u') for item in louve]\n",
    "louve = [item.replace('j','i') for item in louve]\n",
    "louve = [item.replace(' ',' ') for item in louve]\n",
    "pdv = force_one_blank_space_in_list(louve)"
   ]
  },
  {
   "cell_type": "code",
   "execution_count": 131,
   "id": "f5dca134",
   "metadata": {},
   "outputs": [],
   "source": [
    "df = pd.DataFrame({'text':pdv,'lemma':vigne})\n",
    "df.to_excel('pdv.xlsx')"
   ]
  },
  {
   "cell_type": "code",
   "execution_count": 7,
   "id": "49e1e00f",
   "metadata": {},
   "outputs": [],
   "source": [
    "with open('rocca.txt','r') as file:\n",
    "    rocca = file.readlines()\n",
    "y = ' '.join(rocca).split('N° ')\n",
    "y = [value for value in y if value != '\\n ']\n",
    "y = [value for value in y if value]\n",
    "clean_y = [string.replace('\\n ',' ') for string in y]\n",
    "clean_y[-2] = '. '.join(clean_y[-2].split('.')[1:])\n",
    "galago = [element.lstrip('0123456789.-') for element in clean_y]\n",
    "galago[1] = '. '.join(galago[1].split('.')[1:])\n",
    "galago[2] = '. '.join(galago[2].split('.')[1:])\n",
    "galago = [item.lstrip().rstrip().lower() for item in galago]\n",
    "galago = eliminer_caracteres_speciaux_liste(galago)\n",
    "galago = [item.replace('‐ ','') for item in galago]\n",
    "galago = [item.replace('v','u') for item in galago]\n",
    "galago = [item.replace('j','i') for item in galago]\n",
    "galago = [item.replace(' ',' ') for item in galago]\n",
    "nicolas = force_one_blank_space_in_list(galago)"
   ]
  },
  {
   "cell_type": "code",
   "execution_count": 129,
   "id": "b53d3c85",
   "metadata": {},
   "outputs": [],
   "source": [
    "df2 = pd.DataFrame({'text':nicolas,'lemma':rocca})\n",
    "df2.to_excel"
   ]
  },
  {
   "cell_type": "code",
   "execution_count": 14,
   "id": "93ea444d",
   "metadata": {},
   "outputs": [
    {
     "name": "stderr",
     "output_type": "stream",
     "text": [
      "100%|███████████████████████████████████████████| 27/27 [00:16<00:00,  1.63it/s]\n"
     ]
    }
   ],
   "source": [
    "from typing import List\n",
    "from pie_extended.cli.utils import get_tagger, get_model, download\n",
    "\n",
    "# In case you need to download\n",
    "do_download = False\n",
    "if do_download:\n",
    "    for dl in download(\"lasla\"):\n",
    "        x = 1\n",
    "\n",
    "# model_path allows you to override the model loaded by another .tar\n",
    "model_name = \"lasla\"\n",
    "tagger = get_tagger(model_name, batch_size=256, device=\"cpu\", model_path=None)\n",
    "\n",
    "lemmas_pdv = []\n",
    "for i in tqdm(range(len(pdv))):\n",
    "    sentences: List[str] = [pdv[i]]\n",
    "    # Get the main object from the model (: data iterator + postprocesor\n",
    "    from pie_extended.models.lasla.imports import get_iterator_and_processor\n",
    "    for sentence_group in sentences:\n",
    "        iterator, processor = get_iterator_and_processor()\n",
    "        dic = tagger.tag_str(sentence_group, iterator=iterator, processor=processor)\n",
    "        lemmas_pdv.append(dic)"
   ]
  },
  {
   "cell_type": "code",
   "execution_count": 9,
   "id": "d04f3072",
   "metadata": {},
   "outputs": [
    {
     "name": "stderr",
     "output_type": "stream",
     "text": [
      "fatal: HEAD n'est pas un nom d'objet valide\n",
      "100%|█████████████████████████████████████████████| 6/6 [00:12<00:00,  2.07s/it]\n"
     ]
    }
   ],
   "source": [
    "from typing import List\n",
    "from pie_extended.cli.utils import get_tagger, get_model, download\n",
    "\n",
    "# In case you need to download\n",
    "do_download = False\n",
    "if do_download:\n",
    "    for dl in download(\"lasla\"):\n",
    "        x = 1\n",
    "\n",
    "# model_path allows you to override the model loaded by another .tar\n",
    "model_name = \"lasla\"\n",
    "tagger = get_tagger(model_name, batch_size=256, device=\"cpu\", model_path=None)\n",
    "\n",
    "lemmas_rocca = []\n",
    "for i in tqdm(range(len(nicolas))):\n",
    "    sentences: List[str] = [nicolas[i]]\n",
    "    # Get the main object from the model (: data iterator + postprocesor\n",
    "    from pie_extended.models.lasla.imports import get_iterator_and_processor\n",
    "    for sentence_group in sentences:\n",
    "        iterator, processor = get_iterator_and_processor()\n",
    "        dic = tagger.tag_str(sentence_group, iterator=iterator, processor=processor)\n",
    "        lemmas_rocca.append(dic)"
   ]
  },
  {
   "cell_type": "code",
   "execution_count": 20,
   "id": "e6159c2b",
   "metadata": {},
   "outputs": [
    {
     "name": "stderr",
     "output_type": "stream",
     "text": [
      "100%|██████████████████████████████████████████| 6/6 [00:00<00:00, 11003.86it/s]\n",
      "100%|████████████████████████████████████████| 27/27 [00:00<00:00, 20511.90it/s]\n"
     ]
    }
   ],
   "source": [
    "rocca = []\n",
    "\n",
    "for i in tqdm(lemmas_rocca):\n",
    "    liste_sentence = []\n",
    "    for j in i:\n",
    "        liste_sentence.append(j.get('lemma'))\n",
    "    rocca.append(liste_sentence)\n",
    "vigne = []\n",
    "\n",
    "for i in tqdm(lemmas_pdv):\n",
    "    liste_sentence = []\n",
    "    for j in i:\n",
    "        liste_sentence.append(j.get('lemma'))\n",
    "    vigne.append(liste_sentence)"
   ]
  },
  {
   "cell_type": "code",
   "execution_count": 95,
   "id": "f6a0b92e",
   "metadata": {},
   "outputs": [
    {
     "data": {
      "text/plain": [
       "3521"
      ]
     },
     "execution_count": 95,
     "metadata": {},
     "output_type": "execute_result"
    }
   ],
   "source": [
    "vigne_2 = [item for sublist in vigne for item in sublist]\n",
    "rocca_2 = [item for sublist in rocca for item in sublist]\n",
    "vigne_2 = [mot for mot in vigne_2 if mot not in stopwords_list]\n",
    "rocca_2 = [mot for mot in rocca_2 if mot not in stopwords_list]"
   ]
  },
  {
   "cell_type": "code",
   "execution_count": 106,
   "id": "a9c18406",
   "metadata": {},
   "outputs": [],
   "source": [
    "rocca_sous_liste = diviser_liste_mots(rocca_2,500)\n",
    "pdv_sous_liste = diviser_liste_mots(vigne_2,500)\n",
    "#pdv_sous_liste = [sublist for sublist_list in pdv_sous_liste for sublist in sublist_list]\n",
    "combined_listes = pdv_sous_liste + rocca_sous_liste\n",
    "combined_listes = [' '.join(map(str, sublist)) for sublist in combined_listes]"
   ]
  }
 ],
 "metadata": {
  "kernelspec": {
   "display_name": "Python 3 (ipykernel)",
   "language": "python",
   "name": "python3"
  },
  "language_info": {
   "codemirror_mode": {
    "name": "ipython",
    "version": 3
   },
   "file_extension": ".py",
   "mimetype": "text/x-python",
   "name": "python",
   "nbconvert_exporter": "python",
   "pygments_lexer": "ipython3",
   "version": "3.9.7"
  }
 },
 "nbformat": 4,
 "nbformat_minor": 5
}

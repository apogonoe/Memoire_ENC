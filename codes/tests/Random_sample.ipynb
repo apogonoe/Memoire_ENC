{
 "cells": [
  {
   "cell_type": "code",
   "execution_count": 73,
   "id": "a214b74e",
   "metadata": {},
   "outputs": [],
   "source": [
    "import os \n",
    "import random"
   ]
  },
  {
   "cell_type": "code",
   "execution_count": 75,
   "id": "4487c18c",
   "metadata": {},
   "outputs": [],
   "source": [
    "path = '/home/noe/Documents/2022-2023/ENC/Mémoire/Livre_6/'"
   ]
  },
  {
   "cell_type": "code",
   "execution_count": 76,
   "id": "002f42e7",
   "metadata": {},
   "outputs": [],
   "source": [
    "random = random.choice(os.listdir(path))"
   ]
  },
  {
   "cell_type": "code",
   "execution_count": 77,
   "id": "ae41dff2",
   "metadata": {},
   "outputs": [
    {
     "data": {
      "text/plain": [
       "'6.17\\n.txt'"
      ]
     },
     "execution_count": 77,
     "metadata": {},
     "output_type": "execute_result"
    }
   ],
   "source": [
    "random"
   ]
  },
  {
   "cell_type": "code",
   "execution_count": 78,
   "id": "9e527190",
   "metadata": {},
   "outputs": [],
   "source": [
    "with open('6_16.txt','w') as output:\n",
    "    output.write('')\n",
    "    "
   ]
  },
  {
   "cell_type": "code",
   "execution_count": null,
   "id": "44443f85",
   "metadata": {},
   "outputs": [],
   "source": []
  }
 ],
 "metadata": {
  "kernelspec": {
   "display_name": "Python 3 (ipykernel)",
   "language": "python",
   "name": "python3"
  },
  "language_info": {
   "codemirror_mode": {
    "name": "ipython",
    "version": 3
   },
   "file_extension": ".py",
   "mimetype": "text/x-python",
   "name": "python",
   "nbconvert_exporter": "python",
   "pygments_lexer": "ipython3",
   "version": "3.9.7"
  }
 },
 "nbformat": 4,
 "nbformat_minor": 5
}

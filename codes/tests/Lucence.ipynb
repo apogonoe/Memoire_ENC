{
 "cells": [
  {
   "cell_type": "code",
   "execution_count": 1,
   "id": "e34251a5",
   "metadata": {},
   "outputs": [],
   "source": [
    "from lxml import etree\n",
    "import xml.etree.ElementTree as ET\n",
    "import matplotlib.pyplot as plt\n",
    "%matplotlib inline\n",
    "import numpy as np\n",
    "from matplotlib.patches import Polygon\n",
    "import os\n",
    "from bs4 import BeautifulSoup\n",
    "import re\n",
    "from collections import Counter\n",
    "import re\n",
    "import pandas as pd"
   ]
  },
  {
   "cell_type": "code",
   "execution_count": 2,
   "id": "f13417c2",
   "metadata": {},
   "outputs": [],
   "source": [
    "from bs4 import BeautifulSoup\n",
    "import os\n",
    "\n",
    "path = '/home/noe/Documents/2022-2023/ENC/Mémoire/Guérin/Matenia/Noe/testSortie.xml'\n",
    "\n",
    "with open(path) as f:\n",
    "    soup = BeautifulSoup(f,'xml')\n",
    "\n",
    "textes = [tag.get_text() for tag in soup.find_all('body')]\n"
   ]
  },
  {
   "cell_type": "code",
   "execution_count": 3,
   "id": "f1aeafdd",
   "metadata": {},
   "outputs": [],
   "source": [
    "tree = ET.parse(path)\n",
    "root = tree.getroot()\n",
    "\n",
    "liste_textes = []\n",
    "liste_div = []\n",
    "for text in root.findall(\".//{http://www.tei-c.org/ns/1.0}text\"):\n",
    "    for div in text.findall(\".//{http://www.tei-c.org/ns/1.0}div\"):\n",
    "        if 'lat' in div.get('{http://www.w3.org/XML/1998/namespace}lang',''):\n",
    "            liste_textes.append(text)\n",
    "            liste_div.append(div)\n",
    "\n",
    "n = []\n",
    "ID = []\n",
    "\n",
    "for text in liste_textes:\n",
    "    n.append(text.get('n'))\n",
    "    ID. append(text.get('{http://www.w3.org/XML/1998/namespace}id'))\n",
    "n_fin = list(filter(lambda x: x is not None, n))\n",
    "ID_fin = list(filter(lambda x: x is not None, ID))"
   ]
  },
  {
   "cell_type": "code",
   "execution_count": 4,
   "id": "c41b7187",
   "metadata": {},
   "outputs": [],
   "source": [
    "path2 = '/home/noe/Documents/2022-2023/ENC/Mémoire/Guérin/Matenia/Textes/'\n",
    "os.chdir(path2)"
   ]
  },
  {
   "cell_type": "code",
   "execution_count": 5,
   "id": "c1daa6e9",
   "metadata": {},
   "outputs": [],
   "source": [
    "tomes = []\n",
    "for i in ID_fin:\n",
    "    tomes.extend(re.findall('[a-z]{4}[0-9]{1,2}_\\d{4}',i))\n",
    "num = []\n",
    "for i in tomes:\n",
    "    num.append(i.split('_')[1])\n",
    "numéros = [s.lstrip('0') for s in num]"
   ]
  },
  {
   "cell_type": "code",
   "execution_count": 6,
   "id": "308af6e0",
   "metadata": {},
   "outputs": [],
   "source": [
    "dates = []\n",
    "\n",
    "for i in numéros:\n",
    "    with open(f'text_{i}.xml','r') as file:\n",
    "        data = file.read()\n",
    "    soup = BeautifulSoup(data,'xml')\n",
    "    date = soup.find('date')\n",
    "    dates.append(str(date))"
   ]
  },
  {
   "cell_type": "code",
   "execution_count": 7,
   "id": "1edf0738",
   "metadata": {},
   "outputs": [],
   "source": [
    "test = []\n",
    "for i in range(len(dates)):\n",
    "    if dates[i] == 'None':\n",
    "        dates[i] = '0000'\n",
    "    x = re.findall('\\d{4}',dates[i])\n",
    "    test.append(x)"
   ]
  },
  {
   "cell_type": "code",
   "execution_count": 8,
   "id": "cbe781ee",
   "metadata": {},
   "outputs": [],
   "source": [
    "final = []\n",
    "for i in range(len(test)):\n",
    "    final.append(test[i][0])"
   ]
  },
  {
   "cell_type": "code",
   "execution_count": 9,
   "id": "4f92255f",
   "metadata": {},
   "outputs": [],
   "source": [
    "dico = {ID_fin[i]: textes[i] for i in range(len(ID_fin))}"
   ]
  },
  {
   "cell_type": "code",
   "execution_count": 10,
   "id": "e7552ba2",
   "metadata": {},
   "outputs": [],
   "source": [
    "df = pd.DataFrame(dico.items())"
   ]
  },
  {
   "cell_type": "code",
   "execution_count": 11,
   "id": "86bb2f41",
   "metadata": {},
   "outputs": [],
   "source": [
    "colnames = ['id','text']\n",
    "df.columns = colnames"
   ]
  },
  {
   "cell_type": "code",
   "execution_count": 12,
   "id": "b98aa164",
   "metadata": {},
   "outputs": [],
   "source": [
    "def clean_text(string):\n",
    "    first = re.sub(\"\\n *\",\" \",string)\n",
    "    second = re.sub(' *',' ',first)\n",
    "    return first"
   ]
  },
  {
   "cell_type": "code",
   "execution_count": 13,
   "id": "4ad24229",
   "metadata": {},
   "outputs": [],
   "source": [
    "df['text'] = df['text'].apply(clean_text)"
   ]
  },
  {
   "cell_type": "code",
   "execution_count": 14,
   "id": "424aa256",
   "metadata": {},
   "outputs": [],
   "source": [
    "df['dates'] = final"
   ]
  },
  {
   "cell_type": "code",
   "execution_count": 15,
   "id": "300a126f",
   "metadata": {},
   "outputs": [
    {
     "data": {
      "text/plain": [
       "'   Philippus, et, universis et cetera Cordi habentes, ut condecet, inimicorum nequicias et impulsus totis conatibus repellendo,  quietem et pacem regni nostri et fidelium incolarum ejusdem, auxiliante Deo precipue et ipsorum mediante subditorum subsidio, procurare, ac providere ne mercatores et alii subditi nostri in suis mercaturis et negociis aliis impediri valeant vel exponere se periculis quibuscunque ; notum facimus quod nos, licet ad hoc personaliter intendere proponamus cucum viis et modis pluribus exquisitis, finaliter deliberato cumcum peritis in talibus etet quamplurimum famosis consilio, certam procedendi viam supper hoc providimus utilem et salubrem, quam dilectis et fidelibus nostris S. de Ruppe Choardi et J. Vigeri militibus quos ad hoc ad Pictavensem mittimus senescalliam, apperuimus, per eos vel eorum alterum cum senescallo ejusdem senescallie, ubi et quibus expedire viderint, declarandam, videlicet de sub veniendo vobis in hoc facto, quod verisimiliter omnes tangit, de certo numero servientum armorum ad vadia seu stipendia sub ditorum ipsorum, secundum vires et facultates eorumdem, ad certum tempus, prout duxerint, considerato negocio, statuendo. Dantes omnibus subditis nostris presentibus in mandatis ut eisdem commissariis in hac parte eo promptius quo devotius pareant et intendant. In cuius rei testimimonium, et cetera. Actum Parisius in festo beati Martini, anno domini m. ccc. secundo.  '"
      ]
     },
     "execution_count": 15,
     "metadata": {},
     "output_type": "execute_result"
    }
   ],
   "source": [
    "df.head()['text'][0]"
   ]
  },
  {
   "cell_type": "code",
   "execution_count": 16,
   "id": "56830a0f",
   "metadata": {},
   "outputs": [],
   "source": [
    "def clean_text(string):\n",
    "    first = re.sub(\"\\n\",\"\",string)\n",
    "    new_string = re.sub(\"[0-9]. \",'',first)\n",
    "    new_string_2 = re.sub('- ','',new_string)\n",
    "    final = re.sub(' . ',' ', new_string_2)\n",
    "    final2 = re.sub('-, ','',final)\n",
    "    final3 = re.sub('[0-9]','',final2)\n",
    "    return final3"
   ]
  },
  {
   "cell_type": "code",
   "execution_count": 17,
   "id": "d41c1b0d",
   "metadata": {},
   "outputs": [],
   "source": [
    "file = \"/home/noe/Documents/2022-2023/ENC/Mémoire/Livres_OCR_par_chartes/PDV_lemmes.xlsx\""
   ]
  },
  {
   "cell_type": "code",
   "execution_count": 18,
   "id": "72fa5db1",
   "metadata": {},
   "outputs": [],
   "source": [
    "pdv = pd.read_excel(file)"
   ]
  },
  {
   "cell_type": "code",
   "execution_count": 19,
   "id": "d07ee59f",
   "metadata": {
    "scrolled": true
   },
   "outputs": [],
   "source": [
    "df_50 = pd.DataFrame(pdv['textes'][50].split('.'))"
   ]
  },
  {
   "cell_type": "code",
   "execution_count": 20,
   "id": "400cd1dd",
   "metadata": {},
   "outputs": [],
   "source": [
    "lol = df['text'][0].strip()"
   ]
  },
  {
   "cell_type": "code",
   "execution_count": 21,
   "id": "51e1d1dc",
   "metadata": {},
   "outputs": [],
   "source": [
    "text = re.sub(r\"\\s+\", \" \", lol)"
   ]
  },
  {
   "cell_type": "code",
   "execution_count": 22,
   "id": "7f36f147",
   "metadata": {},
   "outputs": [],
   "source": [
    "def clean_column(text):\n",
    "    text = text.strip()\n",
    "    text = re.sub(r\"\\s+\", \" \", text)\n",
    "    return text"
   ]
  },
  {
   "cell_type": "code",
   "execution_count": 23,
   "id": "9c54a0b2",
   "metadata": {},
   "outputs": [],
   "source": [
    "df['text'] = df['text'].apply(clean_column)"
   ]
  },
  {
   "cell_type": "code",
   "execution_count": 34,
   "id": "16efcbc0",
   "metadata": {},
   "outputs": [],
   "source": [
    "path = '/home/noe/Documents/2022-2023/ENC/Mémoire/Guérin/Matenia/textes/'\n",
    "os.chdir(path)   "
   ]
  },
  {
   "cell_type": "code",
   "execution_count": 37,
   "id": "2a12b6f9",
   "metadata": {},
   "outputs": [
    {
     "ename": "KeyError",
     "evalue": "358",
     "output_type": "error",
     "traceback": [
      "\u001b[0;31m---------------------------------------------------------------------------\u001b[0m",
      "\u001b[0;31mValueError\u001b[0m                                Traceback (most recent call last)",
      "\u001b[0;32m~/python/miniconda/envs/coursnlp/lib/python3.7/site-packages/pandas/core/indexes/range.py\u001b[0m in \u001b[0;36mget_loc\u001b[0;34m(self, key, method, tolerance)\u001b[0m\n\u001b[1;32m    384\u001b[0m                 \u001b[0;32mtry\u001b[0m\u001b[0;34m:\u001b[0m\u001b[0;34m\u001b[0m\u001b[0;34m\u001b[0m\u001b[0m\n\u001b[0;32m--> 385\u001b[0;31m                     \u001b[0;32mreturn\u001b[0m \u001b[0mself\u001b[0m\u001b[0;34m.\u001b[0m\u001b[0m_range\u001b[0m\u001b[0;34m.\u001b[0m\u001b[0mindex\u001b[0m\u001b[0;34m(\u001b[0m\u001b[0mnew_key\u001b[0m\u001b[0;34m)\u001b[0m\u001b[0;34m\u001b[0m\u001b[0;34m\u001b[0m\u001b[0m\n\u001b[0m\u001b[1;32m    386\u001b[0m                 \u001b[0;32mexcept\u001b[0m \u001b[0mValueError\u001b[0m \u001b[0;32mas\u001b[0m \u001b[0merr\u001b[0m\u001b[0;34m:\u001b[0m\u001b[0;34m\u001b[0m\u001b[0;34m\u001b[0m\u001b[0m\n",
      "\u001b[0;31mValueError\u001b[0m: 358 is not in range",
      "\nThe above exception was the direct cause of the following exception:\n",
      "\u001b[0;31mKeyError\u001b[0m                                  Traceback (most recent call last)",
      "\u001b[0;32m/tmp/ipykernel_22384/789798939.py\u001b[0m in \u001b[0;36m<module>\u001b[0;34m\u001b[0m\n\u001b[1;32m     19\u001b[0m     \u001b[0mliste_lemmes\u001b[0m \u001b[0;34m=\u001b[0m \u001b[0;34m[\u001b[0m\u001b[0;34m]\u001b[0m\u001b[0;34m\u001b[0m\u001b[0;34m\u001b[0m\u001b[0m\n\u001b[1;32m     20\u001b[0m \u001b[0;34m\u001b[0m\u001b[0m\n\u001b[0;32m---> 21\u001b[0;31m     \u001b[0msentences\u001b[0m\u001b[0;34m:\u001b[0m \u001b[0mList\u001b[0m\u001b[0;34m[\u001b[0m\u001b[0mstr\u001b[0m\u001b[0;34m]\u001b[0m \u001b[0;34m=\u001b[0m \u001b[0;34m[\u001b[0m\u001b[0mdf\u001b[0m\u001b[0;34m[\u001b[0m\u001b[0;34m'text'\u001b[0m\u001b[0;34m]\u001b[0m\u001b[0;34m[\u001b[0m\u001b[0mi\u001b[0m\u001b[0;34m]\u001b[0m\u001b[0;34m]\u001b[0m\u001b[0;34m\u001b[0m\u001b[0;34m\u001b[0m\u001b[0m\n\u001b[0m\u001b[1;32m     22\u001b[0m     \u001b[0;31m# Get the main object from the model (: data iterator + postprocesor\u001b[0m\u001b[0;34m\u001b[0m\u001b[0;34m\u001b[0m\u001b[0;34m\u001b[0m\u001b[0m\n\u001b[1;32m     23\u001b[0m     \u001b[0;32mfrom\u001b[0m \u001b[0mpie_extended\u001b[0m\u001b[0;34m.\u001b[0m\u001b[0mmodels\u001b[0m\u001b[0;34m.\u001b[0m\u001b[0mlasla\u001b[0m\u001b[0;34m.\u001b[0m\u001b[0mimports\u001b[0m \u001b[0;32mimport\u001b[0m \u001b[0mget_iterator_and_processor\u001b[0m\u001b[0;34m\u001b[0m\u001b[0;34m\u001b[0m\u001b[0m\n",
      "\u001b[0;32m~/python/miniconda/envs/coursnlp/lib/python3.7/site-packages/pandas/core/series.py\u001b[0m in \u001b[0;36m__getitem__\u001b[0;34m(self, key)\u001b[0m\n\u001b[1;32m    940\u001b[0m \u001b[0;34m\u001b[0m\u001b[0m\n\u001b[1;32m    941\u001b[0m         \u001b[0;32melif\u001b[0m \u001b[0mkey_is_scalar\u001b[0m\u001b[0;34m:\u001b[0m\u001b[0;34m\u001b[0m\u001b[0;34m\u001b[0m\u001b[0m\n\u001b[0;32m--> 942\u001b[0;31m             \u001b[0;32mreturn\u001b[0m \u001b[0mself\u001b[0m\u001b[0;34m.\u001b[0m\u001b[0m_get_value\u001b[0m\u001b[0;34m(\u001b[0m\u001b[0mkey\u001b[0m\u001b[0;34m)\u001b[0m\u001b[0;34m\u001b[0m\u001b[0;34m\u001b[0m\u001b[0m\n\u001b[0m\u001b[1;32m    943\u001b[0m \u001b[0;34m\u001b[0m\u001b[0m\n\u001b[1;32m    944\u001b[0m         \u001b[0;32mif\u001b[0m \u001b[0mis_hashable\u001b[0m\u001b[0;34m(\u001b[0m\u001b[0mkey\u001b[0m\u001b[0;34m)\u001b[0m\u001b[0;34m:\u001b[0m\u001b[0;34m\u001b[0m\u001b[0;34m\u001b[0m\u001b[0m\n",
      "\u001b[0;32m~/python/miniconda/envs/coursnlp/lib/python3.7/site-packages/pandas/core/series.py\u001b[0m in \u001b[0;36m_get_value\u001b[0;34m(self, label, takeable)\u001b[0m\n\u001b[1;32m   1049\u001b[0m \u001b[0;34m\u001b[0m\u001b[0m\n\u001b[1;32m   1050\u001b[0m         \u001b[0;31m# Similar to Index.get_value, but we do not fall back to positional\u001b[0m\u001b[0;34m\u001b[0m\u001b[0;34m\u001b[0m\u001b[0;34m\u001b[0m\u001b[0m\n\u001b[0;32m-> 1051\u001b[0;31m         \u001b[0mloc\u001b[0m \u001b[0;34m=\u001b[0m \u001b[0mself\u001b[0m\u001b[0;34m.\u001b[0m\u001b[0mindex\u001b[0m\u001b[0;34m.\u001b[0m\u001b[0mget_loc\u001b[0m\u001b[0;34m(\u001b[0m\u001b[0mlabel\u001b[0m\u001b[0;34m)\u001b[0m\u001b[0;34m\u001b[0m\u001b[0;34m\u001b[0m\u001b[0m\n\u001b[0m\u001b[1;32m   1052\u001b[0m         \u001b[0;32mreturn\u001b[0m \u001b[0mself\u001b[0m\u001b[0;34m.\u001b[0m\u001b[0mindex\u001b[0m\u001b[0;34m.\u001b[0m\u001b[0m_get_values_for_loc\u001b[0m\u001b[0;34m(\u001b[0m\u001b[0mself\u001b[0m\u001b[0;34m,\u001b[0m \u001b[0mloc\u001b[0m\u001b[0;34m,\u001b[0m \u001b[0mlabel\u001b[0m\u001b[0;34m)\u001b[0m\u001b[0;34m\u001b[0m\u001b[0;34m\u001b[0m\u001b[0m\n\u001b[1;32m   1053\u001b[0m \u001b[0;34m\u001b[0m\u001b[0m\n",
      "\u001b[0;32m~/python/miniconda/envs/coursnlp/lib/python3.7/site-packages/pandas/core/indexes/range.py\u001b[0m in \u001b[0;36mget_loc\u001b[0;34m(self, key, method, tolerance)\u001b[0m\n\u001b[1;32m    385\u001b[0m                     \u001b[0;32mreturn\u001b[0m \u001b[0mself\u001b[0m\u001b[0;34m.\u001b[0m\u001b[0m_range\u001b[0m\u001b[0;34m.\u001b[0m\u001b[0mindex\u001b[0m\u001b[0;34m(\u001b[0m\u001b[0mnew_key\u001b[0m\u001b[0;34m)\u001b[0m\u001b[0;34m\u001b[0m\u001b[0;34m\u001b[0m\u001b[0m\n\u001b[1;32m    386\u001b[0m                 \u001b[0;32mexcept\u001b[0m \u001b[0mValueError\u001b[0m \u001b[0;32mas\u001b[0m \u001b[0merr\u001b[0m\u001b[0;34m:\u001b[0m\u001b[0;34m\u001b[0m\u001b[0;34m\u001b[0m\u001b[0m\n\u001b[0;32m--> 387\u001b[0;31m                     \u001b[0;32mraise\u001b[0m \u001b[0mKeyError\u001b[0m\u001b[0;34m(\u001b[0m\u001b[0mkey\u001b[0m\u001b[0;34m)\u001b[0m \u001b[0;32mfrom\u001b[0m \u001b[0merr\u001b[0m\u001b[0;34m\u001b[0m\u001b[0;34m\u001b[0m\u001b[0m\n\u001b[0m\u001b[1;32m    388\u001b[0m             \u001b[0;32mraise\u001b[0m \u001b[0mKeyError\u001b[0m\u001b[0;34m(\u001b[0m\u001b[0mkey\u001b[0m\u001b[0;34m)\u001b[0m\u001b[0;34m\u001b[0m\u001b[0;34m\u001b[0m\u001b[0m\n\u001b[1;32m    389\u001b[0m         \u001b[0;32mreturn\u001b[0m \u001b[0msuper\u001b[0m\u001b[0;34m(\u001b[0m\u001b[0;34m)\u001b[0m\u001b[0;34m.\u001b[0m\u001b[0mget_loc\u001b[0m\u001b[0;34m(\u001b[0m\u001b[0mkey\u001b[0m\u001b[0;34m,\u001b[0m \u001b[0mmethod\u001b[0m\u001b[0;34m=\u001b[0m\u001b[0mmethod\u001b[0m\u001b[0;34m,\u001b[0m \u001b[0mtolerance\u001b[0m\u001b[0;34m=\u001b[0m\u001b[0mtolerance\u001b[0m\u001b[0;34m)\u001b[0m\u001b[0;34m\u001b[0m\u001b[0;34m\u001b[0m\u001b[0m\n",
      "\u001b[0;31mKeyError\u001b[0m: 358"
     ]
    }
   ],
   "source": [
    "from typing import List\n",
    "from pie_extended.cli.utils import get_tagger, get_model, download\n",
    "\n",
    "# In case you need to download\n",
    "do_download = False\n",
    "if do_download:\n",
    "    for dl in download(\"lasla\"):\n",
    "        x = 1\n",
    "\n",
    "# model_path allows you to override the model loaded by another .tar\n",
    "model_name = \"lasla\"\n",
    "tagger = get_tagger(model_name, batch_size=256, device=\"cpu\", model_path=None)\n",
    "\n",
    "\n",
    "\n",
    "i = 217\n",
    "while i <= 358:\n",
    "    \n",
    "    liste_lemmes = []\n",
    "    \n",
    "    sentences: List[str] = [df['text'][i]]\n",
    "    # Get the main object from the model (: data iterator + postprocesor\n",
    "    from pie_extended.models.lasla.imports import get_iterator_and_processor\n",
    "    for sentence_group in sentences:\n",
    "        iterator, processor = get_iterator_and_processor()\n",
    "        lemma = tagger.tag_str(sentence_group, iterator=iterator, processor=processor) \n",
    "\n",
    "    for elm in lemma:\n",
    "        if elm['pos'] == 'ADJqua' or elm['pos'] == 'VER' or elm['pos'] == 'NOMcom' or elm['pos'] == 'NOMpro' or elm['pos'] == 'ADJcar' or elm['pos'] == 'ADJord' or elm['pos'] == 'ADJmul' or elm['pos'] == 'ADJdis':\n",
    "            liste_lemmes.append(elm['lemma'])\n",
    "    texte = ' '.join(liste_lemmes)\n",
    "    \n",
    "    with open(f'texte_{i+1}.txt','w') as file:\n",
    "        file.write(texte)\n",
    "    i+=1\n"
   ]
  },
  {
   "cell_type": "code",
   "execution_count": 48,
   "id": "9826c33e",
   "metadata": {},
   "outputs": [],
   "source": [
    "from typing import List\n",
    "from pie_extended.cli.utils import get_tagger, get_model, download\n",
    "\n",
    "# In case you need to download\n",
    "do_download = False\n",
    "if do_download:\n",
    "    for dl in download(\"lasla\"):\n",
    "        x = 1\n",
    "\n",
    "# model_path allows you to override the model loaded by another .tar\n",
    "model_name = \"lasla\"\n",
    "tagger = get_tagger(model_name, batch_size=256, device=\"cpu\", model_path=None)\n",
    "\n",
    "\n",
    "i = 214\n",
    "liste_lemmes = []\n",
    "\n",
    "sentences: List[str] = [df['text'][i]]\n",
    "# Get the main object from the model (: data iterator + postprocesor\n",
    "from pie_extended.models.lasla.imports import get_iterator_and_processor\n",
    "for sentence_group in sentences:\n",
    "    iterator, processor = get_iterator_and_processor()\n",
    "    lemma = tagger.tag_str(sentence_group, iterator=iterator, processor=processor) \n",
    "\n",
    "for elm in lemma:\n",
    "    if elm['pos'] == 'ADJqua' or elm['pos'] == 'VER' or elm['pos'] == 'NOMcom' or elm['pos'] == 'NOMpro' or elm['pos'] == 'ADJcar' or elm['pos'] == 'ADJord' or elm['pos'] == 'ADJmul' or elm['pos'] == 'ADJdis':\n",
    "        liste_lemmes.append(elm['lemma'])\n",
    "texte = ' '.join(liste_lemmes)\n",
    "with open(f'texte_{i+1}.txt','w') as file:\n",
    "    file.write(texte)"
   ]
  },
  {
   "cell_type": "code",
   "execution_count": 52,
   "id": "95e3c463",
   "metadata": {},
   "outputs": [],
   "source": [
    "with open('a_changer','r') as file:\n",
    "    data = file.readlines()"
   ]
  },
  {
   "cell_type": "code",
   "execution_count": 53,
   "id": "5effab30",
   "metadata": {},
   "outputs": [],
   "source": [
    "texte = ' '.join(data)"
   ]
  },
  {
   "cell_type": "code",
   "execution_count": 56,
   "id": "ddda5d72",
   "metadata": {},
   "outputs": [],
   "source": [
    "i = 0\n",
    "lemmas = []\n",
    "\n",
    "while i < 358:\n",
    "    with open(f'texte_{i+1}.txt','r') as file:\n",
    "        data = file.readlines()\n",
    "    lemmas.extend(data)\n",
    "    i+=1"
   ]
  },
  {
   "cell_type": "code",
   "execution_count": 61,
   "id": "9e367c44",
   "metadata": {},
   "outputs": [],
   "source": [
    "df['lemma'] = lemmas"
   ]
  },
  {
   "cell_type": "code",
   "execution_count": 63,
   "id": "2ed0ee6d",
   "metadata": {},
   "outputs": [],
   "source": [
    "df.to_excel('Guérin_dataframe.xlsx')"
   ]
  }
 ],
 "metadata": {
  "kernelspec": {
   "display_name": "Python 3 (ipykernel)",
   "language": "python",
   "name": "python3"
  },
  "language_info": {
   "codemirror_mode": {
    "name": "ipython",
    "version": 3
   },
   "file_extension": ".py",
   "mimetype": "text/x-python",
   "name": "python",
   "nbconvert_exporter": "python",
   "pygments_lexer": "ipython3",
   "version": "3.9.7"
  }
 },
 "nbformat": 4,
 "nbformat_minor": 5
}

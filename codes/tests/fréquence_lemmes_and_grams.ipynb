{
 "cells": [
  {
   "cell_type": "code",
   "execution_count": 207,
   "id": "62783de9",
   "metadata": {},
   "outputs": [],
   "source": [
    "import pandas as pd\n",
    "from collections import Counter\n",
    "import nltk\n",
    "from nltk.util import ngrams\n",
    "import os\n",
    "import string"
   ]
  },
  {
   "cell_type": "code",
   "execution_count": 208,
   "id": "a7f10911",
   "metadata": {},
   "outputs": [],
   "source": [
    "path = '/home/noe/Documents/2022-2023/ENC/Mémoire/Dataframes/PDV_lemmes.xlsx'\n",
    "path_2 = '/home/noe/Documents/2022-2023/ENC/Mémoire/Dataframes/Guérin_dataframe.xlsx'\n",
    "path_3 = '/home/noe/Documents/2022-2023/ENC/Mémoire/Dataframes/Viard_dataframe.xlsx'"
   ]
  },
  {
   "cell_type": "code",
   "execution_count": 209,
   "id": "f4790de6",
   "metadata": {},
   "outputs": [],
   "source": [
    "pdv = pd.read_excel(path)\n",
    "guerin = pd.read_excel(path_2)\n",
    "viard = pd.read_excel(path_3)"
   ]
  },
  {
   "cell_type": "code",
   "execution_count": 210,
   "id": "717bcec8",
   "metadata": {},
   "outputs": [],
   "source": [
    "counter = []\n",
    "deux = []\n",
    "trois = []\n",
    "\n",
    "for i in range(len(df)):\n",
    "    counter.append([dict(Counter(pdv['lemma'][i].split()).most_common())])\n",
    "for i in range(len(df_2)):\n",
    "    deux.append([dict(Counter(guerin['lemma'][i].split()).most_common())])\n",
    "for i in range(len(df_3)):\n",
    "    trois.append([dict(Counter(viard['lemmas'][i].split()).most_common())])"
   ]
  },
  {
   "cell_type": "code",
   "execution_count": 211,
   "id": "71861851",
   "metadata": {},
   "outputs": [],
   "source": [
    "pdv['lemma_count'] = counter\n",
    "guerin['lemma_count'] = deux\n",
    "viard['lemma_count'] = trois"
   ]
  },
  {
   "cell_type": "code",
   "execution_count": 212,
   "id": "645fc2b6",
   "metadata": {},
   "outputs": [],
   "source": [
    "bigrams_pdv = []\n",
    "\n",
    "for i in range(len(pdv)):\n",
    "    \n",
    "    liste = []\n",
    "    \n",
    "    n = 2\n",
    "    grams = ngrams(pdv['textes'][i].lower().split(), n)\n",
    "    \n",
    "    for gram in grams:\n",
    "        liste.append(gram)\n",
    "    bigrams_pdv.append(liste)\n",
    "    \n",
    "bigrams_guerin = []\n",
    "\n",
    "for i in range(len(guerin)):\n",
    "    \n",
    "    liste = []\n",
    "    \n",
    "    n = 2\n",
    "    grams = ngrams(guerin['text'][i].lower().split(), n)\n",
    "    \n",
    "    for gram in grams:\n",
    "        liste.append(gram)\n",
    "    bigrams_guerin.append(liste)\n",
    "    \n",
    "bigrams_viard = []\n",
    "\n",
    "for i in range(len(viard)):\n",
    "    \n",
    "    liste = []\n",
    "    \n",
    "    n = 2\n",
    "    grams = ngrams(viard['text'][i].lower().split(), n)\n",
    "    \n",
    "    for gram in grams:\n",
    "        liste.append(gram)\n",
    "    bigrams_viard.append(liste)"
   ]
  },
  {
   "cell_type": "code",
   "execution_count": 213,
   "id": "36642063",
   "metadata": {},
   "outputs": [],
   "source": [
    "trigrams_pdv = []\n",
    "\n",
    "for i in range(len(pdv)):\n",
    "    \n",
    "    liste = []\n",
    "    \n",
    "    n = 3\n",
    "    grams = ngrams(pdv['textes'][i].lower().split(), n)\n",
    "    \n",
    "    for gram in grams:\n",
    "        liste.append(gram)\n",
    "    trigrams_pdv.append(liste)\n",
    "    \n",
    "trigrams_guerin = []\n",
    "\n",
    "for i in range(len(guerin)):\n",
    "    \n",
    "    liste = []\n",
    "    \n",
    "    n = 3\n",
    "    grams = ngrams(guerin['text'][i].lower().split(), n)\n",
    "    \n",
    "    for gram in grams:\n",
    "        liste.append(gram)\n",
    "    trigrams_guerin.append(liste)\n",
    "    \n",
    "trigrams_viard = []\n",
    "\n",
    "for i in range(len(viard)):\n",
    "    \n",
    "    liste = []\n",
    "    \n",
    "    n = 3\n",
    "    grams = ngrams(viard['text'][i].lower().split(), n)\n",
    "    \n",
    "    for gram in grams:\n",
    "        liste.append(gram)\n",
    "    trigrams_viard.append(liste)"
   ]
  },
  {
   "cell_type": "code",
   "execution_count": 214,
   "id": "b7cc826c",
   "metadata": {},
   "outputs": [],
   "source": [
    "quadrigrams_pdv = []\n",
    "\n",
    "for i in range(len(pdv)):\n",
    "    \n",
    "    liste = []\n",
    "    \n",
    "    n = 4\n",
    "    grams = ngrams(pdv['textes'][i].lower().split(), n)\n",
    "    \n",
    "    for gram in grams:\n",
    "        liste.append(gram)\n",
    "    quadrigrams_pdv.append(liste)\n",
    "    \n",
    "quadrigrams_guerin = []\n",
    "\n",
    "for i in range(len(guerin)):\n",
    "    \n",
    "    liste = []\n",
    "    \n",
    "    n = 4\n",
    "    grams = ngrams(guerin['text'][i].lower().split(), n)\n",
    "    \n",
    "    for gram in grams:\n",
    "        liste.append(gram)\n",
    "    quadrigrams_guerin.append(liste)\n",
    "    \n",
    "quadrigrams_viard = []\n",
    "\n",
    "for i in range(len(viard)):\n",
    "    \n",
    "    liste = []\n",
    "    \n",
    "    n = 4\n",
    "    grams = ngrams(viard['text'][i].lower().split(), n)\n",
    "    \n",
    "    for gram in grams:\n",
    "        liste.append(gram)\n",
    "    quadrigrams_viard.append(liste)"
   ]
  },
  {
   "cell_type": "code",
   "execution_count": 215,
   "id": "4b476267",
   "metadata": {},
   "outputs": [],
   "source": [
    "quintigrams_pdv = []\n",
    "\n",
    "for i in range(len(pdv)):\n",
    "    \n",
    "    liste = []\n",
    "    \n",
    "    n = 5\n",
    "    grams = ngrams(pdv['textes'][i].lower().split(), n)\n",
    "    \n",
    "    for gram in grams:\n",
    "        liste.append(gram)\n",
    "    quintigrams_pdv.append(liste)\n",
    "    \n",
    "quintigrams_guerin = []\n",
    "\n",
    "for i in range(len(guerin)):\n",
    "    \n",
    "    liste = []\n",
    "    \n",
    "    n = 5\n",
    "    grams = ngrams(guerin['text'][i].lower().split(), n)\n",
    "    \n",
    "    for gram in grams:\n",
    "        liste.append(gram)\n",
    "    quintigrams_guerin.append(liste)\n",
    "    \n",
    "quintigrams_viard = []\n",
    "\n",
    "for i in range(len(viard)):\n",
    "    \n",
    "    liste = []\n",
    "    \n",
    "    n = 5\n",
    "    grams = ngrams(viard['text'][i].lower().split(), n)\n",
    "    \n",
    "    for gram in grams:\n",
    "        liste.append(gram)\n",
    "    quintigrams_viard.append(liste)"
   ]
  },
  {
   "cell_type": "code",
   "execution_count": 216,
   "id": "eb31c5f6",
   "metadata": {},
   "outputs": [],
   "source": [
    "pdv['bigrams'] = bigrams_pdv\n",
    "guerin['bigrams'] = bigrams_guerin\n",
    "viard['bigrams'] = bigrams_viard"
   ]
  },
  {
   "cell_type": "code",
   "execution_count": 217,
   "id": "6aa1f8bd",
   "metadata": {},
   "outputs": [],
   "source": [
    "pdv['trigrams'] = trigrams_pdv\n",
    "guerin['trigrams'] = trigrams_guerin\n",
    "viard['trigrams'] = trigrams_viard"
   ]
  },
  {
   "cell_type": "code",
   "execution_count": 218,
   "id": "605b33a9",
   "metadata": {},
   "outputs": [],
   "source": [
    "pdv['quadrigrams'] = quadrigrams_pdv\n",
    "guerin['quadrigrams'] = quadrigrams_guerin\n",
    "viard['quadrigrams'] = quadrigrams_viard"
   ]
  },
  {
   "cell_type": "code",
   "execution_count": 219,
   "id": "bfe2feda",
   "metadata": {},
   "outputs": [],
   "source": [
    "pdv['quintigrams'] = quintigrams_pdv\n",
    "guerin['quintigrams'] = quintigrams_guerin\n",
    "viard['quintigrams'] = quintigrams_viard"
   ]
  },
  {
   "cell_type": "code",
   "execution_count": 220,
   "id": "861ce0d1",
   "metadata": {},
   "outputs": [],
   "source": [
    "path = '/home/noe/Documents/2022-2023/ENC/Mémoire/Dataframes/'\n",
    "os.chdir(path)"
   ]
  },
  {
   "cell_type": "code",
   "execution_count": 221,
   "id": "7ec42014",
   "metadata": {},
   "outputs": [],
   "source": [
    "x = pdv['trigrams'][0]"
   ]
  },
  {
   "cell_type": "code",
   "execution_count": 226,
   "id": "ecf56b03",
   "metadata": {},
   "outputs": [],
   "source": [
    "def clean_trigrams(trigrams):\n",
    "    # Remove punctuation, quotation marks, and '«' from each trigram\n",
    "    table = str.maketrans('', '', string.punctuation)\n",
    "    clean_trigrams = []\n",
    "    for trigram in trigrams:\n",
    "        clean_trigram = tuple([word.translate(table).replace(\"'\", \"\").lstrip('«').rstrip('»') for word in trigram])\n",
    "        clean_trigrams.append(clean_trigram)\n",
    "    return clean_trigrams"
   ]
  },
  {
   "cell_type": "code",
   "execution_count": 227,
   "id": "bdb36bdc",
   "metadata": {},
   "outputs": [],
   "source": [
    "viard['bigrams'] = viard['bigrams'].apply(clean_trigrams)\n",
    "viard['trigrams'] = viard['trigrams'].apply(clean_trigrams)\n",
    "viard['quadrigrams'] = viard['quadrigrams'].apply(clean_trigrams)\n",
    "viard['quintigrams'] = viard['quintigrams'].apply(clean_trigrams)\n",
    "\n",
    "guerin['bigrams'] = guerin['bigrams'].apply(clean_trigrams)\n",
    "guerin['trigrams'] = guerin['trigrams'].apply(clean_trigrams)\n",
    "guerin['quadrigrams'] = guerin['quadrigrams'].apply(clean_trigrams)\n",
    "guerin['quintigrams'] = guerin['quintigrams'].apply(clean_trigrams)\n",
    "\n",
    "pdv['bigrams'] = pdv['bigrams'].apply(clean_trigrams)\n",
    "pdv['trigrams'] = pdv['trigrams'].apply(clean_trigrams)\n",
    "pdv['quadrigrams'] = pdv['quadrigrams'].apply(clean_trigrams)\n",
    "pdv['quintigrams'] = pdv['quintigrams'].apply(clean_trigrams)"
   ]
  },
  {
   "cell_type": "code",
   "execution_count": 229,
   "id": "f8f874ae",
   "metadata": {},
   "outputs": [],
   "source": [
    "viard.to_excel('Viard_grams.xlsx')\n",
    "guerin.to_excel('Guerin_grams.xlsx')\n",
    "pdv.to_excel('PDV_grams.xlsx')"
   ]
  },
  {
   "cell_type": "code",
   "execution_count": 276,
   "id": "92473787",
   "metadata": {
    "scrolled": true
   },
   "outputs": [],
   "source": [
    "test = []\n",
    "for i in range(len(pdv)):\n",
    "    for grams in pdv['quintigrams'][i]:\n",
    "        for line in range(len(guerin)):\n",
    "            if grams in guerin['quintigrams'][line]:\n",
    "                test.append(grams)"
   ]
  },
  {
   "cell_type": "code",
   "execution_count": 280,
   "id": "949dace7",
   "metadata": {},
   "outputs": [
    {
     "data": {
      "text/plain": [
       "[('nobis', 'humiliter', 'supplicarunt', 'ut', 'cum'),\n",
       " ('nobis', 'et', 'successoribus', 'nostris', 'in'),\n",
       " ('quam', 'futuris', 'quod', 'nos', 'attendentes'),\n",
       " ('tam', 'presentibus', 'quam', 'futuris', 'quod'),\n",
       " ('speciali', 'gratia', 'et', 'certa', 'scientia'),\n",
       " ('presentibus', 'quam', 'futuris', 'quod', 'licet'),\n",
       " ('presentibus', 'quam', 'futuris', 'quod', 'cum'),\n",
       " ('fidelitate', 'nostra', 'et', 'heredum', 'nostrorum'),\n",
       " ('tam', 'in', 'personis', 'quam', 'in'),\n",
       " ('presentibus', 'quam', 'futuris', 'quod', 'nos'),\n",
       " ('qua', 'fungimur', 'in', 'hac', 'parte'),\n",
       " ('nobis', 'et', 'successoribus', 'nostris', 'et'),\n",
       " ('de', 'predictis', 'omnibus', 'et', 'singulis'),\n",
       " ('et', 'cetera', 'datum', 'et', 'cetera'),\n",
       " ('qui', 'est', 'in', 'ripa', 'fluminis'),\n",
       " ('nostra', 'et', 'heredum', 'nostrorum', 'et')]"
      ]
     },
     "execution_count": 280,
     "metadata": {},
     "output_type": "execute_result"
    }
   ],
   "source": [
    "list(set(test))"
   ]
  },
  {
   "cell_type": "code",
   "execution_count": 281,
   "id": "037d38f6",
   "metadata": {},
   "outputs": [],
   "source": [
    "quatre = []\n",
    "\n",
    "for i in range(len(pdv)):\n",
    "    for grams in pdv['quadrigrams'][i]:\n",
    "        for line in range(len(guerin)):\n",
    "            if grams in guerin['quadrigrams'][line]:\n",
    "                quatre.append(grams)"
   ]
  },
  {
   "cell_type": "code",
   "execution_count": 285,
   "id": "af9fb254",
   "metadata": {
    "scrolled": true
   },
   "outputs": [
    {
     "data": {
      "text/plain": [
       "[('nobis', 'et', 'heredibus', 'nostris'),\n",
       " ('sint', 'et', 'in', 'quibus'),\n",
       " ('nostrum', 'et', 'ipsius', 'regni'),\n",
       " ('nobis', 'et', 'predecessoribus', 'nostris'),\n",
       " ('est', 'in', 'ripa', 'fluminis'),\n",
       " ('futuris', 'quod', 'nos', 'attendentes'),\n",
       " ('nostro', 'pro', 'eo', 'quod'),\n",
       " ('coram', 'nobis', 'et', 'ad'),\n",
       " ('per', 'nos', 'super', 'hoc'),\n",
       " ('et', 'aliis', 'fidelibus', 'nostris'),\n",
       " ('semper', 'habuimus', 'et', 'habemus'),\n",
       " ('qui', 'pro', 'tempore', 'fuerint'),\n",
       " ('dederimus', 'in', 'mandatis', 'ut'),\n",
       " ('de', 'nostra', 'gratia', 'speciali'),\n",
       " ('et', 'heredum', 'nostrorum', 'et'),\n",
       " ('vobis', 'igitur', 'de', 'quorum'),\n",
       " ('speciali', 'gratia', 'et', 'certa'),\n",
       " ('ex', 'nunc', 'in', 'antea'),\n",
       " ('nobis', 'humiliter', 'supplicarunt', 'ut'),\n",
       " ('qua', 'fungimur', 'in', 'hac'),\n",
       " ('et', 'successoribus', 'nostris', 'in'),\n",
       " ('regni', 'nostri', 'et', 'maxime'),\n",
       " ('quam', 'erga', 'nos', 'et'),\n",
       " ('de', 'die', 'in', 'diem'),\n",
       " ('et', 'ad', 'omnes', 'actus'),\n",
       " ('et', 'in', 'quibus', 'non'),\n",
       " ('humiliter', 'supplicarunt', 'ut', 'cum'),\n",
       " ('et', 'rebus', 'aliis', 'ad'),\n",
       " ('quam', 'futuris', 'quod', 'cum'),\n",
       " ('extitit', 'humiliter', 'supplicatum', 'ut'),\n",
       " ('in', 'eisdem', 'litteris', 'continetur'),\n",
       " ('in', 'loco', 'qui', 'dicitur'),\n",
       " ('gratia', 'et', 'certa', 'scientia'),\n",
       " ('et', 'ex', 'certa', 'scientia'),\n",
       " ('et', 'cetera', 'datum', 'et'),\n",
       " ('qui', 'est', 'in', 'ripa'),\n",
       " ('quam', 'futuris', 'quod', 'licet'),\n",
       " ('gaudeant', 'et', 'utantur', 'et'),\n",
       " ('presentibus', 'quam', 'futuris', 'quod'),\n",
       " ('ad', 'partes', 'ipsas', 'in'),\n",
       " ('nos', 'autem', 'attendentes', 'grata'),\n",
       " ('in', 'personis', 'quam', 'in'),\n",
       " ('super', 'omnibus', 'et', 'singulis'),\n",
       " ('presentibus', 'et', 'futuris', 'et'),\n",
       " ('nobis', 'in', 'hac', 'parte'),\n",
       " ('et', 'ad', 'statum', 'pristinum'),\n",
       " ('nos', 'et', 'successores', 'nostros'),\n",
       " ('per', 'nos', 'et', 'nostros'),\n",
       " ('tam', 'presentibus', 'quam', 'futuris'),\n",
       " ('et', 'suis', 'heredibus', 'in'),\n",
       " ('more', 'solito', 'auctoritate', 'nostra'),\n",
       " ('predictis', 'omnibus', 'et', 'singulis'),\n",
       " ('ex', 'ore', 'sedentis', 'in'),\n",
       " ('et', 'aliorum', 'suorum', 'complicum'),\n",
       " ('et', 'heredibus', 'suis', 'in'),\n",
       " ('et', 'cetera', 'notum', 'facimus'),\n",
       " ('statum', 'pristinum', 'et', 'debitum'),\n",
       " ('in', 'omnibus', 'suis', 'capitulis'),\n",
       " ('et', 'heredibus', 'suis', 'de'),\n",
       " ('et', 'ex', 'parte', 'nostra'),\n",
       " ('de', 'omnibus', 'et', 'singulis'),\n",
       " ('et', 'bonis', 'suis', 'omnibus'),\n",
       " ('in', 'omnibus', 'et', 'singulis'),\n",
       " ('nostra', 'et', 'heredum', 'nostrorum'),\n",
       " ('de', 'fructibus', 'seu', 'redditibus'),\n",
       " ('ex', 'parte', 'una', 'et'),\n",
       " ('de', 'speciali', 'gratia', 'et'),\n",
       " ('tam', 'in', 'personis', 'quam'),\n",
       " ('propter', 'hoc', 'ad', 'partes'),\n",
       " ('fungimur', 'in', 'hac', 'parte'),\n",
       " ('et', 'successoribus', 'nostris', 'et'),\n",
       " ('nobis', 'et', 'successoribus', 'nostris'),\n",
       " ('presentes', 'litteras', 'inspecturis', 'et'),\n",
       " ('fidelitate', 'nostra', 'et', 'heredum'),\n",
       " ('in', 'dei', 'nomine', 'amen'),\n",
       " ('cetera', 'datum', 'et', 'cetera'),\n",
       " ('de', 'bono', 'in', 'melius'),\n",
       " ('quam', 'futuris', 'quod', 'nos'),\n",
       " ('de', 'predictis', 'omnibus', 'et')]"
      ]
     },
     "execution_count": 285,
     "metadata": {},
     "output_type": "execute_result"
    }
   ],
   "source": [
    "list(set(quatre))"
   ]
  },
  {
   "cell_type": "code",
   "execution_count": 286,
   "id": "71ebfa54",
   "metadata": {},
   "outputs": [],
   "source": [
    "trois = []\n",
    "\n",
    "for i in range(len(pdv)):\n",
    "    for grams in pdv['trigrams'][i]:\n",
    "        for line in range(len(guerin)):\n",
    "            if grams in guerin['trigrams'][line]:\n",
    "                trois.append(grams)"
   ]
  },
  {
   "cell_type": "code",
   "execution_count": 288,
   "id": "d3076cd3",
   "metadata": {},
   "outputs": [
    {
     "data": {
      "text/plain": [
       "8666"
      ]
     },
     "execution_count": 288,
     "metadata": {},
     "output_type": "execute_result"
    }
   ],
   "source": [
    "len(trois)"
   ]
  },
  {
   "cell_type": "code",
   "execution_count": 289,
   "id": "8be22798",
   "metadata": {},
   "outputs": [],
   "source": [
    "deux = []\n",
    "\n",
    "for i in range(len(pdv)):\n",
    "    for grams in pdv['bigrams'][i]:\n",
    "        for line in range(len(guerin)):\n",
    "            if grams in guerin['bigrams'][line]:\n",
    "                deux.append(grams)"
   ]
  },
  {
   "cell_type": "code",
   "execution_count": 291,
   "id": "8e5fe41e",
   "metadata": {},
   "outputs": [
    {
     "data": {
      "text/plain": [
       "160562"
      ]
     },
     "execution_count": 291,
     "metadata": {},
     "output_type": "execute_result"
    }
   ],
   "source": [
    "len(deux)"
   ]
  },
  {
   "cell_type": "code",
   "execution_count": null,
   "id": "4cdc2846",
   "metadata": {},
   "outputs": [],
   "source": []
  }
 ],
 "metadata": {
  "kernelspec": {
   "display_name": "Python 3 (ipykernel)",
   "language": "python",
   "name": "python3"
  },
  "language_info": {
   "codemirror_mode": {
    "name": "ipython",
    "version": 3
   },
   "file_extension": ".py",
   "mimetype": "text/x-python",
   "name": "python",
   "nbconvert_exporter": "python",
   "pygments_lexer": "ipython3",
   "version": "3.9.7"
  }
 },
 "nbformat": 4,
 "nbformat_minor": 5
}

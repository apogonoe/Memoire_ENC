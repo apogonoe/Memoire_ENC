{
 "cells": [
  {
   "cell_type": "code",
   "execution_count": 22,
   "id": "21110029",
   "metadata": {},
   "outputs": [],
   "source": [
    "import pandas as pd\n",
    "import os\n",
    "import re\n",
    "from tqdm import tqdm\n",
    "import ast\n",
    "import scipy.cluster.hierarchy as shc\n",
    "from scipy.spatial.distance import pdist, squareform\n",
    "import matplotlib.pyplot as plt\n",
    "import statistics\n"
   ]
  },
  {
   "cell_type": "code",
   "execution_count": 23,
   "id": "3aeab3e9",
   "metadata": {},
   "outputs": [],
   "source": [
    "file = '/home/noe/Documents/2022-2023/ENC/Mémoire/Dataframes/PDV_grams.xlsx'"
   ]
  },
  {
   "cell_type": "code",
   "execution_count": 24,
   "id": "8648cc53",
   "metadata": {},
   "outputs": [],
   "source": [
    "df = pd.read_excel(file)"
   ]
  },
  {
   "cell_type": "code",
   "execution_count": 25,
   "id": "59985d3d",
   "metadata": {},
   "outputs": [],
   "source": [
    "def livre_id(string):\n",
    "    new_str = re.sub(r'[A-Za-z]','', string)\n",
    "    return new_str"
   ]
  },
  {
   "cell_type": "code",
   "execution_count": 26,
   "id": "4c5e82b7",
   "metadata": {},
   "outputs": [],
   "source": [
    "filtre = df[df['textes'].apply(len) > 1000]\n",
    "filtre = filtre.reset_index()"
   ]
  },
  {
   "cell_type": "code",
   "execution_count": 27,
   "id": "832c7823",
   "metadata": {},
   "outputs": [
    {
     "name": "stderr",
     "output_type": "stream",
     "text": [
      "/home/noe/python/miniconda/envs/coursnlp/lib/python3.7/site-packages/ipykernel_launcher.py:3: SettingWithCopyWarning: \n",
      "A value is trying to be set on a copy of a slice from a DataFrame\n",
      "\n",
      "See the caveats in the documentation: https://pandas.pydata.org/pandas-docs/stable/user_guide/indexing.html#returning-a-view-versus-a-copy\n",
      "  This is separate from the ipykernel package so we can avoid doing imports until\n"
     ]
    }
   ],
   "source": [
    "filtre['ID'] = ''\n",
    "for i in range(len(filtre)):\n",
    "    filtre['ID'][i] = str(filtre['Livre'][i])+'_'+ str(filtre['Numéro de la charte'][i])"
   ]
  },
  {
   "cell_type": "code",
   "execution_count": 28,
   "id": "13a25825",
   "metadata": {},
   "outputs": [],
   "source": [
    "filtre['ID'] = filtre['ID'].apply(livre_id)\n",
    "filtre = filtre[['ID','textes']]"
   ]
  },
  {
   "cell_type": "code",
   "execution_count": 29,
   "id": "60c95991",
   "metadata": {},
   "outputs": [],
   "source": [
    "def thousand(string):\n",
    "    final = string[:1000]\n",
    "    return final"
   ]
  },
  {
   "cell_type": "code",
   "execution_count": 30,
   "id": "db8eb919",
   "metadata": {},
   "outputs": [],
   "source": [
    "def relative_frequency(string):\n",
    "    from collections import Counter\n",
    "    \n",
    "    "
   ]
  },
  {
   "cell_type": "code",
   "execution_count": 32,
   "id": "94b0afe1",
   "metadata": {},
   "outputs": [
    {
     "data": {
      "text/html": [
       "<div>\n",
       "<style scoped>\n",
       "    .dataframe tbody tr th:only-of-type {\n",
       "        vertical-align: middle;\n",
       "    }\n",
       "\n",
       "    .dataframe tbody tr th {\n",
       "        vertical-align: top;\n",
       "    }\n",
       "\n",
       "    .dataframe thead th {\n",
       "        text-align: right;\n",
       "    }\n",
       "</style>\n",
       "<table border=\"1\" class=\"dataframe\">\n",
       "  <thead>\n",
       "    <tr style=\"text-align: right;\">\n",
       "      <th></th>\n",
       "      <th>ID</th>\n",
       "      <th>textes</th>\n",
       "    </tr>\n",
       "  </thead>\n",
       "  <tbody>\n",
       "    <tr>\n",
       "      <th>0</th>\n",
       "      <td>1_1</td>\n",
       "      <td>Collegerunt pontifices et Pharisei consilium i...</td>\n",
       "    </tr>\n",
       "    <tr>\n",
       "      <th>1</th>\n",
       "      <td>1_2</td>\n",
       "      <td>Illos felices describit antiquitas, quibus ex ...</td>\n",
       "    </tr>\n",
       "    <tr>\n",
       "      <th>2</th>\n",
       "      <td>1_3</td>\n",
       "      <td>Etsi causae nostrae iustitiam, uulgaris famae ...</td>\n",
       "    </tr>\n",
       "    <tr>\n",
       "      <th>3</th>\n",
       "      <td>1_4</td>\n",
       "      <td>Ne per excogitatae malignitatis astutiam iste ...</td>\n",
       "    </tr>\n",
       "    <tr>\n",
       "      <th>4</th>\n",
       "      <td>1_5</td>\n",
       "      <td>Virum industrium et illustrem R., comitem Thol...</td>\n",
       "    </tr>\n",
       "    <tr>\n",
       "      <th>...</th>\n",
       "      <td>...</td>\n",
       "      <td>...</td>\n",
       "    </tr>\n",
       "    <tr>\n",
       "      <th>213</th>\n",
       "      <td>6_16</td>\n",
       "      <td>Dignum esse decernimus et consentaneum rationi...</td>\n",
       "    </tr>\n",
       "    <tr>\n",
       "      <th>214</th>\n",
       "      <td>6_18</td>\n",
       "      <td>Quam sit fauorabilis magnificentia Cesaris, et...</td>\n",
       "    </tr>\n",
       "    <tr>\n",
       "      <th>215</th>\n",
       "      <td>6_20</td>\n",
       "      <td>Illa fruimur ex Imperii dignitate mansuetudine...</td>\n",
       "    </tr>\n",
       "    <tr>\n",
       "      <th>216</th>\n",
       "      <td>6_25</td>\n",
       "      <td>Etsi munificentiae nostrae gratiam libenter ex...</td>\n",
       "    </tr>\n",
       "    <tr>\n",
       "      <th>217</th>\n",
       "      <td>6_26</td>\n",
       "      <td>Principium epistulae. Fridericus duci Austriae...</td>\n",
       "    </tr>\n",
       "  </tbody>\n",
       "</table>\n",
       "<p>218 rows × 2 columns</p>\n",
       "</div>"
      ],
      "text/plain": [
       "        ID                                             textes\n",
       "0      1_1  Collegerunt pontifices et Pharisei consilium i...\n",
       "1      1_2  Illos felices describit antiquitas, quibus ex ...\n",
       "2      1_3  Etsi causae nostrae iustitiam, uulgaris famae ...\n",
       "3      1_4  Ne per excogitatae malignitatis astutiam iste ...\n",
       "4      1_5  Virum industrium et illustrem R., comitem Thol...\n",
       "..     ...                                                ...\n",
       "213   6_16  Dignum esse decernimus et consentaneum rationi...\n",
       "214   6_18  Quam sit fauorabilis magnificentia Cesaris, et...\n",
       "215   6_20  Illa fruimur ex Imperii dignitate mansuetudine...\n",
       "216   6_25  Etsi munificentiae nostrae gratiam libenter ex...\n",
       "217   6_26  Principium epistulae. Fridericus duci Austriae...\n",
       "\n",
       "[218 rows x 2 columns]"
      ]
     },
     "execution_count": 32,
     "metadata": {},
     "output_type": "execute_result"
    }
   ],
   "source": [
    "filtre"
   ]
  },
  {
   "cell_type": "code",
   "execution_count": 33,
   "id": "6ab65b84",
   "metadata": {},
   "outputs": [],
   "source": [
    "filtre['textes'] = filtre['textes'].apply(thousand)"
   ]
  },
  {
   "cell_type": "code",
   "execution_count": 38,
   "id": "800c7131",
   "metadata": {},
   "outputs": [
    {
     "data": {
      "text/plain": [
       "'Hucusque satis, ut loquamur ad litteram, pacem quesiuimus, gratam nobis et cunctis gentibus uotis affectatam, ad quam per humilitatis et patientiae holocaustum recte captandam preter sacrum Imperii ius et morem se pluries nostra inclinauit humilitas, petitionis suae uotum tanto celerius adeptura, quanto pax Petri uicario, cui legatum pacis hominibus erogandae commissum est, patientius petebatur. Vulnus enim immedicabile, quod latebat interius, externi curam medicaminis insensurum, sub mitis medici cura computruit et cordis intima, proh dolor!, uehementer inuasit. Congregauit enim Lugdunense Concilium, quod inuiti referimus, Romanus antistes, per quod ferrum gentibus prebuit: et quod sedasse debuerat letale discidium, nostris temporibus letaliter incitauit. Restat itaque mederi per gladium putres partes, audacter abscindere, ne subsequenter imputres per coadherentiam putrefiant. Ad salubre igitur et festinum subsidium procurandum, fidelium nostrorum omnium promptas exquirimus uoluntates'"
      ]
     },
     "execution_count": 38,
     "metadata": {},
     "output_type": "execute_result"
    }
   ],
   "source": [
    "filtre['textes'][9]"
   ]
  },
  {
   "cell_type": "code",
   "execution_count": null,
   "id": "fc3e2ef0",
   "metadata": {},
   "outputs": [],
   "source": []
  }
 ],
 "metadata": {
  "kernelspec": {
   "display_name": "Python 3 (ipykernel)",
   "language": "python",
   "name": "python3"
  },
  "language_info": {
   "codemirror_mode": {
    "name": "ipython",
    "version": 3
   },
   "file_extension": ".py",
   "mimetype": "text/x-python",
   "name": "python",
   "nbconvert_exporter": "python",
   "pygments_lexer": "ipython3",
   "version": "3.9.7"
  }
 },
 "nbformat": 4,
 "nbformat_minor": 5
}

{
 "cells": [
  {
   "cell_type": "code",
   "execution_count": 190,
   "id": "d89d32fe",
   "metadata": {},
   "outputs": [],
   "source": [
    "import pandas as pd\n",
    "import os\n",
    "import re\n",
    "from tqdm import tqdm\n",
    "import ast\n",
    "import scipy.cluster.hierarchy as shc\n",
    "from scipy.spatial.distance import pdist, squareform\n",
    "import matplotlib.pyplot as plt\n",
    "import statistics\n",
    "from collections import Counter"
   ]
  },
  {
   "cell_type": "code",
   "execution_count": 58,
   "id": "1570eb04",
   "metadata": {},
   "outputs": [],
   "source": [
    "file = '/home/noe/Documents/2022-2023/ENC/Mémoire/Dataframes/PDV_grams.xlsx'"
   ]
  },
  {
   "cell_type": "code",
   "execution_count": 90,
   "id": "bde0070c",
   "metadata": {},
   "outputs": [],
   "source": [
    "df = pd.read_excel(file)"
   ]
  },
  {
   "cell_type": "code",
   "execution_count": 228,
   "id": "f0509ec5",
   "metadata": {},
   "outputs": [],
   "source": [
    "liste = df['textes'].to_list()"
   ]
  },
  {
   "cell_type": "code",
   "execution_count": 61,
   "id": "96976e9e",
   "metadata": {},
   "outputs": [],
   "source": [
    "from typing import List\n",
    "from pie_extended.cli.utils import get_tagger, get_model, download\n",
    "\n",
    "# In case you need to download\n",
    "do_download = False\n",
    "if do_download:\n",
    "    for dl in download(\"lasla\"):\n",
    "        x = 1\n",
    "\n",
    "# model_path allows you to override the model loaded by another .tar\n",
    "model_name = \"lasla\"\n",
    "tagger = get_tagger(model_name, batch_size=256, device=\"cpu\", model_path=None)\n",
    "\n",
    "pie = []\n",
    "\n",
    "sentences: List[str] = liste\n",
    "# Get the main object from the model (: data iterator + postprocesor\n",
    "from pie_extended.models.lasla.imports import get_iterator_and_processor\n",
    "for sentence_group in sentences:\n",
    "    iterator, processor = get_iterator_and_processor()\n",
    "    pie.append(tagger.tag_str(sentence_group, iterator=iterator, processor=processor) )"
   ]
  },
  {
   "cell_type": "code",
   "execution_count": 67,
   "id": "8a22a650",
   "metadata": {},
   "outputs": [],
   "source": [
    "os.chdir('/home/noe/Documents/2022-2023/ENC/Mémoire/pdv_lemmes/')"
   ]
  },
  {
   "cell_type": "code",
   "execution_count": 68,
   "id": "a8db523a",
   "metadata": {},
   "outputs": [
    {
     "ename": "TypeError",
     "evalue": "list indices must be integers or slices, not dict",
     "output_type": "error",
     "traceback": [
      "\u001b[0;31m---------------------------------------------------------------------------\u001b[0m",
      "\u001b[0;31mTypeError\u001b[0m                                 Traceback (most recent call last)",
      "\u001b[0;32m/tmp/ipykernel_12204/952698935.py\u001b[0m in \u001b[0;36m<module>\u001b[0;34m\u001b[0m\n\u001b[1;32m      6\u001b[0m     \u001b[0;32mfor\u001b[0m \u001b[0mj\u001b[0m \u001b[0;32min\u001b[0m \u001b[0mpie\u001b[0m\u001b[0;34m[\u001b[0m\u001b[0mi\u001b[0m\u001b[0;34m]\u001b[0m\u001b[0;34m:\u001b[0m\u001b[0;34m\u001b[0m\u001b[0;34m\u001b[0m\u001b[0m\n\u001b[1;32m      7\u001b[0m \u001b[0;34m\u001b[0m\u001b[0m\n\u001b[0;32m----> 8\u001b[0;31m         \u001b[0mlemma\u001b[0m\u001b[0;34m.\u001b[0m\u001b[0mappend\u001b[0m\u001b[0;34m(\u001b[0m\u001b[0mpie\u001b[0m\u001b[0;34m[\u001b[0m\u001b[0mi\u001b[0m\u001b[0;34m]\u001b[0m\u001b[0;34m[\u001b[0m\u001b[0mj\u001b[0m\u001b[0;34m]\u001b[0m\u001b[0;34m[\u001b[0m\u001b[0;34m'lemma'\u001b[0m\u001b[0;34m]\u001b[0m\u001b[0;34m)\u001b[0m\u001b[0;34m\u001b[0m\u001b[0;34m\u001b[0m\u001b[0m\n\u001b[0m\u001b[1;32m      9\u001b[0m         \u001b[0;32mwith\u001b[0m \u001b[0mopen\u001b[0m\u001b[0;34m(\u001b[0m\u001b[0;34mf'pdv_lemma{i}.txt'\u001b[0m\u001b[0;34m,\u001b[0m\u001b[0;34m'w'\u001b[0m\u001b[0;34m)\u001b[0m \u001b[0;32mas\u001b[0m \u001b[0mfile\u001b[0m\u001b[0;34m:\u001b[0m\u001b[0;34m\u001b[0m\u001b[0;34m\u001b[0m\u001b[0m\n\u001b[1;32m     10\u001b[0m             \u001b[0mfile\u001b[0m\u001b[0;34m.\u001b[0m\u001b[0mwrite\u001b[0m\u001b[0;34m(\u001b[0m\u001b[0;34m''\u001b[0m\u001b[0;34m.\u001b[0m\u001b[0mjoin\u001b[0m\u001b[0;34m(\u001b[0m\u001b[0mlemma\u001b[0m\u001b[0;34m)\u001b[0m\u001b[0;34m)\u001b[0m\u001b[0;34m\u001b[0m\u001b[0;34m\u001b[0m\u001b[0m\n",
      "\u001b[0;31mTypeError\u001b[0m: list indices must be integers or slices, not dict"
     ]
    }
   ],
   "source": [
    "while i < len(pie):\n",
    "    \n",
    "    pos = []\n",
    "    lemma = []\n",
    "    \n",
    "    for j in pie[i]:\n",
    "        \n",
    "        lemma.append(pie[i][j]['lemma'])\n",
    "        with open(f'pdv_lemma{i}.txt','w') as file:\n",
    "            file.write(''.join(lemma))"
   ]
  },
  {
   "cell_type": "code",
   "execution_count": 75,
   "id": "2f518eaf",
   "metadata": {},
   "outputs": [],
   "source": [
    "def get_lemma_lists(list_of_lists):\n",
    "    result = []\n",
    "    for sublist in list_of_lists:\n",
    "        lemma_list = []\n",
    "        for dictionary in sublist:\n",
    "            if 'lemma' in dictionary:\n",
    "                lemma_list.append(dictionary['lemma'])\n",
    "        result.append(lemma_list)\n",
    "    return result"
   ]
  },
  {
   "cell_type": "code",
   "execution_count": 229,
   "id": "a7c4945a",
   "metadata": {},
   "outputs": [],
   "source": [
    "x = get_lemma_lists(pie)"
   ]
  },
  {
   "cell_type": "code",
   "execution_count": 249,
   "id": "c383cc74",
   "metadata": {},
   "outputs": [
    {
     "data": {
      "text/html": [
       "<div>\n",
       "<style scoped>\n",
       "    .dataframe tbody tr th:only-of-type {\n",
       "        vertical-align: middle;\n",
       "    }\n",
       "\n",
       "    .dataframe tbody tr th {\n",
       "        vertical-align: top;\n",
       "    }\n",
       "\n",
       "    .dataframe thead th {\n",
       "        text-align: right;\n",
       "    }\n",
       "</style>\n",
       "<table border=\"1\" class=\"dataframe\">\n",
       "  <thead>\n",
       "    <tr style=\"text-align: right;\">\n",
       "      <th></th>\n",
       "      <th>lemma</th>\n",
       "    </tr>\n",
       "  </thead>\n",
       "  <tbody>\n",
       "    <tr>\n",
       "      <th>0</th>\n",
       "      <td>colligo3 pontifex et2 Phariseus consilium in u...</td>\n",
       "    </tr>\n",
       "    <tr>\n",
       "      <th>1</th>\n",
       "      <td>ille felix describo antiquitas qui1 ex alienus...</td>\n",
       "    </tr>\n",
       "    <tr>\n",
       "      <th>2</th>\n",
       "      <td>etsi2 causa noster iustitia uulgaris fama prel...</td>\n",
       "    </tr>\n",
       "    <tr>\n",
       "      <th>3</th>\n",
       "      <td>ne4 per excogito malignitas astutia iste Roman...</td>\n",
       "    </tr>\n",
       "    <tr>\n",
       "      <th>4</th>\n",
       "      <td>uir industrius et2 illustris Romanus comes Tho...</td>\n",
       "    </tr>\n",
       "    <tr>\n",
       "      <th>...</th>\n",
       "      <td>...</td>\n",
       "    </tr>\n",
       "    <tr>\n",
       "      <th>358</th>\n",
       "      <td>fauorabilis petitio supplico effectus1 debeo p...</td>\n",
       "    </tr>\n",
       "    <tr>\n",
       "      <th>359</th>\n",
       "      <td>tenor preso notus2 facio uniuersi quod2 cum3 m...</td>\n",
       "    </tr>\n",
       "    <tr>\n",
       "      <th>360</th>\n",
       "      <td>ad2 hic1 superus dispensatio consilium princip...</td>\n",
       "    </tr>\n",
       "    <tr>\n",
       "      <th>361</th>\n",
       "      <td>consuesco innascor benignitas consuetudo regno...</td>\n",
       "    </tr>\n",
       "    <tr>\n",
       "      <th>362</th>\n",
       "      <td>notus2 facio uniuersitas uester qui1 de fideli...</td>\n",
       "    </tr>\n",
       "  </tbody>\n",
       "</table>\n",
       "<p>363 rows × 1 columns</p>\n",
       "</div>"
      ],
      "text/plain": [
       "                                                 lemma\n",
       "0    colligo3 pontifex et2 Phariseus consilium in u...\n",
       "1    ille felix describo antiquitas qui1 ex alienus...\n",
       "2    etsi2 causa noster iustitia uulgaris fama prel...\n",
       "3    ne4 per excogito malignitas astutia iste Roman...\n",
       "4    uir industrius et2 illustris Romanus comes Tho...\n",
       "..                                                 ...\n",
       "358  fauorabilis petitio supplico effectus1 debeo p...\n",
       "359  tenor preso notus2 facio uniuersi quod2 cum3 m...\n",
       "360  ad2 hic1 superus dispensatio consilium princip...\n",
       "361  consuesco innascor benignitas consuetudo regno...\n",
       "362  notus2 facio uniuersitas uester qui1 de fideli...\n",
       "\n",
       "[363 rows x 1 columns]"
      ]
     },
     "execution_count": 249,
     "metadata": {},
     "output_type": "execute_result"
    }
   ],
   "source": [
    "lemma"
   ]
  },
  {
   "cell_type": "code",
   "execution_count": 231,
   "id": "1750405d",
   "metadata": {},
   "outputs": [],
   "source": [
    "x = [' '.join(i) for i in x]"
   ]
  },
  {
   "cell_type": "code",
   "execution_count": 233,
   "id": "9c5c659f",
   "metadata": {},
   "outputs": [],
   "source": [
    "lemma = pd.DataFrame(x)"
   ]
  },
  {
   "cell_type": "code",
   "execution_count": 244,
   "id": "79688ca7",
   "metadata": {},
   "outputs": [],
   "source": [
    "def clean_text(text):\n",
    "    char  = [';',':','!','«','»',',','“','”','.','?','[',']']\n",
    "    pattern = '[' + ''.join(char) + ']'\n",
    "    new_str = re.sub(pattern,'', text)\n",
    "    lol = re.sub(r' +',' ',new_str)\n",
    "    return lol\n"
   ]
  },
  {
   "cell_type": "code",
   "execution_count": 246,
   "id": "37ae47f0",
   "metadata": {},
   "outputs": [],
   "source": [
    "def remove_chars(input_str):\n",
    "    chars_to_remove = [';', ':', '!', '«', '»', ',', '“', '”', '.', '?', '[', ']']\n",
    "    for char in chars_to_remove:\n",
    "        input_str = input_str.replace(char, '')\n",
    "    lol = re.sub(r' +',' ',input_str)\n",
    "    return lol\n"
   ]
  },
  {
   "cell_type": "code",
   "execution_count": 235,
   "id": "9dac743f",
   "metadata": {},
   "outputs": [],
   "source": [
    "lemma = lemma.rename(columns={0:'lemma'})"
   ]
  },
  {
   "cell_type": "code",
   "execution_count": 248,
   "id": "f9308d03",
   "metadata": {},
   "outputs": [],
   "source": [
    "lemma['lemma'] = lemma['lemma'].apply(remove_chars)"
   ]
  },
  {
   "cell_type": "code",
   "execution_count": 250,
   "id": "421af8fb",
   "metadata": {},
   "outputs": [],
   "source": [
    "def livre_id(string):\n",
    "    new_str = re.sub(r'[A-Za-z]','', string)\n",
    "    return new_str"
   ]
  },
  {
   "cell_type": "code",
   "execution_count": 251,
   "id": "3de3f397",
   "metadata": {},
   "outputs": [],
   "source": [
    "df['ID'] = ''"
   ]
  },
  {
   "cell_type": "code",
   "execution_count": 252,
   "id": "d25e588d",
   "metadata": {},
   "outputs": [
    {
     "name": "stderr",
     "output_type": "stream",
     "text": [
      "/home/noe/python/miniconda/envs/coursnlp/lib/python3.7/site-packages/ipykernel_launcher.py:2: SettingWithCopyWarning: \n",
      "A value is trying to be set on a copy of a slice from a DataFrame\n",
      "\n",
      "See the caveats in the documentation: https://pandas.pydata.org/pandas-docs/stable/user_guide/indexing.html#returning-a-view-versus-a-copy\n",
      "  \n"
     ]
    }
   ],
   "source": [
    "for i in range(len(df)):\n",
    "    df['ID'][i] = str(df['Livre'][i])+'_'+ str(df['Numéro de la charte'][i])"
   ]
  },
  {
   "cell_type": "code",
   "execution_count": 253,
   "id": "a738e07d",
   "metadata": {},
   "outputs": [],
   "source": [
    "ids = df['ID'].to_list()"
   ]
  },
  {
   "cell_type": "code",
   "execution_count": 254,
   "id": "c683caf2",
   "metadata": {},
   "outputs": [],
   "source": [
    "lemma['ID'] = ids"
   ]
  },
  {
   "cell_type": "code",
   "execution_count": 255,
   "id": "7bf0bc9c",
   "metadata": {},
   "outputs": [],
   "source": [
    "lemma = lemma[['ID','lemma']]"
   ]
  },
  {
   "cell_type": "code",
   "execution_count": 256,
   "id": "e56148e1",
   "metadata": {},
   "outputs": [],
   "source": [
    "lemma['ID'] = lemma['ID'].apply(livre_id)"
   ]
  },
  {
   "cell_type": "code",
   "execution_count": 261,
   "id": "d32febed",
   "metadata": {},
   "outputs": [],
   "source": [
    "test = []\n",
    "for i in range(len(lemma)):\n",
    "    test.append(len(lemma['lemma'][i].split()))"
   ]
  },
  {
   "cell_type": "code",
   "execution_count": 274,
   "id": "a8bab7f4",
   "metadata": {},
   "outputs": [
    {
     "data": {
      "text/plain": [
       "163"
      ]
     },
     "execution_count": 274,
     "metadata": {},
     "output_type": "execute_result"
    }
   ],
   "source": [
    "statistics.median(test)"
   ]
  },
  {
   "cell_type": "code",
   "execution_count": 265,
   "id": "90796fa7",
   "metadata": {},
   "outputs": [],
   "source": [
    "filtre = lemma[lemma['lemma'].str.split().apply(len) > 1000]\n",
    "filtre = filtre.reset_index()"
   ]
  },
  {
   "cell_type": "code",
   "execution_count": 266,
   "id": "c6b6d1a4",
   "metadata": {},
   "outputs": [
    {
     "data": {
      "text/html": [
       "<div>\n",
       "<style scoped>\n",
       "    .dataframe tbody tr th:only-of-type {\n",
       "        vertical-align: middle;\n",
       "    }\n",
       "\n",
       "    .dataframe tbody tr th {\n",
       "        vertical-align: top;\n",
       "    }\n",
       "\n",
       "    .dataframe thead th {\n",
       "        text-align: right;\n",
       "    }\n",
       "</style>\n",
       "<table border=\"1\" class=\"dataframe\">\n",
       "  <thead>\n",
       "    <tr style=\"text-align: right;\">\n",
       "      <th></th>\n",
       "      <th>index</th>\n",
       "      <th>ID</th>\n",
       "      <th>lemma</th>\n",
       "    </tr>\n",
       "  </thead>\n",
       "  <tbody>\n",
       "    <tr>\n",
       "      <th>0</th>\n",
       "      <td>0</td>\n",
       "      <td>1_1</td>\n",
       "      <td>colligo3 pontifex et2 Phariseus consilium in u...</td>\n",
       "    </tr>\n",
       "    <tr>\n",
       "      <th>1</th>\n",
       "      <td>2</td>\n",
       "      <td>1_3</td>\n",
       "      <td>etsi2 causa noster iustitia uulgaris fama prel...</td>\n",
       "    </tr>\n",
       "    <tr>\n",
       "      <th>2</th>\n",
       "      <td>20</td>\n",
       "      <td>1_21</td>\n",
       "      <td>leuo2 in circuitus oculus uester arrigo filius...</td>\n",
       "    </tr>\n",
       "    <tr>\n",
       "      <th>3</th>\n",
       "      <td>27</td>\n",
       "      <td>1_28</td>\n",
       "      <td>etsi1 tam iustus quam1 uehemens causa dolor et...</td>\n",
       "    </tr>\n",
       "    <tr>\n",
       "      <th>4</th>\n",
       "      <td>92</td>\n",
       "      <td>3_1</td>\n",
       "      <td>dum2 debitor noster cirografus lego2 dum2 kale...</td>\n",
       "    </tr>\n",
       "    <tr>\n",
       "      <th>5</th>\n",
       "      <td>339</td>\n",
       "      <td>6_9</td>\n",
       "      <td>regno nos feliciter et2 triumpho ac1 uictorios...</td>\n",
       "    </tr>\n",
       "  </tbody>\n",
       "</table>\n",
       "</div>"
      ],
      "text/plain": [
       "   index     ID                                              lemma\n",
       "0      0    1_1  colligo3 pontifex et2 Phariseus consilium in u...\n",
       "1      2    1_3  etsi2 causa noster iustitia uulgaris fama prel...\n",
       "2     20   1_21  leuo2 in circuitus oculus uester arrigo filius...\n",
       "3     27   1_28  etsi1 tam iustus quam1 uehemens causa dolor et...\n",
       "4     92    3_1  dum2 debitor noster cirografus lego2 dum2 kale...\n",
       "5    339    6_9  regno nos feliciter et2 triumpho ac1 uictorios..."
      ]
     },
     "execution_count": 266,
     "metadata": {},
     "output_type": "execute_result"
    }
   ],
   "source": [
    "filtre"
   ]
  },
  {
   "cell_type": "code",
   "execution_count": 185,
   "id": "7a60d4cd",
   "metadata": {},
   "outputs": [],
   "source": [
    "def thousand(string):\n",
    "    final = string[:1000]\n",
    "    return final"
   ]
  },
  {
   "cell_type": "code",
   "execution_count": 186,
   "id": "b1a60e63",
   "metadata": {},
   "outputs": [],
   "source": [
    "filtre = filtre['lemma'].apply(thousand).to_frame()"
   ]
  },
  {
   "cell_type": "code",
   "execution_count": 225,
   "id": "a982a269",
   "metadata": {},
   "outputs": [],
   "source": [
    "x = lemma['lemma'].apply(clean_text)"
   ]
  },
  {
   "cell_type": "code",
   "execution_count": 227,
   "id": "5bf213b8",
   "metadata": {},
   "outputs": [
    {
     "data": {
      "text/plain": [
       "0      colligo3 pontifex et2 Phariseus consilium in u...\n",
       "1      ille felix describo antiquitas , qui1 ex alien...\n",
       "2      etsi2 causa noster iustitia , uulgaris fama pr...\n",
       "3      ne4 per excogito malignitas astutia iste Roman...\n",
       "4      uir industrius et2 illustris Romanus , comes T...\n",
       "                             ...                        \n",
       "358    fauorabilis petitio supplico effectus1 debeo p...\n",
       "359    tenor preso notus2 facio uniuersi , quod2 , cu...\n",
       "360    ad2 hic1 superus dispensatio consilium princip...\n",
       "361    consuesco innascor benignitas , consuetudo reg...\n",
       "362    notus2 facio uniuersitas uester , qui1 . . . d...\n",
       "Name: lemma, Length: 363, dtype: object"
      ]
     },
     "execution_count": 227,
     "metadata": {},
     "output_type": "execute_result"
    }
   ],
   "source": [
    "x"
   ]
  },
  {
   "cell_type": "code",
   "execution_count": null,
   "id": "d86e4a25",
   "metadata": {},
   "outputs": [],
   "source": []
  }
 ],
 "metadata": {
  "kernelspec": {
   "display_name": "Python 3 (ipykernel)",
   "language": "python",
   "name": "python3"
  },
  "language_info": {
   "codemirror_mode": {
    "name": "ipython",
    "version": 3
   },
   "file_extension": ".py",
   "mimetype": "text/x-python",
   "name": "python",
   "nbconvert_exporter": "python",
   "pygments_lexer": "ipython3",
   "version": "3.9.7"
  }
 },
 "nbformat": 4,
 "nbformat_minor": 5
}

{
 "cells": [
  {
   "cell_type": "code",
   "execution_count": 1,
   "id": "e45578a0",
   "metadata": {},
   "outputs": [],
   "source": [
    "import pandas as pd\n",
    "import os\n",
    "import re\n",
    "from tqdm import tqdm\n",
    "import ast\n",
    "import scipy.cluster.hierarchy as shc\n",
    "from scipy.spatial.distance import pdist, squareform\n",
    "import matplotlib.pyplot as plt\n",
    "%matplotlib inline\n",
    "import seaborn as sns\n",
    "import numpy as np"
   ]
  },
  {
   "cell_type": "markdown",
   "id": "ef8ad198",
   "metadata": {},
   "source": [
    "## Fonctions"
   ]
  },
  {
   "cell_type": "code",
   "execution_count": 57,
   "id": "2c5fcf3c",
   "metadata": {},
   "outputs": [],
   "source": [
    "def clean_text(text):\n",
    "    \n",
    "    text2 = re.sub('!','.',text)\n",
    "    text2 = re.sub(' \\...',' ',text)\n",
    "    text2 = re.sub('  ',' ',text2)\n",
    "    char  = [';',':','!','«','»',',','“','”','(',')']\n",
    "    pattern = '[' + ''.join(char) + ']'\n",
    "    new_str = re.sub(pattern,'', text2)\n",
    "    #clean_words = [word for word in new_str.split() if word.lower() not in stopwords_latin]\n",
    "    #new_str = ' '.join(clean_words)\n",
    "    new_str = re.sub(r'\\? [A-Z]','.',new_str)\n",
    "    new_str = re.sub(r'\\?','',new_str)\n",
    "    pattern = r\"\\. ([a-z])\"\n",
    "    new_str = re.sub(pattern, r\" \\1\", new_str)\n",
    "    string = new_str.split('.')\n",
    "    string = [x for x in string if x != '']\n",
    "    string = [x for x in string if x != ' ']\n",
    "    string = [x.lower() for x in string]\n",
    "    string = [x.lstrip() for x in string]\n",
    "    string = [x.rstrip() for x in string]\n",
    "    string = [re.sub('v','u',x) for x in string]\n",
    "    string = [re.sub('j','i',x) for x in string]\n",
    "    \n",
    "    return string"
   ]
  },
  {
   "cell_type": "code",
   "execution_count": 8,
   "id": "1ac286f3",
   "metadata": {},
   "outputs": [],
   "source": [
    "def clean_text_stopwords(text):\n",
    "    \n",
    "    text2 = re.sub('!','.',text)\n",
    "    text2 = re.sub(' \\...',' ',text)\n",
    "    text2 = re.sub('  ',' ',text2)\n",
    "    char  = [';',':','!','«','»',',','“','”']\n",
    "    pattern = '[' + ''.join(char) + ']'\n",
    "    new_str = re.sub(pattern,'', text2)\n",
    "    clean_words = [word for word in new_str.split() if word.lower() not in stopwords_latin]\n",
    "    new_str = ' '.join(clean_words)\n",
    "    new_str = re.sub(r'\\? [A-Z]','.',new_str)\n",
    "    new_str = re.sub(r'\\?','',new_str)\n",
    "    pattern = r\"\\. ([a-z])\"\n",
    "    new_str = re.sub(pattern, r\" \\1\", new_str)\n",
    "    string = new_str.split('.')\n",
    "    string = [x for x in string if x != '']\n",
    "    string = [x for x in string if x != ' ']\n",
    "    string = [x.lower() for x in string]\n",
    "    string = [x.lstrip() for x in string]\n",
    "    string = [x.rstrip() for x in string]\n",
    "    string = [re.sub('v','u',x) for x in string]\n",
    "    string = [re.sub('j','i',x) for x in string]\n",
    "    \n",
    "    return string"
   ]
  },
  {
   "cell_type": "code",
   "execution_count": 9,
   "id": "cc0fdddc",
   "metadata": {},
   "outputs": [],
   "source": [
    "def remove_words(sentence, words_to_remove):\n",
    "    for word in words_to_remove:\n",
    "        sentence = re.sub(r'\\b{}\\b'.format(word), '', sentence)\n",
    "        sentence = re.sub(\"  \",\" \",sentence)\n",
    "    return sentence.strip()\n"
   ]
  },
  {
   "cell_type": "code",
   "execution_count": 10,
   "id": "db67705a",
   "metadata": {},
   "outputs": [],
   "source": [
    "def compare_sentences(sentence_1, sentence_2):\n",
    "    words_1 = sentence_1.lower().split()\n",
    "    words_2 = sentence_2.lower().split()\n",
    "\n",
    "    common_words = set(words_1) & set(words_2)\n",
    "\n",
    "    return len(common_words) >= 2"
   ]
  },
  {
   "cell_type": "code",
   "execution_count": 11,
   "id": "4ba87942",
   "metadata": {},
   "outputs": [],
   "source": [
    "def distance_index(text, word1, word2, max_distance=10):\n",
    "    words = text.split()\n",
    "    index1 = None\n",
    "    index2 = None\n",
    "\n",
    "    for i, word in enumerate(words):\n",
    "        if word == word1:\n",
    "            index1 = i\n",
    "        elif word == word2:\n",
    "            index2 = i\n",
    "\n",
    "    if index1 is not None and index2 is not None:\n",
    "        distance = abs(index2 - index1)\n",
    "        if distance <= max_distance:\n",
    "            return True\n",
    "        else:\n",
    "            return False\n",
    "    else:\n",
    "        return False"
   ]
  },
  {
   "cell_type": "code",
   "execution_count": 12,
   "id": "74615eb5",
   "metadata": {},
   "outputs": [],
   "source": [
    "def create_bigrams(sentence):\n",
    "    words = sentence.split()\n",
    "    bigrams = [(words[i], words[i+1]) for i in range(len(words) - 1)]\n",
    "    return bigrams"
   ]
  },
  {
   "cell_type": "code",
   "execution_count": 13,
   "id": "9098d134",
   "metadata": {},
   "outputs": [],
   "source": [
    "def substitute_keys(dict1, dict2):\n",
    "    result_dict = {}\n",
    "\n",
    "    for key1 in dict1.keys():\n",
    "        \n",
    "        for value2 in dict2.values():\n",
    "           \n",
    "            if value2 == key1:\n",
    "                \n",
    "                for key2, value2_2 in dict2.items():\n",
    "                    if value2_2 == value2:\n",
    "\n",
    "                        result_dict[key2] = dict1[key1]\n",
    "                        break  \n",
    "\n",
    "    return result_dict"
   ]
  },
  {
   "cell_type": "code",
   "execution_count": 14,
   "id": "3493f50d",
   "metadata": {},
   "outputs": [],
   "source": [
    "def transform_sentences_to_keys(dict1, dict2):\n",
    "    # Create a new dictionary to store the result\n",
    "    result_dict = {}\n",
    "\n",
    "    # Iterate through the keys and sentences in dict1\n",
    "    for key1, sentences_list1 in dict1.items():\n",
    "        # Initialize a list to store matching keys from dict2\n",
    "        keys_list = []\n",
    "        for sentence1 in sentences_list1:\n",
    "            # Find the matching key from dict2 for the current sentence1\n",
    "            for key2, sentence2 in dict2.items():\n",
    "                if sentence1 == sentence2:\n",
    "                    keys_list.append(key2)\n",
    "\n",
    "        # Add the list of keys corresponding to sentences in dict1 to the result_dict\n",
    "        result_dict[key1] = keys_list\n",
    "\n",
    "    return result_dict"
   ]
  },
  {
   "cell_type": "code",
   "execution_count": 15,
   "id": "e429f995",
   "metadata": {},
   "outputs": [],
   "source": [
    "def from_bigrams_to_sentence(bigram): \n",
    "\n",
    "    test = []\n",
    "\n",
    "    i = 0\n",
    "\n",
    "    while i <= len(bigram)-1:\n",
    "        test.append(bigram[i][0])\n",
    "        i += 1\n",
    "        \n",
    "    test.append(bigram[-1][-2])\n",
    "    test.append(bigram[-1][-1])\n",
    "\n",
    "    final  = \" \".join(test)\n",
    "    \n",
    "    return final"
   ]
  },
  {
   "cell_type": "code",
   "execution_count": 16,
   "id": "589f96c2",
   "metadata": {},
   "outputs": [],
   "source": [
    "def from_trigrams_to_sentence(trigram): \n",
    "\n",
    "    test = []\n",
    "\n",
    "    i = 0\n",
    "\n",
    "    while i <= len(trigram)-1:\n",
    "        test.append(trigram[i][0])\n",
    "        i += 1\n",
    "    test.append(trigram[-1][-2])\n",
    "    test.append(trigram[-1][-1])\n",
    "\n",
    "    final  = \" \".join(test)\n",
    "    \n",
    "    return final"
   ]
  },
  {
   "cell_type": "code",
   "execution_count": 17,
   "id": "05a8e2f9",
   "metadata": {},
   "outputs": [],
   "source": [
    "matches = {}\n",
    "\n",
    "def comparaison_bi_grams(bigram):   \n",
    "    #bigram = pdv_bigrams[0]\n",
    "\n",
    "    liste_vide = []\n",
    "\n",
    "    for i in bigram:\n",
    "\n",
    "        for test in guerin_bigrams:\n",
    "\n",
    "            if i in test:\n",
    "                liste_vide.append(from_bigrams_to_sentence(test))\n",
    "                matches[from_bigrams_to_sentence(bigram)] = liste_vide\n",
    "                \n",
    "                "
   ]
  },
  {
   "cell_type": "code",
   "execution_count": 18,
   "id": "30cf7ae5",
   "metadata": {},
   "outputs": [],
   "source": [
    "def create_trigrams(sentence):\n",
    "    words = sentence.split()\n",
    "    trigrams = [(words[i], words[i+1], words[i+2]) for i in range(len(words) - 2)]\n",
    "    return trigrams"
   ]
  },
  {
   "cell_type": "code",
   "execution_count": 19,
   "id": "55e8066c",
   "metadata": {},
   "outputs": [],
   "source": [
    "matches_trigrams = {}\n",
    "\n",
    "def comparaison_trigrams(trigram):   \n",
    "    #bigram = pdv_bigrams[0]\n",
    "\n",
    "    liste_vide = []\n",
    "\n",
    "    for i in trigram:\n",
    "\n",
    "        for test in guerin_trigrams:\n",
    "\n",
    "            if i in test:\n",
    "                liste_vide.append(from_trigrams_to_sentence(test))\n",
    "                matches_trigrams[from_trigrams_to_sentence(trigram)] = liste_vide\n",
    "                \n",
    "                "
   ]
  },
  {
   "cell_type": "code",
   "execution_count": 20,
   "id": "37903204",
   "metadata": {},
   "outputs": [],
   "source": [
    "def remove_duplicates_from_dict_values(dictionary):\n",
    "    for key, value_list in dictionary.items():\n",
    "        # Convert the value list to a set to remove duplicates, then back to a list\n",
    "        dictionary[key] = list(set(value_list))\n",
    "    return dictionary"
   ]
  },
  {
   "cell_type": "code",
   "execution_count": 21,
   "id": "e53b18fc",
   "metadata": {},
   "outputs": [],
   "source": [
    "def create_quadrigrams(sentence):\n",
    "    words = sentence.split()\n",
    "    quadrigrams = [(words[i], words[i+1], words[i+2], words[i+3]) for i in range(len(words) - 3)]\n",
    "    return quadrigrams"
   ]
  },
  {
   "cell_type": "code",
   "execution_count": 22,
   "id": "aa6bb27e",
   "metadata": {},
   "outputs": [],
   "source": [
    "def from_quadrigrams_to_sentence(quadrigram): \n",
    "\n",
    "    test = []\n",
    "\n",
    "    i = 0\n",
    "\n",
    "    while i <= len(quadrigram)-1:\n",
    "        test.append(quadrigram[i][0])\n",
    "        i += 1\n",
    "    \n",
    "    test.append(quadrigram[-1][-3])\n",
    "    test.append(quadrigram[-1][-2])\n",
    "    test.append(quadrigram[-1][-1])\n",
    "\n",
    "    final  = \" \".join(test)\n",
    "    \n",
    "    return final"
   ]
  },
  {
   "cell_type": "code",
   "execution_count": 23,
   "id": "ad89c107",
   "metadata": {},
   "outputs": [],
   "source": [
    "matches_quadrigrams = {}\n",
    "\n",
    "def comparaison_quadrigrams(quadrigram):   \n",
    "    #bigram = pdv_bigrams[0]\n",
    "\n",
    "    liste_vide = []\n",
    "\n",
    "    for i in quadrigram:\n",
    "\n",
    "        for test in guerin_quadrigrams:\n",
    "\n",
    "            if i in test:\n",
    "                liste_vide.append(from_quadrigrams_to_sentence(test))\n",
    "                matches_quadrigrams[from_quadrigrams_to_sentence(quadrigram)] = liste_vide\n",
    "                \n",
    "                "
   ]
  },
  {
   "cell_type": "code",
   "execution_count": 24,
   "id": "a4025431",
   "metadata": {},
   "outputs": [],
   "source": [
    "def create_quintigrams(sentence):\n",
    "    words = sentence.split()\n",
    "    quintigrams = [(words[i], words[i+1], words[i+2], words[i+3], words[i+4]) for i in range(len(words) - 4)]\n",
    "    return quintigrams"
   ]
  },
  {
   "cell_type": "code",
   "execution_count": 25,
   "id": "0450159b",
   "metadata": {},
   "outputs": [],
   "source": [
    "def from_quintigrams_to_sentence(quintigram): \n",
    "\n",
    "    test = []\n",
    "\n",
    "    i = 0\n",
    "\n",
    "    while i <= len(quintigram)-1:\n",
    "        test.append(quintigram[i][0])\n",
    "        i += 1\n",
    "    \n",
    "    test.append(quintigram[-1][-4])\n",
    "    test.append(quintigram[-1][-3])\n",
    "    test.append(quintigram[-1][-2])\n",
    "    test.append(quintigram[-1][-1])\n",
    "\n",
    "    final  = \" \".join(test)\n",
    "    \n",
    "    return final"
   ]
  },
  {
   "cell_type": "code",
   "execution_count": 26,
   "id": "7388c8e4",
   "metadata": {},
   "outputs": [],
   "source": [
    "matches_quintigrams = {}\n",
    "\n",
    "def comparaison_quintigrams(quintigram):   \n",
    "    #bigram = pdv_bigrams[0]\n",
    "\n",
    "    liste_vide = []\n",
    "\n",
    "    for i in quintigram:\n",
    "\n",
    "        for test in guerin_quintigrams:\n",
    "\n",
    "            if i in test:\n",
    "                liste_vide.append(from_quintigrams_to_sentence(test))\n",
    "                matches_quintigrams[from_quintigrams_to_sentence(quintigram)] = liste_vide\n",
    "                \n",
    "                "
   ]
  },
  {
   "cell_type": "code",
   "execution_count": null,
   "id": "00efe943",
   "metadata": {},
   "outputs": [],
   "source": []
  },
  {
   "cell_type": "code",
   "execution_count": 2,
   "id": "36c301da",
   "metadata": {},
   "outputs": [],
   "source": [
    "file = '/home/noe/Documents/2022-2023/ENC/Mémoire/Dataframes/PDV_grams.xlsx'\n",
    "guerin = '/home/noe/Documents/2022-2023/ENC/Mémoire/Dataframes/Guerin_grams.xlsx'"
   ]
  },
  {
   "cell_type": "code",
   "execution_count": 28,
   "id": "e725b2be",
   "metadata": {},
   "outputs": [],
   "source": [
    "os.chdir('/home/noe/Documents/2022-2023/ENC/Mémoire/Comparaison_de_mots/')"
   ]
  },
  {
   "cell_type": "code",
   "execution_count": 3,
   "id": "e3d0740d",
   "metadata": {},
   "outputs": [],
   "source": [
    "df_PDV = pd.read_excel(file)"
   ]
  },
  {
   "cell_type": "code",
   "execution_count": 15,
   "id": "db60b128",
   "metadata": {},
   "outputs": [
    {
     "data": {
      "text/html": [
       "<div>\n",
       "<style scoped>\n",
       "    .dataframe tbody tr th:only-of-type {\n",
       "        vertical-align: middle;\n",
       "    }\n",
       "\n",
       "    .dataframe tbody tr th {\n",
       "        vertical-align: top;\n",
       "    }\n",
       "\n",
       "    .dataframe thead th {\n",
       "        text-align: right;\n",
       "    }\n",
       "</style>\n",
       "<table border=\"1\" class=\"dataframe\">\n",
       "  <thead>\n",
       "    <tr style=\"text-align: right;\">\n",
       "      <th></th>\n",
       "      <th>Livre</th>\n",
       "      <th>Numéro de la charte</th>\n",
       "      <th>Titre</th>\n",
       "      <th>Date</th>\n",
       "      <th>textes</th>\n",
       "    </tr>\n",
       "  </thead>\n",
       "  <tbody>\n",
       "    <tr>\n",
       "      <th>0</th>\n",
       "      <td>Livre 1</td>\n",
       "      <td>1</td>\n",
       "      <td>Querimonia Friderici imperatoris, super deposi...</td>\n",
       "      <td>1240</td>\n",
       "      <td>Collegerunt pontifices et Pharisei consilium i...</td>\n",
       "    </tr>\n",
       "    <tr>\n",
       "      <th>1</th>\n",
       "      <td>Livre 1</td>\n",
       "      <td>2</td>\n",
       "      <td>Fridericus regibus et principibus mundi, ut no...</td>\n",
       "      <td>1246</td>\n",
       "      <td>Illos felices describit antiquitas, quibus ex ...</td>\n",
       "    </tr>\n",
       "    <tr>\n",
       "      <th>2</th>\n",
       "      <td>Livre 1</td>\n",
       "      <td>3</td>\n",
       "      <td>Fridericus Regi Franciae, super sententia depo...</td>\n",
       "      <td>1245</td>\n",
       "      <td>Etsi causae nostrae iustitiam, uulgaris famae ...</td>\n",
       "    </tr>\n",
       "    <tr>\n",
       "      <th>3</th>\n",
       "      <td>Livre 1</td>\n",
       "      <td>4</td>\n",
       "      <td>Fridericus magistro iustitiario regni Syciliae...</td>\n",
       "      <td>1247</td>\n",
       "      <td>Ne per excogitatae malignitatis astutiam iste ...</td>\n",
       "    </tr>\n",
       "    <tr>\n",
       "      <th>4</th>\n",
       "      <td>Livre 1</td>\n",
       "      <td>5</td>\n",
       "      <td>Fridericus regi Franciae significat aliqua fac...</td>\n",
       "      <td>1243</td>\n",
       "      <td>Virum industrium et illustrem R., comitem Thol...</td>\n",
       "    </tr>\n",
       "    <tr>\n",
       "      <th>5</th>\n",
       "      <td>Livre 1</td>\n",
       "      <td>6</td>\n",
       "      <td>Fridericus cardinalibus, super sententia excom...</td>\n",
       "      <td>1239</td>\n",
       "      <td>Cum sit Christus caput Ecclesiae et in Petri u...</td>\n",
       "    </tr>\n",
       "    <tr>\n",
       "      <th>6</th>\n",
       "      <td>Livre 1</td>\n",
       "      <td>7</td>\n",
       "      <td>Fridericus regi Franciae significat aliqua fac...</td>\n",
       "      <td>1239</td>\n",
       "      <td>Virum industrium et illustrem R., comitem Thol...</td>\n",
       "    </tr>\n",
       "    <tr>\n",
       "      <th>7</th>\n",
       "      <td>Livre 1</td>\n",
       "      <td>8</td>\n",
       "      <td>Comitibus, principibus et aliis nobilibus, sup...</td>\n",
       "      <td>1241</td>\n",
       "      <td>Adauctae nobis continue felicitatis auspicia, ...</td>\n",
       "    </tr>\n",
       "    <tr>\n",
       "      <th>8</th>\n",
       "      <td>Livre 1</td>\n",
       "      <td>9</td>\n",
       "      <td>Item super eadem captione prelatorum et etiam ...</td>\n",
       "      <td>1241</td>\n",
       "      <td>Cum ad depopulationem uicinae urbis Bononiae n...</td>\n",
       "    </tr>\n",
       "    <tr>\n",
       "      <th>9</th>\n",
       "      <td>Livre 1</td>\n",
       "      <td>10</td>\n",
       "      <td>lustitiario Terrae Laboris, super depositione ...</td>\n",
       "      <td>1245</td>\n",
       "      <td>Hucusque satis, ut loquamur ad litteram, pacem...</td>\n",
       "    </tr>\n",
       "    <tr>\n",
       "      <th>10</th>\n",
       "      <td>Livre 1</td>\n",
       "      <td>11</td>\n",
       "      <td>Regi Angliae et aliis regibus, de morte Gregor...</td>\n",
       "      <td>1241</td>\n",
       "      <td>Victorioso exercitu nostro Romanis finibus ins...</td>\n",
       "    </tr>\n",
       "    <tr>\n",
       "      <th>11</th>\n",
       "      <td>Livre 1</td>\n",
       "      <td>12</td>\n",
       "      <td>Rex Franciae imperatori, super liberatione pre...</td>\n",
       "      <td>1241</td>\n",
       "      <td>Tenuit hactenus indubitanter nostra fiducia, q...</td>\n",
       "    </tr>\n",
       "    <tr>\n",
       "      <th>12</th>\n",
       "      <td>Livre 1</td>\n",
       "      <td>13</td>\n",
       "      <td>Responsiua Friderici imperatoris ad precedentem</td>\n",
       "      <td>1241</td>\n",
       "      <td>Regiae serenitatis litteras imperialis excelle...</td>\n",
       "    </tr>\n",
       "    <tr>\n",
       "      <th>13</th>\n",
       "      <td>Livre 1</td>\n",
       "      <td>14</td>\n",
       "      <td>Fridericus inuectiue ad cardinales, qui nimis ...</td>\n",
       "      <td>1242</td>\n",
       "      <td>Ex feruore charitatis intrinsecae decapitatis ...</td>\n",
       "    </tr>\n",
       "    <tr>\n",
       "      <th>14</th>\n",
       "      <td>Livre 1</td>\n",
       "      <td>15</td>\n",
       "      <td>Friderici regi Castellae, grauis querimonia de...</td>\n",
       "      <td>1250</td>\n",
       "      <td>Pensantes amoris affectum, quem ad uos semper ...</td>\n",
       "    </tr>\n",
       "    <tr>\n",
       "      <th>15</th>\n",
       "      <td>Livre 1</td>\n",
       "      <td>16</td>\n",
       "      <td>Regi Anglorum, narrans ei, quod non potuit obt...</td>\n",
       "      <td>1248</td>\n",
       "      <td>Quantum et qualiter hactenus pro generali bono...</td>\n",
       "    </tr>\n",
       "    <tr>\n",
       "      <th>16</th>\n",
       "      <td>Livre 1</td>\n",
       "      <td>17</td>\n",
       "      <td>Fridericus cardinalibus, invectiua cum increpa...</td>\n",
       "      <td>1243</td>\n",
       "      <td>Ad uos est hoc uerbum, filii Effrem male tende...</td>\n",
       "    </tr>\n",
       "    <tr>\n",
       "      <th>17</th>\n",
       "      <td>Livre 1</td>\n",
       "      <td>18</td>\n",
       "      <td>Fridericus regi Franciae, qui conqueritur de d...</td>\n",
       "      <td>1249</td>\n",
       "      <td>Satis nos pungit interius res noua, quam scrib...</td>\n",
       "    </tr>\n",
       "    <tr>\n",
       "      <th>18</th>\n",
       "      <td>Livre 1</td>\n",
       "      <td>19</td>\n",
       "      <td>Fridericus capitaneo regni, ut procedat contra...</td>\n",
       "      <td>1249</td>\n",
       "      <td>Pungitiue nos tangit interius res noua quam sc...</td>\n",
       "    </tr>\n",
       "    <tr>\n",
       "      <th>19</th>\n",
       "      <td>Livre 1</td>\n",
       "      <td>20</td>\n",
       "      <td>Fridericus regibus et universis baronibus regn...</td>\n",
       "      <td>1245</td>\n",
       "      <td>Vt iustitiam et innocentiam nostram, tam uos q...</td>\n",
       "    </tr>\n",
       "  </tbody>\n",
       "</table>\n",
       "</div>"
      ],
      "text/plain": [
       "      Livre  Numéro de la charte  \\\n",
       "0   Livre 1                    1   \n",
       "1   Livre 1                    2   \n",
       "2   Livre 1                    3   \n",
       "3   Livre 1                    4   \n",
       "4   Livre 1                    5   \n",
       "5   Livre 1                    6   \n",
       "6   Livre 1                    7   \n",
       "7   Livre 1                    8   \n",
       "8   Livre 1                    9   \n",
       "9   Livre 1                   10   \n",
       "10  Livre 1                   11   \n",
       "11  Livre 1                   12   \n",
       "12  Livre 1                   13   \n",
       "13  Livre 1                   14   \n",
       "14  Livre 1                   15   \n",
       "15  Livre 1                   16   \n",
       "16  Livre 1                   17   \n",
       "17  Livre 1                   18   \n",
       "18  Livre 1                   19   \n",
       "19  Livre 1                   20   \n",
       "\n",
       "                                                Titre  Date  \\\n",
       "0   Querimonia Friderici imperatoris, super deposi...  1240   \n",
       "1   Fridericus regibus et principibus mundi, ut no...  1246   \n",
       "2   Fridericus Regi Franciae, super sententia depo...  1245   \n",
       "3   Fridericus magistro iustitiario regni Syciliae...  1247   \n",
       "4   Fridericus regi Franciae significat aliqua fac...  1243   \n",
       "5   Fridericus cardinalibus, super sententia excom...  1239   \n",
       "6   Fridericus regi Franciae significat aliqua fac...  1239   \n",
       "7   Comitibus, principibus et aliis nobilibus, sup...  1241   \n",
       "8   Item super eadem captione prelatorum et etiam ...  1241   \n",
       "9   lustitiario Terrae Laboris, super depositione ...  1245   \n",
       "10  Regi Angliae et aliis regibus, de morte Gregor...  1241   \n",
       "11  Rex Franciae imperatori, super liberatione pre...  1241   \n",
       "12    Responsiua Friderici imperatoris ad precedentem  1241   \n",
       "13  Fridericus inuectiue ad cardinales, qui nimis ...  1242   \n",
       "14  Friderici regi Castellae, grauis querimonia de...  1250   \n",
       "15  Regi Anglorum, narrans ei, quod non potuit obt...  1248   \n",
       "16  Fridericus cardinalibus, invectiua cum increpa...  1243   \n",
       "17  Fridericus regi Franciae, qui conqueritur de d...  1249   \n",
       "18  Fridericus capitaneo regni, ut procedat contra...  1249   \n",
       "19  Fridericus regibus et universis baronibus regn...  1245   \n",
       "\n",
       "                                               textes  \n",
       "0   Collegerunt pontifices et Pharisei consilium i...  \n",
       "1   Illos felices describit antiquitas, quibus ex ...  \n",
       "2   Etsi causae nostrae iustitiam, uulgaris famae ...  \n",
       "3   Ne per excogitatae malignitatis astutiam iste ...  \n",
       "4   Virum industrium et illustrem R., comitem Thol...  \n",
       "5   Cum sit Christus caput Ecclesiae et in Petri u...  \n",
       "6   Virum industrium et illustrem R., comitem Thol...  \n",
       "7   Adauctae nobis continue felicitatis auspicia, ...  \n",
       "8   Cum ad depopulationem uicinae urbis Bononiae n...  \n",
       "9   Hucusque satis, ut loquamur ad litteram, pacem...  \n",
       "10  Victorioso exercitu nostro Romanis finibus ins...  \n",
       "11  Tenuit hactenus indubitanter nostra fiducia, q...  \n",
       "12  Regiae serenitatis litteras imperialis excelle...  \n",
       "13  Ex feruore charitatis intrinsecae decapitatis ...  \n",
       "14  Pensantes amoris affectum, quem ad uos semper ...  \n",
       "15  Quantum et qualiter hactenus pro generali bono...  \n",
       "16  Ad uos est hoc uerbum, filii Effrem male tende...  \n",
       "17  Satis nos pungit interius res noua, quam scrib...  \n",
       "18  Pungitiue nos tangit interius res noua quam sc...  \n",
       "19  Vt iustitiam et innocentiam nostram, tam uos q...  "
      ]
     },
     "execution_count": 15,
     "metadata": {},
     "output_type": "execute_result"
    }
   ],
   "source": [
    "df_PDV = df_PDV[['Livre', 'Numéro de la charte','Titre','Date','textes']]\n",
    "df_PDV.head(20)"
   ]
  },
  {
   "cell_type": "code",
   "execution_count": 30,
   "id": "969efcb5",
   "metadata": {},
   "outputs": [],
   "source": [
    "stopwords_latin = ['©','quod','et','a', 'ab', 'ac', 'ad', 'adhic', 'aliqua', 'aliquae', 'aliquam', 'aliqui', 'aliquis', 'an', 'ante', 'apud', 'at', 'atque', 'aut', 'autem', 'cetera', 'ceterae', 'ceteri', 'ceteris', 'cetero', 'ceterorum', 'ceteros', 'ceterum', 'ceterus', 'cum', 'cur', 'de', 'deinde', 'dum', 'ea', 'eae', 'eam', 'earum', 'eas', 'eis', 'eo', 'eorum', 'eos', 'eum', 'eundem', 'eumdem', 'ex', 'fio', 'haec', 'hanc', 'hic', 'hoc', 'huc', 'iam', 'idem', 'igitur', 'ii', 'iis', 'ille', 'illius', 'in', 'infra', 'inter', 'interim', 'ipse', 'ipsa', 'ipsam', 'ipsis', 'ipsius', 'ipsorum', 'ipsos', 'ita', 'magis', 'modo', 'mox', 'nam', 'ne', 'nec', 'necne', 'necque', 'neque', 'nisi', 'non', 'nos', 'nostra', 'nostrae', 'nostram', 'nostri', 'nostris', 'notre', 'o', 'ob', 'per', 'possum', 'post', 'pro', 'quae', 'quam', 'quare', 'qui', 'quia', 'quibus', 'quid', 'quidem', 'quin', 'quis', 'quisnam', 'quisquam', 'quisque', 'quo', 'quoniam', 'sed', 'si', 'sibi', 'sic', 'sicut', 'sine', 'sive', 'sub', 'sua', 'suam', 'sui', 'suis', 'sum', 'super', 'supra', 'suus', 'tam', 'tamen', 'trans', 'tu', 'tua', 'tunc', 'tuo', 'tuos', 'tuus', 'ubi', 'uel', 'uelut', 'uero', 'unus', 'ut']\n",
    "\n",
    "# Ajout des déterminants de la liste précédente\n",
    "stopwords_latin += ['mei', 'tui', 'sui', 'nostri', 'vestri', 'suus', 'meus', 'tuus', 'noster', 'vester', 'eius', 'eae', 'ea', 'eum', 'eam', 'eos', 'eas', 'id', 'is', 'illa', 'illud', 'illi', 'illis', 'ipsum', 'ipsam', 'ipsa', 'ipsi', 'ipsis', 'idem', 'eadem', 'idemque', 'eademque']\n"
   ]
  },
  {
   "cell_type": "code",
   "execution_count": 48,
   "id": "1a0312da",
   "metadata": {},
   "outputs": [
    {
     "data": {
      "text/html": [
       "<div>\n",
       "<style scoped>\n",
       "    .dataframe tbody tr th:only-of-type {\n",
       "        vertical-align: middle;\n",
       "    }\n",
       "\n",
       "    .dataframe tbody tr th {\n",
       "        vertical-align: top;\n",
       "    }\n",
       "\n",
       "    .dataframe thead th {\n",
       "        text-align: right;\n",
       "    }\n",
       "</style>\n",
       "<table border=\"1\" class=\"dataframe\">\n",
       "  <thead>\n",
       "    <tr style=\"text-align: right;\">\n",
       "      <th></th>\n",
       "      <th>texts</th>\n",
       "      <th>clean_PDV</th>\n",
       "    </tr>\n",
       "  </thead>\n",
       "  <tbody>\n",
       "    <tr>\n",
       "      <th>0</th>\n",
       "      <td>Collegerunt pontifices et Pharisei consilium i...</td>\n",
       "      <td>[collegerunt pontifices et pharisei consilium ...</td>\n",
       "    </tr>\n",
       "    <tr>\n",
       "      <th>1</th>\n",
       "      <td>Illos felices describit antiquitas, quibus ex ...</td>\n",
       "      <td>[illos felices describit antiquitas quibus ex ...</td>\n",
       "    </tr>\n",
       "    <tr>\n",
       "      <th>2</th>\n",
       "      <td>Etsi causae nostrae iustitiam, uulgaris famae ...</td>\n",
       "      <td>[etsi causae nostrae iustitiam uulgaris famae ...</td>\n",
       "    </tr>\n",
       "    <tr>\n",
       "      <th>3</th>\n",
       "      <td>Ne per excogitatae malignitatis astutiam iste ...</td>\n",
       "      <td>[ne per excogitatae malignitatis astutiam iste...</td>\n",
       "    </tr>\n",
       "    <tr>\n",
       "      <th>4</th>\n",
       "      <td>Virum industrium et illustrem R., comitem Thol...</td>\n",
       "      <td>[uirum industrium et illustrem r comitem tholo...</td>\n",
       "    </tr>\n",
       "    <tr>\n",
       "      <th>...</th>\n",
       "      <td>...</td>\n",
       "      <td>...</td>\n",
       "    </tr>\n",
       "    <tr>\n",
       "      <th>358</th>\n",
       "      <td>Fauorabilis petitio supplicantium effectu debe...</td>\n",
       "      <td>[fauorabilis petitio supplicantium effectu deb...</td>\n",
       "    </tr>\n",
       "    <tr>\n",
       "      <th>359</th>\n",
       "      <td>Tenore presentium notum facimus uniuersis, quo...</td>\n",
       "      <td>[tenore presentium notum facimus uniuersis quo...</td>\n",
       "    </tr>\n",
       "    <tr>\n",
       "      <th>360</th>\n",
       "      <td>Ad hoc summi dispensatione consilii principali...</td>\n",
       "      <td>[ad hoc summi dispensatione consilii principal...</td>\n",
       "    </tr>\n",
       "    <tr>\n",
       "      <th>361</th>\n",
       "      <td>Consueuit innata benignitas, consuetudo regnan...</td>\n",
       "      <td>[consueuit innata benignitas consuetudo regnan...</td>\n",
       "    </tr>\n",
       "    <tr>\n",
       "      <th>362</th>\n",
       "      <td>Notum facimus uniuersitati uestrae, quod ... d...</td>\n",
       "      <td>[notum facimus uniuersitati uestrae quod de  f...</td>\n",
       "    </tr>\n",
       "  </tbody>\n",
       "</table>\n",
       "<p>363 rows × 2 columns</p>\n",
       "</div>"
      ],
      "text/plain": [
       "                                                 texts  \\\n",
       "0    Collegerunt pontifices et Pharisei consilium i...   \n",
       "1    Illos felices describit antiquitas, quibus ex ...   \n",
       "2    Etsi causae nostrae iustitiam, uulgaris famae ...   \n",
       "3    Ne per excogitatae malignitatis astutiam iste ...   \n",
       "4    Virum industrium et illustrem R., comitem Thol...   \n",
       "..                                                 ...   \n",
       "358  Fauorabilis petitio supplicantium effectu debe...   \n",
       "359  Tenore presentium notum facimus uniuersis, quo...   \n",
       "360  Ad hoc summi dispensatione consilii principali...   \n",
       "361  Consueuit innata benignitas, consuetudo regnan...   \n",
       "362  Notum facimus uniuersitati uestrae, quod ... d...   \n",
       "\n",
       "                                             clean_PDV  \n",
       "0    [collegerunt pontifices et pharisei consilium ...  \n",
       "1    [illos felices describit antiquitas quibus ex ...  \n",
       "2    [etsi causae nostrae iustitiam uulgaris famae ...  \n",
       "3    [ne per excogitatae malignitatis astutiam iste...  \n",
       "4    [uirum industrium et illustrem r comitem tholo...  \n",
       "..                                                 ...  \n",
       "358  [fauorabilis petitio supplicantium effectu deb...  \n",
       "359  [tenore presentium notum facimus uniuersis quo...  \n",
       "360  [ad hoc summi dispensatione consilii principal...  \n",
       "361  [consueuit innata benignitas consuetudo regnan...  \n",
       "362  [notum facimus uniuersitati uestrae quod de  f...  \n",
       "\n",
       "[363 rows x 2 columns]"
      ]
     },
     "execution_count": 48,
     "metadata": {},
     "output_type": "execute_result"
    }
   ],
   "source": [
    "df = pd.DataFrame({'texts':df_PDV['textes'],'clean_PDV': df_PDV['textes'].apply(clean_text)})"
   ]
  },
  {
   "cell_type": "code",
   "execution_count": 32,
   "id": "f5cf1886",
   "metadata": {},
   "outputs": [],
   "source": [
    "df_guerin = pd.read_excel(guerin)"
   ]
  },
  {
   "cell_type": "code",
   "execution_count": 83,
   "id": "645c6f3f",
   "metadata": {},
   "outputs": [],
   "source": [
    "pdv = {}\n",
    "for i in range(len(df)):\n",
    "    for sentence in df['clean_PDV'][i]:\n",
    "        pdv[f'pdv_{i+1}_{df[\"clean_PDV\"][i].index(sentence)+1}'] = sentence"
   ]
  },
  {
   "cell_type": "code",
   "execution_count": 84,
   "id": "80ec9442",
   "metadata": {},
   "outputs": [
    {
     "data": {
      "text/plain": [
       "{'pdv_1_1': 'collegerunt pontifices et pharisei consilium in unum et aduersus principem christianum dominum conuenerunt',\n",
       " 'pdv_1_2': 'quid facimus inquiunt quia hic homo de hostibus sic triumphat si sic ipsum dimittimus omnem sibi subiciet gloriam lombardorum et more cesareo ueniens non tardabit ut posse nobis et locum auferat et destruat gentem nostram',\n",
       " 'pdv_1_3': 'uineam autem domini sabaoth aliis locabit agricolis et bonos absque iudicio male perdet',\n",
       " 'pdv_1_4': 'obstemus ergo principiis ne forte scintilla tenuis in flammam transeat destructiuam et morbus quidem sic fistulare incipiens non abscissus perueniat in medullas',\n",
       " 'pdv_1_5': 'sepe enim uix ferus ignis extinguitur et morbo cronico salubris sero parabitur medicina',\n",
       " 'pdv_1_6': 'nullos igitur huiusmodi sermones principis attendentes percutiamus aiunt acriter ipsum lingua nec sagitta nostra plus lateat sed procedat sic procedat quod feriat sic feriat quod ledat sic ledatur ut iaceat sic prosternatur quod amplius non resurgat et tunc clare uidebimur si sua somnia prosint illi',\n",
       " 'pdv_1_7': 'super cathedram moysi sedentes hoc tempore pharisei sic moti sunt contra romanum principem oberrantes quod actores malitiae facti simul et iudices aperte iudicium subuerterunt',\n",
       " 'pdv_1_8': 'tandem illos malitia sic intus et extra penitus excecauit quod una prorsus errante clauium insontem et iustum principem ligauerunt',\n",
       " 'pdv_1_9': 'sed audite mirabilem tam gloriosi principis ligaturam',\n",
       " 'pdv_1_10': 'iste pater patrum qui dicitur seruus seruorum dei omni prorsus exclusa iustitia factus est aspis surda non admittens romani principis allegata et uelut lapis qui de funda iacitur sic emisit subito uerbum malum ac uelut omnino reiciens in perturbatione consilium quod scripsi scripsi uociferans respuit uiam pacis',\n",
       " 'pdv_1_11': 'sed qui christi uicarius diceris et petri successor etiam piscatoris cur accensus furore refugis id pro quo rex omnium induit formam serui',\n",
       " 'pdv_1_12': 'ic rogo quid resurgens mortuis dixit primo discipulis suis ille magister omnium magistrorum',\n",
       " 'pdv_1_13': 'on inquit arma et scutum sumite non sagittam uel gladium sed pax uobis',\n",
       " 'pdv_1_14': 'at quid gloriaris in malitia qui solus in orbe diceris fraus et dolus',\n",
       " 'pdv_1_15': 'uid aliud nisi pacem hymnus dicit angelicus et tertius agnus dei uel quid ille mirabilis regis eterni filius corporali presentia discessurus tunc reliquit discipulis cum rediit unde uenit',\n",
       " 'pdv_1_16': 'erte pax et dilectio sunt principaliter illa duo quae teneri uoluit post discessum',\n",
       " 'pdv_1_17': 'ergo si christi uicarium et petri te asseris successorem christi prorsus et petri tramite non discedas sed actus concordet actibus et campanus inhereat galileo',\n",
       " 'pdv_1_18': 'istud autem satis et merito turbat christi fidelium puritatem quod petrus omnibus relictis et rete sequi christo uocante uoluit uiam uitae qui tamquam omnia possidens et nichil habens ad thesaurum celestis patriae semper ardentius aspirabat',\n",
       " 'pdv_1_19': 'tu uero tamquam nichil habens et omnia possidens queris semper quid deuores et derodas nec sedare potest aliquando totus mundus uentris ingluuiem quia tibi non sufficit orbis terrae',\n",
       " 'pdv_1_20': 'petrus autem ut legitur ad portam ueniens speciosam nec aurum nec argentum habeo dixit claudo',\n",
       " 'pdv_1_21': 'tu uero si forsan incipit aceruus pecuniae minui quem adoras statim cum claudo claudicas querens anxie quae sunt mundi',\n",
       " 'pdv_1_22': 'sed qui christo iubente predicas tamquam pastor ecclesiae paupertatem cur refugis quod hortaris querens semper ut copules aurum auro',\n",
       " 'pdv_1_23': 'n hoc ergo non restat aliud si non dormis nisi ut summi pontificis predicatio contempnatur',\n",
       " 'pdv_1_24': 'de celo namque si bene recolis descendit linteum super petrum cui surge macta et comede dictum est dum oraret qui tamen immunda comedere noluit quamuis esset dira esurie stimulatus',\n",
       " 'pdv_1_25': 'tu uero ad hoc uiuis ut comedas in cuius uasis et sciphis aureis scriptum est bibo bibis cuius uerbi preteritum sic frequenter in mensa repetis et post cibum quod quasi raptus usque ad celum tertium hebraice grece loqueris et latine postquam autem impleta fuerit uentris ingluuies et stomachus usque ad summum eius tunc super pennas uentorum estimas te sedere',\n",
       " 'pdv_1_26': 'tunc romanorum tibi substat imperium tunc afferunt munera reges terrae tunc uinum mirabiles cito facit exercitus tunc seruiunt omnes gentium nationes',\n",
       " 'pdv_1_27': 'ploret igitur mater ecclesia quod pastor gregis dominici factus est lupus rapax crassum quidem de grege comedens confractum non alligat et dissolutum ad propria non reducit sed uelut amator schismatis caput et actor scandali pater doli contra iura romani principis et honorem tuetur hereticos dei quidem et omnium christi fidelium inimicos omni prorsus altissimi timore postposito et hominum uerecundia ultroiecta',\n",
       " 'pdv_1_28': 'sed ut possit hic melius cordis sui nequitiam occultare predictos crucis hostes et fidei fouet et protegit sub quadam specie pietatis asserens se lombardis ad hoc tantum ferre subsidium in hac parte ne cesar ille plus cedat illos aut iudicet plusquam requirit series sui iuris',\n",
       " 'pdv_1_29': 'sed dolosae uulpis astutia numquid in hoc falles ingenium uenatoris',\n",
       " 'pdv_1_30': 't qui regis israel intende singularis dominici gregis pastor dic rogo quid est hoc quod curauit infirmos ut legitur morbis ualidis umbra petri',\n",
       " 'pdv_1_31': 'u uero tamquam uir sanguinum ad hoc solum inuigilas ut facta strage uiuentium sanguis innoxius effundatur et de te sacerdos male optime dici potest qui tuo tempore deo displicere proponis et excellentia tua es iracundiae temporis imitator dicens ignem ueni mittere in terram uel guerram ueni ponere in ecclesia et quid aliud uolo nisi ut inter se homines prelientur',\n",
       " 'pdv_1_32': 'non enim est hoc romani pontificis cui pasce dictum est oues meas ut illas quidem mortifices quarum pastor et caput diceris dux etiam et seruator',\n",
       " 'pdv_1_33': 'istud quidem consideres ut nec uoluntas uel furor opprimat ius et uerum quod ille rex terrestrium et celorum in terris diutius conuersando nichil prorsus habere uoluit cum terrenis sed docendo discipulos beatos pauperes spiritu tunc uocauit',\n",
       " 'pdv_1_34': 'tu uero tantum habens in terris proprium et commune terrenis in terris horrea thesaurizas',\n",
       " 'pdv_1_35': 'sed proh dolor quod thesauros ecclesiae raro uel numquam in usus erogas egenorum',\n",
       " 'pdv_1_36': 'sed ut testatur anagnia mandasti domum fieri mirabilem sicut regia solis erat oblitus prorsus petri inopiae qui dudum non habuit nisi rete',\n",
       " 'pdv_1_37': 'et quod peius est etiam illa nostra hierusalem in qua christus effuso sanguine pati uoluit et occidi iacet ancillata canibus et tributaria sarracenis',\n",
       " 'pdv_1_38': 'et tu christi uicarius in hoc dormis nec curas quod nostra dolet hereditas ad alios deuoluta',\n",
       " 'pdv_1_39': 'sedet enim deserta ciuitas olim plena populo et gentibus speciosa romani quidem antistitis omni prorsus solacio destituta fundit riuos amaritudinis quae mel et lac olim fundere consueuit',\n",
       " 'pdv_1_40': 'uox cuius uox turturis quae pro cantu dat gemitum uiduata plorat anxie uelut rachel filios suos quos in templo suo sancto non uidet sabbata uenerari assidue regem regum romanum expectans principem captiuitatis suae fiduciam et sui exterminii redemptorem',\n",
       " 'pdv_1_41': 'tu autem hostis herodes impie illuc ire timens lapis offensionis et petra scandali maris et terrae semitas conturbasti ne cesar iste mirabilis mundi lumen et speculum sine ruga succurrat more cesareo terrae dei',\n",
       " 'pdv_1_42': 'sed defendis hereticos perditionis filios et erroris audire potes et merito uerbum illud error cui non resistitur adprobatur nec est mirum non enim cares occultae societatis scrupulo qui manifesto facinori desinis obuiare',\n",
       " 'pdv_1_43': 'ad cor ergo reuertere nec opponas te principi matris ecclesiae defensori sed attende et cogita quod siluestro dudum papae pauperrimo latenti tunc temporis in cauernis respondit ut decuit tantum uirum sacri munificentia constantini qui curatus leprae uitio statim dedit ecclesiae quicquid libertatis habet hodie uel honoris',\n",
       " 'pdv_1_44': 'sed siluestri successor male respondet hodie friderico',\n",
       " 'pdv_1_45': 'non enim dimittis septuagies septies sicut eterni regis filius dixit petro qui non uis semel parcere instanter sepe ueniam postulanti',\n",
       " 'pdv_1_46': 'aut cum dicat apostolus omnis potestas domino deo est et qui potestati resistit diuinae potentiae contradicit',\n",
       " 'pdv_1_47': 'reuertentem ergo ad gremium matris ecclesiae benigne recipias filium singularem presertim cum petat instanter ueniam sine culpa alioquin leo noster fortissimus qui hodie simulat se dormire rugitu solo terribili trahet omnes terrae finibus tauros pingues et plantando iustitiam ecclesiam diriget euellens prorsus et destruens cornua superborum',\n",
       " 'pdv_2_1': 'illos felices describit antiquitas quibus ex alieno prestatur cautela periculo',\n",
       " 'pdv_2_2': 'status namque sequens formatur ex principio precedentis et ut impressionem cera recipit ex sigillo sic humanae uitae formatur mortalitas ab exemplo',\n",
       " 'pdv_2_3': 'hanc utinam felicitatem nostra serenitas pregustasset ut cautelae solertiam quam uobis christiani reges et principes ex nostra maiestatis nimia lesione relinquimus nobis potius christiani reges et principes reliquissent porro quia clerici censentur pauperum elemosinis impinguati filios opprimunt',\n",
       " 'pdv_2_4': 'ipsique nostrorum filii subditorum paternae condicionis obliti nec imperatorem nec regem aliqua ueneratione habere dignantur quotiens in patres apostolicos ordinantur',\n",
       " 'pdv_2_5': 'quod autem ex circumlocutionibus nostris innuitur ex innocentii papae quarti presumptione probatur qui uocata synods ut asserit generali contra nos non uocatos nec super aliqua fraude uel prauitate deuictos ausus est sententiam depositionis statuere quam preter omnium regum enorme preiudicium non poterat stabilire',\n",
       " 'pdv_2_6': 'quod enim uobis et singulis regibus singularum regionum facie tanti principis sacerdotum timendum non superest si nos et principum electione sollempni et approbatione totius ecclesiae ac christianae fidei religione uiuentium imperiali diademate diuinitus insignitos et alia regna nobilia magnifice gubernantes ille deponendos aggreditur cuius quo ad imperiale diadema non interest aliquid in nos exercere rigoris etiam si causae legitimae probarentur',\n",
       " 'pdv_2_7': 'uerum quod sacerdotalis sic infestat abusio potestatis summo nos conatur precipitare deorsum nec primi sumus nec ultimi',\n",
       " 'pdv_2_8': 'et haec quidem uos facitis obedientes religionem simulantibus sanctitatis quorum sperat ambitio quod totus mundus influat in os suum si uestrae credulitatis simplicitas scribarum et phariseorum fermento quod est hypocrisis iuxta sententiam saluatoris sibi curaret auertere quot illius curiae turpitudines execrari possetis quas inhonestas et pudor prohibet nos affari',\n",
       " 'pdv_2_9': 'ane redditus copiosi quibus ex plurium depauperatione regnorum ditantur quemadmodum ipsi nostis ipsos faciunt insanire',\n",
       " 'pdv_2_10': 'apud uos christiani mendicant ut apud eos patareni manducent ibi uestras domos obstruitis ut illic aduersariorum oppida construatis',\n",
       " 'pdv_2_11': 'sic de uestris elemosinis impinguati tales christi pauperes sustentantur qui beneficii compensatione ea saltem gratitudinis exhibitione uobis se prebent obnoxios quod quanto manus eis indigentibus liberaliores extenditis tanto non solum manus sed etiam manus et cubitos auidius apprehendunt suo uos laqueo detinentes sicut auiculam quae quanto fortius ad euasionem nititur tanto firmius alligatur',\n",
       " 'pdv_2_12': 'haec uobis ad presens scribenda curauimus mittere insufficienter exprimentia uotum nostrum',\n",
       " 'pdv_2_13': 'cetera uero secretius intimanda decreuimus uidelicet in quos usus diuitias pauperum expendit prodigalitas auarorum quid super imperatore comperimus eligendo nisi pax quam per magnos mediatores intendimus reserare inter nos et ecclesiam saltim superficialiter reformetur quid de regum omnium communibus specialibusque negotiis exponere intendamus quid super insulam oceani fuerit ordinatum quid contra principes uniuersos quibusdam consiliis et negotiis quae nos qui nonnullos habemus ibidem familiares et subditos licet clandestine latere non possint illa curia machinatur quid omnes tot uiribus tot uirorum insidiis quos habet instructos ad bella in hoc ipso iure quod instat qui nunc nos opprimunt uos opprimere posse speramus',\n",
       " 'pdv_2_14': 'quod autem et  fideles nostri latores presentium uobis retulerint certe credatis ac etiamsi sanctus petrus iurasset firmissimum reputetis',\n",
       " 'pdv_2_15': 'nec propter hoc quod uobis petimus uideatur uobis quod propter illatam in nos depositionis sententiam nostrae magnanimitas maiestatis aliquatenus incuruetur',\n",
       " 'pdv_2_16': 'habemus enim conscientiae puritatem et per consequens deum nobiscum cuius testimonium inuocamus quia semper fuit nostrae intentio uoluntatis clericos cuiuscumque religionis ad hoc inducere et precipue maximos ut tales perseuerent in fide quales fuerant in ecclesia primitiua apostolicam uitam ducentes et humilitatem dominicam imitantes',\n",
       " 'pdv_2_17': 'tales namque clerici solebant angelos intueri miraculis coruscare egros curare mortuos suscitare et sanctitate non armis sibi principes subiugare',\n",
       " 'pdv_2_18': 'at isti seculo dediti delitiis ebriati deum postponunt quorum ex affluentia diuitiarum religio suffocatur',\n",
       " 'pdv_2_19': 'talibus ergo subtrahere nocentes diuitias quibus dampnabiliter onerantur opus est charitatis potius quam erroris',\n",
       " 'pdv_2_20': 'ad haec uos omnes principes una nobiscum ut cuncta superflua deponentes modicis rebus contenti deo seruiant cui seruiunt omnia omnem debetis diligentiam adhibere',\n",
       " 'pdv_3_1': 'etsi causae nostrae iustitiam uulgaris famae preloquium et multorum ueridica testimonia nuntiorum ad serenitatis uestrae notitiam perduxisse credamus quia tamen segnius irritant animum demissa per aurem quam quae sunt oculis subiecta fidelibus ipsam puram et nudam ueritatem processus uidelicet quem contra nos hactenus summi pontifices habuerunt uestro conspectui presentamus',\n",
       " 'pdv_3_2': 'ad cuius inspectionem plenariam et attentam de tot temporibus et diebus uestris negotiis deputatis unum sufficiens tempus et diem nobis affectio uestra concedat quod si licuerit diligenter attendere recte considerent regia consilia si fuerit in nobis et predecessoribus nostris rectitudinis zelus si nobis tot et tantis iniuriis lacessitis iusta debuerit aut debeat defensio denegari si demum christi uicarii christi uices impleuerint etsipetri successores eius imitentur exemplum considerent ergo quo iure censeri debeat ualidus processus huiusmodi contra nos habitus uel quo nomine nuncupari si dici sententia ualeat quam iudex incompetens promulgauit',\n",
       " 'pdv_3_3': 'nam etsi nos nostrae catholicae fidei debito suggerente manifestissime fateamur collatam domino sacrosanctae romanae sedis antistiti plenariam in spiritualibus potestatem ut quantumcumque quod absit sit ille peccator quod in terra ligauerit sit ligatum et in celis et quod soluerit sit solutum nusquam uerumtamen legitur diuina sibi uel humana lege concessum quod transferre pro libito possit imperium aut de puniendis temporaliter in priuatione regnorum regibus et principibus iudicare',\n",
       " 'pdv_3_4': 'nam licet ad ipsum de iure et more maiorum consecratio nostra pertineat non magis ad ipsum depositio seu remotio pertinet quam ad quoslibet regnorum prelatos qui reges suos prout assolent consecrant et inungunt uel esto sine preiudicio nostro quod habeat huiusmodi potestatem estne istud de plenitudine potestatis ipsius quod nullo prorsus ordine iuris seruato animaduertere possit in quoslibet quos asserit suae iurisdictioni subiectos',\n",
       " 'pdv_3_5': 'rocessit enim contra nos nuper ut dicitur non per accusationis ordinem cum nec accusator comparuisset idoneus nec inscriptio precessisset nec per denuntiationem legitimo denuntiatore cessante nec per inquisitionis modum quem clamosa insinuatio non precessit cum etiam nullorum inquisitorum nobis facta fuerit copia si qui forte fuerint cum nonnulli fuerint publice per huiusmodi iudicem ad inquisitionem adducti asserit enim omnia fore notoria quae nos esse notoria manifeste negamus et esse notoria per legitimum testium numerum non probantur',\n",
       " 'pdv_3_6': 'sic enim quilibet iudex per se posset solummodo asserendo notorium spreto iuris ordine quemlibet condempnare',\n",
       " 'pdv_3_7': 'insurrexerunt in nos siquidem in concilio ut dicitur testes iniqui sed ualde perpauci quorum aliquos uelut caluensem episcopum suis frate uidelicet et nepote per nos ex causa proditionis ad suspendium legitime condempnatis offensa rationabilis nobis reddidit odiosos',\n",
       " 'pdv_3_8': 'alios tamquam ex ultimis hispaniae partibus prodeuntes terraconensem uidelicet et compostellanum antistites quos negotiorum ytaliae natalis zonae longinquitas fecit inscios eos uenenosae subornationis inductio nostrae iustitiae fecit infestos',\n",
       " 'pdv_3_9': 'esto sine preiudicio nostro quod legitimi fuerint subsistentibus testibus actor et iudex defuit tertius reus qui uel presens uel contumaciter absens secundum iustitiam debuit condempnari',\n",
       " 'pdv_3_10': 'citati namque in predicatione sua lugdunensi sicut audiuimus licet prorsus informiter uidelicet quod ipsi citanti et aliis nonnullis omnino personis aut causis expressis facturi iustitiam per nos deberemus uel responsales idoneos comparere presentes pro certo non fuimus sed ex iustis causis absentes quarum allegationibus nostri legitimi responsales fuerunt repulsi nec absentes contumaciter fuimus',\n",
       " 'pdv_3_11': 'cum preter id quod nulla fuerat citatio ut dictum est prout ordo iuris expostulat uim citationis citatio non haberet',\n",
       " 'pdv_3_12': 'contumaciam nostram magistri thadei de suessa magnae curiae nostrae iudicis fidelis nostri plene procurationis mandatum excusat cuius auctoritas pro eo quod fuerat criminale iudicium ad quod frustra procurator interuenit nullatenus eneruatur cum ipsius citationis tenor quae nos aut procuratores nostros exegit manifeste contrarium dedisset intelligi uidelicet quod contra nos non criminaliter fuisset agendum',\n",
       " 'pdv_3_13': 'predictis etiam omnibus absque nostro preiudicio circumscriptis et dato quod manifeste fuerimus contumaces non est ista legitima contumaciae pena quod delatus aut accusatus et contumax priuato uel publico iudicio in nullo de sua causa discusso per diffinitiuam debeat sententiam con dempnari',\n",
       " 'pdv_3_14': 'sunt etiam et aliae contumacium penae quorumlibet ciuilibus legibus et canonibus introductae',\n",
       " 'pdv_3_15': 'denique posito quod omnia predicta iuris presidio fulciantur licet irrefragabilia causae nostrae sufficiant ipsius pronuntiationis tenor ipsam sententiam nullam fore ostendit per quam non procurator noster presens sed nos absentes extitimus condempnati quam ipso iure nullam esse sententiam leges et iura quaelibet manifeste declarant',\n",
       " 'pdv_3_16': 'euidentes quoque processus et procedentis iniquitatem causae notant quod cum sententia multiplex periurium comprehendat uidelicet de sacramento pacis prestito per nos sicut asserit non seruato preterea dominia per priuilegia diuorum augustorum et nostra ecclesiae romanae concessa uiolenter nobis postmodum ut asserit occupata de cardinalibus et prelatis captis ad concilium conuocatis de quibusdam ecclesiis et ecclesiarum prelatis rebus et clericis regni nostri per officiales nostros nobis de regno absentibus uiolatis',\n",
       " 'pdv_3_17': 'a quibus omnibus incorruptibilis ueritas et publica munimenta defendunt prout seriatim haec omnia fida relatio latoris presentium et ipsorum munimentorum tenor manifestissime profitentur quamquam ad tam dirae penae sententiam si tamen sententia dici potest quae contra nos precipitata dinoscitur in predictis uenerabilem frisingensem episcopum dilectum principem h magistrum domus sanctae mariae theutonicorum et magistrum petrum de uineis dilectos fideles nostros quos ultimo pro ultima et omnimoda confirmatione pacis tractatae ad concilium mittebamus saltem per triduum ad multorum nobilium et quamplurium prelatorum instantiam summus pontifex noluit prestolari',\n",
       " 'pdv_3_18': 'nec quod de cessatione census adicitur pro regno syciliae nos ab ipsius regni dominio uel iure secludit cum census ante discordiam inter nos et ecclesiam exortam absentes regno per officiales nostros exsolui mandauimus prout litterae nostrae inter rationes rationalium nostrorum inuentae manifeste declarant et quem domino teste pro tempore supradicto usque in presentem diem credidimus esse solutum presertim cum nobis numquam extiterit requisitus',\n",
       " 'pdv_3_19': 'post discordiam uero censum eumdem consignatum prelatorum et autenticarum personarum sigillis apud edes sacras deponi mandauimus et hodie depositum conseruatur',\n",
       " 'pdv_3_20': 'apparet ergo animosa nimis et ampullosa non minus ex ipsius inflictae penae seueritate sententia per quam imperator romanus imperii actor et dominus lesae maiestatis crimine dicitur condempnatus per quam ridiculosae legi subicitur qui legibus omnibus imperialiter est solutus',\n",
       " 'pdv_3_21': 'de quo temporales penae sumendae cum temporalem hominem superiorem non habeat non sunt in homine sed in deo',\n",
       " 'pdv_3_22': 'spirituales autem penas per sacerdotales nobis penitentias inducendas tam pro contemptu clauium quam pro aliis transgressionibus et humanae naturae peccatis nedum summo pontifice quem in spiritualibus patrem nostrum et dominum profitemur si tamen nos ipse ut filium debita relatione cognoscat sed per quemlibet sacerdotem reuerenter accipimus et deuote seruamus',\n",
       " 'pdv_3_23': 'ex quibus omnibus manifeste liquet quod is potius ignominiose quam iuste habendos nos dixerit de catholica fide suspectos quam nos teste supremo iudice in omnibus et singulis eiusdem articulis secundum uniuersalis ecclesiae disciplinam et approbatum romanae ecclesiae symbolum firmiter credimus et simpliciter profitemur',\n",
       " 'pdv_3_24': 'aduertat igitur industria regia si predictam nullam sententiam ipso iure nullumque processum seruare non minus in nostram quam omnium regum aut quarumlibet aliarum temporalium dignitatum perniciem debeamus',\n",
       " 'pdv_3_25': 'aduertat et aliud qualis ex istis initiis exitus expectetur nobis incipitur sed noueritis quod finietur in uobis quia nostra potentia primitus conculcata resistentiam aliquam non expectat',\n",
       " 'pdv_3_26': 'uestram ergo iustitiam in causa nostra tuentes et uobis uestrisque heredibus longe prouidentes nobis in hiis sicut conuenit toto posse uiriliter assistatis',\n",
       " 'pdv_3_27': 'nec illud omittimus quin fidei uestrae constantiam ex confederatione contracta nobiscum ad presens fiducialiter requiramus ut nedum aduersario nostro aut nuntiis seu legatis ipsius occulte uel publice faueatis quin nobis potius toto posse uiriliter assistatis nullum omnino nuntium populum uestrae dicioni subiectum in dispendiis nostris conuertere molientem aliquatenus admittentes pro certo scituri quod nos in quibus inchoata est tantae temeritatis audacia quae ad depositionem nostram uelut cuiuslibet sacerdotis auctoritatem suae iurisdictionis extendit taliter assistente nobis dextera regis regum qui semper nostram iustitiam comitatur istis principiis occurremus dummodo se nobis illorum potentia non opponat regum et principum scilicet quos commuoiler case docte cong ef yer ms dom moos uere intenccce quer nostrum quod uobis et aliis orbis terrae nobilibus causam iusti timoris in talibus nostra defensio non relinquet',\n",
       " 'pdv_3_28': 'inuiti tamen hoc facimus teste deo',\n",
       " 'pdv_3_29': 'sumus necessario prouocati ueluti qui peste multiplici christianitatem nostris temporibus uidemus attritam ad cuius auxilium una nobiscum prout etiam nuperrime scripsimus totis uos intendere uiribus expectamus',\n",
       " 'pdv_3_30': 'requirat autem de manu eius hoc deus qui tanto discrimini materiam subministrat',\n",
       " 'pdv_4_1': 'ne per excogitatae malignitatis astutiam iste romanae sedis antistes dum factus nobis insidians hiis quae dei sunt longe sepositis de prauitatis hereticae puteo conatur semper exhaurire suffragia quibus euidentem nostrae causae iustitiam decoloret effundens bibulis auribus fellitae conscientiae canones quieti nostrorum fidelium uitam pariat inquietam habita nuper diligenti prouisione sanximus quod quicumque clericus uel religiosus ad papale uel papalis legati mandatum publice forsan obmiserit missarum sollempnia uel alia diuina officia celebrare et ecclesiastica sacramenta fidelibus propinare de ciuitate uel loco cuius incola reperitur eiectus suis bonis omnibus patrimonialibus et ecclesiasticis ut penam de tanta temeritate tulisse se doleat spolietur',\n",
       " 'pdv_4_2': 'clericis uero mandato predicto parere uolentibus et in fide nostra feruentibus ecclesiasticis patrimonialibus applicandis aut proximis ab intestato assignandis',\n",
       " 'pdv_4_3': 'statuimus etiam ut nulli religiosi de ciuitate in ciuitatem audeant se transferre nisi potestatis loci de quo iter arripient testimoniales litteras deferant et alias sint moribus et uita laudabiles ac nostris fidelibus non ignari',\n",
       " 'pdv_4_4': 'uolentes igitur has nouas nostrae munificentiae sanctiones nostris fidelibus inuiolabiliter obseruari tuae deuotioni precipimus quatenus eas per terras quaslibet tuae iurisdictioni traditas per te imperiali programmate publicatas inter statuta ciuitatis cuiuslibet ut nulla sit in executione diuersitas inextricabiliter iubeas inserendas et promittas nos infallibiliter seruaturos',\n",
       " 'pdv_4_5': 'huic etiam publicationi adicias quod clericis omnibus nobis adherere uolentibus et mandata presentia deuote seruantibus inuiolata seruari uolumus omnia eorum priuilegia et ecclesiasticas libertates nec ad pacem uel concordiam cum papa predicto se nostra serenitas inclinabit nisi prius iidem clerici in plenam possessionem omnium bonorum et restitutionem ordinis et honoris quibus per eumdem forsan priuati extiterint integre reducantur',\n",
       " 'pdv_5_1': 'uirum industrium et illustrem r comitem tholosanum dilectum affinem et fidelem nostrum nuper ad presentiam nostram sede apostolica reuertentem gratanter recepimus et circa ea quae pacis sunt domini papae et nostrae uoluntatis plenitudinem referentem tamquam rem hylarem audiuimus et intelleximus diligenter utpote qui de innata nobis mansuetudine guerrarum discrimina semper odiuimus dummodo pacifice regnare possemus et qui ex officii debito qao romanum imperium moderamur cum romano pontifice quem pre ceteris terrae principibus patrem principum profitemur bella plus quam ciuilia gerere crudelius credimus et nefandius reputamus ad pacis pulchritudinem in gentibus reformandam maiestatis nostrae potentiam ardenti desiderio flectimus ipsamque nedum oblatam nobis gratanter admittimus sed nos eam offerre plurimum affectamus',\n",
       " 'pdv_5_2': 'uolentes igitur uotis apostolicis in hiis et in omnibus sicut tenemur nos reddere compotes et ex corde conformes ad hoc deliberatione prehabita direximus aciem mentis nostrae ut pacis consilia cogitantes et desiderantes quod nobis et toti mundo concordiam inire possemus tractatum pacis gratanter duximus admittendum',\n",
       " 'pdv_5_3': 'cum igitur negotii qualitas per paucissimos zelatores pacis peccatis exigentibus hactenus procurata multos ex multis expostulet et nunc de latere nostro',\n",
       " 'pdv_5_4': 'et  uiros idoneos tamquam principiis moti discriminis nostris consiliis assistentes processuum omnium necnon circumstantiarum instructos ad apostolicam et uestram presentiam transmittere nequeamus instante nobis discordia qua residens sedi petri ad presens sibi proficere reputans processibus nostris quae potuit impedimenta iam in lombardiae partibus preparauit secundo etiam legatorum nostrorum aduentui resistente dominum papam duximus postulandum et filiali deuotione rogandum ut ex fratribus suis aliquem quos secum habet ad presens licet faciente fragilitate sortis humanae perpaucos ad nos debeat destinare cui intima cordis nostri quaedam intendimus reserare quae nondum in aures cuiuspiam de nostri pectoris thalamo descenderunt per quae non nisi dispositione diuina cuius sunt occulta iudicia tantorum bonorum confirmata sit series quod pacem indubitanter credimus prouenturam',\n",
       " 'pdv_5_5': 'ecce itaque comitem supradictum uelut amore tam desideratae pacis accensum hylariter laborantem ad sedem apostolicam propterea destinamus cui super hiis quae domino papae et uobis ex parte nostra retulerit indubitanter serenitas uestra credat',\n",
       " 'pdv_6_1': 'cum sit christus caput ecclesiae et in petri uocabulo suam fundauerit ecclesiam supra petram uos apostolorum statuit successores ut petro pro omnibus ministrante uos qui estis candelabra ecclesiae supra montem non sub modio constituta reuera omnibus qui sunt in domo domini ex affectu bonorum operum luceatis nec publica mundi lingua et conscientia generali uos subtrahere intendatis cum ad singula quae residens sedi petri proponit statuere uel denuntiando decreuerit equa participatio uos admittat nisi ipsius religionis ecclesiae status et zelus efferuens euitandi scandalum generale ea uobis suggesserit ob futura',\n",
       " 'pdv_6_2': 'quis enim non miretur et stupeat quod tot uenerabilium patrum aggregatione munitus ecclesiae generalis sedens in solio utinam iustus iudex inconsulte uelit procedere ac suis motibus excandescens in romanum intendit principem aduocatum ecclesiae ad precipitationem omnium sententiam depositionis statuere et ob fauorem lombardorum rebellium exercere spiritualem gladium si dici liceat minus iuste cum alias quicquid ex obiectis ecclesiarum grauaminibus quae uel dicuntur obiecta uel quae ut species genere per indiuidua deriuantur uel emendationem ceperint uel ad deliberationem uestri consilii sit in proximo prout iussio iam precessit debita et integra emendatio secutura',\n",
       " 'pdv_6_3': 'nam ecce per patentes litteras prelatorum per quos mandatum apostolicum nos prestitit monituros euidens testimonium declaratur et precedens nostra constitutio super uocatione prelatorum dampna passorum de eisdem prestanda integra satisfactione prelatis uenerabili messanensi episcopo assessori nostro uocato ad hoc transmisso euidens perhibet testimonium ueritatis',\n",
       " 'pdv_6_4': 'propter hoc non indigne dolemus si pater apostolicus offendere tam grauiter nos intendat ut nos dum in constantem uirum tam uehemens cadat iniuria etsi patienter ferre uelimus immanitas negotii non permittit quin ad ultiones quibus cesares uti solent facti uiolentia nos compellat',\n",
       " 'pdv_6_5': 'uerumptamen dum consideramus impatientiam dominantis uel procedentis et difficultatem attendimus defensoris si ex quo liceret priuatas exercere uindictas quas in hominem per quem scandalum uenit et in sui participes sanguinis compensare possemus attemptata in ipsum et suos uestrae sedis iniuriam redundare tolerabilius duceremus',\n",
       " 'pdv_6_6': 'sed nec ipse nec tota propter hoc successura progenies tanta foret ut imperii culmen zelaret in ultionem ipsorum cumque ipsius sedis auctoritas audaciae sibi frena relaxet et tot uenerabilium fratrum suorum mollities eum in concepta fouere pertinacia uideatur angit nos altiori mente turbatio quod dum nos intendimus persequente defendere oportet nos defendendo grauius offendere satagentem salua semper in omnibus ecclesiae sanctitate quam cultu sacro et debita reuerentia corde et opere ueneramur',\n",
       " 'pdv_6_7': 'quapropter uenerabilem cetum uestrum affectuosius deprecamur quatenus motus summi pontificis quos ex causis euidentissimis tam iniustos quam uoluntarios mundus agnoscit ex deliberata modestia compescatis generali statui ecclesiae et presertim quieti mentium scandalis prouidentes',\n",
       " 'pdv_6_8': '©',\n",
       " 'pdv_6_9': 'nam cum ad salutem et honorem omnimm westrum fauorabiliter alligemur etsi principiis obstare non possumus licite liceat nobis iniurias quas reuocare non possumus propulsare iniuriis',\n",
       " 'pdv_7_1': 'uirum industrium et illustrem r comitem tholosanum dilectum affinem et fidelem nostrum nuper ad presentiam nostram sede apostolica reuertentem gratanter recepimus et circa ea quae pacis sunt domini papae et nostrae uoluntatis plenitudinem referentem tamquam rem hylarem audiuimus et intelleximus diligenter utpote qui de innata nobis mansuetudine guerrarum discrimina semper odiuimus dummodo pacifice regnare possemus et qui ex officii debito qao romanum imperium moderamur cum romano pontifice quem pre ceteris terrae principibus patrem principum profitemur bella plus quam ciuilia gerere crudelius credimus et nefandius reputamus ad pacis pulchritudinem in gentibus reformandam maiestatis nostrae potentiam ardenti desiderio flectimus ipsamque nedum oblatam nobis gratanter admittimus sed nos eam offerre plurimum affectamus',\n",
       " 'pdv_7_2': 'uolentes igitur uotis apostolicis in hiis et in omnibus sicut tenemur nos reddere compotes et ex corde conformes ad hoc deliberatione prehabita direximus aciem mentis nostrae ut pacis consilia cogitantes et desiderantes quod nobis et toti mundo concordiam inire possemus tractatum pacis gratanter duximus admittendum',\n",
       " 'pdv_7_3': 'cum igitur negotii qualitas per paucissimos zelatores pacis peccatis exigentibus hactenus procurata multos ex multis expostulet et nunc de latere nostro',\n",
       " 'pdv_7_4': 'et  uiros idoneos tamquam principiis moti discriminis nostris consiliis assistentes processuum omnium necnon circumstantiarum instructos ad apostolicam et uestram presentiam transmittere nequeamus instante nobis discordia qua residens sedi petri ad presens sibi proficere reputans processibus nostris quae potuit impedimenta iam in lombardiae partibus preparauit secundo etiam legatorum nostrorum aduentui resistente dominum papam duximus postulandum et filiali deuotione rogandum ut ex fratribus suis aliquem quos secum habet ad presens licet faciente fragilitate sortis humanae perpaucos ad nos debeat destinare cui intima cordis nostri quaedam intendimus reserare quae nondum in aures cuiuspiam de nostri pectoris thalamo descenderunt per quae non nisi dispositione diuina cuius sunt occulta iudicia tantorum bonorum confirmata sit series quod pacem indubitanter credimus prouenturam',\n",
       " 'pdv_7_5': 'ecce itaque comitem supradictum uelut amore tam desideratae pacis accensum hylariter laborantem ad sedem apostolicam propterea destinamus cui super hiis quae domino papae et uobis ex parte nostra retulerit indubitanter serenitas uestra credat',\n",
       " 'pdv_8_1': 'adauctae nobis continue felicitatis auspicia quibus dextera domini prosequitur gressus nostros desiderium uestrum uolumus non latere',\n",
       " 'pdv_8_2': 'cum enim in obsidione fauentiae preterita hieme fixa fuerint uictricia nostra castra et insultus noster propter asperitatem temporis non pateret sed machinis et instrumentis bellicis intus et exterius quassaretur et muris ex continuo machinarum ictu collapsis ac per subterraneas uias quas nostri fecerant attingentes menia ciuitatis et intima penetrantes uerni temporis adueniente temperie cum non confiderent ulterius se tueri misericordiam nostram tandem humiliter implorarunt et die cum omni deuotione se ad mandata nostra conuertens quamquam suis diffisa meritis de nostra tamen quae suis preponderabat excessibus pietate confisa dictioni nostrae colla subiecit et corporali fidelitatis debitae prestito iuramento et omnibus aliis illicitis iuramentis quae fecerat penitus abiuratis',\n",
       " 'pdv_8_3': 'nos igitur qui de nostrorum subiectorum conuersione gaudemus gloriosum uindictae genus pensantes ignoscere subditis et suorum excessuum iudicium moderari ciuitatem eamdem et ciues eius in gratia nostra clementer accepimus et eos absoluimus ac offensas remisimus quas patrarant captiuis eorum liberaliter liberatis et tandem eis de gratia nostra confidentiam dedimus ut uicti nostramque misericordiam consecuti uictoriae nostrae dono gaudeant et nichil dulcius nichilque suauius iugo imperii sentiant experiri',\n",
       " 'pdv_8_4': 'cumque post uictam et obtentam fauentiam ad depopulationem uicinae bononiae nostrum preparemus propositum instantius et conatus et exercitu nostro potenti ex diuersis mundi partibus restaurato accingeremur feliciter auribus nostris noua expectata desiderabiliter occurrerunt quod cum episcopus penestrinus nostri honoris et nominis obtractator qui rapacem lupum sub ouina pelle tegebat et quod posset effugere manus nostras exprotracta uelut suarum in nos conscius offensarum frequenter species hominum ex alterna uarietate commerciorum contraxit et o',\n",
       " 'pdv_8_5': 'sancti nicolai in carcere tulliano diaconus cardinalis qui diu legati fuerant necnon et plures alii pro celebrando romano concilio contra nos ex diuersis mundi prouinciis congregati ianuam reuertentes et conspiratione facta cum ianuensibus nostris rebellibus et armata ibidem copia galearum cum quibus duci romam et ianuam reduci conuenerant sub infaustis eorum auspiciis uiam nauigationis assumerent galeas nostras et pisanorum quas ad eorum impediendum transitum sollicitudo nostra diu preuiderat et pararat in locis et portubus per quae oportebat eos necessario pertransire obuias habuerunt',\n",
       " 'pdv_8_6': 'ita quod homines regni nostri cum uictorioso exercitu nostro et fidelibus pisanis nostrorum infidelium ianuensium galeas potenter aggressi tribus eorum galeis in mari submersis et personis amissis uiginti duas galeas triumphaliter habuerunt quarum sedecim obtentae sunt specialiter ab hominibus regni nostri reliquis sex ad manus deuenientibus pisanorum in quibus capti sunt duo legati predicti et cum eis g de romaniola tertius similiter legatus ut cum eisdem legatis insimul ligaretur',\n",
       " 'pdv_8_7': 'capti quoque sunt quamplures archiepiscopi episcopi abbates priores presbyteri procuratores et diuersorum nuntii prelatorum ambassiatores ciuitatum rebellium lombardorum qui contra nos ad ipsum concilium mittebantur et quattuor milia ianuensium electorum qui pro comitatu eorum et ducatu deputati fuerant prelatorum quos omnes carcer noster includit',\n",
       " 'pdv_8_8': 'quibus nouis ad nostram audientiam grata relatione perlatis quia negotii qualitas expetebat et rei succedentis euentus maiora nobis felicitatis auspicia suadebat consilium eundi bononiam reuocantes propensiori consilio uersus romam uictricia castra nostra conuertimus ubi sub uexillis potentiae nostrae nos acclamat fortuna felicior per quam reliquiae si quae sunt nostrorum rebellium consternentur et capitis humiliata superbia collapsa in suo corpore seditionis membra tabescant',\n",
       " 'pdv_8_9': 'adiecit etiam manus domini uotis nostris augmenta successuum et continuauit celo uictoriam nostrorum titulis triumphorum',\n",
       " 'pdv_8_10': 'nam cum de certa die illi papienses nostri fideles una cum uicariis illarum partium et aliis fidelibus nostris ad coartandum per terram ianuam quae in mari prostrata fuerat magnifice processissent mediolanenseses hostes imperii suo motu precipites sperantes maiora perferre papiensibus propter absentiam suorum militum nocumenta per commune cum g de monte longo quem papa prefecerat eis capitaneum et legatum cum buccinis et tubis sub infaustis eorum uexillis clauium exiuerunt',\n",
       " 'pdv_8_11': 'et cum papiensium finibus uicinassent papienses fideles nostri cum militibus eorum qui die illo in sero ab exercitu ex inopinato redierant domino faciente pro mediolanensium superbia conterenda ipsorum aduentu cognito eis audacter et uiriliter concurrerunt et sub felici nostro nomine militantes ipsos potenter aggressi triumphaliter deuicerunt capientes tubas buccinas et uexilla clauium ac uexillum communis cum carrucium non haberent',\n",
       " 'pdv_8_12': 'quingentos quoque de electis mediolanensium uinctos papiensis catena duxit preter occisos quorum numerus uix poterat estimari',\n",
       " 'pdv_8_13': 'socii uero legati capti fuerunt sed de legato ipso si euadere potuit uel in bello occiderit quia in emissione presentium non poterat haberi certitudo quid de persona sua cesserit ignoramus',\n",
       " 'pdv_8_14': 'sed istud inter dubia nondum certi credere uolumus in eo qui nostrum in suo iure firmat imperium confidentes quod tribus in fugitiuo equore captis legatis pariter et ligatis iustus dominus quartum in terra legatum non permiserit euasisse',\n",
       " 'pdv_8_15': 'quae omnia uobis significamus ad gaudium ut sicut estis nostrorum successuum auidi sic sitis participes triumphorum',\n",
       " 'pdv_9_1': 'cum ad depopulationem uicinae urbis bononiae nostrum uerteremus propositum et affectum prelatorum turbam cum penestrino episcopo et magistro o',\n",
       " 'pdv_9_2': 'sancti nicolai in carcere tulliano diacono cardinale nostris aduersaturam processibus ex diuersis prouinciis congregatam contingit suo infortunio ianuam peruenisse ubi conueniente cum eis g de romangia addito legato legatis ut insimul ligarentur et conspiratione facta cum ianuensibus nostris rebellibus galearum copiam armari fecerunt cum quibus ad papam romam pro maiori causa coniurauerant aduenire',\n",
       " 'pdv_9_3': 'ad quorum impediendum transitum et accessum ut occursum nostrum diu ante preuisum conuenire fecimus apud pisas uictoriosum stolium galearum quod eorum precognita motione in locis et portubus quae latenter uel alto mari preteriri non poterant ueluti necessario nauigabilia transituris eis transeuntibus potenter occurri',\n",
       " 'pdv_9_4': 'et aggressis galeis nostris galeas eorum prepotens dominus qui de alto uidet et iudicat equitatem uiam eorum et excogitatam malitiam meditatur in uiribus et potentia nostra quam effugere terra marique non poterant domino faciente legatos insimul tradidit et prelatos et tribus galeis ipsorum submersis in mari ac omnibus qui uehebantur in eis sine spe recuperationis amissis uiginti duae galeae non sine magna cede nauigantium cum personis et rebus uictae sunt et galeis nostris triumphaliter occupatae',\n",
       " 'pdv_9_5': 'in quibus predicti tres legati cum archiepiscopis episcopis abbatibus et multis aliis prelatis nuntiis prelatorum procuratoribus et ultra centum ambassiatores ciuitatum rebellium lombardorum qui ad prefixum ire concilium properabant ac quattuor milia ianuenses exceptis specialibus et electis personis de ianua qui galeis preerant et comitatui prelatorum pro ducendis episcopis romam et ianuam reducendis sicut inter eos fuerat infortunate conuentum ad manus nostras peruenere ligati ut de penestrino illo qui suum contra nos ubilibet odium incitabat diuinum non defuisse iudicium arbitramur qui sub latentis lupi specie in ouina pelle ac agni clamide deum inclusum gerere non formidat et sciat deum nobiscum esse sedens super thronum et diiudicans equitatem qui non solum per sacerdotium sed per regnum et sacerdotium mundi machinam statuit gubernandam',\n",
       " 'pdv_9_6': 'nos ergo suum celitus nobis domino reserante consilium et in plana tot aspera conuertente sudores bellicos et estiuos pulueres non uitantes nostrum felix iter intentionem omnimodam et conatus semper ad ea dirigimus quae nobis et ceteris regnantibus exultationis et gloriae afferant incrementum ut uos predictorum nostrorum successuum participes fieri gaudeamus quos in omni successiuae felicitatis euentu cupimus habere consortes',\n",
       " 'pdv_10_1': 'hucusque satis ut loquamur ad litteram pacem quesiuimus gratam nobis et cunctis gentibus uotis affectatam ad quam per humilitatis et patientiae holocaustum recte captandam preter sacrum imperii ius et morem se pluries nostra inclinauit humilitas petitionis suae uotum tanto celerius adeptura quanto pax petri uicario cui legatum pacis hominibus erogandae commissum est patientius petebatur',\n",
       " 'pdv_10_2': 'uulnus enim immedicabile quod latebat interius externi curam medicaminis insensurum sub mitis medici cura computruit et cordis intima proh dolor uehementer inuasit',\n",
       " 'pdv_10_3': 'congregauit enim lugdunense concilium quod inuiti referimus romanus antistes per quod ferrum gentibus prebuit et quod sedasse debuerat letale discidium nostris temporibus letaliter incitauit',\n",
       " 'pdv_10_4': 'restat itaque mederi per gladium putres partes audacter abscindere ne subsequenter imputres per coadherentiam putrefiant',\n",
       " 'pdv_10_5': 'ad salubre igitur et festinum subsidium procurandum fidelium nostrorum omnium promptas exquirimus uoluntates ecclesiarum potissime et personarum ecclesiasticarum in quibus profundius laborat infirmitas speciale subsidium inquirentes quorum uota concurrere manifeste conicimus uotis nostris ut quanto fuerit succursus agilior tanto magis indigens et promptior sit cautela',\n",
       " 'pdv_10_6': 'quocirca fidelitati tuae firmiter et districte precipiendo mandamus quatenus ab eisdem clericis iurisdictioni tuae subditis tertiam partem obuentionum et prouentuum omnium pro tam salubri et necessaria subuentione prestanda instanter exigas et recolligas festinanter ipsam ad cameram nostram celeriter transmissurus',\n",
       " 'pdv_10_7': 'clerici nichilominus cura protegantur imperii pastoris negligentia uel temeritate dispersi',\n",
       " 'pdv_10_8': 'uolumus quod de bonis patrimonialibus quae in imperio possident contingentem eos collectam exsoluere more solito auctoritate nostra compellas',\n",
       " 'pdv_10_9': 'quoscumque uero ex eis in solutione quantitatis subsidialis eis impositae uel imponendae repereris contumaces nostri carceris excidiis aggreges ne per impunitates scelerum intentionem aggrauent delinquendi',\n",
       " 'pdv_11_1': 'uictorioso exercitu nostro romanis finibus insidente ad quos auiditate componendae pacis et uoto generalis discidii remouendi specialiter celsitudo nostra peruenit publicus ad castra nostra rumor exiuit quod die presentis mensis augusti g',\n",
       " 'pdv_11_2': 'romanus pontifex humanis est rebus exemptus ut qui pacem et tractatum pacis recipere denegabat ad uniuersalem dissensionem aspirans ne ultoris augusti metas excederet qui augustum offendere nitebatur',\n",
       " 'pdv_11_3': 'reuera mortuus est per quem pax deerat terris et uigebat discidium et quam plures in mortis periculum incidebant de cuius morte multa compassione ducimur et licet contra eum digno odio moueremur uelut ab eo manifestis iniuriis et euidentis inimicitiae persecutionibus lacessiti gratum tamen compassio nostra duxisset si diebus suis fuisset ab actore salutis indultum quod reuerendam matrem nostram sacrosanctam romanam ecclesiam et romanam sedem imperii cui domino presidemus actore in optata pace sopitis dissensionibus statuisset et ortum de suo motu scandalum generale quod ualde fuit modernis temporibus christi fidelibus onerosum suo tempore quieuisset',\n",
       " 'pdv_11_4': 'sed cum aliter prouisum fuerit in excelsis apud omnium conditorem qui nouit in abscondito consilia malignantium rebus dissidentibus prouidit ad clamorem christiani populi consulendum et disponet in apostolica sede uirum secundum cor suum qui sui predecessoris erronea corrigat et malefacta reformet totius mundi paci prouideat et nos in maternam dilectionem ecclesiae uiuificet et reformet',\n",
       " 'pdv_11_5': 'ad quod uotis ardentibus et dolentibus animis totisque conatibus insudamus ut pacis amico et iustitiae zelatore in dei ecclesia substituto ad honorificentiam noui patris deuotus filius assurgamus dummodo predecessoris crimen et odium non sequatur omnimodam beneuolentiam deuotionem et patrocinium impensuri ad tuitionem catholicae fidei et ecclesiasticae libertatis',\n",
       " 'pdv_11_6': 'cum ad hoc disponente domino imperii sceptrum sumpserimus et romanum imperium nostrum sit ad preparationem euangelii preparatum ut catholicam fidem et matrem ecclesiam cunctis hostium incursibus nostrarum uirium conatibus eruamus presertim cum ex occidentalibus partibus tartarorum hostis adueniat qui destructis per quodcumque transitum habuerit regnis et diuersarum multitudine gentium conculcata et copia populorum funditus abolere satagit tam nomen quam cultores fidei christianae cui de prouidentia noui patris romani substituendi pontificis assistente nobis potentia regum et principum orbis terrae magnifice disponimus obuiare assumentes fiducialiter causam dei qui nostros aufert de medio inimicos ut expositas ad eius seruitium impedire nequeant uias nostras',\n",
       " 'pdv_11_7': 'uos igitur diuinae prouisioni ac nostris affectibus deuoti et hylares assurgentes tam uestrorum proposita cordium preparetis ad pacem quam armis necessariis corpora muniatis ad conterendam una nobiscum aduenientium hostium superbiam tartarorum',\n",
       " 'pdv_12_1': 'tenuit hactenus indubitanter nostra fiducia quod inter imperium et regnum nostrum longo tractatu temporis mutua dilectione firmata nulla posset exoriri materia odium et scandalum paritura',\n",
       " 'pdv_12_2': 'cum predecessores nostri felicis memoriae reges uniuersi usque ad nostra tempora honorem imperii et sublimitatem zelauerint et nos qui post ipsos deo uolente regnamus in eodem proposito tenebamur',\n",
       " 'pdv_12_3': 'necnon antiqui romanorum imperatores et nostri proximi unum et idem regnum et imperium reputantes unitatem pacis et concordiae seruauerunt et inter eos alicuius dissensionis scintillula non illuxit',\n",
       " 'pdv_12_4': 'uerum admirari cogimur uehementer et non sine ratione turbari quod nulla offensionis causa uel materia precedente prelatos regni nostri ad sedem apostolicam accedentes cui tam ex fide quam obedientia tenebantur nec eius poterant recusare mandata in mari capi fecistis et ipsos sub custodia detinetis quod magis moleste ferimus quam maiestatis uestrae sublimitas forte credat',\n",
       " 'pdv_12_5': 'nam sicut ex eorum litteris manifeste didicimus nichil contra imperialem celsitudinem excogitauerant etiamsi summus pontifex fuisset ad aliqua alia minus debite processurus unde cum in eis nulla detentionis causa inueniatur deceret altitudinem uestram prelatos dicti regni debitae restituere libertati in quo nos et uos ipsos redderetis pacatos qui detentionem ipsam iniuriam reputamus',\n",
       " 'pdv_12_6': 'et regno sublimi multa fieret detractio si super talibus taceremus nam si ad predicta mentis uestrae oculos uultis reflectere penestrinum episcopum et alios prelatos ac etiam legatos ecclesiae in preiudicium uestrum uolentes apud nos subsidium implorare manifeste reppulimus nec in regno nostro contra maiestatem uestram potuerunt aliquid impetrare uel etiam obtinere',\n",
       " 'pdv_12_7': 'prouideat igitur imperialis prouidentia et ponat in statera iudicii ea quae scribimus nec uelit trahere locum potentia uel uoluntate nam regnum franciae non est adeo debilitatum in uiribus quod se permittat uestris calcaribus perurgeri',\n",
       " 'pdv_13_1': 'regiae serenitatis litteras imperialis excellentia intellexit quae si non haberent in medio contradictionis obstaculum fuissent apud nos fortassis propositum consecutae',\n",
       " 'pdv_13_2': 'sed quia modico fermento tota massa corrumpitur et uniuersalem destruit unius falsitas singularis constat illa regia scripta sine uirtute medii conclusisse quod euidenter ex factis nostris ostendimus quae sunt omnibus manifesta',\n",
       " 'pdv_13_3': 'notorium est enim et mundus celare non potest qualiter dudum pater ille apostolicus innocentiam nostram utroque gladio impugnarit dum nobis ad mandatum suum transfretantibus ultra mare idem aduersarius noster et hostis syciliae regnum inuasit et ipsum non in parte sed multimode lacerauit',\n",
       " 'pdv_13_4': 'postmodum uero post reditum nostrum in regnum ad multam instantiam et interpositionem nostrorum alamanniae principum pace cum ecclesia reformata deuotione resumpta etsi seruitia nostra precesserint dictus tamen apostolicus manus suas fortius aggrauauit et quicquid excogitare poterat ad precipitium nostrum excogitauit motu proprio sine causa in nos excommunicationis sententiam promulgando litteris et nuntiis nostrae diffamationis titulos predicans uniuersis',\n",
       " 'pdv_13_5': 'nouissime autem ad supplantationem nostram aspirans ut aduersus turrim dauid turrim',\n",
       " 'pdv_13_6': 'construeret ex aduerso prelatos quoscumque potuit ad synodum particulare concilium euocauit orientem preponere cupiens aquiloni',\n",
       " 'pdv_13_7': 'uerum mirabilis dei prouidentia per quam uiuimus et regnamus huiusmodi prauitatis ipsius conspirationem uertens in nichilum cardinales et prelatos tam franciae quam aliarum prouinciarum in manibus nostris conclusit quos omnes tamquam nostros hostes et aduersarios detinemus',\n",
       " 'pdv_13_8': 'nam ubi non deficiebat persecutor non debebat deesse defensor presertim cum imperium transcendat hominem et leonis uestigia animalia singula pertimescant',\n",
       " 'pdv_13_9': 'non igitur miretur regia celsitudo si prelatos franciae in angusto tenet augustus qui ad cesaris angustias nitebantur',\n",
       " 'pdv_14_1': 'ex feruore charitatis intrinsecae decapitatis membris imperialis excellentia condolet et ex indiuisibilis dilectionis affectu quem erga matris ubera gerit filius iam adultus ecclesiae uiduatae compatitur et compatiendo turbatur ut cui materna suauitas dulcedinis alimenta communicat et augmenta dilectionis interius subministrat doloris procul dubio non sit expers',\n",
       " 'pdv_14_2': 'dolor est siquidem dolor ingens si romana ecclesia quae mater esse debet omnium et magistra in qua secus decursus aquarum plantata sunt ligna scientiae pastoris solacio careat et quae uiam tenetur prebere aliis penitus oberrans in inuio cogatur addiscere quae facere debuit et docere',\n",
       " 'pdv_14_3': 'sane contra naturalis ordinis tramites mira res agitur dum reuolutas undique aquas abyssus denegat quas uirtutum ariditas ut credimus iam siccauit dum petri nauicula quam cupiditatis flamma uorauit in girum nautarum in culpa presidentium procellis intumescentibus conquassatur dum mater ecclesia quae in petro immo in petra posuit fundamentum sensu priuata proprio remansit ut indigena uiduata',\n",
       " 'pdv_14_4': 'ecce siquidem perdente christo uicarium princeps apostolorum perdidit successorem pastorali regimine grex dominicus est priuatus',\n",
       " 'pdv_14_5': 'sed cardinales ecclesiae cardines et columnae quos diminutio capitis eclipsauit quales ceteris aliis ueniae impetratores existitis qui si ueritas sub modio non celatur non sufficitis ad uindictam',\n",
       " 'pdv_14_6': 'uales semitas ostenditis enrantibus qui ueritatis gressibus deuiatis',\n",
       " 'pdv_14_7': 'edentes enim ut colubri non quae sursum sunt sapitis quae ante oculos sita sunt mundana non spiritualia pertuentibus oculis insatiabilibus prouidetis',\n",
       " 'pdv_14_8': 'sed sitit quilibet presulatum et papalem esurit apicem prout uoluntas tonat arbitrii et merita non subseruiunt rationi quorum uultus inuidiae maculis sic liquor cupiditatis obducit quod neuter uelit uiuere alterum nedum pontificatus fastigio cathedratum',\n",
       " 'pdv_14_9': 'mouetur igitur mouetur et merito nostrae maiestatis inglusuia quae ginto fortius doloris aculeo pungitur quanto prae cunctis regibus et mundi principibus romanae ecclesiae propinquius imperium uicinatur',\n",
       " 'pdv_14_10': 'cesset itaque cesset materia factionum cesset inter uos innata dissensio non uos seducat angelus tenebrarum qui sepe in lucis angelum se transformat et unitatem gregis dominici disrumpere consueuit sed pax et iustitia quae uelut duae sorores se inuicem amplexantur in cardinalium collegio uindicent sibi locum et illius inuocata clementia cuius est summo celo egressio ad electionem pontificis unanimiter procedentes uobis et mundo presulem eligatis',\n",
       " 'pdv_14_11': 'ubi diuinus intuitus uos inuitet et pondera subeant equitatis ut uos in opere preuios et meritis precursores habere debeat populus christianus cum assumatur subditis audacius in exemplum quod committit irreuerentius improuisio prelatorum',\n",
       " 'pdv_14_12': 'non transgressionis notam accipiant subditi quos regitis dirigendo sed prouisionis unanimis et firmioris fidei uestigia prosequantur',\n",
       " 'pdv_15_1': 'pensantes amoris affectum quem ad uos semper habuimus hactenus et habemus illesum firmiter credimus ut sicut honorem uestrum et commoda libenter amplectimur sic nos uice mutua diligatis et nostra quae maxime causam uestram aliorumque regum et principum immediate contingunt et in quibus non minus uestrum quam nostrum uertitur interesse',\n",
       " 'pdv_15_2': 'latere quidem uos forte non credimus qualiter pontificalis ambitio dignitatis in imperialis honoris dispendium et aliarum singularium secularium dignitatum conata est semper hactenus iura nostra confundere et nostrae potentiae brachia conculcare faciens cesare romano principium ut ad reges et principes alios faciliorem habeat in sua cupiditate progressum',\n",
       " 'pdv_15_3': 'ipse quidem non aduertens quot et quanta mundo discidia ex huiusmodi turbatione proueniant tractare non desinit qualiter hostes nostros contra nos temporaliter incitet et fideles nostros nostra deuotione subuertat',\n",
       " 'pdv_15_4': 'qui si rebus ordinarie procedentibus rectitudinis spiritu duceretur deberet contra christicolas arma deponere et in terrae sanctae subsidium quam quolibet inspicimus auxilio destitutam uniuersaliter christi fidelibus aduocare succursum preter alia namque discrimina quae per unionem sopiendae discordiae inter nos et summum pontificem procurandam totus iam fere mundus potuit euitare',\n",
       " 'pdv_15_5': 'nunc miserabili casui quem non sine fidei dispendio audiuimus euenisse in partibus transmarinis fuisset forte salubriter et accurate prouisum cum ibidem nostram uel filiorum nostrorum presentiam quam libenter et frequenter obtulimus habere potuerit fructuosam si petitae per nos multotiens pacis fauere negotio uoluisset',\n",
       " 'pdv_15_6': 'nos enim qui propter honorem catholicae fidei sacrosanctam romanam ecclesiam in omnibus reueremur ut matrem et dominam et libenter ut patrem summum pontificem coleremus si ipse nos ut filium debita relatione tractaret sic in negotio ipso iura nostra defendimus ut non solum nobis sed principibus aliis gloriam de nostra defensione portemus',\n",
       " 'pdv_15_7': 'uos tamen quorum in hoc non minus uestra quam nostra causa nunc agitur et in quos de facili posset huiusmodi refundi negotium sic aperte uidemini presentia facta negligere uel super hiis potius dormitare tamquam si uos in nulla parte contingeret et de honore uestro cura nobis sollicitudinis non adesset',\n",
       " 'pdv_15_8': 'quis enim cautelae modus in uobis et in regibus aliis in casu simili remaneret si causam ipsam romanus augustus desereret uel quorum humeri ad onera ista portanda sufficerent si colla nostra subtrahere ab eorumdem onerum supportatione uellemus g',\n",
       " 'pdv_15_9': 'uerum cum istae romanae sedis antistes ab ea forte deuians pietate quam predicat quocumque modo potest licet contra nos suum posse non ualeat tam in imperio quam in regnis nostram nitatur offendere maiestatem motus nostros artare non possumus quin causam nostram et aliorum in nostra uiriliter tueamur',\n",
       " 'pdv_16_1': 'quantum et qualiter hactenus pro generali bono fidei christianae terrae sanctae precipue ad cuius recuperationem uniuersorum christianorum sed precipue regum et principum uota suspirant ad pacis uniuersaliter expectatae dulcedinem inter nos et istum ac alios romanos pontifices procurandam humilitatis nostrae colla submisimus serenitatem uestram scire iam credimus nec mundus ignorat',\n",
       " 'pdv_16_2': 'uolumus siquidem pacem reuerenter expetere ne immundi crassari discidiis uideamur uolumus illum antiquum patientia nostra temperare rigorem quem nonnullos progenitores nostros diuos romanos augustos in similibus forsan nouimus habuisse',\n",
       " 'pdv_16_3': 'nuper etiam ad requisitiones et preces illustris regis francorum dilecti amici nostri quem in terrae sanctae subsidium personaliter et instanter accinctum percepimus desperatum quodammodo pacis negotium resumere delectabat quamquam nos preteritorum experimento perterriti de pacis dubitare negotio necessario cogeremur dum quoties humilitatis ad pacem euidentia signa monstrauimus totiens uoluntatem partis aduersae inuenimus duriorem',\n",
       " 'pdv_16_4': 'de processu tamen regis eiusdem ad papalem presentiam talem qualem fiduciam obtinentes et  fideles nostros sollempnes excellentiae nostrae legatos plenae nostrae uoluntatis auctoritate suffultos specialiter prouidimus destinandos qui dum pro honore ecclesiae matris nostrae ac felicibus christianitatis auspiciis saluo honore semper imperii et regnorum quibus actore domino presidemus uoluntatem nostram ad pacem paratam exponerent et manifesta presagia futurae satisfactionis offerrent quae rex ipse sufficientia reputabat',\n",
       " 'pdv_16_5': 'iste bonus pastor ecclesiae nullum ad ius et honorem imperii ac ad nos uoluit habere respectum sed totum suae subicere potestati pro lombardorum negotio quod pacis tractatui semper hactenus impedimenta pararat per hoc pacem quam debebat exquirere turpiter profugauit oblatam',\n",
       " 'pdv_16_6': 'ecce itaque quesiuimus pacem et non inuenimus uocauimus eam nec uocata respondit',\n",
       " 'pdv_16_7': 'restat igitur ut sic nostra et imperii nostri iura aliorumque regum et principum in causa nostra tueamur uiriliter quod nos non oporteat pacem amplius impudenter expetere sed potius acceptare petitam',\n",
       " 'pdv_17_1': 'ad uos est hoc uerbum filii effrem male tendentes arcum et peius emittentes sagittas turpiter in die belli conuersi retrorsum',\n",
       " 'pdv_17_2': 'ad uos est hoc uerbum filii belial dispersionis oues',\n",
       " 'pdv_17_3': 'ad uos est hoc uerbum animalia capita non habentia magni iudicis assessores',\n",
       " 'pdv_17_4': 'ad uos est hoc uerbum cardinales obliquati quibus male uoluitur orbis',\n",
       " 'pdv_17_5': 'ad uos est hoc uerbum pro quibus totus mundus prorumpens in uerba obloquitur',\n",
       " 'pdv_17_6': 'nec ego possum loqui quin obloquar qui de mundo sum licet immundus propter quod oportet me sentire cum mundo tamquam pars suo toti nec dissona nec aduersa',\n",
       " 'pdv_17_7': 'scribentis itaque attendite de dura et inepta materia rudem epistolam exordii dignitate priuatam',\n",
       " 'pdv_17_8': 'lingua mea uelocitate compulsa prius prorupit in uerba quam concipiens ei spiritus delegasset et sic superioris non expectato imperio minus plene concepta edere festinauit',\n",
       " 'pdv_17_9': 'habet enim hoc animus conturbatus quod plerumque sermonem incontinuum parit aliquando et abortiuum',\n",
       " 'pdv_17_10': 'communis namque animorum existit conceptio et sermo uulgaris quod non mediator dei et hominum iesus christus de summo celo qui uenit ponere pacem in finibus terrae apostolorum magister et dominus sed diuisus in se sathanas princeps aquilonarius sit in medio uestrum tamquam quibus ministrat ille persuasor discordiae spiritus tenebrosus qui posuit linguas uestras in diuisiones et in pluralitatis articulos uestram disgregare compulit unitatem dum nec uobis nec mundo consulitis qui tot periculis propulsatur et petri nauicula quae per maris altitudinem uentorum flatibus rapitur remis et remige destituta non est aliquatenus uobis curae quae quamuis in se submersionem non timeat in suis tamen multa et uaria patitur naufragia tempestatum',\n",
       " 'pdv_17_11': 'sane si diligenter attenditis qualiter nationes et gentes quas iudicare soletis contra uos derisorie mouent capita sua in se unusquisque palleret et ad tam publicum et detestabile opprobrium propulsandum non inueniri posset necessarium argumentum quia dum quilibet uestrum aspirat ad cathedram unus non consentit in alium et dum alter in alterum non consentit nullus erigitur et dum nullus erigitur cathedralis dignitas euanescit et sic ex disconueniencia uestra conuenientis ecclesiae status confunditur et fidei qua uiuitis deperit rectitudo',\n",
       " 'pdv_17_12': 'per capitis quidem defectum immergit ut ubi natura sensus imposuit monstra reputemini quaedam et membra truncata in cunctis sensibus defectiua quoniam uidetur obtenebratus uisus uester diminutus auditus et ille oris sonus in fines orbis terrae olim sonorus penitus obmutescens factus est derisorius echo',\n",
       " 'pdv_17_13': 'nam petri et pauli hodie non audiuntur tonitrua concionatores sicut canes muti ad silentium compelluntur forte paratae sunt uobis manus ad recipiendum sed desunt munera quia qui ueniebant de saba aurum deferentes modo non ueniunt cum non inueniant dominum in presepe ducatum eis celesti sidere denegante',\n",
       " 'pdv_17_14': 'pedes etiam non habetis ad ambulandum et dummodo potentis uos manus cohercet ultra quinque pedes uestra uestigia non mouentur',\n",
       " 'pdv_17_15': 'proh pudor minima reptilium animalium in prudentia uos precedunt nam aues sine ductrice non uolant apes absque rege non uiuunt',\n",
       " 'pdv_17_16': 'uos autem sine rectoris gubernaculo fluctuatis matrem ecclesiam fortuitis casibus relinquentes non attenditis quod illi errantes israelitici quadraginta diebus absque duce uagantes ad summam demenciam deuenerunt pro deo sibi uitulum conflatilem statuentes',\n",
       " 'pdv_17_17': 'sic papalis cessauit unctio ueniet ergo alius sanctus sanctorum oc ais tlle est imexsuseo cops aechcl irc oeu babes cis sara petunt panem et non est qui porrigat eis ex omnibus caris suis et syon dudum pulchra facie iacet sicut mulier menstruata cuius uiae lugent et non est qui ueniat ad sollempnitatem',\n",
       " 'pdv_17_18': 'concidit gloria uultus eius oculi columbarum uisu deficiunt quia non uidetis quantum proximi estis naufragio dum sine remige nauigatis si possetis alternatim libros conscientiae legere quot et quantas inueniretis in eis accusatorias lectiones contrariis sententiis inuolutas',\n",
       " 'pdv_17_19': 'reuertatur ergo reuertatur quilibet in seipsum et ad resumendum caput sensus et rationem induite ut mater ecclesia tam diu suo priuata lumine decorem suscipiat et ad statum pristinum reducatur',\n",
       " 'pdv_18_1': 'satis nos pungit interius res noua quam scribimus immo nostra medullitus interiora perturbat dum ibi nouiter inquietamur amarius ubi quietis dulcedinem studiosius procuramus inde crudeliter ledimur et impetimur imprudenter unde pacis deberet hodie prodire charitatiua religio et beatitudinis zelus fidei nostrae cultoribus expectatur',\n",
       " 'pdv_18_2': 'iste siquidem summus pontifex pastor ecclesiae qui quantum nos iniuriis prouocarit affectionis uestrae notitiam scire confidimus nec mundus ignorat sagittas acutas emittit de pharetra dum satis sibi fore non estimans in ytaliae partibus continuis iaculis impetisse nos hactenus nisi nunc in peculiaris regni nostri pomerio quod materna nobis decreuit hereditas spinas interserat et nostrorum corda fidelium quae fidelitas natiua consolidat nostra deuotione subuertat pro lombardorum negotio cuius occasione pacis tractatui semper impedimenta parauerat et in quo tocies uoluntatem eius inuenimus duriorem quocies uoluntatis ad pacem signa monstrauimus prompciora',\n",
       " 'pdv_18_3': 'nuper autem in regnum ipsum per fratres minores et predicatores quos ad honorem diuini nominis benigno semper fauore proteximus quos semper curauimus ampliare quorum etiam insolentias hactenus licet nobis motus iusta causa subesset tamen aliquando sub patientiae uelo studuimus preterire litteras improuidas dirigit et occultas suggestiones innectit quibus excommunicationis et interdicti sententias contra nos dudum improuide fulminatas fidelibus nostris regnicolis sub interminatione diuini iudicii faciat obseruari',\n",
       " 'pdv_18_4': 'aliud etiam quod reputamus amarius suae mentis amaritudinem contra nos eructat proteruius dum translato quasi mirifice crucis ministerio de partibus transmarinis in regnum tamquam iterum in apulia crucifixus sit christus fideles christicolas de quorum festino subsidio si christi fidem euangelizaret in terris ut credimus terrae sanctae necessitatibus debuerat prouidisse nunc perarmat in filios et ad regni christianissimi spolia cruce signat',\n",
       " 'pdv_18_5': 'sed hoc profecto quod diximus non magis ex odio quo nos specialiter iniuste persequitur quam ex innato si dici liceat sibi liuore nequitiae processisse pensamus ut qui dilectionis purae constantiam qua uos affectuose amplectimur directe non poterat spiritu detractionis impetere calumpniosus saltem inficeret perobliquum',\n",
       " 'pdv_18_6': 'dum enim ante ceptum uestrae peregrinationis aggressum pro desperato quodammodo pacis negotio necessario quod nos tunc temporis resumere delectabat ad uestram presentiam sollempnes excellenciae nostrae legatos apud lugdunum nostra serenitas destinasset quamquam nos forsitan preteritorum experimento perterriti de pacis dubitare negotio cogeremur idem sanctissimus pater noster conceptum noluit uobis presentibus citra mare uirus euomere sed tempus uestrae captauit absentiae ut tam inconsultus quam subitus motus eius nobis infamiae notam impingeret et factionis huiusmodi uos quasi participes denotaret ut quae uobiscum nondum celebrato colloquio temptare ipse distulerat post uestram cum eo collationem habitam presumpta sic temere non sine uestrae conniuentiae uel consensus inuolucro quod omnino non credimus manifeste daret intelligi preformata',\n",
       " 'pdv_18_7': 'ex hiis sane doloris multiplex causa nos afficit',\n",
       " 'pdv_18_8': 'mouemur utique super iuribus nostris iniuste sic impeti',\n",
       " 'pdv_18_9': 'mouemur quod nunc uidemus illos in arma consurgere qui predicare debent tantummodo uerbum dei',\n",
       " 'pdv_18_10': 'mouemur in gremio proprio nutriuisse serpentes quos quanto familiarius hucusque tractauimus tanto nunc hostes pestiferos grauius inuenimus',\n",
       " 'pdv_18_11': 'mouemur profundius et terrae sanctae necessitatibus precipue condolemus quae cum ad sui recuperationem nobis dudum firmo proposito arma et scutum uiriliter assumentibus et potenter gallicorum uirium recepto subsidio uniuersale christianorum subsidium expectaret papali suffragio frustrata iam remanet et necessario uobis in partibus transmarinis morantibus quibus modico freto distabat apulia ipsam rerum uictualium opulentiam subtrahere oporteret',\n",
       " 'pdv_18_12': 'cum enim anno proximo preterito de caristia uictualium regni nostri quam accidens temporale conduxerat prout dilectionem uestram latere non credimus uestris et uestrorum usibus amicabiliter faceremus et utiliter prouideri ac essemus in antea tanto fecundius prouidere parati quanto nunc ibidem tempora fecundiora succedunt quae possit aut debeat nobis in antea regni fertilitas successiue protendere si regnum oporteat ex patris nostri persecutione quam diximus plus quam ciuilia bella tractare regalis industria uideat et discutiat diligenter',\n",
       " 'pdv_18_13': 'non tamen in totum propterea sic uobis credatis nostra subsidia bono fidei christiane uelle subtrahere quin uobis in quantum negotiorum et temporum qualitas patitur cum ex publico bono fidei christianae quam tota mentis affectione zelamur tum etiam ex amicitiae federe quod ad progenitores uestros et uos nos ha buisse suauiter memoramur illesum tamquam illi quem chariorem habemus prae aliis liberalitatis nostrae suffragia promptis affectibus offeramus',\n",
       " 'pdv_18_14': 'causam itaque nostram in libra uestrae considerationis appendite et cum uestra res agatur in proximis quae fides huiusmodi danda sit angelis quod ex ipsorum actibus colligatur exemplum si sub penitentiae pallio iidem nostrae benignitatis ingrati cauda nos feriant si religionis quam zelo solo figurant habitu pudore postposito ab ea deuiantes pietate quam predicant negotiis bellicis temporaliter se immiscent',\n",
       " 'pdv_18_15': 'super hiis honori uestro sicut expedit prouidete attendat nichilominus uestrae serenitatis affectio si sunt haec arma pontificum si petri subambulus quod debet in gentibus oleum pietatis infundat si christi uicarius christi uices adimpleat dum illis dispendiis incaute se implicat ex quibus homicidia sanguinolenta proueniunt et animarum multiplicia detrimenta nascuntur',\n",
       " 'pdv_18_16': 'nos enim qui pondus incudis hactenus pacienter et deuote subiuimus nolentes per patientiam nostram ledi de cetero pati nequiuimus quin causam nostram defendendo uiriliter mallei consequenter officium assumamus',\n",
       " 'pdv_19_1': 'pungitiue nos tangit interius res noua quam scribimus dum inquietare nos ibi conatur aduersarii nostri rigor ubi quietis et pacis solacia studiosius procuramus',\n",
       " 'pdv_19_2': 'nuper enim ad audientiam nostram non sine cordis turbatione peruenit quod iste romanae sedis antistes cui non satis est in ytaliae partibus impetiuisse nos hactenus nisi in regni nostri pomerio in quo uelut in oculorum nostrorum pupilla pertingimur spinas interserat et nostrorum corda fidelium quae fidelitas natiua consolidat nostra deuotione subuertat nuper enim in regnum ipsum per fratres minores et predicatores ac religiosos alios litteras suas dirigit et occultas suggestiones innectit quibus excommunicationis et interdicti sententiam quam iniuste dudum contra nostram excellentiam fulminauit fidelibus nostris regnicolis quos uelut in petra deuotionis firmatos uerbis huiusmodi friuolis sic leuiter flecti posse non credimus faciat obseruari excommunicationi nichilominus et interdicto subiciens quicumque more solito nobis reuerenter obediunt et nostris iussionibus obsecundant',\n",
       " 'pdv_19_3': 'quamquam igitur super hiis non uideamus expediens scripta nostra dirigere seu nostrorum corda fidelium et animos excitare quia tamen de regni nostri statu pacifico inter ceteras considerationes nostras precipue nos cura perangit uelut qui in eius quiete quiescimus et in ipsius quod absit intemperie turbaremur uoluntatem nostram quam in huiusmodi temeritatis ultione concepimus tenore presentium denotamus uidelicet quod personas quaslibet quae litteras presentare cuilibet uel ab aliquo recipere presentatas aut huiusmodi forte parere mandatis seu qualitercumque fauere presumerent ut pena docente percipiant quantum eorum excessus nostra maiestas abhorreat cuiuscumque fuerint condicionis etatis aut sexus incendii uolumus passione multari',\n",
       " 'pdv_19_4': 'ad horum etiam insolentias subtilius exquirendas adicimus ut quicumque de fidelibus nostris regnicolis deuotionis integritate clarentes publicos predictorum excessuum patratores in ipso crimine flagranti repererint et ardens sue fidei feruor tantam moram minime patiatur quod ad regionum iustitiarios ualeant habere recursum ipsos impunes esse uolumus si de transgressoribus ipsis sumpserint ultionem ac ob suae fidei meritum faciem nostrae serenitatis hylarem et nobis retributionis condignae merita prestolentur',\n",
       " 'pdv_19_5': 'fidelitati tuae igitur districte precipimus quatenus prescriptam beneplaciti nostri formam per iurisdictionem tuam prudenter et sollicite publices et exequaris efficaciter publicatam',\n",
       " 'pdv_20_1': 'ut iustitiam et innocentiam nostram tam uos quam alii reges orbis et principes agnoscatis ecce processum totum super discordia inter nos et istum summum pontificem et predecessores suos habita presentibus denotamus',\n",
       " 'pdv_20_2': 'nec tamen in hoc stare tantummodo fidei nostrae uolumus sed quicquid tenore presentis scripturae asserimus parati sumus per sufficientia documenta monstrare',\n",
       " 'pdv_21_1': 'leuate in circuitu oculos uestros arrigite filii hominum aures uestras orbis scandalum discidia gentium generale iustitiae doleatis excidium exeunte nequitia senioribus babylonis qui populum hactenus regere uidebantur dum iudicium in amaritudinem et fructum iustitiae in abscinthium conuerterunt',\n",
       " 'pdv_21_2': 'sedete principes et intelligite populi causam nostram de uultu domini iudicium prodeat et oculi uestri uideant equitatem',\n",
       " 'pdv_21_3': 'scimus enim et in uirtute supremi iudicis confidimus quod cum apud uos pondus et pondus mensura et mensura fuerit profecto modestiam et innocentiam nostram in iudicii uestri libra preponderare uidebitis calumpniosis detrahentium labiis et uenenosis adinuentionibus factionum',\n",
       " 'pdv_21_4': 'sed nec nunc primum credimus nostram iustitiam et residentis in throno domini prauitatem ad publicam mundi notitiam aduenire cum preter agillimae famae preloquium quae frequenter in maximis uirginum aurium deflorat auditum nos ipsi quod primitus rumor eduxerat subsequentibus postmodum nostre serenitatis affatibus firmaremus qualiter iste nouus athleta sinistris auspiciis factus pontifex generalis amicus noster precipuus dum in minoribus esset ordinibus constitutus beneficiorum omnium quibus imperium christianum sacrosanctam ditauit ecclesiam oblitus statim post assumptionem suam fidem cum tempore uarians et mores cum dignitate commutans ac habens de publica perturbatione pruritum in nos supremum et unicum ecclesiae filium suae malignitatis aculeos acuisset dum occasione sumpta quod propter imminens scandalum euitandum sacramento prestito et lata contra nos excommunicationis sententia nos ad certi temporis spatium obligauerimus transituros aduersa ualitudine corporis prepeditos adiectis aliis de quibus in antea numquam fueramus admoniti excusactionibus nostris contra deum et iustitiam omnino reiectis excommunicationis sententia nos denuntiauit astrictos',\n",
       " 'pdv_21_5': 'cui uelut in nos primitus cum nostra uoluntate prolatae cum humilitate paruimus absolutionis beneficium pristina nobis incolumitate corporis reddita postulantes dum nos transitum pararemus instanter',\n",
       " 'pdv_21_6': 'quo petito et iniuriose negato in terrae sanctae subsidium sub pia uoti prosecutione transiuimus estimantes uicarium iesu christi ad eius negotium potius quam ad conceptae maliuolentiae contra nos odium aspirare',\n",
       " 'pdv_21_7': 'sed is quem sperauimus ea solummodo quae sursum sunt sapere et uisu celestia contemplantem mente credidimus in celestibus habitare subito inuentus est homo quinimmo per inhumanitatis opera non solum ueritate sepositus sed qualibet humanitate discretus dum preter impedimenta quae nobis in syria preparauit per nuntios et legatos qui soldanum litteris suis quas nos captis eorum latoribus in publicum testimonium reseruamus ne nobis terram diuino cultui cum regni nostri hierosolimitani iuribus redderet munierunt regnum nostrum syciliae uiolenter intrauit sumpta occasione quod r filius olim',\n",
       " 'pdv_21_8': 'ducis spoleti preter conscienciam et uoluntatem nostram prout nos postmodum per ipsius penam expressimus terram ecclesiae parabat intrare et non prout sancti per fidem regna uicerunt sed per perfidiam et periuria predicat uniuersis etsi qui ad periurium predicatione solummodo prouocari non poterant prouocarentur exemplo dum prefecti papalis exercitus quo terram facilius obtinerent nos captos in syria manifeste iurabant',\n",
       " 'pdv_21_9': 'redeuntibus tamen nobis de partibus transmarinis ac iniuriam nostram propulsantibus solum nec iuxta magnificum morem imperii prodeuntibus ad uindictam per concordiae medios uerbum pacis libenter admisimus romanam matrem nostram ecclesiam ex agnitione catholicae fidei reperisse cognoscimus sed patrem semper inuenimus simulatum dum etiam reconciliationis die uiam nostrae consummationis excogitans de nobis redeundi in ytaliam sub inermi et domestica comitiua nobis instantissime persuasit occasionem fingens ne uelut ex priori et armato processu timoris causam nostris fidelibus prestaremus asserens quod nobis omnia planissima faciebat cuius contrarium per nuntios et litteras suas manifestissime procurauit prout constat testimonio plurium nostrorum fidelium qui tunc temporis erant omnium conscii uelut ex eis quidam participes et alii principes factionis',\n",
       " 'pdv_21_10': 'propter quod filio et principibus nostris de germania omnibus ad nos uenientibus per rebelles nostros itineribus publicis prepeditis ac eodem exinde filio nostro apud aquilegiam nauali presidio cum summa difficultate recepto et in theutoniam abinde destinato in regnum de necessitate rediuimus utpote quos ad coartandum rebellium nostrorum nequitiam patris consilium uel astucia pocius miserat imparatos',\n",
       " 'pdv_21_11': 'ubi quodammodo respirantibus nobis et capescentibus requiem post labores quietis nostrae sanctissimus pater noster inuidus consiliatoris sibi personam assumpsit instantissime persuadens ut contra romanos excellentiae nostrae deuotos et alios rebelles nostros de tuscia qui iura ecclesiae et imperii detinebant procederemus audacter de suo fauore securi quia nobiscum nostra et imperii pondera participare uolebat',\n",
       " 'pdv_21_12': 'et sic ad multam eius instantiam romanos qui tunc temporis uiterbium impugnabant in fauorem ecclesiae nos oportuit diffidare eodem mittente litteras latenter ad urbem quod hoc preter suam conscientiam et mandatum faceramus in odium romanorum',\n",
       " 'pdv_21_13': 'et cum interim quadam proditione suborta oportuisset nos necessario conferre messanam ut factionis inchoatae principiis obstaremus ista solummodo occasione pretenta quod tam nobilem nostram syciliae insulam noluimus amittere nobis irrequisitis et omnino contemptis contra communem opinionem huiusmodi gentium quos belli socios et participes statuit non relinqui fedus iniens cum romanis per nos ad mandatum eius ut diximus diffidatis non attento quod nos sub dubia uitae et honoris nostri fortuna inter rebelles ac seditiosos ipsos remanentes inermes copiosam et strenuam militiam armatorum in eius subsidium miseramus quamquam personaliter nequiuerimus interesse',\n",
       " 'pdv_21_14': 'adhuc tamen conscientiae nostrae fidelis integritas et pura deuotio quam ad matrem nostram sacrosanctam romanam ecclesiam habebamus nouercalia deliramenta patris agnoscere non sinebant quin quod erat iustitiae crimini imputantes satisfactionis nostrae causam in nouercantis patris arbitrio poneremus qui tanto nobis uice qualibet illudebat acerbius quanto constantius uberioris spem arbitrii promittebat',\n",
       " 'pdv_21_15': 'medio itaque tempore dum in negotio ytaliae per papam ad honorem imperii componendo ex preteritorum coniectura discriminum nulla spes nobis remansisset in posterum uel exilis ac prosecutionem eamdem oportuno tempore seruaremus expectationibus nostris repente credidimus arrisisse fortunam reiterata discordia inter ecclesiam et romanos in qua sic magnifice thesauros nostros effudimus et personam quod omnem omnino conscienciae prauae rubiginem de maliuolencium corclious ered cineus eruisse',\n",
       " 'pdv_21_16': 'fis etiags omnibus mon contend af de nobis prormus meu bicaia secarites ucclecize preserctar circa ipsam zolsumi couocion ss accend ef mcemtine ocriecine crem induct ed incus papae presentiam personaliter iuimus etiam non uocati ducentes nobiscum corradum filium nostrum nunc in romanorum regem electum regni hierosolimitani heredem quem nobis tunc temporis fratris sui manifesta transgressio filium unicum in paternae dilectionis affectione reliquerat ac eumdem post oblatam ecclesiae personam nostram in totum obsidem summo pontifici nos offerre non puduit unionem omnimodam inter nos et ecclesiam sub attestatione diuini iudicii postulantes quam diu nobis iste prelatus ecclesiae generalis dum esset episcopus hostiensis suaserat expectandam',\n",
       " 'pdv_21_17': 'propter quae omnia dum serenam nobis totius curiae faciem affectio demonstrata pretenderet et uerba gratissima tam summi pontificis quam curialium omnium sinceram ostenderet etiam uoluntatem cum eis omnia perfecisse credentes sub intentionis nostrae facto proposito nec minus sub obsequiorum nostrorum fiducia dissensionis causam inter nos et lombardos in sinu corrupti iudicis totiens suffocatam et dissensionem discordiae inter nos ac ciues et nobiles acconenses deuotione promptissima duximus exponendam',\n",
       " 'pdv_21_18': 'sicque de negotiorum nostrorum omnium prospera consummatione securi in obsequium ecclesiae personaliter alacri uoluntate processimus cum exercitu copioso quem sub magnis erarii nostri stipendiis congregari tam de germaniae quam de ytaliae partibus feceramus nec prius concepti propositi prosecucione destitimus quam libertatem ecclesiae conculcatam in urbe et terram exterius occupatam in statum pristinum et debitum nostra potentia reformauit indubitabiliter estimantes ut quod obtinere prius fauor iustitiae nostrae non poterat deuotionis obsequia mererentur',\n",
       " 'pdv_21_19': 'sed audite retributionem mirabilem quam pro tanta deuotione pro tot beneficiis pro tam indubitatae fidei firmamento christi uicarius pastor ecclesiae nostrae catholicae fidei procurator nobis in singulis reddere procurauit inprimis super uitramarino negotio quicquid per',\n",
       " 'pdv_21_20': 'archiepiscopum rauennatem tunc apostolicae sedis legatum secundum formam expressam ab ecclesia sibi datam uidelicet de reducendis nobis et corrado filio nostro in possessionem plenam et pristinam omnium nobis iurium subtractorum in regno nostro fuerat rationabiliter ordinatum statim adueniente cesariensi episcopo nec legato predicto nec nuntiis nostris ad curiam uenientibus expectatis nec ulla maiori mora protracta nisi quatenus delatos bisancios potuit numerare et inordinate fuit ex toto districtum',\n",
       " 'pdv_21_21': 'negotium ytaliae nedum ad honorem nostrum sicut promiserat ordinaret immo petentibus et instantibus nobis ad reuocationem hostium nostrorum qui in lombardia et tuscia fideles nostros tunc temporis diuisis suis exercitibus copiosius deuastabant nec nos cum militibus nostris quos tunc in partibus ipsis ut diximus pro ecclesiae seruitiis habebamus ire permisit nec alios nuntios seu litteras uoluit destinare ex quibus bella campestria sunt et quam plurium strages hominum ac incendia subsecuta',\n",
       " 'pdv_21_22': 'adhuc etiam tanta superiori nequitia non contentus ciuitatem castellae per ipsum turbationis tempore occupatam quam reddi nobis pacis et fratrum omnium consilia suadebant receptis trecentis libris illius monetae quae ad quingentarum marcharum numerum non ascendunt nobis cum eo permanentibus in reate et pro eo multa marcharum milia expendentibus reddere recusauit ecce qualiter pater noster sanctissimus nos amabat demum super profectibus nostris omnibus et super pacificanda nobis ytalia de qualibet patris uel uitrici pocius beneuolentia desperare coacti apprehendimus arma et scutum uires de theutoniae partibus ad quas diebus illis preuaricatio filii nostri nos de necessitate uocauerat propter ingressum ytaliae congregantes militibus strenuis iustitiam nostram armauimus quam assequi precibus minime poteramus',\n",
       " 'pdv_21_23': 'quod cum ad notitiam summi pontificis peruenisset sub pretextu treugarum pro terrae sanctae subsidio fidelibus populis et terrae principibus indictarum armatum nobis ingressum ytaliae per apostolicas litteras interdixit oblitus quod ab ipso eodem die quo indixit predictas treugas nos tamquam aduocatum et defensorem ecclesiae requisiuit quod contra romanos quos sibi iura ecclesiae subtraxisse dicebat potenter procedere deberemus iniquum in nobis reputans quod domum nostram et possessionem auitam quam nobis rebellium nostrorum rebellio furiosa precluserat uiriliter ingredi nitebamur quod iustum crediderat in romanis qui patri suo uel auo seu parentibus suis in nullo prorsus exstiterant obligati',\n",
       " 'pdv_21_24': 'adiecit preterea in litteris antedictis quod de negotio lombardiae in ipsum precise et sine adiectione temporis et condicione aliqua nullo iure et honore imperii reseruatis compromittere deberemus per quod uel nos in perpetuum iuris nostri cuiuslibet prosecutione suspenderet uel ius et honorem imperii libere suffocaret',\n",
       " 'pdv_21_25': 'quod cum nobis nec nostrorum consilia principum nec preteritorum dispendiorum memoria suaderent ad alias artes postmodum se conuertit mittens nobis obuiam in uestimentis albis lupum rapacem episcopum penestrinum per quem apud nos litteris apostolicis de uita sanctissima commendatum placentiam nobis subditam et nostris amicam ad mediolanensis factionis periuria reuocauit per ipsum firmiter estimans sic uniuersaliter et in totum fideles nostros euertere ut processus nostros in ytaliae partibus eneruaret',\n",
       " 'pdv_21_26': 'qua spe faciente diuina clementia quae suum tuetur imperium omnino frustratus clamantibus apud eum rebellium nostrorum incendiis depopulationibus rerum et stragibus occisorum quae ipsum de data eis rebellionis secura fiducia necnon de fide mentita eo quod contra nos et imperium ipsis assistere promisisset publicis actionibus arguebant quia iuxta petitiones eorum occasione predicta iuste nos excommunicare <non> poterat impedimenta clandestina undique nostris processibus preparauit litteras et legatos per imperium et ubique per orbem ut quoscumque fide et deuotione nostra seduceret destinando non poterat cum nostrorum fidelium fides et amicorum affectio conscientiam nostram latere non uellent',\n",
       " 'pdv_21_27': 'nolentes adhuc uinci in malo sed in bono malum uincere cupientes sollempnes nuntios nostros b uenerabilem panormitanum archiepiscopum florentinum et regiensem episcopos magistrum thadeum de suessa magnae curiae nostrae iudicem et r',\n",
       " 'pdv_21_28': 'porcastrellum capellanum dilectos fideles nostros ad sedem apostolicam duximus destinandos',\n",
       " 'pdv_21_29': 'quibus oblata sibi per eos ex parte nostra deuotione omnimoda et unione tractata contra hereticam prauitatem et pro ecclesiastica libertate de reformandis ecclesiae et imperii iuribus diutius inter nos et ecclesiam expectatis summus pontifex de presentium fratrum suorum consilio legatione nostra in omnibus suis capitulis acceptata per eosdem et archiepiscopum messanensem quem ad nos pro parte sua nuntium destinauit excellenciae nostrae promisit quod cessari mandaret ubique locorum ab impedimentis omnibus quae se nostris processibus obiecisse coram fratribus suis et nuntiis nostris manifestissime fatebatur',\n",
       " 'pdv_21_30': 'cum qua responsione nuntiis nostris et suo ad nostram presenciam redeuntibus priusquam per tres dietas curia recessissent eis omnino celatis in confusione ipsorum g de monte longo quem prius ad nos nuntium miserat et contra nos postmodum ad euersionem mantuanorum et aliorum nostrorum fidelium statuerat in lombardiam cum legationis officio plene misit arbitrans quod quanto magis sibi maior daretur auctoritas tanto maiora nobis et nostris impedimenta pararet',\n",
       " 'pdv_21_31': 'preterea principibus nostris prelatis ytalicis et germanis nobiscum in curia nostra manentibus litteras destinauit detrimentum famae nostrae non modicam continentes certis articulis interclusis et specialiter de grauaminibus quae quibusdam ecclesiis regni nostri dicebat illata super quibus mandauit nos per eosdem principes ammoneri',\n",
       " 'pdv_21_32': 'quorum articulorum omnium et responsionum nostrarum ad singula seriem nobis sub testimonio publico duximus conseruandam',\n",
       " 'pdv_21_33': 'quibus omnibus coram principibus et prelatis ac religiosis quampluribus quibuslibet aliis ordinate et sigillatim ostensis quamquam de patris instabilitate confusos se filii reputarent et de uerecundia capitis presentium rubor ora perfuderat nichilominus tamen de eorum consilio predictos panormitanum archiepiscopum et magistrum thadeum de suessa et alios excellenciae nostrae legatos cum nuntiis ciuitatum nostrarum fidelium ad sedem apostolicam duximus remittendos per quos ad satisfactionem omnimodam mora qualibet et occasione postpositis obtulimus nos paratos',\n",
       " 'pdv_21_34': 'sed nec in hiis omnibus auersus est furor eius quin dictus euangelizans pacem christi uicarius sed actor scismatis et erroris amicus contra traditiones sanctorum patrum audiens nuntios nostros portantes omnimoda nostrae deuotionis exempnia per dietam urbi uicinos et metuens ne superuenientibus ipsis uallo iustitiae sine publico scandalo forte procedere non ualeret ex prefestinantia nimia conceptum edidit abortiuum nos supremum christianorum principem die dominica palmarum contra sollempnem morem sacrosanctae matris ecclesiae et in cena domini postmodum sententiam publicando per quam sicut per famam audiuimus licet haec credere minime debeamus contradicente saniori parte fratrum suorum iniquo cardinalium lombardorum consilio excommunicationis uinculo dicitur astrinxisse prepeditis nuntiis nostris per fautores et satellites suos de patrimonio pauperum solidatos qui iam applicuerant ne ad allegandam innocentiam et iustitiam nostram ac demum ad satisfactionem omnimodam offerendam etiam ad cautelam ad presentiam suam et aspectus publicos peruenirent',\n",
       " 'pdv_21_35': 'sed licet nos singulari quadam et publica notione propter nostram iustitiam et infamiam procedere malle merito debeamus quam quod perperam et inordinate processerit cum bullientem intrinsecus spiritum nisi forsan exterius uomuisset suam nequitiam editurum fortassis interius crepuisset dolemus tamen et ex corde turbamur propter uerecundiam uniuersalis ecclesiae matris nostrae quam dominus iesus christus sub specie uirginis gloriosae in passionis testimonio commendauit',\n",
       " 'pdv_21_36': 'alias nobis per',\n",
       " 'pdv_21_37': 'quem omnino nostrum iudicem non habemus et ideo nobis nullam posse fieri iniuriam reputamus utpote cum se prius inimicum capitalem non iudicem nostrum et opere fuerit professus et uerbo rebelles et hostes imperii publice confouendo indignum preterea tanti cohercione principis et qualibet pontificalis officii dignitate seu auctoritate se reddidit dum mediolanensium ciuitatem quae pro maxima parte prout ex testimonio religiosorum et quamplurium fide dignorum asseritur inhabitatur hereticis contra nos et imperium manifesto fauore tuetur et r de',\n",
       " 'pdv_21_38': 'ciuitatis mediolanensium potestatem dudum delatorem episcopi florentini uiri uitae probabilis et famae probatae in plerisque capitulis super heretica prauitate conuictum ob odium nostrum et mediolanensium gratiam non obmisit',\n",
       " 'pdv_21_39': 'illum preterea christi habere uicarium et petri successorem ac dispensatorem animarum fidelium indignum fatemur non ob dignitatis iniuriam sed ob personae defectum qui dispensationes cum fratrum deliberatione maxima faciendas in camera sua more mercatoris cuiuslibet in libra mercatur existens ipse bullator et scriptor ac forsitan etiam numerator',\n",
       " 'pdv_21_40': 'de quibus quasdam dispensationes insignes quas preterire silentio non ualemus per quas sipham natam quondam',\n",
       " 'pdv_21_41': 'comestabuli regni cipri contra separationis sententiam super hoc per',\n",
       " 'pdv_21_42': 'episcopum latam et de non habitando simul prestito iuramento baliano de ybolino et',\n",
       " 'pdv_21_43': 'sororem iohannis de cesarea iacobo de',\n",
       " 'pdv_21_44': 'qui prius sororem suam desponsauerat proditoribus nostris sibi gradu tertio contingentibus inuicem concessit uxores percepta non modica pecuniae quantitate uerumptamen quod quantitati uel numero defuit odii nostri qualitas compensauit',\n",
       " 'pdv_21_45': 'defectum itaque et preuaricationem ipsius in illo dolemus quod contra nos nobiles et potentes romanos sibi satellites et fautores acquirit effusione pecuniae non contentus ipsis castra et possessiones sanctis patribus fidelium deuotione donatas romanam ecclesiam nostro patrocinio commendatam dilapidando largitur',\n",
       " 'pdv_21_46': 'itaque non miretur uniuersalis ecclesia nec reges aut principes ef popull christiant si nos telis senteation iodicis non ueremur non in contemptum papalis officii uel apostolicae dignitatis cui omnes orthodoxae fidei professores et nos specialius subesse fatemur si personae preuaricationem arguimus quae se solio tanti regiminis monstrauit indignam',\n",
       " 'pdv_21_47': 'et ut omnes primates nominis christiani sanctum intentionis nostrae propositum et internae deuotionis zelum in nobis agnoscant et quod non ex odii fomite sed ex causa iustissima romanus princeps contra romanum antistitem commouetur dum metuit ne grex dominicus sub tali pastore per deuia deducatur ecce quod sacrosanctae romanae ecclesiae cardinales per sanguinem iesu christi et sub attestatione diuini iudicii per litteras nostras et nuntios obsecramus ne generale concilium prelatorum et aliorum christi fidelium debeant euocare',\n",
       " 'pdv_21_48': 'nec minus illa probabili ratione turbamur quod iste rector ecclesie qui debet esse uirtutum quarumlibet et constantiae maximae uas electum contra promissionem suam litteris suis de fratrum consciencia nobis factam per quas in restaurandis imperii iuribus non abesse sed potius adesse promisit consilio auxilio et fauore preter personae nostrae blasphemiam sic manifeste sic nos aperte prosequitur cum licet sollicite reuoluamus nullam occasionem inuenimus in nobis aut causam propter quam iste inimicus homo debuisset contra nos tam acriter commoueri nisi quod cum ipso contrahere de nepte sua desponsanda henrico naturali filio nostro tunc regi turrium et gallurae magnificentia nostra incongruum credidit et reputauit indignum',\n",
       " 'pdv_21_49': 'uos ergo reges et principes orbis terrae non solum nobis sed ecclesiae quae est congregatio fidelium omnium condolete cuius caput languidum princeps eius quasi leo rugiens in medio propheta eius uesanus uir infidelis sacerdos eius pollutus sine iustitia faciens contra legem',\n",
       " 'pdv_21_50': 'nobis tamen prae ceteris mundi principibus defectus talis summi pontificis est merito deplorandus qui ueluti uiciniores et propinquiores affectione precipua ipsius honores gerimus et onera supportamus',\n",
       " 'pdv_21_51': 'sed nec illud obmittimus quin serenitatem uestram affectuose rogemus ut contumeliam nostram ad uestram iniuriam reuocetis ad domum uestram cum aqua currite cum ignis accenditur in uicinis',\n",
       " 'pdv_21_52': 'causam motus pontificalis attendite et cur haec in fauorem nostrorum rebellium procurantur quae causa licet ad presens expressa non fuerit procul dubio tamen subest',\n",
       " 'pdv_21_53': 'similia uobis et uestris imminere pericula timeatis facilis enim aliorum regum et principum humiliatio creditur si cesaris romani potentia quae prima iacula sustinet conteratur',\n",
       " 'pdv_21_54': 'haec est causa namque pro uero uidelicet de lombardis quae cor papae pungebat intrinsecus licet ipsam foras educere propter uestrum et audientium scandalum non auderet pro qua nobis etiam per specialem nuntium suum fide dignum cuius ad haec testimonium inuocamus ore tenus et expresse promisit quod si negotium lombardorum in eius manibus poneremus nedum quid in aliquo magnificentiam nostram offenderet uerum etiam totius orbis decimas terrae sanctae necessitatibus deputatas nostris usibus applicaret',\n",
       " 'pdv_21_55': 'nec est mirum instantibus sibi lombardorum aculeis pungebatur quibus prout aliquorum prelatorum confessione recepimus de assistendo eis contra nos et imperium corporale prestitit iuramentum cum eos peregrinantibus nobis in partibus syriae pro seruitio iesu christi transmisit in regnum',\n",
       " 'pdv_21_56': 'sed cum turpis fuerit ista promissio fidem frangere licite poterat et editum uariare decretum',\n",
       " 'pdv_21_57': 'in quorum fauorem rem auditu horribilem et discretione qualibet ac ratione carentem facere minime formidauit',\n",
       " 'pdv_21_58': 'cum enim per pergamensem brixiensem et cumanum episcopos et alios prelatos nos faceret ammoneri quod uel satisfactionem lombardorum per ipsum deberemus accipere uel treugas pro terrae sanctae subsidio per quadriennium ut supra diximus indictas obseruare lombardis cum ab indictarum treugarum tempore iam quinquennium excessisset nobis quod rem tanti consilii ad deliberationem nostrorum fidelium modico temporis spatio seruassemus monitoribus ipsis ad probationes legati predicti g de monte longo uidelicet qui apud mediolanenses interim morabatur indutias approbantibus supradictas prout haec omnia prelatorum prefatorum testimonio liquido comprobantur medio tempore nec uoluntatis nostrae iudicio nec fidelium nostrorum consiliis expectatis conceptum uirus euomuit contra nos prout aliquorum relatio retulit ad depositionis sententiam procedendo',\n",
       " 'pdv_21_59': 'ha deus ha crudelissime pater et pontifex qui ut seruum redimeres filium perdidisti propter quod uestram et omnium potentium manus nobis exigimus adiutrices non quod ad propulsationem talis iniuriae nobis nostra non sufficiant munimenta sed ut totus mundus agnoscat quod honor omnium tangitur quicumque de corpore secularium offendatur',\n",
       " 'pdv_22_1': 'dum conscientiae uolumina uoluimus dum ciuitates nostro subiectas imperio in nostrae considerationis speculo speculamur in quibus credit nostra serenitas serenam fidem et deuotionem debitam congruis temporibus reperire occurrit nobis specialiter uiterbiensium ciuitas consuetae constanciae representans monilia et indeficientis deuotionis circumamicta faleris semper gratis satis imperio fructuosis et floridis obsequelis obsequitur et fidei suae constantia probabilibus argumentis et euidentissimis indiciis demonstratur',\n",
       " 'pdv_22_2': 'metitur etiam acies mentis nostrae causas alias per quas de uobis non indigne specialem confidentiam reportamus',\n",
       " 'pdv_22_3': 'nam cum uicinis uestris graues reciperetis iniurias et pressuras contradicente tunc papa serenitatis nostrae proposito quod ad succursum uestrum promptis desideriis intendebat nos ad nitorem uestrae fidei quam illibatam semper seruastis imperio dignum et debitum respectum habentes in auxilium uestrum cesareae potentiae uires armauimus et nobilem militiam germaniae bellis expertam ad tuitionem uestri duximus destinandam',\n",
       " 'pdv_22_4': 'alia etiam uice iste qui dicitur papa defensionis uestrae nomen assumpsit sed nos qui in uestris lesionibus tangebamur et angebamur intrinsecus defensionis onus prompta uoluntate suscepimus non ipsius uerbis inducti sed potius consideratione uestrae fidei imperialiter excitati ubi propriae personae sudoribus non pepercimus sed sub estubus solis sub tediis pulueris sub galea laborauimus et lorica in augusto cum priuati etiam suos labores angustant pro uobis laborabat augustus nec laborantis uotum aeris intemperies retardabat sed inducebat nobis labor solacium per quem quies uestra et nostrorum fidelium parabatur',\n",
       " 'pdv_22_5': 'tunc eraria nostra patefacta sunt sumptibus in uestrae commodum defensionis effusis et quia in eis uestra querebatur utilitas spem nobis affectati commodi redolebant',\n",
       " 'pdv_22_6': 'ile uero qui inane nomen assumpserat defensoris hostilibus pascebat uos uerbis et pascuorum commoda subtrahebat nec uoluit uobis in quantitatis modicae pecunia tantum mutuo subuenire expectans ut cancrum suo parandum edulio educeret aliena dextera de cauernis',\n",
       " 'pdv_22_7': 'igitur dum haec omnia in nostrae lance considerationis appendimus nichil de uobis conscientiae culminis nostri contrarium suspicio quaelibet suaderet immo firma pollicetur fiducia quod honorem nostrum et imperii continuatis uestris desideriis affectatum brachiis uelitis patentibus amplexari nullo contrario spiritu propositi uestri constantiam immutante',\n",
       " 'pdv_22_8': 'cum itaque tempus aduenerit quo nobis et imperio semper grati potestis fieri gratiores uos hortamur exurgite mentes uestras erigite ad contemplandam imperii speciem et uirtutem mostue ciaosum uestrlms aenossite possessorenk parete wan domino rectas facite semitas eius tollite seras portarum uestrarum ut cesar uester rebellibus terribilis et uobis ueniat mansuetus in cuius aduentu quiescant spiritus qui uos hactenus fatigabant',\n",
       " 'pdv_22_9': 'ecce autem ut super hiis et aliis uobis nostrae maiestatis beneplacitum reseremus plene uerbotenus nostrae uoluntatis instructum mittimus ad uos u de saxonia fidelem nostrum cui in eis quae uobis ex parte nostri culminis dixerit tamquam ab ore nostro prolata curetis indubitanter credere et efficaciter adimplere',\n",
       " 'pdv_23_1': 'inter cetera quae sollicitudinis nostrae cura cotidiana meditatione reuoluit illud occurrit nostrae considerationi precipuum qualiter uenerandus orthodoxae fidei nostrae cultus debito nobis et nostris fidelibus affectu et deuota ueneratione colatur ut quo prae ceteris principibus mundi diuina dextera nostrum erigit altius solium eo per officiosae gratitudinis debitum nostra et nostrorum ubique deuotio sibi soluat munera gratiarum',\n",
       " 'pdv_23_2': 'ex eo quidem potest regnantium felicitas augeri potissime et subditorum status seruari pacificus si regi regum grato deuotionis exempnio placeamus nec scandali alicuius subreptione dampnabili cultus debet postponi uel intermitti dominicus quia quo amplius humana scandala quandoque lasciuiunt eo tempestatum sedator esset deuotius exorandus',\n",
       " 'pdv_23_3': 'quare fidelitati tuae mandamus quatenus omnibus prelatis et clericis de iurisdictione tua in aliquo loco ydoneo conuocatis presentibus fratribus minoribus et predicatoribus per aliquem uirum sapientem litteratum et facundum facias eis diligenter exponi quod nos tamquam princeps catholicus et catholicae fidei ampliator ardenti desiderio affectamus quod prelati ecclesiarum clerici religiosi et seculares diuina officia publice in ecclesiis presentibus locorum indigenis ad illius laudem et gloriam celebrent qui sacrosanctam ecclesiam fundauit incommutabiliter supra petram',\n",
       " 'pdv_23_4': 'ex nostrae autem presentis exorationis oraculo aliquibus celebrandi necessitas non inseritur sciant tamen celebrare nolentes quod <quibus> qui sui officii debitum exequi negligunt temporalia bona per diuos augustos progenitores nostros pia ecclesiis largitate donata faciemus quamquam inuiti ad nostrum demanium reuocari',\n",
       " 'pdv_24_1': 'sub simplicis humilitatis officio et integrae deuotionis affectu tamquam noui muneris grande ministerium et utinam spei uberioris promissiuum sanctitatis uestrae recepi litteras et paternae dulcedinis increpationes audiui et iussionis dominicae monita',\n",
       " 'pdv_24_2': 'reuerentius intellexi factus repente stupidus et referendo quodammodo uerecundus quod aduersus deum et sanctam romanam ecclesiam quam christianae fidei matrem et dominam recognosco iniuriarum atrocium illator intitulor et offensarum enormium irrogator appellor de quibus si pectoris mei claustra discutio conscientiae me nulla nota redarguit nec probabilis stimulus ueritatis impugnat',\n",
       " 'pdv_24_3': 'nam licet bonarum sit mentium ibi culpas agnoscere ubi noxae non preuiant si de nullis offensis penitentiae dona non obtuli si de nullis iniuriis humiliati spiritus tributa non solui nescio cur iniuriator existimor uel cur dampnator excessuum immanitate compingor nisi eo forsan quod contra uos et predecessores uestros offensionis et culpae prauitate respergor quod uoluntati uestrae super hereditatis priuatione non parui et reconciliationis optatae gratiam quam multipharie multisque modis expetii hucusque non potui promereri',\n",
       " 'pdv_24_4': 'nunc ergo preceptis salutaribus monitus et obiurgationibus uestris quae circa duritiam filiorum clementiam patris insinuant persuasus gaudeo satis quod excitare me litteris et corripere monitis paterna dignaretur affectio ex quibus spei fertilis indicia colligo et fiduciae facilis argumenta compono ut cum non semper patre osculandus sit filius sed dira interdum castigatione premendus iam me uelut ingratum de cuius se asserit salute sollicitum gratiae communione non abdicat et suauitatis maternae gremio non excludit',\n",
       " 'pdv_24_5': 'sed datur exterius pater piissime sinistrae suspicionis occasio ut inuitus et querulus de sincera quodammodo patris affectione diffidam et de matris tenera pietate desperem dum sicut iam uulgaris notio publicat uel predicat transfuso uerbotenus ordine successionis in exterminium hosti aduersus me panditis hostium et illum in regno michi ex conceptae contra me forte indignationis animo aduersarium erexistis',\n",
       " 'pdv_24_6': 'de quo preter alia emolumenta quamplurima quae per me poterant ecclesiae prouenire de condicionibus omnibus minor quam de me protinus si ueritatem dici liceat utilitas expectatur',\n",
       " 'pdv_24_7': 'sicque dum uerba patris quem domestica quasi cura de filii conuersione titillat accurate considero sperare commoneor dum extrinseca facta commemoro desperare compellor',\n",
       " 'pdv_24_8': 'in cuius desperationis excessum et uehementis doloris incendium ea maxime ratione commoueor quod uenerabilis uir dominus sy tituli sancti martini presbyter cardinalis apostolicae sedis legatus in marchia per suas litteras temerarium predonem me publicat et persecutorem prodigum ac sathanae filium licentia labiis relaxata diuulgat qui per hoc utinam michi soli si sibi aliqua ratione non placeo lesionis offendicula tenderet sed ad uniuersale quasi gentis dispendium non minus proh dolor hac occasione suspirat dum fideles christicolas quorum festina subsidia terrae sanctae negotium nobis olim procurante nunc domino longis expectabat desideriis nouo nuper bellandi genere nunc perarmat in filios et ad christiani regni spolia cruce signat',\n",
       " 'pdv_24_9': 'consideret ergo si placet uestrae pietatis integritas qualiter si secundum carnem uiuitur predo de preda debeat intendere precibus et tot grauibus lacessitus iniuriis superioris obsecundare preceptis',\n",
       " 'pdv_24_10': 'hac itaque uarietate perplexus eligo sanius me totum beneplacitis uestris exponere si totus admittar et uestris reuerenter obtemperare mandatis si tamen innocentiae meae causam leuitas non exasperet mandatoris',\n",
       " 'pdv_24_11': 'non sic enim propriae uoluntatis arbitrio subleuor nec sensualitatis incentiuo dissoluor quin plene discernens inter dexteram et sinistram aperte uideam et euidenter agnoscam quid personarum uelit acceptio quid rationis iudicio debeatur propter quod uniuersa quae scribitis debita meditatione compensans mandatorum uestrorum precumque primitias pro libertate prouidi uiri m',\n",
       " 'pdv_24_12': 'ueronensis electi ad cuius uitae laudabilis et famae preconia tam clara sufficiunt testimonia laudatoris reuerenter accipio et eo libentius ad effectum debitae prosecutionis adducam quo de maioris affectionis ubertate proueniunt et fructus maioris gratiae ac euidentioris emolumenta compendii scribendi tam sanctis indiciis deberentur',\n",
       " 'pdv_24_13': 'de cuius captionis euentu dum deum et ecclesiam exinde grauiter offendisse me dicitis minus digne si dici liceat seuitiae michi fucus adscribitur et prohibitionis supernae pertinax refragator accusor',\n",
       " 'pdv_24_14': 'quamquam etenim rex ille pacificus qui ministris ecclesiae legata pacis hominibus erogandae commisit christos suos ore prophetico tangi prohibeat et in eis malignitatis molestiam exerceri si tamen ipsis interdum non euangelizantibus uerba pacis sed procurantibus machinamenta discidii quicquid inferri contingat iniuriae non minus id passis imputari debet ad uitium quam facientibus ad delictum',\n",
       " 'pdv_24_15': 'cum igitur ad partes marchiae dudum in amicorum subsidium qui ob zelum deuotionis et fidei erga diuum augustum felicis memoriae dominum patrem meum tenaciter habitae in me quasi nouae dilectionis fragrantia redolebant quamdam quantitatem militum in fautoris subsidium destinassem dissidentibus infra se partibus ut moris est potius uel erroris prout inter eos malitiae radicauit antiquitas idem electus non pacifer inuentus sed belliger non altaris leuita sed equo leuiter eleuatus non dei minister sed excidiis ministrator inter agmina militum casualiter incidit et ad priuatam honestamque custodiam ipsum bellicus euentus adduxit',\n",
       " 'pdv_24_16': 'de cuius liberatione festina siad presens dominationis uestrae uoto non pareo molestum queso pater piissime non geratis cum absque amicorum meorum quorumdam marchionum comitum et aliorum magnatum ytaliae conscientia quorum in hoc precipue interesse uersatur nunc fieri honeste posse non uideam sed quam cito ad instantiam nuntiorum meorum super hoc eorundem nobilium michi conscientia patefieret tam in iis quam in aliis quae sanctitatis uestrae grata sint animo et affectui blandiantur per euidentiam operum quae utinam paternae charitatis affectio placida relatione cognoscat signa promptissimae deuotionis ostendam',\n",
       " 'pdv_24_17': 'interim tamen ob reuerentiam apostolicae sedis et uestram non ea quae captis ex hostium conculcatione debentur sed quae habilitati conueniant et equipolleant libertati honesta custodia faciam sociari ut quae ad presens in totum ostendi non potuit in ea saltem parte deuotio cognoscatur ministerium] misterium || referendo] alias reserando in marg al man',\n",
       " 'pdv_24_18': 'p',\n",
       " 'pdv_25_1': 'commissi nobis cura regiminis et imperialis diadematis cui dante domino presidemus fastigium dignitatis materialem quo diuisim sacerdotio fungimur gladium aduersus hostes fidei in exterminium hereticae prauitatis exigunt exercendum ut uipereos perfidiae filios contra deum et ecclesiam insultantes tamquam materni uteri corrosores in iudicio et iustitia persequamur maleficos uiuere non passuri per quorum scientiam seducentem mundus inficitur et gregi fidelium per oues morbidas grauior infligitur corruptela',\n",
       " 'pdv_26_1': 'fridericus et cetera',\n",
       " 'pdv_26_2': 'inconsutilem tunicam dei nostri dissuere conantur heretici et uocabuli uitio seuientes quod significationem denotationis denuntiat in ipsius indiuisibilis hdei unitate nituntur indmeere sectionem et owes petri custodia cul pascendae pastore bono sunt creditae disgregare',\n",
       " 'pdv_26_3': 'hii sunt lupi rapaces intrinsecus eousque ouile possint subintrare dominicum mansuetudinem ouium pretendentes quod post ipsorum introitum desiderant demoliri',\n",
       " 'pdv_26_4': 'hii sunt angeli pessimi hii prauitatum sunt filii patre nequitiae et fraudis auctore ad simplices animas destinati hii sunt colubri qui columbas decipiunt hii serpentes qui latentes uidentur inserpere et sub mellis dulcedine uirus euomere ac uitae cibum se simulant ministrare cauda feriunt et mortis poculum uelut quoddam durissimum uenenum immiscent',\n",
       " 'pdv_26_5': 'horum sectae ueteribus ne in publicum prodeant non sunt notatae nominibus uel quod est forte nefandius non contentae ut uelut ab arrio arriani uel nestore nestoriani aut similibus similes nuncupentur sed in exemplum martirum qui pro fide catholica martirium subierunt patarenos se nominant uelut expositos passioni',\n",
       " 'pdv_26_6': 'huiusmodi uero miseri patareni quibus abest sancta credulitas diuinitatis eternae sub uno contextu nequitiae insimul tres offendunt deum uidelicet proximos et seipsos',\n",
       " 'pdv_26_7': 'deum offendunt dum dei fidem et consilium non agnoscunt decipiunt proximos dum ipsis specie sub spiritualis alimoniae hereticae prauitatis oblectamenta ministrant crudelius etiam seuiunt in seipsos dum post animarum dispendium corpora denique seuerae mortis illecebris quam per agnitionem ueram et uerae fidei firmitatem possent euadere uitae prodigi et necis improuidi sectatores inuoluunt et quod est ipso dicto durissimum superstites etiam non terrentur exemplo',\n",
       " 'pdv_26_8': 'contra tales deo sibi et hominibus sic infestos continere non possumus motus nostros quin debitae ultionis in eos gladium exeramus tanto ipsos instantius persequentes quanto in euidentiorem delusionem fidei christianae prope romanam ecclesiam quae caput est omnium ecclesiarum mater et domina iudicatur superstitionis suae scelera latius exercere',\n",
       " 'pdv_26_9': 'noscuntur adeo quod ab ytaliae finibus presertim partibus lombardiae in quibus pro certo perpendimus ipsorum nequitiam latius abundare iam quousque ad regnum nostrum syciliae suae perfidiae riuulos deriuarunt',\n",
       " 'pdv_26_10': 'quod acerbissimum reputantes statuimus in primis ut crimen heresis et dampnatae sectae cuiuslibet quocumque censeantur nomine sectatores prout ueteribus legibus est indictum inter publica crimina numerentur immo crimine lesae maiestatis nostrae debet ab omnibus horribilius iudicari quod in diuinae maiestatis iniuriam noscitur attemptatum quamuis in iudicii potestate alter alterum non excellat',\n",
       " 'pdv_26_11': 'nam sicuti perduellionis crimen personas adimit dampnatorum et bona dampnat post obitum memoriam defunctorum sic in predicto crimine quo patareni notantur per omnia uolumus obseruari',\n",
       " 'pdv_26_12': 'et ut ipsorum nequitia in qua dominum non sequuntur sed in tenebris ambulant detegatur nemine etiam deferente inuestigari uolumus diligenter huiusmodi scelerum patratores aut per officiales nostros sicut et alios malefactores inquiri ac inquisitione notatos uinculis detineri etsi leuis superstitionis tegumento tegantur uiris ecclesiasticis et prelatis examinari iubemus',\n",
       " 'pdv_26_13': 'per quos si inuenti fuerint fide catholica saltem in articulo deuiare ac per ipsos pastorali more prius commoniti tenebrosi diaboli relictis insidiis noluerint agnoscere deum lucis sed in erroris concepta instantia perseuerent presentis nostrae legis edicto dampnatos mortem pati paterenos aliosque hereticos quocumque nomine censeantur decernimus quod affectant ut uiui in conspectu hominum comburantur flammarum commissi iudicio ut animarum incendia patiantur',\n",
       " 'pdv_26_14': 'nec dolemus quod in hoc ipsorum satisfacimus uoluntati ex quo penam solummodo nec fructum alium consequuntur erroris',\n",
       " 'pdv_26_15': 'apud nos pro talibus nemo interuenire presumat',\n",
       " 'pdv_26_16': 'quod si qui fecerit in ipsum nostrae indignationis aculeos non immerito conuertemus',\n",
       " 'pdv_26_17': 'datum et cetera',\n",
       " 'pdv_27_1': 'fridericus et cetera',\n",
       " 'pdv_27_2': 'patarenorum complices receptatores seu quocumque modo fautores qui ut pena alios possint eximere de se uelut improuidi non formidant publicatis omnibus bonis eorum relegandos in perpetuum esse censemus et ipsorum filii ad honores aliquos nullatenus admittantur',\n",
       " 'pdv_27_3': 'si tamen aliquis fautorum huiusmodi detexerit aliquem um de cuius perfidia manifeste probatur in fidei premium quam agnouit famae pristinae de imperiali clementia restitutionis beneficium in integrum consequatur',\n",
       " 'pdv_27_4': 'incipiunt capitula constitutionis contra patarenos quocumque nomine censeantur speronistas leonitas arrianitas circumcisos passaginos ioseppinos carrarenses albanenses franciscos bannaroles comistos ualdenses burgaros communellos uarinos et ortolenos et cum illis de aqua nigra et omnes hereticos utriusque sexus quocumque nomine censeantur perpetua dampnamus infamia diffidamus atque bannimus',\n",
       " 'pdv_27_5': 'censentes ut bona talium confiscentur nec ad eos ulterius reuertantur ita quod filii ad eorum successiones peruenire non possint cum longe sit grauius eternam quam temporalem offendere maiestatem',\n",
       " 'pdv_27_6': 'qui autem inuenti fuerint sola suspectione notabiles nisi ad mandatum ecclesiae iuxta considerationem suspicionis qualitatemque personas propriam ianocentiam propria purgatione momstrucannt tamquam infames et banniti ab omnibus habeantur ita quod si sic banniti per annum permanserint ex tunc eos sicut hereticos condempnamus',\n",
       " 'pdv_27_7': 'statuimus etiam hoc edicto in perpetuum ualituro ut potestates et consules seu rectores quibuscumque fungantur officiis quod pro defensione fidei prestent publice iuramentum quod de terris suae iurisdictioni subiectis uniuersos hereticos ad ecclesiam denotatos bona fide pro uiribus exterminare studebunt',\n",
       " 'pdv_27_8': 'ita quodammodo quandocumque quis fuerit in perpetuum in dominum temporalem assumptus hoc teneatur capitulum iuramento firmare alioquin neque pro potestatibus neque pro consulibus habeantur eorumque sententias ex tunc decernimus inutiles et inanes',\n",
       " 'pdv_27_9': 'si uero dominus temporalis requisitus et monitus ab ecclesia terram suam purgare neglexerit ab heretica prauitate post annum tempore monitionis elapsum terram suam exponimus catholicis occupandam qui eam exterminatis hereticis absque ulla contradictione possideant et in fidei puritate conseruent saluo iure domini temporalis dummodo super hiis nullum prestet obstaculum neque aliquod impedimentum apponat eadem nichilominus lege seruata contra eos qui non habent dominos temporales g',\n",
       " 'pdv_27_10': 'credentes preterea receptatores defensores et fautores hereticorum bannimus statuentes ut si quis postquam quilibet talium fuerit fidelium communione notatus satisfacere contempserit infra annum ex tunc ipso iure sit factus infamis et ad publica officia seu consilia uel ad tractatus aliquos eligendos nec ad testimonium admittatur sit etiam intestabilis ut nec testandi liberam habeat facultatem nec ad alicuius hereditatis successionem accedat',\n",
       " 'pdv_28_1': 'etsi tam iusta quam uehemens causa doloris et motus fuerit in nobis cum ad presentiam nostram frater s uenerabili patre patriarcha antiocheno dilecto amico nostro presentium baiulus litterarum accessit ipsum tamen infeste uidere nequiuimus qui mittentem affectione quadam diligimus singulari',\n",
       " 'pdv_28_2': 'uerum etiam tunc temporis cordis nostri neruum pertingerat rumor infestus et subitae nuntius tempestatis qui coheminorum pestem ab origi nalibus sedibus tartarea clade depulsam uelut molem ingentem per abrupta montium et decliuium fulminis ictibus deuolutam in sanctam ciuitatem irruisse crudeliter nuntiauit',\n",
       " 'pdv_28_3': 'quae forte desolationis suae tempore habitatore continuo solita defensari cateruatim undique concurrentibus populis colebatur dederatque cursui famosi tamen loci longis retro temporibus christicolis maxime desiderata securitas et sinistris auspiciis diebus illis obtenta quarumdam occasione treugarum quas soldanus damasci et nathasar soldanus craci qui prius hostes et aduersarii fuerant concordiam inuicem facientes ipsam cum christianis ea condicione fecerunt quod tota regni hierosolimitani terra quam christiani possederant trans iordanem retentis sibi uillis et montanis aliquibus restituta christiani soldanis eisdem in expugnatione soldani babiloniae deberent assistere toto posse',\n",
       " 'pdv_28_4': 'qua confederatione tamquam in sui perniciem inita soldanus accinctus predictam gentem barbaricam coheminorum per deserta uagantem et uelut feram in saltibus ante uenabulum fugientem ad suae defensionis auxilium conuocauit qui sibi reputantes oblatum presidium potius quam petitum ad designata loca subito non minus taciti quam celeres peruenerunt ut inuisos hostes aduenisse maturius nostrorum uigilantia nouerit quam uenturos',\n",
       " 'pdv_28_5': 'sicque factum est ut christianorum exercitu cum soldanis predictis in guerram soldani babiloniae apud gazaram commorante patriarcha hierosolimitanus de partibus cismarinis ad partes illas athleta nouus accessit',\n",
       " 'pdv_28_6': 'quo superueniente perfidae gentis metu in ciuitate hierosolimitana una cum magistris domorum hospitalis et militiae templi et uniuersis habitatoribus ciuitatis eiusdem tamquam de humano presidio desperatis noctis silentio salubriter procedentibus uersus ioppem emenso iam fere medietatis itineris spatio ad cuiusdam uanae seu potius callidae procuratae uocis auditum quae coheminorum natione deuicta securum peregrinis et ciuibus reditum promittebat omnes regionis et incolatus affectione seducti confestim ad uictimam potius quam ad patriam redierunt',\n",
       " 'pdv_28_7': 'nondum eisdem infra septa domorum respirantibus labore priusquam fere sarcinulas suas et itineris impedimenta deponerent ecce quod multitudo generis hostilis quam dinumerare nemo poterat uniuersam terrae faciem occupans sic improuiso sic subito continuatis impugnatorum agminibus circumdedit ciuitatem ut nec in defensione presidium nec in fuga consilium obsessis fidei nostrae pugilibus laxaretur',\n",
       " 'pdv_28_8': 'ambigentibus autem eis cuiusmodi mortis genus eligerent ex predictis tandem etsi nulla uia securior saltem uisa uia est dilatior ut per fugae remedium aliquos persequentium oculis cauernae montis imminentis absconderent et noctis circuitu aliqui manus occidentium et fessas euaderent uel ut saltem unum ex omnibus de tantae cladis et periculi nuntium reseruarent',\n",
       " 'pdv_28_9': 'non defuit tamen inter tot aduenarum hostium milia ductor et cognitor uiarum indigena qui sufficientes insidiantium turmas uelut per siluarum angustias uenatores per ineuitabilia loca disposuit in quorum manus quanto celerius fugerent tanto rapidius caderent fugientes',\n",
       " 'pdv_28_10': 'sed fefellit proh dolor euentus rei miserandae consilium quia tamquam in rete paratum auibus sic omnes septem milia fere hominum in gladium incidissent ut testantibus sanguinis occisorum per ualles montium sic profluentis aquae decursibus nulla prorsus extitit pugna sed cedes infantes autem et uirgines in urbe beata inuentos secum nequiter adduxerunt senes infirmos et debiles ac moniales ad fugae laborem inhabiles in urbe relictos in ipsorum quin potius in ipsius dei nostri conspectu sepulchro domini uiolato quod fuerat fidei christianae uisibile nutrimentum miserabiliter occiderunt post haec ad reconciliationem tanti discidii et totius rei publicae ac fidei christianae uindictam armauit ut dicitur omnes orientalis plagae christicolas utinam prouida sicut prompta religio soldanorum damasci et craci consortio quod tamen iusto timore non caret accincto',\n",
       " 'pdv_28_11': 'de quorum euentu uelit altissimus pro cuius causa certatur quod precurrentis famae pernicies subsequentis rei prosperitate uincatur anima tamen nostra propter preteritorum casuum et futurorum euentuum metum in amaritudine posita boni nuntii uerbum de terra longiqua sitienter expectat eo quod magis anxiamur in spiritu quo iustiori dolore torquemur in mente uelut qui scimus haec potius contigisse culpa quam facto',\n",
       " 'pdv_28_12': 'dudum etenim uiro spectabili comite cornubiae dilecto sororio nostro cum honorabili comitiua nobilium transalpina in ultramarinis partibus uices agente nostras de consilio magistrorum hospitalis et sanctae mariae theutonicorum et totius christianorum exercitus pro parte nostra qui iura dilecti filii nostri corradi in romanorum regem electi semper augusti et regni hierosolimitani heredis <tuebatur et> eiusdem regis et regni moderamine fungebatur cum soldano babiloniae supradicto treugas fideliter et prudenter iniuit',\n",
       " 'pdv_28_13': 'quas magister domus militiae templi cum ceteris terrae nobilibus indigenis et ciuibus acconensibus ad speciale nostrae celsitudinis odium non ad commune bonum habendo respectum acceptare nullatenus uoluerunt quin potius more disparium aurigarum in diuersas hinc inde partes detrahendo uehiculum tandem prout euentus rerum edocuit in precipitium deuium uectores et sarcinam deduxerunt haec uos latere non credimus fuisse precipuam immo solam originem morbi presentis et causam quae soldanum babiloniae continuis etiam postmodum iniuriis lacessitum ad querenda remota suffragia et desperanda coegit',\n",
       " 'pdv_28_14': 'haec quandoque cismarinorum nobilium animos deuotione seducunt qui diuinitus inspirati ad reliquiarum illius terrae salutem uotis ardentibus aspirabant qui quamquam res et personas exponerent pro presidio predictis propterea tamen ab ipsis iniuriari indignum estimant et reputant indecorum dum ipsorum conuentiones et treugae delusoriae reputantur',\n",
       " 'pdv_28_15': 'propter quod istud quam primum ad sollicitudinem nostram gerentem curam negotii transmarini peruenit peruigili semper et continua meditatione pensauimus qualiter cum terrae primatibus licet nobis et nostrae fidei uel propter perfectae discordiam inimicitiae palliatae uel cuiusdam amicitiae federa traheremus et potissime cum soldano babiloniae qui terrae discidio pena maior et huiusmodi locorum habilitate uicinior habebatur',\n",
       " 'pdv_28_16': 'ad hoc nos nullius familiaritatis intrinseca prouocauit affectio sed cauta prouisio ne desperare predictos necessario cogeremus et ne particularia metuendo discidia suas conflare potentias cogerentur in unum priusquam temporis habilitate captata uel pacatis ytaliae partibus inter nos et ecclesiam unione secuta quam teste supremo iudice semper ambiuimus quam hostis humani generis nostri et discriminis auidus subtiliter hactenus impediuit unanimibus uotis et uotiuis presidiis uacare possemus',\n",
       " 'pdv_28_17': 'igitur uestra circumspectio non miretur si romanum principem et hierosolimitanum ad iracundiam uehementem tam sinistri casus infesta relatio rei quadam indignitate commouit',\n",
       " 'pdv_28_18': 'nobis et ceteris terrae principibus ecclesiasticis et mundanis in cismarinis deliciis existentibus barbarorum nequitia fides nostra deprimitur crudelitatibus hostium fidelium reliquiae trucidantur peruersorum iniuriis pulchritudo templi dominici deturpatur illic pro fide nostra seruanda confligitur et uincentibus palma uictoriae et cadentibus corona martyrii hylariter expectatur iustitiae nobis bella geri placuit nullos habitura triumphos ideoque quantumlibet essemus iusta turbatione commoti per predictum fratrem s nuntium eiusdem patriarchae quem tam cismarini quam transmarini discriminum radix et causa non latent et quem uelut preclarum membrum ecclesiae nulla labes suspicionis aspergit certam et acceptabilem formam pacis accipere credebamus quam saluis nostris et imperii nostri iuribus quae minorare sacrilegium credimus tolerare possemus per quam etiam licet uulneratum uniuersalis negotii commiocdium wx amoclo temmpestioum accipist ulle amen ef mecessar um forsitan reportabit',\n",
       " 'pdv_29_1': 'honor imperii qui propter turbationes temporum ualde fuerat in ytalia diminutus per quem nostra et exaltatio principum procuratur diu nos de consilio tuo et aliorum principum ad sui reformationem tenuit in eisdem partibus occupatos ut quibuslibet deliciis et regiis opportunitatibus pretermissis personae nostrae ac nostrorum fidelium continuatis laboribus per quamplures annos estiuis et hiemalibus temporibus minime parceremus',\n",
       " 'pdv_29_2': 'regnum hereditarium nostrae matris augustae obuentiones et commoda nobis undecumque proueniunt preter mores regnantium ceterorum qui bona hereditaria commodis specialibus et priuatis attribuunt pro republica et augmento imperii tam in rebus quam in diuitiis et personis incessabiliter exponentes ita quod uictore domino cuius preuia dextera feliciter in omnibus triumphamus ad id labores nostri transacti temporis peruenerunt ut deuictis fere in totum hostibus et imperio nostro subactis ualde modici temporis restat labor in quo finito speramus ad perfectionem uotorum communium et prosperum totius operis ytalici complementum triumphaliter pro nostro et communi honore principum penitus peruenire',\n",
       " 'pdv_29_3': 'quia uero pridem auditis rumoribus nationis barbarae tartarorum quod regnum ungariae subitis aggressibus inuasissent cogitauimus proximo ardente pariete rebus nostris consultius succurrendum',\n",
       " 'pdv_29_4': 'ad haec prompta expositi uoluntate uelut qui cum proprio suadente negotio tum totius christianitatis subsidio et tuitione catholicae fidei requirente ad quam tuendam ex commissa nobis imperialis officii dispensatione tenemur et debemus inimicis fidei christianae totis uiribus obuiare',\n",
       " 'pdv_29_5': 'sed summa necessitas necessariae causam dilationis indixit ut rem tam arduam imperii nos principaliter et specialiter principes contingentem bellicis tot armorum laboribus in effusionem germanici sanguinis acquisitam et ad finem proximum germanis ensibus iam deductam non deberemus omittere propter breuissimam moram temporis imperfectam ut quod esset deterius et facile contingisset ytalicis gentibus in absentia dominorum suorum utentibus more suo tantus labor et effusae diuitiae pro recessu nostro in irritum recidissent et recidiua negotii grauiora nobis et imperio iterata pericula permanerent',\n",
       " 'pdv_29_6': 'aliud etiam urgens et euidens impedimentum occurrit quod crescente inter nos et romanum pontificem ab olim oborto discidio experientia preteriti temporis suggerit uenturum tremorem ut iustus timor qui cadere ualeat in constantem recte moueat mentem nostram ne nobis uenientibus ad confusionem hostium barbarorum familiaris et domesticus hostis uelut quondam nobis partes ultramarinas aduenientibus pro seruitio iesu christi animatis quibusdam rebellibus nostris marinis predonibus qui libenter occasionem absentiae nostrae captarent inuaderet regnum nostrum cum familiaris inimicus et hostis pestis sit efficacior ad nocendum',\n",
       " 'pdv_29_7': 'propter quod de te ac de ceteris principibus non absque admiratione publica totius loquitur lingua mundi quod audito et cognito infausto aduentu infidelium tartarorum qui ad exterminium ecclesiae et imperii ac totius cladem christianitatis aspirat preuisa deliberatione principum ad sedem apostolicam nuntios misimus specialies supplicantes summo pontifici ut tot impedimenta quae uerbo et opere nobis opposuit et opponere non disistit inspecta necessitate occidentalis prouinciae reuocaret et nos ad publicae fidei christianorum defensionem uenire permittat etiam inoffensos ut moram nostram quam iniuste causaris tu uel alii principes arguere non possetis',\n",
       " 'pdv_29_8': 'sic pro diuturnis guerris ac humiliatione superborum rebellium exhaustis thesauris nostris et uiribus tot annorum laboribus fatigatis tam propter ea tueri quam ab inimici hominis nequitia seu insidiis precauere ac instanti dissensioni finem imponere compellamur atrio nostro in tranquillitatis securitate disposito reparatis opibus ac uirium copiis ad interitum communium hostium potentius accessuri',\n",
       " 'pdv_29_9': 'quapropter omnibus pretermissis felices gressus nostros direximus uersus urbem ita quod romanis partibus uicinamur intendentes esse contenti ueteribus et hereditariis imperii uiribus uel iuribus quae diu augusti predecessores nostri generis et honoris tam imperii quam regnorum proprie propria possederunt quibus tam diu neglectis per te et alios principes notari merito poteramus',\n",
       " 'pdv_29_10': 'ad pacem uero quam semper affectauimus instantem operam adhibemus quae per nos fuisset olim et sepius procurata nisi frequens nostra petitio aures et animum pertinacis hominis induraret et inde nutriret discordiam unde concordiam postularet',\n",
       " 'pdv_29_11': 'speramus autem per presentem gressum nostrum mundo acquirere bonum pacis et statu ytaliae pacifice reformato ac regno nostro in dei securitate dimisso tam onusti diuitiis quam gentium multitudine constipati cum expectata benedictione sacrosanctae matris ecclesiae ueniemus ita quod domino exercituum nos iuuante quo duce quo preuio ministrata nobis celo uictoria qua de cunctis inimicis nostris consueuimus triumphare tartarorum multitudinem deuincemus',\n",
       " 'pdv_29_12': 'tuam igitur industriam exhortamur quatenus interim cum toto tuarum conatu uirium dilecto filio nostro corrado in romanorum regem electo potenter assurgas ad reprimendos impetus aduersariorum communium et ingressus ut eis non liceat campum liberum inuenire donec nos cum potentia maxima ad eorum confusionem ultimam ueniemus',\n",
       " 'pdv_30_1': 'perfectae sollicitudinis zelus quo sicut pater imperii statum eiusdem diligere cogimur et tueri propensus nos inducit non tam manifesta pericula quam suspecta uereri nec prouisionem differre cautelae quousque rei certitudinem per oculatae fidei testimonium adsequamur',\n",
       " 'pdv_30_2': 'sed quanto maiora timentur esse dispendia tanto promptior et perfectior debet esse cautela',\n",
       " 'pdv_30_3': 'infestam igitur nobis et infaustam omnibus famam de tartarica tempestate finibus imperii iam uicina per uos quos ex uicinitate loci primos inuenit certius et ordinatius deducendam uobis idcirco describimus ne super tanto discrimine taciti uideamur',\n",
       " 'pdv_30_4': 'aduertimus enim ista iam dudum sed quamquam audita decredere uereremur nec credere delectaret ipsa tamen longe modernis remota temporibus putabamus tum propter itineris remoti discrimina tum propter quamplurium fortium principum et populorum occursum qui uenientium tartarorum armis et furiis occurrebant',\n",
       " 'pdv_30_5': 'sed ecce deletis in totum terrae principibus quos obices inuenerunt et ad iuga perpetua seruitutis paucissimis admodum ex inferioribus reseruatis iam uersus imperii romani fines propinquare dicuntur et ad religionis ac fidei nostrae matrem sacrosanctam romanam ecclesiam prophanandam et urbem regiam imperii nostri caput iure dominii uel iniuria potius possidendam tartaris prout firmiter creditur aspiratur',\n",
       " 'pdv_30_6': 'uerum quantumlibet haberemus ut diximus ex resistentia remota fiduciam nec preoccupari tam subito crederemus in totum tamen sollicitudo nostra non exiit prouidentiae futurae consilium quin multis retro temporibus pensaremus qualiter nos contra huiusmodi infausti casus euentum si diebus nostris ita contingeret pararemus',\n",
       " 'pdv_30_7': 'sicque nos quantumuis inuitos oportuit eisdem preferre presentia et manifesta preponere dispendia presumptiuis propter hoc etenim romanum pontificem multis obsequiis multisque blanditiis nobis efficere nitebamur unanimem',\n",
       " 'pdv_30_8': 'sed quod dolentes referimus et reminiscimur lacrimosi uenenosi serpentis antiqui perfidia in tantum causae nostrae preualuit quod in totius fere mundi perniciem subiectorum nostrorum fidem in perfidiam transtulit et nobis maternae dilectionis proh dolor ubera nouercauit propter quod etiam in totum fere uitae nostrae deliciis abdicatis quas regni nostri syciliae nobis amenitas afferebat per aspera maris et montium germaniam repetentes et ad congregandas dominii nostri uires ibidem et consolidandas ad unum post domitam et oppressam h primogeniti nostri dementiam qui sibi contra nos sedem assumpserat aquilonis circa fertilis ytaliae partes direximus gressus nostros uires nostras eduximus et nostrorum ut pacatis undique dominii nostri partibus et rebellibus omnibus ad mandata nostra subactis tanto uelocius tantoque securius ad exterminium tartaricae tempestatis imperialis dextera consurgeret quanto potentius et quietius imperaret',\n",
       " 'pdv_30_9': 'occurrit uerumtamen dolorosa de preteritis rei gestae memoria quod transfretantibus nobis dudum in terrae sanctae subsidium ad sarracenorum excidium qui non minus fidem nostram quam tartari persequuntur iste charissimus pater noster mediolanensium ac suorum complicium mentibus iniquitate dissutis regnum nostrum syciliae uiolenter inuasit',\n",
       " 'pdv_30_10': 'et quod horribilius est auditu nobis ibidem agentibus omnibus christi fidelibus ne nobis in christi crucifixi negotio ferrent uel preberent auxilium interdixit',\n",
       " 'pdv_30_11': 'non est enim leuitatis hic timor qui potest cadere in constantem uelut preteriti temporis ad futurum et ex toto similibus offensis assumptus',\n",
       " 'pdv_30_12': 'uellemus etenim tam gloriosa preteritorum memoratione foueri quod illam gereremus de patre fiduciam illam de subditis constantiam haberemus quod in spe paterni consilii et fide firmissima subiectorum cuncta post terga possemus secure relinquere et ad exterminium tartarorum postpositis omnibus festinare',\n",
       " 'pdv_30_13': 'ecce uerisimiliter opinamur quod fama dissensionis huiusmodi non modicam tartaris prebet audaciam ut in seipsum diuisum fidei nostrae negotium facilius desoletur',\n",
       " 'pdv_30_14': 'audito uerumptamen per uenerabilem episcopum uarmacensem legatum ad nos ex parte regis ungariae tam magna de tartarorum uenientium tempestate uiis et iugis montium maturatis uersus romam dirigimus gressus nostros',\n",
       " 'pdv_30_15': 'ubi deuotione non minus potentia nostra uicino conspecta si apud summum pontificem quae sunt patris inuenerit filius et apud apostolicam sedem pro tanta fidei necessitate consilium non dubitabit ullatenus nec retardabit romanus augustus catholicus imperator ac rebellium inclitus dominator pro tanta fidei necessitate corpus exponere et totius potentiae suae uires offerre',\n",
       " 'pdv_30_16': 'uos denique patres conscripti quibus est pestis ipsius fama clarior quia causa uicinior nobis prosequentibus imperii nostri causam quia dum patria et auita regna repetimus non aliena per iniuriam usurpamus uias omnes inueniatis et modos qualiter una nobiscum et cum aliis terrae principibus quos ah haec per litteras nostras et nuntios excitamus pro tantae necessitatis articulo ad destructionem communium hostium occurrere ualeatis presertim cum diuina potentia non tam tueri uelit imperium romanum quam augeri',\n",
       " 'pdv_30_17': 'ecce enim quod rex ungariae regnum nostrae dicioni subiecit dammodo defensionis clipeo protegatur',\n",
       " 'pdv_31_1': 'in exordio nascentis mundi prouida et ineffabilis dei sapientia cui consilia non communicant aliena in firmamento celi duo statuit luminaria maius et minus maius ut preesset diei minus ut preesset nocti',\n",
       " 'pdv_31_2': 'quae duo sic ad propria officia in regione zodiaca efferrentur etsi se multotiens ex obliquo respiciant quod unum alterum non offendit immo quod est superius inferiori suam communicat claritatem',\n",
       " 'pdv_32_1': 'quod ad publicae notitiae fores quae post firmatam utinam melioribus auspiciis pacem inter nos et ecclesiam contigerunt insinuatio nostra sero perduxerit causa fuit tractatus de pacis consummatione continuus et firma fiducia de summi inconstantia sacerdotis',\n",
       " 'pdv_32_2': 'sed nec minus haec calami nostri tardauit officium dum sanctius credebamus sub hylaritatis spe tua uota suspendere quam conceptam de pace letitiam amaritudinis nuntiis occupare',\n",
       " 'pdv_32_3': 'quia tamen ulterius obumbrare non possimus quod tacentibus omnibus ipsarum rerum euidentia loquitur et dissimulare diutius fama preambula non permittit ecce quod ueritatis stilo describimus quod teste testium omnium primo si tempus et causa permitterent ualde libentius taceremus',\n",
       " 'pdv_33_1': 'audita summis expetita consiliis et ardentibus desideriis expectata noui substitutione pontificis in uenerabilium patrum et dominorum cardinalium uoluntate concordi et unica generalis uoti postulatione deo auctore promoti tanto maior accessit ex uestra promotione iucunditas quanto subtractum dulce filii nomen quod uiduitas matris abstulerat in data nobis noui subrogatione pontificis non immerito gaudere possimus restitutum ut paterno nomine piae prouisionis omen adueniat per quod expectanti filio et nouercalem quodammodo dudum iniuriam iam perpesso dicat recte mater ecclesia fili ecce pater tuus in cuius affectione filius aspirabat et ad patrem conuerso respondeat filius pater ecce filius quem materna ubera lactauerunt in cuius obsequiis pia maternitas requiescat',\n",
       " 'pdv_33_2': 'datum est enim uobis celo innocentii predestinatum forte uocabulum quod per uos nocentiam subtrahi consultius innuat et pie suadeat innocentiam conseruari',\n",
       " 'pdv_33_3': 'aduenistis quoque nobis et nobilibus imperii filiis uerus amicus nouum creatus in patrem per quem confidat imperium uota pacis et suae iustitiae inuiolata seruari',\n",
       " 'pdv_33_4': 'quapropter ad uenerandum patrem innocentium apostolicae sedis antistitem per fratrem gerardum uenerabilem magistrum domus sanctae mariae theutonicorum magistrum ansaldum  sacri imperii ac regnorum hierusalem et syciliae ammiratum magistros p de uinea thadeum de suessa magnos curiae nostrae iudices et magistrum rogerum porcastrel lum decanum messanensem capellanum nostrum fideles nostros quos de latere nostro ad uestram presentiam destinamus nostrae serenitatis nuntios et legatos conceptae spiritum deuotionis exponimus et in eorum affatibus tam deuote quam hylariter nos uestro conspectui presentamus',\n",
       " 'pdv_33_5': 'idem uero nuntii nostri tamquam intime conscii uoluntatis nostrae et deuotionis ad patrem ueraces erunt interpretes tam nos quam potentiam nostram imperium ac regna nostra et quicquid in bonis nostris consistit uestris beneplacitis ad honorem ecclesiae ac fauorem omnimodum ecclesiasticae libertatis quantum cum deo saluo iure et honore imperii ac regnorum nostrorum possumus obnixius offerentes illam ad nos utinam reuerendi patris beneuolentiam relaturi per quam erga patris debitam reuerentiam ad omnem honorificentiam filialem totis affectibus ac expertis effectibus plus quam aliquis alius deuotus filius effundamur',\n",
       " 'pdv_34_1': 'exultet iam romani culmen imperii et pro tanta uictoria principis mundus gaudeat uniuersus erubescat illicita lombardorum societas confundatur rebellis insania et pro tantae stragis exitio inimici populi contremescant',\n",
       " 'pdv_34_2': 'prae omnibus tamen infelix mediolanensis ingemiscat et doleat et amare prorumpat in lacrimas de tantis occisorum cadaueribus militum et ciuium captiuorum et amodo mundi obedire uel subesse domino acquiescat',\n",
       " 'pdv_34_3': 'uerum qualiter hostilis sanguinis flumina cesareos tinxerint gladios qualiter inimicos cuneos imperatoris potentia expugnauerit audiatis',\n",
       " 'pdv_34_4': 'postquam mirabiles machinae montis clari menia cum trabuccis et instrumentis aliis tormentarint et postquam irreparabile brixiensis regionis incendium multos terruit mediolanensibus placentinis et eorum fautoribus qui ad brixianorum auxilium uenerant cesar procedebat ferociter cum suo exercitu obuiare',\n",
       " 'pdv_34_5': 'cum uero ad pontisuici ueniret predia idem imperator magnanimus castrametatus est iuxta temptoria inimici ita quod utriusque partis positionem exercitus quaedam aqua peruissima diuidebat ubi multiplicatis uiribus cesareae maiestatis ad miscenda prelia erat auidus imperator',\n",
       " 'pdv_34_6': 'sed cum rebelles inimicos uoluit aggredi hostis pusillanimis pugnae formidans discrimina in stagnis circumadiacentibus se conclusit cuius astantiae munimine positus ordine belli non poterat insiliri',\n",
       " 'pdv_34_7': 'tandem prudentia principis usa saniori consilio ibi dimissis hostibus in cremonam pontibus cum ueloci cursu lolium pertransiuit sicque quod per huiusmodi fluminis marginem ultra decem milia sui exercitus secum trahens in ponte brixiae signa direxit uictricia ut ad hostium ingressum preueniens eos inuaderet transeuntes statimque per septem acies diuiso exercitu inimicos qui iam transierant lolium in prediis pergami pugna quam parauerat acriter insiliuit',\n",
       " 'pdv_34_8': 'et ita imperatoris militia properabat ad prelium expedite tamquam leones quos fames extimulat ad stabula cursitant armentorum ulterius nec mora protracta die tricesimo septimo mensis nouembris undecima indictione utriusque partis cunei precursores per curtis nouae campos alternis cursibus impetuose furentes hinc inde consortibus manibus inuicem clangore tubarum milites animantes bellum terribile inceperunt et subsequentibus turmis undique commiatis alterutrum cum hinc inde foret diu dureque certatum tandem mediolanensium militia cesaris uiribus ferociter interrupta et usque ad suorum castrorum impulsa hospitia uiriliter cepit quasi cursu ruinae multiplici iam labere nam multiphariae cedis pernicie imperialis exercitus ignobile uulgus flagitando perurgens campum sanguineum precipiti populo cumulabat',\n",
       " 'pdv_34_9': 'sed illius diei narrare pericula quis ualeret hostium aceruos cadauerum scribere quis captiuorum nomina numerare',\n",
       " 'pdv_34_10': 'andem enim deus iustus iudex iura protexit imperii et ad tanti casus interitum subito deiecit superbiam rebellium lombardorum quod ipso die triste mediolanum cum suis fautoribus florem militiae populi et carrucium cum potestate turpiter amiserunt et ex hostibus tot quot uoluit quisque de nostris occidit et quot uoluit captiuauit',\n",
       " 'pdv_34_11': 'tandem relictis armis tentoriis et currubus ferri mortem irreparabilem populus fugiebat ita quod maior eorum pars in fluminibus se submersit',\n",
       " 'pdv_34_12': 'tunc cesar pre omnibus militibus sue uirtutis potentiam est expertus',\n",
       " 'pdv_34_13': 'ipse enim cuneos cunctos inimicorum manu propria feriebat',\n",
       " 'pdv_34_14': 'tunc theutonici suos gladios rubenti sanguine rubricarunt tunc felices fidelesque regni milites collaterales principis mirabiliter pugnauerunt',\n",
       " 'pdv_34_15': 'tunc miranda papiae militia se de mediolanensibus militibus uindicauit et fidelis cremona cum sociis ciuitatibus secures sanguine saturauit et suas euacuarunt pharetras sarraceni',\n",
       " 'pdv_34_16': 'numquam enim in aliquo umquam bello sic fuerunt cadauera cumulata et nisi nox festine uenisset quae hostium subtraxit reliquias nullus eorum de manibus cesaris euasisset',\n",
       " 'pdv_34_17': 'sed mira res quod in tam belli conflictu terribili imperialis exercitus extitit sine damno sic utique deuictis hostibus et fugatis cum triumpho cremonam uenit inclitus imperator',\n",
       " 'pdv_34_18': 'inde infortunatum carrucium mediolanense cum potestate filio ducis uenetiarum aliisque captiuis cremonam accelerans sequenti die ad mandatum cesaris sui uexilli pertica usque ad terrae faciem turpiter inclinata potestate ad dedecus ligata superius et multitudinem gentium magnis applausibus pretereunte ab elephante qui castellum ligneum et tubicinas cum uexillis imperii gerebat in dorso per cremonam ad laudem et gloriam principis trahebatur',\n",
       " 'pdv_34_19': 'uere de throno dei sententia prodiit inferens iudicium ultionis nam nec occisis sufficiunt sepulturae nec cremonensium palatia multitudinem capiunt captiuorum',\n",
       " 'pdv_34_20': 'quapropter imperiale festum uictoriae sollempni gaudio fideles populi celebrantes de tanti trophei preconiis ingenti letitia gaudeatis',\n",
       " 'pdv_35_1': 'subministrante nouorum emergentium uarietate materiam tam noua quam uetera scribere cogimur ut ad uos plena notitia nostrorum euentuum ex certa scientia perferatur',\n",
       " 'pdv_35_2': 'obsidentibus siquidem nobis uiterbiensem ciuitatem et ad expugnationem eiusdem cum infinita multitudine machinis paratis ex aduerso prouisa est summae subtilitatis et industriae uia quae propositum nostrum ceptis auerteret et iustum animi nostri motum quem causa inopinatae perfidiae contra nos et imperium perpetratae commouerat preter omnem spem nostram et eorum meritum ne ad uindictam nobilis ira procederet deliniret uidelicet quod inter omnes ecclesiae romanae cardinales precipuus amicus noster ad talia mitteretur o uidelicet sancti nicholai in carcere tulliano diaconus cardinalis qui ob suae fidei puritatem diffidentiam nostram ex preteritis non iniuste conceptam ab intimo nostri cordis euellens et intercessionis amicae dulcedine nostrae gratiae duritiam emolliret cui nullo modo possemus ex fide premissa decredere nec ex affectione preces quantumcumque grauissimas obaudire',\n",
       " 'pdv_35_3': 'supplicauit itaque iste carus amicus noster homo bonus et purus et ex parte patris et fratrum ut ab obsidione uiterbii recedentes impugnationes ciuitatis eiusdem remotis insultibus nostris et diruptis machinis laxaremus quam magister rainerius de uiterbio ille inquam famosus amicus noster undique congregatis balistariis quibus facilius hominum sanguinem et uitam effunderet obsessus interius defendebat adhibitis ad ministerium defensorum obsequiosis manipulis fratribus minoribus et predicantibus scilicet qui de manibus propriis tamquam ex pharetris sagittas mortiferas educentes iaculatoribus adiunctam remissionem quorumdam peccatorum quo securius atque libentius nostros occiderent ministrabant',\n",
       " 'pdv_35_4': 'nos autem ecclesiae matris nostrae preces consueta iam exauditione suscepimus deuote quas tantus pater et tam familiaris amicus noster ut diximus affectuosissime porrigebat miras nobis et ineffabiles ex parte summi pontificis et cardinalium omnium gratias et specialiter ex consummatione pacis inter nos et ecclesiam promittens expressim adiciens ex stipulatione nobiscum contracta sollemniter et repromittens quod symonem comitem theatinum et alios milites nostros theutonicos et latinos necnon et uiterbienses omnes quos in castro uiterbii pro fide nostra pugnantes religiosa perfidia tenebat inclusos nobis restituere deberet et quod uiterbiensibus predictis in ciuitate morantibus et ad nos exire uolentibus seu etiam aliis ciuibus ciuitatis eiusdem qui ceterorum suorum ciuium communicare perfidiae recusantes ad nos pridem exiuerant nulla prorsus in persona aut rebus iniuria seu molestia inferretur',\n",
       " 'pdv_35_5': 'nunc autem audite qualiter omnia supradicta sunt nobis ex federe promisso seruata',\n",
       " 'pdv_35_6': 'in primis tam comes quam theutonici supradicti milites et alii de regno syciliae rebus ipsorum omnibus uiolenta predonum romanorum et uiterbiensium manu in predam et direptis uix potuerunt uiui de castri septis iaculantium et lapidantium manibus ipso cardinale odone presente nec contradicere ualente deduci quin etiam ipse cardinalis prefatus uulneratorum ipsorum nostrorum sanguine maculatus proximum imminere sibi propriae uitae periculum formidabat',\n",
       " 'pdv_35_7': 'uiterbienses uero fideles nostri bonis suis omnibus spoliati turribus ipsorum et domibus funditus diruptis et igne succensis non sunt ad nos contra fidem promissam exire permissi sed carcerali custodiae proh dolor mancipati',\n",
       " 'pdv_35_8': 'romani uero postea quibus ad defensionem uiterbii nobis et imperio nefaria uiterbiensium proditione subtracti uenientibus tamquam ad liberationem sepulchri dominici nauigantibus fuerat indulta remissio peccatorum postquam nos ab obsidione uiterbii supplicantis ecclesiae potius precibus quam romanorum terrore uicti discessimus aliqua ex debilibus castris nostrorum fidelium quae tenebant ad alicuius seu aliquorum instantiam quorum adhuc tacemus nomina simulato quodam rigore iurium post dissolutum nostrum exercitum nobis ab eo longe morantibus combuxerunt',\n",
       " 'pdv_35_9': 'sed nec per hoc est nota romanorum pusillanimitatis offensa nec quiritum pudor in aliquo coloratus quod ausi fuerint mappalia quaedam quorumdam nostrorum fidelium igne comburere et rusticos quosdam imbelles suppellectile paupere spoliare',\n",
       " 'pdv_35_10': 'non sic fuerunt hoc anno magna nimes cum nos maiori militum sed minori peditum quantitate urbem pre foribus angebamus nisi forte ex indulta remissione peccaminum tamquam de paradiso securi se uellent audaciores exponere et mortis indubitatae se offerre periculis promptiores uhaec sunt quae nobis nouiter et enormiter contigerunt horum tamen omnium nullos apud uos diffamamus actores',\n",
       " 'pdv_35_11': 'enormitatem commissi facinoris nobis ad presens perferre sufficiat quam etiam per magistrum o cardinalem prefatum cuius est preter omnem culpam suam temere uiolata promissio tam domino papae quam fratribus suis duximus humiliter et suppliciter denotandum probabiliter expectantes quod si sibi commissa per suos offensa displiceat offensores correctionis debitae iudicio puniet et nos ex promisso per eum beneficio gratiae placabit offensas',\n",
       " 'pdv_36_1': 'quia uestrae nitor conscientiae postulat et affectus integerrimae fidei representat ut de prosperis auspiciis romani principis domini friderici possitis relatione ueridica nouellari ea quae sub eius notis aquilis hiis diebus in ytalia effulsere euidenti ostendimus ueritate',\n",
       " 'pdv_36_2': 'uerum cum imperialis maiestas sui diadematis iura perquireret et imperii sui uectigalia uindicaret lombardorum precipue mediolanensium nefanda temeritas et audacia detestanda una cum suis confederatoribus ausi sunt uertere faciem contra solem filii belial secreta sibi proditionis confingunt discipulos sibi congerunt non tamen congregata conseruant',\n",
       " 'pdv_36_3': 'egredientes ut mures ridiculi de cauernis moliuntur insidias ponere in leonem inhiati sunt sanguinem ab ubertate domus uenerunt ebrii non tamen adipe sunt pinguium saturati',\n",
       " 'pdv_36_4': 'et dum castrametati sunt iuxta lolium perditionis filii ut rationis segetem perderent et zizaniam quae uulgo dicitur lolium seminarent quanta erat multitudo militum quanta numerositas bellatorum ubi superbia pulsauit tympanum uoluptas tuba concinit resonat cithara plaudit lira et sic uoluptatis ager cum pudendi decoris insignibus pullulauit',\n",
       " 'pdv_36_5': 'sed dum gloriatur in curribus et in equis pars electi principis ex aduerso cepit in nomine domini gloriari',\n",
       " 'pdv_36_6': 'sed quia facile est deo celi multos in paucis concludere princeps fortitudinis dominus fridericus diuisis se quos habebat in expeditione comitatibus lombardiae quia ipse rex salomon pacificus heres pacis quod suum erat pacifice exigebat et cum sint uiri sanguinum non parauerat eos sanguine calicis exhaurire',\n",
       " 'pdv_36_7': 'sed quia leuiathan filii execrantur contumaciter uerbum dei noluerunt acquiescere sed inualescebant eorum uires et uociferando dicebant persequamur eos quia spolia partiemur',\n",
       " 'pdv_36_8': 'sicque dominus cui de caelo uictoriae ministrantur assumpsit secum scutum bellum et gladium et itineris sui comitem angelum domini exercituum habens secum loricam induit sicut gigas ac prelium iniit secum habens regni milites et paucos theutonicos ac quosdam lombardos quos in expeditione',\n",
       " 'pdv_36_9': 'ducis militiae contigerat remansisse et dum uiri fortes cum forti principe intrant bellum exclamauerunt tubis et audita est uox tonitrui et stuporis euge euge ad mediolanum impiger aduola friderice',\n",
       " 'pdv_36_10': 'quo audito mediolanensis proteruitas statim fuit perterrita compagine proiciunt tympana sumunt arma et dum trementi cuiuslibet dextera retineri uix poterat gladius quilibet mutus in suo pectore tacitos uertit questus heu heu animae nostrae quia sic torques nos acriter atrox et immisericorditer immisericors friderice',\n",
       " 'pdv_36_11': 'fit clamor ad sidera ue ue tibi misera lombardia',\n",
       " 'pdv_36_12': 'quid plura mactatur senex puer diripitur iuuenis ut uitulus immolatur campi madescunt sanguine et interfectorum exuberant ubertate',\n",
       " 'pdv_36_13': 'quam male signa iacent et quam bene sternitur hostis certe friderici gladius cedem sitiens haurit sanguinem uorat carnem et dum incaute rebellis extollitur eius caute contumacia profligatur et sic princeps audaciae seuiens in lombardos subuertit rotas curruum et inebriatus est gladius sanguine occisorum',\n",
       " 'pdv_36_14': 'quia cum rebellium turba deprimitur alios mors glutit per gladium et innumeros catenae acerbitas stringit et religat iuxta collum',\n",
       " 'pdv_36_15': 'currus quidem mediolanensis currus gloriae miserabiliter capitur una cum filio ducis uenetiarum mediolanensi potestate turpiter captiuatur qui cum esset stipatus multae militiae fluctuare uisus est postmodum nuda crate',\n",
       " 'pdv_36_16': 'quam habuerit princeps uictoriae ad laudis titulum quoniam illum ad almae urbis populum destinauit',\n",
       " 'pdv_36_17': 'nunc uero rebelliones nequissimi olim gaudentes quomodo eorum gloriam in similitudinem uituli comedentis fenum et paleam mutauerunt et qui nutriebantur in croceis ima perlustrant carcerum et amplectantes stercora expectant sententiam dampnatorum',\n",
       " 'pdv_36_18': 'nunc uero omnium mediolanensium et rebellium ligatura nota perfusi infamiae ruboris stigmate perpetuo insigniti crassas quodammodo ceruices pedibus applicant et se suosque dantes muros diruunt fossas replent et ad consequendam misericordiam et ad inuentionem omnimodam elaborant',\n",
       " 'pdv_36_19': 'sed quia nullus semel ore receptus patitur sanguis mansuescere fauces imperator magnanimus eorum stragem magis gestiens quam salutem solum pudorem reputat bello non uincere quin potius uiam ruinae contradicentibus aperire et ut nullus resistendi sumat audaciam truculenter reproborum satagit ad uindictam',\n",
       " 'pdv_36_20': 'quocirca uos qui estis fide prediti mente preclari natione nobiles uirtute locupletes ita cum omni reuerentia tam uictoriosi principis celebretis magnificentiam formidetis potentiam magnificetis honorem ut per exhibitionem bonorum operum grata mereamini consequi beneficia premiorum',\n",
       " 'pdv_37_1': 'licet prae suis diffisa meritis ex conscientia grauium quas in nos commiserat offensarum distulerit hactenus mandatis nostris fauisse fauentia nostrae tamen obsidionis uiribus ausa est aliquamdiu restitisse propter hiemis intemperiem quae suam diffidentiam confouebat nunc autem uerni temporis aduenienti temperie quo ciuitatis eiusdem muris ex machinis dirutis et fossis nostris subterraneis intima penetrantibus ciuitatis ut bellum tam interius quam exterius gereretur et ciues ipsos oporteret corpora pro muris exponere et congressorum nostrorum insultibus expetebantur quominus gladiis bellatorum ut uictorioso exercitu nostro nullatenus confiderent se tueri quapropter ad implorandam nostrae mansuetudinis clementiam ueluti qui uicinum et iam incumbens exterminium formidabant tota se uniuersitas ipsa conuertit ut quibus expugnatio proxima mortis periculum minabatur uitae munus indulgentia nostra tribueret et misericordia quae superexaltans iudicium poscebatur manifestis eorum excessibus locum ueniae prepararet',\n",
       " 'pdv_37_2': 'ad clamores igitur et implorationes populi nostri quem quidem notata rebellio si factis equitas responderet ad exauditionem indigne reciperet inuictum uictoriis omnium animum clementia nostra uicit et cum uictis misericorditer agere nos induxit die',\n",
       " 'pdv_37_3': 'uenientibus ad pedes nostrae clementiae fauentinis et ad nostrum beneplacitum et mandatum in nostra misericordia bona subiacientibus et personas fidelitatis debitae prestitis iuramentis et illicitis quibuslibet quae fecerant abiuratis eos ad dominium nostrum et gratiam benigne recepimus omnibus eorum offensis nostram misericordiam preponentes cum gloriosae uindictae genus pensemus ignoscere noxiis dum potuerimus uindicasse ac felicibus uictoriae nostrae titulis ascribamus saluti restituere subditos et uiuendi beneficio condempnatos ut nichil iustius atque benignius resumpto iugo imperii de cetero ualeant experiri',\n",
       " 'pdv_37_4': 'nec est igitur amicus cedis nec ad effusionem sanguinis sacrum aspirat imperium sed cuius illustrat diuina potentia solium misericordia et ueritas ambiunt pax et iustitia complectuntur de ubertate mansuetudinis nostrae ac patulis amplexibus pietatis immensae procedimus conuersionem fidelium acceptantes et ad rebellium pertinaciam edomandam constanter et pertinaciter insistentes ut qui potentiae nostrae manus sequi uoluerint et in eorum pertinacia perdurare per murorum altitudinem et uallium profunditatem ad instantiam nostram euadere non confidant nec diffidant qui facile conuertuntur apud augustae sedis gloriam misericorditer gratiam inuenire',\n",
       " 'pdv_37_5': 'tu uero quem intimae zelus fidei nostrae facit laboris et oneris non expertem qui pro nostrorum rebellium confusione et iustitiae ac recuperandae pacis augmento nobiscum pondus diei et estus in multis sumptibus et periculis personae comportas tibi conuersionem fauentiae ad uniuersale gaudium intimamus qui per indefessas uires et uirtutis tuae constantiam nobis uictorie titulum uindicasti',\n",
       " 'pdv_38_1': 'ne fama preambula sub incerto discurrens animum uestrum contrario euentu relatione contraria ualeat perturbare facti ueritatem per ordinem presentium serie duximus declarandam',\n",
       " 'pdv_38_2': 'cum post captum et destructum pontem per mantuanos et ferrarienses infideles nostros per nostros apud pergamum multo labore ac studio fabricatum iidem mantuani et ferrarienses infideles nostri per alueum padi cum multitudine nauium discurrentes parmensibus proditoribus nostris quos ex concepto eis per dictum pontem nauali presidio iam fere adiectione non modica rerum necessariarum indigentia coartarat uictualia et alia necessaria copiosius ministrarent considerato quod reparato et bene munito ponte uiam per padum omnibus modis nauibus clauderemus nec in obsidione parmae moram inutiliter traheremus pontem in quadam strictura padi captis prius super padum per rauennates et mutinenses fideles nostros circiter centum hostium nostrorum nauibus una cum hominibus armis uictualibus et omnibus contentis in eis non sine magnis laboribus et expensis fecimus fabricari ponte quoque ipso fossatis et propugnaculis ac strenuis defensionibus omnibusque necessariis sic munito quod nullo poterat hostium ingenio uel uiribus occupari',\n",
       " 'pdv_38_3': 'parmenses uidentes per completum pontem optimeque munitum per quem subtrahebatur eis naualis presidii copia quo defendebant maxime spem adeptam tamquam de uita desperati in animorum rabiem incidentes elegerunt per pugnam succumbere uel fauente eis prosperiori fortuna de nostris manibus liberari ad instinctum quorumdam parmensium qui nobiscum uictoriae in specie fidelium proditorie morabantur',\n",
       " 'pdv_38_4': 'de parma die',\n",
       " 'pdv_38_5': 'tam milites quam populares communiter exeuntes uictoriam per insultum circa horam tertiam locum ipsum fuerunt aggressi et antequam nobis ac fidelibus nostris huiusmodi proditionis ignaris daretur ad arma spatium redeundi totum locum ipsum globi ignei undique occuparunt quibusdam rebus et uectigalibus nostris datis in manibus hostium in direptionem et predam',\n",
       " 'pdv_38_6': 'in persona uero nostra per gratiam redemptoris nostri cum multis fidelibus nostris salui euasimus quibusdam pauperibus et leuibus personis quas fugae presidium saluare non potuit in captione deductis et per manus hostium trucidatis',\n",
       " 'pdv_39_1': 'scimus et experti sumus quod barbara terra uos teneat quae nondum ardua sed desperata negotia uobis inculcat',\n",
       " 'pdv_39_2': 'sed nobilium uirtus in aspera necessitate perficitur et fortitudo nauis in pelagi fluctibus approbatur',\n",
       " 'pdv_39_3': 'unum esse nos conuenit nec emolliri deliciis nec euentuum necessitate turbari',\n",
       " 'pdv_39_4': 'cito tamen omnia quae in nobis sunt finem habebunt et cito summi pontifices qui missilium iaculorum hactenus remota sagittatione pugnabant ac uinctis luctabantur brachiis inconglutinatis pacis labiis unientur',\n",
       " 'pdv_39_5': 'dissoluto namque rete reate tibur tenditur ut romae uicinius uideatur',\n",
       " 'pdv_39_6': 'iam uerba pacis non sicut hactenus infestis auribus audiuntur concordiae uiam quam omnium hucusque uoluntas obscena precluserat subuenientium hostium necessitas iam requirit',\n",
       " 'pdv_39_7': 'in tractatu uero pacis nobis absentia nostra non oberit quam uestrorum presentia plene supplebit',\n",
       " 'pdv_40_1': 'gaudium quod super omne gaudium maximum reputaui quod merito dici potest gaudium gaudiorum ex deditione ciuitatis in qua repugnandi spes aduersantibus sola remanserat cum illud nondum per uestras ut speraui prius acceperim sed per alios qui maiestatis uestrae litteras recipere meruerunt cum quadam interiectione uerecundiae meis quodammodo uotis accessit quia qui tantae dulcedinis fore credidi primus acceptor ut fierem fidelibus aliis istarum partium dispensator defecissem forte uel forsan eius esurie nisi eam ab aliis qui me in ipsius acceptione preuenerant percepissem',\n",
       " 'pdv_40_2': 'et forsitan factum est ut intemperantia gratulandi quam habiturus eram in tantorum felicitate successuum ex parcitate huiusmodi traheretur in modum ne iucunditatis tantae gratulationis accensus paruitatem uirtutis meae quae ad tanta minus forte tripudia suffecisset magnitudinis suae uiribus absorberet',\n",
       " 'pdv_40_3': 'magisterium quidem laudo sed propter hoc uerecundiam non depono cum tanto fierem in prima huius acceptione dulcedinis et in aliorum erogatione felicior quanto beatius est dare quam accipere ipso diuini oris oraculo proclamante',\n",
       " 'pdv_40_4': 'non tamen est uerecundia ista sic efficax ut gaudium meum in aliqua parte diminuat uel pudere me faciat quominus ab omnibus de successibus materiae tam iucundae narrantibus ueluti puer unus qui ad noua quaelibet diuertit auditum narrantium ore dependulus audiam ut quodammodo rei seriem circa terminum satietatis agnoscam',\n",
       " 'pdv_40_5': 'non pudet me de materia ista cantantibus interesse iuuenculis cum iam solacia ista per hominum ora decurrant per hominum gesta se perferant et michi iam non aliter quam per famam publicam innotescant',\n",
       " 'pdv_40_6': 'undecumque autem ista uotis meis adueniunt habeo ego quod uolui habeo quod credidi habeo quod dilexi et cum legitimus factus sim tam possessionis desideratae possessor inciuile reputo scire de titulo questionem sed tantae uictoriae factus auditor secure iam peto ut cum causa quae in regnum hucusque uestrae serenitatis impediuit aduentum diuina gratia prosperante iam cesset ad recreanda corda uestrorum fidelium istarum partium serenitatis uestrae faciem quam uniuersa terra desiderat felicibus auspiciis conuertatis',\n",
       " 'pdv_41_1': 'preteritae culpae uestrae conuicium quod sub patientiae hactenus regularitate deduximus factionum uestrarum faciente proteruia cum toleratione pati ulterius non ualemus et in hoc motus nostros restringimus et audaciae refrenamus instinctum ne posset ultio culpam excedere et quo trames iuris oritur in iustitiae limites deuiaret',\n",
       " 'pdv_41_2': 'quamquam etenim serenitati nostrae quam diuina potentia seruare non cessat subiaceat omne quod uolumus nostrae tamen uoluntatis imperium de rationis fonte colligimus et de uirtutum puteo temperamus',\n",
       " 'pdv_41_3': 'dudum etenim si sub testa nucleus non celatur dum uictrix aquila nostri processus preuia in romae prediis uictricia signa pandebat dum castrorum stabilitate micantium angulos uestrae perfidiae cingebamus dum nostrae uictoriae gladii qui uinci nesciunt per uicinitatis instantiam uobis hactenus cuspide minabantur de nostrae potentiae fremitu horror et strepitus sic gressus uestros precluserat sic pusillanimitis affatus oppresserat sicut in experientiae libro legere potuistis quod cordis cogitatio non palpitabat intrinsecus nedum quod in modum audaciae immo insipientiae ut loquela sit proprior cesaream incitaretis uictoriam ad ultionis meritae funera sicut improuide nouiter attemptastis non attendentes quod licet nostra non sit ubique corporalis presentia nostrae tamen ad longinquos orbis terminos laxantur habenae potati de calice babylonis',\n",
       " 'pdv_41_4': 'nam posse uestrum quod contra nostram potentiam non posse putatur fecistis in partibus tiburtinis oua rumpentes aspidum ex quibus iam prodiit regulus telas araneas texuistis',\n",
       " 'pdv_41_5': 'cum itaque omnis subita rerum mutatio non sine quodam quasi conflictu proueniat animorum iniquae temeritatis euentibus potentiae nostre proposito inuitante iudicium uestra dissoluetur babylon damascus deficiet sufflatorium consumetur in igne',\n",
       " 'pdv_41_6': 'sedes ab aquilone posita corruet et lumbare uestrum circa lumbos appositum computrescere faciet nostrae serenitatis industria quam diuinus intuitus non desinit illustrare et quae liuorem cuiuslibet tenebrositatis obducit cuique se fere totus orbis inclinat faciente diuina clementia per locum genere urbem sibi sentiat emolliri ut qua romanum imperium meruit nominari uere nobis roma subiaceat quibus terra seruit mare fauet et ad nutum omnia desiderata succedunt deuiaret codd',\n",
       " 'pdv_41_7': '] deriuaret p',\n",
       " 'pdv_42_1': 'plenam dant nobis preterita fiduciam de futuris ut sicut te hactenus ex fide precipuum et industria specialem semper inuenimus ad beneplacita nostra paratum sic natiua tuae deuotionis excrescente constantia quaecumque nostrum et imperii honorem ac serenitatem respiciunt fideliter et sollicite promptis affectibus exequaris',\n",
       " 'pdv_42_2': 'cum igitur presentium negotiorum et temporum qualitas exigat fideles quoslibet in nostris seruitiis multo uirilius solito uires et animos exercere deuotionem tuam requirimus et hortamur attente mandantes quatenus si te umquam dudum obsequiosum nobis et utilem prebuisti fructuosiorem de cetero ex opere te presentes ut fide tua per fructuum efficaciam succrescente erga te munificentiae nostrae dexteram liberaliter extendamus',\n",
       " 'pdv_42_3': 'inter alias siquidem cogitationes nostri propositi stabili tenacitate firmauimus ad partes',\n",
       " 'pdv_42_4': 'in manu forti et brachio extenso personaliter nos transferre ut fidelium nostrorum qui pro fidei nostre nomine et felici statu imperii personarum pericula et rerum dispendia non uitarint obedientiam amplis premiorum retributionibus compensemus et effrenem superbiam nostrorum rebellium qui nunc in absentia nostra forsitan gloriantur potentiae nostrae malleo conteramus',\n",
       " 'pdv_42_5': 'nuper enim ad roborandas in melius uires nostras caloiohannes illustris imperator grecorum dilectus gener noster magnam nobis quantitatem arceriorum et gentis alterius destinauit',\n",
       " 'pdv_42_6': 'cum quibus et aliis magnificentiae nostrae presidiis quae preparauimus instanter sic ad confusionem nostrorum rebellium proponimus uictoriose procedere quod potentiae nostrae uicinitate perterriti uix adiciant ut resurgant',\n",
       " 'pdv_43_1': 'ne fama preambula quae multorum uariata relatibus dum uarias inuenit nouiter uoluntates enormiter ueritate discedit auditum uestrum forsan offenderet amicorum nostrorum corda turbaret animos et aures hostium demulceret ecce quod ipsam puram et nudam ueritatem eorum quae nouiter contigerunt uestrae dilectioni presentibus seriatim et breuiter denotamus',\n",
       " 'pdv_43_2': 'conspirantibus itaque in necem nostram aliquibus excellentiae nostrae fidelibus quin immo domesticis potius et alumpnis uidelicet thibaldo francisco pandulpho de fasanella guillelmo de sancto seuerino et eorum complicibus nobisque per aliquos ex coniuratoribus factionis ipsorum coniuratione nefaria reuelata ex ipsorum manibus uitam nostram innoxiam dominus misericorditer reseruauit',\n",
       " 'pdv_43_3': 'sed cum nos tantum scelus sicut immeritum sic incredibile primitus haberemus priusquam ad ulteriorem ueritatis indaginem nostra serenitas perueniret subito p de fasanella et iacobus de mora excogitatae malitiae principes quos lesa conscientia stimulabat una cum aliis sociis et principibus perpetrandi facinoris in curia nostra presentibus se per fugae subsidium absentarunt',\n",
       " 'pdv_43_4': 'thibaldus uero et guillelmus predicti morantes in regno et ibidem mortis nostrae nuntium tamquam indubitabilem expectantes et ex insperato contrarium audientes metu terribili uelut de celo fulminis ictu percussi ad duo ex castris nostris capacii et salae uidelicet sub silentii ambitu furtiue subrepta proditorie confugerunt ubi priusquam se possent rerum et hominum defensione munire prompta fuerunt fide regnicolarum preoccupati fidelium et collectis undique uiribus circumsepti',\n",
       " 'pdv_43_5': 'nos enim apud grossetum tunc temporis existentes postquam personae nostrae periculum caute preuidimus in hereditario regno nostro syciliae uelut in pupillam oculorum nostrorum offendi nullatenus patientes continuatis laboribus et dietis in regnum cum omni celeritate prouidimus procedendum',\n",
       " 'pdv_43_6': 'post felicem autem ingressum nostrae maiestatis in regnum quamplures fideles nostri regnicolae qui ad proditorum nostrorum falsae suggestionis instantiam per mentitae mortis nostrae spem friuolam conspirationis factionibus adheserunt postquam rem in contrarium sibi cessisse uidentibus ueritatis indaginem ipsis lumen emicuit proditores eosdem tamquam ipsorum nolentes communicare uersutiis cuiuslibet spei frustratos ymaginem reliquerunt',\n",
       " 'pdv_43_7': 'et cum non nisi in predictis duobus tantum castris salae uidelicet et capacii se temerarie prout prescripsimus receptassent unum ex castris ipsis salae uidelicet thomasio de sancto seuerino et filio eius proditoribus nostris ibidem nostri carceris custodiae mancipatis fidelium nostrorum regni prompta deuotio per uirilem et instantem expugnationem ipsius ad maiestatis nostrae dominium reuocauit',\n",
       " 'pdv_43_8': 'et sic reliquo tantum ex castris ipsis capacii scilicet ad ultionis eiusdem proxime diffuso diffugium quod circumcingi nostrorum fidelium clara deuotione mandauimus proditores predicti quibus nulla prospicimus suffragatiua remedia uelut ex duobus predictis castris cum alia munire nequiuerunt uno et fortiori perdito manus nostras effugere non ualebunt g',\n",
       " 'pdv_43_9': 'et sic tam iusto iudicio quam ueloci de proditoribus nominatis et eorum sequacibus ultione recepta sic in breui confidimus de perpetua regni nostri securitate disponere ut nobis et successoribus nostris in regno uel extra regnum agentibus nulla prorsus in posterum dubitatio relinquatur',\n",
       " 'pdv_44_1': 'etsi stipendiorum defectus quem pati uos hactenus in seruitiis nostris oportuit grauis uobis extiterit et infestus grauitatem eius si diligenter aduertitis causa duplex alleuiat',\n",
       " 'pdv_44_2': 'prima quidem quod nobis et familiae nostrae necessariorum suffragiis hactenus more solito non porrectis dum reddit malitia temporis nos subditis super hoc quodammodo non impari necessitate consimiles possibilem uobis facere debuit egestatem',\n",
       " 'pdv_44_3': 'secundo quod dum laborum et necessitatum instantia de quo uobis teste deo compatimur debita consideratione pensatur ad uestrum cuiuslibet commoda nostrae liberalitatis dexteram huiusmodi gratitudo seruitii quasi nos per debitum obligauit',\n",
       " 'pdv_44_4': 'equanimiter igitur defectus preteritos etsi quem uobis forsan inantea imminere contigerit sustinere sub certa munerum retributione uos uolumus cum negotiis nostris istarum partium quae habemus prae manibus celeriter et salubriter ordinatis ad partes ipsas feliciter et infallibiliter gressus nostros dirigere intendamus sic uestris necessitatibus tam de stipendiis quam de aliis prouideri magnifice faciemus quod uos in nostris perstitisse seruitiis merito delectabit',\n",
       " 'pdv_45_1': 'qualiter post obtentam nuper de proditorum nostrorum insania nefanda uictoriam fortuna celebris nouiter nostris processibus quos diuina semper clementia comitatur arrisit tuae fidelitatis auditibus presenti stilo letifico nuntiamus',\n",
       " 'pdv_45_2': 'licet enim ex diuersis causis et casibus quibus nostro pectori continue materia cogitationis infunditur proditorum ipsorum deprimenda nequitia quasi causa precipua specialiter hactenus cogitationibus nostris occurreret et statum nostrum in regno syciliae necessario retineret suffragabatur huic uerumptamen alia ratio non minus euidens sarracenorum uidelicet edomanda proteruitas qui sicut nobis fidei disparitate sunt impares sic deuotionis integritate diuersi',\n",
       " 'pdv_45_3': 'temerarie dudum syciliae montana conscenderant et ibidem quantum poterant licet parum potuerint nostrae maiestatis imperio repugnarunt',\n",
       " 'pdv_45_4': 'sed ut diuersa nobis quaelibet in directa dirigantur et aspera in uias planas sarracenos prefatos tamquam timore potentiae nostrae perterritos nec fortunae cesareae uolentes ulterius quin potius non ualentes resistere uel obsistere nuperrime noueris descendisse solam benignitatis augustae misericordiam implorantes',\n",
       " 'pdv_45_5': 'ex quo te ceterosque fideles nostros spes pulchra confoueat ut cum nichil nobis post terga remaneat quod causam in posterum dubitationis adducat et quaelibet sint impedimenta sublata quae nostrum hucusque propositum retardabant ad nostrorum rebellium reliquias finaliter conterendas tamquam liberiores ad gratiam gladium potenter exerere intendamus',\n",
       " 'pdv_46_1': 'furiosam superbiam et superbam furiam lucanorum qua succensi feruentes se contra deum et romanum imperium erexerunt superfluum esset per singula litteris recensere quam iam latius diuulgatam uos credimus non latere',\n",
       " 'pdv_46_2': 'sed nos quosdam excessus eorum nolumus sub silentio preterire ut celsitudinis nostrae zelati honorem et abominati uerius iniquitatem eorum ad nostram et imperii uindicandam iniuriam et illorum insolentiam edomandam exsurgatis uiriliter pariter et potenter',\n",
       " 'pdv_46_3': 'cum enim iidem lucani ad occupandam terram imperii de',\n",
       " 'pdv_46_4': 'nequiter inierant pluries eos monuimus in spiritu lenitatis ne tantam nobis irrogare molirentur iniuriam et iacturam',\n",
       " 'pdv_46_5': 'sed illi monitis nostris blandis superbe contemptis iniquitatem quam conceperant parientes predictam terram hostiliter inuaserunt in ea multa enormia committentes unde ne tantam iniuriam noxie negligere uideamur materialem gladium exercuimus in eosdem ipsos tamquam inimicos imperii prescribendo mandantes ipsos prescriptos ab omnibus artius euitari et sperantes quod percussi dolerent et attriti nostram misericordiam implorarent',\n",
       " 'pdv_46_6': 'at illi malleum uelut stipulam reputantes ad percutientem malleum noluere conuerti sed in edomabili corde timentes excessus excessibus cumularunt pro uerbis penitenciae uerbis superbiae blasphemando',\n",
       " 'pdv_46_7': 'quia uero ipsorum superbia semper ascendit donec eam exurgens iustitia iudicio preueniat et subuertat ut contritione duplici conterantur sinceritatem uestram rogamus attente quatenus eosdem lucanos seueritate debita percellentes eis interea faciatis fidelium nostrorum commercia interdici aliasque procedatis acriter contra ipsos sicut melius uidebitis expedire',\n",
       " 'pdv_47_1': 'quanta sit fidei uestrae sinceritas quam erga nos et imperium prompta semper mentis alacritate pretenditis aliena cuiuspiam uerborum argumenta non querimus cum effectus operis dicto preponderans coram nobis experimenta dilucidet et conscientiae nostrae professio testis quantalibet depositione sollempnior interpellat',\n",
       " 'pdv_47_2': 'scimus etenim immo iam iudice facto probauimus qualiter tiburtinae deuotionis integritas paratam continue se nostris obsequiis reuerenter exhibuit et in fidei nostrae constantia deuotionem puritatis ostendit',\n",
       " 'pdv_47_3': 'scimus etiam quod fidei uestrae perfectio dampnosis hostium impulsa conatibus et continuam sentiens ex uicinitate offensam uel potius ex offensionis uicinitate iacturam in eo semper est in nostris seruitiis probata feruentior quo lesionem pertulit hactenus grauiorem',\n",
       " 'pdv_47_4': 'ad compassionis itaque nostra precordia immo ad compensationis examen libenter admittimus uniuersitatis uestre grauamina qui tam hylariter nostra seruanda suscipitis tam deuote pro debita nostrorum seruitiorum executione portatis',\n",
       " 'pdv_47_5': 'de quibus et aliis uestrae fidelitatis obsequiis quamquam ut diximus nostra magnificentia certa foret ex tenore tamen litterarum uestrarum et relatibus etiam nuntiorum quos nuper ad nostram presentiam destinastis pleniori nobis exinde facta fide sic super hoc suo loco et tempore prout honori nostro conueniat et fidei uestrae requirit integritas beniuole curabimus prouidere quod in fidei nostrae constantia merito gaudebitis perstitisse',\n",
       " 'pdv_47_6': 'ceterum ut uestrae deuotionis auditus quos nostrae felicitatis auidos fore confidimus ex nostrorum prosperitate successuum recreentur adicimus quod negotiis',\n",
       " 'pdv_47_7': 'prout per litteras alias uobis scripsimus salubriter ordinatis in tuscia feliciter et uictoriose peruenimus ubi diuina fauente clementia plene gaudentes in corpore beneficio sospitatis prospere regnamus et uiuimus ac singula nobis ad uota succedunt ibique trahere modicam moram disponimus ad partes ipsas in proximo felicibus auspiciis processuri',\n",
       " 'pdv_47_8': 'uos igitur ad seruitia nostra more solito uigiles existentes sic ad ea omnia quae honorem nostrum sapiunt tenaciter uigiletis quod sperantes in nostrae liberalitatis prouisionis munificentia ad prosecutionem seruitiorum nostrorum liberaliter intendatis ut fidei uestrae constantiam dignis extollere laudibus et labores uestros amplis compensare premiis merito ualeamus',\n",
       " 'pdv_48_1': 'quod causae nostrae iustitiam dispensatio superna respiciat potestis euidentium argumentorum experimento colligere dum quamplures ex hostibus qui diutius communi modo non absque materialis gladii uibratione decertant multi ex eis ut culpas proprias penaliter doleant in laquei nostri capturam miserabiliter incidunt et nonnulli quos emulorum interdum suggestio perniciose subuertit plenius estimantes misericordiam querere quam expectare iudicium ad sinum nostrae potentiae spontanei reuertuntur',\n",
       " 'pdv_48_2': 'scitis etenim qualiter hactenus aliqui marchiani ad falsas suggestiones magistri p cardinalis et aliorum pseudoprophetarum euangelizantium uerbum guerrae et fidei nostrae gestibus impudenter errauerint et tam diu passi sint huiusmodi obumbratione deduci quousque superstitiones et uitia seductorum quae diutius latere non poterant euidenter cognoscere potuerunt',\n",
       " 'pdv_48_3': 'nuper autem fortunae nostrae proprietas quae solet nobis placidis arridere dum prouocat et per sequentia signa placere gratanter dum ingratitudinis uitio quod promisit quantumlibet uisa sit hactenus tergum nobis aliquando uertere faciem tamen hylarem iucundamque monstrauit dum maior pars marchiae scilicet',\n",
       " 'pdv_48_4': 'et',\n",
       " 'pdv_48_5': 'ac',\n",
       " 'pdv_48_6': 'ciuitates et precipue ciuitas noua uelut antesignaria prosiliens et exurgens suggestorum detectis fraudibus et uia cognita ueritatis ad fidei nostrae cultum nouiter redierunt',\n",
       " 'pdv_48_7': 'et ut erroris preteriti uitium uirtutis placida conuersione redimerent ad fidelitatis semitam redire uolentes uigili et tumultuoso conflictu facto cum hostibus in signum reprobatae perfidiae fidei suae constantiam experti multos de melioribus et aliisque rebellibus et cum eis talem generalem iudicem marchie aliosque famosos uiros nostri carceris excidiis aggregarunt ex quo nobis fiducia certa promittitur quod tota prouincia reducetur ad culminis nostri fidem si tamen partes illas ut credimus potenter et magnifice requiramus',\n",
       " 'pdv_48_8': 'nolentes igitur oblatam quasi nobis ad oculum de hostium conculcatione uictoriam negligi ab auctore uos quos laborum nostrorum et onerum expertes esse non sinimus ad ipsius uictoriae participium inuitamus fidelitati uestrae mandantes quatenus ex sapore rumorum huiusmodi non solum causam letitiae sed robur et animos assumentes omnes et singuli ad requisitionem iustitiarii regionis ipsius uos armis et equis prout magnificentius unumquemque decuerit preparetis ut in estate futura cum felici exercitu nostro ad obtinendum de hostium depressione triumphum sic potenter procedere ualeatis quod ad retributionem munificam quam propter hoc et alia uestrae deuotionis obsequia stabili mente concepimus per efficaciam uestrorum operum libentius inducamur',\n",
       " 'pdv_48_9': 'securos enim esse uos uolumus quod sicut uestrorum quemlibet in nostris seruitiis uires et animos exercere uidebimus sic in quemlibet liberalitatis nostrae dexteram proportionaliter extendemus',\n",
       " 'pdv_49_1': 'prudenter precidenda sunt mala ut salubriter bona succedant offendiculo quoque sublato de medio leuis occurrit et facilior aditus ad optata',\n",
       " 'pdv_49_2': 'sane cum dominus papa zelator salutis ad ea nos miserit quae sunt honoris dei ecclesiae imperii et status prosperi lombardiae ne guerrarum turbatio quae solet in talibus afferre periculum nostro processui circa premissa quod absit aliquid difficultatis opponat bona fide consulimus et affectione pura rogamus et quia expedire uidemus districte uobis precipimus quatenus post receptionem presentium et ab incursu cessetis hostili et securitatem prestetis non solum transeuntibus uerum adiacentium hominibus regionum nos autem similia circa uestros aduersarios procuramus',\n",
       " 'pdv_49_3': 'sic etenim precisis hinc inde turbationum zizaniis in spe fertili diuinae clementiae superseminari poterit semen optate quietis',\n",
       " 'pdv_50_1': 'postquam preter spem et uota quamplurium ad suaues applausus regni nostri syciliae diuina gratia cooperante peruenimus subiuncta sunt auspiciis nostris undique noua felicia quibus habet calamus exarare quod placeat et tuis referre suauiter auribus quod delectet',\n",
       " 'pdv_50_2': 'quantumlibet enim contra nostrae maiestatis aduentum dum malitia temporis longe sic nobis absentibus laxiorem excessibus licentiam tribuebat ciuitates et loca regni pro parte non modica rebellionis error assiduus infecisset uisa tamen potentia nostra tantum sic subito quamplures ex eis nostrarum uirium fragor edomuit et nonnullis errorum fugata caligine corda spontanea conuersione reduximus ad fidei nostrae cultum ita quod nichil iam processibus nostris obicitur et nichil quasi uel modicum restat fidei nostrae conformitate deforme',\n",
       " 'pdv_50_3': 'et sic euulsis iam plene radicibus quae factionis inchoatae materiam roborabant cuncta nobis grata proueniunt et cuncta nostris auspiciis ad uota succedunt',\n",
       " 'pdv_50_4': 'ne possit tamen tuum et aliorum fidelium nostrorum animos credulitas indirecta subripere quod dum deliciosa regni nostri suauitate deducimur pretermittere curas italicas intendamus ad quorum prosecutionem plenariam tanto libentius et liberius uacare disponimus quanto fecundius exinde titulus noster extollitur et facultas nobis ad haec prosequenda de cetero liberior suffragatur',\n",
       " 'pdv_50_5': 'scire te uolumus quod fiscalibus incliti regni nostri per diuersas partes studiose discussis pecuniae in maiori parte quam possumus quantitatem congerimus ut de ipsa tibi pro salubri expeditione negotiorum ipsarum partium tam celeriter quam uiriliter succurramus',\n",
       " 'pdv_51_1': 'sublimati in regibus et principibus terrae in nostrae maiestatis excellentia gloriamur sed precipue in conuertendo aduersarios iesu christi',\n",
       " 'pdv_51_2': 'redde igitur terram hierosolimitanam cultui christiano alioquin uirtus nostri culminis irascetur',\n",
       " 'pdv_52_1': 'si hylarem datorem diligit deus me diligit etsi beatius est dare quam accipere beatus ero',\n",
       " 'pdv_52_2': 'prohibe igitur christianos tuos ne seuiant in sarracenos meos alioquin me inuenies tibi minantem',\n",
       " 'pdv_53_1': 'detestabile quidem et segregatum qualibet humanitate propositum thibaldi francisci guillelmi de sancto seuerino andreae de cicala pandulphi de fasanella iacobi de morra et aliorum suorum complicum proditorum nostrorum ad te per nostrae celsitudinis apices peruenisse iam scimus nec nos delectaret harum seriem in presenti describere uel exaggerare malitiam quam nullo fuisse conceptam tempore gauderemus nisi quod idcirco libenter ipsorum enormes sciri desideramus excessus ut quatenus motus nostros in eos augusta clementia temperat eatenus ab omnibus nostra modestia clarior censeatur',\n",
       " 'pdv_53_2': 'hos qui nos tam iniquo proposito trucidarunt si tamquam cuiuslibet hominis homicidas occidimus iniuste non agimus',\n",
       " 'pdv_53_3': 'hos qui ueluti filios dulcedine paterna nutriuimus si tamquam perfidos patricidas inter ferales angustias comprehensos in uicinum mare proicimus ut omnium elementorum usu carere uiuentes incipiant non peccamus in hos quos parentes suspendiis filios exposuere martiriis in hos denique qui suae generositatis immemores et nostrorum beneficiorum ingrati ac debitae fidelitatis obliti nobilis regni nostri syciliae non filii sed priuigni deum et hominem sic incredibiliter offenderunt quod nec infamia culpae conueniens nec delicto pena sufficiens uideretur',\n",
       " 'pdv_53_4': 'ad horum ergo perniciem indignationis nostrae peruenit aculeus diuina clementia quae sic ipsorum infatuauit aperte consilium quod predictos thibaldum franciscum guillelmum de sancto seuerino et',\n",
       " 'pdv_53_5': 'et',\n",
       " 'pdv_53_6': 'eorum complices inferioris gradus generis et etatis nefandissimi sceleris patratores et contra nos diuinae potentiae contemptores conuenientia cogitare consilia et sufficientia preparare subsidia non permisit',\n",
       " 'pdv_53_7': 'qui cum potuissent munitiones quaslibet regni nostri pro uelle preripere tum ex familiaritate precipua quam ad ipsos consiliorum nostrorum participes et omnium negotiorum actores preteritis temporibus habebamus tum ex predicti andreae de cicala in regno syciliae nostri capitanei generalis nefando consortio qui per quaelibet castra nostra suae iurisdictioni commissa ponere poterat et deponere castellanos castrum capacii nomine quod capi de facili non immerito poterat formidare sic subito sic temerarie conscenderunt sic exiliter munierunt ut nedum contra romanum principem qui precelsa cacumina montium potenter inclinat sed nec contra potentioris uicini potentiam tueri se longo certamine potuissent',\n",
       " 'pdv_53_8': 'et licet non defuisset eisdem ad defensionis longae fiduciam rupis excelsae munitio murorum fortium ambitus et copia bellatorum uel defensorum uerumptamen adfuit necessariarum rerum sed aquae precipue non preuisa penuria quam naturalem ex fontibus rupes fossosae negauerant et accidentalem ex pluuiis cisternarum edificata concauitas in tanta copia non habebat quod ueris introitu quo munire se ceperant proditores per totam proximam futuram estatem sufficere pugnantibus et ex anxietate pugnae sitientibus ac copiose bibentibus potuisset cuius copiam estiui aeris uiolentia subtrahebat quam etiam si celitus contra suae perfidiae meritum habuissent in tantum conductus aquarum et muros omnes machinae nostrae confregerant ut ad cisternas transductio per canales omnimoda negaretur',\n",
       " 'pdv_53_9': 'quod factum est ut expugnati per fidelium regnicolarum uictoriam gloriosam qui ad uindicandum eorum opprobrium accensi per fidem in expugnatione infidelium nostrorum proditorum et castri propugnatores extraneos admittere noluerunt decimo septimo presentis mensis luli factionis tam principes quam sequaces se debitae penae potius quam misericordiae tradiderunt',\n",
       " 'pdv_53_10': 'quibus omnibus preter spem omnium et contra uota multorum expeditis celeriter et ad uotum cum diuina prouisio impedimenta substulerit longis et callidis studiis nostrorum processuum cursui preparata iam liberi reddimur et resumpta uictoria fortiores ad nostrorum rebellium omnium quantumcumque recalcitrent fine laudabili reliquias conterendas quidem] ex correctione al man',\n",
       " 'pdv_53_11': '|| guillelmi pa pi n] guillelmo l || exaggerare] alias exarare in marg al man',\n",
       " 'pdv_53_12': '|| clementia] uindicta al man corr',\n",
       " 'pdv_53_13': 'p',\n",
       " 'pdv_54_1': 'etsi generali qua cunctos fideles nostros pura mentis affectione complectimur uos affectuose prosequi teneamur speciales causae uerumptamen cogitationibus nostris se offerunt quae ad ciuitatis uestrae commoda inter alias ciuitates ytaliae prerogatiua quadam multipliciter nos inuitant',\n",
       " 'pdv_54_2': 'inducimur siquidem ex antiquo fidei uestrae zelo quam nec uetustas temporis antiquata debilitat nec annorum spatia fastidita confringunt sed quanto plus in tempore labitur tanto semper in fide nostra feruentior inuenitur',\n",
       " 'pdv_54_3': 'inducimur etiam ex purae deuotionis uestrae constantia quae nec uicinorum interdum exemplo summota nec persecutionibus hostilibus stupefacta tanto serena semper extitit et in fide nostra feruentior quo dampna semper pertulit grauiora',\n",
       " 'pdv_54_4': 'inducimur nichilominus ex illa causa potissime quod in fulgineo fulgere pueritia nostra cepit et sic dum ciuitatem uestram locum nutriturae nostrae recolimus erga uos quodammodo dominantis modum excedimus et naturali quadam humilitate seducti ad uestrum salubre regimen fauorabiliter obligamur',\n",
       " 'pdv_54_5': 'sic igitur de cura uestra solliciti firmiter credimus quod fidei uestrae sinceritas de bono in melius semper crescat inantea nec in cor nostrum ascendere poterit quod ubi sic uos affectuose diligimus alicuius sinistra suspicio uel suggestio fraudulenta deuotionis uestrae constantiam de qua stabili mente confidimus fide nostra ualeat reuocare',\n",
       " 'pdv_54_6': 'licet autem egere uos exhortationibus non credamus quos sine requisitione feruentes ad nostra seruitia probabiliter experimur nichilomi nus tamen fidelitatem uestram requirimus et hortamur attente mandantes quatenus in fide et seruitiis nostris solliciti more solito uigilantes sic ad requisitionem thomasii de aquino capitanei ipsarum partium dilecti generi ac fidelis nostri quem ad uos tamquam ymaginarium personae nostrae transmittimus et uobiscum continue uolumus commorari contra rebelles nostros uos potenter et uiriliter opponatis quod fine laudabili principium comitante nostrae serenitatis dexteram ad uestrae generalitatis et specialitatis augmenta quasi per debitum obligetis',\n",
       " 'pdv_54_7': 'nos enim sic alta mente et amplis retributionibus fidem uestram disponimus compensare ut in nostris seruitiis perstitisse fideliter merito gaudeatis quadam scripsi] quadem p',\n",
       " 'pdv_55_1': 'cum ex zelo purae deuotionis et fidei quam ad nos et imperium semper hactenus habuisse te nouimus de tua industria et legalitate confisi custodiam',\n",
       " 'pdv_55_2': 'uillae tibi fiducialiter recolimus commisisse ut sicut eras inter alios in fide nostra precipuus esses in eiusdem loci custodia specialis',\n",
       " 'pdv_55_3': 'cum igitur uilla ipsa sicut nuper accepimus fide nostri culminis deuiarit tanto te propensius expedit circa ipsius uillae recuperationem modos exquirere quanto confidentius de prouida retentione ipsius studio tuae circumspectionis inhesimus et quanto per hoc nostra quin tua potius utilitas procuratur',\n",
       " 'pdv_56_1': 'sine litterarum nostrarum indiciis uel expressionibus nuntiorum tuae deuotionis industriam scire confidimus quantum ex castro et uilla',\n",
       " 'pdv_56_2': 'dum in fide nostra persisterent nostris posset negotiis afferri compendium quantumque per ea si in partem contrariam cederent graue dispendium timeretur uelut in cuius gremio nobis in liguriam et ad uos abinde precipuo seu singulari quin potius necessario transitu remanente tamquam deficientibus aliis uiarum passagiis inde sit unica clauis ad ianuam quae nobis nostrisque reserare potest et claudere transitum et regressum',\n",
       " 'pdv_56_3': 'cum igitur uilla ipsa sicut nuper accepimus fidei nostrae semitis deuiarit castrumque predictum in nostra deuotione fideliter perseueret fidelitatem tuam requirimus mandantes expresse quatenus eiusdem negotii circumstantias diligenter aduertens statim de consilio fidelium nostrorum tusciae quorum magis uideris expedire uias et modos operosus excogites qualiter ad recuperationem uillae ipsius ac efficacem defensionem et obseruationem castri prefati aggregatis auxiliis celeriter succurratur inducturus ad hoc efficaciter communia regionis ipsius et commune',\n",
       " 'pdv_56_4': 'ciuitatis precipue ut sicut umquam desiderant in personis et rebus ac supplicationibus suis coram nobis fauorem et gratiam inuenire statim circa recuperationem eiusdem uillae tuitionem castri et pacificationem stratae ac prouinciae potenter et uiriliter intendentes fidem quam ad nos et imperium habere tenentur ex debito et eos semper hucusque promptam nouimus habuisse per efficaciam operis fateantur',\n",
       " 'pdv_57_1': 'lectis gratanter litteris tuis et diligenter auditis singulis quae',\n",
       " 'pdv_57_2': 'nuntius noster et socius tuus proposuit coram nobis firmiter tenere te uolumus quod presentiam tuam quam fructuosam nobis clara semper demonstratione probauimus libenter lateri nostro proximam uideremus ut nos tuis quae grata sunt nobis ubilibet presentibus uteremur obsequiis et tu nostris quos familiariter tibi quantumuis absenti promittimus placidis aspectibus letareris uelut qui sollicitudinibus uariis et laboribus bellicis fatigatus nostram uidere presentiam reputares ad otium et letam inspicere faciem ascriberes ad quietem',\n",
       " 'pdv_57_3': 'sed negotiorum natura quae laudabile habuit te in partibus ipsis actore principium nostris tantisper et tuis desideriis repugnante uoluntati quodammodo nostrae tuaeque saltem ad presens non satisfacimus donec in meliorem statum reformata prouincia gloriosior inde salutis sequatur exitus unde uotiuus suscipitur continua successione processus te de partibus ipsis ad presens non uidimus reuocandum',\n",
       " 'pdv_57_4': 'nollemus etenim ut de laboribus et sudoribus tuis prompta dudum deuotione dispersis aliena meteretur falce uictoria et assumeret alius te in campo martio strenue currente triumphum',\n",
       " 'pdv_57_5': 'sed cum plena sit nobis et proxima prebeatur de regionis ipsius reformatione fiducia te cum plenitudine gratiae de rebellibus nostris sumpta uictoria ad nostram presentiam reuocare curabimus et hylariter ad nostrae quietis participium admittemus',\n",
       " 'pdv_58_1': 'scimus et longi temporis experimento didicimus quod consuetudine quae iam in te naturae uim obtinet prescripta longi temporis spatio tuae mentis maturata deuotio natiuis erecta potentiis declinare non possit',\n",
       " 'pdv_58_2': 'scimus quod uergentis in senium tuae deuotionis auctoritas quantumlibet tibi pruinosa senescat in corpore uirtuosa uerumptamen iuuenescit in mente',\n",
       " 'pdv_58_3': 'scimus quod ardor tuae fidei annorum uetustate non desipit nec annorum spatia fastidita confringunt sed quanto plus in tempore labitur tanto fructus placidiores adducit',\n",
       " 'pdv_58_4': 'scimus quod licet nobis interdum locorum situs te corpore diuidat corde tamen et animo maiestatis nostrae presentiam intueris dum statum nostrum prosperum uotiuus per litteras expetis ef per muntios ministeriosus exquilris',\n",
       " 'pdv_58_5': 'ecce igitur consona uotis tuis noua describimus quod fauente nobis diuina clementia prospere uiuimus et corporis nostri membra bellicis hactenus fatigata laboribus deliciosa regni nostri dulcedine restauramus',\n",
       " 'pdv_58_6': 'illo nichilominus non obmisso quin ad pacificandum statum fidelium et rebellium reliquias conterendas ex curis nostris quas excitat sollicitudo prosperior uigilias continuas exercere curemus',\n",
       " 'pdv_59_1': 'etsi utilium exigente qualitate causarum quibus consultius aliter fieri posse non uidimus dudum regnum nostrum syciliae presentia nostra duxerit repetendum uobiscum semper corde remansimus et si permittente natura fieri potuisset maiorem corporis nostri partem prouidissemus uobiscum presentialiter remansuram',\n",
       " 'pdv_59_2': 'considerantes uero quod temeritas superstitiosa rebellium dum deliciosae tantisper quieti nos deditos opinatur improuide sibi plenam iam uento gloriam ex absentia forte nostrae maiestatis usurpat pensantes etiam quod uestra et aliorum nostrorum uota fidelium dum presentiam nostram anhelanter esuriunt de facili possent assumere pro tam longa spei prorogatione rancorem nos in partem sollicitudinis reddendos elegimus et suauibus regni nostri solaciis personam nostram prouidimus subtrahendam',\n",
       " 'pdv_59_3': 'sic facti nouiter in hominum detrimenta magnanimes ut nullis quasi preteritis fatigati laboribus nullis effusis sumptibus fastiditi nunc uideamur ad bella solito fortiores occurrere nunc ad eroganda stipendia et premia largienda pro meritis satis consueto fecundius nostrae munificentiae gremium aperire',\n",
       " 'pdv_59_4': 'ecce igitur corpore sospites corde fortes ad reuisendas ytaliae partes potenter accingimus thesauros undique de regni fertilitate congerimus et nostrae potentiae brachium sic congregatis circumquaque presidiis roboramus ut in proximo et uictorioso nostrae maiestatis aduentu spe diuturna fidelium respirante conterantur medullitus corda rebellium quae nobis absentibus forsan inaniter gloriantur',\n",
       " 'pdv_59_5': 'uos autem uiri fortes quos uelut in fidei soliditate firmatos reddit quorumuis negotiorum et temporum qualitas in nostra deuotione preclaros spem firmam fiduciamque concipite quod in summum exterminium nostrorum rebellium ad partes ipsas in proximo potenter et magnifice ueniemus',\n",
       " 'pdv_59_6': 'interim autem sic in seruitiis nostris persistite sic ad confusionem hostium sicut uiros decet industrios uires uestras et animos exercete quod inter alios fideles nostros uos dignis extollere laudibus et specialibus consequi premiis merito ualeamus',\n",
       " 'pdv_60_1': 'delectat nos uobis de nostrae felicitatis euentibus noua describere quos multae fidei multaeque deuotionis preclaritas sicut firmiter credimus auidos nostrae prosperitatis efficit auditores',\n",
       " 'pdv_60_2': 'dum enim gratitudines seruitiorum innumeras quas dudum clarae memoriae domino genitori nostro prestantes constanter in filium transtulistis diligenter aduertimus dum uoluntatem uestram quam mater alumpna fidelitas semper hactenus seruauit illesam memori meditatione pensamus libenter uobiscum familiaria status nostri uerba conferimus cum quibus libenter etiam quoslibet prosperitatis nostrae successus presentialiter parfhiremnunr noueritis igitur quod diuina fauente gratia quae semper dirigit gressus nostros sospitatis corporeae uotiuus beneficio fruimur et conculcatis undique rebellionis obstaculis quae dudum incognito potentiae nostrae brachio palpitare quodammodo uidebantur in regno nostro syciliae potenter et uiriliter triumphamus',\n",
       " 'pdv_60_3': 'uerum quamquam opus armis fore de cetero magnificentia nostra non credat dum fidelibus nostris regnicolis omnimoda pace gaudentibus solo uerbo cuncta disponimus et solus nutus imperat et gerit officium gladiorum nichilominus tamen non sic otio uacandum fore censuimus quin potentiam nostram terrae marisque uiribus continue muniamus ut per hoc et acquisita in brachio potentiae nostrae possimus defendere et circa partes ytaliae de cuius negotiis diligens nos cura sollicitat habilius intendere ualeamus',\n",
       " 'pdv_61_1': 'intellecto nuper quod tu promptum gerens ad excellentiam nostram fidei et deuotionis affectum seruitia quaelibet quae honorem nostrum respiciunt hylariter suscipis et in prosequendis eisdem laudabiliter te exerces labores quoslibet non euitans deuotionem tuam gratiosa laude prosequimur',\n",
       " 'pdv_61_2': 'et cum seruitia tua digna premiorum retributione respicere disponamus fidelitatem tuam requirimus et hortamur attente mandantes quatenus laudabiliori fine continuans quae laudabiliter incepisti ad requisitionem',\n",
       " 'pdv_61_3': 'super omnibus quae honoris nostri nominis augmenta contingunt sic te prebeas operosum ut quod de commodis tuis firma iam mente concepimus in actum deducere tuis exigentibus meritis merito ualeamus',\n",
       " 'pdv_62_1': 'curas nostras consideratio studiosa sollicitat qualiter in uictorioso exercitu nostro quem bellatorum concursus amplificat rerum uictualium copiam procuremus',\n",
       " 'pdv_62_2': 'cum itaque minante iam temporis hiemalis instantia de locis solitis ex quibus per terram hactenus facilis reddebatur accessus discriminosa uiarum asperitas fodri confluenciam interdicat consulta deliberatione prouidimus ut si quis ex hoc defectus posset emergere transuectionis marinae suffragio suppleatur',\n",
       " 'pdv_62_3': 'quocirca discretioni tuae mandamus quatenus per syciliam calabriam et uallem gratis in locis maritimis publice facias nuntiari ut quicumque de partibus ipsis mercator uel alius frumentum uel hordeum seu alias res uictui opportunas ad felicem exercitum nostrum deferre uoluerit debito proinde iure curiae nostrae soluto securus accedat',\n",
       " 'pdv_62_4': 'si uero spontaneos inuenire non poteris delatores tuae circumspectionis industria quae semper consueuit in nostris seruitiis sensus acuere mercatores aliquos prudenter inuenias et diligenter inducas qui in terris uicinis maritimae uictualia ipsa emere debeant et ea per terram ad mare translata preter solutionem debitam uectigalium ad eumdem exercitum sine quolibet impedimento transportent exoneraturi uictualia ipsa quae sub testimonialibus litteris tuis eos deferre continget coram uiris ad hoc per nostram excellentiam ordinatis ad exercitum nostrum si poterunt uel ad castrum maris aut amalfiam si propter malitiam temporis recta nauigatione uenire non possent',\n",
       " 'pdv_62_5': 'et ut super hoc de cordibus suis omnis rancoris materia precidatur firmiter eis ex parte nostra te promittere uolumus quod uictualia ipsa pro exercitualibus usibus poterunt sine contradictione detrahere et concedendi plus offerentibus liberam inuenient facultatem',\n",
       " 'pdv_63_1': 'gaudere te uolumus quod nostrae patrona iustitiae manus altissimi causam nostram continuis promouet incrementis letari te cupimus quod suspensas desiderii longi metas intentionis nostrae sententia iam attingit',\n",
       " 'pdv_63_2': 'exultare te cupimus quod laborum nostrorum congeries nostrorum fidelium non exempta sudoribus quietis iam nobis emolumenta promittit dum',\n",
       " 'pdv_63_3': 'ciuitas quae dudum grege fidelium uelut perdita ouis errauerat et ex debilibus fragmentis rebellium resistentiae spiritum in regni nostri corpore fluxili et ruinosa materia nutriebat preter oppressiones innumeras et uaria genera impugnandi quibus inclusorum proteruiam triumphantis exercitus nostri depopulatio circulata calcauerat die',\n",
       " 'pdv_63_4': 'proximo presentis mensis octobris sub omni deuotionis specie qua penitentium prostratur humilitas unanimi uoce deditionis emissa nostrae misericordiae gratiam humiliter implorauit et licet ciuitatis eiusdem incolas sic magnificentiae nostrae rigor arceret exterius ut exactrix et importuna continue fames interius laboraret et destituti spe qualibet exterioris auxilii et ad solutionem intestini debiti ex diutius contracta penuria facti penitus impotentes nostrae potentiae uiribus ultra resistere non ualerent nos tamen quos ad ultionis iudicium eorum incauta temeritas merito poterat inuitasse pulchrum uindictae genus pensantes ignoscere sub minantis furore gladii exclusis omnino principibus factionis extra regni nostri limites laturis exilium qui populum hactenus uerborum licet inanium errore deduxerant et in signum deiectae rebellionis ipsius circumgirantium murorum circulis solo cadentibus de beneficio innatae nobis potentiae quam libenter exercemus in subditis gratiae nostrae ianuam decreuimus reserandam',\n",
       " 'pdv_63_5': 'quod quamquam alienigenae famae preloquiis ad notitiam forte tuam peruenerit et ex hoc tuae deuotionis intrinseca credamus in letitiam resoluta nichilominus tamen id tibi liquidiori stilo prouidimus nuntiandum ut sicut ex exercitu ipso rebellium nostrorum attenuata sunt pectora sic tuae deuotionis propterea uires et animum erigens sumas de celeri prosperitatis huiusmodi festo congaudium cuius uigilias uniuersalis turba fidelium ieiunauit',\n",
       " 'pdv_64_1': 'cum magnae deuotionis indicia et multiplicium seruitiorum onera quae successiue fidelibus nostris tuae iurisdictionis incumbunt intra nos debita consideratione pensamus eis benigne mentis affectu compatimur et inuiti quodammodo nostris oneribus eorum colla submittimus quos sub pacis deliciis et optatae quietis gaudio sub alarum nostrarum uelamine cupimus delectari',\n",
       " 'pdv_65_1': 'tot sunt opera fidei et deuotionis indicia quae continuatis successibus pro nobis ostendistis tot sunt seruitiorum gratitudines et onerum factiones quas in uobis semper actualiter inuenimus quod dum quietis plenae solacia quae uobis et aliis fidelibus nostris utiliter preparare disponimus infra nos ipsos assidua meditatione pensamus et inuiti teste deo nouas sarcinulas humeris uestris adiungimus quin immo casus et causas iugiter cogitamus per quas uestrorum preteritas passiones grauaminum de quibus uobis teste deo tota mentis affectione compatimur utiliter alleuiare possemus',\n",
       " 'pdv_65_2': 'sed cum firmum sit maiestatis nostrae propositum quod rerum euidentius promittit euentus finem laboribus nostris imponere ut conculcatis undique rebellionis obstaculis nichil supersit uel modicum quod nobis et uobis de cetero inquietas pariat actiones nunc ad complementum operis ad cuius prosecutionem nostra libenter onera supportastis deuotionis uestrae constantiam inuiti quantumlibet euocamus',\n",
       " 'pdv_65_3': 'cum igitur in uictorioso exercitu nostro firmato dudum in obsidione ciuitatis de qua nobis et fidelibus nostris triumphum prestitit diuinae bonitatis clementia post labores tam in armatione felicis stolii quam in stipendiis bellatorum et aliis quae circa expeditionem exercitus oppugnationis qualitas requisiuit sic erarium nostrum ipsius rei gloriosus effectus exhausit ut ad solutionem multiplicium debitorum quae propterea camera nostra contraxit sine uestro subsidio fisci nostri non suppetant facultates fidelitatem uestram quam semper inuenimus ad nostra beneplacita preparatam requirimus et rogamus attente mandantes quatenus firma concepta fiducia quod breuis erit inantea uestrorum causa grauaminum quae nunc etiam uobis si negotii natura permitteret tolleremus ad requisitionem',\n",
       " 'pdv_65_4': 'iustitiarii regionis ipsius cui exinde scribimus circa subuentionem propterea nobis utiliter et deuote prestandam sic uoluntates uestras promptas et hylares offeratis ut deuotionis uestrae principia laudandis continuetis successibus ut dum in preparatae iam uobis quietis deliciis sub nostra pacifica possessione gaudebitis et nos erga uota uestra statuatis propterea debitores ad gratiam et fauoris et laudis titulos in conspectu nostri culminis acquiratis',\n",
       " 'pdv_66_1': 'credere firmiter et tenere te uolumus quod si absque periculo negotiorum nostrorum fieri posse commode uideretur presentiam tuam quam fructuosam nobis clara semper demonstratione probauimus libenter lateri nostro proximam uideremus ut nos tuis quae grata sunt nobis ubilibet presentibus uteremur obsequiis et tu nostris quos familiares quantumuis absenti promittimus placidis aspectibus letareris uelut qui sollicitudinibus uariis et laboribus bellicis fatigatus nostram uidere presentiam tibi reputares ad otium et letam inspicere faciem ascriberes ad quietem',\n",
       " 'pdv_66_2': 'sed negotiorum ipsorum natura quae laudabile habuit hactenus te in partibus illis actore principium nostris tantisper et tuis desideriis repugnante natiuae quodammodo uoluntati nostrae uim facimus et donec inde gloriosus proueniat exitus unde uotiuus suscipitur continua successione processus te de partibus ipsis ad presens non uidimus reuocandum',\n",
       " 'pdv_66_3': 'nollemus et cetera ut in alia quae incipit lectis et cetera',\n",
       " 'pdv_67_1': 'etsi fortuna serenior uos diebus istis inspexerit claro uultu non deberetis si sapientes essetis in aliquo superbire quia sepius in alto quis tollitur ut ruens fortius conquassetur nam sepe uidetur fortuna in principio prospera nuntiare sed medium et finem replet multis aduersitatibus et concludit',\n",
       " 'pdv_67_2': 'relatum est enim magnificentiae nostrae quod in uictoria uobis data fecistis cornua ferrea cum quibus totum orbem creditis uentilare et eleuati in superbia magna ualde lombardis fratribus uestris arrogantiae munera transmisistis cum eis sollempnitates et magna gaudia celebrantes',\n",
       " 'pdv_67_3': 'sed nisi cito elationem uestram ad mansuetudinem conuertatis cornua ferrea quae fecistis subito impetu confringentur risus uester dolori miscebitur et gaudium uestrum in tristitiam conuertetur',\n",
       " 'pdv_67_4': 'considerate igitur prouide et attendite diligenter quod imperii nostri serenitas quamuis passa uideatur aliquas tempestates tamen digno dei iudicio multos de illis qui rebelles esse nostrae potentiae presumpserunt iustitia mediante ad penam et mortem conduximus exemplum cunctis hominibus seculi monstraturi',\n",
       " 'pdv_67_5': 'non enim sicut putare uidemini sopita est romani imperii fortitudo nam semper uigilans et attenta potentia non dormitat',\n",
       " 'pdv_67_6': 'interrogate patres uestros et dicent uobis quoniam auus noster felicis memoriae uictoriosissimus fridericus cum uoluit mediolanenses priores uestros expulit propriis laribus et eiecit ac ciuitatem ipsam tripartiuit in burgis',\n",
       " 'pdv_67_7': 'non igitur pateant faciles aures uestrae suggestionibus et adulationibus lombardorum qui uos sui dampnationi associare cupiunt inducentes uos in foueam de qua nullo auxilio poteritis liberari',\n",
       " 'pdv_67_8': 'quapropter sub pena gratiae nostrae uobis precipimus et mandamus quatenus dilectum filium nostrum henricum sardiniae regem et galluri cum aliis fidelibus nostris cremonensibus et mutinensibus et ceteris aliis quos cepistis uisis presentibus carceribus relaxetis quod si feceritis nos imter alias ciuitates lombardiee uestram exaltabimus ciuitetem',\n",
       " 'pdv_67_9': 'si nero potentiae nostrae mandatis neglexeritis obedire triumphalem et innumerabilem nostrum exercitum expectetis procul dubio cognoscentes quod ad uos omni mora postposita ueniemus et ciuitatem ipsam obsidebimus nec de manibus nostris uos liberare poterunt liguriae proditores sed eritis fabula et opprobrium nationum ac uobis improperabitur in eternum',\n",
       " 'pdv_68_1': 'communem omnium principum terrae letitiam sed matris ecclesiae specialem uestram ulterius latere notitiam non uolentes quamquam ut firmiter opinamur insinuationis nostrae cursum celerior litteris fama preriperit nichilominus ad uos imperiali programmate uictoriosi processus nostri tripudium stilo deducimus certiori',\n",
       " 'pdv_68_2': 'sane quantae audaciae quantaeque temeritatis sint ligurium excellentiae nostrae rebellium factiones ad proximos experientia detulit et loci uicinitas ac inueteratae nequitiae fama pertulit ad remotos nec latere uos credimus nec mundus ignorat tam longae dissimulationis nostrae constantiam circa eos',\n",
       " 'pdv_68_3': 'ne igitur tolerantia nostra uerum patientiae nomen amitteret et uitiosae pusillanimitatis notam incurreret pro decore uirtutis animaduertentes postmodum quod ferro scindenda sunt uulnera quae fomentorum non sentiunt medicinam nec expectare uolentes quod in fistulam totiens iam cicatrix obducta transiret necessario nos ad arma conuertimus manus ad fortiora misimus et nostrum uibrauimus gladium dormitionis imperii somnum excitantes',\n",
       " 'pdv_68_4': 'et cum anno preterito ueluti cuiusdam profunditatis uadum ipsorum uires et animos temptassemus experimento securi tenuimus propositum firmauimus animum dum desideratae nobis consummationis effectum principia bona promitterent et letitiae uespertinae fiduciam lucifer traderet matutinus cum germaniae retibus expeditis quae pro magna parte furiosus ille iuuenis h quondam dux austriae nostris processibus uerumptamen non impune parauerat circa finem huius estatis ytaliam duximus repetendam et cum usque ad fines brixiae paulatim iam nostra uictoria continuata pertingeret quae nostrorum fidelium sepibus undique circumsepta tamen in mediolanensi presidio ueluti quodam foramine respirabat',\n",
       " 'pdv_68_5': 'expugnantibus nobis uiriliter montem clarum et ibidem quampluribus brixiensibus et plerisque maioribus captiuatis tacta dolore cordis intrinsecus brixia uelut leena rugiens dum dilacerari coram se filios respicit quos tueri non potest ad defensionem sui mediolanenses eorum amicos et complices in spe firmi subsidii sed demum in penae consortium euocauit',\n",
       " 'pdv_68_6': 'post expugnationem uero castri predicti nostrorum rebellium omnium uiribus congregatis dum nobiscum ad campestris belli discrimen trahi aliquatenus non ualerent nolentes nos ipsos ulterius inutili mora consumere ad remota loca diuertimus exercitualibus commodis et bellorum aggressibus opportuna',\n",
       " 'pdv_68_7': 'et cum ipsi fugae digressum nostrum ascriberent et timori cautelam propter quod audaciae cornua assumentes nos semper latere sequebantur interiecta uerumptamen difficultate locorum tandem ipsos ad flumen lolii caute deduximus ubi parato nostrorum transitu pontium ipsi se ad habilitatem suorum per quos lolium transierant remotos longi itineris spatiis inuenerunt',\n",
       " 'pdv_68_8': 'prius tamen quam nos opportunitate transitus lolii potiremur in quadam planitie prope ripam fluminis supradicti castra nostra defiximus credentes eos in audacia iam concepta consistere ut ad commune certamen uadato quodam modico flumine nobis ad transitum propter ripas infesto nobiscum pugnaturi transirent',\n",
       " 'pdv_68_9': 'et cum per dierum aliquot spatium quibus imperialis clementiae memores uerba pacis per',\n",
       " 'pdv_68_10': 'magistrum domus sanctae mariae theutonicorum et alios uiros religiosos interposita patienter audiuimus ut ipsorum uerbosam audaciam prestolaremur ibidem facta tamen eisdem per sollempnes nuntios nostros belli copia et facultate concessa quod per uadum ad nos secure transirent uel nos ad eos secure transire permitterent cum ad uerum uentum est neutrum eligere uoluerunt',\n",
       " 'pdv_68_11': 'nichilominus etiam cum flumine lolii supradicti sarcinarum nostrarum et curruum impedimenta traicerent mane usque ad uesperas agmine non digesto per acies et per buccinarum sonitus quas audire poterant de uicino ad bellum ipsos acuimus sed quos surdos ad uerba reperimus ad tubas inuenimus surdiores',\n",
       " 'pdv_68_12': 'flumine demum prefato per nos et nostros sine rebellium nostrorum infestatione traiecto populis et militibus ciuitatum et maxima parte militum fidelium nostrorum ad propria redeuntibus quos insperatae morae tedium et importunitas temporis retinere diutius non sinebant cum expedita militia iuxta ripas ex ista parte fluminis festini direximus gressus nostros ad pontes per quos ipsi redeuntes ad propria transire debebant et sic cum in cauernis terrae morari diutius ultra flumen rerum necessariorum arcente penuria non ualerent mediolanenses et socii per brixienses qui domum redierant contra legem sociatim expositi per pontes et uada fluminis dum transire non possent per cuiusdam stricturam nemoris exiuerunt credentes se nobis per occultae fugae subsidium subripere dum nos adeo prope consistere forsitan non putarent',\n",
       " 'pdv_68_13': 'sed cum in aduentu nostro terror et fremitus tamquam de celo tonitruum ipsis intonuit ad premissas nostrae celsitudinis acies priusquam aquilarum imperii uictricia signa prospicerent sic se in fugam subito conuerterunt ut usque ad ipsorum carrucium quod apud curtem nouam in equorum celeritate premiserant nullus fugientium faciem nostrorum insequentium spectare ualeret',\n",
       " 'pdv_68_14': 'et dum auxiliares acies et post eas nos cum nostrorum agminum robore gressibus festinatis nostris qui in leui manu precesserant necessario cursu succurrere crederemus et quos ab aduersariorum pugnantium uiribus timebamus arceri equorum absque sessoribus cursitantium undique precipitatorum militum et occisorum stragibus stratas inuenimus impeditas erectis tandem et ligatis in terra iacentibus qui uiuebant per armigeros militum qui suos dominos sequebantur',\n",
       " 'pdv_68_15': 'ad carrucium quod iuxta muros municipii curtis nouae fossatorum uallis circumdatum et immensa militum copia preliantium impeditum omnium mira defensione pugnantium munitum inuenimus applicantes ad expugnationem et capturam ipsius multorum innumerabilium militum strenuitate perstitimus adeo quod superbi fossati supercilio superato usque ad temonem fere carrucii ex nostris aliquos uidimus peruenisse',\n",
       " 'pdv_68_16': 'superueniente tamen noctis umbrosa caligine quam nostrorum <rebellium> uota longissima suspirabant temptatum aggressum tantisper emisimus mane sequenti distinctis tantummodo gladiis ad quietem sed tunicis ferreis non exutis ad indubitatam uictoriam carrucii redituri',\n",
       " 'pdv_68_17': 'quod carrucium adueniente luce inter alias milium curruum turmas desertum qualibet defensione reperimus summitate perticae ubi signum crucis extiterat detruncata quae crux etiam dum uideretur ad fugam fugientibus onerosa in medio extitit derelicta',\n",
       " 'pdv_68_18': 'castrum etiam curtis nouae cuius munimine ipsos impetus nostros euadere credebamus custodes et incolae reliquere nec potestas eorum ducis uenetorum filius quo duce lugubria signa tulerunt manus nostras euasit et ut multa sub compendio concludamus tum capti tum mortui inter quos multorum mediolanensium factionis primates et principes corruerunt decem milia fere numero computantur',\n",
       " 'pdv_68_19': 'non tamen ab antiqui draconis contritione propterea manus nostra desistet quin tam diu caput eius ad imperii lapidem allidamus quamdiu caudam ipsius palpitare uidebimus ex quo possit causa discidii posteris uel etiam ceteris scandalum exoriri uel suboriri',\n",
       " 'pdv_68_20': 'super quibus omnibus sanctissime pater gratias uos et fratres uestros pro nobis exoluere domino iesu christo filiali deuotione rogamus qui suum prosequendo negotium sacrum imperium uictoriose sublimat',\n",
       " 'pdv_69_1': 'crebre nostrorum fidelium quorum indempnitatem omni cautela possibili nostra procurat humanitas auditorium nostrum querelae circumstrepunt qualiter ianuensium aliorumque rebellium nostrorum piratarum sepe leduntur incursibus et ab eis in rebus dampna quam plurima ac in personis subire coguntur iniurias quibus debent rebus ordinate procedentibus coninuas irrogare iacturas',\n",
       " 'pdv_69_2': 'fideles igitur nostros sic reddere uolentes indempnes ut offendant etiam et dampnificent infideles benigna quadam compassione prouidimus ut in terris maritimae qua parte potius eorumdem rebellium laborat infirmitas per homines uidelicet quorum magis agitur interesse si foret possibile uel eorum in quorum fauorem hoc tam utile redundare potest negotium adiunctis auxiliis ad quos ipsos uerbis attrahi uolumus inductiuis etsi suasioni forte non crederent prout expedire uidebitur ad ea precipimus compellendos sine nostris expensis armari uascella competentia faciant',\n",
       " 'pdv_69_3': 'quae ut seruitia ipsi commodius exequi ualeant eis de uascellis nostris uolumus exhiberi ad predictorum rebellium temerariis ausibus resistendum ut dum marinis uacantes incursibus fideles nostros offendere satagunt unde forte sibi compendium captasse crediderint inde sibi sentiant dispendium imminere',\n",
       " 'pdv_69_4': 'uestrae igitur fidelitati precipiendo mandamus quatenus diligenti consideratione prehabita in terris uestrae iurisdictionis uicinis maritimae per mercatores uidelicet quorum magis uideritis interesse ac alios si predictis ex hoc importabile pondus ingrueret duas aut tres galeas et tot barchettas prout habito cum fidelibus nostris diligenti consilio uideritis expedire quas etiam de uascellis nostris decenter recalcatas et assis communitas eis assignare uos uolumus sine nostris expensis faciatis bene et decenter armari',\n",
       " 'pdv_69_5': 'ad quod ipsos uerbis competentibus inducere studeatis etsi forte induction resisterent cohertione debita compulsurk potius enim eos ad id ex quo eorum indempnitas sequitur uolumus compelli si id expediat quam si tepescentes eosdem suis nostrisque commoditatibus subtrahantur non sine nostri nominis aliquo ymaginario detrimento contingat depauperari fortuna',\n",
       " 'pdv_69_6': 'ne igitur predictum negotium ad quod efficaciter procurandum intendere diligenter et studiose uos uolumus ex aliquorum necessariorum defectu inopia forte hominum prestante materiam dispendia dilationis incurrat de rebus nostrae curiae quae sunt ad manus uestras et eorundem fidelium subsidio et ad id uideritis opportunas de munificentiae nostrae gratia per uos precipimus aliquid largiendum',\n",
       " 'pdv_69_7': 'cautelam tamen debitam super hiis adhibere uos uolumus ut uos ad eos quos super hoc statueritis diligentem habeatis respectum ne odio pretio uel amore aut extrinsecus aliis forte flectentibus in hoc magis collaterales aut minus exhibeant uel ascribendi minori ponderi seu maiori et importabili debito rationabiliter possunt queri scituri quod si clamor iustus aliquis ad audientiam nostram propterea deferatur id siquidem in caput uestrum nostra iuberet serenitas retorquendum',\n",
       " 'pdv_69_8': 'cum iis uero quos super hoc uascellis ipsis duxeritis statuendos ordinare curetis ut si aliquos de infidelibus ipsis capi cum uascellis ipsis fortuna fauente contigerit ad opus curiae nostrae debeant conseruare ordinaturi nichilominus ut uascella quae propter hoc sic armata fuerint ut mandamus nullam moram aut residentiam in portubus faciant sed ad securitatem nostrorum fidelium et rebellium piratarum offensam frequenter continueque discurrant',\n",
       " 'pdv_70_1': 'dum imperii pelago nauigando feliciter longeuam regni nostri fidelitatem aduertimus dum sedula magnaque uestra et aliorum eiusdem regni seruitia contemplamur inter quietae pacis nostrae delicias quas in hereditario regno nostro in proprio labore quesiuimus et adhuc in ipsius conseruatione persistimus debitum uobis quodammodo soluimus dum felicitatem nostri culminis nuntiamus',\n",
       " 'pdv_70_2': 'post descriptam uobis denique obsidionem parmensem per alios nostri culminis apices debellationem et captionem ipsorum in non modica quantitate preter alia castra et loca quam plurima permunita per dilectum filium nostrum henricum illustrem regem sardiniae et sacri imperii in ytalia generalem legatum et ezelinum de romania dilectum fidelem nostrum qui predicta prospere in nomine nostro gesserant debellata uiriliter et cremata locus brecelli qui est in ripa fluminis padi unde ad parmenses eosdem rebelles nostros et per mutinenses et ferrarienses armatorum quandoque persepe fere uictualium salis et aliorum necessariorum munitio ferebatur uiriliter extitit expugnatus captis nonnullis parmensibus prefatis ibidem positis ad tutelam',\n",
       " 'pdv_70_3': 'quem uelut dispendiosum hostibus dum inde non minus quam ubi nos ipsi persistimus muniri fossatis et aliis necessariis mandassemus predictis filio nostro et ezelino ibidem usque ad plenum inauditae munitionis exitum moraturis cardinalis octauianus cuiad mediolanensium et aliorum rebellium nostrorum auxilium fuerat per apostolicum dudum de transalpinis partibus commissa transductio et eis per a comitem sabaudiae dilectum consanguineum et fidelem nostrum in manu forti et mandato nostrae celsitudinis denegata mediolanum furtiue quodammodo sub inermi et modica comitiua peruenerat ad instantiam g de monte longo legati apostolici apud parmam intrusi eumdem de succursu parmensium per nuntios et litteras sepius requirentis',\n",
       " 'pdv_70_4': 'mediolanensium brixiensium mantuanorum ferrariensium et aliorum nostrorum rebellium possibili coadunato presidio uenit marchione estensi et alberico de romano proditoribus nostris ipsum illuc comitantibus ad talliatam locum uidelicet unde pars predicti fluminis deriuatur',\n",
       " 'pdv_70_5': 'unde predictis parmensibus et legato transitum et succursum impossibilem repromittens prefatis filio nostro et ezelino cum electa militia et peditum multitudine oppositis ex aduerso obsessorum nota concepta uerbotenus de qua patiebantur necessitate suspensa cum aliud inde nequiuerit per impossibiles promissiones elusit',\n",
       " 'pdv_70_6': 'et sic parmensibus predictis per duplicis obsidionis obiectum omni succursu et munitionis auxilio denegato salis etiam et uictualium ipsos premente defectu amodo differre non poterunt quin uocem deditionis admittant prout per plures eorum ad cardinalem et mediolanenses prefatos litteras interceptas accepimus quibus post desperationem succursus quod se mandatis nostris exponerent sub excusationis uelamine describebant',\n",
       " 'pdv_70_7': 'ex premissis igitur firmam spem fiduciamque concipite ac tenete quod de parmensibus predictis infra spatium breuis temporis obtenta indubitata uictoria quae titulis nostris summam gloriam oneribus nostris finem et communibus expectationibus aduentum nostrum indubitabiliter pollicetur mutuis affectibus delectantes uos in strenuitate uultus nostri continuate fouebimus quos nunc sub interpolatione litteris premulcemus',\n",
       " 'pdv_71_1': 'ad compassionis nostrae precordia uelut quaedam acuta uenabula transeunt uniuersitatis uestrae grauamina quae pro nobis tanta fidei puritate suscipitis tanta deuotionis integritate portatis nec solummodo uobis ex illa causa compatimur quod et nos ipsi dolemus regni nostri filios extra regnum uexari laboribus et dispendiis affici quam ex ea quod oppressiones huiusmodi nobis et uobis ex inopinato proueniunt ut dum portum nostrae nauigationis attingere credimus et exuberante malitia temporis ad remotiora multotiens reducamur',\n",
       " 'pdv_71_2': 'dudum etenim cum ex defensione multarum urbium et locorum ad nos confugientium quae mediolanensis nequitia confouebat tum ex campestri uictoria per quam tam strage quam carcere plurimorum ipsorum superbiam exercituum domino faciente munificentia nostra calcauit tum ex uniuersalis uastationis gladio qui nullum nostrorum rebellium penitus dimisit intactum in tantum eosdem ad extrema deduximus quod continue uerbum deditionis ab eis nostra serenitas expectabat et necessario haec dixissent utcumque nisi quod nequitiae pontificalis elatio contra nos ueteris odii exagitata stimulis et innatae superbiae uentis inflata uitae quodammodo spiritum mortuis insufflauit processibus nostris quantumcumque potuit licet parum potuerit se nequiter opponendo',\n",
       " 'pdv_71_3': 'sed huic etiam morbo nuperrime reperisse credidimus medicinam dum ad multorum ex fratribus suis multam instantiam uerbum pacis ab eo cum suguitate recepinos et proper treugas malestale nostra promaissas eisdem uastatione campaniae diuertentes uersus ytaliam non tam ad expugnandos quam ad recipiendos ad gratiam excellentiae nostrae rebelles recto diametro direximus gressus nostros',\n",
       " 'pdv_71_4': 'sed aduersus sui ueneni nequitiam tiriaca nostra non ualuit nec medicina profecit quin per digressum nostrum securitate recepta tractatae pacis oblitus ad discordiam se conuertens contra nos peiora prioribus moliretur et in rebellium nostrorum fauentinorum exitium qui de captando fauore nostro nobiscum tractare iam ceperant per angelos suos malos fratres predicatores et minores scilicet quibuscumque presidiis potuit confouendo uenetos ad destructionem maritimae regni nostri uenenosis armando consiliis ut nos ab instanti uictoria reuocarent',\n",
       " 'pdv_71_5': 'nos autem ad expugnandam fauentinam ciuitatem tamquam ad dissoluendum totius colligationis nodum et unicum obstaculum remouendum per quod totius uictoriae nostrae rete connectitur et uelocitas prepeditur instantissine uidimus fimaliter insistendum',\n",
       " 'pdv_71_6': 'qua ciuitate faciente domino cum se uerni temporis opportunitas dederit indubitabiliter expugnata cum de obtentu bononiae postmodum nullatenus dubitetur sic ad exterminium nostrorum rebellium continuatis excellentiae nostrae uiribus uelut propterea residuo ducatus marchiae et nostris titulis accedente uia nostris processibus aperitur ut postmodum presentis guerrae uictoriae necessario presentia personae nostrae non egeat et effusionem tantorum operum et labores tot hominum non requirat',\n",
       " 'pdv_71_7': 'ad obtinendum igitur de tam memorabili pugna triumphali triumphum quae iam ad uesperum declinauit deuotionis uestrae subsidia secure requirimus quae sic prompta nobis ad futura credidimus ut pro uictoriae desideratae letitia uos non attenuatos opibus nec laboribus fatigatos sed recentes ad subuentionis nostrae suftragia credimus reperire',\n",
       " 'pdv_71_8': 'nec tamen uoluimus in tantum ad indefensam promptitudinem fidei uestrae respicere quin uelimus eamdem prouidentiae nostrae modestia moderari ac prius nobis ipsis in parte deficere et necessitates insolitas sustinere quam uos grauis et inconsueti grauaminis pondere pregrauare utpote qui ad istud etiam exigendum teste nobis altissimo prouocamur inuiti et quo libentissime nostra serenitas abstineret si sine confusione perpetua nostri nominis et honoris quam fidei uestrae perfectio nullo modo pateretur abstinere possemus',\n",
       " 'pdv_71_9': 'tu igitur inter eos prouidentiam et modestiam nostram quam respectu preteritarum taxationum habemus in eis fauorabiliter studeas et cum omni diligentia publicare cum multo minorem quantitatem subuentionis ab uniuersis exigi mandemus ad presens ecclesiarum et clericorum necnon et feudorum nostrorum et de cameris feudatariorum in ipsa collecta subsidiis computatis prout cedula continet interclusa quam demaniis nostris tantum serenitas nostra exigere consueuit',\n",
       " 'pdv_71_10': 'expositurus ipsis nichilominus uotum nostrum quod ex hoc modico libenter ad nichilum ueniremus si post obtentam uictoriam negotiorum nostrorum expeditio pateretur',\n",
       " 'pdv_71_11': 'in taxatione preterea determinati subsidii quod iurisdictioni tibi decretae mandamus imponendum contra solitam impositarum collectarum nequitiam sic agas fideliter sic distincte sic ut umquam gratiam nostram diligis et indignationem perpetuam desideras euitare nullius personam ex amore uel odio prospecturus ut negotium istud quod prouidentiae tuae cum summa fiducia committi decreuimus ad honorem culminis nostri et alleuiationem prouidam nostrorum tam celeriter quam fideliter compleatur',\n",
       " 'pdv_72_1': 'circa uos nostrae mansuetudinis zelum et circa nos uestrae deuotionis ardorem credidimus apertius loqui quam scribere et uidere libentius cupimus quam audire',\n",
       " 'pdv_73_1': 'ex uotiua nostrorum insinuatione successuum qua expectationibus uestris nostra benignitas satisfecit liquido poterunt uestri sensus accipere quantum nobiscum semper misericorditer egerit dextera regis regum',\n",
       " 'pdv_73_2': 'ecce ut uideatis ad oculum quod hostium nostrorum uersuta calliditas diuinis potius quam humanis exceptionibus collidatur audite mirabilem diuinae solummodo prouisionis euentum',\n",
       " 'pdv_73_3': 'nam cum marchio montis ferrati quem grata et multiplex beneficiorum nostrorum collatio etiam cessante affinitatis nostrae linea qua culmen serenitatis nostrae contingit obsequiosum nobis deberet efficere tractatibus interuenientibus apostolicis lugdunensibus potius quam romanis mediolanensibus proditoribus nostris reconciliatione coniunctus ipsorum ac uercellensium proditorum nostrorum munitus auxiliis ciuitatem nostram taurinensem nostra fidelitate seductam proditorie occupasset resistentibus tantum palatio eiusdem ciuitatis nostris munito popularibus et quibusdam de nobilibus ciuitatis ipsius fridericus dilectus nepos noster quem ad superiores partes lombardiae pro salubri statu prouinciae maiestas nostra premiserat papiensibus cremonensibus astensibus et alexandrinis quos sibi sic inopinatus casus exhibuit comitatus ciuitatem eamdem tamquam repente sonus de celo impulit et in nostro nomine fugatis protinus marchione predicto et proditoribus uniuersis et fere ducentis ex ipsis nostro carceri mancipatis ciuitatem eamdem nostro dominio integrauit',\n",
       " 'pdv_73_4': 'uix decendium fluxerat de predictis quod cum ferrarienses fideles nostri apud rauennam de mandato nostro hactenus commorati pro construendo ponte in flumine padi quo proditoribus nostris parmensibus uia omnis succursus et spes munitionis obstruitur de mandato nostro uocati ad buccam talliatae quam mantuani rebelles nostri cum parmensibus insimul ad impediendum eorumdem fidelium nostrorum ferrariensium transitum phalangatam peruenissent munire h illustri rege sardiniae filio nostro existente in ripa padi ad eorum auxilium cum multitudine armatorum immissis securibus eadem phalangata succisa flumen padi cum eorum nauigiis uiriliter intrauerunt et proditoribus nostris mantuanis qui flumen padi primitus occuparant tenui bello quassatis quinquaginta de eorum nauibus acceperunt et preter necatos in flumine ac gladio interemptos trecentos ex hostibus predicto nostro filio assignarunt quos in proditorum nostrorum exemplum ab utraque parte fluminis padi mandauimus suspendendos ad eumdem filium nostrum iterato directo maiestatis nostrae mandato ut cum ferrariensibus fidelibus antedictis cumanensibus et saonensibus quos pro eodem negotio prouisio nostra fecerat conuenire ac cremonensibus etiam expertis fidelibus nostris qui uerecundiam existimant si se cunctis nostris seruitiis non immiscent ad construendum et optime muniendum pontem eumdem cum strenuitate procedat omni sublato dubitationis obstaculo et plene paratis singulis ad id facientibus opportunis',\n",
       " 'pdv_73_5': 'post emissum uero nostrae maiestatis edictum de premissis uobis ad gaudium describendis litteras friderici comitis albae dilecti filii nostri recepimus continentes qualiter in uirtute dei et nostrae felicitate fortunae partem guelforum florentiae cui dudum maiestas nostra pepercerat cum iuste ad ipsius exterminium procedere potuisset quae uelut familiaris et pestilens cardinalis octauiani tractatibus exposita bononiensibus nostris proditoribus aduocatis ciuitatem florentiae per intestinum bellum nobis subtrahere intendebat fidelium nostrorum sibi assistentibus suffragiis debellauit et nonnullis captis in ciuitate quosdam uiolenter eiecit',\n",
       " 'pdv_73_6': 'ex quo totius prouinciae status in melius sine dubitatione dirigitur et fidelium animi ad fidelitatem nostram fortius roborantur',\n",
       " 'pdv_73_7': 'haec igitur letabunda nostrae maiestatis exenia fidelitas uestra gaudenter accipiat indubitanter expectans quod qui dedit nobis hactenus feliciter currere per summum uictoriae spatium in proximo brauium largietur',\n",
       " 'pdv_74_1': 'etsi uolatilis famae proprietas quae solet in prosperis uera loquacitatis argumenta minuere et in aduersitatis turbine sumptis uiribus eundo fictiliter preter ueritatis indicia suae prolationis fimbrias dilatare nuper de nostris processibus diuersis forsan discussa relatibus uestris auditibus aliquid presentarit ne tamen aliter quam rerum ordo se habeat aduersariorum nostrorum adulteris fulta mendaciis si sinistri casus quicquam uel enorme de nobis precurrens adduxerit ecce nudam ueritatis indaginem eorum quae nouiter contigerunt tenore presentium uobis amicabiliter referamus',\n",
       " 'pdv_74_2': 'pridem siquidem dum parmensium nostrorum rebellium proterua temeritas quam per instantis obsidionis excidium nostra serenitas ad extrema deduxerat tenuis spiritus uegetata suffragio laboraret in ultimis uolens in fortunae dubiae manibus externis ponere causam suam de qua desperare ulterius necessario cogebatur tractato cum aliquibus exulibus ciuitatis ipsius quodam fraudulentae machinationis inuolucro cum resistentiae sibi fiducia uel resistendi materia non subesset temporis etiam habilitate captata quo partem gentis nostrae ad fabricationem pontis cuiusdam in pado per quem aquae nobis seruabatur dominium miseramus die martis decimo octauo presentis mensis februarii beroarios quosdam ut ad eorum persecutionem gentem nostram aduerterent callide premiserunt',\n",
       " 'pdv_74_3': 'sicque dum fideles nostros quos uirtutis interius animositas accenderat et in similibus exper tes iam pluries fortunae placiditas animaret ad reprimendam huiusmodi rebellium pusillanimitatis audaciam inermes et unanimes extra castrorum nostrorum limites casus tam subitus eduxisset accidit quod priusquam ad defensionem omnimodam ciuitatis uictoriae quam ibidem statio nostra firmauerat fideles nostri regredi potuissent rebellium eorumdem incauta presumptio quam exulum ut diximus occulta proditio uitiabat castra nostra cum rebus ibidem habitis ignis incendio concremarunt',\n",
       " 'pdv_74_4': 'nos autem quos euentus huiusmodi repentina propulsatione commouit ut uia nobis aliunde liberior ad offensionem eorumdem rebellium preberetur per illius gratiam qui continuato suffragio tuetur imperium salubriter cum tota gente nostra eodem die martis cremonam adiuimus ubi per triduum tam cremonensium quam papiensium aliorumque nostrorum die ium sobore concore er acimetg meum caso moetre mc ocidcme per mensium ex alia parte duximus repetenda',\n",
       " 'pdv_74_5': 'ubi eorum proteruiam multo arctius solito tenentes obsessam in dei uirtute confidimus et de fortunae solitae quae solet gratius arridere dum prouocatur pietate speramus quod cum nostra per id nostrorumque fidelium ardentius sint accensa precordia de rebellibus ipsis in proximo uota nostra infallibiliter attingemus',\n",
       " 'pdv_74_6': 'unum uerumptamen notitiam uestram non lateat quod sic nos dimittere fortuna non uoluit suae felicitatis expertes quin post eumdem diem martis quo se peruersitatis casus immiscuit proximo sequenti die dominico nos ex parte altera marte gratifico demulceret',\n",
       " 'pdv_74_7': 'cum enim henricus illustris rex sardiniae sacri imperii in ytalia generalis legatus dilectus filius noster padi dominium quod uictoriam nobis de hostibus priscam tribuerat possideret naues omnes mantuanorum rebellium quas in friuolum parmensium subsidium congregarant potentiae nostrae uirtute suffultus potenter aggrediens eos uiriliter expugnauit ita quod centum de nauibus inter magnas incastellatas et paruas et trecentos de dictis rebellibus quos in nauibus spes fallax incluserat preter peremptos gladio et aqua submersos quorum non est numerus in captionis parata retia quos declinare fuga non potuit miserabiliter inciderunt',\n",
       " 'pdv_74_8': 'et sic eorum nauali presidio sublato de medio integre padi dominium obtinemus g',\n",
       " 'pdv_74_9': 'sane cum in castrorum nostrorum combustione quam diximus camera nostra cum aureae bullae typario et regni nostri sigillo perdita extiterit et amissa propter quod aduersariorum nostrorum per casum tam horridum effrenata superbia quae causam nostram hactenus rebus semper ueritate carentibus obfuscauit per typarii copiam et sigilli multa sicut firmiter credimus in honoris nostri dispendium falsa machinatione confinget deuotionem uestram requirimus uobis districte mandantes quatenus si predictorum bullae aureae uel sigilli munitae signaculis ad uos aliquae litterae sub nostri nominis titulo peruenirent fidem eis stabilem uestrae mentis constantia cum fidei robore careant adhibere cuiusquam uos suggestio non seducat',\n",
       " 'pdv_75_1': 'casualis uindictae seu potius uictoriae nostrae plene principium quod post sinistrum castrorum nostrorum combustionis euentum nobis diuina potentia solita nostris adesse suffragiis de nauali mantuanorum rebellium depressione contulerat precedientis adi uos litterae nestrae stilo commisimus ut coram uobis totius rei seriem ueritas descripta dissereret quam fama diuersis discussa relatibus poterat uariasse',\n",
       " 'pdv_75_2': 'nuper autem quod manus altissimi pugnans pro nobis titulis nostris undique uictoriam gratae prosecutionis adiecerit fidelitati uestrae tenore presentium reseramus',\n",
       " 'pdv_75_3': 'pridem dum collectis undique uiribus nostrorum fidelium quorum celeri fulti presidio ciuitatis parmensis proteruiam per aggressiones continuas multo artius solito uictoriose perstringimus die quadam ad expugnationem duorum castrorum parmensium quae rebellium incauta temeritas ad stratae nobis aditum precludendum post recessum nostrum de castris uictoriae occuparat potenter serenitas nostra processisset accidit quod magnam partem parmensis militiae in friuolum castrorum ipsorum subsidium destinatam acies una nostrorum fidelium ab exercitu nostro diuisa ipsam uiriliter et potenter aggrediens in nostri nominis uirtute uiriliter expugnauit ex quibus centum et ultra gladio uictoriae peremptis sexaginta de melioribus casus ille sic subitus nostro carceri aggregauit',\n",
       " 'pdv_75_4': 'in cuius etiam cedis excidio quod uobis nuntiamus ad gaudium illum famosum et antiquum proditorem nostrum bernardum rolandi russi huius papae sororium totius partis aduersae caput et caudam immo totius factionis ytaliae patratorem uindice mucrone noueritis occidisse',\n",
       " 'pdv_75_5': 'ex quo nobis fiducia iam firma promittitur quod nequitiae capite sublato de medio membrisque quae ipsius perfidia palpitabant spes quaelibet resistentiae de cetero decidatur',\n",
       " 'pdv_76_1': 'nuper dum terra sancti germani temere dudum montis cassini et roccae ianulae per ipsos munitionibus occupatis contra maiestatis nostrae potentiam rebellionis calcaneum erigere presumpsisset ad ipsius expugnationem uictricia signa nostra direximus et ante portam ipsius fiximus castra nostra',\n",
       " 'pdv_76_2': 'quae dum sic se uideret felicibus exercitus nostri uiribus potenter obsessam quod de omni defensionis suffragio desperabat uolens misericordiam petere potius quam expectare iudicium ad pedes nostrae maiestatis necessario se prostrauit munitionibus ipsis et personis rebus eorum omnibus in nostris manibus resignatis',\n",
       " 'pdv_77_1': 'etsi nobiscum hactenus postquam regno discessimus euentu uario fortuna certauerit eatenus uerumptamen nos superiores in alea felicitas nostra constituit ut iam non uinci posse sed uincere procul dubio confidamus',\n",
       " 'pdv_77_2': 'ter sena proiecimus uelut qui multitudine pugnatorum partem aduersam parmensium ciuitatem laborantem in ultimis iuuare uolentem in tantum excessimus ut inter uires nostras et suas tamquam inter non participantia comparatio nulla uel modica censeatur',\n",
       " 'pdv_77_3': 'unum solummodo nobis ad festinam et plenam uictoriam deficit quod ad sustentationem stipendiariorum nostrorum aliorumque fidelium quos remotis imperii finibus ad participium uictoriae nostrae fortissimus fidei zelus imperatos et subditos euocauit sufficientem pecuniam non habemus',\n",
       " 'pdv_77_4': 'ad quam tum ex uestro subsidio quod numquam nobis defuit hactenus fideles tum ex quibuscumque curiae nostrae prouentibus colligendam et ad nos etiam cum summa festinantia destinandam nec minus ut uos de nostrorum successuum prosperitate letificet uenerabilem pactensem episcopum dilectum fidelem nostrum celeriter immo cursim duximus destinandum ad cuius aduentum preter mittentis imperium et affectum quem ad uos non dominicum sed paternum habemus missae personae uos qualitas moueat quam uelut obsequiis nostris perutilem nostris aspectibus separamus inuiti nisi quod eo usque nos necessitas nostra perduxerat ut corporis nostri partem si fieri posse salubriter natura permitteret necessario misissemus',\n",
       " 'pdv_77_5': 'ad offerendum itaque nobis in hac parte subsidium uestra deuotio non mutetur quia id totum et integrum uicino uobis hylariter cum palma desideratae uictoriae reddere pollicemur',\n",
       " 'pdv_78_1': 'exultet iam uniuersa turba fidelium exultet totum collegium dilectorum exultet inter ceteros uester animus et pro tanta uictoria principis precipue gaudeatis nouit enim mundus nec est uestra notitia peregrinum quanta supplicationis instantia quanta subiectionis reuerentia pridem rogauimus summum pontificem dominum et sanctissimum patrem nostrum qui contra nos alia occasione potius quam ex causa de morte burelli de anglona de qua nec culpabiles sumus nec conscii nouit deus ad indignationem indigne si dici liceat motus erat ut erga nos benigne se gereret et innocentiam nostram sua gratia non priuaret apud quem cum nullum poteramus penitus amorem uel gratiam inuenire uerum qui non ex predicta causa solummodo mouebatur sed quia liberum regni dominium sitiebat suffocare credebat ius regni et euellere totam progeniem patris nostri de sua beneuolentia merito dubitantes ab eo recessimus',\n",
       " 'pdv_78_2': 'et collecto apud luceriam exercitu impotenti ubi legatus et papalis exercitus apud fogiam existentes conati sunt nos multotiens impugnare dum die mercurii secundo presentis mensis decembris cum quadam parte gentis nostrae et non cum tota nostra potentia nos contingeret equitare et in succursu quorumdam ex nostris qui prope troiam ad insidias latitabant et eorum mora fuerat ad predictorum hostium notitiam deuoluta ecce sicut domino placuit euentu fortuito uel potius dei nutu qui superbis resistit humilibus autem dat gratiam qui de ponit potentes de sede et ponit humiles in sublimi quasdam inimice gentis acies milites nostri uiderunt et statim gradientes promptius ad certamen sicut leones ad predam aduersarios terga dantes uersus fogiam sequebantur',\n",
       " 'pdv_78_3': 'nos uero trahentes cum exercitu nostro post eosdem quos relinquere nolebamus quamquam festinauerimus iuxta posse tamen nequiuimus in primis ictibus applicare',\n",
       " 'pdv_78_4': 'nichilominus tamen in campestri conflictu dire dureque arma nostrorum cum armis hostium disputarunt et examinauerunt lanceae lanceas et gladios gladii sunt experti',\n",
       " 'pdv_78_5': 'applicantibus nobis uerumptamen statim diffinitiua sententia lata fuit ita quod fractis hostibus gladio peremptis innumeris et pluribus captis ferro aperuimus fogiam ciuitatem et intrauimus uiolenter ubi fuit terribilis strages hominum et cedes rebellium aspera subsecuta quorum omnium fuerat capitaneus oddo de hohenburg ac totus doster exercitus spolliis est citatus',\n",
       " 'pdv_78_6': 'sequenti uero mane cum ad conterendas reliquias hostium qui apud troiam remanserant cum legato cum magna potentia procedere crederemus ecce rumor nobis innotuit quod idem legatus et alii relictis omnibus bonis suis disrobatis turpiter troianis se per fugae subsidium absentarunt',\n",
       " 'pdv_78_7': 'sicque deo dantes honorem et gloriam et non nobis liberauimus patriam et iugo soluimus inuasorum',\n",
       " 'pdv_78_8': 'uos igitur ex hiis in fide regia confortati mentem et animum roborate firmiter speraturi quod totum regnum in breui dante domino ad fidem regiam deducemus ac statum prosperum et tranquillum',\n",
       " 'pdv_79_1': 'ad renouanda preteritae festiuitatis sollempnia quam de expugnatione ac expulsione communium hostium precedentes uobis nostrae litterae portauerunt presens ad uos accedit epistola nouum subsequens gaudium relatura quod per illius gratiam qui causam domini regis domini carissimi et nepotis naufragari non patitur liberata prouincia de faucibus inuasorum uniuersae ciuitates et castra quae ad se falsis suggestionibus traxerant ad regiam fidem redeunt et cum deuotione fraganti suum dominum recognoscunt ueniam postulantes et eneruante diuina potentia uires hominum qui ad exheredationem regis nequiter aspirabant',\n",
       " 'pdv_80_1': 'etsi potentiae nostrae presentiam ad ytaliae rebellium aspirantis exitium per aduersarii nostri latentes insidias ad eradicandam in regno nostro proditionis cuiuslibet speciem prout dudum uolatilis famae loquacitas et litterarum nostrarum adiectio frequenter ad tuam deduxere notitiam tam mecessariac causee quam utiles enocassent quia amen gulbusdam procitoribus nostris in regno morantibus sicut lucidius pridem scripsimus debito supplicio traditis et regni negotiis pro uoto iam salubriter ordinatis liberiores sumus ad gladium et magis ad conterendas rebellium nostrorum reliquias expediti ne detur eis ex absentia nostra gloriandi materia uel uideatur ex mora nostra potentia tepuisse quin potius propterea concepta spes friuola uelut in puluere sufflantium annulletur confusionis ipsorum tempus bellicis aptum fortasse conflictibus anticipare disponimus ut eo grauius commisisse se doleant quo nostrae potentiae malleo prematurius ferientur',\n",
       " 'pdv_80_2': 'cum igitur personae nostrae non parcendo laboribus in introitu proximi futuri mensis februarii magnificentia nostra mouere de regno constantis propositi tenacitate firmauerit uersus partes ytaliae ad contritionem predictorum nostrorum rebellium aquilarum uictricium signis explicitis et nostrorum fidelium uiribus aggregatis potenter et magnifice processuri fidelitati tuae precipiendo mandamus quatenus quam pulchrum sit pugnare pro fide quam decorum dimicare pro domino diligenter attendens robur et animum quos in te sine requisitione paratos inuenire confidimus feruenter assumas',\n",
       " 'pdv_80_3': 'et ut absentia nostra eis efficaciora impedimenta parturiat sic et armiorun €l equerum cum cmnilous fice sus nosiris fuciscictiomis tia sic in continuo apparatu quod magnificentia nostra te et fideles eosdem paratos inueniat non parandos et digne commendationis titulum uestrae deuotionis constantia consequatur nec processum nostrum contra rebelles eosdem ob defectum apparatus eiusdem contingat aliquatenus retardari',\n",
       " 'pdv_81_1': 'ut uictoriosi exercitus nostri processus fidelitatem tuam non lateat ueritas quae frequenter ut assolet loquacitate referentium uariatur presens te ueridica pagina doceat quod dum in castris ante',\n",
       " 'pdv_81_2': 'ad depopulationem nostrorum rebellium tam potenter quam feliciter moraremur de ipsius loci celeri occupatione securi marchionis pelauicini fidelis nostri qui conscientiam nostram aliquo modo non falleret accepimus litteras continentes quod mediolanenses rebelles nostri cum placentinis eorum sequacibus pro succursu parmensium proditorum nostrorum quorum desiderabilia noster uastabat ignis et gladius potenter uenerant floremsolam inani se uoce iactantes quod nobiscum ad congressum uenire uolebant gladiorum nostrorum potentiam quam in necem eorum sepius experti fuerant per fastuosam quamdam superbiam prorsus obliti cumque assistentibus nobis imperii uiribus et cesareis animis quod predicti rebelles nos presumerent aggredi serenitas nostra duceret indecorum ut etiam si belli casus inciderit per eorumdem ingressum attingeremus uiriliter uotum nostrum',\n",
       " 'pdv_81_3': 'de quo actore domino qui nostrum tuetur imperium infallibiliter sperabamus et altiori ducti consilio defixis castris nostris feliciter uictricia signa nostra direximus contra ipsos die lunae quinto decimo presentis mensis iunii ante floremsolam ubi ad perniciem ipsorum eos conuenisse didicimus figentes felicia castra nostra cominus eius districtum ignis noster et gladius imperii more consumit quod cum ipsis innotuit signa nostra respicere non audentes locum ipsum de nocte non sine timore maximo dimiserunt et sic sunt in fugam conuersi quod euanescere potius quam fugere uiderentur',\n",
       " 'pdv_81_4': 'haec interim ad gaudium tibi significare curauimus tu uero illud uniuersis fidelibus ipsarum partium studeas publicare',\n",
       " 'pdv_82_1': 'repetentibus nuper nobis ytaliam post statum regni salubriter ordinatum ad dissensionis tam longe materiam quae inter nos et ecclesiam uertitur finaliter decidendam ad nostros et fidelium nostrorum quibus compunctiua charitate compatimur labores et sumptus totaliter finiendos ad tollendam denique morbi nascentis originem ne presens incurreret infirmitas recidiuam altissimi nobis plenitudo consilii sicut infallibiliter opinamur occurrit quod non ut hactenus per ambages et deuia non per inutiles circumstantias aut quaelibet interualla sed per ipsius naturam negotii finem tanti discriminis attingentes lugdunum recta uia procedere deberemus causae nostrae iustitiam presentialiter et patenter in aduersarii nostri facie coram transalpinis gentibus posituri ac deinde confestim repetituri germaniam ad motus eius quos aliquorum infidelium prouocauit iniquitas salubriter componendos',\n",
       " 'pdv_82_2': 'hoc autem tam salubre propositum uelut finem tanto discrimini positurum italicorum et transalpinorum omnium communis opinio commendabat qui gloriosum nostrae maiestatis accessum continuis missionibus et precum profusionibus euocantes desideratam mundo pacem propterea prouenturam uel subrepturas in petra scandali seditiones et iurgia nationum infallibiliter asserebant',\n",
       " 'pdv_82_3': 'sed papa propterea de sanctae terrae proh dolor luctuosa desolatione non curans quae christiani sanguinis effusione dispersa dum filios deplorat extinctos iustam de hostibus exigit ultionem de qua fidei nostri cultus diuinitus et doctrina processit ad infidelium nostrorum conuersus auxilia qui caput heresis nutriunt',\n",
       " 'pdv_82_4': 'et iam profecto uniuersam liguriam quamquam eam noster ensis opprimeret infecerunt copiosam uitramontanorum militum comitiuam de pecunia quae sibi nec ad tales usus de fidelium manu porrigitur pro suis stipendiis solidatam subtili quidem licet malicioso consilio in consortio mediolanensium mittere conatus incassum quorum presentia uel post tergum nobis ytaliam traheret uel processum nostri culminis ad lugdunense concilium in germaniam impediret spe frustratus omnino de conatibus suis irreparabiliter excidit et turpiter perdidit quod expendit',\n",
       " 'pdv_82_5': 'comes autem sabaudiae dilectus fidelis et affinis noster ac fideles alii perennem imperii nostri uictoriam magnanimiter procurantes militibus ipsis per angustias et angusta montium transire parantibus omnem prorsus aditum in perpetuum obstruxerunt',\n",
       " 'pdv_82_6': 'eramus itaque compositis omnibus rebus succedentibus nobis ad uotum tam ad iter accincti quod predictus comes sabaudiae ac dalphinus comes uiennensis dilectus consanguineus et fidelis noster ac fideles alii ad pedes nostros humillima deuotione prostrati per terras suas nobis transitum peropportunum parauerant et necessariis omnibus effecerant copiosum qui cum repente fortunam cesaream constitit processisse quae nunc demum nobiscum gloriosius prouenit cum nobiscum primo de qualibet condicione contenderit se processibus nostris circa radices alpium in ipso lugdunensi itinere obiecerunt ingressum rumoris inopinati de parmae fiducia rebellionis nuntium proferentes quam eiectorum dudum per nefariae proditionis offensam infidelium repentinus in cursus mediantibus fraudis intestinae suffragiis occupauit',\n",
       " 'pdv_82_7': 'prebentes igitur necessarium firmato uiae nostrae processui modici temporis interuallum in obsidionem parmae uictricia signa nostra conuertimus totius in ea bellum liguriae quod latenter hactenus nutriebat pro uoto fidelium potentissime paraturi',\n",
       " 'pdv_82_8': 'nec est enim habilis resistentiae locus quem murorum non munit ambitus aut concauitas fossatorum et quem necessariorum habilitas copiosa non replet cum propter subitae causae perniciem nichil illuc expositum fuerit uel portatum quem demum fugitiuorum manus timorosa tuebitur si uires publicae tuitionis assumere nequiuerunt qui propriae uitae spem hactenus in solo fugae refugio posuerunt',\n",
       " 'pdv_82_9': 'um igitur ex descriptione presentium laborum nostrorum finem circa ligurini belli reliquias finaliter et specialiter conterendas imponere attendamus presertim cum de germania carissimi filii nostri corradi in romanorum regem electi et regni hierosolimitani heredis se suppliciter incuruante mandatis nullius occasio dubitationis assurgat spiritu confortationis assumpto seruitiis nostris indesinenter intende ac fidelium nostrorum prouinciae tibi decretae animos quos absentiae nostrae presumit anxietas presentis lectionis noua letificent sic quod nos de te et ipsis obsequiosa fidelitas et fructuosa deuotio reddant frequentius more solito letiores',\n",
       " 'pdv_83_1': 'quantae audaciae quantaeque temeritatis ligurium et cetera sicut in quadam precedenti epistola quae incipit communem omnium principum usque excitantes',\n",
       " 'pdv_83_2': 'cum nec anno preterito nec presenti possemus rebelles nostros ad presentis pugnae discrimen trahere ut de hiis simul et semel optatam uictoriam haberemus casualiter tamen feliciter contigit ut mediolanensibus et eorum sequacibus ad brixiensium subsidium euocatis ac interiecto inter nos et eos fluminis cuiusdam obstaculo quo ueluti quodam munimine cingebantur ultra ttlusen olei castra mostra cdleduoimus adherenda populis et miliuibus ciuitatum fidelibus nostris ad propria redeuntibus quos insperatae morae tedium et cetera sicut in eadem epistola usque non ualeret',\n",
       " 'pdv_83_3': 'mediolanenses et socii per pontes et uada fluminis transeuntes per apertam planitiem exiuerunt credentes se nobis per occultae fugae subsidium et cetera usque succurrere credebamus uel deberemus usque ad temonem fere carrucii ex nostris aliquos uidimus peruenisse',\n",
       " 'pdv_83_4': 'superuenientis tamen noctis umbrosa et cetera usque computantur',\n",
       " 'pdv_83_5': 'quae omnia uniuersitati uestrae significamus ad gaudium ut prouenisse noueritis ad augmentum quod ex tenore presentium legitur accessisse titulis imperialibus ad gloriam et triumphum',\n",
       " 'pdv_84_1': 'etsi prouenientium nobis de partibus istis ad uota successuum iam frequens ad te celsitudinis nostrae littera relatiua peruenit ut tuae tamen expectationis affectus noua prospera status nostri continuata letificent presentium tibi tenore describimus quod terris omnibus nostrorum rebellium urgentissima depopulatione uastatis castra eorum quae potentiae nostrae processibus uidebantur obsistere ferro flammaeque subiecimus et cuncta nobis ut te breuiter alloquamur in partibus istis ad placitum desiderabili successione respondent',\n",
       " 'pdv_84_2': 'hoc siquidem scire te uolumus et presentis lectionis sapore percipere ut non solum tibi materiam huiusmodi iucunditatis exhibeant sed uelut uera presagia futurae letitiae firmam fiduciam representent quod ea tuis auribus infra dies paucissimos offeremus ex quibus manifeste perpendere poteris laboribus nostris in proximo finem laudabilem imponendum',\n",
       " 'pdv_85_1': 'super eo quod de fortunatis auspiciis et felicibus processibus nostris per nostras recreari litteras suppliciter postulasti uolentes exinde uotis tuis libenter annuere fidelitati tuae presentium tenore intimamus quod diuina dextera nostris assistente processibus feliciter uiuimus et magnifice triumphamus ac nonnullis ex proditoribus nostris qui sicut famae preloquio et relatione ueridica credimus ad tuam notitiam iam deductum nefando proposito in necem nostram ausu temerario conspirarant pro merito penae supplicio traditis et ignominiosa morte dampnatis reliqui qui sub defensionis quin potius offensionis eorum ymagine metu terribili uelut de celo fulminis ictu percussi se in castro nostro capacii receptarunt sic fidelium nostrorum regni clara deuotione sunt undique circumsepti sic continuo machinarum nostrarum ictibus incessanter afflicti cisternis et domibus diruptis propugnaculis omnibus murorum et turrium deuastatis ut tamquam undique coartati et manus nostras effugere non ualentes ab ultionis instantis et indubitatae iudicio sola se ualeant spontanea gladii morte subducere uel excelsae rupis ex parte maritimae precipitio liberare',\n",
       " 'pdv_85_2': 'et sic regni nostri negotiis iam pro uoto dispositis ad rebellium nostrorum et imperii reliquias conterendas ytaliae partes in proximo uictoriose repetere feliciter et instanter accingimur cum ad id et uoluntatis nostrae nos auiditas inuitet et de perusinis ac asisinatibus rebellibus nostris nuper obtenta uictoria reddat libere expeditos',\n",
       " 'pdv_85_3': 'tu igitur qui tamquam uas puritatis et aromatum cella precipua per fidem et deuotionem tuam uniuersis redolens per exempla quem nec seditiosa seductio uariauit nec laborum commouit immensitas nec demum larga promissio potuit nostri professione nominis in qua te natiua solidauit antiquitas immutare singulorum mentes sollicita et huiusmodi nostrae festiuitatis ferias ac aduentus nostri uigilias una cum ceteris nostris fidelibus ipsarum partium hylariter sollempniza',\n",
       " 'pdv_86_1': 'ad reserandam uobis strictae obsidionis seriem et naturam ac impugnationis hostilis instantiam famis et sitis penurias necessitatum multiplicium quas patimur et passi sumus miserias et pressuras scribere nostri calami diutius laborarunt quod iam pergamenum et atramentum deficeret et utinam quod tanta instantia profuisset',\n",
       " 'pdv_86_2': 'sed totiens proh dolor uenerunt incassum quotiens fuerunt litterae destinatae quia nec dominum casertanum nec uos ad succurrendum nobis cura sollicitat ut uidemus sed comecentes peter im catunale ef super as cami recicentes co',\n",
       " 'pdv_86_3': 'stic intenditis et quieti et utinam quod pleno stomacho de nostris ieiuniis pensaretis',\n",
       " 'pdv_86_4': 'excusatis autem uos quod uicinum aduentum principis expectatis ut nobis habundantius et tutius succurratis uestris uiribus iunctis suis',\n",
       " 'pdv_86_5': 'sed timemus ne illius uulgaris prouerbii locus adueniat et utinam non supersit dum herba crescit equus moritur et dum fugans canis mingit fugiens lupus uadit',\n",
       " 'pdv_86_6': 'dolemus autem de prefato domino comite sed de uobis non minus qui ad consilium eius estis quod ea que ad imperii spectant honorem sibi non suggeritis ut debetis',\n",
       " 'pdv_86_7': 'ad quid ergo uenistis si non succurritis prouinciae atque nobis etiam qui perimus',\n",
       " 'pdv_86_8': 'audabilius fuisset uobis in apulia quam in tuscia ducere in solatio dies uestros',\n",
       " 'pdv_86_9': 'sola enim ante aduentum uestrum ciuitas uiterbiensis fuerat ab imperiali fide subuersa sed postquam uenistis uersa est pars maxima regionis dudum etenim homines de uestro succursu spem et fiduciam habuerunt et steterunt in fide sec dosiguam ulderunt wos cesices ciscademtes el patiences ac mires westies ad eorum auxilium non extendere quas habetis fide protinus recesserunt l o quam uobis et nobis pro uobis dolendum est quod pusillanimitas sacerdotum tantas uires uestras sine prelio sic eneruat sane honorem imperialem et gloriam uestri nominis minoratis quia dum uix ducentos milites tales quales habeat cardinalis uos cum mille quingentorum militum comitiua ei non resistitis prouinciam occupanti nec nobis ad quorum confusionerm intendit succurrere festinatis',\n",
       " 'pdv_86_10': 'quod si wobis de prouincia non est cura de nobis tamen curare debetis quia caro de carne uestra et os de ossibus uestris sumus',\n",
       " 'pdv_86_11': 'numquid nescitis quod propter uias subterraneas quas fecerunt rebelles maior pars castri uiterbii de hora in horam ruitura speratur et nos ex hoc inspicimus loci posse accidere captionem',\n",
       " 'pdv_86_12': 'umquid nostram penuriam ignoratis cunctis enim et comestibilibus iam consumptis muli et equi clauas sentiunt propter escas',\n",
       " 'pdv_87_1': 'si multae uel de multis aliquae quas misimus ad uos litterae peruenerunt res admirationis est plena quod pro conseruando imperialis coronae honore ad nos celeriter cum ipso quod habetis exfortio non uenistis',\n",
       " 'pdv_87_2': 'nam non solum litterae quas frequentius direximus uerum etiam rumor et fama publica potuerunt referre qualiter rebelles in nos supra morem hostium et nationis barbarae seuientes instanter diebus et noctibus nos impugnant balistis arcubus fundis necnon machinis quas in summitatibus oppositarum nobis turrium erexerunt cum quibus non tantum lapides iaciunt uerum etiam fulgurant sepe ignem quorum impugnationibus potenter resistentes de die potentius de nocte resistere nos oportet propter quod uix per horam sompnum capere possumus uel quietem',\n",
       " 'pdv_87_3': 'sane pro sono principis properantis et strepitu uestri aduentus attrita et attenuata sunt corda rebellium et fidelium animi fortius roborati licet diuulgari faciant proditores quod non uenitis ad contratam etsi ueneritis non ducitis tantam gentem quod possitis resistere uel stare uicinius contra eos',\n",
       " 'pdv_87_4': 'quocirca nobilitatem uestram et dilectionem instantissime deprecamur quatenus omnibus indutiis et mora qualibet abdicatis cum ipso quod habetis exfortio statim si placet post litterarum presentium habitum intellectum nobis et aliis fidelibus succurrere festinetis scituri pro firmo quod si aliquam moram aliquo pretextu duxeritis faciendam uel contrahendam horrendum quod absit periculum et dampnum inestimabile sine spe remedii imperium patietur',\n",
       " 'pdv_87_5': 'ceterum nec collectio generalis contratae nec cura inueniendi aliquas gentes nobis uel uobis forsitan opportunas uos per elem ceo megt ue oe bole sec cis posieas is eis tne exhinde rescribentes uos cum ea quam habetis gente tantum ad succursum celeriter accingatis',\n",
       " 'pdv_87_6': 'talia enim inesse sciatis quae non sunt scripturae uel nuntio committenda preterea licet supra dixerimus quod ipsi rebelles acriter nos impugnant illud tamen uniuersaliter non notetis quia nondum mota est ciuitas per commune sed hi sunt precipue proditores qui cum suis fautoribus consanguineis et amicis necnon cum quibusdam de terris rebellium conductis pretio sic inhumaniter certant utpote de misericordia desperantes',\n",
       " 'pdv_88_1': 'imperialis maiestas seruo suo dignata sacras litteras destinare et laudibus extollere famam eius de feruente feruentiorem efficit accendens interius exterius iam accensum et firmans in proposito iam firmatum',\n",
       " 'pdv_88_2': 'sed quia laus in ore proprio non est pulchra quanta operata sit et operetur iugiter fides mea et quanta passus sim et paratus sum pro nomine uestro pati effectus operum demonstrabunt et prius fama quam ego me uestro culmini presentabit',\n",
       " 'pdv_88_3': 'nec indigne corpus et animam et uniuersa quae habeo pro honore diadematis uestri exposui liberaliter et expono cum omnia quae in terris possideo uestra magnificentia michi donata profitear salutem et uitam post deum precipue recognoscam',\n",
       " 'pdv_88_4': 'hoc itaque deberent recognoscere proditores quorum oculos diabolus excecauit in tantum ut magis in tenebris quam in luce et potius in timore mortis quam in securitate uitae desiderent et eligerint ambulare qui post deum per uos de carceribus educti de exilio reuocati immo de faucibus mortis erepti ciuitatibus et familiis restituti fuerunt et dum bonis omnibus habundarent omnium beneficiorum uestrorum obliti sine iusta causa recalcitrauerunt dilecti et in uos patrem et dominum ac redemptorem eorum nequiter coniurantes ciuitatem uestram laudabilem subuerterunt nonis septembris potestate et ceteris officialibus uestris cum armis acriter infugatis uocatosque de longinquo cardinalem rainerium et comitem guillelmum uestros proditores et imperialis nominis inimicos ad odium et dedecus uestrum in uiterbium predilectam uestram cameram immiserunt et prefata die comitem simonem et me ipsum in castro uestro uiterbii diebus ac noctibus impugnarunt hostiliter et instanter lapidibus arcubus balistis et machinis quas in summitate turrium erexerunt',\n",
       " 'pdv_88_5': 'et collectis latronibus forbannitis et personis dampnatis de remotis partibus et uicinis nos circumdederunt ut canes ad maius etiam uituperium quibusdam papilionibus antefixis',\n",
       " 'pdv_88_6': 'proinde maiestati uestrae flexis genibus uinctis manibus et madidis fletu genis supplico et instantissima prece rogo quatenus ad liberandum complexos ad confortandum eos qui adhuc in fide uestri nominis ac seruitio perseuerant et ad conculcandum rebelles personaliter uenire dignemini ad has partes non minus celeriter quam potenter et non contenti exfortio uestro promisso sed faciem uestram prouinciae pereunti et nostris aspectibus ostendatis',\n",
       " 'pdv_88_7': 'firmam enim uobis spem tribuo quod in aduentu uestro felici erunt praua in directa et in uias planas aspera conuertentur et aspectus uester omnem ubique nubilum serenabit',\n",
       " 'pdv_89_1': 'antiqui patres non expectauerunt christi aduentum ardentius quam nos uestrum ut desiderata facies maiestatis uestrae preterita mala liniret dolores tolleret et oppressos multarum turbationum aculeis releuaret',\n",
       " 'pdv_89_2': 'cum desiderantibus igitur prioribus patribus desiderio ardenti precamur ueni ad liberandum et letificandum nos princeps uirtutum ostende faciem tuam et salui erimus',\n",
       " 'pdv_89_3': 'hoc est enim quod ingemiscimus hoc est enim quod suspiria nostra querunt sub umbra alarum uestrarum ad tempus quiescere et coram uestris desideratis aspectibus comparere',\n",
       " 'pdv_90_1': 'cum ad expurgandum de sincero corde imperii rebellionis inueteratae fermentum et infidelium reliquias conterendas nos bellum indicere et exercitum congregare de iurisdictione nostra iusserit imperatoria celsitudo ut ad secundum eius mandatum nobis in breui non prefinito tempore faciendum contra rebelles suos cum uictorioso exercitu nostro ad adiutorium imperialibus uiribus exeamus uiriliter et potenter oportet nos diem mandati subiti preuenire ut nos et uos paratos hora inueniat iussionis',\n",
       " 'pdv_90_2': 'et quaamquam ad tam opus laudabile fidelium solacium et quietem nos sine mandato uestra deuotio animet et incitet uestra fides nos autem circa ea quae commissum nobis exposcit officium et imperialis programmatis mandat auctoritas inueniri nolentes in aliquo desides uel remissi uniuersitatem uestram affectuose requirimus imperiali qua fungimur in hac parte uobis auctoritate firmiter et districte precipiendo mandantes quatenus in equis armis tentoriis trabachiis et aliis necessariis sic uos paretis celeriter et decenter ut quandocumque litteris seu nuntio fueritis requisiti ad nos pro imperialibus seruitiis accedatis ad depopulationem infidelium animati quorum terras secundum imperiale mandatum disponimus usque ad exterminium impugnare iin ind rubr',\n",
       " 'pdv_90_3': 'p] cibi p',\n",
       " 'pdv_91_1': 'curam et sollicitudinem circa ea quae uestra excellentia michi iussit et specialiter ad exercitum congregandum ex istis partibus quibus possum studiis ut melius potero habere curabo',\n",
       " 'pdv_91_2': 'sed uestram non lateat maiestatem quod theutonici et latini stipendiarii uestri quos ad fronteriam urbis posueram in uetralla quorum custodia et timore immo diuina et uestra gratia faciente ab inimicis tuta erat regio et specialiter ex parte illa ita quod depredationis nisi furtiue dispendium nullatenus formidabant per magnum temporis spatium sicut dominus henricus ramburgensis eorum comestabulus nouit sua stipendia non habentes detenti mensibus pluribus uerbis meis quibus pro redimendis eorum equis et armis obligatis pro transacto tempore sub usuris nobis mittenda pro pluribus pagis stipendia pollicebar cum non reperirent in meis promissionibus ueritatem quidam ex eis ad partis aduersae transfugium quibus eadem pars duplicata persoluit stipendia confugerunt',\n",
       " 'pdv_91_3': 'super quo serenitatis uestrae procedat prouisio prout uiderit expedire studiis] sup lin al man',\n",
       " 'pdv_91_4': 'p',\n",
       " 'pdv_92_1': 'corda uestra uelut imperii fidelium deuotorum de prosperis nouis contingentibus recreari uolentes de sinistro casu ciuitatis parmensium qui nuper accidit eorum malitia insurgente ut una uobiscum proinde recreati ad exaltationem serenissimi patris nostri et ad parmensium ipsorum malitiam refrenandam qui uiam rectam uerae fidelitatis obliti in sinistram partem eorum prauos animos conuerterunt assumptis uiribus nostris et aliorum imperii fidelium iurisdictionis uestrae in manu forti uiriliter procedere intendamus uestra notescat sincera deuotio et commendanda fidelitas nos magnifico uiro domino h illustri rege sardiniae recepisse litteras in hac forma nobili uiro friderico de antiochia et cetera henricus dei et imperiali gratia rex turrium et galluri et cetera',\n",
       " 'pdv_92_2': 'uolentes igitur predicta omnia cum celeritate qua conuenit exequi prout decet uos pro parte serenissimi patris nostri instanter requirimus et ex nostra rogamus attentius et hortamur quatenus statim receptis presentibus more solito fideliter ac deuote circa imperialia obsequia animorum uestrorum curam uigilem adhibentes armis et equis apparatum laudabilem faciatis quemadmodum magnum et tam grande negotium exposcit ad presens ita quod ad aliam requisitionem nostram tam feliciter quam laudabiliter una nobiscum sicut opus fuerit pro predictis ut conuenit ueniatis',\n",
       " 'pdv_93_1': 'dum debitorum nostrorum cirografa legimus dum kalendarii nostri nomina diligentissime perscrutamur et nos debitores aliis euidenter agnosci mus et aliorum nos esse prospicimus creditores',\n",
       " 'pdv_93_2': 'hinc igitur pulsantis ad ostium iusta nos urget instantia ne fenore pregrauemur hinc ad exactionem debitorum nostrorum pericula promittens negotiis mora nos prouocat ne ipsae pereant actiones',\n",
       " 'pdv_93_3': 'ab illo namque bono patrefamilias protinus et instanter nobis exigitur debitum qui peregre proficiscens peculium suum sollicitudini nostrae supposuit cui talenta quae tradidit reddere cogimur duplicata',\n",
       " 'pdv_93_4': 'sed et uersa uice nos excitat cesareae fortunae fastigium ut ab eis quos romanae dicionis habet imperium subiectionis et obedientiae debitum requiramus',\n",
       " 'pdv_93_5': 'mirabile tamen utrumlibet condicionis est debitum si subtiliter intuemur cuius solutio debitoris emolumenta non minuit auget fidem immo magis soluenti crescit in commodo quam suscipienti proficiat in augmento',\n",
       " 'pdv_93_6': 'ceterum si in eo prout tenemur satisfacimus proponenti et propositi diligenter officium impendamus et temporalis honoris stipendia querimus dum clarificamur in fama et retributionis eternae fiduciam capimus dum proficimus in salute',\n",
       " 'pdv_93_7': 'in iussu dominico quae sunt dei deo et quae sunt cesaris cesari persoluantur emolumentum enim solutionis in totum fere soluenti relinquitur dum recipienti etiam magis commodi et honoris acquiritur quam soluenti uexationis et oneris aggreguetur',\n",
       " 'pdv_93_8': 'ea namque sunt omnia si uerum respicimus subiectorum grata leuamina quae sunt etiam principatus in hoc etiam gratia regis extollitur et seruatur si in equitate pacis populum dirigat et in iustitiae uigore conseruet',\n",
       " 'pdv_93_9': 'ad quorum primum non sine regnantium salutis et uitae discrimine laboratur legimus namque plures pro quiete publica populorum labores eximios assumpsisse nec ex tote secura iustitia uer reges et principes ministratur qui dum inferiores iudicant superiori iudicio reseruantur',\n",
       " 'pdv_93_10': 'et quaamquam tanti sollicitudo ministerii quibuslibet terrae principibus debeatur romani tamen imperii ueneranda sublimitas quod in omnium presidentium oculis uelut in speculo collocatur tanto perfectius zelari pacem compellitur tanto tenetur instentius uacare iustitiae subditorum quanto totius orbis ambitus quodammodo spiritu uiuit imperii ut eo languente langueat et ipso prosperante letetur',\n",
       " 'pdv_93_11': 'nec solum in temporalibus solaciis christiani populi tenebras romani sceptri fulgor illuminat sed ipsi catholicae fidei fulcimenta non leuia submnistrat cum etiam matrem ecclesiarum omnium apostolorum sedem inter totius imperii uiscera collocatam qua ecclesiae urbium singularum et locorum quorumlibet auctoritatis insignia contrahunt et instruuntur exemplis hereticorum perfidiis uel aliquorum iniuriis concuti non permittat',\n",
       " 'pdv_93_12': 'propter quod gratissimum offerre deo uiuo putamus obsequium si zelo laudabili et constanti proposito ad totius imperii statum pacificum tanto libentius aspiremus quanto preclariori presagio hoc de celesti colligimus uoluntate',\n",
       " 'pdv_93_13': 'nec enim ob aliud credimus quod prouidentia saluatoris sic magnifice immo mirifice dirigat gressus nostros nisi quod uoluntati dominicae dispositi in uotis ea perficere gerimus per quae christi sponsa heradicatis zizaniis salubriter gubernetur sicque dum ab orientali zona regnum hierosolimitanum corradi carissimi nati nostri materna successio ac demum regnum syciliae preclara maternae nostrae successionis hereditas et prepotens germaniae principatus sic nutu celestis arbitrii pacatis undique populis sub deuotione nostri nominis perseuerant sic illud ytaliae medium quod nostris undique uiribus circumdatur ad nostrae serenitatis obsequia et imperii redeat unitatem',\n",
       " 'pdv_93_14': 'nec in hoc prouidere tantummodo commodis nostris intendimus sed in hoc crucis negotium directissime procuratur dum rebellibus nostris circa partes ytaliae in gremium nostrae gratiae reuocatis expectationes multorum nobilium desiderato fine precidimus qui uota sua in euentu huiusmodi suspenderunt ne crucis signaculo presignitos christiani cruoris effusio licet iusta ob debitum et honorem imperii et regni syciliae macularet',\n",
       " 'pdv_93_15': 'nos etiam de cuius manu potissimum circa predicta prestolatur presidium sine tacita saltem redargutione multorum relicto in tam nobili regione imperii nostri corpore lacerato et dissimulata ueteri rebellione rebellium assumere tantum negotium non possemus',\n",
       " 'pdv_93_16': 'de sinu etenim ipsius ytaliae supradicta discordia ad honorem dei et imperii laudabili fine sedata grande producere speramus auxilium terrae sanctae quae uelut incolis populosa uicina maritimae glebaeque cultu fructifera in oportunitatibus omnibus se utilem nimium exhibebit',\n",
       " 'pdv_93_17': 'ad haec igitur omnia salubriter procuranda nostris non indulgere laboribus nec parcere sumptibus disponentes estate presenti personaliter cum nostris principibus intrare condiximus lombardiam',\n",
       " 'pdv_93_18': 'ad haec considerationum nostrarum assiduos cogitatus potissime dirigentes ut eradicata in ytalia heretica prauitate iura ecclesiae et imperii reformemus ibidem ut pacem discordiarum scismatibus fatigatis et quibuslibet passis iniuriam sine acceptione qualibet personarum iustitiae copiam ministremus scimus etenim ueritate testante quod nobis malignum aliquod aduersari non poterit dum iustitiae solio presidemus - ut ad expiandum inimicorum fidei piaculare flagitium in partibus transmarinis de communi cismontanorum et ytalicorum consilio uotis communibus unanimiter aspiremus',\n",
       " 'pdv_93_19': 'ad quod nostrum precipue et totius christianae uniuersitatis presidium nostra non tantum utilitas sed ipsa necessitas instanter inuitat cum treugarum finis quas nos in ipsis partibus existentes iniuimus cum soldano fere in ianuis habeatur',\n",
       " 'pdv_93_20': 'quare de nostrorum consilio principum apud parmam sollempnem curiam duximus indicendam ad quam ab urbe citra omnes urbium ytaliae nuntios inuitamus',\n",
       " 'pdv_93_21': 'ibique quam plures nobiscum principes nostros habebimus in honorabili comitiua legatos etiam omnium regum occidentalium partium quos fere omnes affinitatis nobis uinculum unanimes iam effecit ibidem procul dubio nos credimus habituros ut intentionis nostrae salubre propositum quod de subsidio terrae sanctae reformatione iurium imperii et ecclesiae in ytalia et statu pacifico regionis eiusdem pia mente concepimus in sollempnem et publicam prodeat notionem',\n",
       " 'pdv_93_22': 'etsi tanta rebellium fuerit inuenta proteruitas quod nec ad deum nec ad decus imperii uelint habere respectum tum celebris tribunalis in eos materialis gladius exeratur qui nullius appellationis remedio suspendetur sed in rem transiens iudicatam effectum dante domino debitum euestigio consequetur',\n",
       " 'pdv_93_23': 'ut in omnibus antiquus et debitus mos et honor imperii conseruetur ecce quod ante faciem nostram de principibus nostris aliquem premittemus cui plenariam dabimus potestatem uniuersitates quaslibet ac personas etiam singulares extra culminis nostri gratiam in banno imperii existentes in plenitudinem nostrae gratiae recipere prout honori nostro et imperii uiderit expedire illo presentibus expressim inserto quod nos promittimus inuiolabiliter obseruare et obseruari ab uniuersis et singulis imperii fidelibus et principibus faciemus quicquid de reformatione nostrae gratiae cum quibuslibet uniuersitatibus et personis per ipsum extiterit ordinatum nec minus honori et uoluntati nostrae satisfactum habebimus quicumque dicto principe mediante nostram gratiam debita deuotione deposcit quam si nobis ipsam presentibus obtineret',\n",
       " 'pdv_93_24': 'tu uero uelut fidelis et prudens te ipsum ueniendi ad curiam supradictam honorifice prepares potestatibus consulibus consiliis atque communibus cumanae mediolanensis pergamensis uercellensis alexandrinae brixiensis et laudensis ciuitatum ex parte nostra precipiens ut ambassiatores suos ciuitatum ipsarum auctoritate munitos in dicta curia ad nostram stugeant presentiam destinare qui ex parte uniuersitatum sucrumi tar super terrae sanctae negotio quam super reformatione imperii et iusto ac pacifico statu terrae nostris et imperii se mandatis exponant',\n",
       " 'pdv_93_25': 'scripsissemus utique predictarum uniuersitatibus ciuitatum nisi quod omnino preposterum principum consilium crederet ut deuotionem ipsarum imperialium apicum scriptura preueniret nec nostra prescriptio litterarum merito poterat illis gratiam nostram exponere qui eam assequi non nituntur',\n",
       " 'pdv_93_26': 'nos enim gratis auspiciis in festo beati iohannis baptistae proximo nunc futuro aquilarum uitricia signa mouebimus ab augusta subsequenter in festo beati iacobi dictam regere curiam disponentes illo nobis uiam feliciter ostendente qui nouit prosperum iter dirigere ac faciente qui potest',\n",
       " 'pdv_94_1': 'uobis non alii pie cesar cedit ad gloriam et honorem quod me totiens redditis per uestras litteras gloriosum quasi dignus sim quod de gloria uestra glorificer et de prosperis successibus uestris exultem',\n",
       " 'pdv_94_2': 'equidem nichil michi sic optabile posset offerri sicut incolumis status felix processus et insignis triumphus eius quo sum et sine cuius iudicio nichil sum sub cuius umbra uiuo magnificor et honoror',\n",
       " 'pdv_94_3': 'haec inquam dum me contingunt nichil ex me michi remanet quod me beneplacitis uestris non obliget et mandatis exponat',\n",
       " 'pdv_94_4': 'et nouit altissimus quod in hiis uiuere sub hiis senescere cupio et dummodo mori placeat concupisco',\n",
       " 'pdv_94_5': 'ad haec clementissime principum ne celem in me quidquam uel simulem data uenia timens loquar quod in litteris uestris quidam me fauor terruit uidelicet ubi dicit <hortando mandamus quatenus circa seruitia nostra et maxime rationum nostrarum te geras more solito sollicitum et attentum quia licet tibi super hiis socios adiunxerimus serenitas nostra tamen tibi tantummodo noscitur inherere',\n",
       " 'pdv_94_6': 'fateor domine quod ex uerbis istis fauor grandis resultat nisi contrarium innuant quod pigrum scilicet arguant uel feriant negligentem',\n",
       " 'pdv_94_7': 'ad quod si est delatorem aggreditur uox libera innocentis etsi homo uel angelus est qui sibi super hiis placuit etiam si nomen habuit tamen hanelitum perdidit inter filios ueritatis',\n",
       " 'pdv_94_8': 'et certus sum quod quantumcumque sit de latere qui contra me lasciuit si uotis meis altissimus faueat ut pedibus uestris assistam iniquitas aduersus me oppilabit os suum',\n",
       " 'pdv_94_9': 'det autem et cito dominus maliloquiis istis finem ut uisus uos doceat et relatus moram abbreuiet patrem ad filium ac benefactorem et dominum ad fideles reducat',\n",
       " 'pdv_95_1': 'in inuidiam omnium nationum quae quibuslibet orbis regibus et terrae principibus sunt subiectae non solum debitae fidei sed innatae cuiusdam affectionis zelum fideles regni syciliae semper ad dominos habuerunt',\n",
       " 'pdv_95_2': 'sed postquam ad regni nomen terrae tam nobilis ambitus quam inter se per uicarias occupantium iniurias romanorum et grecorum imperia placidis finibus diuidebant uirtuosa maiorum nostrorum et prima consolidatione peruenit in tantum regiae dignitatis nomen et solium dilexere regnicolae ut eisdem antecessoribus nostris ab eis in reges et dominos adoptatis et fideliter acquisita defenderent et uirtuose subicere populos barbaros conarentur',\n",
       " 'pdv_95_3': 'et licet ex memoratae uirtutis initiis progenitorum fecundata nostrorum satis extiterit generosa plantatio hanc tamen sub creationis nouae propagine quae nascentibus in regno coaluit nec inferiorem industria credimus nec strenuitate minorem',\n",
       " 'pdv_95_4': 'sane cum etatem nostram diuina potentia tanta felicitate ditauerit ut ad regem uestrum uestrae dilectionis lacte nutritum et uestris uberibus ablactatum romani culmen imperii celesti consilio peruenisset uos strenue bellantes cum ipso ad subiugandum sibi perfidae rebellionis audaciam uires et animos assumpsistis',\n",
       " 'pdv_95_5': 'cumque collisis multorum potentium uiribus qui non nobis immo diuino iudicio nostram iustitiam dirigenti temerarie resistebant ad obtinendam romani imperii monarchiam ytaliae quaedam factiosa collectio quae uelut in grano lolium et putredo remanserat in sentina ad cuius expurgatio nem animosa germania plene nostris exposita nutibus se satis uiriliter et potenter accingit expertes uos tantae uictoriae fore non sinimus nec iudicamus indignos',\n",
       " 'pdv_95_6': 'maxime cum credamus quod inter totius imperii nostri presidia hereditarii regni nostri nobis affectus lucidius debeat apparere nec successionem nostram generositatis auitae sic uolumus habere degenerem ut ad conterendam perfidiam lombardorum nos parentum nostrorum uestigia subsequi non uelimus ut affricam aut alias exteras nationes predecessorum nostrorum more dicioni nostrae subicere qui nedum fortunae terrenae discrimina sed et marinae nauigationis ambigua temptauerunt',\n",
       " 'pdv_95_7': 'in illo uerumptamen priorum nostrorum uias et semitas subsequi deuitamus qui in numerosa multitudine sepissime regnum hominibus uacuabant rerum non contenti subsidiis sed fidelium corpora remotis plerumque fortunae dispendiis exponendo',\n",
       " 'pdv_95_8': 'uerum cum ipsorum intentio apud nos excusatione non careat nobis hoc non est necessarium sicut necessarium erat eis',\n",
       " 'pdv_95_9': 'multas enim nobis personas germania germinat per quas uobis parcere possumus ex quibus debemus uti securius in talibus non ignotis',\n",
       " 'pdv_95_10': 'tacere uerumptamen hoc sine conscientiae pondere non possemus quod inter alios quos nobis undique diuinae potentiae dextera subiugauit personas uestras nobiscum libentius haberemus utpote qui de uestrae circumspectionis industria et fide probata fiduciam gerimus pleniorem',\n",
       " 'pdv_95_11': 'deesse tamen propter uos nobis in hac parte libenter eligimus indubitabiliter extimantes ut quod qui gratiose uobiscum uestris parcendo corporibus agimus in liberali susceptione rerum uestrarum gratiae nostrae premium hylariter repensetis',\n",
       " 'pdv_95_12': 'denique cum hac uice congregatis undique uiribus cum tanto exercitu ytaliam ingredi disponamus ut humiliata simul et semel proteruia nostrorum rebellium quietem nobis et uobis ac posteris etiam preparemus cumque tam magnum negotium sine magnis expensis nequeat expediri uniuersitatem uestram tenore presentium exhortamur firmiter iniungentes quatenus ad mansuetudinis nostrae gratiam quam in subministratione rerum pro personarum dispendiis permittamus necnon ad magnitudinem tantae rei in qua fere totius amoris nostri cumulus aggregatur habendo respectum ad requisitionem et ordinationem dilectorum fidelium nostrorum',\n",
       " 'pdv_95_13': 'et',\n",
       " 'pdv_95_14': 'in subuentione pecuniae sicque honorifice atque magnifice prouidere curetis ut uestrorum predecessorum uestigiis inherentes qui nos et predecessores nostros tenerrime dilexerunt laudabilis operis experimento probemini',\n",
       " 'pdv_95_15': 'nosque perspicaciter uideamus uos bonorum nostrorum sollicitos et attentos et ut nobis presentibus affectionis uestrae zelo ualeamus ascribere quicquid nobis absentibus personae nostrae reuerentiae conferetur',\n",
       " 'pdv_96_1': 'in inuidiam omnium nationum quae quibuslibet orbis regibus et terrae principibus sunt subiectae non solum debitae fidei sed innatae cuiusdam affectionis zelum fideles regni syciliae semper ad dominos habuerunt',\n",
       " 'pdv_96_2': 'sed postquam ad regni nomen terrae tam nobilis ambitus quam inter se per uicarias occupantium iniurias romanorum et grecorum imperia placidis finibus diuidebant uirtuosa maiorum nostrorum et prima consolidatione peruenit in tantum regiae dignitatis nomen et solium dilexere regnicolae ut eisdem antecessoribus nostris ab eis in reges et dominos adoptatis et fideliter acquisita defenderent et uirtuose subicere populos barbaros conarentur',\n",
       " 'pdv_96_3': 'et licet ex memoratae uirtutis initiis progenitorum fecundata nostrorum satis extiterit generosa plantatio hanc tamen sub creationis nouae propagine quae nascentibus in regno coaluit nec inferiorem industria credimus nec strenuitate minorem',\n",
       " 'pdv_96_4': 'sane cum etatem nostram diuina potentia tanta felicitate ditauerit ut ad regem uestrum uestrae dilectionis lacte nutritum et uestris uberibus ablactatum romani culmen imperii celesti consilio peruenisset uos strenue bellantes cum ipso ad subiugandum sibi perfidae rebellionis audaciam uires et animos assumpsistis',\n",
       " 'pdv_96_5': 'cumque collisis multorum potentium uiribus qui non nobis immo diuino iudicio nostram iustitiam dirigenti temerarie resistebant ad obtinendam romani imperii monarchiam ytaliae quaedam factiosa collectio quae uelut in grano lolium et putredo remanserat in sentina ad cuius expurgatio nem animosa germania plene nostris exposita nutibus se satis uiriliter et potenter accingit expertes uos tantae uictoriae fore non sinimus nec iudicamus indignos',\n",
       " 'pdv_96_6': 'maxime cum credamus quod inter totius imperii nostri presidia hereditarii regni nostri nobis affectus lucidius debeat apparere nec successionem nostram generositatis auitae sic uolumus habere degenerem ut ad conterendam perfidiam lombardorum nos parentum nostrorum uestigia subsequi non uelimus ut affricam aut alias exteras nationes predecessorum nostrorum more dicioni nostrae subicere qui nedum fortunae terrenae discrimina sed et marinae nauigationis ambigua temptauerunt',\n",
       " 'pdv_96_7': 'in illo uerumptamen priorum nostrorum uias et semitas subsequi deuitamus qui in numerosa multitudine sepissime regnum hominibus uacuabant rerum non contenti subsidiis sed fidelium corpora remotis plerumque fortunae dispendiis exponendo',\n",
       " 'pdv_96_8': 'uerum cum ipsorum intentio apud nos excusatione non careat nobis hoc non est necessarium sicut necessarium erat eis',\n",
       " 'pdv_96_9': 'multas enim nobis personas germania germinat per quas uobis parcere possumus ex quibus debemus uti securius in talibus non ignotis',\n",
       " 'pdv_96_10': 'tacere uerumptamen hoc sine conscientiae pondere non possemus quod inter alios quos nobis undique diuinae potentiae dextera subiugauit personas uestras nobiscum libentius haberemus utpote qui de uestrae circumspectionis industria et fide probata fiduciam gerimus pleniorem',\n",
       " 'pdv_96_11': 'deesse tamen propter uos nobis in hac parte libenter eligimus indubitabiliter extimantes ut quod qui gratiose uobiscum uestris parcendo corporibus agimus in liberali susceptione rerum uestrarum gratiae nostrae premium hylariter repensetis',\n",
       " 'pdv_96_12': 'denique cum hac uice congregatis undique uiribus cum tanto exercitu ytaliam ingredi disponamus ut humiliata simul et semel proteruia nostrorum rebellium quietem nobis et uobis ac posteris etiam preparemus cumque tam magnum negotium sine magnis expensis nequeat expediri uniuersitatem uestram tenore presentium exhortamur firmiter iniungentes quatenus ad mansuetudinis nostrae gratiam quam in subministratione rerum pro personarum dispendiis permittamus necnon ad magnitudinem tantae rei in qua fere totius amoris nostri cumulus aggregatur habendo respectum ad requisitionem et ordinationem dilectorum fidelium nostrorum',\n",
       " 'pdv_96_13': 'et',\n",
       " 'pdv_96_14': 'in subuentione pecuniae sicque honorifice atque magnifice prouidere curetis ut uestrorum predecessorum uestigiis inherentes qui nos et predecessores nostros tenerrime dilexerunt laudabilis operis experimento probemini',\n",
       " 'pdv_96_15': 'nosque perspicaciter uideamus uos bonorum nostrorum sollicitos et attentos et ut nobis presentibus affectionis uestrae zelo ualeamus ascribere quicquid nobis absentibus personae nostrae reuerentiae conferetur',\n",
       " 'pdv_97_1': 'inuiti trahimur ad tuam et aliorum notitiam principum aduersus h ducem austriae materiam publicae questionis afferre cuius leuitas ducta motibus inconsultis adeo processit in publicum et eius temeritas contra honorem nostrum et imperii dignitatem uerbo et opere attemptata nos tam grauiter prouocauit quod transire non possumus incorreptos ulterius suae leuitatis excessus',\n",
       " 'pdv_97_2': 'reuera quia dileximus patrem suum merito paterni seruitii cordi nobis est et curae in eumdem ducem filium eius fauorem paternae dilectionis effundere et affectum nostrum erga suum commodum et honorem ostendere cum effectu',\n",
       " 'pdv_97_3': 'itaque cum apud rauennam curiam indixerimus celebrandam uocauimus ipsum sicut ceteros principes ut ueniret proponentes eum amore paterno recipere ac fouere',\n",
       " 'pdv_97_4': 'sed maiori parte principum in multis laboribus et expensis uenientibus remotis ipse qui oportunius uenire poterat suum denegauit accessum',\n",
       " 'pdv_97_5': 'deinde nobis transeuntibus aquilegiam cum eum ibidem uidere uellemus uocatus uenire pueriliter recusauit',\n",
       " 'pdv_97_6': 'quod et nos habentes respectum ad paterna seruitia dissimulare uoluimus etatis suae motibus ascribentes quin potius ut eo non recederemus inuiso contulimus nos personaliter ad terram suam portae nonae quam habebat in foroiulii et ibi moram trahentes misimus pro eodem ut si molestum sibi fuerat in ciuitatibus nostri imperii nos aidisse ac tertarn suem pro nobis accedere nom ultaret',\n",
       " 'pdv_97_7': 'quem uenientem uenerabili affectione recepimus satagentes ei uerbo et opere complacere',\n",
       " 'pdv_98_1': 'intellecto nuper quod magister g de',\n",
       " 'pdv_98_2': 'qui tecum moratus est hactenus ualida nunc infirmitate comprimitur uolentes nichilominus etati suae quae iam declinauit in senium necnon longae morae quam in partibus alamanniae dudum traxit benignius prouidere sibi ad lares proprios redeundi licentiam prouidimus concedendam ut saltim natalis soli dulcedine recreatus in suae salutis commodis intendat habilius et culmini nostro deuotius obsequatur',\n",
       " 'pdv_98_3': 'quocirca tibi precipiendo mandamus quatenus eidem magistro g licentiam tribuas ad propria libere redeundi',\n",
       " 'pdv_99_1': 'preteriti laboris angustias quas patientibus hactenus inuida roma suaserat cum uariae uoluntates imperio semper uarientur et actus uiterbiensis nequitia suggerente periculum et laborem de alpibus lombardiae de nouo gustauimus',\n",
       " 'pdv_99_2': 'quibus diuina clementia quae fessis dat requiem licet ipsos per regni refrigerium crederemus reprimere superatis ad curiam prospere reditus nos reduxit incolumes',\n",
       " 'pdv_99_3': 'ubi de uestris renouari successibus expectamus',\n",
       " 'pdv_100_1': 'si casum et causam tuae questionis discutimus satis abbreuiari posset inuectio quam in nos de non scripta tibi dudum ut asseris nouae uictoriae iucunditate componis',\n",
       " 'pdv_101_1': 'speciali quadam inter tot et tanta negotiorum genera quibus pectori nostro continue materia cogitationis infunditur sollicita meditatione pensamus qualiter sopitis inter uos cuiuslibet preteritae dissensionis erroribus pax et iustitia in uobis noua quodammodo plantatione succrescat qualiter etiam uoluntatis uestrae tam prompta deuotio quae quicquid sibi legittimi litigii sinistrae dudum causa superstitionis adduxerat iudicio nostrae prouisionis exposuit et in libra cesareae diffinitionis appendit in gratiae nostrae gremio pocula fauoris inueniat et familiaris aspectus nostri singulari priuilegio potiatur',\n",
       " 'pdv_101_2': 'ecce igitur dilectum filium nostrum f de antiochia ad ciuitatis uestrae regimen cuius inter omnes ciuitates ytaliae attenta nos cura sollicitat et gratiae nostrae sibi plenitudinem specialius acquisiuit diligenti consideratione prehabita duximus destinandum',\n",
       " 'pdv_101_3': 'ex quo manifestis profecto patet indiciis et probabilibus ostenditur argumentis quantae uos imperialis auctoritas dilectionis singularitate prospiciat et quam sinceriori specialitate fauoris statum uestrum pacificum amplectatur',\n",
       " 'pdv_101_4': 'igitur cum humanitatis nostrae clementiam per euidentiora signa uidentibus ostendi non posse lucidius uideamus filium nostrum ad uos tamquam ymaginarium nostrae presentiae destinamus',\n",
       " 'pdv_101_5': 'fuit haec siquidem salubris et tanta prouisio ut dum os de ossibus et caro de carne nostra transmittitur persona nostra per eum inter uos familiariter presentata sic ciuitatis uestrae regimini presit ut prosit uos in bono statu protegat et tranquillo conseruet ac iustitiae copiam quam singulis propinari precipimus petentibus subministret et fideles nostri deuotae florentiae tam grati rectoris tam utilis refloreant nouitate',\n",
       " 'pdv_101_6': 'quem non solum potestate quam ceteris officialibus imperialis impartitur auctoritas uolumus esse contentum sed ut in facinorosos et segniter seu contumaciter se gerentes liberius animaduertere ualeat sibi concedimus uices nostras',\n",
       " 'pdv_101_7': 'uos igitur purae fidei et sincerae deuotionis alumpni presentibus nostrae serenitatis apicibus animati quos irrequisitos id libenter facere pro certo confidimus patris in filio presentiam figurantes ipsum quasi familiaris dilectionis pignus eximium libenter et deuote suscipite et sibi uelut in quem transfudimus plenitudinem potestatis in omnibus tamquam personae nostrae promptis affectibus et hylariter obedite ut deuotionis uestrae constantiam liberalitatis augustae prouisio quae seruitia nouit remunerare fidelium dignis proinde commendationum laudibus prosequatur pro firmo scituri quod obedientiae signa quae sibi deuotio uestra monstrauerit equo fauore gratiae prosequemur ac si personae nostrae personaliter monstraretis',\n",
       " 'pdv_101_8': 'etsi forte quod omnino non credimus contra eum quisquam indeuotionis calcaneum eleuaret transgressores acerbiori iudicio persequemur quam si etiam in personam nostram hoc alicuius uel aliquorum temeritas attemptaret',\n",
       " 'pdv_102_1': 'noster instanter quem in subditorum nostrorum semper emolumenta dirigimus sollicitatur affectus qualiter regni nostri syciliae preclara possessio sicut rerum ubertate uictualium ad dispensationem diuini nominis natura profluente tripudiat sic ad nostrae prouisionis edictum uirorum perfectione scientium fortuna fauente ualeat fecundari',\n",
       " 'pdv_102_2': 'ad quod etsi progenitorum nostrorum nos memoranda prioritas inuitet exemplo dum diuersarum scientiarum doctores dudum in regno comperimus et multos artium beneficio liberalium munimentis prouectos ad ardua quos innata ruditas honoris et gloriae reddidisset indignos sic nos super hiis et priorum tempora reuiuiscere uolumus ut quae per interualla quantalibet quassata uidentur iam passa desidiam sub iuuentutis nostrae primordiis seniliter iuuenescant ac dum fideles nostri regnicolae paratam sibi mensam propositionis inspexerint non solum superuacuum sibi reputent aliena proinde flagitare suffragia sed gloriosum extiment exteros alios ad gratitudinis huiusmodi participium euocare',\n",
       " 'pdv_102_3': 'cumque ciuitatem neapolitanam antiquam utique matrem et domum studii tam marinae uicinitatis habilitas quam terrenae fertilitatis fecunditas reddant utiliter tanto negotio congruentem generale studium in ciuitate ipsa mandauimus reformari ut quam localis amenitas plenitudine rerum gratificat docentibus et addiscentibus undique collecta commoditas efficiat generosam',\n",
       " 'pdv_102_4': 'te igitur quem antiquae fidei prescripta sinceritas et prestita dudum felicis memoriae domino patri nostro grata seruitia nobis efficaciter recommendant de cuius etiam experta scientia probitate cognita et doctrina probata in conspectu nostro iam pluries multorum testimonia claruerunt ad celebranda communis eiusdem festiua sollempnia hylariter prouidimus inuitandum fidelitati tuae precipiendo mandantes quatenus de fauore et gratia nostra securus ad ciuitatem ipsam ob reuerentiam nostrae maiestatis personaliter recturus accedas',\n",
       " 'pdv_102_5': 'et ut certam concipias de gratiae nostrae liberalitate fiduciam firmiter tenere te uolumus quod in aduentu tuo in signum fecundioris auspicii de ualore annuo duodecim unciarum auri tibi faciet nostra munificentia prouideri',\n",
       " 'pdv_103_1': 'deo propitio per quem uiuimus et regnamus cui omnes actus nostros offerimus cui omne quod agimus imputamus in regnum nostrum desideramus multos prudentes et prouidos fieri per scientiarum haustum et seminarium doctrinarum qui facti discreti per studium per obseruationem iuris iusti deo seruiant cui seruiunt omnia et nobis placeant per cultum iustitiae cuius preceptis omnes precipimus obedire',\n",
       " 'pdv_103_2': 'disponimus autem apud neapolim amenissimam ciuitatem doceri artes et cuiuscumque professionis uigere studia ut ieiuni et famelici doctrinarum in ipso regno inueniant unde ipsorum auiditatibus satisfiat neque compellantur ad inuestigandas scientias peregrinas nationes expetere nec in alienis regionibus mendicare',\n",
       " 'pdv_103_3': 'bonum autem hoc rei nostrae publicae profuturum intendimus cum subiectorum commoda speciali quadam affectionis gratia prouidemus quos sicut conuenit eruditos pulcherrima poterit spes fouere et bona plurima promptis animis expectare cum sterilis esse non possit accessio quam nobilitas sequitur cui tribunalia preparantur sequuntur lucra diuitiarum fauor et gratia comparantur',\n",
       " 'pdv_103_4': 'insuper studiosos uiros ad seruitia nostra non sine magnis meritis et laudibus conuocamus secure illis qui discreti fuerunt per instantiam studii iuris et iustitiae regimina committentes',\n",
       " 'pdv_103_5': 'hylares igitur et prompti satis ad professiones quas scolares desiderant animentur quibus ad inhabitandum eumdem locum concedimus ubi rerum copia ubi amplae domus et spatiosae satis et ubi mores ciuium sunt benigni ubi etiam necessaria uitae hominum per terras et maritimas facile transuehuntur quibus per nos ipsos utilitates querimus condiciones disponimus magistros inuestigamus bona promittimus et eis quos dignos uiderimus donaria conferemus',\n",
       " 'pdv_103_6': 'illos siquidem in conspectu suorum parentum ponimus multis laboribus liberamus longis itineribus et quasi peregrinis absoluimus illos tutos facimus ab insidiis predatorum',\n",
       " 'pdv_103_7': 'et qui spoliabantur fortunis suis et rebus longa terrarum spatia peragrantes scolas sues euio dus sumnou ous & sretiicr ous curs bus [bere itece noutre ce gaudeant assecutos de numero autem doctorum quos ibi duximus destinandos mittimus magistrum r de',\n",
       " 'pdv_103_8': 'et',\n",
       " 'pdv_103_9': 'de',\n",
       " 'pdv_103_10': 'iudices fideles nostros ciuilis scientiae professores uiros magnae scientiae notae uirtutis et fidelis experientiae quam nostrae semper exibuerunt et exibent maiestati de quibus sicut de aliquibus regni nostri fidelibus fiduciam gerimus pleniorem',\n",
       " 'pdv_103_11': 'mittimus quoque',\n",
       " 'pdv_103_13': 'et cetera',\n",
       " 'pdv_103_14': 'uolumus igitur et mandamus uobis omnibus qui prouincias regitis quique administrationibus aliquibus presidetis ut haec omnia passim et publice proponatis et iniungatis sub pena personarum et rerum ut nullus scolaris legendi causa exire audeat extra regnum nec infra regnum aliquis audeat addiscere alibi uel docere et qui de regno sunt extra regnum in scolis sub pena predicta eorum parentibus iniungatis ut usque ad festum sancti michaelis nunc proximo reuertantur',\n",
       " 'pdv_103_15': 'condiciones autem quas scolaribus concedimus erunt istae in primis quod in ciuitate predicta erunt doctores et magistri in qualibet facultate',\n",
       " 'pdv_103_16': 'scolares autem undecumque uenerint secure ueniant morando stando et redeundo tam in personis quam in rebus nullam sentientes in aliquo lesionem',\n",
       " 'pdv_103_17': 'hospitium quod melius in ciuitate fuerit scolaribus locabitur pro duarum unciarum auri annua pensione nec ultra extimatio eius ascendet',\n",
       " 'pdv_103_18': 'infra predictam summam et usque ad illam omnia hospitia sub extimatione duorum ciuium et duorum scolarium locabuntur',\n",
       " 'pdv_103_19': 'mutuum fiet scolaribus ab illis qui ad haec fuerint ordinati secundum quod eis necesse fuerit datis libris in pignore et precario restitutis receptis scolaribus fideiussoribus pro eisdem',\n",
       " 'pdv_103_20': 'scolaris uero qui mutuum recipiet iurabit quod de terra aliquatenus non recedet donec precaria restituet uel ab eo mutuum fuerit exolutum uel alias satisfactum fuerit creditori',\n",
       " 'pdv_103_21': 'predicta autem precaria creditoribus non reuocabuntur quamdiu scolares uoluerint in studio permanere',\n",
       " 'pdv_103_22': 'item omnes scolares in ciuilibus sub eisdem doctoribus et magistris debeant conueniri',\n",
       " 'pdv_103_23': 'omnes igitur qui amodo studere uoluerint in aliqua facultate uadant neapolim ad studendum et nullus sit ausus pro scolis extra regnum exire uel infra regnum in aliis locis addiscere uel docere et qui sunt de regno extra regnum in scolis usque ad festum sancti michaelis proximum futurum sine morae dispendio reuertantur',\n",
       " 'pdv_103_24': 'de frumento autem uino carnibus piscibus et aliis quae ad uictum pertinent modum nullum statuimus cum in hiis omnibus habundet prouincia quae uendentur scolaribus secundum quod uenduntur ciuibus el eam per conicatam seminarium pr edd',\n",
       " 'pdv_103_25': '] semina alias sommarium in marg sensualium seminariam pa',\n",
       " 'pdv_104_1': 'sollicitudo continua curas nostras exagitat qualiter regnum nostrum syciliae naturaliter rerum uictualium ubertate fecundum prudentium uirorum copia nostris temporibus artificialiter decoremus ut fideles nostri regnicolae scientiarum fructus quos indesinenter esuriunt per aliena mendicare suffragia non coacti paratam in regno sibi mensam propositionis inueniant et quos ingeniorum natiua fertilitas ad consilia reddit alta perspicuos litterarum scientia faciat eruditos',\n",
       " 'pdv_105_1': 'etsi ad perfectionem studii generalis quod nuper in ciuitate neapolitana prouidimus reformandum particularia studia ubique per regnum mandauerimus interdici nostrae tamen intentionis non fuit sic loca quaelibet depauperare doctoribus ut artis saltim gramaticae rudimenta nouitiis uelut lactantis matris ubera famelicis infantibus precidantur sed ad illos tantum extendi uolumus nostrae serenitatis edictum qui auditoribus suis ruditate deposita in facultatibus aliis ingenia potiora petentibus cibos iam possint scientiae solidos ministrare',\n",
       " 'pdv_105_2': 'eapropter fidelitati tuae precipiendo mandamus quatenus magistris quibuslibet qui per terras iurisdictionis tuae pueros in artis gramaticae primitiis edocent nullam occasione predicta molestiam inferas sed particularia eorum regere studia sine impedimento quolibet patiaris',\n",
       " 'pdv_106_1': 'quantumcumaue sibi litigiosa liguria nostri pars utique laboriosa dominii presentiam nostram uindicet et exhauriat curas nostras inest tamen nobis cura precipua de regni seu uerius domus nostrae quantalibet utilitate tractanda ne dum procellas imperii laboriose componimus aliquid negligenter omittere circa domestica uideamur',\n",
       " 'pdv_106_2': 'nuper itaque non minus utili quam necessaria deliberatione prouidimus quod residentia nostra licet sit baroli discreta per scolas nostris tamen est dispendiosa profectibus et interdum uenientibus remotis ratiocinia posituris est officialibus sumptuosa sicque propterea ne fiscalibus obuiet utilitatibus et priuatis scolas ipsas pro concurrentium utilitate localiter recte prouidimus dirimendas utque cuiuslibet uestrum officium infra decretorum sibi fines iustitiaratuum limitetur',\n",
       " 'pdv_106_3': 'quocirca uestrae fidelitati precipimus quatenus receptis presentibus nostrae serenitatis apicibus uos notarie',\n",
       " 'pdv_106_4': 'et magister',\n",
       " 'pdv_106_5': 'scolam ratiocinii nostri monopoli statuatis moraturi ibidem et officialium iustitiaratus terrae barensis et terrae ydronti ratiocinia recepturi',\n",
       " 'pdv_107_1': 'tanta est bonae fidei et deuotionis probatae constantia tantaque laudabilium efficacia meritorum quam in prouido uiro fratre helia dilecto familiari et fideli nostro semper et utiliter inuenisse meminimus quod ipsum iam fructibus cognoscentes personam suam domesticam nostris seruitiis libenter adicimus et suae circumspectionis consiliis fiducialiter inheremus',\n",
       " 'pdv_107_2': 'cum igitur eumdem fratrem nuper ad partes transmarinas ad presentiam nostram transfretare paratum pro quibusdam arduis excellentiae nostrae negotiis in quorum executione personam eius utilem et necessariam fore censuimus transitu ipso preter suae uoluntatis propositum prouiderimus retrahendum et ipsum licet inuitum quodammodo in curia uestra propterea mandauerimus aliquamdiu moraturum',\n",
       " 'pdv_107_3': 'affinitatem uestram requirimus et rogamus attente mandantes quatenus negotia predicti fratris in partibus ipsis habere uelitis sic efficaciter et utiliter commendata ut dum idem sub protectione nostra consistit eiusdem negotia continua et uotiua suscipiant incrementa nosque uobis propterea qui gratiam dicto fratri faciendam super hoc nobis ascribimus diligentius obligetis ad grates et fratrem eumdem qui famae uestrae uulgaris relator existit deuotiorem faciatis ad uestra seruitia de deuoto',\n",
       " 'pdv_108_1': 'plene scimus nec extraneas testium probationes exquirimus quanta sit erga nostri nominis fastigium augmentata tuae procurationis intentio quantusque successiue refloreat erga culminis nostri fastigia tuae deuotionis affectus dum sicut ipsa rerum experientia docente colligimus quae nostri honoris sunt sollicitus expetis et factus quasi iam nobis de nostrae felicitatis promotione domesticus negotia nostra munifice uel magnifice sed prudenter ubilibet placida cordis et fructuosa operis attentione procuras',\n",
       " 'pdv_108_2': 'ex hoc igitur nos facti iam tibi et tuis quasi per debitum ad commoda quaelibet applicanda beniuoli',\n",
       " 'pdv_108_3': 'et',\n",
       " 'pdv_108_4': 'nuntios tuos uiros prouidos et sollertes ex parte tua et senatus populique romani nuper ad nostram presentiam destinatos gratanter recepimus',\n",
       " 'pdv_108_5': 'qui dum suae legationis officium sollicite diligenter ac prouide coram nostrae serenitatis aspectibus impleuissent ecce super capitulis omnibus quae ipsorum relatio patefacta continuit expediti gratiose per nos ad propria remittuntur',\n",
       " 'pdv_108_6': 'cumque tam nuntii quam cetera quae ex parte tua et romanorum omnium nobis successu temporis offerentur tamquam eorum negotia quae propria gerimus gratissima sensibus nostris accedant circumspectionem tuam de qua toto corde confidimus requirimus et hortamur attente quatenus firmam fabricans in nostrae magnificentiae liberalitate fiduciam sic strenuos actus erga honorem nostrum prudenter accommodes sic industriae laudabile principium laudabilioribus continuationis semper in antea processibus prosequaris ut sollicitudinis opera tanti actoris fulta suffragio erga te et tuos ad effundendam amplissimae dexteram nostrae liberalitatis inuitent',\n",
       " 'pdv_109_1': 'mirati satis et moti quodammodo fuimus unde potuerunt uerba illa deformia conscientiam tuam lesura procedere et tuae mentis stabilis sic subito turbare quietem',\n",
       " 'pdv_109_2': 'sed gauisi multo magis fuimus quod fidei tuae probata sinceritas ad uerba tam friuola flecti non potuit sed quo magis huiusmodi uerba sentis inania eo plus in nostris seruitiis tua firma stat et fixa constantia quam fidelitas incorrupta coadiuuat et pro qua laudabilium operum experimenta perorant et constantiae nostrae puritas testis uidelicet extraneo quolibet delatore sollempnior interpellat',\n",
       " 'pdv_109_3': 'nam quae posset aut deberet dici de nobis aut inesse tibi dubietas cum preter affectionis occultae presagia quae uideri non possunt ad oculum sentis saltem ab experto fiduciam dum negotia nostra tibi secure committimus et tamquam alteri parti nostri corporis fiducialiter inheremus',\n",
       " 'pdv_109_4': 'mnes igitur si quae tibi rancoris preterea forte remanserunt expelle reliquias et dubietatis cuiuslibet abstersa caligine uel rubigine de immutabilis mentis nostrae stabilitate confidas ut sicut erga nos tuae fidei mutare constantiam te non posse confidimus sic erga te gratiae nostrae fauorem posse non dubites uariari',\n",
       " 'pdv_110_1': 'ignominiosi uulgaris nominis uestri fama quae non absque uerecundae maculae nota urbem urbium iam infecit etsi non pontificum suorum senatorum maxime magnatum et uirorum illustrium modernorum debuisset corda ferire dum tantorum nobilium successiua progenies omiserit aure surda ipsius predecessorum urbis nobilem nutrituram',\n",
       " 'pdv_110_2': 'et quidem mater ipsa priscis temporibus fideles lactabat filios nutriebat prouidos receptabat honestos exulabat infidos eiciebat improbos et impios perimebat et sic tantis tunc illustrata luminibus totius mundi regna tributaria erant sibi',\n",
       " 'pdv_110_3': 'mirabilis igitur non satis immo ultra quam dici possit miranda tam excellentissimae urbis cecitas et tantorum ciuium oscuritas oculorum ut qui tam felicium deberetis antecessorum huiusmodi antiquitatis dignissimae uitae morumque sequi uestigia semitis uestrorum laudabilium patrum improuide deuiantes non minus in uestrum quam culminis nostri preiudicium proditores nostros fauorabiliter receptando honorabiliter confouetis',\n",
       " 'pdv_110_4': 'qui ad ipsorum interitum deberetis totis uiribus summo studio hanelare uelut hi qui ab eorum infantia de limo terrae assumpti paterna dilectione nutriti insigniti famosis honoribus et liberalitatis nostrae dextera multis in imperio et regno ditati muneribus prefulgebant percussi telo principis tenebrarum quod oculorum stupescit uisum et auris auditum quod multos multipliciter scandalizat paratis latenter ipsorum in sanguinem gladiis dum nobiscum simul refecti cibo unanimiter conuersarentur in aula facinoroso nequitiae absinthio preconcepto dolose simul et dolorose procurauerant mortem nostram',\n",
       " 'pdv_110_5': 'adnimauertite igitur et uidete romani populi utrum ex collatis beneficiis per nos uobis quibus semper nostrae liberalitatis munificentia uos dotauit uobis tamquam sacri imperii nostri capite tam ingratum meri tum imperiali excellentiae debeatur ut huiusmodi gubernetis nequissimos proditores qui non sine multiplici christianitatis clade nostrum sanguinem utpote romani cesaris catholicae fidei defensoris sic immaniter sitiebant',\n",
       " 'pdv_110_6': 'cumque tam nefandissimi sceleris patratores inter uos de iure consortium habere nequeant uel fauorem ad ipsorum exterminium et confusionem taliter uestra prouidentia procedat quod honoris uestri perpetuam cedat ad gloriam et nostrae magnificentiae ad uindictam',\n",
       " 'pdv_111_1': 'equum hispanum gratanter accepimus ab experto probatum',\n",
       " 'pdv_111_2': 'quem tanto cariorem habemus quanto gratiora sunt munera sacerdotum',\n",
       " 'pdv_112_1': 'geminari uidentur in nobis augmenta congaudii si festinos felicitatis nostrae sucessus ad fidelium nostrorum corda transferimus et in aures uestras precipue quas attentas letitiae nostrae confidimus et ex fidei puritate deuotas nouis tripudiis deriuamus',\n",
       " 'pdv_112_2': 'illo nichilominus affectibus nostris inherente proposito quod haec et alia quae scribimus quaelibet delectaret nos potius uobiscum presentes serenitatis nostrae festa peragere quam interpretis scripturae misterio nuntiare ut et nos uestra uicinitas diutius affectata reficeret et uos nostrae uisionis indubitata placiditas refoueret',\n",
       " 'pdv_112_3': 'sed pro firmo tenentes quod in nobis uelut in populo honorificato sit tanta deuotio quod apud uos celebres nostrae serenitatis euentus localis distantia nullo intercompede minuat nec labentis protractio temporis interdicat ad notitiam uestram perducimus quod licet ex generositate sanguinis qua nos primis componentibus natura dotauit et ex dignitatis officio quae duorum regnorum nos solio gratia diuina prefecit nobis militaris honoris auspicia non deessent quia tamen militiae cingulum quod reuerenda sanxiuit antiquitas nondum serenitas nostra susceperat die',\n",
       " 'pdv_112_4': 'presentis mensis augusti cum sollempnitate tyrocinii latus nostrum eligimus decorandum ut ex hoc etatis nostrae uictoriosa floriditas signa maioris strenuitatis induceret et originalis nobilitatis gratiam renouaret nouae militiae claritudo',\n",
       " 'pdv_112_5': 'qua etiam die ut honoris nostri sollempnia dignis militantium studiorum titulis ornaremus preter celebrata magnificae festiuitatis insigna quae tanti boni iucunditas et personae nostrae magnificentia requirebant ad locum uictoriosi exercitus nostri castra perduximus ut abinde sub felicitatis futurae presagio pace data plene fidelibus contra hostes nostros continuatis gressibus procedamus',\n",
       " 'pdv_113_1': 'dum perfectae deuotionis zelum cuius indissolubili nodo quodam ysabellam consortem nostram carissimam uestrae affinitatis ydemptitas lateri nostro coniunxerat in tenacis memoriae libro perlegimus dum amicitiae purae constantiam quam ad uos et uestros amicabiliter gerimus sollicita meditatione pensamus ad h dilectum filium nostrum nepotem uestrum cuius nomine regem henricum auum uestrum gloriosae memoriae laudabiliter excitamus quem tamquam durabile inter nos pignus amoris fecunda nobis naturae prouisio contulit fauoris nostri gratiam libenter extendimus et gratiae nostrae fauorem libentius propagamus',\n",
       " 'pdv_113_2': 'ecce itaque pro arduis excellentiae nostrae negotiis ad repetendas partes ytalicas tam magnifice quam potenter accincti prefatum henricum sacro fonte baptismatis tripudiali sollempnitate renatum in regno syciliae loco nostri ac uelut uultus et potentiae nostrae speculum relictis sibi consiliariis de quorum consilio toti regno disponat prouida nuper deliberatione prehabita prouidimus dimittendum facto in sollempni curia generali mandato uniuersis regni fidelibus ut eidem quem inter eos uelut ymaginarium personae nostrae relinquimus tamque personae nostrae reuerenter obediant et intendant',\n",
       " 'pdv_113_3': 'de cuius tam longa dilatione baptismatis latere uos nolumus quod ad preces quorumdam amicorum nostrorum de papali curia quos obaudire nescimus et de ipsorum consilio fuerat hucusque dilatum ut in reformatione pacis inter nos et romanam ecclesiam in cuius expectatione diutina nostra sunt et multorum iam uota frustrata eo manifestius signa perpetui et constantis amoris ostenderet quo traderetur sollempnius summo pontifici baptizandus',\n",
       " 'pdv_113_4': 'haec nos profecto uestrae serenitati describimus ut quantum uobis magnificentia nostra placere desideret uestra serenitas parte coniciat et qualiter inter alios affines nostros personam uestram tenerius diligamus argumentis euidentibus apprehendat',\n",
       " 'pdv_114_1': 'generali qua cunctos amplectimur fidei participatione christicolas sed speciali qua uestram diligimus affectione personam inter tot et tanta diuersa curarum genera quae cogitationibus nostris indesinenter occurrunt precipua reddimur anxietate cordis solliciti et affectamus instanter de uobis audire ueridica noua quae placeant et scire plenarie in terrae sanctae subsidium uestrae peregrinationis euentum uelut qui teste supremo iudice semper ipsam amore negotii desiderauimus prosperam et affectione personae semper uotorum conformitate felicem',\n",
       " 'pdv_114_2': 'de cuius etiam aggressione negotii uelut in tam ualida rerum et temporum tempestate tentata res quippe solliciti plena timoris amor quem ad progenitores uestros et uos habuisse suauiter rememoramur illesum timidos nos crebro reddit et multotiens etiam dubitare coegit ne uotis communibus absonum infestis auspiciis exitum sortiretur',\n",
       " 'pdv_114_3': 'inter siquidem anxietates et sollicitudines nostras quas euentus futuri dubietas nostris affectibus ingerebat uolatilis famae garrulitas uariis discussa relatibus superuenit et quae ueritatis utinam uacuas recitationes efficiat clapsis regiae castrum fidelium dudum sancto proposito non sine magnis laboribus et sumptuum profusionibus congregatum in tempestate maris et fluctuum quibus non nisi dominicae potestatis auctoritas imperat colluctatione uentorum asseruit disgregatum',\n",
       " 'pdv_114_4': 'ex quo tanto uehementioris causam turbationis assumpsimus quanto personam uestram prae ceteris mundi regibus et principibus sinceriori charitate diligimus et quanto per id multorum nobiscum uota fidelium intentione suspensa terrae sanctae discidio quae gallicarum uirium tam proximum subsidium expectabat deuotis affectibus condolemus',\n",
       " 'pdv_114_5': 'ista tamen uaria relatione perplexi credere simpliciter loquacis famae relationi noluimus donec super hiis ueritas quae dubietatis huiusmodi turbines abluat nobis lucidior patefiat',\n",
       " 'pdv_114_6': 'propter quod',\n",
       " 'pdv_114_7': 'latorem presentium ut ad nos redeat uestri processus utinam felicis instructus ad uestram presentiam prouidimus destinandum',\n",
       " 'pdv_114_8': 'uellemus nichilominus fluctibus placatis ytalicis uobis esse locorum habilitate uicini et qualitercumque res ipsa se habeat opem non litteras tantum sed alia subsidia uobis nostrae magnificentiae dextera destinare quae tamen in quantum negotiorum et temporum qualitas patitur non minus libenter uobis offerimus quam uobis ipsis aut uni quem cariorem habemus ex nostris filiis presentamus',\n",
       " 'pdv_114_9': 'dilectionem itaque uestram rogamus attente quatenus de statu et continentia uestra ac totius stolii uestri processibus anxia nostrae mentis intrinseca renouetis',\n",
       " 'pdv_115_1': 'semper hactenus ut loquamur ad litteram continua propositi tenacitate firmauimus qualiter uos et uestros quos purae mentis affectione diligimus operis euidentis indiciis honorare possemus',\n",
       " 'pdv_115_2': 'in cuius propositi prosecutione tanto persistimus fortius immo robustius animamur quanto uos crucis negotium in terrae sanctae seruitiis de cuius succursu celeri prae ceteris orbis terrae nobilibus siue principibus precipua nos cura sollicitat tam prudenter quam utiliter assumpsisse uidemus',\n",
       " 'pdv_115_3': 'ad quod uellet personaliter et potenter una uobiscum ad presens teste supremo ludice nostrae potentiae uirtus insurgere ut ubi maxime nostra res agitur tantorum principum societate tam gratifica comitiua suffulti potentia congaudere possemus nisi concepta uel antiquata quin potius papae nostri nequitia tam in hiis quam in aliis prout uniuersalis iam notio publicat nostris desideriis obuiaret uel repugnaret',\n",
       " 'pdv_115_4': 'uellemus nichilominus dum personalia non possumus adiuuamenta porrigere uobis et genti uestrae de suffragiis aliis regni nostri et opulentia magnifice prouidere si caristia uictualium quae in regno nostro iam duobus preteritis annis inualuit et presentem inclusit uoluntati nostrae quam super hoc promptam et paratam offerimus non obstaret',\n",
       " 'pdv_115_5': 'quamquam igitur uobis et uestris ex causis quas diximus nostrae serenitatis affectio non ualuerit sicut amicabiliter uoluit prouidere nichilominus tamen uestra dilectione commoti et tam laudabili commodo persuasi maluimus nobis ipsis et fidelibus nostris regnicolis in ipsa uictualium subtractione deesse quam uobis fidelibus uestris et aliis regni uestri nobilibus qui per regnum nostrum transitum habuerunt in tam utilis et sancti propositi prosecutione deficere in quibus uestris et eorum necessitatibus nostra si posset liberalitas subueniret',\n",
       " 'pdv_115_6': 'nunc etiam ad ostendendum purae deuotionis indicia quam ad uos et uestros semper habuimus et habemus illesam i de',\n",
       " 'pdv_115_7': 'nuntio',\n",
       " 'pdv_115_8': 'comitis tholosani carissimi fratris uestri mille saumas uictualium curiae nostrae necnon et quingentos dextrarios fecimus liberaliter assignari dicto',\n",
       " 'pdv_115_9': 'comiti pro uiagio suo ex parte nostrae celsitudinis presentandos',\n",
       " 'pdv_115_10': 'sibi nichilominus maiestate nostra concessa licentia quae ad opus eiusdem',\n",
       " 'pdv_115_11': 'comitis grassiam in regno nostro libere emere ualeat pro ipsius et familiae suae usibus oportunam',\n",
       " 'pdv_116_1': 'multa sunt quae uobis et uestris libenter placere nos ammonent dum multipliciter hactenus uos et uestros nobis placuisse recolimus et placituros in antea firmiter arbitramur',\n",
       " 'pdv_116_2': 'sed ex hiis debitum tantummodo mutuae dilectionis assumimus ut quibus nos amari prospicimus eos amicabiliter diligamus',\n",
       " 'pdv_116_3': 'unum uerumptamen ad hoc expresse nos excitat et quodammodo necessario nos inuitat quod dudum l illustrem regem francorum et alios filios uestros quos purae mentis affectione diligimus non sine prouidentiae uestrae consilio quo salubriter regnum franciae gubernatur terrae sanctae negotium tam libenter quam utiliter conspicimus assumpsisse',\n",
       " 'pdv_116_4': 'ad prestanda sibi super hoc munificentiae nostrae suffragia tanto libentius inuitamur quanto per id publico bono fidei christianae consulitur quantoque negotium ipsum nos prae ceteris orbis terrae principibus quasi quadam specialitate sollicitat ac etiam super hoc nostrum specialiter interesse uersatur',\n",
       " 'pdv_116_5': 'uellemus etenim teste deo ad prosecutionem tam sancti propositi personaliter nosmetipsos adducere ut qualiter et quantum nos eiusdem negotii cura perangat tantorum principum comitiua suffulti personaliter monstrare possemus',\n",
       " 'pdv_116_6': 'sed concepta iam dudum uel obstinata quin potius papae nostri durities durus christianae sedis antistes cui excidia tot et tanta uix displicent dum eisdem uoluntarius se immiscet prout uniuersalis haec notio publicat et uestrae serenitatis industria sicut pro firmo credimus non ignorat impedimenta continua nostris processibus obicit et expleri nostra desideria non permittit',\n",
       " 'pdv_116_7': 'uellemus nichilominus dum personalia non possumus adiuuamenta porrigere rerum uictualium posse subsidio subuenire nisi caristia uictualium quae duobus iam preteritis annis in regno nostro inualuit et presentem etiam non omisit nostrae prouisionis ordinem quem semper super hoc liberalitas nostra libenter exposuit prepedisset',\n",
       " 'pdv_116_8': 'nec tamen propterea pati potuimus quin uestra et filiorum uestrorum dilectione commoti tamque salubris negotii commodo persuasi uellemus potius nobis ipsis et fidelibus nostris regnicolis in ipsorum uictualium erogatione deficere quam predictis filiis uestris et aliis regni uestri fidelibus qui per se uel nuntios suos per regnum nostrum transitum habuerunt in tam laudabili et felici peregrinatione deesse',\n",
       " 'pdv_116_9': 'nuper etiam uestrorum interuentu precaminum quae nolumus nec nouimus obaudire a comiti pictauiensi filio uestro per',\n",
       " 'pdv_116_10': 'et',\n",
       " 'pdv_116_11': 'nuntios suos mille saumas frumenti et totidem ordei de horreis nostris et sexaginta bonos dextrarios de liberalitatis nostrae munificentia duximus destinandos',\n",
       " 'pdv_116_12': 'concessa sibi nichilominus maiestate nostra licentia quae ad opus eiusdem comitis necessaria quaelibet in regno nostro libere ualeat emere prout suis et familiae suae usibus uiderit oportuna',\n",
       " 'pdv_116_13': 'ad haec profecto quae diximus quae uestra et filiorum uestrorum augmenta respiciunt in quantum negotiorum et temporum qualitas patitur nos in antea uotis ardentibus promptos et beniuolos offeremus',\n",
       " 'pdv_117_1': 'inter alia deuotionis insigna quibus erga progenitores nostros et nos probabiliter hactenus claruistis illud specialiter nostris adhesit affectibus et satis est suauiter memorialibus nostris impressum quod sicut ueridica nuper relatione comperimus excrescente feruore fidei quam in uos pia mater radicauit antiquitas et grata nouitas solidauit ne de morte',\n",
       " 'pdv_117_2': 'magistri',\n",
       " 'pdv_117_3': 'secretarii regni nostri syciliae honoris nostri fastigiis rubigo remaneret iniuriae seu nobis infamiae nubila superessent ad sumendam de ipsius interfectoribus ultionem deuotio uestra non minus audacter quam unanimiter assurrexit',\n",
       " 'pdv_118_1': 'uellemus potius tacere quae loquimur cum sit quodammodo de plus quam ciuili bello materia dum alienae culpae dampnantes infamiam genus nostrum utcumque notabile cernimus et preter uerbalis plagae conuitium quam aliis dampnantes infligimus ex cuiusdam ydemptitatis lege qua iungimur in nobis relinquimus cicatricem',\n",
       " 'pdv_118_2': 'sed ipsius casus instantia suggerente silentia rumpimus et ardui stili misterio henrici primogeniti filii nostri nomen nepotica uobis sorte coniuncti genere prorsus generoso degenerans et processus exponere cogimur ac eiusdem ingratitudinis describere uitium calami pungentis officio quem nonnumquam cuiuslibet nota diffibulat instanter urgemur',\n",
       " 'pdv_118_3': 'est etenim quod ignominiosa relatione describimus in populi conuersus infamiam et quibus uirtutum speculum et morum norma fuisse debuerat nunc ymaginarium uitiorum nunc uulgare ridiculum publice predicatur dum mandata nostra frequentia quibus ipsum ex patris debito sepe pascebamus obaudiens dum honoris et loci quibus in nostra curia fouebatur oblitus dum nec diuersorum more nobilium quibus ex pretorii nostri culmine influitur nec familiaritatis solitae quae ipsum nostri lateris sepe participem faciebat dignitate contentus ad rebelles nostros et hostes quibus potius ut hostis obstare debuerat quibus etiam ipsum ut sicut debitum ab etate receperat sic si qua uirtus in ipso dormiret ex otio armorum exercitio suffragante resurgeret opponere stimulum nostra deliberauerat celsitudo personae propriae fur factus et predo etate succumbente malitiae fugiuitus effugit',\n",
       " 'pdv_118_4': 'et sic datus uulgo ludibrium infectione suorum operum peruersorum cicatrices augusti sanguinis ac regalis infecit',\n",
       " 'pdv_118_5': 'uideat igitur excellentia uestra regia si paternis meritis ista rependere filius si auunculi beneficiis immo patris ista nepos debuit compensare',\n",
       " 'pdv_118_6': 'attendat etiam regalis industria qualis euentus qualisque fidei tam enormis tamque rudis in iuuentute processus monimenta promittat in senio qualis et quantae si uas tenerum tot patris monita tot auunculi beneficia continere non potuit continentiae futurae presagia uetustas temporis prefiguret',\n",
       " 'pdv_118_7': 'ab ipsius denique fructibus manifeste cognoscitur quale fuerit eius preconceptae uoluntatis initium quod tam uilis finis explicuit qualis eius pregnantis propositi rumor extiterit quem partus tam fetidus tam dolosus excludit',\n",
       " 'pdv_118_8': 'ut super hiis igitur mentem uestram quae cum ad utrumlibet sit auditus indifferens sinistris forte relatibus rem aliter posset credere quam ueritas protestatur rumoribus abiectis adulterinis ueritatis scopa mundificet',\n",
       " 'pdv_118_9': 'et',\n",
       " 'pdv_118_10': 'nuntios nostros latores presentium ad uestram presentiam duximus destinandos ut quantae dilectionis iudicia erga eumdem filium nostrum magnificentia nostra semper ostenderit quantum et qualiter ipsum benigne tractauerit quantum per nos et nostros semper extiterit honoratus quam acerrime etiam quam latenter latere nostro et quam turpiter presentiam subripuerit personalem iidem nuntii nostri tamquam eius hactenus in curia nostra continue participes et fideles interpretes status eius regalem animum sufficienter informent',\n",
       " 'pdv_119_1': 'missos nuper ad presentiam nostram prouidos uiros uniuersitatis uestrae legatos gratanter recepimus hylariter uidimus et propositionis eorum uerba pleno collegimus intellectu',\n",
       " 'pdv_119_2': 'quorum industria diligens et intercessio studiosa recte ipsos tantae urbis nuntios fatebatur dum ostendentes altam mittentium uerbo et opere dignitatem coram nobis suae legationis officium prudenter et fideliter impleuerunt',\n",
       " 'pdv_119_3': 'cumque tam ex ipsorum relatibus quam ex ipsa experientia rerum quae quorumlibet testium depositioni preponitur firmiter serenitas nostra comperit quod purum geritis erga nos sinceritatis affectum et honor noster in urbe continuis semper et fructuosis successibus procuratur certos esse uos uolumus quod sic nos delectat generalitatis et singularitatis uestrae promouere compendia sic stabili mente concepimus statum uestrum ubilibet ampliare ut uobis ipsis retinere credentes quicquid in uos honoris et commodi dextera nostrae liberalitatis extendet uel effundet uoluntatem quam erga nos placidam semper habere uos nouimus gratis iugiter inductionibus augeamus',\n",
       " 'pdv_119_4': 'uos igitur uiri fortes et nobiles in quos uires et animos grata proauorum generositas propagauit de potentiae nostrae felicitate confidite et honorem nostrum qui uester est clarorum operum effectibus promouete ut uoluntates nostrae mutuis concretae profectibus sic in nobis uestrorum actuum claritate tripudient quod in uobis de nostrae munificentiae generositate florescant',\n",
       " 'pdv_120_1': 'auditis et intellectis benigne rumoribus illarum partium quos ad nos tua cautela perduxit sollicitudinem tuam generosam fauoris affectione multipliciter propterea commendamus et quia in nostris exercitare seruitiis ea intentione te uolumus ut nobis digna pro meritis premia retributionis obsequiosus expectes deuotionem tuam requirimus et rogamus attente mandantes quatenus circa indaganda diligentissime noua singula quae de partibus ipsis et de aliis ytaliae partibus digna relatu ad notitiam tuam poterunt peruenire statim singulariter et distincte prout incepisti per fideles nuntios tuos excellentiae nostrae studeas intimare ut certificati per te exinde sicut honori nostro conuenit et negotii qualitas exigit super hiis procedere consultius ualeamus',\n",
       " 'pdv_120_2': 'firmiter enim et pro constanti tenere te uolumus quod sic fidem et seruitia tua digne retributionis examine nostra munificentia compensabit ut merito nobis adhesisse te gaudeas et labores omnes quos in te nostris seruitiis subire contigerit reputes ad quietem',\n",
       " 'pdv_121_1': 'scire potest uestrae serenitatis integritas quod cum inter nos et uos uigeat deuotionis affectus uestri honoris augmenta non minus quam propria totis semper desideriis affectamus ad nullius umquam supplicis instantiam mouemur uobis preces uel scripta dirigere per quae forsitan uel famae uestrae minorari preconia uel honoris uestri fastigio detrahi crederemus utpote qui nostris auspiciis adici ratione probabili reputamus quicquid de uestris euentibus in gremio nostrae fortunae succedit',\n",
       " 'pdv_121_2': 'credentes igitur fidelem nostrum dignum nostris apud uos precibus adiuuari dum satis dudum uestris se asserit uacasse seruitiis et uestram meruisse gratiam rogati nuper attente pro eo affectionem uestram requirimus fiducialiter et rogamus quatenus si eius penes uos merita nostro rogatui non obsistant uxorem et filios quos in partibus ipsis habet ipsos ad presens sine impedimento transfretare uestra serenitas patiatur',\n",
       " 'pdv_121_3': 'uel si forsan id exigente qualitate negotii uoluntati uestrae non consonat eumdem paratum uestris inherere seruitiis ne culpae suae grauitas aditum precludat ueniae et reconciliationis unguenta respuat post reatum presentis nostrae hortationis obtentu et nostri amoris intuitu ad uestri fauoris gratiam reuocetis',\n",
       " 'pdv_122_1': 'presentiam tuam pro quibusdam excellentiae nostrae seruitiis utilem reputantes fidelitati tuae precipiendo mandamus quatenus receptis presentibus incontinenti ad curiam nostram festinus accedas in nostris seruitiis moraturus',\n",
       " 'pdv_122_2': 'scriue una persona perché uenga da lui rimanga al suo seruizio',\n",
       " 'pdv_123_1': 'licet',\n",
       " 'pdv_123_2': 'qui in curia nostra moratus est non suis meritis sed fidei et seruitiorum uestrorum intuitu plenae benignitatis affectum nostra maiestas ostenderit et per euidentiam operum nostri fauoris gratiam sibi essemus in antea liberaliter monstrare parati quia tamen idem nuper insani consilii leuitate deductus de curia nostra nobis insciis et inuitis inconsulte discessit',\n",
       " 'pdv_123_3': 'deuotionem uestram requirimus et hortamur attente mandantes quatenus beneuolentiae nostrae fauorem quem ad uos gerimus friuolis suis processibus proponentes si quid idem uobis contra beneuolentiam nostram temeraria forsan oblocutione retulerit deuotionis uestrae constantia de qua stabili mente confidimus suae relationi nullatenus acquiescat sed de liberalitatis nostrae gratia quam ad benemeritos libenter extendimus certam fiduciam uolumus uos habere',\n",
       " 'pdv_124_1': 'tua nuper ad nos littera partim nimiae titulata letitiae quod feliciter agimus sed per totum quasi murmuris obumbrata caligine quod erga te silentio desides uisi fuimus hactenus extitisse peruenit',\n",
       " ...}"
      ]
     },
     "execution_count": 84,
     "metadata": {},
     "output_type": "execute_result"
    }
   ],
   "source": [
    "pdv"
   ]
  },
  {
   "cell_type": "code",
   "execution_count": 54,
   "id": "f67240e0",
   "metadata": {},
   "outputs": [],
   "source": [
    "pdv_word = {}\n",
    "for i in range(len(df)):\n",
    "    for sentence in df['texts'][i]:\n",
    "        pdv_word[ f'pdv_{i+1}_{df[\"texts\"][i].index(sentence)+1}'] = sentence"
   ]
  },
  {
   "cell_type": "code",
   "execution_count": 34,
   "id": "f0b86212",
   "metadata": {},
   "outputs": [],
   "source": [
    "df2 = pd.DataFrame({'guerin_texts':df_guerin['text'],'clean_guerin':df_guerin['text'].apply(clean_text),\n",
    "                   'guerin_stop': df_guerin['text'].apply(clean_text_stopwords)})"
   ]
  },
  {
   "cell_type": "code",
   "execution_count": 35,
   "id": "cb9aadd5",
   "metadata": {},
   "outputs": [
    {
     "data": {
      "text/plain": [
       "['philippus uniuersis cordi habentes condecet inimicorum nequicias impulsus totis conatibus repellendo quietem pacem regni fidelium incolarum eiusdem auxiliante deo precipue mediante subditorum subsidio procurare prouidere mercatores alii subditi mercaturis negociis aliis impediri ualeant uel exponere se periculis quibuscunque notum facimus licet personaliter intendere proponamus cucum uiis modis pluribus exquisitis finaliter deliberato cumcum peritis talibus etet quamplurimum famosis consilio certam procedendi uiam supper prouidimus utilem salubrem dilectis fidelibus s',\n",
       " 'ruppe choardi i',\n",
       " 'uigeri militibus quos pictauensem mittimus senescalliam apperuimus uel alterum senescallo eiusdem senescallie expedire uiderint declarandam uidelicet ueniendo uobis facto uerisimiliter omnes tangit certo numero seruientum armorum uadia seu stipendia ditorum secundum uires facultates eorumdem certum tempus prout duxerint considerato negocio statuendo',\n",
       " 'dantes omnibus subditis presentibus mandatis eisdem commissariis hac parte promptius deuotius pareant intendant cuius rei testimimonium cetera',\n",
       " 'actum parisius festo beati martini anno domini m ccc secundo']"
      ]
     },
     "execution_count": 35,
     "metadata": {},
     "output_type": "execute_result"
    }
   ],
   "source": [
    "df2['guerin_stop'][0] "
   ]
  },
  {
   "cell_type": "code",
   "execution_count": 36,
   "id": "4367be43",
   "metadata": {},
   "outputs": [],
   "source": [
    "column_without_brackets = [[string.replace('[', '').replace(']', '').lstrip().rstrip() for string in sublist] for sublist in df2['clean_guerin']]"
   ]
  },
  {
   "cell_type": "code",
   "execution_count": 37,
   "id": "82c110fc",
   "metadata": {},
   "outputs": [],
   "source": [
    "df2['clean'] = column_without_brackets"
   ]
  },
  {
   "cell_type": "code",
   "execution_count": 38,
   "id": "ddfda851",
   "metadata": {},
   "outputs": [],
   "source": [
    "guerin = {}\n",
    "for i in range(len(df2)):\n",
    "    for sentence in df2['clean'][i]:        \n",
    "        guerin[f'guerin_{i+1}_{df2[\"clean\"][i].index(sentence)+1}'] = sentence"
   ]
  },
  {
   "cell_type": "code",
   "execution_count": 39,
   "id": "0b2cf355",
   "metadata": {},
   "outputs": [],
   "source": [
    "viard = '/home/noe/Documents/2022-2023/ENC/Mémoire/Dataframes/Viard_grams.xlsx'\n",
    "df_viard = pd.read_excel(viard)"
   ]
  },
  {
   "cell_type": "code",
   "execution_count": 40,
   "id": "62e2d467",
   "metadata": {},
   "outputs": [],
   "source": [
    "df3 = pd.DataFrame({'clean_viard':df_viard['text'].apply(clean_text)})"
   ]
  },
  {
   "cell_type": "code",
   "execution_count": 41,
   "id": "99f1343f",
   "metadata": {},
   "outputs": [],
   "source": [
    "viard = {}\n",
    "\n",
    "for i in range(len(df3)):\n",
    "    for sentence in df3['clean_viard'][i]:\n",
    "        viard[f'viard_{i+1}_{df3[\"clean_viard\"][i].index(sentence)+1}'] = sentence"
   ]
  },
  {
   "cell_type": "code",
   "execution_count": 42,
   "id": "7ef2a277",
   "metadata": {},
   "outputs": [],
   "source": [
    "pdv_2 = {key: remove_words(value,stopwords_latin) for key, value in pdv.items()}\n",
    "guerin_2 = {key: remove_words(value,stopwords_latin) for key, value in guerin.items()}"
   ]
  },
  {
   "cell_type": "code",
   "execution_count": 65,
   "id": "0f74cdd9",
   "metadata": {},
   "outputs": [],
   "source": [
    "pdv_words = pd.DataFrame(pdv_2,index=[0])\n",
    "pdv_words = pdv_words.transpose().reset_index()"
   ]
  },
  {
   "cell_type": "code",
   "execution_count": 75,
   "id": "37bf03eb",
   "metadata": {},
   "outputs": [
    {
     "data": {
      "text/plain": [
       "'sed qui christi uicarius diceris et petri successor etiam piscatoris cur accensus furore refugis id pro quo rex omnium induit formam serui'"
      ]
     },
     "execution_count": 75,
     "metadata": {},
     "output_type": "execute_result"
    }
   ],
   "source": [
    "df['clean_PDV'][0][10]"
   ]
  },
  {
   "cell_type": "code",
   "execution_count": 78,
   "id": "42f831c6",
   "metadata": {},
   "outputs": [
    {
     "data": {
      "text/plain": [
       "'iste pater patrum dicitur seruus seruorum dei omni prorsus exclusa iustitia factus est aspis surda admittens romani principis allegata lapis funda iacitur emisit subito uerbum malum omnino reiciens perturbatione consilium scripsi scripsi uociferans respuit uiam pacis'"
      ]
     },
     "execution_count": 78,
     "metadata": {},
     "output_type": "execute_result"
    }
   ],
   "source": [
    "pdv_words[0]"
   ]
  },
  {
   "cell_type": "code",
   "execution_count": 81,
   "id": "10b11cb2",
   "metadata": {},
   "outputs": [
    {
     "data": {
      "text/plain": [
       "'iste pater patrum qui dicitur seruus seruorum dei omni prorsus exclusa iustitia factus est aspis surda non admittens romani principis allegata et uelut lapis qui de funda iacitur sic emisit subito uerbum malum ac uelut omnino reiciens in perturbatione consilium quod scripsi scripsi uociferans respuit uiam pacis'"
      ]
     },
     "execution_count": 81,
     "metadata": {},
     "output_type": "execute_result"
    }
   ],
   "source": [
    "df['clean_PDV'][0]"
   ]
  },
  {
   "cell_type": "code",
   "execution_count": 38,
   "id": "3212b97c",
   "metadata": {},
   "outputs": [],
   "source": [
    "df['pdv_stop'] = df['clean_PDV'].apply(lambda x: [remove_words(sentence, stopwords_latin) for sentence in x])\n",
    "df2['guerin_stop'] = df2['clean_guerin'].apply(lambda x: [remove_words(sentence, stopwords_latin) for sentence in x])\n",
    "df3['viard_stop'] = df3['clean_viard'].apply(lambda x: [remove_words(sentence, stopwords_latin) for sentence in x])"
   ]
  },
  {
   "cell_type": "code",
   "execution_count": 39,
   "id": "372df80d",
   "metadata": {},
   "outputs": [
    {
     "name": "stderr",
     "output_type": "stream",
     "text": [
      "100%|███████████████████████████████████████| 2074/2074 [00:45<00:00, 45.32it/s]\n"
     ]
    }
   ],
   "source": [
    "resultat = {}\n",
    "for key,value in tqdm(pdv_2.items()):\n",
    "    liste = []\n",
    "    for clé, valeur in guerin_2.items():\n",
    "        liste.append(compare_sentences(value,valeur))\n",
    "    resultat[key] = liste"
   ]
  },
  {
   "cell_type": "code",
   "execution_count": 40,
   "id": "793f5810",
   "metadata": {},
   "outputs": [],
   "source": [
    "dataframe = pd.DataFrame(resultat)"
   ]
  },
  {
   "cell_type": "code",
   "execution_count": 41,
   "id": "fa6cf948",
   "metadata": {},
   "outputs": [],
   "source": [
    "identifiant = list(guerin_2.keys())"
   ]
  },
  {
   "cell_type": "code",
   "execution_count": 42,
   "id": "ca533852",
   "metadata": {},
   "outputs": [],
   "source": [
    "dataframe = dataframe.set_index(pd.Index(identifiant))\n",
    "dataframe = dataframe.transpose()"
   ]
  },
  {
   "cell_type": "code",
   "execution_count": 43,
   "id": "509e1600",
   "metadata": {},
   "outputs": [],
   "source": [
    "df_filtered = dataframe[~(dataframe == False).all(axis=1)]"
   ]
  },
  {
   "cell_type": "markdown",
   "id": "98b49630",
   "metadata": {},
   "source": [
    "Les dictionnaires importants c'est pdv_2 et guerin_2. Dedans ils ont les phrases nettoyées, sans les stop_words. C'est grâce à eux que les comparaisons ont été faites. On regarde si les textes sans les stopwords ont au moins 2 mots en commun. Si c'est le cas, on garde les phrases. "
   ]
  },
  {
   "cell_type": "code",
   "execution_count": 44,
   "id": "5b85432e",
   "metadata": {},
   "outputs": [
    {
     "data": {
      "text/plain": [
       "'pdv_1_13'"
      ]
     },
     "execution_count": 44,
     "metadata": {},
     "output_type": "execute_result"
    }
   ],
   "source": [
    "first_row = df_filtered.iloc[[10]]\n",
    "filtered_df = first_row.loc[:, first_row.iloc[0]]\n",
    "filtered_df.index[0]"
   ]
  },
  {
   "cell_type": "code",
   "execution_count": 45,
   "id": "385a578f",
   "metadata": {},
   "outputs": [],
   "source": [
    "phrases = {}\n",
    "for i in range(len(df_filtered)):\n",
    "    row = df_filtered.iloc[[i]]\n",
    "    filtered = row.loc[:, row.iloc[0]]\n",
    "    phrases[filtered.index[0]] = filtered.columns.tolist()"
   ]
  },
  {
   "cell_type": "code",
   "execution_count": 46,
   "id": "29d5d0a1",
   "metadata": {},
   "outputs": [
    {
     "data": {
      "text/plain": [
       "'collegerunt pontifices pharisei consilium unum aduersus principem christianum dominum conuenerunt'"
      ]
     },
     "execution_count": 46,
     "metadata": {},
     "output_type": "execute_result"
    }
   ],
   "source": [
    "sentence1 = pdv_2['pdv_1_1']\n",
    "sentence1"
   ]
  },
  {
   "cell_type": "code",
   "execution_count": 47,
   "id": "9178312e",
   "metadata": {},
   "outputs": [
    {
     "data": {
      "text/plain": [
       "'eciam opponebatur contra delatum minus iuste commisit crimen falsi faciendo scribendo manu propria quoddam protocollum cuiusdam littere quictancie guillelmum ferron clericum passate domino torcio guillelmum poillé ualetum cuiusdam littere obligatorie dictus delatus habebat contra dictum dominum thorcio sex centum florenis auri eciam opponebatur contra dictum delatum minus iuste indebite quamdam litteram falsam fecerat scripserat consignauerat certis contractibus conuencionibus dudum factis iohannem durablea clericum parte una iohannem theobaldi parrochianum beate marie fontiniaco altera dictis litteris multas clausulas obiectiones uiciose speciem falsitatis posuerat ultra materiam contractuum conuencionum huiusmodi dictus delatus contraxerat confecerat signauerat litteram antedictam magnum preiudicium dicti durablea premissa crimen falsi alias iuris penas dampnabiliter incurrendo sigillo uenerabilis discreti uiri decani fontiniaci predictus clericus delatus premissa facienda consilium prebuerat iuuamen'"
      ]
     },
     "execution_count": 47,
     "metadata": {},
     "output_type": "execute_result"
    }
   ],
   "source": [
    "sentence2 = guerin_2['guerin_294_4']\n",
    "sentence2"
   ]
  },
  {
   "cell_type": "code",
   "execution_count": 48,
   "id": "993e6a24",
   "metadata": {},
   "outputs": [],
   "source": [
    "words1 = set(sentence1.split())\n",
    "words2 = set(sentence2.split())"
   ]
  },
  {
   "cell_type": "code",
   "execution_count": 49,
   "id": "65ded9e7",
   "metadata": {},
   "outputs": [
    {
     "data": {
      "text/plain": [
       "['dominum', 'consilium']"
      ]
     },
     "execution_count": 49,
     "metadata": {},
     "output_type": "execute_result"
    }
   ],
   "source": [
    "common_words = words1.intersection(words2)\n",
    "common_words_list = list(common_words)\n",
    "common_words_list"
   ]
  },
  {
   "cell_type": "code",
   "execution_count": 50,
   "id": "6f7211e0",
   "metadata": {},
   "outputs": [],
   "source": [
    "first = df_filtered[df_filtered.index.str.startswith('pdv_1_')]"
   ]
  },
  {
   "cell_type": "code",
   "execution_count": 51,
   "id": "039e17b8",
   "metadata": {},
   "outputs": [],
   "source": [
    "i= 1\n",
    "filtered_dict = {key: value for key, value in phrases.items() if key.startswith(f\"pdv_{1}_\")}\n"
   ]
  },
  {
   "cell_type": "code",
   "execution_count": 52,
   "id": "0c707665",
   "metadata": {},
   "outputs": [],
   "source": [
    "mixed_dict = {}\n",
    "for pdv_index, guerin_indexes in filtered_dict.items():\n",
    "    pdv_sentence = pdv_2.get(pdv_index)\n",
    "    if pdv_sentence is not None:\n",
    "        guerin_sentences = [guerin_2.get(guerin_index) for guerin_index in guerin_indexes]\n",
    "        mixed_dict[pdv_sentence] = guerin_sentences"
   ]
  },
  {
   "cell_type": "code",
   "execution_count": 53,
   "id": "a585b279",
   "metadata": {},
   "outputs": [],
   "source": [
    "new_dict = {}\n",
    "for key in list(mixed_dict.keys()):\n",
    "    for value in mixed_dict.get(key):\n",
    "        \n",
    "        common = []\n",
    "        list_values = []\n",
    "        \n",
    "        words1 = key.split()\n",
    "        words2 = value.split()\n",
    "        \n",
    "        for word in words1:\n",
    "            if word in words2:\n",
    "                common.append(word)\n",
    "        if len(common)==2:\n",
    "            x = distance_index(key,common[0],common[1],max_distance=1)\n",
    "        if x == True:\n",
    "            list_values.append(value)\n",
    "    \n",
    "    new_dict[key] = list_values\n",
    "new_dict = {key: value for key, value in new_dict.items() if value}"
   ]
  },
  {
   "cell_type": "code",
   "execution_count": 54,
   "id": "48edf5ac",
   "metadata": {
    "scrolled": false
   },
   "outputs": [
    {
     "name": "stderr",
     "output_type": "stream",
     "text": [
      "100%|█████████████████████████████████████████| 363/363 [00:13<00:00, 26.41it/s]\n"
     ]
    }
   ],
   "source": [
    "bigrams = {}\n",
    "\n",
    "for i in tqdm(range(363)):\n",
    "    filtered_dict = {key: value for key, value in phrases.items() if key.startswith(f\"pdv_{i+1}_\")}\n",
    "    \n",
    "    mixed_dict = {}\n",
    "    for pdv_index, guerin_indexes in filtered_dict.items():\n",
    "        pdv_sentence = pdv_2.get(pdv_index)\n",
    "        if pdv_sentence is not None:\n",
    "            guerin_sentences = [guerin_2.get(guerin_index) for guerin_index in guerin_indexes]\n",
    "            mixed_dict[pdv_sentence] = guerin_sentences\n",
    "            \n",
    "    new_dict = {}\n",
    "    for key in list(mixed_dict.keys()):\n",
    "        for value in mixed_dict.get(key):\n",
    "\n",
    "            common = []\n",
    "            list_values = []\n",
    "\n",
    "            words1 = key.split()\n",
    "            words2 = value.split()\n",
    "\n",
    "            for word in words1:\n",
    "                if word in words2:\n",
    "                    common.append(word)\n",
    "            if len(common)==2:\n",
    "                x = distance_index(key,common[0],common[1],max_distance=1)\n",
    "            if x == True:\n",
    "                list_values.append(value)\n",
    "\n",
    "        new_dict[key] = list_values\n",
    "    new_dict = {key: value for key, value in new_dict.items() if value}\n",
    "    \n",
    "    bigrams.update(new_dict)"
   ]
  },
  {
   "cell_type": "code",
   "execution_count": 55,
   "id": "f28c8c01",
   "metadata": {},
   "outputs": [],
   "source": [
    "indices = []\n",
    "for i in list(bigrams.keys()):\n",
    "    cle = [key for key in pdv_2 if pdv_2.get(key) == i]\n",
    "    indices.append(cle)"
   ]
  },
  {
   "cell_type": "code",
   "execution_count": 56,
   "id": "b5134519",
   "metadata": {
    "scrolled": true
   },
   "outputs": [
    {
     "name": "stdout",
     "output_type": "stream",
     "text": [
      "sepe enim uix ferus ignis extinguitur morbo cronico salubris sero parabitur medicina  =  dictus perrotus chabesson diffugiebat dictus nicolaus accessisset quandam cauernam speluncam caueam dicebatur dictum perrotum quibusdam aliis complicibus latitasse ibidem foramen dicte spelunce cauee precepisset dicto petro parte dicti senescalli uirtute dicti mandati predictum senescallum facti exiret se prisionarium redderet liberando dicto iohanne existente obside dicto perroto prefertur preceptum sepe sepius instanter fecisset nullo ibidem eidem nicolao respondente assumptis secum nonnullis sociis ui armata prout suo officio incombebat dictam caueam intrare dictum foramen uoluisset plures persone dicta fouea existentes godendardis gladiis fustibus ensibus alias uim introitu deffenderent eidem nicolao inobediendo quamobrem preceptis supradictis reiteratis presertim dictus perrotus inde exirent quem eciam uocari predictum iohannem bodeti suum socium fecisset facere denegantibus renuentibus dictus nicolaus uidens premisso habere poterat essent ibidem inclusi alium locum posset introire ibidem habito sociis aliis ibidem presentibus consilio deliberacione ui ignis bene faceret exire cepit ignem dictum foramen propter filius amicca dicti perroti existentes dicta cauerna fouea exierunt abinde à dictus nicolaus peciit dictus perrotus esset intus dixerunt quodque inde sero precedente recesserat uillam grisseryo cubitum accesserat quamobrem dictus nicolaus comitiua inde recessit\n"
     ]
    }
   ],
   "source": [
    "print(list(bigrams.keys())[1], ' = ', list(bigrams.values())[1][0])"
   ]
  },
  {
   "cell_type": "code",
   "execution_count": 57,
   "id": "1ebfab8f",
   "metadata": {},
   "outputs": [
    {
     "data": {
      "text/plain": [
       "['sepe', 'ignis', 'sero']"
      ]
     },
     "execution_count": 57,
     "metadata": {},
     "output_type": "execute_result"
    }
   ],
   "source": [
    "words1 = list(bigrams.keys())[1].split()\n",
    "words2 = list(bigrams.values())[1][0].split()\n",
    "\n",
    "common = []\n",
    "\n",
    "for word in words1:\n",
    "    if word in words2:\n",
    "        common.append(word)\n",
    "common"
   ]
  },
  {
   "cell_type": "code",
   "execution_count": 58,
   "id": "a411da66",
   "metadata": {},
   "outputs": [],
   "source": [
    "i= 2\n",
    "filtered_dict = {key: value for key, value in phrases.items() if key.startswith(f\"pdv_{i}_\")}\n",
    "mixed_dict = {}\n",
    "for pdv_index, guerin_indexes in filtered_dict.items():\n",
    "    pdv_sentence = pdv_2.get(pdv_index)\n",
    "    if pdv_sentence is not None:\n",
    "        guerin_sentences = [guerin_2.get(guerin_index) for guerin_index in guerin_indexes]\n",
    "        mixed_dict[pdv_sentence] = guerin_sentences"
   ]
  },
  {
   "cell_type": "code",
   "execution_count": 59,
   "id": "fffeaef5",
   "metadata": {},
   "outputs": [],
   "source": [
    "test = {}\n",
    "for clé, valeur in list(mixed_dict.items()):\n",
    "    \n",
    "    x = create_bigrams(clé)\n",
    "    \n",
    "    guerin = []\n",
    "    \n",
    "    for sentence in valeur:\n",
    "        y = create_bigrams(sentence)\n",
    "        for i in x:\n",
    "            if i in y:\n",
    "                guerin.append(sentence)\n",
    "                break\n",
    "    test[clé] = guerin"
   ]
  },
  {
   "cell_type": "code",
   "execution_count": 60,
   "id": "b787f2ea",
   "metadata": {},
   "outputs": [],
   "source": [
    "new_dict = {key: value for key, value in test.items() if value}"
   ]
  },
  {
   "cell_type": "code",
   "execution_count": 61,
   "id": "643be6b1",
   "metadata": {},
   "outputs": [
    {
     "name": "stderr",
     "output_type": "stream",
     "text": [
      "100%|█████████████████████████████████████████| 363/363 [00:20<00:00, 17.54it/s]\n"
     ]
    }
   ],
   "source": [
    "grams = {}\n",
    "\n",
    "for i in tqdm(range(363)):\n",
    "    filtered_dict = {key: value for key, value in phrases.items() if key.startswith(f\"pdv_{i+1}_\")}\n",
    "    \n",
    "    mixed_dict = {}\n",
    "    for pdv_index, guerin_indexes in filtered_dict.items():\n",
    "        pdv_sentence = pdv_2.get(pdv_index)\n",
    "        if pdv_sentence is not None:\n",
    "            guerin_sentences = [guerin_2.get(guerin_index) for guerin_index in guerin_indexes]\n",
    "            mixed_dict[pdv_sentence] = guerin_sentences\n",
    "    test = {}\n",
    "    for clé, valeur in list(mixed_dict.items()):\n",
    "\n",
    "        x = create_bigrams(clé)\n",
    "\n",
    "        guerin = []\n",
    "\n",
    "        for sentence in valeur:\n",
    "            y = create_bigrams(sentence)\n",
    "            for i in x:\n",
    "                if i in y:\n",
    "                    guerin.append(sentence)\n",
    "                    break\n",
    "        test[clé] = guerin\n",
    "    new_dict = {key: value for key, value in test.items() if value}\n",
    "    grams.update(new_dict)"
   ]
  },
  {
   "cell_type": "code",
   "execution_count": 62,
   "id": "dfb07d5c",
   "metadata": {},
   "outputs": [],
   "source": [
    "indice_pdv_sentence_guerin = substitute_keys(grams,pdv_2)"
   ]
  },
  {
   "cell_type": "code",
   "execution_count": 63,
   "id": "a2d67d39",
   "metadata": {},
   "outputs": [],
   "source": [
    "indices_pdv_guerin = transform_sentences_to_keys(indice_pdv_sentence_guerin,guerin_2)\n",
    "indices_pdv_guerin = remove_duplicates_from_dict_values(indices_pdv_guerin)"
   ]
  },
  {
   "cell_type": "code",
   "execution_count": 64,
   "id": "48af20c6",
   "metadata": {},
   "outputs": [],
   "source": [
    "count = {}\n",
    "\n",
    "for key, value in indices_pdv_guerin.items():\n",
    "    count[key] = len(value)"
   ]
  },
  {
   "cell_type": "code",
   "execution_count": 65,
   "id": "23bc9f2a",
   "metadata": {},
   "outputs": [
    {
     "name": "stderr",
     "output_type": "stream",
     "text": [
      "100%|███████████████████████████████████████| 363/363 [00:00<00:00, 5325.53it/s]\n"
     ]
    }
   ],
   "source": [
    "count_sentences = {}\n",
    "#nombre de phrases qui ont au moins un bigramme similaire avec une phrase de guérin. \n",
    "\n",
    "for i in tqdm(range(363)):\n",
    "    filtered_dict = {key: value for key, value in count.items() if key.startswith(f\"pdv_{i+1}_\")}\n",
    "    count_sentences[f'pdv_{i+1}'] = sum(filtered_dict.values())"
   ]
  },
  {
   "cell_type": "code",
   "execution_count": 66,
   "id": "a503c2ad",
   "metadata": {},
   "outputs": [],
   "source": [
    "keys = list(count_sentences.keys())\n",
    "values = list(count_sentences.values())\n",
    "\n",
    "livre_1 = {}\n",
    "livre_2 = {}\n",
    "livre_3 = {}\n",
    "livre_4 = {}\n",
    "livre_5 = {}\n",
    "livre_6 = {}\n",
    "\n",
    "for i in range(len(keys)):\n",
    "    if i < 33:\n",
    "        livre_1[keys[i]] = values[i]\n",
    "    if 32 < i < 92:\n",
    "        livre_2[keys[i]] = values[i]\n",
    "    if 91 < i < 179:\n",
    "        livre_3[keys[i]] = values[i]\n",
    "    if 178 < i < 195:\n",
    "        livre_4[keys[i]] = values[i]\n",
    "    if 194 < i < 331:\n",
    "        livre_5[keys[i]] = values[i]\n",
    "    if 330 < i < 364:\n",
    "        livre_6[keys[i]] = values[i]"
   ]
  },
  {
   "cell_type": "code",
   "execution_count": 67,
   "id": "e33f65d6",
   "metadata": {},
   "outputs": [],
   "source": [
    "livre1 = pd.DataFrame(list(livre_1.items()), columns=['Key', 'Value'])\n",
    "statistics1 = pd.DataFrame(livre1['Value'].describe())\n",
    "\n",
    "livre2 = pd.DataFrame(list(livre_2.items()), columns=['Key', 'Value'])\n",
    "statistics2 = pd.DataFrame(livre2['Value'].describe())\n",
    "\n",
    "livre3 = pd.DataFrame(list(livre_3.items()), columns=['Key', 'Value'])\n",
    "statistics3 = pd.DataFrame(livre3['Value'].describe())\n",
    "\n",
    "livre4 = pd.DataFrame(list(livre_4.items()), columns=['Key', 'Value'])\n",
    "statistics4 = pd.DataFrame(livre4['Value'].describe())\n",
    "\n",
    "livre5 = pd.DataFrame(list(livre_5.items()), columns=['Key', 'Value'])\n",
    "statistics5 = pd.DataFrame(livre5['Value'].describe())\n",
    "\n",
    "livre6 = pd.DataFrame(list(livre_6.items()), columns=['Key', 'Value'])\n",
    "statistics6 = pd.DataFrame(livre6['Value'].describe())"
   ]
  },
  {
   "cell_type": "code",
   "execution_count": 68,
   "id": "e0c1c697",
   "metadata": {},
   "outputs": [],
   "source": [
    "livre1_array = np.array(livre1['Value'].tolist())\n",
    "livre2_array = np.array(livre2['Value'].tolist())\n",
    "livre3_array = np.array(livre3['Value'].tolist())\n",
    "livre4_array = np.array(livre4['Value'].tolist())\n",
    "livre5_array = np.array(livre5['Value'].tolist())\n",
    "livre6_array = np.array(livre6['Value'].tolist())\n",
    "list_livre = [livre1_array,livre2_array,livre3_array,livre4_array,livre5_array,livre6_array]"
   ]
  },
  {
   "cell_type": "code",
   "execution_count": 72,
   "id": "fd59497f",
   "metadata": {},
   "outputs": [
    {
     "data": {
      "text/plain": [
       "Text(0.5, 1.0, 'Nombre de phrases de Guérin dans lesquelles on retrouve au moins un bigram en commun avec Pierre de la Vigne')"
      ]
     },
     "execution_count": 72,
     "metadata": {},
     "output_type": "execute_result"
    },
    {
     "data": {
      "image/png": "[encoded data removed]",
      "text/plain": [
       "<Figure size 1200x900 with 1 Axes>"
      ]
     },
     "metadata": {},
     "output_type": "display_data"
    }
   ],
   "source": [
    "sns.set(style=\"whitegrid\")\n",
    "facecolor = '#eaeaf2'\n",
    "fig, ax = plt.subplots(figsize=(12, 9), facecolor=facecolor)\n",
    "sns.boxplot(data=list_livre, palette=\"Set3\",showmeans=True,\n",
    "            meanprops={\"marker\":\"o\",\n",
    "                       \"markerfacecolor\":\"white\", \n",
    "                       \"markeredgecolor\":\"black\",\n",
    "                      \"markersize\":\"10\"})\n",
    "plt.yscale(\"log\")\n",
    "ax.set_ylabel('Nombres de correspondances de bigrams de mots dans les textes de Guérin', \n",
    "              fontsize=12)\n",
    "custom_labels = ['livre 1','livre 2','livre 3','livre 4','livre 5','livre 6']\n",
    "plt.xticks(range(len(custom_labels)), custom_labels)\n",
    "plt.title('Nombre de phrases de Guérin dans lesquelles on retrouve au moins un bigram en commun avec Pierre de la Vigne')"
   ]
  },
  {
   "cell_type": "code",
   "execution_count": 73,
   "id": "effb0b2c",
   "metadata": {},
   "outputs": [],
   "source": [
    "liste_bigrams = [sum(livre_1.values()),sum(livre_2.values()),sum(livre_3.values()),\n",
    "                     sum(livre_4.values()),sum(livre_5.values()),sum(livre_6.values())]"
   ]
  },
  {
   "cell_type": "code",
   "execution_count": 74,
   "id": "e208784c",
   "metadata": {},
   "outputs": [
    {
     "data": {
      "text/plain": [
       "[1214, 1641, 2260, 113, 5100, 7645]"
      ]
     },
     "execution_count": 74,
     "metadata": {},
     "output_type": "execute_result"
    }
   ],
   "source": [
    "liste_bigrams"
   ]
  },
  {
   "cell_type": "markdown",
   "id": "be1cb6eb",
   "metadata": {},
   "source": [
    "Essai d'une deuxième méthode pour vérifier que les bigrams ça marche."
   ]
  },
  {
   "cell_type": "code",
   "execution_count": 75,
   "id": "52d08291",
   "metadata": {
    "scrolled": true
   },
   "outputs": [],
   "source": [
    "guerin_bigrams = []\n",
    "\n",
    "for i in list(guerin_2.values()):\n",
    "    guerin_bigrams.append(create_bigrams(i))"
   ]
  },
  {
   "cell_type": "code",
   "execution_count": 76,
   "id": "ab99b230",
   "metadata": {},
   "outputs": [],
   "source": [
    "pdv_bigrams = []\n",
    "\n",
    "for i in list(pdv_2.values()):\n",
    "    pdv_bigrams.append(create_bigrams(i))"
   ]
  },
  {
   "cell_type": "code",
   "execution_count": 77,
   "id": "7e210f3e",
   "metadata": {},
   "outputs": [],
   "source": [
    "matches = {}\n",
    "\n",
    "bigrams = pdv_bigrams[0]\n",
    "\n",
    "liste_vide = []\n",
    "\n",
    "for i in bigrams:\n",
    "\n",
    "    for test in guerin_bigrams:\n",
    "        \n",
    "        if i in test:\n",
    "            liste_vide.append(from_bigrams_to_sentence(test))\n",
    "            matches[from_bigrams_to_sentence(bigrams)] = liste_vide"
   ]
  },
  {
   "cell_type": "code",
   "execution_count": 78,
   "id": "d4cf3f60",
   "metadata": {},
   "outputs": [
    {
     "name": "stderr",
     "output_type": "stream",
     "text": [
      "100%|███████████████████████████████████████| 2074/2074 [02:09<00:00, 15.97it/s]\n"
     ]
    }
   ],
   "source": [
    "for value in tqdm(pdv_bigrams):\n",
    "    \n",
    "    comparaison_bi_grams(value)"
   ]
  },
  {
   "cell_type": "code",
   "execution_count": 79,
   "id": "852009c8",
   "metadata": {},
   "outputs": [],
   "source": [
    "un = substitute_keys(matches,pdv_2)"
   ]
  },
  {
   "cell_type": "code",
   "execution_count": 80,
   "id": "c273e2c9",
   "metadata": {},
   "outputs": [],
   "source": [
    "deux = transform_sentences_to_keys(un,guerin_2)\n",
    "deux = remove_duplicates_from_dict_values(deux)"
   ]
  },
  {
   "cell_type": "code",
   "execution_count": 81,
   "id": "20cb81b3",
   "metadata": {},
   "outputs": [],
   "source": [
    "count_2 = {}\n",
    "\n",
    "for key, value in deux.items():\n",
    "    count_2[key] = len(value)"
   ]
  },
  {
   "cell_type": "code",
   "execution_count": 82,
   "id": "768653bb",
   "metadata": {},
   "outputs": [
    {
     "name": "stderr",
     "output_type": "stream",
     "text": [
      "100%|███████████████████████████████████████| 363/363 [00:00<00:00, 5265.78it/s]\n"
     ]
    }
   ],
   "source": [
    "count_sentences_2 = {}\n",
    "#nombre de phrases qui ont au moins un bigramme similaire avec une phrase de guérin. \n",
    "\n",
    "for i in tqdm(range(363)):\n",
    "    filtered_dict = {key: value for key, value in count.items() if key.startswith(f\"pdv_{i+1}_\")}\n",
    "    count_sentences_2[f'pdv_{i+1}'] = sum(filtered_dict.values())"
   ]
  },
  {
   "cell_type": "markdown",
   "id": "9dffd854",
   "metadata": {},
   "source": [
    "trigrams"
   ]
  },
  {
   "cell_type": "code",
   "execution_count": 83,
   "id": "1637ac2e",
   "metadata": {},
   "outputs": [],
   "source": [
    "x = create_trigrams(list(pdv_2.values())[0])"
   ]
  },
  {
   "cell_type": "code",
   "execution_count": 84,
   "id": "1dd0fc36",
   "metadata": {},
   "outputs": [],
   "source": [
    "guerin_trigrams = []\n",
    "\n",
    "for i in list(guerin_2.values()):\n",
    "    guerin_trigrams.append(create_trigrams(i))"
   ]
  },
  {
   "cell_type": "code",
   "execution_count": 85,
   "id": "89d3f888",
   "metadata": {},
   "outputs": [],
   "source": [
    "pdv_trigrams = []\n",
    "\n",
    "for i in list(pdv_2.values()):\n",
    "    pdv_trigrams.append(create_trigrams(i))"
   ]
  },
  {
   "cell_type": "code",
   "execution_count": 86,
   "id": "af83aaa9",
   "metadata": {},
   "outputs": [
    {
     "name": "stderr",
     "output_type": "stream",
     "text": [
      "100%|███████████████████████████████████████| 2074/2074 [01:59<00:00, 17.39it/s]\n"
     ]
    }
   ],
   "source": [
    "for value in tqdm(pdv_trigrams):\n",
    "    \n",
    "    comparaison_trigrams(value)"
   ]
  },
  {
   "cell_type": "code",
   "execution_count": 87,
   "id": "7fe0b506",
   "metadata": {},
   "outputs": [
    {
     "data": {
      "text/plain": [
       "80"
      ]
     },
     "execution_count": 87,
     "metadata": {},
     "output_type": "execute_result"
    }
   ],
   "source": [
    "len(matches_trigrams)"
   ]
  },
  {
   "cell_type": "code",
   "execution_count": 88,
   "id": "803b1bab",
   "metadata": {},
   "outputs": [],
   "source": [
    "un =  substitute_keys(matches_trigrams,pdv_2)"
   ]
  },
  {
   "cell_type": "code",
   "execution_count": 89,
   "id": "ceb6a3aa",
   "metadata": {},
   "outputs": [],
   "source": [
    "deux = transform_sentences_to_keys(un,guerin_2)\n",
    "deux = remove_duplicates_from_dict_values(deux)"
   ]
  },
  {
   "cell_type": "code",
   "execution_count": 90,
   "id": "871fd741",
   "metadata": {},
   "outputs": [],
   "source": [
    "count_trigrams = {}\n",
    "\n",
    "for key, value in deux.items():\n",
    "    count_trigrams[key] = len(value)"
   ]
  },
  {
   "cell_type": "code",
   "execution_count": 91,
   "id": "130c1bb7",
   "metadata": {},
   "outputs": [
    {
     "name": "stderr",
     "output_type": "stream",
     "text": [
      "100%|██████████████████████████████████████| 363/363 [00:00<00:00, 71550.94it/s]\n"
     ]
    }
   ],
   "source": [
    "count_sentences_trigrams = {}\n",
    "#nombre de phrases qui ont au moins un bigramme similaire avec une phrase de guérin. \n",
    "\n",
    "for i in tqdm(range(363)):\n",
    "    filtered_dict = {key: value for key, value in count_trigrams.items() if key.startswith(f\"pdv_{i+1}_\")}\n",
    "    count_sentences_trigrams[f'pdv_{i+1}'] = sum(filtered_dict.values())"
   ]
  },
  {
   "cell_type": "code",
   "execution_count": 92,
   "id": "0085ec0c",
   "metadata": {},
   "outputs": [],
   "source": [
    "keys = list(count_sentences_trigrams.keys())\n",
    "values = list(count_sentences_trigrams.values())\n",
    "\n",
    "livre_1 = {}\n",
    "livre_2 = {}\n",
    "livre_3 = {}\n",
    "livre_4 = {}\n",
    "livre_5 = {}\n",
    "livre_6 = {}\n",
    "\n",
    "for i in range(len(keys)):\n",
    "    if i < 33:\n",
    "        livre_1[keys[i]] = values[i]\n",
    "    if 32 < i < 92:\n",
    "        livre_2[keys[i]] = values[i]\n",
    "    if 91 < i < 179:\n",
    "        livre_3[keys[i]] = values[i]\n",
    "    if 178 < i < 195:\n",
    "        livre_4[keys[i]] = values[i]\n",
    "    if 194 < i < 331:\n",
    "        livre_5[keys[i]] = values[i]\n",
    "    if 330 < i < 364:\n",
    "        livre_6[keys[i]] = values[i]"
   ]
  },
  {
   "cell_type": "code",
   "execution_count": 93,
   "id": "b2839827",
   "metadata": {},
   "outputs": [],
   "source": [
    "livre1 = pd.DataFrame(list(livre_1.items()), columns=['Key', 'Value'])\n",
    "statistics1 = pd.DataFrame(livre1['Value'].describe())\n",
    "\n",
    "livre2 = pd.DataFrame(list(livre_2.items()), columns=['Key', 'Value'])\n",
    "statistics2 = pd.DataFrame(livre2['Value'].describe())\n",
    "\n",
    "livre3 = pd.DataFrame(list(livre_3.items()), columns=['Key', 'Value'])\n",
    "statistics3 = pd.DataFrame(livre3['Value'].describe())\n",
    "\n",
    "livre4 = pd.DataFrame(list(livre_4.items()), columns=['Key', 'Value'])\n",
    "statistics4 = pd.DataFrame(livre4['Value'].describe())\n",
    "\n",
    "livre5 = pd.DataFrame(list(livre_5.items()), columns=['Key', 'Value'])\n",
    "statistics5 = pd.DataFrame(livre5['Value'].describe())\n",
    "\n",
    "livre6 = pd.DataFrame(list(livre_6.items()), columns=['Key', 'Value'])\n",
    "statistics6 = pd.DataFrame(livre6['Value'].describe())"
   ]
  },
  {
   "cell_type": "code",
   "execution_count": 94,
   "id": "25188435",
   "metadata": {},
   "outputs": [],
   "source": [
    "livre1_array = np.array(livre1['Value'].tolist())\n",
    "livre2_array = np.array(livre2['Value'].tolist())\n",
    "livre3_array = np.array(livre3['Value'].tolist())\n",
    "livre4_array = np.array(livre4['Value'].tolist())\n",
    "livre5_array = np.array(livre5['Value'].tolist())\n",
    "livre6_array = np.array(livre6['Value'].tolist())\n",
    "list_livre = [livre1_array,livre2_array,livre3_array,livre4_array,livre5_array,livre6_array]"
   ]
  },
  {
   "cell_type": "code",
   "execution_count": 95,
   "id": "cff4ca13",
   "metadata": {},
   "outputs": [
    {
     "ename": "NameError",
     "evalue": "name 'font_color' is not defined",
     "output_type": "error",
     "traceback": [
      "\u001b[0;31m---------------------------------------------------------------------------\u001b[0m",
      "\u001b[0;31mNameError\u001b[0m                                 Traceback (most recent call last)",
      "\u001b[0;32m/tmp/ipykernel_510974/1994056338.py\u001b[0m in \u001b[0;36m<module>\u001b[0;34m\u001b[0m\n\u001b[1;32m      9\u001b[0m \u001b[0mplt\u001b[0m\u001b[0;34m.\u001b[0m\u001b[0myscale\u001b[0m\u001b[0;34m(\u001b[0m\u001b[0;34m\"log\"\u001b[0m\u001b[0;34m)\u001b[0m\u001b[0;34m\u001b[0m\u001b[0;34m\u001b[0m\u001b[0m\n\u001b[1;32m     10\u001b[0m ax.set_ylabel('Nombres de correspondances de bigrams de mots dans les textes de Guérin', \n\u001b[0;32m---> 11\u001b[0;31m               fontsize=12, color=font_color, **hfont)\n\u001b[0m\u001b[1;32m     12\u001b[0m \u001b[0mcustom_labels\u001b[0m \u001b[0;34m=\u001b[0m \u001b[0;34m[\u001b[0m\u001b[0;34m'livre 1'\u001b[0m\u001b[0;34m,\u001b[0m\u001b[0;34m'livre 2'\u001b[0m\u001b[0;34m,\u001b[0m\u001b[0;34m'livre 3'\u001b[0m\u001b[0;34m,\u001b[0m\u001b[0;34m'livre 4'\u001b[0m\u001b[0;34m,\u001b[0m\u001b[0;34m'livre 5'\u001b[0m\u001b[0;34m,\u001b[0m\u001b[0;34m'livre 6'\u001b[0m\u001b[0;34m]\u001b[0m\u001b[0;34m\u001b[0m\u001b[0;34m\u001b[0m\u001b[0m\n\u001b[1;32m     13\u001b[0m \u001b[0mplt\u001b[0m\u001b[0;34m.\u001b[0m\u001b[0mxticks\u001b[0m\u001b[0;34m(\u001b[0m\u001b[0mrange\u001b[0m\u001b[0;34m(\u001b[0m\u001b[0mlen\u001b[0m\u001b[0;34m(\u001b[0m\u001b[0mcustom_labels\u001b[0m\u001b[0;34m)\u001b[0m\u001b[0;34m)\u001b[0m\u001b[0;34m,\u001b[0m \u001b[0mcustom_labels\u001b[0m\u001b[0;34m)\u001b[0m\u001b[0;34m\u001b[0m\u001b[0;34m\u001b[0m\u001b[0m\n",
      "\u001b[0;31mNameError\u001b[0m: name 'font_color' is not defined"
     ]
    },
    {
     "data": {
      "image/png": "[encoded data removed]",
      "text/plain": [
       "<Figure size 1200x900 with 1 Axes>"
      ]
     },
     "metadata": {},
     "output_type": "display_data"
    }
   ],
   "source": [
    "sns.set(style=\"whitegrid\")\n",
    "facecolor = '#eaeaf2'\n",
    "fig, ax = plt.subplots(figsize=(12, 9), facecolor=facecolor)\n",
    "sns.boxplot(data=list_livre, palette=\"Set3\",showmeans=True,\n",
    "            meanprops={\"marker\":\"o\",\n",
    "                       \"markerfacecolor\":\"white\", \n",
    "                       \"markeredgecolor\":\"black\",\n",
    "                      \"markersize\":\"10\"})\n",
    "plt.yscale(\"log\")\n",
    "ax.set_ylabel('Nombres de correspondances de bigrams de mots dans les textes de Guérin', \n",
    "              fontsize=12, color=font_color, **hfont)\n",
    "custom_labels = ['livre 1','livre 2','livre 3','livre 4','livre 5','livre 6']\n",
    "plt.xticks(range(len(custom_labels)), custom_labels)\n",
    "plt.title('Nombre de phrases de Guérin dans lesquelles on retrouve au moins un bigram en commun avec Pierre de la Vigne')"
   ]
  },
  {
   "cell_type": "code",
   "execution_count": 96,
   "id": "4b7f2da3",
   "metadata": {},
   "outputs": [],
   "source": [
    "liste_trigrams = [sum(livre_1.values()),sum(livre_2.values()),sum(livre_3.values()),\n",
    "                     sum(livre_4.values()),sum(livre_5.values()),sum(livre_6.values())]"
   ]
  },
  {
   "cell_type": "code",
   "execution_count": 97,
   "id": "483855c0",
   "metadata": {},
   "outputs": [
    {
     "data": {
      "text/plain": [
       "[51, 35, 52, 3, 121, 3296]"
      ]
     },
     "execution_count": 97,
     "metadata": {},
     "output_type": "execute_result"
    }
   ],
   "source": [
    "liste_trigrams"
   ]
  },
  {
   "cell_type": "markdown",
   "id": "0e0ae417",
   "metadata": {},
   "source": [
    "quadrigrams"
   ]
  },
  {
   "cell_type": "code",
   "execution_count": 98,
   "id": "5ef6eb07",
   "metadata": {},
   "outputs": [],
   "source": [
    "x = create_quadrigrams(list(pdv_2.values())[0])"
   ]
  },
  {
   "cell_type": "code",
   "execution_count": 99,
   "id": "931960ea",
   "metadata": {},
   "outputs": [],
   "source": [
    "guerin_quadrigrams = []\n",
    "\n",
    "for i in list(guerin_2.values()):\n",
    "    guerin_quadrigrams.append(create_quadrigrams(i))"
   ]
  },
  {
   "cell_type": "code",
   "execution_count": 100,
   "id": "e7b3925e",
   "metadata": {},
   "outputs": [],
   "source": [
    "pdv_quadrigrams = []\n",
    "\n",
    "for i in list(pdv_2.values()):\n",
    "    pdv_quadrigrams.append(create_quadrigrams(i))"
   ]
  },
  {
   "cell_type": "code",
   "execution_count": 102,
   "id": "3fdfb695",
   "metadata": {},
   "outputs": [
    {
     "name": "stderr",
     "output_type": "stream",
     "text": [
      "100%|███████████████████████████████████████| 2074/2074 [01:55<00:00, 17.96it/s]\n"
     ]
    }
   ],
   "source": [
    "for value in tqdm(pdv_quadrigrams):\n",
    "    \n",
    "    comparaison_quadrigrams(value)"
   ]
  },
  {
   "cell_type": "code",
   "execution_count": 103,
   "id": "f82e156e",
   "metadata": {},
   "outputs": [],
   "source": [
    "un =  substitute_keys(matches_quadrigrams,pdv_2)\n",
    "deux = transform_sentences_to_keys(un,guerin_2)\n",
    "deux = remove_duplicates_from_dict_values(deux)"
   ]
  },
  {
   "cell_type": "code",
   "execution_count": 104,
   "id": "c3286ecc",
   "metadata": {},
   "outputs": [],
   "source": [
    "count_quadrigrams = {}\n",
    "\n",
    "for key, value in deux.items():\n",
    "    count_quadrigrams[key] = len(value)"
   ]
  },
  {
   "cell_type": "code",
   "execution_count": 105,
   "id": "f56734bc",
   "metadata": {},
   "outputs": [
    {
     "name": "stderr",
     "output_type": "stream",
     "text": [
      "100%|█████████████████████████████████████| 363/363 [00:00<00:00, 192555.00it/s]\n"
     ]
    }
   ],
   "source": [
    "count_sentences_quadrigrams = {}\n",
    "#nombre de phrases qui ont au moins un bigramme similaire avec une phrase de guérin. \n",
    "\n",
    "for i in tqdm(range(363)):\n",
    "    filtered_dict = {key: value for key, value in count_quadrigrams.items() if key.startswith(f\"pdv_{i+1}_\")}\n",
    "    count_sentences_quadrigrams[f'pdv_{i+1}'] = sum(filtered_dict.values())"
   ]
  },
  {
   "cell_type": "code",
   "execution_count": 106,
   "id": "8c2a1094",
   "metadata": {},
   "outputs": [],
   "source": [
    "keys = list(count_sentences_quadrigrams.keys())\n",
    "values = list(count_sentences_quadrigrams.values())\n",
    "\n",
    "livre_1 = {}\n",
    "livre_2 = {}\n",
    "livre_3 = {}\n",
    "livre_4 = {}\n",
    "livre_5 = {}\n",
    "livre_6 = {}\n",
    "\n",
    "for i in range(len(keys)):\n",
    "    if i < 33:\n",
    "        livre_1[keys[i]] = values[i]\n",
    "    if 32 < i < 92:\n",
    "        livre_2[keys[i]] = values[i]\n",
    "    if 91 < i < 179:\n",
    "        livre_3[keys[i]] = values[i]\n",
    "    if 178 < i < 195:\n",
    "        livre_4[keys[i]] = values[i]\n",
    "    if 194 < i < 331:\n",
    "        livre_5[keys[i]] = values[i]\n",
    "    if 330 < i < 364:\n",
    "        livre_6[keys[i]] = values[i]"
   ]
  },
  {
   "cell_type": "code",
   "execution_count": 107,
   "id": "b6896f2e",
   "metadata": {},
   "outputs": [],
   "source": [
    "livre1 = pd.DataFrame(list(livre_1.items()), columns=['Key', 'Value'])\n",
    "statistics1 = pd.DataFrame(livre1['Value'].describe())\n",
    "\n",
    "livre2 = pd.DataFrame(list(livre_2.items()), columns=['Key', 'Value'])\n",
    "statistics2 = pd.DataFrame(livre2['Value'].describe())\n",
    "\n",
    "livre3 = pd.DataFrame(list(livre_3.items()), columns=['Key', 'Value'])\n",
    "statistics3 = pd.DataFrame(livre3['Value'].describe())\n",
    "\n",
    "livre4 = pd.DataFrame(list(livre_4.items()), columns=['Key', 'Value'])\n",
    "statistics4 = pd.DataFrame(livre4['Value'].describe())\n",
    "\n",
    "livre5 = pd.DataFrame(list(livre_5.items()), columns=['Key', 'Value'])\n",
    "statistics5 = pd.DataFrame(livre5['Value'].describe())\n",
    "\n",
    "livre6 = pd.DataFrame(list(livre_6.items()), columns=['Key', 'Value'])\n",
    "statistics6 = pd.DataFrame(livre6['Value'].describe())"
   ]
  },
  {
   "cell_type": "code",
   "execution_count": 108,
   "id": "73ddefc4",
   "metadata": {},
   "outputs": [],
   "source": [
    "livre1_array = np.array(livre1['Value'].tolist())\n",
    "livre2_array = np.array(livre2['Value'].tolist())\n",
    "livre3_array = np.array(livre3['Value'].tolist())\n",
    "livre4_array = np.array(livre4['Value'].tolist())\n",
    "livre5_array = np.array(livre5['Value'].tolist())\n",
    "livre6_array = np.array(livre6['Value'].tolist())\n",
    "list_livre = [livre1_array,livre2_array,livre3_array,livre4_array,livre5_array,livre6_array]"
   ]
  },
  {
   "cell_type": "code",
   "execution_count": 109,
   "id": "f1053c99",
   "metadata": {},
   "outputs": [
    {
     "ename": "NameError",
     "evalue": "name 'font_color' is not defined",
     "output_type": "error",
     "traceback": [
      "\u001b[0;31m---------------------------------------------------------------------------\u001b[0m",
      "\u001b[0;31mNameError\u001b[0m                                 Traceback (most recent call last)",
      "\u001b[0;32m/tmp/ipykernel_510974/1555308738.py\u001b[0m in \u001b[0;36m<module>\u001b[0;34m\u001b[0m\n\u001b[1;32m      9\u001b[0m \u001b[0;31m#plt.yscale(\"log\")\u001b[0m\u001b[0;34m\u001b[0m\u001b[0;34m\u001b[0m\u001b[0;34m\u001b[0m\u001b[0m\n\u001b[1;32m     10\u001b[0m ax.set_ylabel('Nombres de correspondances de bigrams de mots dans les textes de Guérin', \n\u001b[0;32m---> 11\u001b[0;31m               fontsize=12, color=font_color, **hfont)\n\u001b[0m\u001b[1;32m     12\u001b[0m \u001b[0mcustom_labels\u001b[0m \u001b[0;34m=\u001b[0m \u001b[0;34m[\u001b[0m\u001b[0;34m'livre 1'\u001b[0m\u001b[0;34m,\u001b[0m\u001b[0;34m'livre 2'\u001b[0m\u001b[0;34m,\u001b[0m\u001b[0;34m'livre 3'\u001b[0m\u001b[0;34m,\u001b[0m\u001b[0;34m'livre 4'\u001b[0m\u001b[0;34m,\u001b[0m\u001b[0;34m'livre 5'\u001b[0m\u001b[0;34m,\u001b[0m\u001b[0;34m'livre 6'\u001b[0m\u001b[0;34m]\u001b[0m\u001b[0;34m\u001b[0m\u001b[0;34m\u001b[0m\u001b[0m\n\u001b[1;32m     13\u001b[0m \u001b[0mplt\u001b[0m\u001b[0;34m.\u001b[0m\u001b[0mxticks\u001b[0m\u001b[0;34m(\u001b[0m\u001b[0mrange\u001b[0m\u001b[0;34m(\u001b[0m\u001b[0mlen\u001b[0m\u001b[0;34m(\u001b[0m\u001b[0mcustom_labels\u001b[0m\u001b[0;34m)\u001b[0m\u001b[0;34m)\u001b[0m\u001b[0;34m,\u001b[0m \u001b[0mcustom_labels\u001b[0m\u001b[0;34m)\u001b[0m\u001b[0;34m\u001b[0m\u001b[0;34m\u001b[0m\u001b[0m\n",
      "\u001b[0;31mNameError\u001b[0m: name 'font_color' is not defined"
     ]
    },
    {
     "data": {
      "image/png": "[encoded data removed]",
      "text/plain": [
       "<Figure size 1200x900 with 1 Axes>"
      ]
     },
     "metadata": {},
     "output_type": "display_data"
    }
   ],
   "source": [
    "sns.set(style=\"whitegrid\")\n",
    "facecolor = '#eaeaf2'\n",
    "fig, ax = plt.subplots(figsize=(12, 9), facecolor=facecolor)\n",
    "sns.boxplot(data=list_livre, palette=\"Set3\",showmeans=True,\n",
    "            meanprops={\"marker\":\"o\",\n",
    "                       \"markerfacecolor\":\"white\", \n",
    "                       \"markeredgecolor\":\"black\",\n",
    "                      \"markersize\":\"10\"})\n",
    "#plt.yscale(\"log\")\n",
    "ax.set_ylabel('Nombres de correspondances de bigrams de mots dans les textes de Guérin', \n",
    "              fontsize=12, color=font_color, **hfont)\n",
    "custom_labels = ['livre 1','livre 2','livre 3','livre 4','livre 5','livre 6']\n",
    "plt.xticks(range(len(custom_labels)), custom_labels)\n",
    "plt.title('Nombre de phrases de Guérin dans lesquelles on retrouve au moins un bigram en commun avec Pierre de la Vigne')"
   ]
  },
  {
   "cell_type": "code",
   "execution_count": 111,
   "id": "5cc0c88c",
   "metadata": {},
   "outputs": [],
   "source": [
    "liste_quadrigrams = [sum(livre_1.values()),sum(livre_2.values()),sum(livre_3.values()),\n",
    "                     sum(livre_4.values()),sum(livre_5.values()),sum(livre_6.values())]"
   ]
  },
  {
   "cell_type": "code",
   "execution_count": 112,
   "id": "43e2e49d",
   "metadata": {},
   "outputs": [
    {
     "data": {
      "text/plain": [
       "[0, 4, 7, 0, 35, 1154]"
      ]
     },
     "execution_count": 112,
     "metadata": {},
     "output_type": "execute_result"
    }
   ],
   "source": [
    "liste_quadrigrams"
   ]
  },
  {
   "cell_type": "markdown",
   "id": "6791871b",
   "metadata": {},
   "source": [
    "5-grams"
   ]
  },
  {
   "cell_type": "code",
   "execution_count": 113,
   "id": "73130275",
   "metadata": {},
   "outputs": [],
   "source": [
    "guerin_quintigrams = []\n",
    "\n",
    "for i in list(guerin_2.values()):\n",
    "    guerin_quintigrams.append(create_quintigrams(i))"
   ]
  },
  {
   "cell_type": "code",
   "execution_count": 114,
   "id": "a0db0263",
   "metadata": {},
   "outputs": [],
   "source": [
    "pdv_quintigrams = []\n",
    "\n",
    "for i in list(pdv_2.values()):\n",
    "    pdv_quintigrams.append(create_quintigrams(i))"
   ]
  },
  {
   "cell_type": "code",
   "execution_count": 115,
   "id": "3ead8124",
   "metadata": {},
   "outputs": [
    {
     "name": "stderr",
     "output_type": "stream",
     "text": [
      "100%|███████████████████████████████████████| 2074/2074 [02:05<00:00, 16.53it/s]\n"
     ]
    }
   ],
   "source": [
    "for value in tqdm(pdv_quintigrams):\n",
    "    \n",
    "    comparaison_quintigrams(value)"
   ]
  },
  {
   "cell_type": "code",
   "execution_count": 116,
   "id": "b690a968",
   "metadata": {},
   "outputs": [],
   "source": [
    "un =  substitute_keys(matches_quintigrams,pdv_2)\n",
    "deux = transform_sentences_to_keys(un,guerin_2)\n",
    "deux = remove_duplicates_from_dict_values(deux)"
   ]
  },
  {
   "cell_type": "code",
   "execution_count": 117,
   "id": "c738e550",
   "metadata": {},
   "outputs": [],
   "source": [
    "count_quintigrams = {}\n",
    "\n",
    "for key, value in deux.items():\n",
    "    count_quintigrams[key] = len(value)"
   ]
  },
  {
   "cell_type": "code",
   "execution_count": 118,
   "id": "0ec0528d",
   "metadata": {},
   "outputs": [
    {
     "data": {
      "text/plain": [
       "{'pdv_337_3': 258, 'pdv_339_2': 258, 'pdv_342_4': 258, 'pdv_356_2': 258}"
      ]
     },
     "execution_count": 118,
     "metadata": {},
     "output_type": "execute_result"
    }
   ],
   "source": [
    "count_quintigrams "
   ]
  },
  {
   "cell_type": "code",
   "execution_count": 119,
   "id": "dca7849a",
   "metadata": {},
   "outputs": [
    {
     "name": "stderr",
     "output_type": "stream",
     "text": [
      "100%|█████████████████████████████████████| 363/363 [00:00<00:00, 423278.39it/s]\n"
     ]
    }
   ],
   "source": [
    "count_sentences_quintigrams = {}\n",
    "#nombre de phrases qui ont au moins un bigramme similaire avec une phrase de guérin. \n",
    "\n",
    "for i in tqdm(range(363)):\n",
    "    filtered_dict = {key: value for key, value in count_quintigrams.items() if key.startswith(f\"pdv_{i+1}_\")}\n",
    "    count_sentences_quintigrams[f'pdv_{i+1}'] = sum(filtered_dict.values())"
   ]
  },
  {
   "cell_type": "code",
   "execution_count": 120,
   "id": "33b9629f",
   "metadata": {},
   "outputs": [],
   "source": [
    "keys = list(count_sentences_quintigrams.keys())\n",
    "values = list(count_sentences_quintigrams.values())\n",
    "\n",
    "livre_1 = {}\n",
    "livre_2 = {}\n",
    "livre_3 = {}\n",
    "livre_4 = {}\n",
    "livre_5 = {}\n",
    "livre_6 = {}\n",
    "\n",
    "for i in range(len(keys)):\n",
    "    if i < 33:\n",
    "        livre_1[keys[i]] = values[i]\n",
    "    if 32 < i < 92:\n",
    "        livre_2[keys[i]] = values[i]\n",
    "    if 91 < i < 179:\n",
    "        livre_3[keys[i]] = values[i]\n",
    "    if 178 < i < 195:\n",
    "        livre_4[keys[i]] = values[i]\n",
    "    if 194 < i < 331:\n",
    "        livre_5[keys[i]] = values[i]\n",
    "    if 330 < i < 364:\n",
    "        livre_6[keys[i]] = values[i]"
   ]
  },
  {
   "cell_type": "code",
   "execution_count": 121,
   "id": "b8661ee2",
   "metadata": {},
   "outputs": [],
   "source": [
    "livre1 = pd.DataFrame(list(livre_1.items()), columns=['Key', 'Value'])\n",
    "statistics1 = pd.DataFrame(livre1['Value'].describe())\n",
    "\n",
    "livre2 = pd.DataFrame(list(livre_2.items()), columns=['Key', 'Value'])\n",
    "statistics2 = pd.DataFrame(livre2['Value'].describe())\n",
    "\n",
    "livre3 = pd.DataFrame(list(livre_3.items()), columns=['Key', 'Value'])\n",
    "statistics3 = pd.DataFrame(livre3['Value'].describe())\n",
    "\n",
    "livre4 = pd.DataFrame(list(livre_4.items()), columns=['Key', 'Value'])\n",
    "statistics4 = pd.DataFrame(livre4['Value'].describe())\n",
    "\n",
    "livre5 = pd.DataFrame(list(livre_5.items()), columns=['Key', 'Value'])\n",
    "statistics5 = pd.DataFrame(livre5['Value'].describe())\n",
    "\n",
    "livre6 = pd.DataFrame(list(livre_6.items()), columns=['Key', 'Value'])\n",
    "statistics6 = pd.DataFrame(livre6['Value'].describe())"
   ]
  },
  {
   "cell_type": "code",
   "execution_count": 122,
   "id": "925c797b",
   "metadata": {},
   "outputs": [],
   "source": [
    "livre1_array = np.array(livre1['Value'].tolist())\n",
    "livre2_array = np.array(livre2['Value'].tolist())\n",
    "livre3_array = np.array(livre3['Value'].tolist())\n",
    "livre4_array = np.array(livre4['Value'].tolist())\n",
    "livre5_array = np.array(livre5['Value'].tolist())\n",
    "livre6_array = np.array(livre6['Value'].tolist())\n",
    "list_livre = [livre1_array,livre2_array,livre3_array,livre4_array,livre5_array,livre6_array]"
   ]
  },
  {
   "cell_type": "code",
   "execution_count": null,
   "id": "c982f155",
   "metadata": {},
   "outputs": [],
   "source": [
    "sns.set(style=\"whitegrid\")\n",
    "facecolor = '#eaeaf2'\n",
    "fig, ax = plt.subplots(figsize=(12, 9), facecolor=facecolor)\n",
    "sns.boxplot(data=list_livre, palette=\"Set3\",showmeans=True,\n",
    "            meanprops={\"marker\":\"o\",\n",
    "                       \"markerfacecolor\":\"white\", \n",
    "                       \"markeredgecolor\":\"black\",\n",
    "                      \"markersize\":\"10\"})\n",
    "#plt.yscale(\"log\")\n",
    "ax.set_ylabel('Nombres de correspondances de bigrams de mots dans les textes de Guérin', \n",
    "              fontsize=12, color=font_color, **hfont)\n",
    "custom_labels = ['livre 1','livre 2','livre 3','livre 4','livre 5','livre 6']\n",
    "plt.xticks(range(len(custom_labels)), custom_labels)\n",
    "plt.title('Nombre de phrases de Guérin dans lesquelles on retrouve au moins un bigram en commun avec Pierre de la Vigne')"
   ]
  },
  {
   "cell_type": "code",
   "execution_count": 123,
   "id": "bf798411",
   "metadata": {},
   "outputs": [],
   "source": [
    "liste_quintigrams = [sum(livre_1.values()),sum(livre_2.values()),sum(livre_3.values()),\n",
    "                     sum(livre_4.values()),sum(livre_5.values()),sum(livre_6.values())]"
   ]
  },
  {
   "cell_type": "code",
   "execution_count": 124,
   "id": "195af305",
   "metadata": {},
   "outputs": [],
   "source": [
    "data = [liste_bigrams,liste_trigrams,liste_quadrigrams,liste_quintigrams]\n",
    "\n",
    "columns = ('livre 1', 'livre 2', 'livre 3', 'livre 4', 'livre 5', 'livre 6')"
   ]
  },
  {
   "cell_type": "code",
   "execution_count": 127,
   "id": "f07ddb5a",
   "metadata": {},
   "outputs": [
    {
     "data": {
      "text/plain": [
       "[1214, 1641, 2260, 113, 5100, 7645]"
      ]
     },
     "execution_count": 127,
     "metadata": {},
     "output_type": "execute_result"
    }
   ],
   "source": [
    "liste_bigrams"
   ]
  },
  {
   "cell_type": "code",
   "execution_count": 125,
   "id": "444c6007",
   "metadata": {},
   "outputs": [
    {
     "data": {
      "image/png": "[encoded data removed]",
      "text/plain": [
       "<Figure size 1500x900 with 1 Axes>"
      ]
     },
     "metadata": {},
     "output_type": "display_data"
    }
   ],
   "source": [
    "sns.set(style=\"whitegrid\")\n",
    "facecolor = '#eaeaf2'\n",
    "data = data\n",
    "\n",
    "columns = ('livre 1', 'livre 2', 'livre 3', 'livre 4', 'livre 5', 'livre 6')\n",
    "rows = [x for x in ('quinti-grams', 'quadri-grams', 'tri-grams', 'bi-grams')\n",
    "]\n",
    "\n",
    "plt.figure(figsize=(15,9))\n",
    "\n",
    "values = np.arange(0, 10001, 2000)\n",
    "value_increment = 2000\n",
    "\n",
    "# Get some pastel shades for the colors\n",
    "colors = plt.cm.tab20c(np.linspace(0, 1, len(rows)))\n",
    "n_rows = len(data)\n",
    "\n",
    "index = np.arange(len(columns)) + 0.3\n",
    "bar_width = 0.4\n",
    "\n",
    "# Initialize the vertical-offset for the stacked bar chart.\n",
    "y_offset = np.zeros(len(columns))\n",
    "\n",
    "# Plot bars and create text labels for the table\n",
    "cell_text = []\n",
    "for row in range(n_rows):\n",
    "    plt.bar(index, data[row], bar_width, bottom=y_offset, color=colors[row])\n",
    "    y_offset = y_offset + data[row]\n",
    "    cell_text.append(['%d' % x for x in data[row]])\n",
    "\n",
    "# Reverse colors and text labels to display the last value at the top.\n",
    "colors = colors[::-1]\n",
    "cell_text.reverse()\n",
    "\n",
    "# Add a table at the bottom of the axes\n",
    "the_table = plt.table(cellText=cell_text,\n",
    "                      rowLabels=rows,\n",
    "                      rowColours=colors,\n",
    "                      colLabels=columns,\n",
    "                      loc='bottom')\n",
    "\n",
    "# Adjust layout to make room for the table:\n",
    "plt.subplots_adjust(left=0.2, bottom=0.2)\n",
    "\n",
    "plt.ylabel(f\"Loss in ${value_increment}'s\")\n",
    "\n",
    "plt.yticks(values, ['%d' % val for val in values])\n",
    "plt.xticks([])\n",
    "plt.title('A')\n",
    "\n",
    "\n",
    "plt.show()\n"
   ]
  }
 ],
 "metadata": {
  "kernelspec": {
   "display_name": "Python 3 (ipykernel)",
   "language": "python",
   "name": "python3"
  },
  "language_info": {
   "codemirror_mode": {
    "name": "ipython",
    "version": 3
   },
   "file_extension": ".py",
   "mimetype": "text/x-python",
   "name": "python",
   "nbconvert_exporter": "python",
   "pygments_lexer": "ipython3",
   "version": "3.9.7"
  }
 },
 "nbformat": 4,
 "nbformat_minor": 5
}

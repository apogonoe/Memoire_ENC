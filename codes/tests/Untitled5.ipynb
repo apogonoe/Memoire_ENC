{
 "cells": [
  {
   "cell_type": "code",
   "execution_count": 1,
   "id": "13454283",
   "metadata": {},
   "outputs": [],
   "source": [
    "import numpy as np\n",
    "import pandas as pd\n",
    "import os\n",
    "import re\n",
    "from tqdm import tqdm\n",
    "import ast\n",
    "import scipy.cluster.hierarchy as shc\n",
    "from scipy.spatial.distance import pdist, squareform\n",
    "import matplotlib.pyplot as plt\n",
    "%matplotlib inline\n",
    "import seaborn as sns\n",
    "import numpy as np\n",
    "from IPython.display import Markdown\n",
    "from collections import Counter\n",
    "from fonctions import *"
   ]
  },
  {
   "cell_type": "markdown",
   "id": "dd5ba711",
   "metadata": {},
   "source": [
    "# lemmes"
   ]
  },
  {
   "cell_type": "code",
   "execution_count": 2,
   "id": "721fadc9",
   "metadata": {},
   "outputs": [],
   "source": [
    "os.chdir('/home/noe/Documents/2022-2023/ENC/Mémoire/dictionnaires_lemmes/')"
   ]
  },
  {
   "cell_type": "code",
   "execution_count": 3,
   "id": "af9973f9",
   "metadata": {},
   "outputs": [],
   "source": [
    "df = pd.read_excel('pdv_lemma.xlsx')\n",
    "df.pop('Unnamed: 0')\n",
    "\n",
    "df2 = pd.read_excel('guerin_lemma.xlsx')\n",
    "df2.pop('Unnamed: 0')\n",
    "\n",
    "pdv_lemma = df.set_index('index')[0].to_dict()\n",
    "guerin_lemma = df2.set_index('index')[0].to_dict()"
   ]
  },
  {
   "cell_type": "code",
   "execution_count": 4,
   "id": "2f6a3c7d",
   "metadata": {},
   "outputs": [
    {
     "data": {
      "text/plain": [
       "'match_bi = {}\\n\\nfor i in tqdm(list(pdv_lemma.keys())):\\n    big = create_bigrams(pdv_lemma.get(i))\\n    correspondance = []\\n    lesgrams = []\\n\\n    for key in list(guerin_lemma.keys()):\\n        liste_bigrams = create_bigrams(guerin_lemma.get(key))\\n        for bigram in big:\\n            if bigram in liste_bigrams:\\n                correspondance.append(key)\\n                lesgrams.append(bigram)\\n                break\\n                \\n    match_bi[i] = correspondance\\ndelete_empty_values(match_bi)\\n'"
      ]
     },
     "execution_count": 4,
     "metadata": {},
     "output_type": "execute_result"
    }
   ],
   "source": [
    "'''match_bi = {}\n",
    "\n",
    "for i in tqdm(list(pdv_lemma.keys())):\n",
    "    big = create_bigrams(pdv_lemma.get(i))\n",
    "    correspondance = []\n",
    "    lesgrams = []\n",
    "\n",
    "    for key in list(guerin_lemma.keys()):\n",
    "        liste_bigrams = create_bigrams(guerin_lemma.get(key))\n",
    "        for bigram in big:\n",
    "            if bigram in liste_bigrams:\n",
    "                correspondance.append(key)\n",
    "                lesgrams.append(bigram)\n",
    "                break\n",
    "                \n",
    "    match_bi[i] = correspondance\n",
    "delete_empty_values(match_bi)\n",
    "'''"
   ]
  },
  {
   "cell_type": "code",
   "execution_count": 5,
   "id": "e0ba2ce2",
   "metadata": {},
   "outputs": [
    {
     "data": {
      "text/plain": [
       "'pdv = []\\n\\nfor idx in list(match_bi.keys()):\\n    pdv.append(pdv_lemma.get(idx))\\n    \\nguerin = []\\n\\nfor liste in list(match_bi.values()):\\n    sentence = []\\n    for value in liste:\\n        sentence.append(guerin_lemma.get(value))\\n    guerin.append(sentence)'"
      ]
     },
     "execution_count": 5,
     "metadata": {},
     "output_type": "execute_result"
    }
   ],
   "source": [
    "'''pdv = []\n",
    "\n",
    "for idx in list(match_bi.keys()):\n",
    "    pdv.append(pdv_lemma.get(idx))\n",
    "    \n",
    "guerin = []\n",
    "\n",
    "for liste in list(match_bi.values()):\n",
    "    sentence = []\n",
    "    for value in liste:\n",
    "        sentence.append(guerin_lemma.get(value))\n",
    "    guerin.append(sentence)'''"
   ]
  },
  {
   "cell_type": "code",
   "execution_count": 6,
   "id": "7a165914",
   "metadata": {},
   "outputs": [
    {
     "data": {
      "text/plain": [
       "'sentences = dict(zip(pdv,guerin))'"
      ]
     },
     "execution_count": 6,
     "metadata": {},
     "output_type": "execute_result"
    }
   ],
   "source": [
    "'''sentences = dict(zip(pdv,guerin))'''"
   ]
  },
  {
   "cell_type": "code",
   "execution_count": 7,
   "id": "28e2c2a0",
   "metadata": {},
   "outputs": [
    {
     "data": {
      "text/plain": [
       "'list(sentences.items())[0][0]'"
      ]
     },
     "execution_count": 7,
     "metadata": {},
     "output_type": "execute_result"
    }
   ],
   "source": [
    "'''list(sentences.items())[0][0]'''"
   ]
  },
  {
   "cell_type": "markdown",
   "id": "8d3bdf74",
   "metadata": {},
   "source": [
    "# mots"
   ]
  },
  {
   "cell_type": "markdown",
   "id": "da5d3acd",
   "metadata": {},
   "source": [
    "## fonctions"
   ]
  },
  {
   "cell_type": "markdown",
   "id": "b7975407",
   "metadata": {},
   "source": [
    "## code"
   ]
  },
  {
   "cell_type": "code",
   "execution_count": 8,
   "id": "eaeec617",
   "metadata": {},
   "outputs": [],
   "source": [
    "file = '/home/noe/Documents/2022-2023/ENC/Mémoire/Dataframes/PDV_grams.xlsx'\n",
    "guerin = '/home/noe/Documents/2022-2023/ENC/Mémoire/Dataframes/Guerin_grams.xlsx'"
   ]
  },
  {
   "cell_type": "code",
   "execution_count": 9,
   "id": "14b2c1de",
   "metadata": {},
   "outputs": [],
   "source": [
    "os.chdir('/home/noe/Documents/2022-2023/ENC/Mémoire/Comparaison_de_mots/')"
   ]
  },
  {
   "cell_type": "code",
   "execution_count": 10,
   "id": "8068ab90",
   "metadata": {},
   "outputs": [],
   "source": [
    "df_pdv = pd.read_excel(file)\n",
    "df_guerin = pd.read_excel(guerin)"
   ]
  },
  {
   "cell_type": "code",
   "execution_count": 11,
   "id": "a312873d",
   "metadata": {},
   "outputs": [],
   "source": [
    "df = pd.DataFrame({'texts':df_pdv['textes'],'clean_PDV': df_pdv['textes'].apply(clean_text)})\n",
    "\n",
    "pdv = {}\n",
    "for i in range(len(df)):\n",
    "    for sentence in df['clean_PDV'][i]:\n",
    "        pdv[f'pdv_{i+1}_{df[\"clean_PDV\"][i].index(sentence)+1}'] = sentence"
   ]
  },
  {
   "cell_type": "code",
   "execution_count": 12,
   "id": "49dcf8a6",
   "metadata": {},
   "outputs": [],
   "source": [
    "df2 = pd.DataFrame({'guerin_texts':df_guerin['text'],'clean_guerin':df_guerin['text'].apply(clean_text)})\n",
    "\n",
    "column_without_brackets = [[string.replace('[', '').replace(']', '').lstrip().rstrip() for string in sublist] for sublist in df2['clean_guerin']]\n",
    "\n",
    "df2['clean'] = column_without_brackets\n",
    "guerin = {}\n",
    "for i in range(len(df2)):\n",
    "    for sentence in df2['clean'][i]:        \n",
    "        guerin[f'guerin_{i+1}_{df2[\"clean\"][i].index(sentence)+1}'] = sentence"
   ]
  },
  {
   "cell_type": "code",
   "execution_count": 13,
   "id": "d06d7c96",
   "metadata": {},
   "outputs": [
    {
     "data": {
      "text/plain": [
       "'match_bi_words = {}\\n\\nfor i in tqdm(list(pdv.keys())):\\n    big = create_bigrams(pdv.get(i))\\n    correspondance = []\\n    lesgrams = []\\n\\n    for key in list(guerin.keys()):\\n        liste_bigrams = create_bigrams(guerin.get(key))\\n        for bigram in big:\\n            if bigram in liste_bigrams:\\n                correspondance.append(key)\\n                lesgrams.append(bigram)\\n                break\\n                \\n    match_bi_words[i] = correspondance\\ndelete_empty_values(match_bi_words)'"
      ]
     },
     "execution_count": 13,
     "metadata": {},
     "output_type": "execute_result"
    }
   ],
   "source": [
    "'''match_bi_words = {}\n",
    "\n",
    "for i in tqdm(list(pdv.keys())):\n",
    "    big = create_bigrams(pdv.get(i))\n",
    "    correspondance = []\n",
    "    lesgrams = []\n",
    "\n",
    "    for key in list(guerin.keys()):\n",
    "        liste_bigrams = create_bigrams(guerin.get(key))\n",
    "        for bigram in big:\n",
    "            if bigram in liste_bigrams:\n",
    "                correspondance.append(key)\n",
    "                lesgrams.append(bigram)\n",
    "                break\n",
    "                \n",
    "    match_bi_words[i] = correspondance\n",
    "delete_empty_values(match_bi_words)'''"
   ]
  },
  {
   "cell_type": "code",
   "execution_count": 14,
   "id": "f8b515a7",
   "metadata": {},
   "outputs": [
    {
     "data": {
      "text/plain": [
       "'pdv_words = []\\n\\nfor idx in list(match_bi_words.keys()):\\n    pdv_words.append(pdv.get(idx))\\n    \\nguerin_words = []\\n\\nfor liste in list(match_bi_words.values()):\\n    sentence = []\\n    for value in liste:\\n        sentence.append(guerin.get(value))\\n    guerin_words.append(sentence)'"
      ]
     },
     "execution_count": 14,
     "metadata": {},
     "output_type": "execute_result"
    }
   ],
   "source": [
    "'''pdv_words = []\n",
    "\n",
    "for idx in list(match_bi_words.keys()):\n",
    "    pdv_words.append(pdv.get(idx))\n",
    "    \n",
    "guerin_words = []\n",
    "\n",
    "for liste in list(match_bi_words.values()):\n",
    "    sentence = []\n",
    "    for value in liste:\n",
    "        sentence.append(guerin.get(value))\n",
    "    guerin_words.append(sentence)'''"
   ]
  },
  {
   "cell_type": "code",
   "execution_count": 15,
   "id": "3fbb42fd",
   "metadata": {},
   "outputs": [
    {
     "data": {
      "text/plain": [
       "'dico_sentences_words = dict(zip(pdv_words,guerin_words))'"
      ]
     },
     "execution_count": 15,
     "metadata": {},
     "output_type": "execute_result"
    }
   ],
   "source": [
    "'''dico_sentences_words = dict(zip(pdv_words,guerin_words))'''"
   ]
  },
  {
   "cell_type": "code",
   "execution_count": 16,
   "id": "53244dec",
   "metadata": {},
   "outputs": [
    {
     "data": {
      "text/plain": [
       "'sentence1 = pdv_words[10]\\nsentence2 = guerin_words[10][2]'"
      ]
     },
     "execution_count": 16,
     "metadata": {},
     "output_type": "execute_result"
    }
   ],
   "source": [
    "'''sentence1 = pdv_words[10]\n",
    "sentence2 = guerin_words[10][2]'''"
   ]
  },
  {
   "cell_type": "markdown",
   "id": "bb4fd146",
   "metadata": {},
   "source": [
    "## modified dictionnary test"
   ]
  },
  {
   "cell_type": "code",
   "execution_count": 17,
   "id": "da49a5d5",
   "metadata": {},
   "outputs": [],
   "source": [
    "list_stop_words = ['et','de','per','pro','ad','ac','in','at']"
   ]
  },
  {
   "cell_type": "code",
   "execution_count": 18,
   "id": "b5fdba9d",
   "metadata": {},
   "outputs": [],
   "source": [
    "pdv_liste_values = list(pdv.values())\n",
    "pdv_liste_keys = list(pdv.keys())\n",
    "\n",
    "guerin_liste_values = list(guerin.values())\n",
    "guerin_liste_keys = list(guerin.keys())"
   ]
  },
  {
   "cell_type": "code",
   "execution_count": 19,
   "id": "74241578",
   "metadata": {},
   "outputs": [],
   "source": [
    "pdv_stopwords = dict(zip(pdv_liste_keys,remove_words_from_sentence_list(pdv_liste_values)))\n",
    "guerin_stopwords = dict(zip(guerin_liste_keys,remove_words_from_sentence_list(guerin_liste_values)))"
   ]
  },
  {
   "cell_type": "code",
   "execution_count": 20,
   "id": "e5c5cfa3",
   "metadata": {},
   "outputs": [
    {
     "name": "stderr",
     "output_type": "stream",
     "text": [
      "100%|███████████████████████████████████████| 2074/2074 [03:06<00:00, 11.13it/s]\n"
     ]
    }
   ],
   "source": [
    "match_bi_word_without_stopwords = {}\n",
    "\n",
    "for i in tqdm(list(pdv_stopwords.keys())):\n",
    "    big = create_bigrams(pdv_stopwords.get(i))\n",
    "    correspondance = []\n",
    "    lesgrams = []\n",
    "\n",
    "    for key in list(guerin_stopwords.keys()):\n",
    "        liste_bigrams = create_bigrams(guerin_stopwords.get(key))\n",
    "        for bigram in big:\n",
    "            if bigram in liste_bigrams:\n",
    "                correspondance.append(key)\n",
    "                lesgrams.append(bigram)\n",
    "                break\n",
    "                \n",
    "    match_bi_word_without_stopwords[i] = correspondance\n",
    "delete_empty_values(match_bi_word_without_stopwords)"
   ]
  },
  {
   "cell_type": "code",
   "execution_count": 21,
   "id": "560bef97",
   "metadata": {},
   "outputs": [],
   "source": [
    "pdv_words_stopwords = []\n",
    "\n",
    "for idx in list(match_bi_word_without_stopwords.keys()):\n",
    "    pdv_words_stopwords.append(pdv_stopwords.get(idx))\n",
    "    \n",
    "guerin_words_stopwords = []\n",
    "\n",
    "for liste in list(match_bi_word_without_stopwords.values()):\n",
    "    sentence = []\n",
    "    for value in liste:\n",
    "        sentence.append(guerin_stopwords.get(value))\n",
    "    guerin_words_stopwords.append(sentence)"
   ]
  },
  {
   "cell_type": "code",
   "execution_count": 22,
   "id": "80b54a8b",
   "metadata": {},
   "outputs": [],
   "source": [
    "useless_words = ['ut','sic','non']"
   ]
  },
  {
   "cell_type": "code",
   "execution_count": 23,
   "id": "37d39dd6",
   "metadata": {
    "scrolled": true
   },
   "outputs": [],
   "source": [
    "sentences_stopwords = dict(zip(pdv_words_stopwords,guerin_words_stopwords))"
   ]
  },
  {
   "cell_type": "markdown",
   "id": "baa55470",
   "metadata": {},
   "source": [
    "## Pie charts des bigrams les plus fréquents"
   ]
  },
  {
   "cell_type": "code",
   "execution_count": 24,
   "id": "fea45063",
   "metadata": {},
   "outputs": [],
   "source": [
    "bigrams = []\n",
    "\n",
    "for i in range(len(sentences_stopwords)):\n",
    "    \n",
    "    step = []\n",
    "    \n",
    "    phrase_1 = list(sentences_stopwords.items())[i][0]\n",
    "\n",
    "    for sentence in list(sentences_stopwords.items())[i][1]:\n",
    "        \n",
    "        step.append(get_common_grams(phrase_1,sentence))\n",
    "        \n",
    "    bigrams.append(step)"
   ]
  },
  {
   "cell_type": "code",
   "execution_count": 25,
   "id": "5f9c5356",
   "metadata": {},
   "outputs": [],
   "source": [
    "def flatten_list_of_lists(lst):\n",
    "    result = []\n",
    "    for item in lst:\n",
    "        if isinstance(item, list):\n",
    "            result.extend(flatten_list_of_lists(item))\n",
    "        else:\n",
    "            result.append(item)\n",
    "    return result"
   ]
  },
  {
   "cell_type": "code",
   "execution_count": 26,
   "id": "6cac90cf",
   "metadata": {},
   "outputs": [],
   "source": [
    "liste_grams = flatten_list_of_lists(bigrams)"
   ]
  },
  {
   "cell_type": "code",
   "execution_count": 27,
   "id": "6d4801ef",
   "metadata": {
    "scrolled": true
   },
   "outputs": [],
   "source": [
    "counter = Counter(liste_grams).most_common(10)"
   ]
  },
  {
   "cell_type": "code",
   "execution_count": 28,
   "id": "a8da10b9",
   "metadata": {},
   "outputs": [],
   "source": [
    "keys = [' '.join(value[0]) for value in counter]    \n",
    "counts = [value[1]/len(liste_grams) for value in counter]\n",
    "reste = 1 - sum(counts)\n",
    "counts.append(reste)\n",
    "counts = sorted(counts, reverse=True)\n",
    "keys.insert(0,'autre')"
   ]
  },
  {
   "cell_type": "code",
   "execution_count": 29,
   "id": "b872c5f6",
   "metadata": {},
   "outputs": [
    {
     "data": {
      "image/png": "[encoded data removed]",
      "text/plain": [
       "<Figure size 720x504 with 1 Axes>"
      ]
     },
     "metadata": {},
     "output_type": "display_data"
    }
   ],
   "source": [
    "fig, ax = plt.subplots(figsize=(10, 7), subplot_kw=dict(aspect=\"equal\"))\n",
    "sns.set(style=\"whitegrid\")\n",
    "\n",
    "data = counts\n",
    "ingredients = keys\n",
    "\n",
    "\n",
    "\n",
    "def func(pct, allvals):\n",
    "    absolute = int(np.round(pct/100.*np.sum(allvals)))\n",
    "    return f\"{pct:.1f}%\"\n",
    "\n",
    "wedges, texts, autotexts = ax.pie(data, autopct=lambda pct: func(pct, data),\n",
    "                                  textprops=dict(color=\"w\"))\n",
    "\n",
    "ax.legend(wedges, ingredients,\n",
    "          title=\"tuples de mots\",\n",
    "          loc=\"center left\",\n",
    "         bbox_to_anchor=(1, 0, 0.5, 1))\n",
    "\n",
    "plt.setp(autotexts, size=8, weight=\"bold\")\n",
    "\n",
    "ax.set_title('Bigrammes de mots les plus fréquemment retrouvé dans Guérin')\n",
    "\n",
    "plt.show()\n"
   ]
  },
  {
   "cell_type": "markdown",
   "id": "ae294efc",
   "metadata": {},
   "source": [
    "## dico bigrams"
   ]
  },
  {
   "cell_type": "code",
   "execution_count": 30,
   "id": "e8c2fd1c",
   "metadata": {},
   "outputs": [
    {
     "data": {
      "text/plain": [
       "('quid facimus inquiunt quia hic homo hostibus sic triumphat si sic ipsum dimittimus omnem sibi subiciet gloriam lombardorum more cesareo ueniens non tardabit ut posse nobis locum auferat destruat gentem nostram',\n",
       " [[('nobis', 'locum')], [('sic', 'ipsum')]])"
      ]
     },
     "execution_count": 30,
     "metadata": {},
     "output_type": "execute_result"
    }
   ],
   "source": [
    "dico_bigram = {key:value for key,value in zip(list(sentences_stopwords.keys()),bigrams)}\n",
    "list(dico_bigram.items())[0]"
   ]
  },
  {
   "cell_type": "markdown",
   "id": "8d5639b6",
   "metadata": {},
   "source": [
    "## Other common words : dico of at least three words in common"
   ]
  },
  {
   "cell_type": "code",
   "execution_count": 31,
   "id": "01bb3f95",
   "metadata": {
    "scrolled": true
   },
   "outputs": [],
   "source": [
    "def get_list_bool(item):\n",
    "    \n",
    "    liste_of_booleans = []\n",
    "\n",
    "    phrase1 = item[0]\n",
    "\n",
    "    for element in range(len(item[1])):\n",
    "\n",
    "        dico = {}\n",
    "\n",
    "        phrase2 = item[1][element]\n",
    "\n",
    "        phrase_1 = get_full_text(phrase1,pdv_stopwords)\n",
    "        if phrase_1 == None:\n",
    "            phrase_1 = phrase1\n",
    "        phrase_2 = get_full_text(phrase2,guerin2_stopwords)\n",
    "        if phrase_2 == None:\n",
    "            phrase_2 = phrase2\n",
    "        \n",
    "        \n",
    "\n",
    "        words1 = phrase_1.split()\n",
    "        words2 = phrase_2.split()\n",
    "\n",
    "        liste_commune = get_common_grams(phrase1,phrase2)\n",
    "\n",
    "        index_word1_1 = 0\n",
    "        index_word2_1 = 0\n",
    "        index_word1_2 = 0\n",
    "        index_word2_2 = 0\n",
    "\n",
    "        for index in range(len(words1) - 1):\n",
    "            if (words1[index], words1[index + 1]) == liste_commune[0]:\n",
    "                index_word1_1 = index\n",
    "                index_word2_1 = index + 1\n",
    "                break\n",
    "\n",
    "        for index in range(len(words2) - 1):\n",
    "            if (words2[index], words2[index + 1]) == liste_commune[0]:\n",
    "                index_word1_2 = index\n",
    "                index_word2_2 = index + 1\n",
    "                break\n",
    "\n",
    "        words_1_list = []\n",
    "        words_2_list = []\n",
    "\n",
    "        for elm in range(len(words1)):\n",
    "            if elm < index_word1_1:\n",
    "                words_1_list.append([words1[elm]])\n",
    "            elif elm == index_word1_1:\n",
    "                words_1_list.append([words1[index_word1_1],words1[index_word2_1]])\n",
    "            elif elm > index_word2_1:\n",
    "                words_1_list.append([words1[elm]])\n",
    "\n",
    "        for elm in range(len(words2)):\n",
    "            if elm < index_word1_2:\n",
    "                words_2_list.append([words2[elm]])\n",
    "            elif elm == index_word1_2:\n",
    "                words_2_list.append([words2[index_word1_2],words2[index_word2_2]])\n",
    "            elif elm > index_word2_2:\n",
    "                words_2_list.append([words2[elm]])\n",
    "\n",
    "\n",
    "\n",
    "        #dictionnary part\n",
    "\n",
    "        index_of_lists_with_more_than_one_element_x = 0\n",
    "\n",
    "        for idx, sublist in enumerate(words_1_list):\n",
    "            if len(sublist) > 1:\n",
    "                index_of_lists_with_more_than_one_element_x = idx\n",
    "\n",
    "        index_of_lists_with_more_than_one_element_y = 0\n",
    "\n",
    "        for idx, sublist in enumerate(words_2_list):        \n",
    "            if len(sublist) > 1:\n",
    "                index_of_lists_with_more_than_one_element_y = idx\n",
    "\n",
    "\n",
    "        for i in range(len(words_2_list)):\n",
    "            if words_2_list[i] != words_2_list[index_of_lists_with_more_than_one_element_y]:\n",
    "                words_2_list[i] = ' '.join(words_2_list[i])\n",
    "\n",
    "        for i in range(len(words_1_list)):\n",
    "            if words_1_list[i] != words_1_list[index_of_lists_with_more_than_one_element_x]:\n",
    "                words_1_list[i] = ' '.join(words_1_list[i])\n",
    "\n",
    "        liste_1 = words_1_list[:index_of_lists_with_more_than_one_element_x]\n",
    "        liste_2 = words_1_list[index_of_lists_with_more_than_one_element_x]\n",
    "        liste_3 = words_1_list[index_of_lists_with_more_than_one_element_x+1:]\n",
    "        listes_x = [liste_1,liste_2,liste_3]\n",
    "\n",
    "        flattened_x = [val for sublist in listes_x for val in sublist]\n",
    "\n",
    "        liste_1_y = words_2_list[:index_of_lists_with_more_than_one_element_y]\n",
    "        liste_2_y = words_2_list[index_of_lists_with_more_than_one_element_y]\n",
    "        liste_3_y = words_2_list[index_of_lists_with_more_than_one_element_y+1:]\n",
    "        listes_y = [liste_1_y,liste_2_y,liste_3_y]\n",
    "\n",
    "        true_false_1 = [word in listes_y[0] for word in listes_x[0]]\n",
    "        true_false_1 = [False if word in useless_words else value for word, value in zip(liste_1, true_false_1)]\n",
    "        true_false_2 = [word in listes_y[1] for word in listes_x[1]]\n",
    "        true_false_3 = [word in listes_y[2] for word in listes_x[2]]\n",
    "        true_false_3 = [False if word in useless_words else value for word, value in zip(liste_3, true_false_3)]\n",
    "\n",
    "        true_false = [true_false_1,true_false_2,true_false_3]\n",
    "        true_false = [val for sublist in true_false for val in sublist]\n",
    "\n",
    "        count_boolean = true_false.count(True)\n",
    "\n",
    "        if count_boolean >= 8:\n",
    "            liste_of_booleans.append(True)\n",
    "        else:\n",
    "            true_false = False\n",
    "            liste_of_booleans.append(False)\n",
    "            \n",
    "    stratos = {item[0]:liste_of_booleans}\n",
    "        \n",
    "    return stratos"
   ]
  },
  {
   "cell_type": "markdown",
   "id": "78586d9e",
   "metadata": {},
   "source": [
    "## Correct guerin dict"
   ]
  },
  {
   "cell_type": "code",
   "execution_count": 32,
   "id": "56787355",
   "metadata": {},
   "outputs": [],
   "source": [
    "def count_keys_startswith(dct, prefix):\n",
    "    count = 0\n",
    "    for key in dct:\n",
    "        if key.startswith(prefix):\n",
    "            count += 1\n",
    "    return count"
   ]
  },
  {
   "cell_type": "code",
   "execution_count": 33,
   "id": "37c6b026",
   "metadata": {},
   "outputs": [],
   "source": [
    "liste_last =[]\n",
    "\n",
    "for i in range(1,364):\n",
    "    nbr_cles = list(range(1,count_keys_startswith(guerin,f'guerin_{i}_')+1))\n",
    "    liste_last.append(nbr_cles)\n",
    "flattened_list = [num for sublist in liste_last for num in sublist]\n",
    "string_list = list(map(str, flattened_list))"
   ]
  },
  {
   "cell_type": "code",
   "execution_count": 34,
   "id": "feca4740",
   "metadata": {},
   "outputs": [
    {
     "name": "stdout",
     "output_type": "stream",
     "text": [
      "[[1, 2, 3, 4, 5], [1, 2, 3, 4], [1, 2, 3, 4], [1, 2, 3], [1, 2], [1, 2, 3, 4, 5], [1, 2, 3, 4, 5, 6], [1, 2, 3, 4], [1, 2, 3], [1, 2, 3, 4, 5, 6, 7, 8], [1, 2, 3, 4, 5, 6, 7, 8, 9, 10, 11, 12, 13], [1, 2, 3, 4, 5, 6, 7, 8], [1, 2, 3, 4, 5, 6], [1, 2, 3, 4], [1, 2, 3, 4], [1, 2, 3, 4, 5, 6, 7, 8, 9, 10, 11, 12, 13, 14, 15, 16, 17], [1, 2, 3, 4, 5], [1, 2, 3, 4], [1, 2, 3, 4], [1, 2, 3, 4, 5, 6], [1, 2, 3, 4, 5, 6], [1, 2, 3, 4, 5], [1, 2, 3, 4, 5, 6, 7, 8, 9, 10, 11, 12], [1, 2, 3, 4, 5], [1, 2, 3, 4, 5, 6, 7, 8, 9, 10, 11, 12, 13, 14, 15, 16, 17, 18, 19, 20, 21, 22, 23, 24, 25, 26, 27, 28, 29, 30, 31, 32, 33, 34, 35, 36, 37, 38, 39, 40, 41, 42, 43, 44, 45, 46, 47, 48, 49, 50, 51, 52, 53, 54, 55, 56, 57, 58, 59, 60, 61], [1, 2, 3, 4, 5, 6, 7, 8, 9, 10, 11, 12, 13, 14, 15], [1, 2, 3, 4, 5, 6, 7], [1, 2, 3], [1, 2, 3, 4], [1, 2, 3, 4], [1, 2, 3, 4, 5], [1, 2, 3, 4, 5], [1, 2, 3, 4, 5, 6, 7], [1, 2, 3, 4, 5], [1, 2, 3, 4], [1, 2, 3, 4, 5], [1, 2, 3, 4, 5], [1, 2, 3, 4, 5], [1, 2, 3, 4], [1, 2, 3, 4], [1, 2, 3, 4, 5, 6], [1, 2, 3, 4, 5, 6, 7, 8, 9, 10, 11, 12, 13, 14, 15, 16, 17, 18, 19, 20], [1, 2, 3, 4, 5], [1, 2, 3, 4], [1, 2, 3, 4], [1, 2, 3, 4, 5, 6], [1, 2, 3, 4], [1, 2, 3, 4], [1, 2, 3, 4, 5, 6, 7, 8, 9, 10, 11, 12, 13, 14], [1, 2, 3, 4, 5, 6, 7], [1, 2, 3, 4, 5], [1, 2, 3, 4, 5], [1, 2, 3, 4, 5], [1, 2, 3, 4, 5, 6, 7, 8, 9, 10, 11, 12, 13, 14, 15, 16, 17, 18], [1, 2, 3], [1, 2, 3, 4, 5, 6, 7], [1, 2], [1, 2, 3, 4, 5, 6, 7, 8], [1, 2, 3, 4, 5, 6], [1, 2, 3, 4, 5, 6, 7, 8, 9, 10, 11, 12, 13, 14, 15, 16], [1, 2, 3, 4, 5, 6, 7, 8, 9, 10, 11, 12, 13, 14, 15, 16, 17, 18, 19, 20, 21], [1, 2, 3, 4, 5, 6, 7, 8, 9, 10, 11, 12, 13, 14, 15], [1, 2, 3, 4, 5, 6, 7, 8, 9], [1, 2, 3, 4], [1, 2], [1, 2, 3], [1, 2, 3, 4, 5, 6], [1, 2, 3, 4, 5, 6], [1, 2, 3, 4], [1, 2, 3, 4, 5, 6, 7, 8], [1, 2, 3, 4], [1, 2, 3, 4, 5, 6, 7, 8, 9, 10, 11, 12, 13, 14, 15], [1, 2, 3, 4, 5, 6, 7], [1, 2, 3, 4, 5, 6], [1, 2, 3, 4, 5, 6, 7, 8, 9, 10, 11], [1, 2, 3, 4, 5], [1, 2, 3, 4, 5, 6], [1, 2, 3, 4, 5], [1, 2, 3, 4, 5, 6, 7, 8, 9], [1, 2, 3, 4, 5, 6], [1, 2, 3, 4, 5, 6], [1, 2, 3, 4, 5, 6, 7, 8, 9, 10, 11, 12, 13, 14, 15, 16], [1, 2, 3, 4, 5, 6, 7], [1, 2, 3, 4, 5, 6, 7, 8, 9, 10, 11, 12, 13, 14, 15, 16], [1, 2, 3, 4, 5, 6, 7, 8], [1, 2, 3, 4, 5, 6, 7, 8], [1, 2, 3, 4, 5, 6, 7], [1, 2, 3, 4, 5, 6, 7, 8, 9], [1, 2, 3, 4, 5, 6, 7, 8, 9, 10, 11, 12, 13], [1, 2, 3, 4, 5, 6, 7, 8, 9, 10, 11, 12], [1, 2, 3, 4, 5, 6], [1, 2, 3, 4, 5, 6], [1, 2, 3, 4, 5, 6, 7, 8], [1, 2, 3, 4, 5, 6], [1, 2, 3, 4, 5, 6, 7, 8], [1, 2, 3, 4, 5, 6, 7, 8], [1, 2, 3, 4, 5, 6, 7], [1, 2, 3, 4, 5, 6, 7, 8, 9], [1, 2, 3, 4, 5, 6, 7], [1, 2, 3, 4, 5], [1, 2, 3, 4, 5, 6, 7, 8], [1, 2, 3, 4, 5, 6, 7], [1, 2, 3, 4, 5, 6], [1, 2, 3, 4, 5, 6, 7], [1, 2, 3, 4, 5, 6, 7, 8, 9, 10, 11, 12, 13, 14, 15, 16, 17, 18, 19, 20, 21, 22, 23, 24, 25, 26, 27, 28, 29, 30, 31, 32], [1, 2, 3, 4, 5, 6], [1, 2, 3, 4, 5, 6, 7], [1, 2, 3, 4, 5, 6, 7, 8, 9, 10, 11, 12, 13, 14], [1, 2, 3, 4, 5, 6, 7, 8, 9, 10, 11, 12], [1, 2, 3, 4, 5], [1, 2, 3, 4, 5, 6, 7, 8, 9, 10, 11, 12, 13, 14], [1, 2, 3, 4, 5, 6, 7, 8, 9, 10, 11, 12, 13, 14], [1, 2, 3, 4, 5, 6, 7], [1, 2, 3, 4, 5, 6, 7, 8, 9, 10, 11, 12, 13, 14, 15, 16, 17, 18, 19, 20, 21, 22, 23, 24, 25, 26, 27], [1, 2, 3, 4, 5], [1, 2, 3, 4, 5, 6], [1, 2, 3], [1, 2, 3, 4, 5], [1, 2, 3, 4, 5, 6, 7], [1, 2, 3, 4, 5, 6], [1, 2, 3, 4, 5], [1, 2, 3, 4, 5, 6, 7], [1, 2, 3, 4, 5, 6, 7, 8], [1, 2, 3, 4, 5, 6, 7, 8, 9, 10, 11, 12, 13, 14, 15, 16, 17, 18, 19], [1, 2, 3, 4, 5, 6, 7, 8, 9, 10, 11, 12], [1, 2, 3, 4, 5, 6, 7, 8, 9, 10, 11, 12], [1, 2, 3, 4, 5, 6, 7], [1, 2, 3, 4, 5, 6, 7, 8, 9, 10, 11, 12], [1, 2, 3, 4, 5], [1, 2, 3, 4, 5, 6, 7, 8], [1, 2, 3, 4, 5, 6, 7, 8, 9, 10], [1, 2, 3, 4, 5, 6, 7, 8, 9], [1, 2, 3], [1, 2, 3, 4, 5], [1, 2, 3, 4, 5, 6], [1, 2, 3], [1, 2, 3, 4], [1, 2, 3, 4], [1, 2], [1, 2, 3], [1, 2, 3, 4], [1, 2, 3, 4, 5], [1, 2, 3, 4], [1, 2, 3, 4, 5, 6, 7, 8], [1, 2, 3, 4, 5, 6, 7, 8, 9, 10, 11, 12], [1, 2, 3, 4, 5], [1, 2, 3, 4, 5], [1, 2, 3], [1, 2, 3], [1, 2, 3, 4, 5, 6], [1, 2, 3, 4], [1, 2, 3, 4, 5, 6, 7, 8, 9, 10, 11, 12, 13, 14, 15, 16, 17, 18, 19], [1, 2, 3, 4, 5, 6, 7, 8, 9, 10, 11, 12, 13, 14, 15, 16, 17, 18, 19, 20, 21, 22, 23], [1, 2, 3, 4, 5, 6, 7, 8, 9, 10, 11, 12, 13, 14, 15, 16, 17, 18, 19], [1, 2, 3, 4, 5, 6, 7], [1, 2, 3, 4, 5, 6, 7], [1, 2, 3, 4, 5, 6, 7], [1, 2, 3, 4, 5, 6, 7], [1, 2, 3, 4, 5, 6], [1, 2, 3, 4, 5, 6], [1, 2, 3, 4, 5, 6, 7, 8, 9, 10, 11, 12, 13, 14, 15, 16, 17, 18, 19], [1, 2, 3, 4, 5, 6, 7, 8, 9, 10, 11, 12, 13, 14, 15, 16, 17, 18, 19, 20, 21, 22, 23, 24, 25, 26, 27, 28, 29, 30, 31, 32, 33, 34, 35, 36, 37, 38, 39, 40, 41, 42, 43, 44, 45, 46, 47, 48, 49, 50], [1, 2, 3, 4, 5, 6, 7, 8, 9, 10, 11, 12, 13, 14, 15, 16, 17, 18, 19, 20, 21, 22, 23, 24, 25, 26, 27, 28, 29, 30, 31, 32, 33, 34, 35, 36, 37, 38, 39, 40, 41, 42], [1, 2, 3, 4, 5, 6, 7, 8, 9], [1, 2, 3, 4, 5, 6], [1, 2, 3, 4, 5, 6, 7, 8, 9, 10], [1, 2, 3, 4, 5, 6, 7, 8, 9, 10, 11, 12], [1, 2, 3, 4, 5, 6], [1, 2, 3, 4, 5, 6, 7, 8, 9, 10], [1, 2, 3, 4, 5, 6, 7, 8, 9, 10, 11, 12, 13, 14, 15], [1, 2, 3, 4, 5, 6, 7, 8, 9, 10, 11, 12, 13, 14, 15, 16, 17, 18, 19, 20, 21, 22, 23, 24, 25, 26, 27, 28, 29, 30, 31, 32, 33, 34, 35, 36, 37, 38, 39], [1, 2, 3, 4, 5, 6, 7, 8, 9, 10, 11, 12, 13, 14, 15], [1, 2, 3, 4, 5, 6, 7, 8], [1, 2, 3, 4, 5, 6, 7], [1, 2, 3, 4, 5, 6, 7, 8, 9, 10, 11, 12], [1, 2, 3, 4, 5, 6, 7, 8, 9], [1, 2, 3, 4, 5, 6, 7, 8], [1, 2, 3, 4, 5, 6, 7, 8, 9, 10, 11, 12, 13], [1, 2, 3, 4, 5, 6, 7, 8, 9, 10, 11, 12, 13], [1, 2, 3, 4, 5, 6, 7], [1, 2, 3, 4, 5, 6, 7, 8, 9], [1, 2, 3, 4, 5, 6, 7, 8, 9], [1, 2, 3, 4, 5, 6, 7, 8, 9], [1, 2, 3, 4, 5, 6, 7, 8, 9, 10, 11, 12], [1, 2, 3, 4, 5, 6, 7, 8], [1, 2, 3, 4, 5, 6, 7, 8, 9], [1, 2, 3, 4, 5, 6, 7], [1, 2, 3, 4, 5, 6, 7, 8, 9], [1, 2, 3, 4, 5, 6, 7, 8, 9], [1, 2, 3, 4, 5, 6, 7, 8, 9, 10, 11, 12, 13], [1, 2, 3, 4, 5, 6, 7, 8, 9, 10, 11, 12, 13, 14, 15, 16], [1, 2, 3, 4, 5, 6, 7, 8, 9, 10, 11, 12, 13, 14, 15, 16], [1, 2, 3, 4, 5, 6, 7, 8], [1, 2, 3, 4, 5, 6, 7, 8, 9], [1, 2, 3, 4, 5, 6, 7, 8, 9], [1, 2, 3, 4, 5, 6, 7, 8, 9], [1, 2, 3, 4, 5, 6, 7], [1, 2, 3, 4, 5, 6, 7, 8, 9], [1, 2, 3, 4, 5, 6, 7, 8, 9, 10, 11], [1, 2, 3, 4, 5, 6, 7, 8, 9, 10, 11, 12, 13, 14, 15], [1, 2, 3, 4, 5, 6, 7], [1, 2, 3, 4, 5, 6, 7, 8, 9, 10], [1, 2, 3, 4, 5, 6, 7], [1, 2, 3, 4, 5, 6, 7, 8], [1, 2, 3, 4, 5, 6, 7, 8, 9], [1, 2, 3, 4, 5, 6, 7, 8, 9, 10, 11], [1, 2, 3, 4, 5, 6, 7, 8, 9, 10, 11], [1, 2, 3, 4, 5, 6, 7], [1, 2, 3, 4, 5, 6, 7, 8, 9], [1, 2, 3, 4, 5, 6, 7, 8], [1, 2, 3, 4, 5, 6, 7, 8, 9, 10, 11], [1, 2, 3, 4, 5, 6, 7], [1, 2, 3, 4, 5, 6, 7, 8], [1, 2, 3, 4, 5, 6, 7, 8, 9, 10, 11], [1, 2, 3, 4, 5, 6, 7, 8, 9, 10, 11, 12, 13, 14, 15, 16, 17, 18, 19, 20], [1, 2, 3, 4, 5, 6], [1, 2, 3, 4, 5, 6, 7, 8, 9], [1, 2, 3, 4, 5, 6, 7, 8, 9], [1, 2, 3, 4, 5, 6, 7, 8, 9, 10, 11], [1, 2, 3, 4, 5, 6, 7, 8, 9, 10, 11, 12, 13, 14, 15, 16, 17, 18], [1, 2, 3, 4, 5, 6, 7, 8, 9], [1, 2, 3, 4, 5, 6, 7, 8, 9], [1, 2, 3, 4, 5, 6, 7, 8, 9, 10, 11, 12, 13, 14, 15, 16, 17, 18, 19, 20, 21, 22, 23, 24, 25, 26, 27, 28, 29, 30, 31, 32, 33, 34, 35, 36, 37, 38, 39, 40, 41, 42, 43, 44, 45, 46, 47, 48, 49, 50, 51], [1, 2, 3, 4, 5, 6, 7, 8], [1, 2, 3, 4, 5, 6, 7, 8, 9, 10, 11, 12, 13], [1, 2, 3, 4, 5, 6, 7, 8, 9, 10], [1, 2, 3, 4, 5, 6, 7, 8, 9], [1, 2, 3, 4, 5, 6, 7, 8, 9], [1, 2, 3, 4, 5, 6, 7, 8, 9, 10], [1, 2, 3, 4, 5, 6, 7, 8, 9, 10, 11, 12, 13, 14], [1, 2, 3, 4, 5, 6, 7, 8, 9, 10, 11, 12, 13, 14, 15, 16], [1, 2, 3, 4, 5, 6, 7, 8, 9, 10], [1, 2, 3, 4, 5, 6, 7, 8], [1, 2, 3, 4, 5, 6, 7, 8, 9, 10, 11, 12, 13, 14], [1, 2, 3, 4, 5, 6, 7, 8], [1, 2, 3, 4, 5, 6, 7, 8, 9, 10, 11, 12], [1, 2, 3, 4, 5, 6, 7], [1, 2, 3, 4, 5, 6, 7, 8, 9, 10, 11, 12, 13, 14, 15], [1, 2, 3, 4, 5, 6, 7, 8, 9, 10, 11], [1, 2, 3, 4, 5, 6, 7, 8], [1, 2, 3, 4, 5, 6, 7], [1, 2, 3, 4, 5, 6, 7, 8, 9], [1, 2, 3, 4, 5, 6, 7, 8], [1, 2, 3, 4, 5, 6, 7, 8, 9, 10], [1, 2, 3, 4, 5, 6, 7, 8, 9], [1, 2, 3, 4, 5, 6, 7, 8, 9], [1, 2, 3, 4, 5, 6, 7, 8, 9, 10, 11, 12, 13], [1, 2, 3, 4, 5, 6, 7, 8, 9, 10], [1, 2, 3, 4, 5, 6], [1, 2, 3, 4, 5, 6, 7, 8, 9], [1, 2, 3, 4, 5, 6, 7, 8, 9, 10, 11], [1, 2, 3, 4, 5, 6, 7, 8, 9, 10, 11, 12], [1, 2, 3, 4, 5, 6, 7, 8, 9, 10, 11, 12, 13, 14, 15], [1, 2, 3, 4, 5, 6, 7, 8, 9, 10, 11, 12, 13, 14, 15, 16], [1, 2, 3, 4, 5, 6, 7, 8, 9, 10, 11, 12], [1, 2, 3, 4, 5, 6, 7, 8, 9, 10, 11, 12, 13, 14, 15], [1, 2, 3, 4, 5, 6, 7, 8, 9, 10], [1, 2, 3, 4, 5, 6, 7, 8, 9, 10, 11, 12, 13, 14], [1, 2, 3, 4, 5, 6, 7, 8], [1, 2, 3, 4, 5, 6, 7, 8, 9], [1, 2, 3, 4, 5, 6, 7, 8, 9, 10], [1, 2, 3, 4, 5, 6, 7, 8, 9, 10], [1, 2, 3, 4, 5, 6, 7, 8], [1, 2, 3, 4, 5, 6, 7], [1, 2, 3, 4, 5, 6, 7, 8, 9], [1, 2, 3, 4, 5, 6, 7, 8, 9, 10, 11], [1, 2, 3, 4, 5, 6, 7, 8, 9, 10, 11, 12, 13, 14, 15, 16, 17, 18, 19, 20, 21, 22, 23, 24, 25, 26, 27, 28, 29, 30, 31, 32, 33, 34, 35, 36, 37, 38, 39, 40, 41, 42, 43, 44, 45, 46, 47, 48, 49, 50, 51, 52, 53, 54, 55, 56, 57, 58, 59, 60, 61, 62, 63, 64, 65, 66, 67, 68, 69, 70, 71, 72, 73, 74, 75, 76, 77, 78, 79, 80, 81, 82, 83, 84, 85, 86, 87, 88, 89], [1, 2, 3, 4, 5, 6, 7, 8, 9, 10], [1, 2, 3, 4, 5, 6, 7, 8, 9, 10, 11, 12, 13, 14, 15], [1, 2, 3, 4, 5, 6, 7, 8], [1, 2, 3, 4, 5, 6, 7, 8], [1, 2, 3, 4, 5, 6, 7, 8, 9, 10, 11, 12], [1, 2, 3, 4, 5, 6, 7, 8, 9], [1, 2, 3, 4, 5, 6, 7, 8, 9, 10, 11], [1, 2, 3, 4, 5, 6, 7, 8, 9, 10, 11, 12, 13, 14, 15, 16, 17, 18, 19, 20, 21, 22], [1, 2, 3, 4, 5, 6, 7, 8, 9, 10, 11], [1], [1, 2, 3, 4, 5, 6, 7, 8, 9, 10, 11, 12, 13], [1, 2, 3, 4, 5, 6, 7, 8, 9, 10, 11, 12, 13, 14], [1, 2, 3, 4, 5, 6, 7, 8, 9, 10], [1, 2, 3, 4, 5, 6, 7, 8, 9], [1, 2, 3, 4, 5, 6, 7, 8, 9, 10, 11, 12, 13, 14, 15, 16, 17, 18, 19, 20, 21, 22, 23, 24, 25, 26, 27, 28, 29, 30, 31, 32, 33, 34, 35, 36, 37, 38, 39, 40, 41, 42, 43], [1, 2, 3, 4, 5, 6, 7, 8, 9, 10, 11, 12, 13, 14, 15, 16, 17, 18, 19, 20, 21, 22, 23, 24, 25, 26, 27, 28, 29, 30, 31, 32, 33, 34, 35, 36, 37, 38, 39, 40, 41, 42, 43], [1, 2, 3, 4, 5, 6, 7, 8, 9, 10, 11, 12, 13, 14, 15, 16, 17, 18, 19, 20, 21, 22, 23], [1, 2, 3, 4, 5, 6, 7, 8, 9, 10, 11, 12], [1, 2, 3, 4, 5, 6, 7, 8, 9, 10, 11, 12, 13], [1, 2, 3, 4, 5, 6, 7, 8, 9, 10, 11, 12, 13], [1, 2, 3, 4, 5, 6, 7, 8, 9, 10, 11, 12, 13, 14], [1, 2, 3, 4, 5, 6, 7, 8, 9, 10, 11, 12], [1, 2, 3, 4, 5, 6, 7, 8, 9, 10], [1, 2, 3, 4, 5, 6, 7, 8, 9, 10, 11, 12, 13, 14], [1, 2, 3, 4, 5, 6, 7, 8, 9, 10, 11, 12, 13, 14], [1, 2, 3, 4, 5, 6, 7, 8, 9, 10, 11, 12, 13, 14, 15, 16, 17], [1, 2, 3, 4, 5, 6, 7, 8, 9, 10, 11, 12, 13, 14, 15, 16, 17, 18, 19, 20, 21, 22, 23, 24, 25, 26, 27, 28, 29, 30, 31, 32, 33, 34, 35, 36, 37, 38, 39, 40, 41, 42, 43, 44, 45, 46, 47, 48, 49, 50, 51, 52, 53, 54, 55, 56, 57, 58, 59, 60, 61, 62, 63, 64, 65, 66, 67, 68, 69], [1, 2, 3, 4, 5, 6, 7], [1, 2, 3, 4, 5, 6, 7, 8, 9, 10, 11, 12, 13, 14, 15, 16, 17, 18, 19, 20, 21, 22, 23, 24, 25, 26, 27, 28, 29, 30, 31, 32, 33, 34, 35, 36, 37, 38, 39], [1, 2, 3, 4, 5, 6, 7, 8, 9], [1, 2, 3, 4, 5, 6, 7, 8, 9], [1, 2, 3, 4, 5, 6, 7, 8, 9, 10, 11, 12], [1, 2, 3, 4, 5, 6, 7, 8, 9, 10, 11, 12, 13], [1, 2, 3, 4, 5, 6, 7, 8], [1, 2, 3, 4, 5, 6, 7, 8, 9, 10, 11], [1, 2, 3, 4, 5, 6, 7, 8, 9], [1, 2, 3, 4, 5, 6, 7, 8, 9, 10], [1, 2, 3, 4, 5, 6, 7, 8, 9, 10, 11], [1, 2, 3, 4, 5, 6, 7, 8], [1, 2, 3, 4, 5, 6, 7, 8, 9], [1, 2, 3, 4, 5, 6, 7, 8, 9], [1, 2, 3, 4, 5, 6, 7, 8, 9, 10, 11], [1, 2, 3, 4, 5, 6], [1, 2], [1, 2, 3, 4, 5, 6, 7], [1, 2, 3, 4, 5, 6, 7, 8, 9, 10, 11, 12, 13, 14, 15, 16, 17, 18, 19, 20], [1, 2, 3, 4, 5, 6, 7, 8, 9, 10, 11, 12, 13, 14, 15, 16, 17, 18, 19, 20, 21, 22, 23, 24, 25], [1, 2, 3, 4, 5, 6, 7, 8, 9, 10, 11, 12, 13, 14, 15, 16, 17, 18, 19, 20, 21, 22, 23, 24, 25, 26, 27, 28, 29, 30, 31, 32, 33, 34, 35, 36, 37, 38, 39, 40, 41, 42, 43, 44, 45, 46, 47, 48, 49, 50, 51, 52, 53, 54, 55, 56, 57, 58, 59, 60, 61, 62, 63, 64, 65, 66, 67, 68, 69, 70, 71, 72, 73, 74, 75, 76, 77, 78, 79, 80, 81, 82, 83, 84, 85, 86, 87, 88, 89, 90, 91, 92, 93, 94, 95, 96, 97, 98, 99, 100, 101, 102, 103, 104, 105, 106, 107, 108, 109, 110, 111, 112, 113, 114, 115, 116, 117, 118, 119, 120, 121, 122, 123, 124, 125, 126, 127], [1, 2, 3, 4, 5, 6, 7, 8, 9], [1, 2, 3, 4, 5, 6, 7, 8, 9, 10, 11, 12, 13, 14], [1, 2, 3, 4, 5, 6, 7, 8, 9, 10, 11, 12, 13, 14, 15, 16, 17, 18], [1, 2, 3, 4, 5, 6, 7, 8, 9, 10, 11, 12, 13, 14, 15, 16, 17], [1, 2, 3, 4, 5, 6, 7, 8, 9, 10, 11, 12, 13, 14, 15, 16, 17, 18, 19], [1, 2, 3, 4, 5, 6, 7, 8, 9, 10, 11, 12], [1, 2, 3, 4, 5, 6, 7, 8, 9, 10, 11, 12, 13, 14], [1, 2, 3, 4, 5, 6, 7, 8, 9, 10, 11, 12, 13, 14, 15, 16], [1, 2, 3, 4, 5, 6, 7, 8, 9, 10, 11, 12, 13, 14, 15, 16, 17, 18, 19, 20, 21, 22, 23, 24, 25, 26, 27, 28, 29, 30, 31, 32, 33, 34, 35, 36, 37, 38, 39, 40, 41], [1, 2, 3, 4, 5, 6, 7, 8, 9, 10, 11, 12, 13, 14, 15], [1, 2, 3, 4, 5, 6, 7, 8, 9, 10, 11], [1, 2, 3, 4, 5, 6, 7, 8, 9, 10, 11, 12], [1, 2, 3, 4, 5, 6, 7, 8, 9, 10, 11, 12], [1, 2, 3, 4, 5, 6, 7, 8, 9, 10, 11, 12, 13, 14, 15], [1, 2, 3, 4, 5, 6, 7, 8, 9, 10, 11, 12, 13, 14], [1, 2, 3, 4, 5, 6, 7, 8, 9, 10, 11, 12, 13, 14, 15, 16], [1, 2, 3, 4, 5, 6, 7, 8, 9, 10, 11, 12, 13], [1, 2, 3, 4, 5, 6, 7, 8, 9, 10, 11, 12, 13, 14, 15, 16, 17, 18, 19], [1, 2, 3, 4, 5, 6, 7, 8, 9, 10, 11, 12, 13, 14, 15], [1, 2, 3, 4, 5, 6, 7, 8, 9, 10, 11, 12, 13, 14], [1, 2, 3, 4, 5, 6, 7, 8, 9, 10, 11, 12, 13, 14, 15], [1, 2, 3, 4, 5, 6, 7, 8, 9, 10, 11, 12], [1, 2, 3, 4, 5, 6, 7, 8, 9, 10, 11, 12, 13, 14], [1, 2, 3, 4, 5, 6, 7, 8, 9, 10, 11, 12, 13, 14], [1, 2, 3, 4, 5, 6, 7, 8, 9, 10, 11, 12, 13, 14], [1, 2, 3, 4, 5, 6, 7, 8, 9, 10, 11, 12, 13, 14, 15, 16, 17], [1, 2, 3, 4, 5, 6, 7, 8, 9, 10, 11, 12, 13, 14, 15, 16, 17, 18, 19, 20, 21, 22, 23], [1, 2, 3, 4, 5, 6, 7, 8, 9, 10, 11, 12, 13, 14, 15, 16, 17, 18, 19, 20, 21, 22, 23, 24], [1, 2, 3, 4, 5, 6, 7, 8, 9, 10, 11, 12, 13], [1, 2, 3, 4, 5, 6, 7, 8, 9, 10, 11, 12, 13, 14, 15, 16], [1, 2, 3, 4, 5, 6, 7, 8, 9, 10, 11, 12, 13, 14, 15, 16, 17], [1, 2, 3, 4, 5, 6, 7, 8, 9, 10, 11, 12, 13, 14, 15, 16, 17], [1, 2, 3, 4, 5, 6, 7, 8, 9, 10, 11], [1, 2, 3, 4, 5, 6, 7, 8, 9, 10, 11, 12], [1, 2, 3, 4, 5, 6, 7, 8, 9, 10, 11, 12, 13, 14], [1, 2, 3, 4, 5, 6, 7, 8, 9, 10, 11], [1, 2, 3, 4, 5, 6, 7, 8, 9, 10, 11, 12, 13, 14], [1, 2, 3, 4, 5, 6, 7, 8, 9, 10, 11, 12], [1, 2, 3, 4, 5, 6, 7, 8, 9, 10, 11, 12, 13, 14, 15, 16], [1, 2, 3, 4, 5, 6, 7, 8, 9, 10, 11, 12, 13], [1, 2, 3, 4, 5, 6, 7, 8, 9, 10, 11, 12, 13, 14], [1, 2, 3, 4, 5, 6, 7, 8, 9, 10, 11, 12, 13], [1, 2, 3, 4, 5, 6, 7, 8, 9, 10, 11, 12, 13], [], [], [], [], []]\n"
     ]
    }
   ],
   "source": [
    "print(liste_last)"
   ]
  },
  {
   "cell_type": "code",
   "execution_count": 35,
   "id": "4a51487a",
   "metadata": {},
   "outputs": [],
   "source": [
    "liste_cles_guerin = list(guerin.keys())"
   ]
  },
  {
   "cell_type": "code",
   "execution_count": 36,
   "id": "37a50481",
   "metadata": {},
   "outputs": [],
   "source": [
    "new_list = []\n",
    "for idx in range(len(guerin)):\n",
    "    new_str = liste_cles_guerin[idx].split('_')[0]+'_'+liste_cles_guerin[idx].split('_')[1] + '_' + string_list[idx]\n",
    "    \n",
    "    new_list.append(new_str)\n",
    "        \n",
    "guerin_2 = dict(zip(new_list,list(guerin.values())))"
   ]
  },
  {
   "cell_type": "code",
   "execution_count": 37,
   "id": "5f2d005c",
   "metadata": {},
   "outputs": [],
   "source": [
    "guerin2_liste_values = list(guerin_2.values())\n",
    "guerin2_liste_keys = list(guerin_2.keys())\n",
    "guerin2_stopwords = dict(zip(guerin2_liste_keys,remove_words_from_sentence_list(guerin2_liste_values)))"
   ]
  },
  {
   "cell_type": "code",
   "execution_count": 38,
   "id": "7d1ed995",
   "metadata": {},
   "outputs": [
    {
     "name": "stderr",
     "output_type": "stream",
     "text": [
      "100%|███████████████████████████████████████| 2074/2074 [03:08<00:00, 11.02it/s]\n"
     ]
    }
   ],
   "source": [
    "match_bi_word_without_stopwords2 = {}\n",
    "\n",
    "for i in tqdm(list(pdv_stopwords.keys())):\n",
    "    big = create_bigrams(pdv_stopwords.get(i))\n",
    "    correspondance = []\n",
    "    lesgrams = []\n",
    "\n",
    "    for key in list(guerin2_stopwords.keys()):\n",
    "        liste_bigrams = create_bigrams(guerin2_stopwords.get(key))\n",
    "        for bigram in big:\n",
    "            if bigram in liste_bigrams:\n",
    "                correspondance.append(key)\n",
    "                lesgrams.append(bigram)\n",
    "                break\n",
    "                \n",
    "    match_bi_word_without_stopwords2[i] = correspondance\n",
    "delete_empty_values(match_bi_word_without_stopwords2)"
   ]
  },
  {
   "cell_type": "code",
   "execution_count": 39,
   "id": "90aea373",
   "metadata": {},
   "outputs": [],
   "source": [
    "pdv_words_stopwords = []\n",
    "\n",
    "for idx in list(match_bi_word_without_stopwords2.keys()):\n",
    "    pdv_words_stopwords.append(pdv_stopwords.get(idx))\n",
    "    \n",
    "guerin2_words_stopwords = []\n",
    "\n",
    "for liste in list(match_bi_word_without_stopwords2.values()):\n",
    "    sentence = []\n",
    "    for value in liste:\n",
    "        sentence.append(guerin2_stopwords.get(value))\n",
    "    guerin2_words_stopwords.append(sentence)"
   ]
  },
  {
   "cell_type": "code",
   "execution_count": 40,
   "id": "2de96d73",
   "metadata": {},
   "outputs": [],
   "source": [
    "sentences_stopwords2 = dict(zip(pdv_words_stopwords,guerin2_words_stopwords))"
   ]
  },
  {
   "cell_type": "code",
   "execution_count": null,
   "id": "a4dfad38",
   "metadata": {},
   "outputs": [],
   "source": []
  },
  {
   "cell_type": "code",
   "execution_count": null,
   "id": "ef9b119e",
   "metadata": {},
   "outputs": [],
   "source": []
  },
  {
   "cell_type": "markdown",
   "id": "b2a73f80",
   "metadata": {},
   "source": [
    "## Usage de la fonction pour obtenir un dictionnaire avec au moins 3 mots communs par phrase"
   ]
  },
  {
   "cell_type": "code",
   "execution_count": 41,
   "id": "8efc7cf2",
   "metadata": {},
   "outputs": [
    {
     "name": "stderr",
     "output_type": "stream",
     "text": [
      " 44%|█████████████████                      | 662/1510 [00:05<00:07, 120.09it/s]"
     ]
    },
    {
     "name": "stdout",
     "output_type": "stream",
     "text": [
      "An unexpected error occurred: 'NoneType' object has no attribute 'split'\n"
     ]
    },
    {
     "name": "stderr",
     "output_type": "stream",
     "text": [
      " 52%|████████████████████▍                  | 792/1510 [00:06<00:03, 183.76it/s]"
     ]
    },
    {
     "name": "stdout",
     "output_type": "stream",
     "text": [
      "An unexpected error occurred: can only concatenate str (not \"NoneType\") to str\n"
     ]
    },
    {
     "name": "stderr",
     "output_type": "stream",
     "text": [
      " 71%|██████████████████████████▊           | 1065/1510 [00:08<00:02, 155.59it/s]"
     ]
    },
    {
     "name": "stdout",
     "output_type": "stream",
     "text": [
      "An unexpected error occurred: can only concatenate str (not \"NoneType\") to str\n"
     ]
    },
    {
     "name": "stderr",
     "output_type": "stream",
     "text": [
      " 74%|████████████████████████████▎         | 1124/1510 [00:09<00:03, 114.13it/s]"
     ]
    },
    {
     "name": "stdout",
     "output_type": "stream",
     "text": [
      "An unexpected error occurred: unsupported operand type(s) for +: 'NoneType' and 'str'\n"
     ]
    },
    {
     "name": "stderr",
     "output_type": "stream",
     "text": [
      " 77%|█████████████████████████████▉         | 1158/1510 [00:09<00:04, 70.95it/s]"
     ]
    },
    {
     "name": "stdout",
     "output_type": "stream",
     "text": [
      "An unexpected error occurred: can only concatenate str (not \"NoneType\") to str\n",
      "An unexpected error occurred: unsupported operand type(s) for +: 'NoneType' and 'str'\n"
     ]
    },
    {
     "name": "stderr",
     "output_type": "stream",
     "text": [
      " 81%|███████████████████████████████▍       | 1217/1510 [00:10<00:03, 88.75it/s]"
     ]
    },
    {
     "name": "stdout",
     "output_type": "stream",
     "text": [
      "An unexpected error occurred: unsupported operand type(s) for +: 'NoneType' and 'str'\n"
     ]
    },
    {
     "name": "stderr",
     "output_type": "stream",
     "text": [
      " 82%|███████████████████████████████▉       | 1236/1510 [00:10<00:03, 85.02it/s]"
     ]
    },
    {
     "name": "stdout",
     "output_type": "stream",
     "text": [
      "An unexpected error occurred: can only concatenate str (not \"NoneType\") to str\n",
      "An unexpected error occurred: unsupported operand type(s) for +: 'NoneType' and 'str'\n"
     ]
    },
    {
     "name": "stderr",
     "output_type": "stream",
     "text": [
      " 90%|███████████████████████████████████▏   | 1364/1510 [00:12<00:02, 51.52it/s]"
     ]
    },
    {
     "name": "stdout",
     "output_type": "stream",
     "text": [
      "An unexpected error occurred: unsupported operand type(s) for +: 'NoneType' and 'str'\n"
     ]
    },
    {
     "name": "stderr",
     "output_type": "stream",
     "text": [
      " 97%|█████████████████████████████████████▉ | 1468/1510 [00:15<00:01, 33.99it/s]"
     ]
    },
    {
     "name": "stdout",
     "output_type": "stream",
     "text": [
      "An unexpected error occurred: 'NoneType' object has no attribute 'split'\n"
     ]
    },
    {
     "name": "stderr",
     "output_type": "stream",
     "text": [
      "100%|███████████████████████████████████████| 1510/1510 [00:16<00:00, 89.39it/s]\n"
     ]
    }
   ],
   "source": [
    "startos = {}\n",
    "liste_items = {}\n",
    "\n",
    "for i in tqdm(range(len(sentences_stopwords2))):\n",
    "    \n",
    "    try:\n",
    "    \n",
    "        startos.update(get_list_bool(list(sentences_stopwords2.items())[i]))\n",
    "    except Exception as e:\n",
    "        print(f\"An unexpected error occurred: {i}\", e)\n",
    "#je laisse volontairement ces cas sur le côté"
   ]
  },
  {
   "cell_type": "code",
   "execution_count": 42,
   "id": "6595ad88",
   "metadata": {},
   "outputs": [],
   "source": [
    "def contains_only_false(lst):\n",
    "    return all(not val for val in lst)"
   ]
  },
  {
   "cell_type": "code",
   "execution_count": 43,
   "id": "e580b777",
   "metadata": {},
   "outputs": [],
   "source": [
    "startos = {key: value for key, value in startos.items() if not contains_only_false(value)}"
   ]
  },
  {
   "cell_type": "code",
   "execution_count": 44,
   "id": "6cbe9f1e",
   "metadata": {},
   "outputs": [],
   "source": [
    "liste_keys = []\n",
    "\n",
    "for elm in list(startos.keys()):\n",
    "    liste_keys.append(get_key(elm,pdv_stopwords))\n",
    "    \n",
    "liste_values = []\n",
    "\n",
    "for i in liste_keys:\n",
    "    liste_values.append(match_bi_word_without_stopwords2.get(i))\n",
    "    \n",
    "my_dict = dict(zip(liste_keys, liste_values))"
   ]
  },
  {
   "cell_type": "code",
   "execution_count": 45,
   "id": "4a7bffcd",
   "metadata": {},
   "outputs": [],
   "source": [
    "guerin_true_tot = []\n",
    "\n",
    "for elm in range(len(list(startos.items()))):\n",
    "    \n",
    "    item = list(startos.items())[elm]\n",
    "    item2 = list(my_dict.items())[elm]\n",
    "    \n",
    "    guerin_true = []\n",
    "    \n",
    "    for i in range(len(item[1])):\n",
    "        if item[1][i] == True:\n",
    "            guerin_true.append(item2[1][i])\n",
    "    guerin_true_tot.append(guerin_true)"
   ]
  },
  {
   "cell_type": "code",
   "execution_count": 46,
   "id": "88d891ca",
   "metadata": {},
   "outputs": [],
   "source": [
    "startos2 = dict(zip(liste_keys,guerin_true_tot))"
   ]
  },
  {
   "cell_type": "code",
   "execution_count": 47,
   "id": "e16526ee",
   "metadata": {},
   "outputs": [],
   "source": [
    "pdv_sentences = []\n",
    "\n",
    "for idx in list(startos2.keys()):\n",
    "    pdv_sentences.append(pdv_stopwords.get(idx))\n",
    "    \n",
    "guerin_2_sentences = []\n",
    "\n",
    "for liste in list(startos2.values()):\n",
    "    sentence = []\n",
    "    for value in liste:\n",
    "        sentence.append(guerin_2.get(value))\n",
    "    guerin_2_sentences.append(sentence)"
   ]
  },
  {
   "cell_type": "code",
   "execution_count": 48,
   "id": "93e6c755",
   "metadata": {},
   "outputs": [],
   "source": [
    "startos3 = dict(zip(pdv_sentences,guerin_2_sentences))"
   ]
  },
  {
   "cell_type": "code",
   "execution_count": 49,
   "id": "42a850e1",
   "metadata": {},
   "outputs": [
    {
     "data": {
      "text/plain": [
       "632"
      ]
     },
     "execution_count": 49,
     "metadata": {},
     "output_type": "execute_result"
    }
   ],
   "source": [
    "len(startos2)"
   ]
  },
  {
   "cell_type": "code",
   "execution_count": 50,
   "id": "b2286322",
   "metadata": {},
   "outputs": [],
   "source": [
    "item = list(startos3.items())[12]"
   ]
  },
  {
   "cell_type": "code",
   "execution_count": 51,
   "id": "b5d9293b",
   "metadata": {},
   "outputs": [
    {
     "ename": "NameError",
     "evalue": "name 'get_lists' is not defined",
     "output_type": "error",
     "traceback": [
      "\u001b[0;31m---------------------------------------------------------------------------\u001b[0m",
      "\u001b[0;31mNameError\u001b[0m                                 Traceback (most recent call last)",
      "Input \u001b[0;32mIn [51]\u001b[0m, in \u001b[0;36m<module>\u001b[0;34m\u001b[0m\n\u001b[0;32m----> 1\u001b[0m x,y \u001b[38;5;241m=\u001b[39m \u001b[43mget_lists\u001b[49m(item)\n",
      "\u001b[0;31mNameError\u001b[0m: name 'get_lists' is not defined"
     ]
    }
   ],
   "source": [
    "x,y = get_lists(item)"
   ]
  },
  {
   "cell_type": "code",
   "execution_count": null,
   "id": "87e446a8",
   "metadata": {},
   "outputs": [],
   "source": []
  },
  {
   "cell_type": "code",
   "execution_count": null,
   "id": "c587b037",
   "metadata": {},
   "outputs": [],
   "source": [
    "inter = {}\n",
    "for i in range(len(x[0])):\n",
    "    if x[0][i] in y[0]:\n",
    "        inter[f'**{x[0][i]}**'] = i\n",
    "for i in range(len(list(inter.values()))):\n",
    "    x[0][(list(inter.values())[i])] =  f'**{x[0][(list(inter.values())[i])]}**'\n",
    "\n",
    "inter2 = {}\n",
    "for i in range(len(x[2])):\n",
    "    if x[2][i] in y[2]:\n",
    "        inter2[f'**{x[2][i]}**'] = i\n",
    "        \n",
    "for i in range(len(list(inter2.values()))):\n",
    "    x[2][(list(inter2.values())[i])] =  f'**{x[2][(list(inter2.values())[i])]}**'\n",
    "    \n",
    "x[1] = [f'**{word}**' for word in x[1]]\n",
    "print(x[1])\n",
    "\n",
    "sentence_x = ' '.join(x[0] + x[1] +x[2])"
   ]
  },
  {
   "cell_type": "code",
   "execution_count": null,
   "id": "79d72eba",
   "metadata": {},
   "outputs": [],
   "source": [
    "sentence_x"
   ]
  },
  {
   "cell_type": "code",
   "execution_count": null,
   "id": "92fa94a0",
   "metadata": {},
   "outputs": [],
   "source": []
  },
  {
   "cell_type": "code",
   "execution_count": null,
   "id": "0002861f",
   "metadata": {},
   "outputs": [],
   "source": []
  },
  {
   "cell_type": "code",
   "execution_count": null,
   "id": "c5ab2281",
   "metadata": {},
   "outputs": [],
   "source": []
  }
 ],
 "metadata": {
  "kernelspec": {
   "display_name": "Python 3 (ipykernel)",
   "language": "python",
   "name": "python3"
  },
  "language_info": {
   "codemirror_mode": {
    "name": "ipython",
    "version": 3
   },
   "file_extension": ".py",
   "mimetype": "text/x-python",
   "name": "python",
   "nbconvert_exporter": "python",
   "pygments_lexer": "ipython3",
   "version": "3.9.7"
  }
 },
 "nbformat": 4,
 "nbformat_minor": 5
}

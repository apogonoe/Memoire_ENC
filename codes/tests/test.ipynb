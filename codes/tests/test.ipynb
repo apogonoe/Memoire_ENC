{
 "cells": [
  {
   "cell_type": "code",
   "execution_count": 1,
   "id": "1b2007ba",
   "metadata": {},
   "outputs": [],
   "source": [
    "import numpy as np\n",
    "import pandas as pd\n",
    "import os\n",
    "import re\n",
    "from tqdm import tqdm\n",
    "import ast\n",
    "import scipy.cluster.hierarchy as shc\n",
    "from scipy.spatial.distance import pdist, squareform\n",
    "import matplotlib.pyplot as plt\n",
    "%matplotlib inline\n",
    "import seaborn as sns\n",
    "import numpy as np\n",
    "from IPython.display import Markdown\n",
    "from collections import Counter"
   ]
  },
  {
   "cell_type": "code",
   "execution_count": null,
   "id": "4f556fdf",
   "metadata": {},
   "outputs": [],
   "source": [
    "def clean_text(text):\n",
    "    \n",
    "    text2 = re.sub('!','.',text)\n",
    "    text2 = re.sub(' \\...',' ',text)\n",
    "    text2 = re.sub('  ',' ',text2)\n",
    "    char  = [';',':','!','«','»',',','“','”','(',')']\n",
    "    pattern = '[' + ''.join(char) + ']'\n",
    "    new_str = re.sub(pattern,'', text2)\n",
    "    #clean_words = [word for word in new_str.split() if word.lower() not in stopwords_latin]\n",
    "    #new_str = ' '.join(clean_words)\n",
    "    new_str = re.sub(r'\\? [A-Z]','.',new_str)\n",
    "    new_str = re.sub(r'\\?','',new_str)\n",
    "    pattern = r\"\\. ([a-z])\"\n",
    "    new_str = re.sub(pattern, r\" \\1\", new_str)\n",
    "    string = new_str.split('.')\n",
    "    string = [x for x in string if x != '']\n",
    "    string = [x for x in string if x != ' ']\n",
    "    string = [x.lower() for x in string]\n",
    "    string = [x.lstrip() for x in string]\n",
    "    string = [x.rstrip() for x in string]\n",
    "    string = [re.sub('v','u',x) for x in string]\n",
    "    string = [re.sub('j','i',x) for x in string]\n",
    "    \n",
    "    return string"
   ]
  },
  {
   "cell_type": "code",
   "execution_count": null,
   "id": "5b876c16",
   "metadata": {},
   "outputs": [],
   "source": [
    "def create_bigrams(sentence):\n",
    "    words = sentence.split()\n",
    "    bigrams = [(words[i], words[i+1]) for i in range(len(words) - 1)]\n",
    "    return bigrams"
   ]
  },
  {
   "cell_type": "code",
   "execution_count": null,
   "id": "e840db97",
   "metadata": {},
   "outputs": [],
   "source": [
    "def delete_empty_values(dictionary):\n",
    "    keys_to_delete = []\n",
    "    for key, value in dictionary.items():\n",
    "        if not value:\n",
    "            keys_to_delete.append(key)\n",
    "    for key in keys_to_delete:\n",
    "        dictionary.pop(key)"
   ]
  },
  {
   "cell_type": "code",
   "execution_count": null,
   "id": "f509e022",
   "metadata": {},
   "outputs": [],
   "source": [
    "def get_common_grams(phrase1,phrase2):\n",
    "    \n",
    "    big1 = create_bigrams(phrase1)\n",
    "    big2 = create_bigrams(phrase2)\n",
    "    \n",
    "    common = []\n",
    "    \n",
    "    for bigram in big1:\n",
    "        if bigram in big2:\n",
    "            common.append(bigram)\n",
    "    return common"
   ]
  },
  {
   "cell_type": "code",
   "execution_count": null,
   "id": "81b70106",
   "metadata": {},
   "outputs": [],
   "source": []
  },
  {
   "cell_type": "code",
   "execution_count": null,
   "id": "0fb4919c",
   "metadata": {},
   "outputs": [],
   "source": []
  },
  {
   "cell_type": "code",
   "execution_count": null,
   "id": "d05a5134",
   "metadata": {},
   "outputs": [],
   "source": []
  }
 ],
 "metadata": {
  "kernelspec": {
   "display_name": "Python 3 (ipykernel)",
   "language": "python",
   "name": "python3"
  },
  "language_info": {
   "codemirror_mode": {
    "name": "ipython",
    "version": 3
   },
   "file_extension": ".py",
   "mimetype": "text/x-python",
   "name": "python",
   "nbconvert_exporter": "python",
   "pygments_lexer": "ipython3",
   "version": "3.7.16"
  }
 },
 "nbformat": 4,
 "nbformat_minor": 5
}

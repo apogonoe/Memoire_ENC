{
 "cells": [
  {
   "cell_type": "code",
   "execution_count": 1,
   "id": "526a75ad",
   "metadata": {},
   "outputs": [],
   "source": [
    "import pandas as pd\n",
    "import os\n",
    "import re\n",
    "from tqdm import tqdm\n",
    "import ast"
   ]
  },
  {
   "cell_type": "code",
   "execution_count": 2,
   "id": "0134c992",
   "metadata": {},
   "outputs": [],
   "source": [
    "file = '/home/noe/Documents/2022-2023/ENC/Mémoire/Dataframes/PDV_grams.xlsx'\n",
    "guerin = '/home/noe/Documents/2022-2023/ENC/Mémoire/Dataframes/Guerin_grams.xlsx'\n",
    "viard = '/home/noe/Documents/2022-2023/ENC/Mémoire/Dataframes/Viard_grams.xlsx'"
   ]
  },
  {
   "cell_type": "code",
   "execution_count": 5,
   "id": "4c6367e0",
   "metadata": {},
   "outputs": [],
   "source": [
    "os.chdir('/home/noe/Documents/2022-2023/ENC/Mémoire/Comparaison_de_mots/')"
   ]
  },
  {
   "cell_type": "code",
   "execution_count": 6,
   "id": "d051cf5c",
   "metadata": {},
   "outputs": [],
   "source": [
    "df_pdv = pd.read_excel(file)\n",
    "df_guerin = pd.read_excel(guerin)\n",
    "df_viard = pd.read_excel(viard)"
   ]
  },
  {
   "cell_type": "code",
   "execution_count": 7,
   "id": "7609934d",
   "metadata": {},
   "outputs": [],
   "source": [
    "def nett_guerin(string):\n",
    "    string = re.sub('v','u',string)\n",
    "    string = re.sub('j','i',string)\n",
    "    return string\n",
    "df_guerin['text'] = df_guerin['text'].apply(nett_guerin)"
   ]
  },
  {
   "cell_type": "code",
   "execution_count": 8,
   "id": "a8b82adb",
   "metadata": {},
   "outputs": [],
   "source": [
    "def clean_text(text):\n",
    "    char  = [';',':','!','«','»',',','“','”']\n",
    "    pattern = '[' + ''.join(char) + ']'\n",
    "    new_str = re.sub(pattern,'', text)\n",
    "    words_to_remove = ['ab', 'ac', 'ad', 'adhic', 'aliqui', 'aliquis', 'an', 'ante', 'apud', 'at', 'atque', 'aut', 'autem', 'cum', 'cur', 'de', 'deinde', 'dum', 'ego', 'enim', 'ergo', 'es', 'est', 'et', 'etiam', 'etsi', 'ex', 'fio', 'haud', 'hic', 'iam', 'idem', 'igitur', 'ille', 'in', 'infra', 'inter', 'interim', 'ipse', 'is', 'ita', 'magis', 'modo', 'mox', 'nam', 'ne', 'nec', 'necque', 'neque', 'nisi', 'non', 'nos', 'o', 'ob', 'per', 'possum', 'post', 'pro', 'quae', 'quam', 'quare', 'qui', 'quia', 'quicumque', 'quidem', 'quilibet', 'quis', 'quisnam', 'quisquam', 'quisque', 'quisquis', 'quo', 'quoniam', 'sed', 'si', 'sic', 'sive', 'sub', 'sui', 'sum', 'super', 'suus', 'tam', 'tamen', 'trans', 'tu', 'tum', 'ubi', 'uel', 'uero', 'unus', 'ut']\n",
    "    clean_words = [word for word in new_str.split() if word.lower() not in words_to_remove]\n",
    "    new_str = ' '.join(clean_words)\n",
    "    new_str = re.sub(r'\\? [A-Z]','.',new_str)\n",
    "    new_str = re.sub(r'\\?','',new_str)\n",
    "    pattern = r\"\\. ([a-z])\"\n",
    "    new_str = re.sub(pattern, r\" \\1\", new_str)\n",
    "    string = new_str.split('.')\n",
    "    string = [x for x in string if x != '']\n",
    "    string = [x for x in string if x != ' ']\n",
    "    string = [x.lower() for x in string]\n",
    "    return string"
   ]
  },
  {
   "cell_type": "code",
   "execution_count": 9,
   "id": "85fa131e",
   "metadata": {},
   "outputs": [],
   "source": [
    "def dico_intersection(string,compared_string):\n",
    "    result_dict = {}\n",
    "\n",
    "    for i, sentence1 in enumerate(string):\n",
    "        intersections = {}\n",
    "        for j, sentence2 in enumerate(compared_string):\n",
    "            words1 = sentence1.split()\n",
    "            words2 = sentence2.split()\n",
    "            common_words = []\n",
    "            for word in words1:\n",
    "                if word in words2 and word not in common_words:\n",
    "                    common_words.append(word)\n",
    "            if len(common_words) > 0:\n",
    "                intersections[f\"phrase_{j+1}\"] = common_words\n",
    "        if len(intersections) > 0:\n",
    "            result_dict[f\"phrase_{i+1}\"] = intersections\n",
    "            \n",
    "    return result_dict"
   ]
  },
  {
   "cell_type": "code",
   "execution_count": 10,
   "id": "32c2bdbb",
   "metadata": {},
   "outputs": [],
   "source": [
    "df_pdv = df_pdv[['Livre','Numéro de la charte','Titre','textes']]"
   ]
  },
  {
   "cell_type": "code",
   "execution_count": 12,
   "id": "88862a48",
   "metadata": {},
   "outputs": [
    {
     "name": "stderr",
     "output_type": "stream",
     "text": [
      "/tmp/ipykernel_52701/2755391371.py:1: SettingWithCopyWarning: \n",
      "A value is trying to be set on a copy of a slice from a DataFrame.\n",
      "Try using .loc[row_indexer,col_indexer] = value instead\n",
      "\n",
      "See the caveats in the documentation: https://pandas.pydata.org/pandas-docs/stable/user_guide/indexing.html#returning-a-view-versus-a-copy\n",
      "  df_pdv['textes'] = df_pdv['textes'].apply(clean_text)\n"
     ]
    }
   ],
   "source": [
    "df_pdv['textes'] = df_pdv['textes'].apply(clean_text)"
   ]
  },
  {
   "cell_type": "code",
   "execution_count": 17,
   "id": "bafc1eb8",
   "metadata": {},
   "outputs": [
    {
     "data": {
      "text/plain": [
       "['collegerunt pontifices pharisei consilium unum aduersus principem christianum dominum conuenerunt',\n",
       " ' quid facimus inquiunt homo hostibus triumphat ipsum dimittimus omnem sibi subiciet gloriam lombardorum more cesareo ueniens tardabit posse nobis locum auferat destruat gentem nostram',\n",
       " ' vineam domini sabaoth aliis locabit agricolis bonos absque iudicio male perdet',\n",
       " ' obstemus principiis forte scintilla tenuis flammam transeat destructiuam morbus fistulare incipiens abscissus perueniat medullas',\n",
       " ' sepe uix ferus ignis extinguitur morbo cronico salubris sero parabitur medicina',\n",
       " ' nullos huiusmodi sermones principis attendentes percutiamus aiunt acriter ipsum lingua sagitta nostra plus lateat procedat procedat quod feriat feriat quod ledat ledatur iaceat prosternatur quod amplius resurgat tunc clare uidebimur sua somnia prosint illi cathedram moysi sedentes hoc tempore pharisei moti sunt contra romanum principem oberrantes quod actores malitiae facti simul iudices aperte iudicium subuerterunt',\n",
       " ' tandem illos malitia intus extra penitus excecauit quod una prorsus errante clauium insontem iustum principem ligauerunt audite mirabilem gloriosi principis ligaturam',\n",
       " ' iste pater patrum dicitur seruus seruorum dei omni prorsus exclusa iustitia factus aspis surda admittens romani principis allegata uelut lapis funda iacitur emisit subito uerbum malum uelut omnino reiciens perturbatione consilium quod scripsi scripsi uociferans respuit uiam pacis',\n",
       " ' christi uicarius diceris petri successor piscatoris accensus furore refugis id rex omnium induit formam serui',\n",
       " 'ic rogo quid resurgens mortuis dixit primo discipulis suis magister omnium magistrorum inquit arma scutum sumite sagittam gladium pax uobis quid gloriaris malitia solus orbe diceris fraus dolus',\n",
       " 'uid aliud pacem hymnus dicit angelicus tertius agnus dei quid mirabilis regis eterni filius corporali presentia discessurus tunc reliquit discipulis rediit unde uenit',\n",
       " 'erte pax dilectio sunt principaliter illa duo teneri uoluit discessum',\n",
       " ' christi uicarium petri te asseris successorem christi prorsus petri tramite discedas actus concordet actibus campanus inhereat galileo',\n",
       " ' istud satis merito turbat christi fidelium puritatem quod petrus omnibus relictis rete sequi christo uocante uoluit uiam uitae tamquam omnia possidens nichil habens thesaurum celestis patriae semper ardentius aspirabat tamquam nichil habens omnia possidens queris semper quid deuores derodas sedare potest aliquando totus mundus uentris ingluuiem tibi sufficit orbis terrae',\n",
       " ' petrus legitur portam ueniens speciosam aurum argentum habeo dixit claudo forsan incipit aceruus pecuniae minui quem adoras statim claudo claudicas querens anxie sunt mundi',\n",
       " ' christo iubente predicas tamquam pastor ecclesiae paupertatem refugis quod hortaris querens semper copules aurum auro hoc restat aliud dormis summi pontificis predicatio contempnatur celo namque bene recolis descendit linteum petrum cui surge macta comede dictum oraret immunda comedere noluit quamuis esset dira esurie stimulatus hoc uiuis comedas cuius uasis sciphis aureis scriptum bibo bibis cuius uerbi preteritum frequenter mensa repetis cibum quod quasi raptus usque celum tertium hebraice grece loqueris latine postquam impleta fuerit uentris ingluuies stomachus usque summum eius tunc pennas uentorum estimas te sedere',\n",
       " ' tunc romanorum tibi substat imperium tunc afferunt munera reges terrae tunc uinum mirabiles cito facit exercitus tunc seruiunt omnes gentium nationes',\n",
       " ' ploret mater ecclesia quod pastor gregis dominici factus lupus rapax crassum grege comedens confractum alligat dissolutum propria reducit uelut amator schismatis caput actor scandali pater doli contra iura romani principis honorem tuetur hereticos dei omnium christi fidelium inimicos omni prorsus altissimi timore postposito hominum uerecundia ultroiecta possit melius cordis nequitiam occultare predictos crucis hostes fidei fouet protegit quadam specie pietatis asserens se lombardis hoc tantum ferre subsidium hac parte cesar plus cedat illos iudicet plusquam requirit series iuris dolosae uulpis astutia numquid hoc falles ingenium uenatoris regis israel intende singularis dominici gregis pastor dic rogo quid hoc quod curauit infirmos legitur morbis ualidis umbra petri tamquam uir sanguinum hoc solum inuigilas facta strage uiuentium sanguis innoxius effundatur te sacerdos male optime dici potest tuo tempore deo displicere proponis excellentia tua iracundiae temporis imitator dicens ignem ueni mittere terram guerram ueni ponere ecclesia quid aliud uolo se homines prelientur hoc romani pontificis cui pasce dictum oues meas illas mortifices quarum pastor caput diceris dux seruator',\n",
       " ' istud consideres uoluntas furor opprimat ius uerum quod rex terrestrium celorum terris diutius conuersando nichil prorsus habere uoluit terrenis docendo discipulos beatos pauperes spiritu tunc uocauit tantum habens terris proprium commune terrenis terris horrea thesaurizas proh dolor quod thesauros ecclesiae raro numquam usus erogas egenorum testatur anagnia mandasti domum fieri mirabilem sicut regia solis erat oblitus prorsus petri inopiae dudum habuit rete quod peius illa nostra hierusalem qua christus effuso sanguine pati uoluit occidi iacet ancillata canibus tributaria sarracenis',\n",
       " ' christi uicarius hoc dormis curas quod nostra dolet hereditas alios deuoluta',\n",
       " ' sedet deserta ciuitas olim plena populo gentibus speciosa romani antistitis omni prorsus solacio destituta fundit riuos amaritudinis mel lac olim fundere consueuit',\n",
       " ' vox cuius uox turturis cantu dat gemitum uiduata plorat anxie uelut rachel filios suos quos templo suo sancto uidet sabbata uenerari assidue regem regum romanum expectans principem captiuitatis suae fiduciam exterminii redemptorem hostis herodes impie illuc ire timens lapis offensionis petra scandali maris terrae semitas conturbasti cesar iste mirabilis mundi lumen speculum sine ruga succurrat more cesareo terrae dei defendis hereticos perditionis filios erroris audire potes merito uerbum illud error cui resistitur adprobatur mirum cares occultae societatis scrupulo manifesto facinori desinis obuiare cor reuertere opponas te principi matris ecclesiae defensori attende cogita quod siluestro dudum papae pauperrimo latenti tunc temporis cauernis respondit decuit tantum uirum sacri munificentia constantini curatus leprae uitio statim dedit ecclesiae quicquid libertatis habet hodie honoris',\n",
       " ' siluestri successor male respondet hodie friderico dimittis septuagies septies sicut eterni regis filius dixit petro uis semel parcere instanter sepe ueniam postulanti dicat apostolus omnis potestas domino deo potestati resistit diuinae potentiae contradicit',\n",
       " ' reuertentem gremium matris ecclesiae benigne recipias filium singularem presertim petat instanter ueniam sine culpa alioquin leo noster fortissimus hodie simulat se dormire rugitu solo terribili trahet omnes terrae finibus tauros pingues plantando iustitiam ecclesiam diriget euellens prorsus destruens cornua superborum']"
      ]
     },
     "execution_count": 17,
     "metadata": {},
     "output_type": "execute_result"
    }
   ],
   "source": [
    "df_pdv['textes'][0]"
   ]
  },
  {
   "cell_type": "code",
   "execution_count": null,
   "id": "577b2be7",
   "metadata": {},
   "outputs": [],
   "source": []
  },
  {
   "cell_type": "code",
   "execution_count": null,
   "id": "e31d1538",
   "metadata": {},
   "outputs": [],
   "source": []
  }
 ],
 "metadata": {
  "kernelspec": {
   "display_name": "Python 3 (ipykernel)",
   "language": "python",
   "name": "python3"
  },
  "language_info": {
   "codemirror_mode": {
    "name": "ipython",
    "version": 3
   },
   "file_extension": ".py",
   "mimetype": "text/x-python",
   "name": "python",
   "nbconvert_exporter": "python",
   "pygments_lexer": "ipython3",
   "version": "3.9.7"
  }
 },
 "nbformat": 4,
 "nbformat_minor": 5
}

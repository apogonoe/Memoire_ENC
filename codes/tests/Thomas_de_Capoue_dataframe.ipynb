{
 "cells": [
  {
   "cell_type": "code",
   "execution_count": 1,
   "id": "215ebb35",
   "metadata": {},
   "outputs": [],
   "source": [
    "import pandas as pd\n",
    "import numpy as np\n",
    "import os"
   ]
  },
  {
   "cell_type": "code",
   "execution_count": 2,
   "id": "ef145bb9",
   "metadata": {},
   "outputs": [],
   "source": [
    "path = '/home/noe/Documents/2022-2023/ENC/Mémoire/Thomas_de_Capoue/texte/'\n",
    "os.chdir(path)"
   ]
  },
  {
   "cell_type": "code",
   "execution_count": 19,
   "id": "c6c6f68b",
   "metadata": {},
   "outputs": [
    {
     "name": "stdout",
     "output_type": "stream",
     "text": [
      "/home/noe/Documents/2022-2023/ENC/Mémoire/Thomas_de_Capoue/texte/livre_1/\n",
      "/home/noe/Documents/2022-2023/ENC/Mémoire/Thomas_de_Capoue/texte/livre_2/\n",
      "/home/noe/Documents/2022-2023/ENC/Mémoire/Thomas_de_Capoue/texte/livre_3/\n",
      "/home/noe/Documents/2022-2023/ENC/Mémoire/Thomas_de_Capoue/texte/livre_4/\n",
      "/home/noe/Documents/2022-2023/ENC/Mémoire/Thomas_de_Capoue/texte/livre_5/\n",
      "/home/noe/Documents/2022-2023/ENC/Mémoire/Thomas_de_Capoue/texte/livre_6/\n",
      "/home/noe/Documents/2022-2023/ENC/Mémoire/Thomas_de_Capoue/texte/livre_7/\n",
      "/home/noe/Documents/2022-2023/ENC/Mémoire/Thomas_de_Capoue/texte/livre_8/\n",
      "/home/noe/Documents/2022-2023/ENC/Mémoire/Thomas_de_Capoue/texte/livre_9/\n",
      "/home/noe/Documents/2022-2023/ENC/Mémoire/Thomas_de_Capoue/texte/livre_10/\n"
     ]
    }
   ],
   "source": [
    "tot = 1\n",
    "\n",
    "textes = []\n",
    "numéro = []\n",
    "livre = []\n",
    "\n",
    "while tot <= 10:\n",
    "    \n",
    "    file = path + f'livre_{tot}/'\n",
    "    os.chdir(file)\n",
    "    \n",
    "    print(file)\n",
    "    \n",
    "    x = len(os.listdir(file))\n",
    "    \n",
    "    num = list(range(1,x+1))\n",
    "    numéro.extend(num)\n",
    "\n",
    "    book = [f'Livre_{tot}'] * x\n",
    "    livre.extend(book)\n",
    "\n",
    "    i = 1\n",
    "    \n",
    "    while i <= x:\n",
    "\n",
    "        with open(f'charte_{i}.txt','r') as file:\n",
    "            data = file.readlines()\n",
    "        textes.extend(data)\n",
    "\n",
    "        i += 1\n",
    "    tot += 1"
   ]
  },
  {
   "cell_type": "code",
   "execution_count": 22,
   "id": "fa319e33",
   "metadata": {},
   "outputs": [],
   "source": [
    "numéro = list(range(1,76))\n",
    "livre = ['Livre_1'] * len(textes)"
   ]
  },
  {
   "cell_type": "code",
   "execution_count": 22,
   "id": "491fa719",
   "metadata": {},
   "outputs": [],
   "source": [
    "dico = {'ID':livre,'Numéro':numéro,'Text':textes}"
   ]
  },
  {
   "cell_type": "code",
   "execution_count": 23,
   "id": "0fcdbdf7",
   "metadata": {},
   "outputs": [],
   "source": [
    "df = pd.DataFrame(dico)"
   ]
  },
  {
   "cell_type": "code",
   "execution_count": 25,
   "id": "6e066647",
   "metadata": {},
   "outputs": [],
   "source": [
    "path = '/home/noe/Documents/2022-2023/ENC/Mémoire/Dataframes/'\n",
    "os.chdir(path)"
   ]
  },
  {
   "cell_type": "code",
   "execution_count": 26,
   "id": "61eb664d",
   "metadata": {},
   "outputs": [],
   "source": [
    "df.to_excel('Thomas_de_capoue.xlsx')"
   ]
  },
  {
   "cell_type": "code",
   "execution_count": null,
   "id": "deac8cf6",
   "metadata": {},
   "outputs": [],
   "source": []
  }
 ],
 "metadata": {
  "kernelspec": {
   "display_name": "Python 3 (ipykernel)",
   "language": "python",
   "name": "python3"
  },
  "language_info": {
   "codemirror_mode": {
    "name": "ipython",
    "version": 3
   },
   "file_extension": ".py",
   "mimetype": "text/x-python",
   "name": "python",
   "nbconvert_exporter": "python",
   "pygments_lexer": "ipython3",
   "version": "3.9.7"
  }
 },
 "nbformat": 4,
 "nbformat_minor": 5
}

{
 "cells": [
  {
   "cell_type": "code",
   "execution_count": 7,
   "id": "edab8efd",
   "metadata": {},
   "outputs": [],
   "source": [
    "from lxml import etree\n",
    "import xml.etree.ElementTree as ET\n",
    "import matplotlib.pyplot as plt\n",
    "%matplotlib inline\n",
    "import numpy as np\n",
    "from matplotlib.patches import Polygon\n",
    "import os\n",
    "from bs4 import BeautifulSoup\n",
    "import re\n",
    "from collections import Counter"
   ]
  },
  {
   "cell_type": "code",
   "execution_count": 276,
   "id": "e581c14e",
   "metadata": {},
   "outputs": [],
   "source": [
    "path = '/home/noe/Documents/2022-2023/ENC/Mémoire/Guérin/abréviations/tome1_0001.xml'"
   ]
  },
  {
   "cell_type": "code",
   "execution_count": 279,
   "id": "c923333e",
   "metadata": {},
   "outputs": [],
   "source": [
    "with open(path,'r') as file:\n",
    "    data = file.readlines()"
   ]
  },
  {
   "cell_type": "code",
   "execution_count": 280,
   "id": "67883a8d",
   "metadata": {},
   "outputs": [],
   "source": [
    "string = ''.join(data)"
   ]
  },
  {
   "cell_type": "code",
   "execution_count": 281,
   "id": "c86fb3fc",
   "metadata": {},
   "outputs": [],
   "source": [
    "regex = re.compile(r'<body>(.*?)</body>', re.DOTALL)\n",
    "match = regex.search(string)\n",
    "substring = match.group(1)"
   ]
  },
  {
   "cell_type": "code",
   "execution_count": 282,
   "id": "2c96f630",
   "metadata": {},
   "outputs": [],
   "source": [
    "regex = re.compile(r'<abbr>(.*?)</abbr>', re.DOTALL)\n",
    "new = re.sub(regex,'',substring)"
   ]
  },
  {
   "cell_type": "code",
   "execution_count": 283,
   "id": "3cb365b4",
   "metadata": {},
   "outputs": [],
   "source": [
    "regex = re.compile(r'<emph>(.*?)</emph>', re.DOTALL)\n",
    "emph = re.sub(regex,'',new)"
   ]
  },
  {
   "cell_type": "code",
   "execution_count": 284,
   "id": "85907177",
   "metadata": {},
   "outputs": [],
   "source": [
    "regex = re.compile(r'<note(.*?)>(.*?)</note>', re.DOTALL)\n",
    "note = re.sub(regex,'',emph)"
   ]
  },
  {
   "cell_type": "code",
   "execution_count": 285,
   "id": "49c72548",
   "metadata": {},
   "outputs": [],
   "source": [
    "wo_n = note.replace('\\n','')"
   ]
  },
  {
   "cell_type": "code",
   "execution_count": 286,
   "id": "f12858cd",
   "metadata": {},
   "outputs": [],
   "source": [
    "regex = re.compile(r' +', re.DOTALL)\n",
    "space = re.sub(regex,' ',wo_n)"
   ]
  },
  {
   "cell_type": "code",
   "execution_count": 287,
   "id": "e7cf479e",
   "metadata": {},
   "outputs": [
    {
     "data": {
      "text/plain": [
       "' <div type=\"transcription\" xml:lang=\"lat\"> <p> <pb facs=\"#tome1_0001_1\"/> <choice> <expan>Ph<ex>ilippus</ex> </expan> </choice>, <choice> <expan>et</expan> </choice>, univ<choice> <expan> <ex>er</ex> </expan> </choice>sis <choice> <expan>et</expan> </choice> <choice> <expan>c<ex>etera</ex> </expan> </choice> Cordi h<choice> <expan> <ex>ab</ex> </expan> </choice>entes, ut condecet, inimicor<choice> <expan> <ex>um</ex> </expan> </choice> nequicias et impulsus totis conati<choice> <expan>b<ex>us</ex> </expan> </choice> repellendo, <lb/> quiete<choice> <expan> <ex>m</ex> </expan> </choice> et pacem regni <choice> <expan>n<ex>ost</ex>r</expan> </choice>i <supplied>et</supplied> fidelium incolar<choice> <expan> <ex>um</ex> </expan> </choice> ejusd<choice> <expan> <ex>em</ex> </expan> </choice>, auxiliante Deo p<choice> <expan> <ex>re</ex> </expan> </choice>cipue et <choice> <expan>ip<ex>s</ex> </expan> </choice>o<choice> <expan>r<ex>um</ex> </expan> </choice> mediante subditor<choice> <expan> <ex>um</ex> </expan> </choice> subsidio,<lb/> <choice> <expan>p<ex>ro</ex> </expan> </choice>c<choice> <expan> <ex>ur</ex> </expan> </choice>are, ac <choice> <expan>p<ex>ro</ex> </expan> </choice>vid<supplied>er</supplied>e ne m<choice> <expan> <ex>er</ex> </expan> </choice>catores et alii subditi <choice> <expan>n<ex>ost</ex>r</expan> </choice>i in suis m<choice> <expan> <ex>er</ex> </expan> </choice>cat<choice> <expan> <ex>ur</ex> </expan> </choice>is et negoc<choice> <expan> <ex>iis</ex> </expan> </choice> aliis impediri valeant vel expon<choice> <expan> <ex>er</ex> </expan> </choice>e se<lb/> <choice> <expan>p<ex>er</ex> </expan> </choice>ic<choice> <expan> <ex>u</ex>l</expan> </choice>is quibuscun<choice> <expan>q<ex>ue</ex> </expan> </choice> ; not<choice> <expan> <ex>um</ex> </expan> </choice> facim<choice> <expan> <ex>us</ex> </expan> </choice> <choice> <expan>q<ex>uo</ex>d</expan> </choice> nos, licet ad <choice> <expan>h<ex>oc</ex> </expan> </choice> <choice> <expan>p<ex>er</ex> </expan> </choice>sona<choice> <expan>l<ex>ite</ex>r</expan> </choice> intend<choice> <expan> <ex>er</ex> </expan> </choice>e <choice> <expan>p<ex>ro</ex> </expan> </choice>ponam<choice> <expan> <ex>us</ex> </expan> </choice> cu<choice> <expan>cum</expan> </choice> viis et modis pl<choice> <expan> <ex>ur</ex> </expan> </choice>ibus exquisitis, fi<lb break=\"no\"/>na<choice> <expan>l<ex>iter</ex> </expan> </choice> delib<choice> <expan> <ex>er</ex> </expan> </choice>ato cum<choice> <expan>cum</expan> </choice> p<choice> <expan> <ex>er</ex> </expan> </choice>itis in talibus et<choice> <expan>et</expan> </choice> qu<choice> <expan> <ex>am</ex> </expan> </choice>pl<choice> <expan> <ex>ur</ex> </expan> </choice>im<choice> <expan> <ex>um</ex> </expan> </choice> famosis consilio, c<choice> <expan> <ex>er</ex> </expan> </choice>tam <choice> <expan>p<ex>ro</ex> </expan> </choice>cedendi viam sup<choice> <expan>p<ex>er</ex> </expan> </choice> <choice> <expan>h<ex>oc</ex> </expan> </choice> <choice> <expan>p<ex>ro</ex> </expan> </choice>vidim<choice> <expan> <ex>us</ex> </expan> </choice> utilem <choice> <expan>et</expan> </choice> sa<lb break=\"no\"/>lubrem, qua<choice> <expan> <ex>m</ex> </expan> </choice> <milestone corresp=\"#Guerin\" unit=\"page\" n=\"2\"/>di<choice> <expan>l<ex>e</ex>c<ex>t</ex> </expan> </choice>is et fideli<choice> <expan>b<ex>us</ex> </expan> </choice> <choice> <expan>n<ex>ost</ex>r</expan> </choice>is S. de Ruppe Choardi et J. Vi<choice> <expan>g<ex>eri</ex> </expan> </choice> militi<choice> <expan>b<ex>us</ex> </expan> </choice> quos ad <choice> <expan>h<ex>oc</ex> </expan> </choice> ad Pictaven<choice> <expan> <ex>sem</ex> </expan> </choice> mittimus<lb/> <choice> <expan>sen<ex>escalliam</ex> </expan> </choice>, ap<choice> <expan>p<ex>er</ex> </expan> </choice>uim<choice> <expan> <ex>us</ex> </expan> </choice>, <choice> <expan>p<ex>er</ex> </expan> </choice> eos vel eo<choice> <expan>r<ex>um</ex> </expan> </choice> alt<choice> <expan> <ex>eru</ex> </expan> </choice>m cum <choice> <expan>sen<ex>escallo</ex> </expan> </choice> ejusd<choice> <expan> <ex>em</ex> </expan> </choice> <choice> <expan>sen<ex>escallie</ex> </expan> </choice>, ubi et qui<choice> <expan>b<ex>us</ex> </expan> </choice> expedire vid<choice> <expan> <ex>er</ex> </expan> </choice>int, declarand<choice> <expan> <ex>am</ex> </expan> </choice>, videlicet de <choice> <expan>s<ex>u</ex>b</expan> </choice> <lb/>veniendo vo<choice> <expan>b<ex>is</ex> </expan> </choice> in <choice> <expan>h<ex>oc</ex> </expan> </choice> <choice> <expan>f<ex>a</ex>c<ex>t</ex> </expan> </choice>o, <choice> <expan>q<ex>uo</ex>d</expan> </choice> v<choice> <expan> <ex>er</ex> </expan> </choice>isim<choice> <expan> <ex>i</ex>l<ex>ite</ex>r</expan> </choice> om<choice> <expan> <ex>n</ex> </expan> </choice>es tangit, de c<choice> <expan> <ex>er</ex> </expan> </choice>to num<choice> <expan> <ex>er</ex> </expan> </choice>o <choice> <expan>s<ex>er</ex> </expan> </choice>vientu<choice> <expan> <ex>m</ex> </expan> </choice> armo<choice> <expan>r<ex>um</ex> </expan> </choice> ad vadia seu stipendia sub<lb/> <pb n=\"29v\" facs=\"#tome1_0001_2\"/>dito<choice> <expan>r<ex>um</ex> </expan> </choice> <choice> <expan>ip<ex>s</ex> </expan> </choice>o<choice> <expan>r<ex>um</ex> </expan> </choice>, <choice> <expan>s<ex>e</ex>c<ex>un</ex>d<ex>u</ex> </expan> </choice>m vires et facultates eo<choice> <expan>r<ex>um</ex> </expan> </choice>dem, ad c<choice> <expan> <ex>er</ex> </expan> </choice>tum tempus, <choice> <expan>p<ex>ro</ex> </expan> </choice>ut dux<choice> <expan> <ex>er</ex> </expan> </choice>int, consid<choice> <expan> <ex>er</ex> </expan> </choice>ato negocio, statue<choice> <expan> <ex>n</ex> </expan> </choice>d<choice> <expan> <ex>o</ex> </expan> </choice>. Dantes <lb/>omni<choice> <expan>b<ex>us</ex> </expan> </choice> subditis <choice> <expan>n<ex>ost</ex>r</expan> </choice>is presenti<choice> <expan>b<ex>us</ex> </expan> </choice> in mandatis ut eisdem co<choice> <expan> <ex>m</ex> </expan> </choice>missariis in <choice> <expan>h<ex>ac</ex> </expan> </choice> <choice> <expan>p<ex>ar</ex> </expan> </choice>te eo <choice> <expan>p<ex>ro</ex> </expan> </choice>mptius quo devotius<lb/> <choice> <expan>p<ex>ar</ex> </expan> </choice>eant et intendant. In cuius rei <choice> <expan>testim<ex>imonium</ex> </expan> </choice>, <choice> <expan>et</expan> </choice> <choice> <expan>c<ex>etera</ex> </expan> </choice>. Actum <choice> <expan>Par<ex>isius</ex> </expan> </choice> in festo <choice> <expan>b<ex>eat</ex> </expan> </choice>i Martini, anno <choice> <expan>d<ex>omi</ex>n</expan> </choice>i <hi rend=\"sc\">m. ccc.<lb/> </hi> <choice> <expan>s<ex>e</ex>c<ex>un</ex>d</expan> </choice>o.</p> </div> '"
      ]
     },
     "execution_count": 287,
     "metadata": {},
     "output_type": "execute_result"
    }
   ],
   "source": [
    "space"
   ]
  },
  {
   "cell_type": "code",
   "execution_count": 288,
   "id": "38eba8ff",
   "metadata": {},
   "outputs": [],
   "source": [
    "regex = re.compile(r'<ex>',re.DOTALL)\n",
    "test = re.sub(regex,'',space)"
   ]
  },
  {
   "cell_type": "code",
   "execution_count": 289,
   "id": "27ac8d5e",
   "metadata": {},
   "outputs": [
    {
     "data": {
      "text/plain": [
       "' <div type=\"transcription\" xml:lang=\"lat\"> <p> <pb facs=\"#tome1_0001_1\"/> <choice> <expan>Philippus</ex> </expan> </choice>, <choice> <expan>et</expan> </choice>, univ<choice> <expan> er</ex> </expan> </choice>sis <choice> <expan>et</expan> </choice> <choice> <expan>cetera</ex> </expan> </choice> Cordi h<choice> <expan> ab</ex> </expan> </choice>entes, ut condecet, inimicor<choice> <expan> um</ex> </expan> </choice> nequicias et impulsus totis conati<choice> <expan>bus</ex> </expan> </choice> repellendo, <lb/> quiete<choice> <expan> m</ex> </expan> </choice> et pacem regni <choice> <expan>nost</ex>r</expan> </choice>i <supplied>et</supplied> fidelium incolar<choice> <expan> um</ex> </expan> </choice> ejusd<choice> <expan> em</ex> </expan> </choice>, auxiliante Deo p<choice> <expan> re</ex> </expan> </choice>cipue et <choice> <expan>ips</ex> </expan> </choice>o<choice> <expan>rum</ex> </expan> </choice> mediante subditor<choice> <expan> um</ex> </expan> </choice> subsidio,<lb/> <choice> <expan>pro</ex> </expan> </choice>c<choice> <expan> ur</ex> </expan> </choice>are, ac <choice> <expan>pro</ex> </expan> </choice>vid<supplied>er</supplied>e ne m<choice> <expan> er</ex> </expan> </choice>catores et alii subditi <choice> <expan>nost</ex>r</expan> </choice>i in suis m<choice> <expan> er</ex> </expan> </choice>cat<choice> <expan> ur</ex> </expan> </choice>is et negoc<choice> <expan> iis</ex> </expan> </choice> aliis impediri valeant vel expon<choice> <expan> er</ex> </expan> </choice>e se<lb/> <choice> <expan>per</ex> </expan> </choice>ic<choice> <expan> u</ex>l</expan> </choice>is quibuscun<choice> <expan>que</ex> </expan> </choice> ; not<choice> <expan> um</ex> </expan> </choice> facim<choice> <expan> us</ex> </expan> </choice> <choice> <expan>quo</ex>d</expan> </choice> nos, licet ad <choice> <expan>hoc</ex> </expan> </choice> <choice> <expan>per</ex> </expan> </choice>sona<choice> <expan>lite</ex>r</expan> </choice> intend<choice> <expan> er</ex> </expan> </choice>e <choice> <expan>pro</ex> </expan> </choice>ponam<choice> <expan> us</ex> </expan> </choice> cu<choice> <expan>cum</expan> </choice> viis et modis pl<choice> <expan> ur</ex> </expan> </choice>ibus exquisitis, fi<lb break=\"no\"/>na<choice> <expan>liter</ex> </expan> </choice> delib<choice> <expan> er</ex> </expan> </choice>ato cum<choice> <expan>cum</expan> </choice> p<choice> <expan> er</ex> </expan> </choice>itis in talibus et<choice> <expan>et</expan> </choice> qu<choice> <expan> am</ex> </expan> </choice>pl<choice> <expan> ur</ex> </expan> </choice>im<choice> <expan> um</ex> </expan> </choice> famosis consilio, c<choice> <expan> er</ex> </expan> </choice>tam <choice> <expan>pro</ex> </expan> </choice>cedendi viam sup<choice> <expan>per</ex> </expan> </choice> <choice> <expan>hoc</ex> </expan> </choice> <choice> <expan>pro</ex> </expan> </choice>vidim<choice> <expan> us</ex> </expan> </choice> utilem <choice> <expan>et</expan> </choice> sa<lb break=\"no\"/>lubrem, qua<choice> <expan> m</ex> </expan> </choice> <milestone corresp=\"#Guerin\" unit=\"page\" n=\"2\"/>di<choice> <expan>le</ex>ct</ex> </expan> </choice>is et fideli<choice> <expan>bus</ex> </expan> </choice> <choice> <expan>nost</ex>r</expan> </choice>is S. de Ruppe Choardi et J. Vi<choice> <expan>geri</ex> </expan> </choice> militi<choice> <expan>bus</ex> </expan> </choice> quos ad <choice> <expan>hoc</ex> </expan> </choice> ad Pictaven<choice> <expan> sem</ex> </expan> </choice> mittimus<lb/> <choice> <expan>senescalliam</ex> </expan> </choice>, ap<choice> <expan>per</ex> </expan> </choice>uim<choice> <expan> us</ex> </expan> </choice>, <choice> <expan>per</ex> </expan> </choice> eos vel eo<choice> <expan>rum</ex> </expan> </choice> alt<choice> <expan> eru</ex> </expan> </choice>m cum <choice> <expan>senescallo</ex> </expan> </choice> ejusd<choice> <expan> em</ex> </expan> </choice> <choice> <expan>senescallie</ex> </expan> </choice>, ubi et qui<choice> <expan>bus</ex> </expan> </choice> expedire vid<choice> <expan> er</ex> </expan> </choice>int, declarand<choice> <expan> am</ex> </expan> </choice>, videlicet de <choice> <expan>su</ex>b</expan> </choice> <lb/>veniendo vo<choice> <expan>bis</ex> </expan> </choice> in <choice> <expan>hoc</ex> </expan> </choice> <choice> <expan>fa</ex>ct</ex> </expan> </choice>o, <choice> <expan>quo</ex>d</expan> </choice> v<choice> <expan> er</ex> </expan> </choice>isim<choice> <expan> i</ex>lite</ex>r</expan> </choice> om<choice> <expan> n</ex> </expan> </choice>es tangit, de c<choice> <expan> er</ex> </expan> </choice>to num<choice> <expan> er</ex> </expan> </choice>o <choice> <expan>ser</ex> </expan> </choice>vientu<choice> <expan> m</ex> </expan> </choice> armo<choice> <expan>rum</ex> </expan> </choice> ad vadia seu stipendia sub<lb/> <pb n=\"29v\" facs=\"#tome1_0001_2\"/>dito<choice> <expan>rum</ex> </expan> </choice> <choice> <expan>ips</ex> </expan> </choice>o<choice> <expan>rum</ex> </expan> </choice>, <choice> <expan>se</ex>cun</ex>du</ex> </expan> </choice>m vires et facultates eo<choice> <expan>rum</ex> </expan> </choice>dem, ad c<choice> <expan> er</ex> </expan> </choice>tum tempus, <choice> <expan>pro</ex> </expan> </choice>ut dux<choice> <expan> er</ex> </expan> </choice>int, consid<choice> <expan> er</ex> </expan> </choice>ato negocio, statue<choice> <expan> n</ex> </expan> </choice>d<choice> <expan> o</ex> </expan> </choice>. Dantes <lb/>omni<choice> <expan>bus</ex> </expan> </choice> subditis <choice> <expan>nost</ex>r</expan> </choice>is presenti<choice> <expan>bus</ex> </expan> </choice> in mandatis ut eisdem co<choice> <expan> m</ex> </expan> </choice>missariis in <choice> <expan>hac</ex> </expan> </choice> <choice> <expan>par</ex> </expan> </choice>te eo <choice> <expan>pro</ex> </expan> </choice>mptius quo devotius<lb/> <choice> <expan>par</ex> </expan> </choice>eant et intendant. In cuius rei <choice> <expan>testimimonium</ex> </expan> </choice>, <choice> <expan>et</expan> </choice> <choice> <expan>cetera</ex> </expan> </choice>. Actum <choice> <expan>Parisius</ex> </expan> </choice> in festo <choice> <expan>beat</ex> </expan> </choice>i Martini, anno <choice> <expan>domi</ex>n</expan> </choice>i <hi rend=\"sc\">m. ccc.<lb/> </hi> <choice> <expan>se</ex>cun</ex>d</expan> </choice>o.</p> </div> '"
      ]
     },
     "execution_count": 289,
     "metadata": {},
     "output_type": "execute_result"
    }
   ],
   "source": [
    "test"
   ]
  },
  {
   "cell_type": "code",
   "execution_count": 251,
   "id": "9c921d4c",
   "metadata": {},
   "outputs": [],
   "source": [
    "regex = re.compile(r'<(.*?)>', re.DOTALL)\n",
    "tag = re.sub(regex,'',note)"
   ]
  },
  {
   "cell_type": "code",
   "execution_count": 252,
   "id": "c831f97d",
   "metadata": {},
   "outputs": [
    {
     "data": {
      "text/plain": [
       "' Philippus Dei grati a Francorum rex. Notu m facim us univ er s is , tam presenti bus quam fut ur is, quod , cu m clare memorie Ludovicus, q uo ndam rex Francorum , omne s ele m osinas per duces Aquitanie ecclesi e beat i Hilarii de Cella Pictaven sis fact as dux er it confirmand as , int er quas, pro ut continet ur in litter is confirma tion is huiusmodi , est in ser tu m quod cano n ici beat i Hylarii de Cella pro p ri am lib er atione m cibo rum et potus hab eant, qualem et quan am ducu m Aquitan ie te m pori bus hab uerunt, p ri or que dict e ecclesi e, cum hiis die bus Pictavis accessissemus, pre dict am lib er a cione ciborum et potus, virtute co n firma cion is pre dict e, s ibi pet er et lib er ari, gentes hospicii nostr i ips am, pro eo quod in dict a confirma cion e de c er ta qualitate seu q ua ntitate cibo rum et potus mentio non fiebat, s ibi reddere recusarunt. Tande m nos su per pre miss is fide digno rum testimon io plenius informati, inve n imus quod p ri or dict e ecclesi e, tempor e quo clare memorie carissim us et dominu s et genitor noster per civitate m Pictaven sem t ra situ m fac er et, occ asione dict e lib er a cion is, sexdecim panes, q ua tuor gallinas, q ua tuor frustra carnium et duo sextaria vini, singulis die bus , quam diu in Pictaven si palatio mora m traxit, hab uit et per cepit. Que omni a p ri orem dict e ecclesi e, occ asione lib er ationis pre dict e, eo modo quo tempo re carissimi domin i et genitoris nostr i, ut dict um est, per cepit, quam diu in nostr o regali palatio nos et succes sores nostr os mora m trah er e contig er it, sing u lis die bus impost er um per ci per e volumus et hab ere. quod ut firmu m , etc. Actu m Pictav is , anno domin i m. ccc. octavo, mense julii. '"
      ]
     },
     "execution_count": 252,
     "metadata": {},
     "output_type": "execute_result"
    }
   ],
   "source": [
    "final"
   ]
  },
  {
   "cell_type": "code",
   "execution_count": 229,
   "id": "36969fcb",
   "metadata": {},
   "outputs": [],
   "source": [
    "for lol in os.listdir(path):\n",
    "    \n",
    "    with open(path+lol,'r') as file:\n",
    "        data = file.readlines()\n",
    "        \n",
    "    string = ''.join(data)\n",
    "    regex = re.compile(r'<body>(.*?)</body>', re.DOTALL)\n",
    "    match = regex.search(string)\n",
    "    substring = match.group(1)\n",
    "    regex = re.compile(r'<abbr>(.*?)</abbr>', re.DOTALL)\n",
    "    new = re.sub(regex,'',substring)\n",
    "    regex = re.compile(r'<emph>(.*?)</emph>', re.DOTALL)\n",
    "    emph = re.sub(regex,'',new)\n",
    "    regex = re.compile(r'<note(.*?)>(.*?)</note>', re.DOTALL)\n",
    "    note = re.sub(regex,'',emph)\n",
    "    regex = re.compile(r'<(.*?)>', re.DOTALL)\n",
    "    tag = re.sub(regex,'',note)\n",
    "    tag = tag.replace('\\n','')\n",
    "    regex = re.compile(r' +', re.DOTALL)\n",
    "    final = re.sub(regex,' ',tag)\n",
    "    \n",
    "    with open(f'{lol}.txt','w') as file:\n",
    "        file.write(final)"
   ]
  },
  {
   "cell_type": "code",
   "execution_count": 268,
   "id": "ab873497",
   "metadata": {},
   "outputs": [],
   "source": [
    "path = '/home/noe/Documents/2022-2023/ENC/Mémoire/Guérin/abréviations/'\n",
    "os.chdir(path)"
   ]
  },
  {
   "cell_type": "code",
   "execution_count": 270,
   "id": "7981fd3c",
   "metadata": {},
   "outputs": [],
   "source": [
    "general = []\n",
    "\n",
    "for file in os.listdir(path):    \n",
    "    with open(path+file) as file:\n",
    "        soup = BeautifulSoup(file,'xml')\n",
    "    \n",
    "    liste_tags = [tag.name for tag in soup.find_all()]\n",
    "    liste_tags = liste_tags[liste_tags.index('body'):]\n",
    "    liste_tags = list(set(liste_tags))\n",
    "    \n",
    "    general.extend(liste_tags)"
   ]
  },
  {
   "cell_type": "code",
   "execution_count": 272,
   "id": "156e7d82",
   "metadata": {},
   "outputs": [],
   "source": [
    "general = list(set(general))"
   ]
  },
  {
   "cell_type": "code",
   "execution_count": 290,
   "id": "4602c30c",
   "metadata": {},
   "outputs": [],
   "source": [
    "path = '/home/noe/Documents/2022-2023/ENC/Mémoire/Guérin/safe'\n",
    "os.chdir(path)"
   ]
  },
  {
   "cell_type": "code",
   "execution_count": 292,
   "id": "8262c055",
   "metadata": {},
   "outputs": [],
   "source": [
    "'''for filename in os.listdir(path):\n",
    "    file_path = os.path.join(path,filename)\n",
    "    \n",
    "    with open(file_path,'r') as file:\n",
    "        data = file.read()\n",
    "    \n",
    "    match = re.search(r\"</text>\", data)\n",
    "    \n",
    "    if match:\n",
    "        \n",
    "        data = data[:match.end()]\n",
    "    with open(file_path,'w') as file:\n",
    "        file.write(data)'''"
   ]
  },
  {
   "cell_type": "code",
   "execution_count": 8,
   "id": "3e5350d3",
   "metadata": {},
   "outputs": [],
   "source": [
    "path = '/home/noe/Documents/2022-2023/ENC/Mémoire/Guérin/Guerin_tome1-tome12.xml'"
   ]
  },
  {
   "cell_type": "code",
   "execution_count": null,
   "id": "0fe4a467",
   "metadata": {},
   "outputs": [],
   "source": []
  },
  {
   "cell_type": "code",
   "execution_count": null,
   "id": "70d68853",
   "metadata": {},
   "outputs": [],
   "source": []
  }
 ],
 "metadata": {
  "kernelspec": {
   "display_name": "Python 3 (ipykernel)",
   "language": "python",
   "name": "python3"
  },
  "language_info": {
   "codemirror_mode": {
    "name": "ipython",
    "version": 3
   },
   "file_extension": ".py",
   "mimetype": "text/x-python",
   "name": "python",
   "nbconvert_exporter": "python",
   "pygments_lexer": "ipython3",
   "version": "3.9.7"
  }
 },
 "nbformat": 4,
 "nbformat_minor": 5
}

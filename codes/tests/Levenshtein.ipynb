{
 "cells": [
  {
   "cell_type": "code",
   "execution_count": 252,
   "id": "fb24f569",
   "metadata": {},
   "outputs": [],
   "source": [
    "import string\n",
    "from nltk.corpus import stopwords\n",
    "import Levenshtein as lev\n",
    "import numpy as np"
   ]
  },
  {
   "cell_type": "code",
   "execution_count": 253,
   "id": "d708982f",
   "metadata": {},
   "outputs": [],
   "source": [
    "x = 'Mon chien est mort. Il était grand. Il va me manquer. Adieu connard'\n",
    "y = '''Mon chien me mord. C'est un méchant chien. Il va me manquer'''"
   ]
  },
  {
   "cell_type": "code",
   "execution_count": 293,
   "id": "5046f1aa",
   "metadata": {},
   "outputs": [],
   "source": [
    "x = '''Mon insomnie a vu naître les clartés grises. Le vent contre ma vitre, où cette aurore luit. Souffle les flèches d’eau d’un orage qui fuit. Un glas encor sanglote aux lointaines églises. La nue est envolée, et le vent, et le bruit. L’astre commence à poindre, et ce sont des surprises. De rayons ; les moineaux alignés sur les frises. Descendent dans la rue où flotte un peu de nuit. Ils se sont tus, les glas qui jetaient tout à l’heure. Le grand pleur de l’airain jusque sur ma demeure. Ô soleil, maintenant tu ris au trépassé. Soudain, ma pensée entre aux dormants cimetières. Et j’ai la vision, douce à mon cœur lassé. De leurs gîtes fleuris aux croix hospitalières'''\n",
    "y = '''Je m’en allais, les poings dans mes poches crevées. Mon paletot soudain devenait idéal. J’allais sous le ciel, Muse, et j’étais ton féal. Oh ! là là ! que d’amours splendides j’ai rêvées. Mon unique culotte avait un large trou. Petit-Poucet rêveur, j’égrenais dans ma course. Des rimes. Mon auberge était à la Grande-Ourse. Mes étoiles au ciel avaient un doux frou-frou. Et je les écoutais, assis au bord des routes. Ces bons soirs de septembre où je sentais des gouttes. De rosée à mon front, comme un vin de vigueur. Où, rimant au milieu des ombres fantastiques. Comme des lyres, je tirais les élastiques. De mes souliers blessés, un pied près de mon cœur'''"
   ]
  },
  {
   "cell_type": "code",
   "execution_count": 294,
   "id": "2e515916",
   "metadata": {},
   "outputs": [],
   "source": [
    "def into_list(s1,s2):\n",
    "    first_list = s1.split('.')\n",
    "    second_list = s2.split('.')\n",
    "    return [first_list, second_list]"
   ]
  },
  {
   "cell_type": "code",
   "execution_count": 316,
   "id": "0618a26f",
   "metadata": {},
   "outputs": [],
   "source": [
    "def string_tolist(string):\n",
    "    return string.split('.')"
   ]
  },
  {
   "cell_type": "code",
   "execution_count": 295,
   "id": "c056306c",
   "metadata": {
    "scrolled": true
   },
   "outputs": [],
   "source": [
    "tupel = into_list(x,y)\n"
   ]
  },
  {
   "cell_type": "code",
   "execution_count": 296,
   "id": "abfe0c59",
   "metadata": {},
   "outputs": [],
   "source": [
    "def into_matrix(s1,s2):\n",
    "    x = into_list(s1,s2)\n",
    "    n1 = len(x[0])\n",
    "    n2 = len(x[1])\n",
    "    similarity_matrix = np.zeros((n1, n2))\n",
    "    for i in range(n1):\n",
    "        for j in range(n2):\n",
    "            similarity_matrix[i][j] = levenshtein_similarity(x[0][i], x[1][j])\n",
    "    return similarity_matrix"
   ]
  },
  {
   "cell_type": "code",
   "execution_count": 298,
   "id": "0ee5b90c",
   "metadata": {},
   "outputs": [
    {
     "name": "stdout",
     "output_type": "stream",
     "text": [
      "[[0.26       0.25581395 0.18367347 0.20408163 0.27906977 0.25531915\n",
      "  0.18604651 0.3255814  0.17391304 0.2        0.31481481 0.15217391\n",
      "  0.24444444 0.30232558 0.2       ]\n",
      " [0.18       0.19565217 0.2244898  0.14285714 0.2826087  0.21276596\n",
      "  0.13043478 0.26086957 0.19565217 0.2173913  0.38888889 0.23913043\n",
      "  0.2173913  0.2173913  0.24      ]\n",
      " [0.2        0.23913043 0.24489796 0.20408163 0.30434783 0.17021277\n",
      "  0.13043478 0.2173913  0.2826087  0.26086957 0.2037037  0.19565217\n",
      "  0.15217391 0.2826087  0.24      ]\n",
      " [0.26       0.30434783 0.2244898  0.20408163 0.26086957 0.12765957\n",
      "  0.15217391 0.2826087  0.13043478 0.30434783 0.31481481 0.2173913\n",
      "  0.15217391 0.23913043 0.18      ]\n",
      " [0.22       0.25       0.24489796 0.16326531 0.27272727 0.19148936\n",
      "  0.11363636 0.22727273 0.2173913  0.24444444 0.31481481 0.26086957\n",
      "  0.22222222 0.22727273 0.26      ]\n",
      " [0.28301887 0.20754717 0.26415094 0.24528302 0.20754717 0.24528302\n",
      "  0.1509434  0.28301887 0.22641509 0.30188679 0.35185185 0.28301887\n",
      "  0.24528302 0.32075472 0.22641509]\n",
      " [0.36       0.25       0.18367347 0.16326531 0.25       0.1875\n",
      "  0.1875     0.25       0.25       0.33333333 0.2962963  0.27083333\n",
      "  0.25       0.29166667 0.22      ]\n",
      " [0.2        0.20833333 0.18367347 0.10204082 0.27083333 0.14583333\n",
      "  0.14583333 0.25       0.25       0.1875     0.31481481 0.35416667\n",
      "  0.1875     0.25       0.24      ]\n",
      " [0.24074074 0.24074074 0.25925926 0.22222222 0.25925926 0.22222222\n",
      "  0.11111111 0.27777778 0.2962963  0.27777778 0.24074074 0.24074074\n",
      "  0.27777778 0.24074074 0.2962963 ]\n",
      " [0.24       0.26530612 0.20408163 0.18367347 0.24489796 0.26530612\n",
      "  0.14285714 0.32653061 0.2244898  0.26530612 0.2962963  0.24489796\n",
      "  0.20408163 0.26530612 0.22      ]\n",
      " [0.28       0.225      0.26530612 0.20408163 0.2        0.19148936\n",
      "  0.15       0.2        0.23913043 0.24444444 0.24074074 0.26086957\n",
      "  0.22222222 0.19047619 0.24      ]\n",
      " [0.22       0.26530612 0.16326531 0.12244898 0.24489796 0.20408163\n",
      "  0.18367347 0.28571429 0.20408163 0.26530612 0.2962963  0.20408163\n",
      "  0.26530612 0.28571429 0.16      ]\n",
      " [0.26       0.21428571 0.24489796 0.20408163 0.16666667 0.19148936\n",
      "  0.11904762 0.19047619 0.2173913  0.28888889 0.16666667 0.2826087\n",
      "  0.22222222 0.11904762 0.24      ]\n",
      " [0.24       0.19148936 0.2244898  0.20408163 0.19148936 0.19148936\n",
      "  0.19148936 0.21276596 0.19148936 0.29787234 0.22222222 0.21276596\n",
      "  0.23404255 0.34042553 0.3       ]]\n",
      "[[0, 7], [0, 10], [0, 13], [1, 10], [2, 4], [3, 1], [3, 9], [3, 10], [4, 10], [5, 9], [5, 10], [5, 13], [6, 0], [6, 9], [7, 10], [7, 11], [9, 7], [13, 13]]\n"
     ]
    }
   ],
   "source": [
    "matrice = into_matrix(x,y)\n",
    "indexes = np.argwhere(matrice > 0.3).tolist()\n",
    "print(matrice)\n",
    "print(indexes)"
   ]
  },
  {
   "cell_type": "code",
   "execution_count": 328,
   "id": "a0f5ecc0",
   "metadata": {},
   "outputs": [
    {
     "name": "stdout",
     "output_type": "stream",
     "text": [
      "0\n",
      "Mon insomnie a vu naître les clartés grises  Mon auberge était à la Grande-Ourse\n",
      "0\n",
      "Mon insomnie a vu naître les clartés grises  Ces bons soirs de septembre où je sentais des gouttes\n",
      "0\n",
      "Mon insomnie a vu naître les clartés grises  Comme des lyres, je tirais les élastiques\n",
      "1\n",
      " Le vent contre ma vitre, où cette aurore luit  Ces bons soirs de septembre où je sentais des gouttes\n",
      "2\n",
      " Souffle les flèches d’eau d’un orage qui fuit  Mon unique culotte avait un large trou\n",
      "3\n",
      " Un glas encor sanglote aux lointaines églises  Mon paletot soudain devenait idéal\n",
      "3\n",
      " Un glas encor sanglote aux lointaines églises  Et je les écoutais, assis au bord des routes\n",
      "3\n",
      " Un glas encor sanglote aux lointaines églises  Ces bons soirs de septembre où je sentais des gouttes\n",
      "4\n",
      " La nue est envolée, et le vent, et le bruit  Ces bons soirs de septembre où je sentais des gouttes\n",
      "5\n",
      " L’astre commence à poindre, et ce sont des surprises  Et je les écoutais, assis au bord des routes\n",
      "5\n",
      " L’astre commence à poindre, et ce sont des surprises  Ces bons soirs de septembre où je sentais des gouttes\n",
      "5\n",
      " L’astre commence à poindre, et ce sont des surprises  Comme des lyres, je tirais les élastiques\n",
      "6\n",
      " De rayons ; les moineaux alignés sur les frises Je m’en allais, les poings dans mes poches crevées\n",
      "6\n",
      " De rayons ; les moineaux alignés sur les frises  Et je les écoutais, assis au bord des routes\n",
      "7\n",
      " Descendent dans la rue où flotte un peu de nuit  Ces bons soirs de septembre où je sentais des gouttes\n",
      "7\n",
      " Descendent dans la rue où flotte un peu de nuit  De rosée à mon front, comme un vin de vigueur\n",
      "9\n",
      " Le grand pleur de l’airain jusque sur ma demeure  Mon auberge était à la Grande-Ourse\n",
      "13\n",
      " De leurs gîtes fleuris aux croix hospitalières  Comme des lyres, je tirais les élastiques\n"
     ]
    }
   ],
   "source": [
    "texte_1 = string_tolist(x)\n",
    "texte_2 = string_tolist(y)\n",
    "for i in indexes:\n",
    "    print(i[0])\n",
    "    print(texte_1[i[0]],texte_2[i[1]])"
   ]
  },
  {
   "cell_type": "code",
   "execution_count": 291,
   "id": "3ed9e636",
   "metadata": {},
   "outputs": [],
   "source": [
    "def levenshtein_similarity(s1, s2):\n",
    "    distance = lev.distance(s1, s2)\n",
    "    max_length = max(len(s1), len(s2))\n",
    "    similarity = (max_length - distance) / max_length\n",
    "    return similarity"
   ]
  },
  {
   "cell_type": "code",
   "execution_count": 92,
   "id": "c974c6ff",
   "metadata": {},
   "outputs": [
    {
     "data": {
      "text/plain": [
       "0.7777777777777778"
      ]
     },
     "execution_count": 92,
     "metadata": {},
     "output_type": "execute_result"
    }
   ],
   "source": [
    "levenshtein_similarity(x,y)"
   ]
  }
 ],
 "metadata": {
  "kernelspec": {
   "display_name": "Python 3 (ipykernel)",
   "language": "python",
   "name": "python3"
  },
  "language_info": {
   "codemirror_mode": {
    "name": "ipython",
    "version": 3
   },
   "file_extension": ".py",
   "mimetype": "text/x-python",
   "name": "python",
   "nbconvert_exporter": "python",
   "pygments_lexer": "ipython3",
   "version": "3.9.7"
  }
 },
 "nbformat": 4,
 "nbformat_minor": 5
}

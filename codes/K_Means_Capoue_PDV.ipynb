{
 "cells": [
  {
   "cell_type": "code",
   "execution_count": 363,
   "id": "33e5202f",
   "metadata": {},
   "outputs": [],
   "source": [
    "import pandas as pd\n",
    "from sklearn.feature_extraction.text import TfidfVectorizer\n",
    "from sklearn.cluster import KMeans\n",
    "import matplotlib.pyplot as plt\n",
    "import seaborn as sns\n",
    "import numpy as np\n",
    "import matplotlib.pyplot as plt\n",
    "\n",
    "from sklearn.datasets import load_iris\n",
    "from sklearn.tree import DecisionTreeClassifier\n",
    "from sklearn.model_selection import train_test_split\n",
    "from sklearn import metrics\n",
    "from sklearn.datasets import make_blobs\n",
    "from sklearn.metrics import silhouette_score\n",
    "from sklearn.preprocessing import StandardScaler\n",
    "from sklearn.metrics import confusion_matrix, f1_score\n",
    "import os"
   ]
  },
  {
   "cell_type": "code",
   "execution_count": 311,
   "id": "58e083b1",
   "metadata": {},
   "outputs": [],
   "source": [
    "pdv = '/home/noe/Documents/2022-2023/ENC/Mémoire/Dataframes/PDV_Capoue.xlsx'\n",
    "capoue = '/home/noe/Documents/2022-2023/ENC/Mémoire/Dataframes/Thomas_de_Capoue_lemmas.xlsx'"
   ]
  },
  {
   "cell_type": "code",
   "execution_count": 312,
   "id": "e9a76cf1",
   "metadata": {},
   "outputs": [
    {
     "data": {
      "text/plain": [
       "0        0\n",
       "1        1\n",
       "2        2\n",
       "3        3\n",
       "4        4\n",
       "      ... \n",
       "619    619\n",
       "620    620\n",
       "621    621\n",
       "622    622\n",
       "623    623\n",
       "Name: Unnamed: 0, Length: 624, dtype: int64"
      ]
     },
     "execution_count": 312,
     "metadata": {},
     "output_type": "execute_result"
    }
   ],
   "source": [
    "df1 = pd.read_excel(pdv)\n",
    "df2 = pd.read_excel(capoue)\n",
    "df1.pop('Unnamed: 0')\n",
    "df2.pop('Unnamed: 0')"
   ]
  },
  {
   "cell_type": "code",
   "execution_count": 313,
   "id": "0713e75d",
   "metadata": {},
   "outputs": [],
   "source": [
    "df1['Numéro'] = df1['Numéro'].astype(str)\n",
    "df2['Numéro'] = df2['Numéro'].astype(str)\n",
    "df1['id'] = df1['ID']+'_'+df1['Numéro']\n",
    "df2['id'] = df2['ID']+'_'+df2['Numéro']\n",
    "df1 = df1[['id','textes']]\n",
    "df2 = df2[['id','Text']]"
   ]
  },
  {
   "cell_type": "code",
   "execution_count": 314,
   "id": "6663b284",
   "metadata": {},
   "outputs": [],
   "source": [
    "df2 = df2.rename(columns={'Text':'textes'})\n",
    "df1['gt'] = 1\n",
    "df2['gt'] = 0"
   ]
  },
  {
   "cell_type": "code",
   "execution_count": 315,
   "id": "60676e1d",
   "metadata": {},
   "outputs": [],
   "source": [
    "final = pd.concat([df1,df2],axis=0)"
   ]
  },
  {
   "cell_type": "markdown",
   "id": "a5743f62",
   "metadata": {},
   "source": [
    "KMEANS"
   ]
  },
  {
   "cell_type": "code",
   "execution_count": 316,
   "id": "0ad685ea",
   "metadata": {},
   "outputs": [
    {
     "name": "stderr",
     "output_type": "stream",
     "text": [
      "/home/noe/python/miniconda/lib/python3.9/site-packages/sklearn/cluster/_kmeans.py:870: FutureWarning: The default value of `n_init` will change from 10 to 'auto' in 1.4. Set the value of `n_init` explicitly to suppress the warning\n",
      "  warnings.warn(\n"
     ]
    }
   ],
   "source": [
    "vectorizer = TfidfVectorizer()\n",
    "tfidf = vectorizer.fit_transform(final['textes'])\n",
    "kmeans = KMeans(n_clusters=2,init='k-means++',random_state=0).fit(tfidf)"
   ]
  },
  {
   "cell_type": "code",
   "execution_count": 317,
   "id": "b32d9f03",
   "metadata": {},
   "outputs": [],
   "source": [
    "final['cluster'] = kmeans.labels_"
   ]
  },
  {
   "cell_type": "code",
   "execution_count": 318,
   "id": "734a8876",
   "metadata": {},
   "outputs": [],
   "source": [
    "from sklearn.metrics import confusion_matrix"
   ]
  },
  {
   "cell_type": "code",
   "execution_count": 319,
   "id": "8617f6e6",
   "metadata": {},
   "outputs": [],
   "source": [
    "y_true = final['gt']\n",
    "y_pred = final['cluster']"
   ]
  },
  {
   "cell_type": "code",
   "execution_count": 320,
   "id": "b7ddb0dc",
   "metadata": {},
   "outputs": [],
   "source": [
    "confusion = confusion_matrix(y_true,y_pred)"
   ]
  },
  {
   "cell_type": "code",
   "execution_count": 358,
   "id": "cf7ae0a3",
   "metadata": {},
   "outputs": [
    {
     "data": {
      "image/png": "[encoded data removed]",
      "text/plain": [
       "<Figure size 432x288 with 2 Axes>"
      ]
     },
     "metadata": {
      "needs_background": "light"
     },
     "output_type": "display_data"
    }
   ],
   "source": [
    "matrix_text = metrics.ConfusionMatrixDisplay.from_predictions(y_true,y_pred)"
   ]
  },
  {
   "cell_type": "code",
   "execution_count": 322,
   "id": "b6bda14e",
   "metadata": {},
   "outputs": [],
   "source": [
    "f1_score = f1_score(y_true,y_pred)"
   ]
  },
  {
   "cell_type": "code",
   "execution_count": 323,
   "id": "0678a712",
   "metadata": {},
   "outputs": [
    {
     "data": {
      "text/plain": [
       "0.874074074074074"
      ]
     },
     "execution_count": 323,
     "metadata": {},
     "output_type": "execute_result"
    }
   ],
   "source": [
    "f1_score"
   ]
  },
  {
   "cell_type": "markdown",
   "id": "dd693f7a",
   "metadata": {},
   "source": [
    "test on lemmas"
   ]
  },
  {
   "cell_type": "code",
   "execution_count": 418,
   "id": "7bd0258a",
   "metadata": {},
   "outputs": [
    {
     "name": "stderr",
     "output_type": "stream",
     "text": [
      "/home/noe/python/miniconda/lib/python3.9/site-packages/sklearn/cluster/_kmeans.py:870: FutureWarning: The default value of `n_init` will change from 10 to 'auto' in 1.4. Set the value of `n_init` explicitly to suppress the warning\n",
      "  warnings.warn(\n"
     ]
    }
   ],
   "source": [
    "df1 = pd.read_excel(pdv)\n",
    "df2 = pd.read_excel(capoue)\n",
    "df1.pop('Unnamed: 0')\n",
    "df2.pop('Unnamed: 0')\n",
    "df1['Numéro'] = df1['Numéro'].astype(str)\n",
    "df2['Numéro'] = df2['Numéro'].astype(str)\n",
    "df1['id'] = df1['ID']+'_'+df1['Numéro']\n",
    "df2['id'] = df2['ID']+'_'+df2['Numéro']\n",
    "df1 = df1[['id','lemmas']]\n",
    "df2 = df2[['id','lemma']]\n",
    "df2 = df2.rename(columns={'lemma':'lemmas'})\n",
    "df1['gt'] = 1\n",
    "df2['gt'] = 0\n",
    "final = pd.concat([df1,df2],axis=0)\n",
    "vectorizer = TfidfVectorizer()\n",
    "tfidf = vectorizer.fit_transform(final['lemmas'])\n",
    "kmeans = KMeans(n_clusters=2,init='k-means++',random_state=None).fit(tfidf)\n",
    "final['cluster'] = kmeans.labels_\n",
    "y_true = final['gt']\n",
    "y_pred = final['cluster']\n",
    "confusion = confusion_matrix(y_true,y_pred)"
   ]
  },
  {
   "cell_type": "code",
   "execution_count": 419,
   "id": "2e2943b0",
   "metadata": {},
   "outputs": [
    {
     "data": {
      "image/png": "[encoded data removed]",
      "text/plain": [
       "<Figure size 432x288 with 2 Axes>"
      ]
     },
     "metadata": {
      "needs_background": "light"
     },
     "output_type": "display_data"
    }
   ],
   "source": [
    "matrix_lemma = metrics.ConfusionMatrixDisplay.from_predictions(y_true,y_pred)"
   ]
  },
  {
   "cell_type": "code",
   "execution_count": 420,
   "id": "2094845a",
   "metadata": {},
   "outputs": [
    {
     "data": {
      "image/png": "[encoded data removed]",
      "text/plain": [
       "<Figure size 720x360 with 4 Axes>"
      ]
     },
     "metadata": {
      "needs_background": "light"
     },
     "output_type": "display_data"
    }
   ],
   "source": [
    "fig, axs = plt.subplots(1, 2, figsize=(10,5))\n",
    "matrix_text.plot(ax=axs[0])\n",
    "axs[0].set_title(\"Text comparaison matrix\")\n",
    "matrix_lemma.plot(ax=axs[1])\n",
    "axs[1].set_title(\"Lemma comparaison matrix\")\n",
    "plt.savefig('Matrix_confusion_PDV_TDC.png',dpi=500)\n",
    "plt.show()"
   ]
  },
  {
   "cell_type": "code",
   "execution_count": 346,
   "id": "11a39995",
   "metadata": {},
   "outputs": [],
   "source": [
    "precision = 606/(606+66)\n",
    "recall = 606/(606+18)"
   ]
  },
  {
   "cell_type": "code",
   "execution_count": 351,
   "id": "3be37dbb",
   "metadata": {},
   "outputs": [],
   "source": [
    "f1 = 2*precision*recall / (precision+recall)"
   ]
  },
  {
   "cell_type": "code",
   "execution_count": 352,
   "id": "165b6a15",
   "metadata": {},
   "outputs": [
    {
     "data": {
      "text/plain": [
       "0.9351851851851851"
      ]
     },
     "execution_count": 352,
     "metadata": {},
     "output_type": "execute_result"
    }
   ],
   "source": [
    "f1"
   ]
  },
  {
   "cell_type": "code",
   "execution_count": null,
   "id": "3e6b1559",
   "metadata": {},
   "outputs": [],
   "source": []
  }
 ],
 "metadata": {
  "kernelspec": {
   "display_name": "Python 3 (ipykernel)",
   "language": "python",
   "name": "python3"
  },
  "language_info": {
   "codemirror_mode": {
    "name": "ipython",
    "version": 3
   },
   "file_extension": ".py",
   "mimetype": "text/x-python",
   "name": "python",
   "nbconvert_exporter": "python",
   "pygments_lexer": "ipython3",
   "version": "3.9.7"
  }
 },
 "nbformat": 4,
 "nbformat_minor": 5
}

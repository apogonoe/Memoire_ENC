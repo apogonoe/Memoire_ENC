{
 "cells": [
  {
   "cell_type": "code",
   "execution_count": 1,
   "id": "79c8b2e1",
   "metadata": {},
   "outputs": [],
   "source": [
    "from lxml import etree\n",
    "import xml.etree.ElementTree as ET\n",
    "import matplotlib.pyplot as plt\n",
    "%matplotlib inline\n",
    "import numpy as np\n",
    "from matplotlib.patches import Polygon\n",
    "import os\n",
    "from bs4 import BeautifulSoup\n",
    "import re\n",
    "from collections import Counter\n",
    "import pandas as pd"
   ]
  },
  {
   "cell_type": "code",
   "execution_count": 13,
   "id": "040bea74",
   "metadata": {},
   "outputs": [],
   "source": [
    "file = '/home/noe/Documents/2022-2023/ENC/Mémoire/Guérin/Guerin_tome1-tome12.xml'\n",
    "os.chdir(path)"
   ]
  },
  {
   "cell_type": "code",
   "execution_count": 14,
   "id": "4a7bfe97",
   "metadata": {},
   "outputs": [
    {
     "ename": "AttributeError",
     "evalue": "ResultSet object has no attribute '_last_descendant'. You're probably treating a list of elements like a single element. Did you call find_all() when you meant to call find()?",
     "output_type": "error",
     "traceback": [
      "\u001b[0;31m---------------------------------------------------------------------------\u001b[0m",
      "\u001b[0;31mAttributeError\u001b[0m                            Traceback (most recent call last)",
      "Input \u001b[0;32mIn [14]\u001b[0m, in \u001b[0;36m<module>\u001b[0;34m\u001b[0m\n\u001b[1;32m      4\u001b[0m tag \u001b[38;5;241m=\u001b[39m soup\u001b[38;5;241m.\u001b[39mfind_all(\u001b[38;5;124m'\u001b[39m\u001b[38;5;124mgroup\u001b[39m\u001b[38;5;124m'\u001b[39m)\n\u001b[1;32m      5\u001b[0m new_soup \u001b[38;5;241m=\u001b[39m BeautifulSoup(features\u001b[38;5;241m=\u001b[39m\u001b[38;5;124m'\u001b[39m\u001b[38;5;124mxml\u001b[39m\u001b[38;5;124m'\u001b[39m)\n\u001b[0;32m----> 6\u001b[0m \u001b[43mnew_soup\u001b[49m\u001b[38;5;241;43m.\u001b[39;49m\u001b[43mappend\u001b[49m\u001b[43m(\u001b[49m\u001b[43mtag\u001b[49m\u001b[43m)\u001b[49m\n\u001b[1;32m      7\u001b[0m \u001b[38;5;28;01mwith\u001b[39;00m \u001b[38;5;28mopen\u001b[39m(\u001b[38;5;124m'\u001b[39m\u001b[38;5;124mgroup.xml\u001b[39m\u001b[38;5;124m'\u001b[39m, \u001b[38;5;124m'\u001b[39m\u001b[38;5;124mw\u001b[39m\u001b[38;5;124m'\u001b[39m) \u001b[38;5;28;01mas\u001b[39;00m f:\n\u001b[1;32m      8\u001b[0m     f\u001b[38;5;241m.\u001b[39mwrite(new_soup\u001b[38;5;241m.\u001b[39mprettify())\n",
      "File \u001b[0;32m~/python/miniconda/lib/python3.9/site-packages/bs4/element.py:494\u001b[0m, in \u001b[0;36mPageElement.append\u001b[0;34m(self, tag)\u001b[0m\n\u001b[1;32m    489\u001b[0m \u001b[38;5;28;01mdef\u001b[39;00m \u001b[38;5;21mappend\u001b[39m(\u001b[38;5;28mself\u001b[39m, tag):\n\u001b[1;32m    490\u001b[0m     \u001b[38;5;124;03m\"\"\"Appends the given PageElement to the contents of this one.\u001b[39;00m\n\u001b[1;32m    491\u001b[0m \n\u001b[1;32m    492\u001b[0m \u001b[38;5;124;03m    :param tag: A PageElement.\u001b[39;00m\n\u001b[1;32m    493\u001b[0m \u001b[38;5;124;03m    \"\"\"\u001b[39;00m\n\u001b[0;32m--> 494\u001b[0m     \u001b[38;5;28;43mself\u001b[39;49m\u001b[38;5;241;43m.\u001b[39;49m\u001b[43minsert\u001b[49m\u001b[43m(\u001b[49m\u001b[38;5;28;43mlen\u001b[39;49m\u001b[43m(\u001b[49m\u001b[38;5;28;43mself\u001b[39;49m\u001b[38;5;241;43m.\u001b[39;49m\u001b[43mcontents\u001b[49m\u001b[43m)\u001b[49m\u001b[43m,\u001b[49m\u001b[43m \u001b[49m\u001b[43mtag\u001b[49m\u001b[43m)\u001b[49m\n",
      "File \u001b[0;32m~/python/miniconda/lib/python3.9/site-packages/bs4/element.py:459\u001b[0m, in \u001b[0;36mPageElement.insert\u001b[0;34m(self, position, new_child)\u001b[0m\n\u001b[1;32m    456\u001b[0m \u001b[38;5;28;01mif\u001b[39;00m new_child\u001b[38;5;241m.\u001b[39mprevious_element \u001b[38;5;129;01mis\u001b[39;00m \u001b[38;5;129;01mnot\u001b[39;00m \u001b[38;5;28;01mNone\u001b[39;00m:\n\u001b[1;32m    457\u001b[0m     new_child\u001b[38;5;241m.\u001b[39mprevious_element\u001b[38;5;241m.\u001b[39mnext_element \u001b[38;5;241m=\u001b[39m new_child\n\u001b[0;32m--> 459\u001b[0m new_childs_last_element \u001b[38;5;241m=\u001b[39m \u001b[43mnew_child\u001b[49m\u001b[38;5;241;43m.\u001b[39;49m\u001b[43m_last_descendant\u001b[49m(\u001b[38;5;28;01mFalse\u001b[39;00m)\n\u001b[1;32m    461\u001b[0m \u001b[38;5;28;01mif\u001b[39;00m position \u001b[38;5;241m>\u001b[39m\u001b[38;5;241m=\u001b[39m \u001b[38;5;28mlen\u001b[39m(\u001b[38;5;28mself\u001b[39m\u001b[38;5;241m.\u001b[39mcontents):\n\u001b[1;32m    462\u001b[0m     new_child\u001b[38;5;241m.\u001b[39mnext_sibling \u001b[38;5;241m=\u001b[39m \u001b[38;5;28;01mNone\u001b[39;00m\n",
      "File \u001b[0;32m~/python/miniconda/lib/python3.9/site-packages/bs4/element.py:2308\u001b[0m, in \u001b[0;36mResultSet.__getattr__\u001b[0;34m(self, key)\u001b[0m\n\u001b[1;32m   2306\u001b[0m \u001b[38;5;28;01mdef\u001b[39;00m \u001b[38;5;21m__getattr__\u001b[39m(\u001b[38;5;28mself\u001b[39m, key):\n\u001b[1;32m   2307\u001b[0m     \u001b[38;5;124;03m\"\"\"Raise a helpful exception to explain a common code fix.\"\"\"\u001b[39;00m\n\u001b[0;32m-> 2308\u001b[0m     \u001b[38;5;28;01mraise\u001b[39;00m \u001b[38;5;167;01mAttributeError\u001b[39;00m(\n\u001b[1;32m   2309\u001b[0m         \u001b[38;5;124m\"\u001b[39m\u001b[38;5;124mResultSet object has no attribute \u001b[39m\u001b[38;5;124m'\u001b[39m\u001b[38;5;132;01m%s\u001b[39;00m\u001b[38;5;124m'\u001b[39m\u001b[38;5;124m. You\u001b[39m\u001b[38;5;124m'\u001b[39m\u001b[38;5;124mre probably treating a list of elements like a single element. Did you call find_all() when you meant to call find()?\u001b[39m\u001b[38;5;124m\"\u001b[39m \u001b[38;5;241m%\u001b[39m key\n\u001b[1;32m   2310\u001b[0m     )\n",
      "\u001b[0;31mAttributeError\u001b[0m: ResultSet object has no attribute '_last_descendant'. You're probably treating a list of elements like a single element. Did you call find_all() when you meant to call find()?"
     ]
    }
   ],
   "source": [
    "with open(file,'r') as file:\n",
    "    data = file.read()\n",
    "soup = BeautifulSoup(data,'xml')\n",
    "tag = soup.find('group')\n",
    "new_soup = BeautifulSoup(features='xml')\n",
    "new_soup.append(tag)\n",
    "with open('group.xml', 'w') as f:\n",
    "    f.write(new_soup.prettify())"
   ]
  },
  {
   "cell_type": "code",
   "execution_count": 6,
   "id": "3b00f83d",
   "metadata": {},
   "outputs": [],
   "source": [
    "with open('group.xml','r') as file:\n",
    "    data = file.read()"
   ]
  },
  {
   "cell_type": "code",
   "execution_count": 7,
   "id": "c3c65371",
   "metadata": {},
   "outputs": [],
   "source": [
    "soup = BeautifulSoup(data,'xml')\n",
    "text_tags = soup.find_all('text')\n",
    "for i, tag in enumerate(text_tags):\n",
    "    new_soup = BeautifulSoup(features='xml')\n",
    "    new_soup.append(tag)\n",
    "    with open(f'text_{i}.xml', 'w') as f:\n",
    "        f.write(new_soup.prettify())"
   ]
  },
  {
   "cell_type": "code",
   "execution_count": 15,
   "id": "e7b7d704",
   "metadata": {},
   "outputs": [],
   "source": [
    "path = '/home/noe/Documents/2022-2023/ENC/Mémoire/Guérin/textes_from_guérin/'\n",
    "os.chdir(path)"
   ]
  },
  {
   "cell_type": "code",
   "execution_count": 20,
   "id": "e134ba94",
   "metadata": {},
   "outputs": [],
   "source": [
    "#get list of tags\n",
    "\n",
    "i = 25\n",
    "\n",
    "liste_tags = []\n",
    "\n",
    "while i <=181:\n",
    "    \n",
    "    with open(f'text_{i}.xml','r') as file:\n",
    "        data = file.read()\n",
    "        \n",
    "\n",
    "    soup=BeautifulSoup(data,'xml')\n",
    "    parent = soup.find('body')\n",
    "    tag_list = [tag.name for tag in parent.find_all()]\n",
    "    liste_tags.extend(tag_list)\n",
    "        \n",
    "    i += 1\n",
    "#cration of final list\n",
    "final = list(set(liste_tags))\n",
    "#remove tags + 'p'\n",
    "#final.remove('pb')"
   ]
  },
  {
   "cell_type": "code",
   "execution_count": 22,
   "id": "7d691549",
   "metadata": {},
   "outputs": [],
   "source": [
    "final.remove('p')\n",
    "final.remove('pb')"
   ]
  },
  {
   "cell_type": "code",
   "execution_count": 23,
   "id": "b485d9b8",
   "metadata": {},
   "outputs": [
    {
     "data": {
      "text/plain": [
       "['rdg',\n",
       " 'app',\n",
       " 'supplied',\n",
       " 'hi',\n",
       " 'div',\n",
       " 'add',\n",
       " 'emph',\n",
       " 'milestone',\n",
       " 'lb',\n",
       " 'note',\n",
       " 'del',\n",
       " 'quote',\n",
       " 'sic']"
      ]
     },
     "execution_count": 23,
     "metadata": {},
     "output_type": "execute_result"
    }
   ],
   "source": [
    "final"
   ]
  },
  {
   "cell_type": "code",
   "execution_count": null,
   "id": "09bc14aa",
   "metadata": {},
   "outputs": [],
   "source": []
  },
  {
   "cell_type": "code",
   "execution_count": null,
   "id": "4cf406f6",
   "metadata": {},
   "outputs": [],
   "source": []
  },
  {
   "cell_type": "code",
   "execution_count": null,
   "id": "e6611caa",
   "metadata": {},
   "outputs": [],
   "source": []
  }
 ],
 "metadata": {
  "kernelspec": {
   "display_name": "Python 3 (ipykernel)",
   "language": "python",
   "name": "python3"
  },
  "language_info": {
   "codemirror_mode": {
    "name": "ipython",
    "version": 3
   },
   "file_extension": ".py",
   "mimetype": "text/x-python",
   "name": "python",
   "nbconvert_exporter": "python",
   "pygments_lexer": "ipython3",
   "version": "3.9.7"
  }
 },
 "nbformat": 4,
 "nbformat_minor": 5
}

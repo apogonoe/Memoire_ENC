{
 "cells": [
  {
   "cell_type": "code",
   "execution_count": 1,
   "id": "aed78a1f",
   "metadata": {},
   "outputs": [],
   "source": [
    "import os\n",
    "import re"
   ]
  },
  {
   "cell_type": "code",
   "execution_count": 2,
   "id": "0d699c4e",
   "metadata": {},
   "outputs": [],
   "source": [
    "def find_index(lst, substring):\n",
    "    for i, s in enumerate(lst):\n",
    "        if substring in s:\n",
    "            return i"
   ]
  },
  {
   "cell_type": "code",
   "execution_count": 3,
   "id": "3fa3756d",
   "metadata": {},
   "outputs": [],
   "source": [
    "def find_empty_element(lst, start_index):\n",
    "    for i in range(start_index, len(lst)):\n",
    "        if lst[i] == ' ':\n",
    "            return i\n",
    "    return -1"
   ]
  },
  {
   "cell_type": "code",
   "execution_count": 4,
   "id": "0b83702e",
   "metadata": {},
   "outputs": [],
   "source": [
    "def clean(input_list):\n",
    "    liste = []\n",
    "    pattern = re.compile(r' [1-9]{2,3}')\n",
    "    result = [element for element in input_list if not pattern.match(element)]\n",
    "    for i in result:\n",
    "        if i != ' ':\n",
    "            liste.append(i)\n",
    "    list_without_spaces = [item.lstrip() for item in liste]\n",
    "    return list_without_spaces"
   ]
  },
  {
   "cell_type": "code",
   "execution_count": 5,
   "id": "cc8b7e7c",
   "metadata": {},
   "outputs": [],
   "source": [
    "def rubrica(liste):\n",
    "    vide = []\n",
    "    for i in liste:\n",
    "        if i.startswith(' Rubrica'):\n",
    "            vide.append(liste.index(i))\n",
    "            num_ind = vide[0]\n",
    "            liste = liste[:num_ind]\n",
    "    return liste "
   ]
  },
  {
   "cell_type": "code",
   "execution_count": 6,
   "id": "6d8328e9",
   "metadata": {},
   "outputs": [],
   "source": [
    "def number(liste):\n",
    "    haha = []\n",
    "    for i in liste:\n",
    "        if re.findall('[0-9]{1,2}\\.',i) :\n",
    "            haha.append(re.findall('[0-9]{1,2}\\.',i))\n",
    "    flat_list = [item for sublist in haha for item in sublist]\n",
    "    for i in range(len(flat_list)):\n",
    "        flat_list[i] = int(flat_list[i][:-1])\n",
    "    #flat_list\n",
    "    texte = []\n",
    "    x = 0\n",
    "    while flat_list[x] < flat_list[x+1]:\n",
    "        texte.append(flat_list[x])\n",
    "        x+=1\n",
    "    final = str(texte[-1] +1)+'. '\n",
    "    #final\n",
    "    value_1 = find_index(test,final)\n",
    "    #value_1\n",
    "    final_index_value = find_empty_element(test,value_1)\n",
    "    #final_index_value\n",
    "    result = test[:final_index_value]\n",
    "    return result"
   ]
  },
  {
   "cell_type": "code",
   "execution_count": 11,
   "id": "684cfe1b",
   "metadata": {},
   "outputs": [],
   "source": [
    "def fonction_generale(liste):\n",
    "    texte = []\n",
    "    value = 0\n",
    "    for item in liste:\n",
    "        if item == 'Rubrica:':\n",
    "            break\n",
    "        elif item == 'Rubrica.':\n",
    "            break\n",
    "        elif re.match('[0-9]{1,2}\\.',item):\n",
    "            comparative_value = int(item[:-1])\n",
    "            if comparative_value != value + 1:\n",
    "                break\n",
    "            else:\n",
    "                value = comparative_value\n",
    "        texte.append(item)\n",
    "    return texte"
   ]
  },
  {
   "cell_type": "code",
   "execution_count": 578,
   "id": "d6100268",
   "metadata": {},
   "outputs": [],
   "source": [
    "path = '/home/noe/Documents/2022-2023/ENC/Mémoire/Livres_OCR_par_chartes/Livre_1/'\n",
    "os.chdir(path)"
   ]
  },
  {
   "cell_type": "code",
   "execution_count": 349,
   "id": "20bdb404",
   "metadata": {},
   "outputs": [
    {
     "data": {
      "text/plain": [
       "['1. Satis honoris nostri fastigia credimus prudenter extollere, si ad regiae potestatis negotia, consiliis utique promouenda non casibus, uiros preclaros eligimus et rectores idoneos prelustribus officiis coaptamus, ut sic probitas eorum laudata non algeat, dum sua sint nomina fastibus intitulata magnificis, et mentis nostrae tranquillitas non uacillet, dum latera nostra prospicimus prouidis decorata ministris. 2. In hoc etiam liberalitatis nostrae non erat intentio, ut quotiens perso- nas dignas et sufficientes inueniat, honores eis et beneplacita non inculcet et generose circa ipsas quasi de liberalitatis et promptuario plene fluat. 3. Eapropter per presens priuilegium nouerit tam presens etas quam successura posteritas, quod nos, attendentes puram fidem et deuotionem sinceram, notam prudentiam et efficaciam approbatam ... de ...; uolentes etiam, ut idem ..., cuius legalitati de negotiis Cismarinis onera confiden- ter incumbimus, suum ultra mare se dilatare gaudeat, magistratum ipsum nuper prouida deliberatione consilii prehabita, cancellarium regni nostri Hierosolimitani sollempniter duximus destinandum: potestatem liberam et auctoritatem concedentes eidem, ut ipsum officium cum omnibus iuribus et pertinentiis suis in regno ipso de cetero sicut in regno Syciliae licite ualeat exercere.']"
      ]
     },
     "execution_count": 349,
     "metadata": {},
     "output_type": "execute_result"
    }
   ],
   "source": [
    "data"
   ]
  },
  {
   "cell_type": "code",
   "execution_count": 577,
   "id": "834c0b2f",
   "metadata": {},
   "outputs": [],
   "source": [
    "folder_path = '/home/noe/Documents/2022-2023/ENC/Mémoire/Livres_OCR_par_chartes/Livre_1/'"
   ]
  },
  {
   "cell_type": "code",
   "execution_count": 383,
   "id": "f74645b1",
   "metadata": {},
   "outputs": [],
   "source": [
    "numéros = list(range(1,138,1))"
   ]
  },
  {
   "cell_type": "code",
   "execution_count": 385,
   "id": "634407cc",
   "metadata": {},
   "outputs": [
    {
     "ename": "ValueError",
     "evalue": "invalid literal for int() with base 10: '1.1'",
     "output_type": "error",
     "traceback": [
      "\u001b[0;31m---------------------------------------------------------------------------\u001b[0m",
      "\u001b[0;31mValueError\u001b[0m                                Traceback (most recent call last)",
      "Input \u001b[0;32mIn [385]\u001b[0m, in \u001b[0;36m<module>\u001b[0;34m\u001b[0m\n\u001b[1;32m     32\u001b[0m \u001b[38;5;28;01mfor\u001b[39;00m sublist \u001b[38;5;129;01min\u001b[39;00m word_lists:\n\u001b[1;32m     33\u001b[0m     final_list\u001b[38;5;241m.\u001b[39mextend(sublist)\n\u001b[0;32m---> 34\u001b[0m x \u001b[38;5;241m=\u001b[39m \u001b[43mfonction_generale\u001b[49m\u001b[43m(\u001b[49m\u001b[43mfinal_list\u001b[49m\u001b[43m)\u001b[49m\n\u001b[1;32m     35\u001b[0m top\u001b[38;5;241m.\u001b[39mappend(x)\n\u001b[1;32m     36\u001b[0m text \u001b[38;5;241m=\u001b[39m \u001b[38;5;124m'\u001b[39m\u001b[38;5;124m \u001b[39m\u001b[38;5;124m'\u001b[39m\u001b[38;5;241m.\u001b[39mjoin(x)\n",
      "Input \u001b[0;32mIn [11]\u001b[0m, in \u001b[0;36mfonction_generale\u001b[0;34m(liste)\u001b[0m\n\u001b[1;32m      8\u001b[0m     \u001b[38;5;28;01mbreak\u001b[39;00m\n\u001b[1;32m      9\u001b[0m \u001b[38;5;28;01melif\u001b[39;00m re\u001b[38;5;241m.\u001b[39mmatch(\u001b[38;5;124m'\u001b[39m\u001b[38;5;124m[0-9]\u001b[39m\u001b[38;5;124m{\u001b[39m\u001b[38;5;124m1,2}\u001b[39m\u001b[38;5;124m\\\u001b[39m\u001b[38;5;124m.\u001b[39m\u001b[38;5;124m'\u001b[39m,item):\n\u001b[0;32m---> 10\u001b[0m     comparative_value \u001b[38;5;241m=\u001b[39m \u001b[38;5;28;43mint\u001b[39;49m\u001b[43m(\u001b[49m\u001b[43mitem\u001b[49m\u001b[43m[\u001b[49m\u001b[43m:\u001b[49m\u001b[38;5;241;43m-\u001b[39;49m\u001b[38;5;241;43m1\u001b[39;49m\u001b[43m]\u001b[49m\u001b[43m)\u001b[49m\n\u001b[1;32m     11\u001b[0m     \u001b[38;5;28;01mif\u001b[39;00m comparative_value \u001b[38;5;241m!=\u001b[39m value \u001b[38;5;241m+\u001b[39m \u001b[38;5;241m1\u001b[39m:\n\u001b[1;32m     12\u001b[0m         \u001b[38;5;28;01mbreak\u001b[39;00m\n",
      "\u001b[0;31mValueError\u001b[0m: invalid literal for int() with base 10: '1.1'"
     ]
    }
   ],
   "source": [
    "for i in numéros:\n",
    "\n",
    "    num = i\n",
    "\n",
    "    with open(f'5.{num}.txt','r') as file:\n",
    "        data = file.readlines()\n",
    "    indices = []\n",
    "    fin = []\n",
    "    for i in data:\n",
    "        if re.match(r'^1.\\ [A-Z]', i):\n",
    "            indices.append(data.index(i))re.matc\n",
    "    start = indices[0]\n",
    "    end = indices[1]\n",
    "    i = start\n",
    "    while i < end:\n",
    "        fin.append(data[i])\n",
    "        i += 1\n",
    "\n",
    "    string = \" \".join(fin)\n",
    "    test = string.split('\\n')\n",
    "    phrases = []\n",
    "    start_indices = [i for i, line in enumerate(data) if re.match(r'^1.\\ [A-Z]', line)]\n",
    "\n",
    "    if len(start_indices) >= 2:\n",
    "        fin = data[start_indices[0]:start_indices[1]]\n",
    "        string = ' '.join(fin)\n",
    "        test = string.split('\\n')\n",
    "        phrases.append(test)\n",
    "    top = []\n",
    "    word_lists = [sentence.split() for sentence in test]\n",
    "    final_list = []\n",
    "    for sublist in word_lists:\n",
    "        final_list.extend(sublist)\n",
    "    x = fonction_generale(final_list)\n",
    "    top.append(x)\n",
    "    text = ' '.join(x)\n",
    "    text = re.sub('\\d{2,3}', '', text)\n",
    "\n",
    "    with open(f'5_{num}.txt','w') as file:\n",
    "        file.write(text)"
   ]
  },
  {
   "cell_type": "code",
   "execution_count": 300,
   "id": "dbb775f4",
   "metadata": {},
   "outputs": [
    {
     "name": "stdout",
     "output_type": "stream",
     "text": [
      "ok\n"
     ]
    }
   ],
   "source": [
    "for f in os.listdir(path):\n",
    "    if f == \"5.1.txt\":\n",
    "        print('ok')"
   ]
  },
  {
   "cell_type": "code",
   "execution_count": 570,
   "id": "1549007b",
   "metadata": {},
   "outputs": [],
   "source": [
    "num = 22\n",
    "\n",
    "with open(f'1.{num}.txt','r') as file:\n",
    "    data = file.readlines()\n",
    "indices = []\n",
    "fin = []\n",
    "for i in data:\n",
    "    if re.match(r'^1.\\ [A-Z]', i):\n",
    "        indices.append(data.index(i))\n",
    "start = indices[0]\n",
    "end = indices[1]\n",
    "i = start\n",
    "while i < end:\n",
    "    fin.append(data[i])\n",
    "    i += 1\n",
    "\n",
    "string = \" \".join(fin)\n",
    "test = string.split('\\n')\n",
    "phrases = []\n",
    "start_indices = [i for i, line in enumerate(data) if re.match(r'^1.\\ [A-Z]', line)]\n",
    "\n",
    "if len(start_indices) >= 2:\n",
    "    fin = data[start_indices[0]:start_indices[1]]\n",
    "    string = ' '.join(fin)\n",
    "    test = string.split('\\n')\n",
    "    phrases.append(test)\n",
    "top = []\n",
    "word_lists = [sentence.split() for sentence in test]\n",
    "final_list = []\n",
    "for sublist in word_lists:\n",
    "    final_list.extend(sublist)\n",
    "x = fonction_generale(final_list)\n",
    "top.append(x)\n",
    "text = ' '.join(x)\n",
    "text = re.sub('\\d{2,3}', '', text)\n",
    "\n",
    "with open(f'1_{num}.txt','w') as file:\n",
    "    file.write(text)"
   ]
  },
  {
   "cell_type": "code",
   "execution_count": 579,
   "id": "4dcd78a9",
   "metadata": {},
   "outputs": [],
   "source": [
    "with open('1_8.txt','r') as file:\n",
    "     data = file.readlines()\n",
    "new_list = [string.replace('\\n','') for string in data]\n",
    "new_list = ' '.join(new_list)\n",
    "with open('1_14.txt','w') as file:\n",
    "        file.write(new_list)"
   ]
  }
 ],
 "metadata": {
  "kernelspec": {
   "display_name": "Python 3 (ipykernel)",
   "language": "python",
   "name": "python3"
  },
  "language_info": {
   "codemirror_mode": {
    "name": "ipython",
    "version": 3
   },
   "file_extension": ".py",
   "mimetype": "text/x-python",
   "name": "python",
   "nbconvert_exporter": "python",
   "pygments_lexer": "ipython3",
   "version": "3.9.7"
  }
 },
 "nbformat": 4,
 "nbformat_minor": 5
}

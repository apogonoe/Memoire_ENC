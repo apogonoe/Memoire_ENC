{
 "cells": [
  {
   "cell_type": "code",
   "execution_count": 1,
   "id": "d7315041",
   "metadata": {},
   "outputs": [],
   "source": [
    "import os\n",
    "import re\n",
    "import pandas as pd\n",
    "import numpy as np\n",
    "from re import match"
   ]
  },
  {
   "cell_type": "code",
   "execution_count": 171,
   "id": "d57a838d",
   "metadata": {},
   "outputs": [],
   "source": [
    "path = '/home/noe/Documents/2022-2023/ENC/Mémoire/Livres_OCR_par_chartes/Livre_1/'\n",
    "os.chdir(path)"
   ]
  },
  {
   "cell_type": "code",
   "execution_count": 172,
   "id": "0eb3a214",
   "metadata": {},
   "outputs": [],
   "source": [
    "numéros_livre_1 = list(range(1,34,1))\n",
    "numéros_livre_2 = list(range(1,60,1))\n",
    "numéros_livre_3 = list(range(1,88,1))\n",
    "numéros_livre_4 = list(range(1,17,1))\n",
    "numéros_livre_5 = list(range(1,137,1))\n",
    "numéros_livre_6 = list(range(1,33,1))"
   ]
  },
  {
   "cell_type": "code",
   "execution_count": 173,
   "id": "537058a9",
   "metadata": {},
   "outputs": [],
   "source": [
    "liste_titres_1 = []\n",
    "\n",
    "for i in numéros_livre_1:\n",
    "\n",
    "    num = i\n",
    "\n",
    "    with open(f'1.{num}.txt','r') as file:\n",
    "        data = file.readlines()\n",
    "    data = [s.replace('\\n', '') for s in data if s.replace('\\n', '')]\n",
    "\n",
    "\n",
    "\n",
    "    start_index = next((i for i, item in enumerate(data) if item.startswith('dat.')), None)\n",
    "    end_index = next((i for i, item in enumerate(data) if item.startswith('1. ')), None)\n",
    "\n",
    "    result = [item for item in data[start_index+1:end_index] if not item.startswith('dat.') and not item.startswith('1.')]\n",
    "    \n",
    "    result_string = ' '.join(result)\n",
    "    \n",
    "    liste_titres_1.append(result_string)\n",
    "    "
   ]
  },
  {
   "cell_type": "code",
   "execution_count": 174,
   "id": "ccc959c3",
   "metadata": {},
   "outputs": [],
   "source": [
    "path = '/home/noe/Documents/2022-2023/ENC/Mémoire/Livres_OCR_par_chartes/Livre_2/'\n",
    "os.chdir(path)"
   ]
  },
  {
   "cell_type": "code",
   "execution_count": 175,
   "id": "e7b1f41b",
   "metadata": {},
   "outputs": [],
   "source": [
    "liste_titres_2 = []\n",
    "for i in numéros_livre_2:\n",
    "\n",
    "    num = i\n",
    "\n",
    "    with open(f'2.{num}.txt','r') as file:\n",
    "        data = file.readlines()\n",
    "    data = [s.replace('\\n', '') for s in data if s.replace('\\n', '')]\n",
    "\n",
    "\n",
    "\n",
    "    start_index = next((i for i, item in enumerate(data) if item.startswith('dat.')), None)\n",
    "    end_index = next((i for i, item in enumerate(data) if item.startswith('1. ')), None)\n",
    "\n",
    "    result = [item for item in data[start_index+1:end_index] if not item.startswith('dat.') and not item.startswith('1.')]\n",
    "    \n",
    "    result_string = ' '.join(result)\n",
    "    \n",
    "    liste_titres_2.append(result_string)\n",
    "    "
   ]
  },
  {
   "cell_type": "code",
   "execution_count": 176,
   "id": "a547ba9a",
   "metadata": {},
   "outputs": [
    {
     "data": {
      "text/plain": [
       "[]"
      ]
     },
     "execution_count": 176,
     "metadata": {},
     "output_type": "execute_result"
    }
   ],
   "source": [
    "liste_titres"
   ]
  },
  {
   "cell_type": "code",
   "execution_count": 177,
   "id": "0994d00b",
   "metadata": {},
   "outputs": [],
   "source": [
    "path = '/home/noe/Documents/2022-2023/ENC/Mémoire/Livres_OCR_par_chartes/Livre_3/test/'\n",
    "os.chdir(path)"
   ]
  },
  {
   "cell_type": "code",
   "execution_count": 178,
   "id": "e760cf0e",
   "metadata": {},
   "outputs": [],
   "source": [
    "liste_titres_3 = []\n",
    "for i in numéros_livre_3:\n",
    "\n",
    "    num = i\n",
    "\n",
    "    with open(f'3.{num}.txt','r') as file:\n",
    "        data = file.readlines()\n",
    "    data = [s.replace('\\n', '') for s in data if s.replace('\\n', '')]\n",
    "\n",
    "\n",
    "\n",
    "    start_index = next((i for i, item in enumerate(data) if item.startswith('dat.')), None)\n",
    "    end_index = next((i for i, item in enumerate(data) if item.startswith('1. ')), None)\n",
    "\n",
    "    result = [item for item in data[start_index+1:end_index] if not item.startswith('dat.') and not item.startswith('1.')]\n",
    "    \n",
    "    result_string = ' '.join(result)\n",
    "    \n",
    "    liste_titres_3.append(result_string)\n",
    "    "
   ]
  },
  {
   "cell_type": "code",
   "execution_count": 179,
   "id": "bb33db67",
   "metadata": {},
   "outputs": [],
   "source": [
    "ong_elements_index = [i for i, element in enumerate(liste_titres_3) if len(element) > 200]"
   ]
  },
  {
   "cell_type": "code",
   "execution_count": 180,
   "id": "3e657034",
   "metadata": {},
   "outputs": [],
   "source": [
    "path = '/home/noe/Documents/2022-2023/ENC/Mémoire/Livres_OCR_par_chartes/Livre_4/test/'\n",
    "os.chdir(path)"
   ]
  },
  {
   "cell_type": "code",
   "execution_count": 181,
   "id": "416ca046",
   "metadata": {},
   "outputs": [],
   "source": [
    "liste_titres_4 = []\n",
    "for i in numéros_livre_4:\n",
    "\n",
    "    num = i\n",
    "\n",
    "    with open(f'4.{num}.txt','r') as file:\n",
    "        data = file.readlines()\n",
    "    data = [s.replace('\\n', '') for s in data if s.replace('\\n', '')]\n",
    "\n",
    "\n",
    "\n",
    "    start_index = next((i for i, item in enumerate(data) if item.startswith('dat.')), None)\n",
    "    end_index = next((i for i, item in enumerate(data) if item.startswith('1. ')), None)\n",
    "\n",
    "    result = [item for item in data[start_index+1:end_index] if not item.startswith('dat.') and not item.startswith('1.')]\n",
    "    \n",
    "    result_string = ' '.join(result)\n",
    "    \n",
    "    liste_titres_4.append(result_string)\n",
    "    "
   ]
  },
  {
   "cell_type": "code",
   "execution_count": 182,
   "id": "bdf71dcb",
   "metadata": {},
   "outputs": [
    {
     "data": {
      "text/plain": [
       "[7]"
      ]
     },
     "execution_count": 182,
     "metadata": {},
     "output_type": "execute_result"
    }
   ],
   "source": [
    "ong_elements_index = [i for i, element in enumerate(liste_titres_4) if len(element) > 200]\n",
    "ong_elements_index"
   ]
  },
  {
   "cell_type": "code",
   "execution_count": 183,
   "id": "2f1b1fa5",
   "metadata": {},
   "outputs": [
    {
     "data": {
      "text/plain": [
       "['Fridericus uniuersis prelatis et clericis regni Sicyliae, de morte regis Henrici filii sui',\n",
       " 'Capitaneo, de morte imperatricis, ut eius exequias per iurisdictionem suam faciat celebrari',\n",
       " 'Cuidam nobili, de morte soceri sui',\n",
       " 'Cuidam fideli suo, consolando eum de morte filii sui occisi in expugnatione Victoriae',\n",
       " 'Litterae consolationis B. comiti Casertano lugenti de morte episcopi fratris sui',\n",
       " 'Comiti Acerrarum, consolando eum de morte filii sui cadentis in bello',\n",
       " 'Litterae consolationis missae scolaribus de morte magistri B. Vagientibus adhuc in cunis artis gramaticae et cetera.',\n",
       " 'Eisdem, de eodem, facta mentione de quodam alio magistro premortuo Sedentibus super aquas amaritudinis et in salicibus organa suspenden- tibus, Neapolitani Studii doctoribus uniuersis, magister Petrus de Vineis solamen sancti spiritus et illam, quae omnem sensum exuberat, pacem Do- mini nostri Iesu Christi.',\n",
       " 'Eisdem, de morte Iacobi Balduini luris ciuilis professoribus uniuersis magister Petrus salutem et attendere ultimum ante primum.',\n",
       " 'Mater significat mortem filii sui magistro Petro, et recommendat alios filios suos sibi',\n",
       " 'Responsiva ad precedentem, consolando eam Nobili mulieri dominae P., Petrus de Vineis salutem et consolationem, quam potest et debet.',\n",
       " 'Consolatur de morte filii sui decedentis in servitio Camerae',\n",
       " 'Magister Petrus consolatur matrem et filios suos et sorores de morte patris sui',\n",
       " 'Consolationis litterae ad affines, de morte cognati sui Socero et socrui suis, domino L. et dominae B., Petrus de Vineis et cetera.',\n",
       " 'Litterae doloris de morte regis Iohannis, et quod duo filii sui ducantur ad eius presentiam',\n",
       " 'Litterae consolatoriae ad quemdam de morte filii sui']"
      ]
     },
     "execution_count": 183,
     "metadata": {},
     "output_type": "execute_result"
    }
   ],
   "source": [
    "liste_titres_4"
   ]
  },
  {
   "cell_type": "code",
   "execution_count": 184,
   "id": "71b19301",
   "metadata": {},
   "outputs": [],
   "source": [
    "path = '/home/noe/Documents/2022-2023/ENC/Mémoire/Livres_OCR_par_chartes/Livre_5/'\n",
    "os.chdir(path)"
   ]
  },
  {
   "cell_type": "code",
   "execution_count": 185,
   "id": "c5c1b5eb",
   "metadata": {},
   "outputs": [],
   "source": [
    "liste_titres_5 = []\n",
    "for i in numéros_livre_5:\n",
    "\n",
    "    num = i\n",
    "\n",
    "    with open(f'5.{num}.txt','r') as file:\n",
    "        data = file.readlines()\n",
    "    data = [s.replace('\\n', '') for s in data if s.replace('\\n', '')]\n",
    "\n",
    "    start_index = next((i for i, item in enumerate(data) if item.startswith('dat.')), None)    \n",
    "    end_index = next((i for i, item in enumerate(data) if item.startswith('1. ')), None)\n",
    "    \n",
    "    if start_index == None:\n",
    "        start_index = next((i for i, item in enumerate(data) if item.startswith('mitt.')), None) \n",
    "\n",
    "    result = [item for item in data[start_index+1:end_index] if not item.startswith('dat.') and not item.startswith('1.')]\n",
    "    \n",
    "    result_string = ' '.join(result)\n",
    "\n",
    "    liste_titres_5.append(result_string)"
   ]
  },
  {
   "cell_type": "code",
   "execution_count": 186,
   "id": "4b9fe423",
   "metadata": {},
   "outputs": [
    {
     "data": {
      "text/plain": [
       "['Commisso uicariae cum gladii potestate',\n",
       " 'Capitaneo, ut procedat ad uindictam cuiusdam proditoris',\n",
       " 'Iustitiario Regni, ut procedat contra homicidas',\n",
       " 'Fidelibus suis, super inquisitione facienda contra officiales',\n",
       " 'lustitiario, ut procedat ad subuentionem noui militis, iuxta priorum con- tinentiam litterarum',\n",
       " 'Eidem, de refectione cuiusdam pontis',\n",
       " 'Item eisdem, super eodem eadem',\n",
       " 'Eidem, ut non diruat domos proditorum, eo quod infert dampnum fidelibus',\n",
       " 'Cuidam iustitiario, ut puniat uillicum, qui domini sui corrupit pedissecam',\n",
       " 'Pulchrum exordium super inquisitione|facienda',\n",
       " 'Eidem, ut puniantur deuastantes segetes noctis tempore',\n",
       " 'Eidem, ut reformetur pax inter minores et maiores.',\n",
       " 'Eidem, ut ponantur insidiae ad capiendum proditorem',\n",
       " 'Responsina a oreceaanien',\n",
       " 'Eidem, ut procedat contra exactiones ultra debitum',\n",
       " 'lustitiario Terrae Laboris, de colligenda pecunia pro maritagio filiae suae',\n",
       " 'Abbati et Conuentui cuiusdam monasterii, ut recludant fenestras propter aspectum secularium',\n",
       " 'Iustitiario, ut compellantur redire ad habitandas terras suas illi, qui pro uitandis collectis fraudulenter fugerunt ab eisdem',\n",
       " 'Eidem, ut manuteneat et defendat illos, quos et sua bona sub imperiali protectione susceperat',\n",
       " 'Constitutio contra deuastantes ortos et uineas',\n",
       " 'Cuidam abbati, ut compescat fratres diffamantes confratrem suum, in suo seruitio existentem',\n",
       " 'Cuidam abbati, de quodam monacho falsario',\n",
       " 'lustitiario, ut faciat prouideri cuidam in suo seruitio existenti, iuxta pri- orum continentiam litterarum',\n",
       " 'Cuidam, quod non faciat represalias contra Tudertinos, sed alleget ius suum in imperiali curia, si quod habet',\n",
       " 'Quod restituatur pecunia mutuata',\n",
       " 'Contra illos, qui turbant aliquem in sua possessione',\n",
       " 'De causa appellationis superiori committenda in criminalibus interiectae',\n",
       " 'Mandat, ut prouideat super interclusa petitione',\n",
       " 'Responsalis Friderici cum commendatione sollicitudinis',\n",
       " 'Item responsalis ad illud',\n",
       " 'Vt rescribat, quod expedit super negotio',\n",
       " 'Quod aliquis miles recipiatur ad stipendia curiae',\n",
       " 'Vt moneantur Pisani, quod desistant a molestiis regnicolarum',\n",
       " 'Conclusio super processu ad curiam destinando, in causa appellationis super criminali condempnatione',\n",
       " 'De salariis Potestatum in approbata forma',\n",
       " 'Alia forma super eodem negotio Potestati terrae',\n",
       " 'De securo conductu sine termino et condicionibus',\n",
       " 'Quod prouideatur cuidam presbytero de uacantibus prouentibus',\n",
       " 'Quod hii, qui in seruitiis curiae commorantur, in familia seu rebus nul- latenus molestetuntur',\n",
       " 'Quod datiae uel collectae non auferantur ab hiis, qui in seruitio curiae commorantur',\n",
       " 'Capitaneo, ut fiat inquisitio de quodam, qui dicitur fidelis, capto inermi inter infideles',\n",
       " 'Eidem contra eum, qui seruitiis curiae infestum se exhibet et molestum',\n",
       " 'Conclusio super inquisitione facienda de condicione potentum',\n",
       " 'Cuidam communitati, ut credant nuntiis super eo, quod dat eis arbitrium de suo regimine',\n",
       " 'Vt restituatur possessio destituto, in seruitiis curiae commoranti',\n",
       " 'Capitaneo, de processu mittendo ad curiam, de citatione facienda',\n",
       " 'Mandat cuidam, ut doceat, quid expediat de liberatione quorumdam',\n",
       " 'Concedit licentiam quibusdam mercatoribus faciendi represalias',\n",
       " 'Concedit litteras securitatis quibusdam mercatoribus sub certis condicio- nibus',\n",
       " 'Concedit nobili mulieri, tutrici filiorum, quod possit constituere procura- torem in causa filiorum',\n",
       " 'De securo conductu extra communem formam',\n",
       " 'Respondet cuidam nobili, et commendat processum ipsius',\n",
       " 'Capitaneo, ut quasdam suas litteras mittat ad alias partes',\n",
       " 'Eidem, ut citetur ad curiam, qui iniuste castrum occupauit aliorum',\n",
       " 'Eidem, de captiuis liberandis iuxta priorum continentiam litterarum',\n",
       " 'Potestati Pisanorum, ut cogat quemdam ad restitutionem depositi muli',\n",
       " 'Capitaneo, ut nuntiet, quid sit faciendum super excontro quorumdam obsidum',\n",
       " 'Capitaneo, commendat eum, quod cepit quemdam rebellem',\n",
       " 'Eidem, et super eisdem',\n",
       " 'Eidem, ut prouideat cuidam fideli de aliquo regimine',\n",
       " 'Capitaneo significat, quod respondet petitis per nuntium',\n",
       " 'Eidem, et commendat eum de parato exercitu, et hortatur eum de prouidendo',\n",
       " 'Eidem, respondet ad transmissa',\n",
       " 'Eidem, quod fiat inquisitio de clandestinis dampnis illatis cuidam uiduae',\n",
       " 'Eidem, de procuratore ordinando, qui iura curiae tueatur in causa, quam sibi committit',\n",
       " 'Capitaneo, ut mandet sententiam executioni, sicut rationabiliter est prolata',\n",
       " 'Eidem, de soluendo consueto salario Potestati per Commune',\n",
       " 'Eidem, de commendatione fidelium',\n",
       " 'Capitaneo, ut commendet equum, quem fidelis suus perdiderat in bello',\n",
       " 'Respondet cuidam nobili ad transmissa et dicit, quod equos non uult sibi dare',\n",
       " 'Friderico de Antiochia, ut assignet uicariam cuidam, quem prefecit in capianeum',\n",
       " 'Hominibus cuiusdam capitanei, ut obediant fideliter capitaneo supradicto',\n",
       " 'De commendatione fidelium in gratia facienda',\n",
       " 'Cuidam nobili, commendatio de fidelitate',\n",
       " 'De fidelium commendatione, cum promissione beneficiorum',\n",
       " 'Exordium de remuneratione fidelium in filios facienda',\n",
       " 'Capitaneo significat, quod miratur, quod non significauit sibi prospera noua de partibus illis',\n",
       " 'Eidem, quod faciat restitui bona disrobatis supra mare',\n",
       " 'Cuidam nobili, commendatio de fidelitate',\n",
       " 'Capitaneo, ut captiuum, qui fideiussoriam prestitit cautionem, a carcere liberet, restitutis sibi bonis',\n",
       " 'Eidem committit, ut appellationem confirmet uel infirmet',\n",
       " 'Fidelibus suis, confortans eos in fide, et ut credant nuntio',\n",
       " 'Cuidam nobili, de eodem',\n",
       " 'Capitaneo, ut causam appellationis et processum debeat ad curiam de- stinare',\n",
       " 'Eidem, super gratia concessa cuidam monasterio, de laborandis quibusdam terris',\n",
       " 'Capitaneo, ut certam quantitatem soluat annuatim cuidam fideli',\n",
       " 'Eidem, ut concedat licentiam cuidam communitati uendendi uinum et bladum fidelibus',\n",
       " 'Eidem, ut nomina castellanorum et Statuta castrorum suae iurisdictionis in scriptis transmittat ad curiam',\n",
       " 'Cuidam Potestati et communitati, ut ablata post appellationem non postpo- nant restiluere',\n",
       " 'Concedit licentiam quibusdam de infidelibus capiendis',\n",
       " 'Capitaneo, ut concedat licentiam portandi et uendendi bladum fidelibus',\n",
       " 'Cuidam communitati, ut non molestent quemdam heremum in suis iuribus',\n",
       " 'Capitaneo, ut non permittat fideles molestari contra gratiam eis concessam',\n",
       " 'Capitaneo, ut contractum debitum ab episcopo soluat de bonis episcopatus deuolutis ad manus fisci',\n",
       " 'Eidem, super eodem uel quasi',\n",
       " 'Eidem, ut non molestet eur, qui bona quaedam emerat ab episcopo prefato',\n",
       " 'Quibusdam, ut citentur ad curiam, qui alios in sua possessione molestant',\n",
       " 'Respondet cuidam nobili, et commendat eum de fidelitate',\n",
       " 'Capitaneo, ut, amoto castellano ueteri, castrum nouo castellano assignet',\n",
       " 'Cuidam nobili, ut procedat ad regimen ciuitatis, cui prefecit eum in Po- testatem',\n",
       " 'Communi ciuitatis eiusdem, ut eidem Potestati pareant et intendant',\n",
       " 'Respondet capitaneo, et commendat eum de processu facto per eum et instruit, qualiter sit processurus',\n",
       " 'Significat cuidam nobili prosperum aduentum suum in Regnum',\n",
       " 'Capitaneo, ut prouideat annuatim cuidam nobili de prouentibus cuiusdam ecclesiae',\n",
       " 'Item super eodem uel quasi',\n",
       " 'Cuidam communitati, ut restituat equos eis, qui eos perdiderant in seruitio imperatoris',\n",
       " 'Forbannitio facta contra homicidam non comparentem in iudicio',\n",
       " 'Sententia condempnationis lata contra quoddam Commune, quia non ceperunt homicidam',\n",
       " 'Capitaneo, ut assignet prouentus duorum castrorum quibusdam, qui prop- ter fidem sunt exules',\n",
       " 'Potestati, quod is, qui bona sua inter creditores distribuit, ad soluendum decimam curiae non cogatur',\n",
       " 'Forma exbanditionis facta contra contumaces accusatos de homicidio',\n",
       " 'Vt capiantur forbanditi, et in curia presententur',\n",
       " 'Quod nobiles et alii potentes conferant in datiis et collectis cum uniuersitate',\n",
       " 'Forma petitionis in approbata forma imperatori porrigenda',\n",
       " 'Litterae securitatis et conductus nuntiorum in eundo et redeundo',\n",
       " 'Inquisitio facienda supra quibusdam articulis contra moniales',\n",
       " 'Responsalis cum significatione rumorum et hortatione',\n",
       " 'Idem super eisdem, et hortatio, ut se parent',\n",
       " 'De remissione militum ad suum seruitium transmissorum, cum hortatione',\n",
       " 'Quod fiat emenda militibus, qui equos et arma in exercitu perdiderunt',\n",
       " 'Informatio iustitiae ad restitutionem rei ablatae prouidendam',\n",
       " 'Responsalis in breui forma',\n",
       " 'De eodem, et significat se iturum ad partes illas',\n",
       " 'Informatio iustitiae de non molestandis religiosis contra priuilegium et Statuta',\n",
       " 'Responsalis commendationis de preteritis et hortationis in futuro',\n",
       " 'Fidelibus suis Tusciae, ut obediant capitaneo, quem mittit eis',\n",
       " 'Fidelibus suis, commendans eos de fide et animat eos in ipsa',\n",
       " 'Conclusio, quae apponitur quibusdam litteris commissionis',\n",
       " 'Rex Corradus significat fidelibus suis regnicolis aduentum suum de Ala- mannia in Regnum',\n",
       " 'Item commendat Panormitanos de fidelitate et regratiatur eis de oblata pecunia',\n",
       " 'Secretario Syciliae, ut faciat restitui bona patris proditoris filio fideli',\n",
       " 'Magistro iustitiario, de distributione generalis collectae',\n",
       " 'Increpando scribit rationalibus suis Apuliae super mittenda pecunia, et ut obediant nuntio',\n",
       " 'Mittit nuntium, pro habenda et percipienda subuentione a fidelibus suis',\n",
       " 'Exprobat Romanis, qui noluerunt acquiescere monitis suis, et ut obediant nuntiis',\n",
       " 'De commendatione regni Syciliae et ordinatione iustitiae']"
      ]
     },
     "execution_count": 186,
     "metadata": {},
     "output_type": "execute_result"
    }
   ],
   "source": [
    "liste_titres_5"
   ]
  },
  {
   "cell_type": "code",
   "execution_count": 187,
   "id": "3625dd14",
   "metadata": {},
   "outputs": [
    {
     "data": {
      "text/plain": [
       "[]"
      ]
     },
     "execution_count": 187,
     "metadata": {},
     "output_type": "execute_result"
    }
   ],
   "source": [
    "ong_elements_index = [i for i, element in enumerate(liste_titres_5) if len(element) > 200]\n",
    "ong_elements_index"
   ]
  },
  {
   "cell_type": "code",
   "execution_count": 188,
   "id": "b5d945a2",
   "metadata": {},
   "outputs": [],
   "source": [
    "path = '/home/noe/Documents/2022-2023/ENC/Mémoire/Livres_OCR_par_chartes/Livre_6/'\n",
    "os.chdir(path)"
   ]
  },
  {
   "cell_type": "code",
   "execution_count": 189,
   "id": "490e2688",
   "metadata": {},
   "outputs": [],
   "source": [
    "liste_titres_6 = []\n",
    "for i in numéros_livre_6:\n",
    "\n",
    "    num = i\n",
    "\n",
    "    with open(f'6.{num}.txt','r') as file:\n",
    "        data = file.readlines()\n",
    "    data = [s.replace('\\n', '') for s in data if s.replace('\\n', '')]\n",
    "\n",
    "    start_index = next((i for i, item in enumerate(data) if item.startswith('dat.')), None)    \n",
    "    end_index = next((i for i, item in enumerate(data) if item.startswith('1. ')), None)\n",
    "    \n",
    "    if start_index == None:\n",
    "        start_index = next((i for i, item in enumerate(data) if item.startswith('mitt.')), None) \n",
    "\n",
    "    result = [item for item in data[start_index+1:end_index] if not item.startswith('dat.') and not item.startswith('1.')]\n",
    "    \n",
    "    result_string = ' '.join(result)\n",
    "\n",
    "    liste_titres_6.append(result_string)"
   ]
  },
  {
   "cell_type": "code",
   "execution_count": 190,
   "id": "a47c425e",
   "metadata": {},
   "outputs": [
    {
     "data": {
      "text/plain": [
       "[]"
      ]
     },
     "execution_count": 190,
     "metadata": {},
     "output_type": "execute_result"
    }
   ],
   "source": [
    "ong_elements_index = [i for i, element in enumerate(liste_titres_6) if len(element) > 200]\n",
    "ong_elements_index"
   ]
  },
  {
   "cell_type": "code",
   "execution_count": 191,
   "id": "604ace65",
   "metadata": {},
   "outputs": [],
   "source": [
    "liste_titres = liste_titres_1 + liste_titres_2 + liste_titres_3 + liste_titres_4 + liste_titres_5 + liste_titres_6"
   ]
  },
  {
   "cell_type": "code",
   "execution_count": 197,
   "id": "4299e1c4",
   "metadata": {},
   "outputs": [],
   "source": [
    "path = '/home/noe/Documents/2022-2023/ENC/Mémoire/Livres_OCR_par_chartes/Livre_1/Texte_fin/'\n",
    "os.chdir(path)"
   ]
  },
  {
   "cell_type": "code",
   "execution_count": 208,
   "id": "f1a9a408",
   "metadata": {},
   "outputs": [],
   "source": [
    "liste_textes_1 = []\n",
    "\n",
    "for i in numéros_livre_6:\n",
    "\n",
    "    num = i\n",
    "\n",
    "    with open(f'1_{num}.txt','r') as file:\n",
    "        data = file.readlines()\n",
    "    data = ', '.join(data)\n",
    "    \n",
    "    liste_textes_1.append(data)"
   ]
  },
  {
   "cell_type": "code",
   "execution_count": 210,
   "id": "5ade7e62",
   "metadata": {},
   "outputs": [
    {
     "data": {
      "text/plain": [
       "32"
      ]
     },
     "execution_count": 210,
     "metadata": {},
     "output_type": "execute_result"
    }
   ],
   "source": [
    "len(liste_textes_1)"
   ]
  },
  {
   "cell_type": "code",
   "execution_count": null,
   "id": "44272484",
   "metadata": {},
   "outputs": [],
   "source": []
  }
 ],
 "metadata": {
  "kernelspec": {
   "display_name": "Python 3 (ipykernel)",
   "language": "python",
   "name": "python3"
  },
  "language_info": {
   "codemirror_mode": {
    "name": "ipython",
    "version": 3
   },
   "file_extension": ".py",
   "mimetype": "text/x-python",
   "name": "python",
   "nbconvert_exporter": "python",
   "pygments_lexer": "ipython3",
   "version": "3.9.7"
  }
 },
 "nbformat": 4,
 "nbformat_minor": 5
}

{
 "cells": [
  {
   "cell_type": "code",
   "execution_count": 51,
   "id": "b670f133",
   "metadata": {},
   "outputs": [],
   "source": [
    "import pandas as pd\n",
    "import os\n",
    "import re"
   ]
  },
  {
   "cell_type": "code",
   "execution_count": 63,
   "id": "ac387b22",
   "metadata": {},
   "outputs": [],
   "source": [
    "file = '/home/noe/Documents/2022-2023/ENC/Mémoire/Dataframes/Thomas_de_Capoue_lemmas.xlsx'\n",
    "path = '/home/noe/Documents/2022-2023/ENC/Mémoire/Dataframes/'\n",
    "os.chdir(path)"
   ]
  },
  {
   "cell_type": "code",
   "execution_count": 64,
   "id": "8a6a7a8b",
   "metadata": {},
   "outputs": [
    {
     "data": {
      "text/plain": [
       "0        0\n",
       "1        1\n",
       "2        2\n",
       "3        3\n",
       "4        4\n",
       "      ... \n",
       "619    619\n",
       "620    620\n",
       "621    621\n",
       "622    622\n",
       "623    623\n",
       "Name: Unnamed: 0, Length: 624, dtype: int64"
      ]
     },
     "execution_count": 64,
     "metadata": {},
     "output_type": "execute_result"
    }
   ],
   "source": [
    "df = pd.read_excel(file)\n",
    "df.pop('Unnamed: 0')"
   ]
  },
  {
   "cell_type": "code",
   "execution_count": 65,
   "id": "9e219edd",
   "metadata": {},
   "outputs": [],
   "source": [
    "def clean_text(string):\n",
    "    first = re.sub(\"\\n\",\"\",string)\n",
    "    new_string = re.sub(\"[0-9]. \",'',first)\n",
    "    new_string_2 = re.sub(r'- *','',new_string)\n",
    "    final = re.sub(' . ',' ', new_string_2)\n",
    "    final2 = re.sub('-, ','',final)\n",
    "    final3 = re.sub('[0-9]','',final2)\n",
    "    return final3\n",
    "def clean_column(text):\n",
    "    text = text.strip()\n",
    "    text = re.sub(r\"\\s+\", \" \", text)\n",
    "    return text"
   ]
  },
  {
   "cell_type": "code",
   "execution_count": 66,
   "id": "1dba0419",
   "metadata": {},
   "outputs": [],
   "source": [
    "df['Text'] = df['Text'].apply(clean_text).apply(clean_column)"
   ]
  },
  {
   "cell_type": "code",
   "execution_count": 67,
   "id": "fab78b48",
   "metadata": {},
   "outputs": [
    {
     "data": {
      "text/plain": [
       "'Prudenter precidenda sunt mala, ut salubriter bona succedant; offendiculo quoque sublato nocivo occurret facilior aditus ad optata. Sane cum dominus papa, zelator salutis, ad ea nos miserit, que sunt honoris Dei, ecclesie, imperii et status prosperi Lombardie, ne guerrarum turbatio, que solet in talibus afferre periculum, nostro processui circa premissa, quod absit, aliquid difficultatis opponat, bona fide consulimus, affectione pura rogamus et, quoniam expedire videmus, districte vobis precipimus, quatenus post receptionem presentium et ab incursu cessetis hostili et securitatem prestetis non solum transeuntibus, verum etiam circumadiacentium hominibus regionum. Nos autem similia circa vestros adversarios procuramus. Sic etenim precisis hinc inde turbationum zizaniis in spe fertili divine clementie superseminari poterit semen optate quietis.'"
      ]
     },
     "execution_count": 67,
     "metadata": {},
     "output_type": "execute_result"
    }
   ],
   "source": [
    "df['Text'][2]"
   ]
  },
  {
   "cell_type": "code",
   "execution_count": 56,
   "id": "dd5ad8bd",
   "metadata": {},
   "outputs": [],
   "source": [
    "textes = df['Text'].tolist()"
   ]
  },
  {
   "cell_type": "code",
   "execution_count": 57,
   "id": "7738d5ca",
   "metadata": {},
   "outputs": [],
   "source": [
    "with open(\"textes.txt\", \"w\") as f:\n",
    "    f.write('\\n\\n'.join(textes))"
   ]
  },
  {
   "cell_type": "code",
   "execution_count": 59,
   "id": "9b7eb8cf",
   "metadata": {},
   "outputs": [],
   "source": [
    "with open('scande.txt','r') as file:\n",
    "    data = file.readlines()"
   ]
  },
  {
   "cell_type": "code",
   "execution_count": 76,
   "id": "f3fe71b6",
   "metadata": {},
   "outputs": [],
   "source": [
    "n = 1\n",
    "syllable = [data[i:i+n] for i in range(0, len(data), n)]"
   ]
  },
  {
   "cell_type": "code",
   "execution_count": 105,
   "id": "7c4d17c0",
   "metadata": {},
   "outputs": [],
   "source": [
    "res = [[ele for ele in sub if ele != '\\n'] for sub in syllable]\n",
    "res = [ele for ele in res if ele != []]"
   ]
  },
  {
   "cell_type": "code",
   "execution_count": 98,
   "id": "5b045326",
   "metadata": {},
   "outputs": [
    {
     "data": {
      "text/plain": [
       "1248"
      ]
     },
     "execution_count": 98,
     "metadata": {},
     "output_type": "execute_result"
    }
   ],
   "source": [
    "len(syllable)"
   ]
  },
  {
   "cell_type": "code",
   "execution_count": 109,
   "id": "ed5ac072",
   "metadata": {},
   "outputs": [],
   "source": [
    "df['syllable'] = res"
   ]
  },
  {
   "cell_type": "code",
   "execution_count": 111,
   "id": "141ac4c9",
   "metadata": {},
   "outputs": [],
   "source": [
    "df['syllable'] = df['syllable'].apply(lambda lst: ' '.join(map(str, lst)))"
   ]
  },
  {
   "cell_type": "code",
   "execution_count": 113,
   "id": "2bec796e",
   "metadata": {},
   "outputs": [],
   "source": [
    "df.to_excel('TDC_syllable.xlsx')"
   ]
  },
  {
   "cell_type": "code",
   "execution_count": null,
   "id": "d0ea2646",
   "metadata": {},
   "outputs": [],
   "source": []
  }
 ],
 "metadata": {
  "kernelspec": {
   "display_name": "Python 3 (ipykernel)",
   "language": "python",
   "name": "python3"
  },
  "language_info": {
   "codemirror_mode": {
    "name": "ipython",
    "version": 3
   },
   "file_extension": ".py",
   "mimetype": "text/x-python",
   "name": "python",
   "nbconvert_exporter": "python",
   "pygments_lexer": "ipython3",
   "version": "3.8.16"
  }
 },
 "nbformat": 4,
 "nbformat_minor": 5
}

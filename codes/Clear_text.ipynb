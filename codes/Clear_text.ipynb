{
 "cells": [
  {
   "cell_type": "code",
   "execution_count": 1,
   "id": "d2fff78f",
   "metadata": {},
   "outputs": [],
   "source": [
    "def find_index(lst, substring):\n",
    "    for i, s in enumerate(lst):\n",
    "        if substring in s:\n",
    "            return i"
   ]
  },
  {
   "cell_type": "code",
   "execution_count": 19,
   "id": "7fb8fb37",
   "metadata": {},
   "outputs": [],
   "source": [
    "def find_empty_element(lst, start_index):\n",
    "    for i in range(start_index, len(lst)):\n",
    "        if lst[i] == ' ':\n",
    "            return i\n",
    "    return -1"
   ]
  },
  {
   "cell_type": "code",
   "execution_count": 74,
   "id": "d41fec4d",
   "metadata": {},
   "outputs": [],
   "source": [
    "def clean(input_list):\n",
    "    liste = []\n",
    "    pattern = re.compile(r' [1-9]{2,3}')\n",
    "    result = [element for element in input_list if not pattern.match(element)]\n",
    "    for i in result:\n",
    "        if i != ' ':\n",
    "            liste.append(i)\n",
    "    list_without_spaces = [item.lstrip() for item in liste]\n",
    "    return list_without_spaces"
   ]
  },
  {
   "cell_type": "code",
   "execution_count": 86,
   "id": "49dcb0f9",
   "metadata": {},
   "outputs": [],
   "source": [
    "def rubrica(liste):\n",
    "    vide = []\n",
    "    for i in liste:\n",
    "        if i.startswith(' Rubrica'):\n",
    "            vide.append(liste.index(i))\n",
    "            num_ind = vide[0]\n",
    "            liste = liste[:num_ind]\n",
    "    return liste "
   ]
  },
  {
   "cell_type": "code",
   "execution_count": null,
   "id": "0a034b89",
   "metadata": {},
   "outputs": [],
   "source": [
    "def last_check(liste):\n",
    "    \n",
    "    "
   ]
  },
  {
   "cell_type": "code",
   "execution_count": 87,
   "id": "89560c8e",
   "metadata": {},
   "outputs": [],
   "source": [
    "def number(liste):\n",
    "    haha = []\n",
    "    for i in liste:\n",
    "        if re.findall('[0-9]{1,2}\\.',i) :\n",
    "            haha.append(re.findall('[0-9]{1,2}\\.',i))\n",
    "    flat_list = [item for sublist in haha for item in sublist]\n",
    "    for i in range(len(flat_list)):\n",
    "        flat_list[i] = int(flat_list[i][:-1])\n",
    "    #flat_list\n",
    "    texte = []\n",
    "    x = 0\n",
    "    while flat_list[x] < flat_list[x+1]:\n",
    "        texte.append(flat_list[x])\n",
    "        x+=1\n",
    "    final = str(texte[-1] +1)+'. '\n",
    "    #final\n",
    "    value_1 = find_index(test,final)\n",
    "    #value_1\n",
    "    final_index_value = find_empty_element(test,value_1)\n",
    "    #final_index_value\n",
    "    result = test[:final_index_value]\n",
    "    return result"
   ]
  },
  {
   "cell_type": "code",
   "execution_count": 123,
   "id": "18c25c57",
   "metadata": {},
   "outputs": [],
   "source": [
    "path = '/home/noe/Documents/2022-2023/ENC/Mémoire/Livres_OCR_par_chartes/Livre_1/'\n",
    "os.chdir(path)"
   ]
  },
  {
   "cell_type": "code",
   "execution_count": 141,
   "id": "c2e2ca12",
   "metadata": {},
   "outputs": [],
   "source": [
    "with open('1.1.txt','r') as file:\n",
    "    data = file.readlines()\n",
    "indices = []\n",
    "fin = []\n",
    "for i in data:\n",
    "    if re.match(r'^1.\\ [A-Z]', i):\n",
    "        indices.append(data.index(i))\n",
    "i = indices[0]\n",
    "while i < indices[1]:\n",
    "    fin.append(data[i])\n",
    "    i += 1\n",
    "string = \" \".join(fin)\n",
    "test = string.split('\\n')\n",
    "final = clean(number(test))\n"
   ]
  },
  {
   "cell_type": "code",
   "execution_count": 142,
   "id": "3ccaa82c",
   "metadata": {},
   "outputs": [],
   "source": [
    "word_lists = [sentence.split() for sentence in test]"
   ]
  },
  {
   "cell_type": "code",
   "execution_count": 143,
   "id": "1b98e096",
   "metadata": {},
   "outputs": [],
   "source": [
    "final_list = []\n",
    "for sublist in word_lists:\n",
    "    final_list.extend(sublist)"
   ]
  },
  {
   "cell_type": "code",
   "execution_count": 126,
   "id": "51ced353",
   "metadata": {},
   "outputs": [],
   "source": [
    "#final_list"
   ]
  },
  {
   "cell_type": "code",
   "execution_count": 161,
   "id": "ca0d1527",
   "metadata": {},
   "outputs": [
    {
     "ename": "SyntaxError",
     "evalue": "invalid syntax (1361640123.py, line 8)",
     "output_type": "error",
     "traceback": [
      "\u001b[0;36m  Input \u001b[0;32mIn [161]\u001b[0;36m\u001b[0m\n\u001b[0;31m    elif re.match('[0-9]{1,2}\\.',item):\u001b[0m\n\u001b[0m    ^\u001b[0m\n\u001b[0;31mSyntaxError\u001b[0m\u001b[0;31m:\u001b[0m invalid syntax\n"
     ]
    }
   ],
   "source": [
    "texte = []\n",
    "value = 0\n",
    "for item in final_list:\n",
    "    if item == 'Rubrica:':\n",
    "        break\n",
    "    texte.append(item)\n",
    "\n",
    "elsif re.match('[0-9]{1,2}\\.',item):\n",
    "    comparative_value = int(item[:-1])\n",
    "    if comparative_value != value + 1:\n",
    "        break\n",
    "    else:\n",
    "        value = comparative_value\n",
    "    texte.append(item)"
   ]
  },
  {
   "cell_type": "code",
   "execution_count": 166,
   "id": "79dd59a1",
   "metadata": {},
   "outputs": [
    {
     "ename": "SyntaxError",
     "evalue": "invalid syntax (2758451246.py, line 8)",
     "output_type": "error",
     "traceback": [
      "\u001b[0;36m  Input \u001b[0;32mIn [166]\u001b[0;36m\u001b[0m\n\u001b[0;31m    elif re.match('[0-9]{1,2}\\.',item):\u001b[0m\n\u001b[0m    ^\u001b[0m\n\u001b[0;31mSyntaxError\u001b[0m\u001b[0;31m:\u001b[0m invalid syntax\n"
     ]
    }
   ],
   "source": [
    "texte = []\n",
    "value = 0\n",
    "for item in final_list:\n",
    "    if item == 'Rubrica:':\n",
    "        break\n",
    "    texte.append(item)\n",
    "    \n",
    "    elif re.match('[0-9]{1,2}\\.',item):\n",
    "        comparative_value = int(item[:-1])\n",
    "        if comparative_value != value + 1:\n",
    "            break\n",
    "        else:\n",
    "            value = comparative_value\n",
    "        texte.append(item)\n"
   ]
  },
  {
   "cell_type": "code",
   "execution_count": 148,
   "id": "3ff45c16",
   "metadata": {},
   "outputs": [],
   "source": [
    "def func1(texte, value):\n",
    "    for item in final_list:\n",
    "        if re.match('[0-9]{1,2}\\.',item):\n",
    "            comparative_value = int(item[:-1])\n",
    "            if comparative_value != value + 1:\n",
    "                break\n",
    "            else :\n",
    "                value = comparative_value\n",
    "        texte.append(item)\n",
    "        \n",
    "texte = []\n",
    "value = 0\n"
   ]
  },
  {
   "cell_type": "code",
   "execution_count": 152,
   "id": "e9fcc621",
   "metadata": {},
   "outputs": [],
   "source": [
    "from IPython.display import display"
   ]
  },
  {
   "cell_type": "code",
   "execution_count": 155,
   "id": "a3143095",
   "metadata": {
    "scrolled": true
   },
   "outputs": [
    {
     "data": {
      "text/plain": [
       "'superborum.'"
      ]
     },
     "execution_count": 155,
     "metadata": {},
     "output_type": "execute_result"
    }
   ],
   "source": [
    "texte"
   ]
  }
 ],
 "metadata": {
  "kernelspec": {
   "display_name": "Python 3 (ipykernel)",
   "language": "python",
   "name": "python3"
  },
  "language_info": {
   "codemirror_mode": {
    "name": "ipython",
    "version": 3
   },
   "file_extension": ".py",
   "mimetype": "text/x-python",
   "name": "python",
   "nbconvert_exporter": "python",
   "pygments_lexer": "ipython3",
   "version": "3.9.7"
  }
 },
 "nbformat": 4,
 "nbformat_minor": 5
}
